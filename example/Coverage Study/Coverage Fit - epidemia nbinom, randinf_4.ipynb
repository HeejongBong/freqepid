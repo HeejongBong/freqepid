{
 "cells": [
  {
   "cell_type": "code",
   "execution_count": 1,
   "id": "7f4ae65c",
   "metadata": {
    "scrolled": true
   },
   "outputs": [
    {
     "name": "stderr",
     "output_type": "stream",
     "text": [
      "Registering fonts with R\n",
      "\n",
      "── \u001b[1mAttaching core tidyverse packages\u001b[22m ───────────────────────────────────────────── tidyverse 2.0.0 ──\n",
      "\u001b[32m✔\u001b[39m \u001b[34mdplyr    \u001b[39m 1.1.2     \u001b[32m✔\u001b[39m \u001b[34mreadr    \u001b[39m 2.1.4\n",
      "\u001b[32m✔\u001b[39m \u001b[34mforcats  \u001b[39m 1.0.0     \u001b[32m✔\u001b[39m \u001b[34mstringr  \u001b[39m 1.5.0\n",
      "\u001b[32m✔\u001b[39m \u001b[34mggplot2  \u001b[39m 3.4.2     \u001b[32m✔\u001b[39m \u001b[34mtibble   \u001b[39m 3.2.1\n",
      "\u001b[32m✔\u001b[39m \u001b[34mlubridate\u001b[39m 1.9.2     \u001b[32m✔\u001b[39m \u001b[34mtidyr    \u001b[39m 1.3.0\n",
      "\u001b[32m✔\u001b[39m \u001b[34mpurrr    \u001b[39m 1.0.1     \n",
      "── \u001b[1mConflicts\u001b[22m ─────────────────────────────────────────────────────────────── tidyverse_conflicts() ──\n",
      "\u001b[31m✖\u001b[39m \u001b[34mdplyr\u001b[39m::\u001b[32mfilter()\u001b[39m masks \u001b[34mstats\u001b[39m::filter()\n",
      "\u001b[31m✖\u001b[39m \u001b[34mdplyr\u001b[39m::\u001b[32mlag()\u001b[39m    masks \u001b[34mstats\u001b[39m::lag()\n",
      "\u001b[36mℹ\u001b[39m Use the conflicted package (\u001b[3m\u001b[34m<http://conflicted.r-lib.org/>\u001b[39m\u001b[23m) to force all conflicts to become errors\n",
      "\n",
      "Attaching package: ‘arrow’\n",
      "\n",
      "\n",
      "The following object is masked from ‘package:lubridate’:\n",
      "\n",
      "    duration\n",
      "\n",
      "\n",
      "The following object is masked from ‘package:utils’:\n",
      "\n",
      "    timestamp\n",
      "\n",
      "\n"
     ]
    }
   ],
   "source": [
    "library(extrafont)\n",
    "library(tidyverse)\n",
    "library(epidemia)\n",
    "library(arrow)"
   ]
  },
  {
   "cell_type": "markdown",
   "id": "3bc1b32a",
   "metadata": {},
   "source": [
    "# 1. parameters"
   ]
  },
  {
   "cell_type": "code",
   "execution_count": 2,
   "id": "262260ab",
   "metadata": {},
   "outputs": [],
   "source": [
    "T = 60\n",
    "T0 = 40"
   ]
  },
  {
   "cell_type": "markdown",
   "id": "069af69f",
   "metadata": {},
   "source": [
    "## observation parameters"
   ]
  },
  {
   "cell_type": "code",
   "execution_count": 3,
   "id": "ae431fed",
   "metadata": {},
   "outputs": [],
   "source": [
    "alpha = 0.01\n",
    "r_Y = 10"
   ]
  },
  {
   "cell_type": "markdown",
   "id": "bce16711",
   "metadata": {},
   "source": [
    "$$Y_t = NegBinom( \\frac{EY_t}{r_Y + EY_t}, r_Y )$$\n",
    "\n",
    "$$ EY_t = \\alpha\\sum_{s=1}^{t-1} I_s \\pi_{t-s} $$"
   ]
  },
  {
   "cell_type": "markdown",
   "id": "1e23dc89",
   "metadata": {},
   "source": [
    "## latent parameters"
   ]
  },
  {
   "cell_type": "code",
   "execution_count": 4,
   "id": "9c096ba4",
   "metadata": {},
   "outputs": [],
   "source": [
    "d = 2\n",
    "beta = c(1, -3.2)"
   ]
  },
  {
   "cell_type": "code",
   "execution_count": 5,
   "id": "ebd4a5fb",
   "metadata": {},
   "outputs": [],
   "source": [
    "r_I = 100\n",
    "K = 6.5"
   ]
  },
  {
   "cell_type": "markdown",
   "id": "28d46910",
   "metadata": {},
   "source": [
    "$$I_t = NegBinom( \\frac{EI_t}{r_I + EI_t}, r_I )$$\n",
    "\n",
    "$$ EI_t = R(\\bar{A}_t, \\beta) \\sum_{s=1}^{t-1} I_s g_{t-s} $$\n",
    "\n",
    "$$R(\\bar{A}_t, \\beta) = \\frac{K}{1+\\exp(- \\beta^\\top A_t)}$$"
   ]
  },
  {
   "cell_type": "markdown",
   "id": "087ed62b",
   "metadata": {},
   "source": [
    "## seed values"
   ]
  },
  {
   "cell_type": "code",
   "execution_count": 6,
   "id": "3cdc8bb3",
   "metadata": {},
   "outputs": [],
   "source": [
    "mu = log(100)"
   ]
  },
  {
   "cell_type": "markdown",
   "id": "0451a962",
   "metadata": {},
   "source": [
    "$$I_{-T_0} = \\mu_0$$"
   ]
  },
  {
   "cell_type": "markdown",
   "id": "f44e24fc",
   "metadata": {},
   "source": [
    "# 2. fit"
   ]
  },
  {
   "cell_type": "code",
   "execution_count": 7,
   "id": "c9efbd00",
   "metadata": {},
   "outputs": [],
   "source": [
    "num_sim = 1000"
   ]
  },
  {
   "cell_type": "code",
   "execution_count": 8,
   "id": "7434622a",
   "metadata": {},
   "outputs": [],
   "source": [
    "data <- read_feather('data/simulation_halflong_4.feather')"
   ]
  },
  {
   "cell_type": "code",
   "execution_count": 9,
   "id": "db11987f",
   "metadata": {},
   "outputs": [
    {
     "data": {
      "text/html": [
       "<table class=\"dataframe\">\n",
       "<caption>A tibble: 6 × 8</caption>\n",
       "<thead>\n",
       "\t<tr><th scope=col>sim</th><th scope=col>date</th><th scope=col>R</th><th scope=col>EI</th><th scope=col>infection</th><th scope=col>EY</th><th scope=col>death</th><th scope=col>intervention</th></tr>\n",
       "\t<tr><th scope=col>&lt;int&gt;</th><th scope=col>&lt;int&gt;</th><th scope=col>&lt;dbl&gt;</th><th scope=col>&lt;dbl&gt;</th><th scope=col>&lt;dbl&gt;</th><th scope=col>&lt;dbl&gt;</th><th scope=col>&lt;int&gt;</th><th scope=col>&lt;int&gt;</th></tr>\n",
       "</thead>\n",
       "<tbody>\n",
       "\t<tr><td>0</td><td>0</td><td>4.751881</td><td> 475.1848</td><td> 516</td><td>0.9560691</td><td>1</td><td>0</td></tr>\n",
       "\t<tr><td>0</td><td>1</td><td>4.751881</td><td> 511.4127</td><td> 505</td><td>0.9625454</td><td>1</td><td>0</td></tr>\n",
       "\t<tr><td>0</td><td>2</td><td>4.751881</td><td> 642.0940</td><td> 669</td><td>0.9683539</td><td>1</td><td>0</td></tr>\n",
       "\t<tr><td>0</td><td>3</td><td>4.751881</td><td> 854.3569</td><td> 836</td><td>0.9741112</td><td>3</td><td>0</td></tr>\n",
       "\t<tr><td>0</td><td>4</td><td>4.751881</td><td>1148.1696</td><td> 942</td><td>0.9815892</td><td>1</td><td>0</td></tr>\n",
       "\t<tr><td>0</td><td>5</td><td>4.751881</td><td>1517.5377</td><td>1637</td><td>0.9935148</td><td>3</td><td>0</td></tr>\n",
       "</tbody>\n",
       "</table>\n"
      ],
      "text/latex": [
       "A tibble: 6 × 8\n",
       "\\begin{tabular}{llllllll}\n",
       " sim & date & R & EI & infection & EY & death & intervention\\\\\n",
       " <int> & <int> & <dbl> & <dbl> & <dbl> & <dbl> & <int> & <int>\\\\\n",
       "\\hline\n",
       "\t 0 & 0 & 4.751881 &  475.1848 &  516 & 0.9560691 & 1 & 0\\\\\n",
       "\t 0 & 1 & 4.751881 &  511.4127 &  505 & 0.9625454 & 1 & 0\\\\\n",
       "\t 0 & 2 & 4.751881 &  642.0940 &  669 & 0.9683539 & 1 & 0\\\\\n",
       "\t 0 & 3 & 4.751881 &  854.3569 &  836 & 0.9741112 & 3 & 0\\\\\n",
       "\t 0 & 4 & 4.751881 & 1148.1696 &  942 & 0.9815892 & 1 & 0\\\\\n",
       "\t 0 & 5 & 4.751881 & 1517.5377 & 1637 & 0.9935148 & 3 & 0\\\\\n",
       "\\end{tabular}\n"
      ],
      "text/markdown": [
       "\n",
       "A tibble: 6 × 8\n",
       "\n",
       "| sim &lt;int&gt; | date &lt;int&gt; | R &lt;dbl&gt; | EI &lt;dbl&gt; | infection &lt;dbl&gt; | EY &lt;dbl&gt; | death &lt;int&gt; | intervention &lt;int&gt; |\n",
       "|---|---|---|---|---|---|---|---|\n",
       "| 0 | 0 | 4.751881 |  475.1848 |  516 | 0.9560691 | 1 | 0 |\n",
       "| 0 | 1 | 4.751881 |  511.4127 |  505 | 0.9625454 | 1 | 0 |\n",
       "| 0 | 2 | 4.751881 |  642.0940 |  669 | 0.9683539 | 1 | 0 |\n",
       "| 0 | 3 | 4.751881 |  854.3569 |  836 | 0.9741112 | 3 | 0 |\n",
       "| 0 | 4 | 4.751881 | 1148.1696 |  942 | 0.9815892 | 1 | 0 |\n",
       "| 0 | 5 | 4.751881 | 1517.5377 | 1637 | 0.9935148 | 3 | 0 |\n",
       "\n"
      ],
      "text/plain": [
       "  sim date R        EI        infection EY        death intervention\n",
       "1 0   0    4.751881  475.1848  516      0.9560691 1     0           \n",
       "2 0   1    4.751881  511.4127  505      0.9625454 1     0           \n",
       "3 0   2    4.751881  642.0940  669      0.9683539 1     0           \n",
       "4 0   3    4.751881  854.3569  836      0.9741112 3     0           \n",
       "5 0   4    4.751881 1148.1696  942      0.9815892 1     0           \n",
       "6 0   5    4.751881 1517.5377 1637      0.9935148 3     0           "
      ]
     },
     "metadata": {},
     "output_type": "display_data"
    }
   ],
   "source": [
    "head(data)"
   ]
  },
  {
   "cell_type": "code",
   "execution_count": 13,
   "id": "6b417a2d",
   "metadata": {},
   "outputs": [],
   "source": [
    "rt <- epirt(formula = R(country, date) ~ 1 + intervention,\n",
    "            prior = shifted_gamma(shape = 1/6, scale = 1, shift = log(1.05)/6),\n",
    "            link = scaled_logit(6.5))"
   ]
  },
  {
   "cell_type": "code",
   "execution_count": 14,
   "id": "53874383",
   "metadata": {},
   "outputs": [],
   "source": [
    "inf <- epiinf(gen = EuropeCovid$si, seed_days = T0)"
   ]
  },
  {
   "cell_type": "code",
   "execution_count": 15,
   "id": "f849d6e7",
   "metadata": {},
   "outputs": [
    {
     "name": "stderr",
     "output_type": "stream",
     "text": [
      "Warning message:\n",
      "“i2o does not sum to one. Please ensure this is intentional.”\n"
     ]
    }
   ],
   "source": [
    "deaths <- epiobs(formula = death ~ 1, i2o = EuropeCovid2$inf2death,\n",
    "                 prior_intercept = normal(0, 0.2), link = scaled_logit(0.02))"
   ]
  },
  {
   "cell_type": "code",
   "execution_count": 16,
   "id": "b51b3962",
   "metadata": {},
   "outputs": [],
   "source": [
    "results = array(0, c(num_sim, 6))\n",
    "colnames(results)=c('b[0]','b[1]','V[0,0]','V[1,0]','V[0,1]','V[1,1]')"
   ]
  },
  {
   "cell_type": "code",
   "execution_count": 17,
   "id": "e75f0162",
   "metadata": {
    "scrolled": true
   },
   "outputs": [
    {
     "name": "stdout",
     "output_type": "stream",
     "text": [
      "[1] \"1-th simulation finished, 3.506 sec.\"\n"
     ]
    },
    {
     "name": "stderr",
     "output_type": "stream",
     "text": [
      "Warning message:\n",
      "“Pareto k diagnostic value is 0.93. Resampling is unreliable. Increasing the number of draws or decreasing tol_rel_obj may help.”\n"
     ]
    },
    {
     "name": "stdout",
     "output_type": "stream",
     "text": [
      "[1] \"2-th simulation finished, 4.926 sec.\"\n"
     ]
    },
    {
     "name": "stderr",
     "output_type": "stream",
     "text": [
      "Warning message:\n",
      "“Pareto k diagnostic value is 0.85. Resampling is unreliable. Increasing the number of draws or decreasing tol_rel_obj may help.”\n"
     ]
    },
    {
     "name": "stdout",
     "output_type": "stream",
     "text": [
      "[1] \"3-th simulation finished, 4.70399999999999 sec.\"\n"
     ]
    },
    {
     "name": "stderr",
     "output_type": "stream",
     "text": [
      "Warning message:\n",
      "“Pareto k diagnostic value is 0.91. Resampling is unreliable. Increasing the number of draws or decreasing tol_rel_obj may help.”\n"
     ]
    },
    {
     "name": "stdout",
     "output_type": "stream",
     "text": [
      "[1] \"4-th simulation finished, 4.66200000000001 sec.\"\n"
     ]
    },
    {
     "name": "stderr",
     "output_type": "stream",
     "text": [
      "Warning message:\n",
      "“Pareto k diagnostic value is 0.89. Resampling is unreliable. Increasing the number of draws or decreasing tol_rel_obj may help.”\n"
     ]
    },
    {
     "name": "stdout",
     "output_type": "stream",
     "text": [
      "[1] \"5-th simulation finished, 4.726 sec.\"\n"
     ]
    },
    {
     "name": "stderr",
     "output_type": "stream",
     "text": [
      "Warning message:\n",
      "“Pareto k diagnostic value is 0.9. Resampling is unreliable. Increasing the number of draws or decreasing tol_rel_obj may help.”\n"
     ]
    },
    {
     "name": "stdout",
     "output_type": "stream",
     "text": [
      "[1] \"6-th simulation finished, 4.65300000000001 sec.\"\n",
      "[1] \"7-th simulation finished, 3.43600000000001 sec.\"\n"
     ]
    },
    {
     "name": "stderr",
     "output_type": "stream",
     "text": [
      "Warning message:\n",
      "“Pareto k diagnostic value is 0.8. Resampling is unreliable. Increasing the number of draws or decreasing tol_rel_obj may help.”\n"
     ]
    },
    {
     "name": "stdout",
     "output_type": "stream",
     "text": [
      "[1] \"8-th simulation finished, 4.655 sec.\"\n",
      "[1] \"9-th simulation finished, 3.295 sec.\"\n",
      "[1] \"10-th simulation finished, 2.08999999999999 sec.\"\n",
      "[1] \"11-th simulation finished, 3.312 sec.\"\n"
     ]
    },
    {
     "name": "stderr",
     "output_type": "stream",
     "text": [
      "Warning message:\n",
      "“Pareto k diagnostic value is 0.89. Resampling is unreliable. Increasing the number of draws or decreasing tol_rel_obj may help.”\n"
     ]
    },
    {
     "name": "stdout",
     "output_type": "stream",
     "text": [
      "[1] \"12-th simulation finished, 4.675 sec.\"\n",
      "[1] \"13-th simulation finished, 3.31200000000001 sec.\"\n",
      "[1] \"14-th simulation finished, 2.173 sec.\"\n",
      "[1] \"15-th simulation finished, 4.70699999999999 sec.\"\n",
      "[1] \"16-th simulation finished, 3.40000000000001 sec.\"\n",
      "[1] \"17-th simulation finished, 4.81 sec.\"\n"
     ]
    },
    {
     "name": "stderr",
     "output_type": "stream",
     "text": [
      "Warning message:\n",
      "“Pareto k diagnostic value is 0.87. Resampling is unreliable. Increasing the number of draws or decreasing tol_rel_obj may help.”\n"
     ]
    },
    {
     "name": "stdout",
     "output_type": "stream",
     "text": [
      "[1] \"18-th simulation finished, 4.69800000000001 sec.\"\n",
      "[1] \"19-th simulation finished, 2.07999999999998 sec.\"\n",
      "[1] \"20-th simulation finished, 4.56200000000001 sec.\"\n"
     ]
    },
    {
     "name": "stderr",
     "output_type": "stream",
     "text": [
      "Warning message:\n",
      "“Pareto k diagnostic value is 0.88. Resampling is unreliable. Increasing the number of draws or decreasing tol_rel_obj may help.”\n"
     ]
    },
    {
     "name": "stdout",
     "output_type": "stream",
     "text": [
      "[1] \"21-th simulation finished, 4.67899999999997 sec.\"\n",
      "[1] \"22-th simulation finished, 2.25900000000001 sec.\"\n"
     ]
    },
    {
     "name": "stderr",
     "output_type": "stream",
     "text": [
      "Warning message:\n",
      "“Pareto k diagnostic value is 0.89. Resampling is unreliable. Increasing the number of draws or decreasing tol_rel_obj may help.”\n"
     ]
    },
    {
     "name": "stdout",
     "output_type": "stream",
     "text": [
      "[1] \"23-th simulation finished, 4.64499999999998 sec.\"\n",
      "[1] \"24-th simulation finished, 3.29500000000002 sec.\"\n"
     ]
    },
    {
     "name": "stderr",
     "output_type": "stream",
     "text": [
      "Warning message:\n",
      "“Pareto k diagnostic value is 0.78. Resampling is unreliable. Increasing the number of draws or decreasing tol_rel_obj may help.”\n"
     ]
    },
    {
     "name": "stdout",
     "output_type": "stream",
     "text": [
      "[1] \"25-th simulation finished, 2.28999999999999 sec.\"\n",
      "[1] \"26-th simulation finished, 2.15899999999999 sec.\"\n",
      "[1] \"27-th simulation finished, 4.69999999999999 sec.\"\n",
      "[1] \"28-th simulation finished, 2.13300000000001 sec.\"\n",
      "[1] \"29-th simulation finished, 4.60900000000001 sec.\"\n",
      "[1] \"30-th simulation finished, 2.202 sec.\"\n",
      "[1] \"31-th simulation finished, 4.661 sec.\"\n"
     ]
    },
    {
     "name": "stderr",
     "output_type": "stream",
     "text": [
      "Warning message:\n",
      "“Pareto k diagnostic value is 0.87. Resampling is unreliable. Increasing the number of draws or decreasing tol_rel_obj may help.”\n"
     ]
    },
    {
     "name": "stdout",
     "output_type": "stream",
     "text": [
      "[1] \"32-th simulation finished, 4.715 sec.\"\n"
     ]
    },
    {
     "name": "stderr",
     "output_type": "stream",
     "text": [
      "Warning message:\n",
      "“Pareto k diagnostic value is 0.72. Resampling is unreliable. Increasing the number of draws or decreasing tol_rel_obj may help.”\n"
     ]
    },
    {
     "name": "stdout",
     "output_type": "stream",
     "text": [
      "[1] \"33-th simulation finished, 2.32299999999998 sec.\"\n"
     ]
    },
    {
     "name": "stderr",
     "output_type": "stream",
     "text": [
      "Warning message:\n",
      "“Pareto k diagnostic value is 0.82. Resampling is unreliable. Increasing the number of draws or decreasing tol_rel_obj may help.”\n"
     ]
    },
    {
     "name": "stdout",
     "output_type": "stream",
     "text": [
      "[1] \"34-th simulation finished, 4.74800000000002 sec.\"\n"
     ]
    },
    {
     "name": "stderr",
     "output_type": "stream",
     "text": [
      "Warning message:\n",
      "“Pareto k diagnostic value is 0.89. Resampling is unreliable. Increasing the number of draws or decreasing tol_rel_obj may help.”\n"
     ]
    },
    {
     "name": "stdout",
     "output_type": "stream",
     "text": [
      "[1] \"35-th simulation finished, 4.74699999999999 sec.\"\n"
     ]
    },
    {
     "name": "stderr",
     "output_type": "stream",
     "text": [
      "Warning message:\n",
      "“Pareto k diagnostic value is 0.84. Resampling is unreliable. Increasing the number of draws or decreasing tol_rel_obj may help.”\n"
     ]
    },
    {
     "name": "stdout",
     "output_type": "stream",
     "text": [
      "[1] \"36-th simulation finished, 4.68300000000002 sec.\"\n"
     ]
    },
    {
     "name": "stderr",
     "output_type": "stream",
     "text": [
      "Warning message:\n",
      "“Pareto k diagnostic value is 0.85. Resampling is unreliable. Increasing the number of draws or decreasing tol_rel_obj may help.”\n"
     ]
    },
    {
     "name": "stdout",
     "output_type": "stream",
     "text": [
      "[1] \"37-th simulation finished, 4.643 sec.\"\n"
     ]
    },
    {
     "name": "stderr",
     "output_type": "stream",
     "text": [
      "Warning message:\n",
      "“Pareto k diagnostic value is 0.92. Resampling is unreliable. Increasing the number of draws or decreasing tol_rel_obj may help.”\n"
     ]
    },
    {
     "name": "stdout",
     "output_type": "stream",
     "text": [
      "[1] \"38-th simulation finished, 4.65300000000002 sec.\"\n",
      "[1] \"39-th simulation finished, 3.346 sec.\"\n",
      "[1] \"40-th simulation finished, 4.649 sec.\"\n",
      "[1] \"41-th simulation finished, 2.155 sec.\"\n"
     ]
    },
    {
     "name": "stderr",
     "output_type": "stream",
     "text": [
      "Warning message:\n",
      "“Pareto k diagnostic value is 0.86. Resampling is unreliable. Increasing the number of draws or decreasing tol_rel_obj may help.”\n"
     ]
    },
    {
     "name": "stdout",
     "output_type": "stream",
     "text": [
      "[1] \"42-th simulation finished, 4.66 sec.\"\n",
      "[1] \"43-th simulation finished, 2.136 sec.\"\n",
      "[1] \"44-th simulation finished, 4.749 sec.\"\n"
     ]
    },
    {
     "name": "stderr",
     "output_type": "stream",
     "text": [
      "Warning message:\n",
      "“Pareto k diagnostic value is 0.9. Resampling is unreliable. Increasing the number of draws or decreasing tol_rel_obj may help.”\n"
     ]
    },
    {
     "name": "stdout",
     "output_type": "stream",
     "text": [
      "[1] \"45-th simulation finished, 4.67599999999999 sec.\"\n"
     ]
    },
    {
     "name": "stderr",
     "output_type": "stream",
     "text": [
      "Warning message:\n",
      "“Pareto k diagnostic value is 0.89. Resampling is unreliable. Increasing the number of draws or decreasing tol_rel_obj may help.”\n"
     ]
    },
    {
     "name": "stdout",
     "output_type": "stream",
     "text": [
      "[1] \"46-th simulation finished, 4.70700000000002 sec.\"\n",
      "[1] \"47-th simulation finished, 4.72300000000001 sec.\"\n",
      "[1] \"48-th simulation finished, 3.35400000000004 sec.\"\n",
      "[1] \"49-th simulation finished, 3.26799999999997 sec.\"\n"
     ]
    },
    {
     "name": "stderr",
     "output_type": "stream",
     "text": [
      "Warning message:\n",
      "“Pareto k diagnostic value is 0.84. Resampling is unreliable. Increasing the number of draws or decreasing tol_rel_obj may help.”\n"
     ]
    },
    {
     "name": "stdout",
     "output_type": "stream",
     "text": [
      "[1] \"50-th simulation finished, 4.68800000000005 sec.\"\n",
      "[1] \"51-th simulation finished, 2.15100000000001 sec.\"\n",
      "[1] \"52-th simulation finished, 3.21300000000002 sec.\"\n"
     ]
    },
    {
     "name": "stderr",
     "output_type": "stream",
     "text": [
      "Warning message:\n",
      "“Pareto k diagnostic value is 0.73. Resampling is unreliable. Increasing the number of draws or decreasing tol_rel_obj may help.”\n"
     ]
    },
    {
     "name": "stdout",
     "output_type": "stream",
     "text": [
      "[1] \"53-th simulation finished, 2.262 sec.\"\n"
     ]
    },
    {
     "name": "stderr",
     "output_type": "stream",
     "text": [
      "Warning message:\n",
      "“Pareto k diagnostic value is 0.89. Resampling is unreliable. Increasing the number of draws or decreasing tol_rel_obj may help.”\n"
     ]
    },
    {
     "name": "stdout",
     "output_type": "stream",
     "text": [
      "[1] \"54-th simulation finished, 4.67000000000002 sec.\"\n"
     ]
    },
    {
     "name": "stderr",
     "output_type": "stream",
     "text": [
      "Warning message:\n",
      "“Pareto k diagnostic value is 0.74. Resampling is unreliable. Increasing the number of draws or decreasing tol_rel_obj may help.”\n"
     ]
    },
    {
     "name": "stdout",
     "output_type": "stream",
     "text": [
      "[1] \"55-th simulation finished, 2.274 sec.\"\n",
      "[1] \"56-th simulation finished, 2.02999999999997 sec.\"\n"
     ]
    },
    {
     "name": "stderr",
     "output_type": "stream",
     "text": [
      "Warning message:\n",
      "“Pareto k diagnostic value is 0.85. Resampling is unreliable. Increasing the number of draws or decreasing tol_rel_obj may help.”\n"
     ]
    },
    {
     "name": "stdout",
     "output_type": "stream",
     "text": [
      "[1] \"57-th simulation finished, 4.70400000000001 sec.\"\n"
     ]
    },
    {
     "name": "stderr",
     "output_type": "stream",
     "text": [
      "Warning message:\n",
      "“Pareto k diagnostic value is 0.93. Resampling is unreliable. Increasing the number of draws or decreasing tol_rel_obj may help.”\n"
     ]
    },
    {
     "name": "stdout",
     "output_type": "stream",
     "text": [
      "[1] \"58-th simulation finished, 4.71100000000001 sec.\"\n"
     ]
    },
    {
     "name": "stderr",
     "output_type": "stream",
     "text": [
      "Warning message:\n",
      "“Pareto k diagnostic value is 0.87. Resampling is unreliable. Increasing the number of draws or decreasing tol_rel_obj may help.”\n"
     ]
    },
    {
     "name": "stdout",
     "output_type": "stream",
     "text": [
      "[1] \"59-th simulation finished, 4.69799999999998 sec.\"\n",
      "[1] \"60-th simulation finished, 3.24399999999997 sec.\"\n",
      "[1] \"61-th simulation finished, 4.62799999999999 sec.\"\n",
      "[1] \"62-th simulation finished, 3.33199999999999 sec.\"\n",
      "[1] \"63-th simulation finished, 3.375 sec.\"\n"
     ]
    },
    {
     "name": "stderr",
     "output_type": "stream",
     "text": [
      "Warning message:\n",
      "“Pareto k diagnostic value is 0.82. Resampling is unreliable. Increasing the number of draws or decreasing tol_rel_obj may help.”\n"
     ]
    },
    {
     "name": "stdout",
     "output_type": "stream",
     "text": [
      "[1] \"64-th simulation finished, 4.69099999999997 sec.\"\n",
      "[1] \"65-th simulation finished, 4.76300000000003 sec.\"\n",
      "[1] \"66-th simulation finished, 1.99699999999996 sec.\"\n"
     ]
    },
    {
     "name": "stderr",
     "output_type": "stream",
     "text": [
      "Warning message:\n",
      "“Pareto k diagnostic value is 0.86. Resampling is unreliable. Increasing the number of draws or decreasing tol_rel_obj may help.”\n"
     ]
    },
    {
     "name": "stdout",
     "output_type": "stream",
     "text": [
      "[1] \"67-th simulation finished, 4.68399999999997 sec.\"\n"
     ]
    },
    {
     "name": "stderr",
     "output_type": "stream",
     "text": [
      "Warning message:\n",
      "“Pareto k diagnostic value is 0.84. Resampling is unreliable. Increasing the number of draws or decreasing tol_rel_obj may help.”\n"
     ]
    },
    {
     "name": "stdout",
     "output_type": "stream",
     "text": [
      "[1] \"68-th simulation finished, 4.68200000000002 sec.\"\n"
     ]
    },
    {
     "name": "stderr",
     "output_type": "stream",
     "text": [
      "Warning message:\n",
      "“Pareto k diagnostic value is 0.88. Resampling is unreliable. Increasing the number of draws or decreasing tol_rel_obj may help.”\n"
     ]
    },
    {
     "name": "stdout",
     "output_type": "stream",
     "text": [
      "[1] \"69-th simulation finished, 4.697 sec.\"\n",
      "[1] \"70-th simulation finished, 2.15000000000003 sec.\"\n"
     ]
    },
    {
     "name": "stderr",
     "output_type": "stream",
     "text": [
      "Warning message:\n",
      "“Pareto k diagnostic value is 0.91. Resampling is unreliable. Increasing the number of draws or decreasing tol_rel_obj may help.”\n"
     ]
    },
    {
     "name": "stdout",
     "output_type": "stream",
     "text": [
      "[1] \"71-th simulation finished, 4.69600000000003 sec.\"\n",
      "[1] \"72-th simulation finished, 4.78899999999999 sec.\"\n",
      "[1] \"73-th simulation finished, 4.63800000000003 sec.\"\n",
      "[1] \"74-th simulation finished, 3.30500000000001 sec.\"\n",
      "[1] \"75-th simulation finished, 2.15899999999999 sec.\"\n",
      "[1] \"76-th simulation finished, 2.14800000000002 sec.\"\n"
     ]
    },
    {
     "name": "stderr",
     "output_type": "stream",
     "text": [
      "Warning message:\n",
      "“Pareto k diagnostic value is 0.81. Resampling is unreliable. Increasing the number of draws or decreasing tol_rel_obj may help.”\n"
     ]
    },
    {
     "name": "stdout",
     "output_type": "stream",
     "text": [
      "[1] \"77-th simulation finished, 4.68299999999999 sec.\"\n",
      "[1] \"78-th simulation finished, 4.64500000000004 sec.\"\n",
      "[1] \"79-th simulation finished, 4.67399999999998 sec.\"\n",
      "[1] \"80-th simulation finished, 3.31099999999998 sec.\"\n",
      "[1] \"81-th simulation finished, 2.173 sec.\"\n",
      "[1] \"82-th simulation finished, 4.64800000000002 sec.\"\n",
      "[1] \"83-th simulation finished, 4.64400000000001 sec.\"\n"
     ]
    },
    {
     "name": "stderr",
     "output_type": "stream",
     "text": [
      "Warning message:\n",
      "“Pareto k diagnostic value is 0.84. Resampling is unreliable. Increasing the number of draws or decreasing tol_rel_obj may help.”\n"
     ]
    },
    {
     "name": "stdout",
     "output_type": "stream",
     "text": [
      "[1] \"84-th simulation finished, 4.67500000000001 sec.\"\n",
      "[1] \"85-th simulation finished, 4.54400000000004 sec.\"\n"
     ]
    },
    {
     "name": "stderr",
     "output_type": "stream",
     "text": [
      "Warning message:\n",
      "“Pareto k diagnostic value is 0.86. Resampling is unreliable. Increasing the number of draws or decreasing tol_rel_obj may help.”\n"
     ]
    },
    {
     "name": "stdout",
     "output_type": "stream",
     "text": [
      "[1] \"86-th simulation finished, 4.71100000000001 sec.\"\n"
     ]
    },
    {
     "name": "stderr",
     "output_type": "stream",
     "text": [
      "Warning message:\n",
      "“Pareto k diagnostic value is 0.86. Resampling is unreliable. Increasing the number of draws or decreasing tol_rel_obj may help.”\n"
     ]
    },
    {
     "name": "stdout",
     "output_type": "stream",
     "text": [
      "[1] \"87-th simulation finished, 4.67000000000002 sec.\"\n",
      "[1] \"88-th simulation finished, 2.15700000000004 sec.\"\n",
      "[1] \"89-th simulation finished, 3.29700000000003 sec.\"\n"
     ]
    },
    {
     "name": "stderr",
     "output_type": "stream",
     "text": [
      "Warning message:\n",
      "“Pareto k diagnostic value is 0.85. Resampling is unreliable. Increasing the number of draws or decreasing tol_rel_obj may help.”\n"
     ]
    },
    {
     "name": "stdout",
     "output_type": "stream",
     "text": [
      "[1] \"90-th simulation finished, 4.84699999999998 sec.\"\n"
     ]
    },
    {
     "name": "stderr",
     "output_type": "stream",
     "text": [
      "Warning message:\n",
      "“Pareto k diagnostic value is 0.9. Resampling is unreliable. Increasing the number of draws or decreasing tol_rel_obj may help.”\n"
     ]
    },
    {
     "name": "stdout",
     "output_type": "stream",
     "text": [
      "[1] \"91-th simulation finished, 4.73699999999997 sec.\"\n"
     ]
    },
    {
     "name": "stderr",
     "output_type": "stream",
     "text": [
      "Warning message:\n",
      "“Pareto k diagnostic value is 0.83. Resampling is unreliable. Increasing the number of draws or decreasing tol_rel_obj may help.”\n"
     ]
    },
    {
     "name": "stdout",
     "output_type": "stream",
     "text": [
      "[1] \"92-th simulation finished, 4.76599999999996 sec.\"\n",
      "[1] \"93-th simulation finished, 3.30900000000003 sec.\"\n"
     ]
    },
    {
     "name": "stderr",
     "output_type": "stream",
     "text": [
      "Warning message:\n",
      "“Pareto k diagnostic value is 0.86. Resampling is unreliable. Increasing the number of draws or decreasing tol_rel_obj may help.”\n"
     ]
    },
    {
     "name": "stdout",
     "output_type": "stream",
     "text": [
      "[1] \"94-th simulation finished, 4.74400000000003 sec.\"\n"
     ]
    },
    {
     "name": "stderr",
     "output_type": "stream",
     "text": [
      "Warning message:\n",
      "“Pareto k diagnostic value is 0.82. Resampling is unreliable. Increasing the number of draws or decreasing tol_rel_obj may help.”\n"
     ]
    },
    {
     "name": "stdout",
     "output_type": "stream",
     "text": [
      "[1] \"95-th simulation finished, 4.76499999999999 sec.\"\n",
      "[1] \"96-th simulation finished, 4.69399999999996 sec.\"\n"
     ]
    },
    {
     "name": "stderr",
     "output_type": "stream",
     "text": [
      "Warning message:\n",
      "“Pareto k diagnostic value is 0.89. Resampling is unreliable. Increasing the number of draws or decreasing tol_rel_obj may help.”\n"
     ]
    },
    {
     "name": "stdout",
     "output_type": "stream",
     "text": [
      "[1] \"97-th simulation finished, 4.71800000000002 sec.\"\n",
      "[1] \"98-th simulation finished, 2.17600000000004 sec.\"\n"
     ]
    },
    {
     "name": "stderr",
     "output_type": "stream",
     "text": [
      "Warning message:\n",
      "“Pareto k diagnostic value is 0.83. Resampling is unreliable. Increasing the number of draws or decreasing tol_rel_obj may help.”\n"
     ]
    },
    {
     "name": "stdout",
     "output_type": "stream",
     "text": [
      "[1] \"99-th simulation finished, 4.73699999999997 sec.\"\n",
      "[1] \"100-th simulation finished, 2.15899999999999 sec.\"\n",
      "[1] \"101-th simulation finished, 2.05700000000002 sec.\"\n"
     ]
    },
    {
     "name": "stderr",
     "output_type": "stream",
     "text": [
      "Warning message:\n",
      "“Pareto k diagnostic value is 0.89. Resampling is unreliable. Increasing the number of draws or decreasing tol_rel_obj may help.”\n"
     ]
    },
    {
     "name": "stdout",
     "output_type": "stream",
     "text": [
      "[1] \"102-th simulation finished, 4.76400000000001 sec.\"\n"
     ]
    },
    {
     "name": "stderr",
     "output_type": "stream",
     "text": [
      "Warning message:\n",
      "“Pareto k diagnostic value is 0.85. Resampling is unreliable. Increasing the number of draws or decreasing tol_rel_obj may help.”\n"
     ]
    },
    {
     "name": "stdout",
     "output_type": "stream",
     "text": [
      "[1] \"103-th simulation finished, 4.709 sec.\"\n",
      "[1] \"104-th simulation finished, 2.08499999999998 sec.\"\n",
      "[1] \"105-th simulation finished, 2.15100000000001 sec.\"\n"
     ]
    },
    {
     "name": "stderr",
     "output_type": "stream",
     "text": [
      "Warning message:\n",
      "“Pareto k diagnostic value is 0.81. Resampling is unreliable. Increasing the number of draws or decreasing tol_rel_obj may help.”\n"
     ]
    },
    {
     "name": "stdout",
     "output_type": "stream",
     "text": [
      "[1] \"106-th simulation finished, 4.82999999999998 sec.\"\n",
      "[1] \"107-th simulation finished, 5.29400000000004 sec.\"\n"
     ]
    },
    {
     "name": "stderr",
     "output_type": "stream",
     "text": [
      "Warning message:\n",
      "“Pareto k diagnostic value is 0.87. Resampling is unreliable. Increasing the number of draws or decreasing tol_rel_obj may help.”\n"
     ]
    },
    {
     "name": "stdout",
     "output_type": "stream",
     "text": [
      "[1] \"108-th simulation finished, 4.78199999999998 sec.\"\n",
      "[1] \"109-th simulation finished, 3.42000000000002 sec.\"\n"
     ]
    },
    {
     "name": "stderr",
     "output_type": "stream",
     "text": [
      "Warning message:\n",
      "“Pareto k diagnostic value is 0.91. Resampling is unreliable. Increasing the number of draws or decreasing tol_rel_obj may help.”\n"
     ]
    },
    {
     "name": "stdout",
     "output_type": "stream",
     "text": [
      "[1] \"110-th simulation finished, 4.71300000000002 sec.\"\n",
      "[1] \"111-th simulation finished, 2.20999999999998 sec.\"\n"
     ]
    },
    {
     "name": "stderr",
     "output_type": "stream",
     "text": [
      "Warning message:\n",
      "“Pareto k diagnostic value is 0.86. Resampling is unreliable. Increasing the number of draws or decreasing tol_rel_obj may help.”\n"
     ]
    },
    {
     "name": "stdout",
     "output_type": "stream",
     "text": [
      "[1] \"112-th simulation finished, 4.74000000000007 sec.\"\n",
      "[1] \"113-th simulation finished, 4.64499999999998 sec.\"\n",
      "[1] \"114-th simulation finished, 2.09900000000005 sec.\"\n",
      "[1] \"115-th simulation finished, 4.67399999999998 sec.\"\n"
     ]
    },
    {
     "name": "stderr",
     "output_type": "stream",
     "text": [
      "Warning message:\n",
      "“Pareto k diagnostic value is 0.84. Resampling is unreliable. Increasing the number of draws or decreasing tol_rel_obj may help.”\n"
     ]
    },
    {
     "name": "stdout",
     "output_type": "stream",
     "text": [
      "[1] \"116-th simulation finished, 4.74900000000002 sec.\"\n",
      "[1] \"117-th simulation finished, 2.178 sec.\"\n",
      "[1] \"118-th simulation finished, 4.61300000000006 sec.\"\n"
     ]
    },
    {
     "name": "stderr",
     "output_type": "stream",
     "text": [
      "Warning message:\n",
      "“Pareto k diagnostic value is 0.88. Resampling is unreliable. Increasing the number of draws or decreasing tol_rel_obj may help.”\n"
     ]
    },
    {
     "name": "stdout",
     "output_type": "stream",
     "text": [
      "[1] \"119-th simulation finished, 4.72299999999996 sec.\"\n"
     ]
    },
    {
     "name": "stderr",
     "output_type": "stream",
     "text": [
      "Warning message:\n",
      "“Pareto k diagnostic value is 0.8. Resampling is unreliable. Increasing the number of draws or decreasing tol_rel_obj may help.”\n"
     ]
    },
    {
     "name": "stdout",
     "output_type": "stream",
     "text": [
      "[1] \"120-th simulation finished, 4.7639999999999 sec.\"\n",
      "[1] \"121-th simulation finished, 1.99199999999996 sec.\"\n",
      "[1] \"122-th simulation finished, 4.82500000000005 sec.\"\n",
      "[1] \"123-th simulation finished, 4.66099999999994 sec.\"\n",
      "[1] \"124-th simulation finished, 2.15499999999997 sec.\"\n"
     ]
    },
    {
     "name": "stderr",
     "output_type": "stream",
     "text": [
      "Warning message:\n",
      "“Pareto k diagnostic value is 0.89. Resampling is unreliable. Increasing the number of draws or decreasing tol_rel_obj may help.”\n"
     ]
    },
    {
     "name": "stdout",
     "output_type": "stream",
     "text": [
      "[1] \"125-th simulation finished, 4.755 sec.\"\n",
      "[1] \"126-th simulation finished, 2.20900000000006 sec.\"\n",
      "[1] \"127-th simulation finished, 2.06899999999996 sec.\"\n"
     ]
    },
    {
     "name": "stderr",
     "output_type": "stream",
     "text": [
      "Warning message:\n",
      "“Pareto k diagnostic value is 0.88. Resampling is unreliable. Increasing the number of draws or decreasing tol_rel_obj may help.”\n"
     ]
    },
    {
     "name": "stdout",
     "output_type": "stream",
     "text": [
      "[1] \"128-th simulation finished, 4.7829999999999 sec.\"\n",
      "[1] \"129-th simulation finished, 2.14299999999992 sec.\"\n",
      "[1] \"130-th simulation finished, 2.15600000000006 sec.\"\n",
      "[1] \"131-th simulation finished, 4.62800000000004 sec.\"\n",
      "[1] \"132-th simulation finished, 3.279 sec.\"\n"
     ]
    },
    {
     "name": "stderr",
     "output_type": "stream",
     "text": [
      "Warning message:\n",
      "“Pareto k diagnostic value is 0.87. Resampling is unreliable. Increasing the number of draws or decreasing tol_rel_obj may help.”\n"
     ]
    },
    {
     "name": "stdout",
     "output_type": "stream",
     "text": [
      "[1] \"133-th simulation finished, 4.71799999999996 sec.\"\n",
      "[1] \"134-th simulation finished, 2.19000000000005 sec.\"\n",
      "[1] \"135-th simulation finished, 4.78800000000001 sec.\"\n",
      "[1] \"136-th simulation finished, 2.17500000000007 sec.\"\n",
      "[1] \"137-th simulation finished, 2.125 sec.\"\n",
      "[1] \"138-th simulation finished, 4.65699999999993 sec.\"\n",
      "[1] \"139-th simulation finished, 3.36500000000001 sec.\"\n",
      "[1] \"140-th simulation finished, 3.279 sec.\"\n",
      "[1] \"141-th simulation finished, 2.21000000000004 sec.\"\n"
     ]
    },
    {
     "name": "stderr",
     "output_type": "stream",
     "text": [
      "Warning message:\n",
      "“Pareto k diagnostic value is 0.86. Resampling is unreliable. Increasing the number of draws or decreasing tol_rel_obj may help.”\n"
     ]
    },
    {
     "name": "stdout",
     "output_type": "stream",
     "text": [
      "[1] \"142-th simulation finished, 4.80499999999995 sec.\"\n",
      "[1] \"143-th simulation finished, 3.41100000000006 sec.\"\n",
      "[1] \"144-th simulation finished, 3.34299999999996 sec.\"\n"
     ]
    },
    {
     "name": "stderr",
     "output_type": "stream",
     "text": [
      "Warning message:\n",
      "“Pareto k diagnostic value is 0.75. Resampling is unreliable. Increasing the number of draws or decreasing tol_rel_obj may help.”\n"
     ]
    },
    {
     "name": "stdout",
     "output_type": "stream",
     "text": [
      "[1] \"145-th simulation finished, 2.28399999999999 sec.\"\n",
      "[1] \"146-th simulation finished, 3.30800000000011 sec.\"\n",
      "[1] \"147-th simulation finished, 2.25099999999998 sec.\"\n",
      "[1] \"148-th simulation finished, 3.38499999999999 sec.\"\n",
      "[1] \"149-th simulation finished, 2.18000000000006 sec.\"\n",
      "[1] \"150-th simulation finished, 3.346 sec.\"\n"
     ]
    },
    {
     "name": "stderr",
     "output_type": "stream",
     "text": [
      "Warning message:\n",
      "“Pareto k diagnostic value is 0.83. Resampling is unreliable. Increasing the number of draws or decreasing tol_rel_obj may help.”\n"
     ]
    },
    {
     "name": "stdout",
     "output_type": "stream",
     "text": [
      "[1] \"151-th simulation finished, 4.67999999999995 sec.\"\n",
      "[1] \"152-th simulation finished, 2.16300000000001 sec.\"\n",
      "[1] \"153-th simulation finished, 4.64300000000003 sec.\"\n",
      "[1] \"154-th simulation finished, 2.03100000000006 sec.\"\n"
     ]
    },
    {
     "name": "stderr",
     "output_type": "stream",
     "text": [
      "Warning message:\n",
      "“Pareto k diagnostic value is 0.86. Resampling is unreliable. Increasing the number of draws or decreasing tol_rel_obj may help.”\n"
     ]
    },
    {
     "name": "stdout",
     "output_type": "stream",
     "text": [
      "[1] \"155-th simulation finished, 4.71100000000001 sec.\"\n"
     ]
    },
    {
     "name": "stderr",
     "output_type": "stream",
     "text": [
      "Warning message:\n",
      "“Pareto k diagnostic value is 0.8. Resampling is unreliable. Increasing the number of draws or decreasing tol_rel_obj may help.”\n"
     ]
    },
    {
     "name": "stdout",
     "output_type": "stream",
     "text": [
      "[1] \"156-th simulation finished, 4.76999999999998 sec.\"\n",
      "[1] \"157-th simulation finished, 4.68799999999999 sec.\"\n",
      "[1] \"158-th simulation finished, 2.17700000000002 sec.\"\n",
      "[1] \"159-th simulation finished, 2.154 sec.\"\n",
      "[1] \"160-th simulation finished, 3.31700000000001 sec.\"\n"
     ]
    },
    {
     "name": "stderr",
     "output_type": "stream",
     "text": [
      "Warning message:\n",
      "“Pareto k diagnostic value is 0.9. Resampling is unreliable. Increasing the number of draws or decreasing tol_rel_obj may help.”\n"
     ]
    },
    {
     "name": "stdout",
     "output_type": "stream",
     "text": [
      "[1] \"161-th simulation finished, 4.74199999999996 sec.\"\n",
      "[1] \"162-th simulation finished, 4.66899999999998 sec.\"\n",
      "[1] \"163-th simulation finished, 2.20600000000002 sec.\"\n",
      "[1] \"164-th simulation finished, 3.37199999999996 sec.\"\n"
     ]
    },
    {
     "name": "stderr",
     "output_type": "stream",
     "text": [
      "Warning message:\n",
      "“Pareto k diagnostic value is 0.88. Resampling is unreliable. Increasing the number of draws or decreasing tol_rel_obj may help.”\n"
     ]
    },
    {
     "name": "stdout",
     "output_type": "stream",
     "text": [
      "[1] \"165-th simulation finished, 4.72500000000002 sec.\"\n",
      "[1] \"166-th simulation finished, 4.86699999999996 sec.\"\n"
     ]
    },
    {
     "name": "stderr",
     "output_type": "stream",
     "text": [
      "Warning message:\n",
      "“Pareto k diagnostic value is 0.91. Resampling is unreliable. Increasing the number of draws or decreasing tol_rel_obj may help.”\n"
     ]
    },
    {
     "name": "stdout",
     "output_type": "stream",
     "text": [
      "[1] \"167-th simulation finished, 4.67000000000007 sec.\"\n"
     ]
    },
    {
     "name": "stderr",
     "output_type": "stream",
     "text": [
      "Warning message:\n",
      "“Pareto k diagnostic value is 0.88. Resampling is unreliable. Increasing the number of draws or decreasing tol_rel_obj may help.”\n"
     ]
    },
    {
     "name": "stdout",
     "output_type": "stream",
     "text": [
      "[1] \"168-th simulation finished, 4.67199999999991 sec.\"\n"
     ]
    },
    {
     "name": "stderr",
     "output_type": "stream",
     "text": [
      "Warning message:\n",
      "“Pareto k diagnostic value is 0.81. Resampling is unreliable. Increasing the number of draws or decreasing tol_rel_obj may help.”\n"
     ]
    },
    {
     "name": "stdout",
     "output_type": "stream",
     "text": [
      "[1] \"169-th simulation finished, 4.76499999999999 sec.\"\n",
      "[1] \"170-th simulation finished, 4.65300000000002 sec.\"\n"
     ]
    },
    {
     "name": "stderr",
     "output_type": "stream",
     "text": [
      "Warning message:\n",
      "“Pareto k diagnostic value is 0.84. Resampling is unreliable. Increasing the number of draws or decreasing tol_rel_obj may help.”\n"
     ]
    },
    {
     "name": "stdout",
     "output_type": "stream",
     "text": [
      "[1] \"171-th simulation finished, 4.74799999999993 sec.\"\n"
     ]
    },
    {
     "name": "stderr",
     "output_type": "stream",
     "text": [
      "Warning message:\n",
      "“Pareto k diagnostic value is 0.88. Resampling is unreliable. Increasing the number of draws or decreasing tol_rel_obj may help.”\n"
     ]
    },
    {
     "name": "stdout",
     "output_type": "stream",
     "text": [
      "[1] \"172-th simulation finished, 4.63600000000008 sec.\"\n",
      "[1] \"173-th simulation finished, 2.05599999999993 sec.\"\n",
      "[1] \"174-th simulation finished, 3.32000000000005 sec.\"\n",
      "[1] \"175-th simulation finished, 3.36700000000008 sec.\"\n",
      "[1] \"176-th simulation finished, 2.57600000000002 sec.\"\n",
      "[1] \"177-th simulation finished, 2.31299999999999 sec.\"\n",
      "[1] \"178-th simulation finished, 4.73699999999997 sec.\"\n",
      "[1] \"179-th simulation finished, 2.25800000000004 sec.\"\n",
      "[1] \"180-th simulation finished, 3.327 sec.\"\n",
      "[1] \"181-th simulation finished, 3.375 sec.\"\n"
     ]
    },
    {
     "name": "stderr",
     "output_type": "stream",
     "text": [
      "Warning message:\n",
      "“Pareto k diagnostic value is 0.87. Resampling is unreliable. Increasing the number of draws or decreasing tol_rel_obj may help.”\n"
     ]
    },
    {
     "name": "stdout",
     "output_type": "stream",
     "text": [
      "[1] \"182-th simulation finished, 5.41800000000001 sec.\"\n",
      "[1] \"183-th simulation finished, 2.21100000000001 sec.\"\n",
      "[1] \"184-th simulation finished, 2.24699999999996 sec.\"\n",
      "[1] \"185-th simulation finished, 2.21799999999996 sec.\"\n",
      "[1] \"186-th simulation finished, 2.09499999999991 sec.\"\n",
      "[1] \"187-th simulation finished, 2.3370000000001 sec.\"\n"
     ]
    },
    {
     "name": "stderr",
     "output_type": "stream",
     "text": [
      "Warning message:\n",
      "“Pareto k diagnostic value is 0.86. Resampling is unreliable. Increasing the number of draws or decreasing tol_rel_obj may help.”\n"
     ]
    },
    {
     "name": "stdout",
     "output_type": "stream",
     "text": [
      "[1] \"188-th simulation finished, 4.98799999999994 sec.\"\n",
      "[1] \"189-th simulation finished, 2.17700000000002 sec.\"\n"
     ]
    },
    {
     "name": "stderr",
     "output_type": "stream",
     "text": [
      "Warning message:\n",
      "“Pareto k diagnostic value is 0.87. Resampling is unreliable. Increasing the number of draws or decreasing tol_rel_obj may help.”\n"
     ]
    },
    {
     "name": "stdout",
     "output_type": "stream",
     "text": [
      "[1] \"190-th simulation finished, 4.77700000000004 sec.\"\n"
     ]
    },
    {
     "name": "stderr",
     "output_type": "stream",
     "text": [
      "Warning message:\n",
      "“Pareto k diagnostic value is 0.84. Resampling is unreliable. Increasing the number of draws or decreasing tol_rel_obj may help.”\n"
     ]
    },
    {
     "name": "stdout",
     "output_type": "stream",
     "text": [
      "[1] \"191-th simulation finished, 4.78800000000001 sec.\"\n"
     ]
    },
    {
     "name": "stderr",
     "output_type": "stream",
     "text": [
      "Warning message:\n",
      "“Pareto k diagnostic value is 0.92. Resampling is unreliable. Increasing the number of draws or decreasing tol_rel_obj may help.”\n"
     ]
    },
    {
     "name": "stdout",
     "output_type": "stream",
     "text": [
      "[1] \"192-th simulation finished, 4.79200000000003 sec.\"\n",
      "[1] \"193-th simulation finished, 3.34999999999991 sec.\"\n",
      "[1] \"194-th simulation finished, 2.1579999999999 sec.\"\n",
      "[1] \"195-th simulation finished, 2.19500000000005 sec.\"\n",
      "[1] \"196-th simulation finished, 3.37400000000002 sec.\"\n"
     ]
    },
    {
     "name": "stderr",
     "output_type": "stream",
     "text": [
      "Warning message:\n",
      "“Pareto k diagnostic value is 0.77. Resampling is unreliable. Increasing the number of draws or decreasing tol_rel_obj may help.”\n"
     ]
    },
    {
     "name": "stdout",
     "output_type": "stream",
     "text": [
      "[1] \"197-th simulation finished, 2.30899999999997 sec.\"\n"
     ]
    },
    {
     "name": "stderr",
     "output_type": "stream",
     "text": [
      "Warning message:\n",
      "“Pareto k diagnostic value is 0.9. Resampling is unreliable. Increasing the number of draws or decreasing tol_rel_obj may help.”\n"
     ]
    },
    {
     "name": "stdout",
     "output_type": "stream",
     "text": [
      "[1] \"198-th simulation finished, 4.80700000000002 sec.\"\n"
     ]
    },
    {
     "name": "stderr",
     "output_type": "stream",
     "text": [
      "Warning message:\n",
      "“Pareto k diagnostic value is 0.88. Resampling is unreliable. Increasing the number of draws or decreasing tol_rel_obj may help.”\n"
     ]
    },
    {
     "name": "stdout",
     "output_type": "stream",
     "text": [
      "[1] \"199-th simulation finished, 4.76900000000001 sec.\"\n"
     ]
    },
    {
     "name": "stderr",
     "output_type": "stream",
     "text": [
      "Warning message:\n",
      "“Pareto k diagnostic value is 0.91. Resampling is unreliable. Increasing the number of draws or decreasing tol_rel_obj may help.”\n"
     ]
    },
    {
     "name": "stdout",
     "output_type": "stream",
     "text": [
      "[1] \"200-th simulation finished, 5.32000000000005 sec.\"\n",
      "[1] \"201-th simulation finished, 2.13600000000008 sec.\"\n"
     ]
    },
    {
     "name": "stderr",
     "output_type": "stream",
     "text": [
      "Warning message:\n",
      "“Pareto k diagnostic value is 0.9. Resampling is unreliable. Increasing the number of draws or decreasing tol_rel_obj may help.”\n"
     ]
    },
    {
     "name": "stdout",
     "output_type": "stream",
     "text": [
      "[1] \"202-th simulation finished, 4.95399999999995 sec.\"\n",
      "[1] \"203-th simulation finished, 4.90800000000002 sec.\"\n"
     ]
    },
    {
     "name": "stderr",
     "output_type": "stream",
     "text": [
      "Warning message:\n",
      "“Pareto k diagnostic value is 0.83. Resampling is unreliable. Increasing the number of draws or decreasing tol_rel_obj may help.”\n"
     ]
    },
    {
     "name": "stdout",
     "output_type": "stream",
     "text": [
      "[1] \"204-th simulation finished, 4.93700000000001 sec.\"\n",
      "[1] \"205-th simulation finished, 4.82900000000006 sec.\"\n"
     ]
    },
    {
     "name": "stderr",
     "output_type": "stream",
     "text": [
      "Warning message:\n",
      "“Pareto k diagnostic value is 0.87. Resampling is unreliable. Increasing the number of draws or decreasing tol_rel_obj may help.”\n"
     ]
    },
    {
     "name": "stdout",
     "output_type": "stream",
     "text": [
      "[1] \"206-th simulation finished, 4.79899999999998 sec.\"\n",
      "[1] \"207-th simulation finished, 3.375 sec.\"\n",
      "[1] \"208-th simulation finished, 2.20100000000002 sec.\"\n"
     ]
    },
    {
     "name": "stderr",
     "output_type": "stream",
     "text": [
      "Warning message:\n",
      "“Pareto k diagnostic value is 0.89. Resampling is unreliable. Increasing the number of draws or decreasing tol_rel_obj may help.”\n"
     ]
    },
    {
     "name": "stdout",
     "output_type": "stream",
     "text": [
      "[1] \"209-th simulation finished, 4.77800000000002 sec.\"\n"
     ]
    },
    {
     "name": "stderr",
     "output_type": "stream",
     "text": [
      "Warning message:\n",
      "“Pareto k diagnostic value is 0.82. Resampling is unreliable. Increasing the number of draws or decreasing tol_rel_obj may help.”\n"
     ]
    },
    {
     "name": "stdout",
     "output_type": "stream",
     "text": [
      "[1] \"210-th simulation finished, 5.01999999999998 sec.\"\n"
     ]
    },
    {
     "name": "stderr",
     "output_type": "stream",
     "text": [
      "Warning message:\n",
      "“Pareto k diagnostic value is 0.87. Resampling is unreliable. Increasing the number of draws or decreasing tol_rel_obj may help.”\n"
     ]
    },
    {
     "name": "stdout",
     "output_type": "stream",
     "text": [
      "[1] \"211-th simulation finished, 4.78200000000004 sec.\"\n"
     ]
    },
    {
     "name": "stderr",
     "output_type": "stream",
     "text": [
      "Warning message:\n",
      "“Pareto k diagnostic value is 0.89. Resampling is unreliable. Increasing the number of draws or decreasing tol_rel_obj may help.”\n"
     ]
    },
    {
     "name": "stdout",
     "output_type": "stream",
     "text": [
      "[1] \"212-th simulation finished, 4.84899999999993 sec.\"\n",
      "[1] \"213-th simulation finished, 2.048 sec.\"\n",
      "[1] \"214-th simulation finished, 2.23299999999995 sec.\"\n"
     ]
    },
    {
     "name": "stderr",
     "output_type": "stream",
     "text": [
      "Warning message:\n",
      "“Pareto k diagnostic value is 0.85. Resampling is unreliable. Increasing the number of draws or decreasing tol_rel_obj may help.”\n"
     ]
    },
    {
     "name": "stdout",
     "output_type": "stream",
     "text": [
      "[1] \"215-th simulation finished, 4.774 sec.\"\n",
      "[1] \"216-th simulation finished, 2.20000000000005 sec.\"\n",
      "[1] \"217-th simulation finished, 3.32100000000003 sec.\"\n",
      "[1] \"218-th simulation finished, 2.19799999999998 sec.\"\n"
     ]
    },
    {
     "name": "stderr",
     "output_type": "stream",
     "text": [
      "Warning message:\n",
      "“Pareto k diagnostic value is 0.85. Resampling is unreliable. Increasing the number of draws or decreasing tol_rel_obj may help.”\n"
     ]
    },
    {
     "name": "stdout",
     "output_type": "stream",
     "text": [
      "[1] \"219-th simulation finished, 4.82099999999991 sec.\"\n"
     ]
    },
    {
     "name": "stderr",
     "output_type": "stream",
     "text": [
      "Warning message:\n",
      "“Pareto k diagnostic value is 0.88. Resampling is unreliable. Increasing the number of draws or decreasing tol_rel_obj may help.”\n"
     ]
    },
    {
     "name": "stdout",
     "output_type": "stream",
     "text": [
      "[1] \"220-th simulation finished, 4.78399999999999 sec.\"\n",
      "[1] \"221-th simulation finished, 2.19899999999996 sec.\"\n",
      "[1] \"222-th simulation finished, 2.16899999999998 sec.\"\n",
      "[1] \"223-th simulation finished, 3.37799999999993 sec.\"\n",
      "[1] \"224-th simulation finished, 4.72199999999998 sec.\"\n",
      "[1] \"225-th simulation finished, 2.18599999999992 sec.\"\n",
      "[1] \"226-th simulation finished, 3.32500000000005 sec.\"\n",
      "[1] \"227-th simulation finished, 3.33100000000002 sec.\"\n",
      "[1] \"228-th simulation finished, 3.27700000000004 sec.\"\n",
      "[1] \"229-th simulation finished, 2.17499999999995 sec.\"\n"
     ]
    },
    {
     "name": "stderr",
     "output_type": "stream",
     "text": [
      "Warning message:\n",
      "“Pareto k diagnostic value is 0.82. Resampling is unreliable. Increasing the number of draws or decreasing tol_rel_obj may help.”\n"
     ]
    },
    {
     "name": "stdout",
     "output_type": "stream",
     "text": [
      "[1] \"230-th simulation finished, 4.81400000000008 sec.\"\n"
     ]
    },
    {
     "name": "stderr",
     "output_type": "stream",
     "text": [
      "Warning message:\n",
      "“Pareto k diagnostic value is 0.82. Resampling is unreliable. Increasing the number of draws or decreasing tol_rel_obj may help.”\n"
     ]
    },
    {
     "name": "stdout",
     "output_type": "stream",
     "text": [
      "[1] \"231-th simulation finished, 4.84199999999998 sec.\"\n",
      "[1] \"232-th simulation finished, 3.33399999999995 sec.\"\n"
     ]
    },
    {
     "name": "stderr",
     "output_type": "stream",
     "text": [
      "Warning message:\n",
      "“Pareto k diagnostic value is 0.9. Resampling is unreliable. Increasing the number of draws or decreasing tol_rel_obj may help.”\n"
     ]
    },
    {
     "name": "stdout",
     "output_type": "stream",
     "text": [
      "[1] \"233-th simulation finished, 4.78300000000002 sec.\"\n",
      "[1] \"234-th simulation finished, 2.23200000000008 sec.\"\n",
      "[1] \"235-th simulation finished, 3.33299999999997 sec.\"\n",
      "[1] \"236-th simulation finished, 3.38999999999999 sec.\"\n",
      "[1] \"237-th simulation finished, 2.17700000000002 sec.\"\n",
      "[1] \"238-th simulation finished, 3.327 sec.\"\n",
      "[1] \"239-th simulation finished, 2.18700000000001 sec.\"\n"
     ]
    },
    {
     "name": "stderr",
     "output_type": "stream",
     "text": [
      "Warning message:\n",
      "“Pareto k diagnostic value is 0.84. Resampling is unreliable. Increasing the number of draws or decreasing tol_rel_obj may help.”\n"
     ]
    },
    {
     "name": "stdout",
     "output_type": "stream",
     "text": [
      "[1] \"240-th simulation finished, 4.82000000000005 sec.\"\n",
      "[1] \"241-th simulation finished, 3.27499999999998 sec.\"\n"
     ]
    },
    {
     "name": "stderr",
     "output_type": "stream",
     "text": [
      "Warning message:\n",
      "“Pareto k diagnostic value is 0.94. Resampling is unreliable. Increasing the number of draws or decreasing tol_rel_obj may help.”\n"
     ]
    },
    {
     "name": "stdout",
     "output_type": "stream",
     "text": [
      "[1] \"242-th simulation finished, 4.79000000000008 sec.\"\n",
      "[1] \"243-th simulation finished, 2.17999999999995 sec.\"\n",
      "[1] \"244-th simulation finished, 2.00700000000006 sec.\"\n",
      "[1] \"245-th simulation finished, 5.35299999999995 sec.\"\n",
      "[1] \"246-th simulation finished, 3.30800000000011 sec.\"\n",
      "[1] \"247-th simulation finished, 4.71899999999994 sec.\"\n",
      "[1] \"248-th simulation finished, 4.66300000000001 sec.\"\n"
     ]
    },
    {
     "name": "stderr",
     "output_type": "stream",
     "text": [
      "Warning message:\n",
      "“Pareto k diagnostic value is 0.86. Resampling is unreliable. Increasing the number of draws or decreasing tol_rel_obj may help.”\n"
     ]
    },
    {
     "name": "stdout",
     "output_type": "stream",
     "text": [
      "[1] \"249-th simulation finished, 4.77600000000007 sec.\"\n",
      "[1] \"250-th simulation finished, 4.86299999999994 sec.\"\n"
     ]
    },
    {
     "name": "stderr",
     "output_type": "stream",
     "text": [
      "Warning message:\n",
      "“Pareto k diagnostic value is 0.88. Resampling is unreliable. Increasing the number of draws or decreasing tol_rel_obj may help.”\n"
     ]
    },
    {
     "name": "stdout",
     "output_type": "stream",
     "text": [
      "[1] \"251-th simulation finished, 4.77700000000004 sec.\"\n",
      "[1] \"252-th simulation finished, 1.99099999999999 sec.\"\n",
      "[1] \"253-th simulation finished, 4.83699999999999 sec.\"\n"
     ]
    },
    {
     "name": "stderr",
     "output_type": "stream",
     "text": [
      "Warning message:\n",
      "“Pareto k diagnostic value is 0.84. Resampling is unreliable. Increasing the number of draws or decreasing tol_rel_obj may help.”\n"
     ]
    },
    {
     "name": "stdout",
     "output_type": "stream",
     "text": [
      "[1] \"254-th simulation finished, 4.82899999999995 sec.\"\n"
     ]
    },
    {
     "name": "stderr",
     "output_type": "stream",
     "text": [
      "Warning message:\n",
      "“Pareto k diagnostic value is 0.88. Resampling is unreliable. Increasing the number of draws or decreasing tol_rel_obj may help.”\n"
     ]
    },
    {
     "name": "stdout",
     "output_type": "stream",
     "text": [
      "[1] \"255-th simulation finished, 4.904 sec.\"\n",
      "[1] \"256-th simulation finished, 4.721 sec.\"\n",
      "[1] \"257-th simulation finished, 2.2360000000001 sec.\"\n",
      "[1] \"258-th simulation finished, 2.13300000000004 sec.\"\n"
     ]
    },
    {
     "name": "stderr",
     "output_type": "stream",
     "text": [
      "Warning message:\n",
      "“Pareto k diagnostic value is 0.82. Resampling is unreliable. Increasing the number of draws or decreasing tol_rel_obj may help.”\n"
     ]
    },
    {
     "name": "stdout",
     "output_type": "stream",
     "text": [
      "[1] \"259-th simulation finished, 4.75900000000001 sec.\"\n",
      "[1] \"260-th simulation finished, 4.72399999999993 sec.\"\n",
      "[1] \"261-th simulation finished, 3.30400000000009 sec.\"\n"
     ]
    },
    {
     "name": "stderr",
     "output_type": "stream",
     "text": [
      "Warning message:\n",
      "“Pareto k diagnostic value is 0.93. Resampling is unreliable. Increasing the number of draws or decreasing tol_rel_obj may help.”\n"
     ]
    },
    {
     "name": "stdout",
     "output_type": "stream",
     "text": [
      "[1] \"262-th simulation finished, 4.81799999999998 sec.\"\n"
     ]
    },
    {
     "name": "stderr",
     "output_type": "stream",
     "text": [
      "Warning message:\n",
      "“Pareto k diagnostic value is 0.84. Resampling is unreliable. Increasing the number of draws or decreasing tol_rel_obj may help.”\n"
     ]
    },
    {
     "name": "stdout",
     "output_type": "stream",
     "text": [
      "[1] \"263-th simulation finished, 4.83299999999986 sec.\"\n"
     ]
    },
    {
     "name": "stderr",
     "output_type": "stream",
     "text": [
      "Warning message:\n",
      "“Pareto k diagnostic value is 0.86. Resampling is unreliable. Increasing the number of draws or decreasing tol_rel_obj may help.”\n"
     ]
    },
    {
     "name": "stdout",
     "output_type": "stream",
     "text": [
      "[1] \"264-th simulation finished, 4.99700000000007 sec.\"\n",
      "[1] \"265-th simulation finished, 2.31100000000015 sec.\"\n",
      "[1] \"266-th simulation finished, 5.7489999999998 sec.\"\n",
      "[1] \"267-th simulation finished, 3.78100000000018 sec.\"\n"
     ]
    },
    {
     "name": "stderr",
     "output_type": "stream",
     "text": [
      "Warning message:\n",
      "“Pareto k diagnostic value is 0.81. Resampling is unreliable. Increasing the number of draws or decreasing tol_rel_obj may help.”\n"
     ]
    },
    {
     "name": "stdout",
     "output_type": "stream",
     "text": [
      "[1] \"268-th simulation finished, 2.64899999999989 sec.\"\n",
      "[1] \"269-th simulation finished, 2.27200000000016 sec.\"\n",
      "[1] \"270-th simulation finished, 2.32299999999987 sec.\"\n",
      "[1] \"271-th simulation finished, 2.40100000000007 sec.\"\n"
     ]
    },
    {
     "name": "stderr",
     "output_type": "stream",
     "text": [
      "Warning message:\n",
      "“Pareto k diagnostic value is 0.82. Resampling is unreliable. Increasing the number of draws or decreasing tol_rel_obj may help.”\n"
     ]
    },
    {
     "name": "stdout",
     "output_type": "stream",
     "text": [
      "[1] \"272-th simulation finished, 4.96600000000012 sec.\"\n"
     ]
    },
    {
     "name": "stderr",
     "output_type": "stream",
     "text": [
      "Warning message:\n",
      "“Pareto k diagnostic value is 0.83. Resampling is unreliable. Increasing the number of draws or decreasing tol_rel_obj may help.”\n"
     ]
    },
    {
     "name": "stdout",
     "output_type": "stream",
     "text": [
      "[1] \"273-th simulation finished, 5.01299999999992 sec.\"\n",
      "[1] \"274-th simulation finished, 4.98900000000003 sec.\"\n",
      "[1] \"275-th simulation finished, 2.27199999999993 sec.\"\n",
      "[1] \"276-th simulation finished, 3.46000000000004 sec.\"\n"
     ]
    },
    {
     "name": "stderr",
     "output_type": "stream",
     "text": [
      "Warning message:\n",
      "“Pareto k diagnostic value is 0.84. Resampling is unreliable. Increasing the number of draws or decreasing tol_rel_obj may help.”\n"
     ]
    },
    {
     "name": "stdout",
     "output_type": "stream",
     "text": [
      "[1] \"277-th simulation finished, 5.00500000000011 sec.\"\n"
     ]
    },
    {
     "name": "stderr",
     "output_type": "stream",
     "text": [
      "Warning message:\n",
      "“Pareto k diagnostic value is 0.79. Resampling is unreliable. Increasing the number of draws or decreasing tol_rel_obj may help.”\n"
     ]
    },
    {
     "name": "stdout",
     "output_type": "stream",
     "text": [
      "[1] \"278-th simulation finished, 4.98199999999997 sec.\"\n",
      "[1] \"279-th simulation finished, 4.88699999999994 sec.\"\n",
      "[1] \"280-th simulation finished, 2.25700000000006 sec.\"\n",
      "[1] \"281-th simulation finished, 2.05899999999997 sec.\"\n",
      "[1] \"282-th simulation finished, 6.52500000000009 sec.\"\n"
     ]
    },
    {
     "name": "stderr",
     "output_type": "stream",
     "text": [
      "Warning message:\n",
      "“Pareto k diagnostic value is 0.9. Resampling is unreliable. Increasing the number of draws or decreasing tol_rel_obj may help.”\n"
     ]
    },
    {
     "name": "stdout",
     "output_type": "stream",
     "text": [
      "[1] \"283-th simulation finished, 5.31299999999987 sec.\"\n",
      "[1] \"284-th simulation finished, 2.60599999999999 sec.\"\n",
      "[1] \"285-th simulation finished, 2.51400000000012 sec.\"\n"
     ]
    },
    {
     "name": "stderr",
     "output_type": "stream",
     "text": [
      "Warning message:\n",
      "“Pareto k diagnostic value is 0.85. Resampling is unreliable. Increasing the number of draws or decreasing tol_rel_obj may help.”\n"
     ]
    },
    {
     "name": "stdout",
     "output_type": "stream",
     "text": [
      "[1] \"286-th simulation finished, 5.05400000000009 sec.\"\n",
      "[1] \"287-th simulation finished, 4.87999999999988 sec.\"\n",
      "[1] \"288-th simulation finished, 2.30200000000013 sec.\"\n",
      "[1] \"289-th simulation finished, 4.95299999999997 sec.\"\n"
     ]
    },
    {
     "name": "stderr",
     "output_type": "stream",
     "text": [
      "Warning message:\n",
      "“Pareto k diagnostic value is 0.83. Resampling is unreliable. Increasing the number of draws or decreasing tol_rel_obj may help.”\n"
     ]
    },
    {
     "name": "stdout",
     "output_type": "stream",
     "text": [
      "[1] \"290-th simulation finished, 5.20800000000008 sec.\"\n"
     ]
    },
    {
     "name": "stderr",
     "output_type": "stream",
     "text": [
      "Warning message:\n",
      "“Pareto k diagnostic value is 0.85. Resampling is unreliable. Increasing the number of draws or decreasing tol_rel_obj may help.”\n"
     ]
    },
    {
     "name": "stdout",
     "output_type": "stream",
     "text": [
      "[1] \"291-th simulation finished, 4.97199999999998 sec.\"\n",
      "[1] \"292-th simulation finished, 3.46399999999994 sec.\"\n",
      "[1] \"293-th simulation finished, 5.54300000000012 sec.\"\n"
     ]
    },
    {
     "name": "stderr",
     "output_type": "stream",
     "text": [
      "Warning message:\n",
      "“Pareto k diagnostic value is 0.85. Resampling is unreliable. Increasing the number of draws or decreasing tol_rel_obj may help.”\n"
     ]
    },
    {
     "name": "stdout",
     "output_type": "stream",
     "text": [
      "[1] \"294-th simulation finished, 4.97399999999993 sec.\"\n",
      "[1] \"295-th simulation finished, 3.5329999999999 sec.\"\n",
      "[1] \"296-th simulation finished, 2.12800000000016 sec.\"\n",
      "[1] \"297-th simulation finished, 2.4079999999999 sec.\"\n",
      "[1] \"298-th simulation finished, 5.03700000000003 sec.\"\n",
      "[1] \"299-th simulation finished, 2.36300000000006 sec.\"\n"
     ]
    },
    {
     "name": "stderr",
     "output_type": "stream",
     "text": [
      "Warning message:\n",
      "“Pareto k diagnostic value is 0.88. Resampling is unreliable. Increasing the number of draws or decreasing tol_rel_obj may help.”\n"
     ]
    },
    {
     "name": "stdout",
     "output_type": "stream",
     "text": [
      "[1] \"300-th simulation finished, 5.12899999999991 sec.\"\n",
      "[1] \"301-th simulation finished, 2.20800000000008 sec.\"\n"
     ]
    },
    {
     "name": "stderr",
     "output_type": "stream",
     "text": [
      "Warning message:\n",
      "“Pareto k diagnostic value is 0.89. Resampling is unreliable. Increasing the number of draws or decreasing tol_rel_obj may help.”\n"
     ]
    },
    {
     "name": "stdout",
     "output_type": "stream",
     "text": [
      "[1] \"302-th simulation finished, 5.16200000000003 sec.\"\n",
      "[1] \"303-th simulation finished, 5.89799999999991 sec.\"\n",
      "[1] \"304-th simulation finished, 2.40300000000002 sec.\"\n",
      "[1] \"305-th simulation finished, 2.404 sec.\"\n"
     ]
    },
    {
     "name": "stderr",
     "output_type": "stream",
     "text": [
      "Warning message:\n",
      "“Pareto k diagnostic value is 0.83. Resampling is unreliable. Increasing the number of draws or decreasing tol_rel_obj may help.”\n"
     ]
    },
    {
     "name": "stdout",
     "output_type": "stream",
     "text": [
      "[1] \"306-th simulation finished, 5.30599999999981 sec.\"\n",
      "[1] \"307-th simulation finished, 5.21600000000012 sec.\"\n",
      "[1] \"308-th simulation finished, 2.21599999999989 sec.\"\n",
      "[1] \"309-th simulation finished, 2.50200000000018 sec.\"\n"
     ]
    },
    {
     "name": "stderr",
     "output_type": "stream",
     "text": [
      "Warning message:\n",
      "“Pareto k diagnostic value is 0.8. Resampling is unreliable. Increasing the number of draws or decreasing tol_rel_obj may help.”\n"
     ]
    },
    {
     "name": "stdout",
     "output_type": "stream",
     "text": [
      "[1] \"310-th simulation finished, 5.30399999999986 sec.\"\n",
      "[1] \"311-th simulation finished, 5.23900000000003 sec.\"\n",
      "[1] \"312-th simulation finished, 5.22300000000018 sec.\"\n",
      "[1] \"313-th simulation finished, 5.17799999999988 sec.\"\n",
      "[1] \"314-th simulation finished, 2.529 sec.\"\n",
      "[1] \"315-th simulation finished, 3.65300000000002 sec.\"\n",
      "[1] \"316-th simulation finished, 2.49600000000009 sec.\"\n"
     ]
    },
    {
     "name": "stderr",
     "output_type": "stream",
     "text": [
      "Warning message:\n",
      "“Pareto k diagnostic value is 0.92. Resampling is unreliable. Increasing the number of draws or decreasing tol_rel_obj may help.”\n"
     ]
    },
    {
     "name": "stdout",
     "output_type": "stream",
     "text": [
      "[1] \"317-th simulation finished, 5.202 sec.\"\n",
      "[1] \"318-th simulation finished, 3.64699999999993 sec.\"\n",
      "[1] \"319-th simulation finished, 2.34899999999993 sec.\"\n",
      "[1] \"320-th simulation finished, 5.14499999999998 sec.\"\n"
     ]
    },
    {
     "name": "stderr",
     "output_type": "stream",
     "text": [
      "Warning message:\n",
      "“Pareto k diagnostic value is 0.84. Resampling is unreliable. Increasing the number of draws or decreasing tol_rel_obj may help.”\n"
     ]
    },
    {
     "name": "stdout",
     "output_type": "stream",
     "text": [
      "[1] \"321-th simulation finished, 5.1869999999999 sec.\"\n"
     ]
    },
    {
     "name": "stderr",
     "output_type": "stream",
     "text": [
      "Warning message:\n",
      "“Pareto k diagnostic value is 0.86. Resampling is unreliable. Increasing the number of draws or decreasing tol_rel_obj may help.”\n"
     ]
    },
    {
     "name": "stdout",
     "output_type": "stream",
     "text": [
      "[1] \"322-th simulation finished, 5.1400000000001 sec.\"\n",
      "[1] \"323-th simulation finished, 5.95299999999997 sec.\"\n",
      "[1] \"324-th simulation finished, 5.21000000000004 sec.\"\n",
      "[1] \"325-th simulation finished, 2.35899999999992 sec.\"\n",
      "[1] \"326-th simulation finished, 3.59900000000016 sec.\"\n",
      "[1] \"327-th simulation finished, 3.57899999999995 sec.\"\n"
     ]
    },
    {
     "name": "stderr",
     "output_type": "stream",
     "text": [
      "Warning message:\n",
      "“Pareto k diagnostic value is 0.82. Resampling is unreliable. Increasing the number of draws or decreasing tol_rel_obj may help.”\n"
     ]
    },
    {
     "name": "stdout",
     "output_type": "stream",
     "text": [
      "[1] \"328-th simulation finished, 5.12799999999993 sec.\"\n",
      "[1] \"329-th simulation finished, 3.61500000000001 sec.\"\n",
      "[1] \"330-th simulation finished, 5.02700000000004 sec.\"\n",
      "[1] \"331-th simulation finished, 3.548 sec.\"\n",
      "[1] \"332-th simulation finished, 3.7360000000001 sec.\"\n",
      "[1] \"333-th simulation finished, 2.36099999999988 sec.\"\n"
     ]
    },
    {
     "name": "stderr",
     "output_type": "stream",
     "text": [
      "Warning message:\n",
      "“Pareto k diagnostic value is 0.9. Resampling is unreliable. Increasing the number of draws or decreasing tol_rel_obj may help.”\n"
     ]
    },
    {
     "name": "stdout",
     "output_type": "stream",
     "text": [
      "[1] \"334-th simulation finished, 5.07199999999989 sec.\"\n",
      "[1] \"335-th simulation finished, 2.5329999999999 sec.\"\n"
     ]
    },
    {
     "name": "stderr",
     "output_type": "stream",
     "text": [
      "Warning message:\n",
      "“Pareto k diagnostic value is 0.93. Resampling is unreliable. Increasing the number of draws or decreasing tol_rel_obj may help.”\n"
     ]
    },
    {
     "name": "stdout",
     "output_type": "stream",
     "text": [
      "[1] \"336-th simulation finished, 5.13999999999987 sec.\"\n"
     ]
    },
    {
     "name": "stderr",
     "output_type": "stream",
     "text": [
      "Warning message:\n",
      "“Pareto k diagnostic value is 0.85. Resampling is unreliable. Increasing the number of draws or decreasing tol_rel_obj may help.”\n"
     ]
    },
    {
     "name": "stdout",
     "output_type": "stream",
     "text": [
      "[1] \"337-th simulation finished, 5.07899999999995 sec.\"\n",
      "[1] \"338-th simulation finished, 2.34800000000018 sec.\"\n"
     ]
    },
    {
     "name": "stderr",
     "output_type": "stream",
     "text": [
      "Warning message:\n",
      "“Pareto k diagnostic value is 0.84. Resampling is unreliable. Increasing the number of draws or decreasing tol_rel_obj may help.”\n"
     ]
    },
    {
     "name": "stdout",
     "output_type": "stream",
     "text": [
      "[1] \"339-th simulation finished, 5.07600000000002 sec.\"\n"
     ]
    },
    {
     "name": "stderr",
     "output_type": "stream",
     "text": [
      "Warning message:\n",
      "“Pareto k diagnostic value is 0.91. Resampling is unreliable. Increasing the number of draws or decreasing tol_rel_obj may help.”\n"
     ]
    },
    {
     "name": "stdout",
     "output_type": "stream",
     "text": [
      "[1] \"340-th simulation finished, 5.06299999999987 sec.\"\n",
      "[1] \"341-th simulation finished, 4.99300000000017 sec.\"\n",
      "[1] \"342-th simulation finished, 4.97000000000003 sec.\"\n",
      "[1] \"343-th simulation finished, 2.125 sec.\"\n",
      "[1] \"344-th simulation finished, 3.60199999999986 sec.\"\n",
      "[1] \"345-th simulation finished, 3.65700000000015 sec.\"\n",
      "[1] \"346-th simulation finished, 2.34799999999996 sec.\"\n",
      "[1] \"347-th simulation finished, 3.62100000000009 sec.\"\n"
     ]
    },
    {
     "name": "stderr",
     "output_type": "stream",
     "text": [
      "Warning message:\n",
      "“Pareto k diagnostic value is 0.87. Resampling is unreliable. Increasing the number of draws or decreasing tol_rel_obj may help.”\n"
     ]
    },
    {
     "name": "stdout",
     "output_type": "stream",
     "text": [
      "[1] \"348-th simulation finished, 5.04600000000005 sec.\"\n",
      "[1] \"349-th simulation finished, 2.27299999999991 sec.\"\n"
     ]
    },
    {
     "name": "stderr",
     "output_type": "stream",
     "text": [
      "Warning message:\n",
      "“Pareto k diagnostic value is 0.9. Resampling is unreliable. Increasing the number of draws or decreasing tol_rel_obj may help.”\n"
     ]
    },
    {
     "name": "stdout",
     "output_type": "stream",
     "text": [
      "[1] \"350-th simulation finished, 5.04500000000007 sec.\"\n"
     ]
    },
    {
     "name": "stderr",
     "output_type": "stream",
     "text": [
      "Warning message:\n",
      "“Pareto k diagnostic value is 0.9. Resampling is unreliable. Increasing the number of draws or decreasing tol_rel_obj may help.”\n"
     ]
    },
    {
     "name": "stdout",
     "output_type": "stream",
     "text": [
      "[1] \"351-th simulation finished, 5.08799999999997 sec.\"\n",
      "[1] \"352-th simulation finished, 2.31999999999994 sec.\"\n"
     ]
    },
    {
     "name": "stderr",
     "output_type": "stream",
     "text": [
      "Warning message:\n",
      "“Pareto k diagnostic value is 0.89. Resampling is unreliable. Increasing the number of draws or decreasing tol_rel_obj may help.”\n"
     ]
    },
    {
     "name": "stdout",
     "output_type": "stream",
     "text": [
      "[1] \"353-th simulation finished, 5.0920000000001 sec.\"\n"
     ]
    },
    {
     "name": "stderr",
     "output_type": "stream",
     "text": [
      "Warning message:\n",
      "“Pareto k diagnostic value is 0.84. Resampling is unreliable. Increasing the number of draws or decreasing tol_rel_obj may help.”\n"
     ]
    },
    {
     "name": "stdout",
     "output_type": "stream",
     "text": [
      "[1] \"354-th simulation finished, 4.98700000000008 sec.\"\n",
      "[1] \"355-th simulation finished, 5.63499999999999 sec.\"\n"
     ]
    },
    {
     "name": "stderr",
     "output_type": "stream",
     "text": [
      "Warning message:\n",
      "“Pareto k diagnostic value is 0.9. Resampling is unreliable. Increasing the number of draws or decreasing tol_rel_obj may help.”\n"
     ]
    },
    {
     "name": "stdout",
     "output_type": "stream",
     "text": [
      "[1] \"356-th simulation finished, 5.08899999999994 sec.\"\n",
      "[1] \"357-th simulation finished, 2.32100000000014 sec.\"\n",
      "[1] \"358-th simulation finished, 3.49399999999991 sec.\"\n",
      "[1] \"359-th simulation finished, 3.46599999999989 sec.\"\n"
     ]
    },
    {
     "name": "stderr",
     "output_type": "stream",
     "text": [
      "Warning message:\n",
      "“Pareto k diagnostic value is 0.87. Resampling is unreliable. Increasing the number of draws or decreasing tol_rel_obj may help.”\n"
     ]
    },
    {
     "name": "stdout",
     "output_type": "stream",
     "text": [
      "[1] \"360-th simulation finished, 5.00999999999999 sec.\"\n",
      "[1] \"361-th simulation finished, 2.30399999999986 sec.\"\n",
      "[1] \"362-th simulation finished, 5.16000000000008 sec.\"\n"
     ]
    },
    {
     "name": "stderr",
     "output_type": "stream",
     "text": [
      "Warning message:\n",
      "“Pareto k diagnostic value is 0.87. Resampling is unreliable. Increasing the number of draws or decreasing tol_rel_obj may help.”\n"
     ]
    },
    {
     "name": "stdout",
     "output_type": "stream",
     "text": [
      "[1] \"363-th simulation finished, 4.99000000000001 sec.\"\n",
      "[1] \"364-th simulation finished, 2.22499999999991 sec.\"\n",
      "[1] \"365-th simulation finished, 2.33399999999983 sec.\"\n",
      "[1] \"366-th simulation finished, 3.50800000000004 sec.\"\n",
      "[1] \"367-th simulation finished, 3.51800000000003 sec.\"\n",
      "[1] \"368-th simulation finished, 2.30099999999993 sec.\"\n",
      "[1] \"369-th simulation finished, 2.22200000000021 sec.\"\n",
      "[1] \"370-th simulation finished, 3.53099999999995 sec.\"\n",
      "[1] \"371-th simulation finished, 4.93899999999985 sec.\"\n"
     ]
    },
    {
     "name": "stderr",
     "output_type": "stream",
     "text": [
      "Warning message:\n",
      "“Pareto k diagnostic value is 0.83. Resampling is unreliable. Increasing the number of draws or decreasing tol_rel_obj may help.”\n"
     ]
    },
    {
     "name": "stdout",
     "output_type": "stream",
     "text": [
      "[1] \"372-th simulation finished, 5.10900000000015 sec.\"\n"
     ]
    },
    {
     "name": "stderr",
     "output_type": "stream",
     "text": [
      "Warning message:\n",
      "“Pareto k diagnostic value is 0.84. Resampling is unreliable. Increasing the number of draws or decreasing tol_rel_obj may help.”\n"
     ]
    },
    {
     "name": "stdout",
     "output_type": "stream",
     "text": [
      "[1] \"373-th simulation finished, 5.10300000000007 sec.\"\n",
      "[1] \"374-th simulation finished, 2.32999999999993 sec.\"\n",
      "[1] \"375-th simulation finished, 5.00700000000006 sec.\"\n"
     ]
    },
    {
     "name": "stderr",
     "output_type": "stream",
     "text": [
      "Warning message:\n",
      "“Pareto k diagnostic value is 0.89. Resampling is unreliable. Increasing the number of draws or decreasing tol_rel_obj may help.”\n"
     ]
    },
    {
     "name": "stdout",
     "output_type": "stream",
     "text": [
      "[1] \"376-th simulation finished, 5.11400000000003 sec.\"\n",
      "[1] \"377-th simulation finished, 3.6099999999999 sec.\"\n",
      "[1] \"378-th simulation finished, 5.25400000000013 sec.\"\n"
     ]
    },
    {
     "name": "stderr",
     "output_type": "stream",
     "text": [
      "Warning message:\n",
      "“Pareto k diagnostic value is 0.82. Resampling is unreliable. Increasing the number of draws or decreasing tol_rel_obj may help.”\n"
     ]
    },
    {
     "name": "stdout",
     "output_type": "stream",
     "text": [
      "[1] \"379-th simulation finished, 5.17200000000003 sec.\"\n"
     ]
    },
    {
     "name": "stderr",
     "output_type": "stream",
     "text": [
      "Warning message:\n",
      "“Pareto k diagnostic value is 0.85. Resampling is unreliable. Increasing the number of draws or decreasing tol_rel_obj may help.”\n"
     ]
    },
    {
     "name": "stdout",
     "output_type": "stream",
     "text": [
      "[1] \"380-th simulation finished, 5.20899999999983 sec.\"\n",
      "[1] \"381-th simulation finished, 5.74500000000012 sec.\"\n",
      "[1] \"382-th simulation finished, 3.55600000000004 sec.\"\n",
      "[1] \"383-th simulation finished, 5.10400000000004 sec.\"\n",
      "[1] \"384-th simulation finished, 5.13300000000004 sec.\"\n",
      "[1] \"385-th simulation finished, 3.58999999999992 sec.\"\n"
     ]
    },
    {
     "name": "stderr",
     "output_type": "stream",
     "text": [
      "Warning message:\n",
      "“Pareto k diagnostic value is 0.72. Resampling is unreliable. Increasing the number of draws or decreasing tol_rel_obj may help.”\n"
     ]
    },
    {
     "name": "stdout",
     "output_type": "stream",
     "text": [
      "[1] \"386-th simulation finished, 2.55200000000013 sec.\"\n",
      "[1] \"387-th simulation finished, 2.50900000000001 sec.\"\n",
      "[1] \"388-th simulation finished, 5.06999999999994 sec.\"\n"
     ]
    },
    {
     "name": "stderr",
     "output_type": "stream",
     "text": [
      "Warning message:\n",
      "“Pareto k diagnostic value is 0.84. Resampling is unreliable. Increasing the number of draws or decreasing tol_rel_obj may help.”\n"
     ]
    },
    {
     "name": "stdout",
     "output_type": "stream",
     "text": [
      "[1] \"389-th simulation finished, 5.18100000000004 sec.\"\n"
     ]
    },
    {
     "name": "stderr",
     "output_type": "stream",
     "text": [
      "Warning message:\n",
      "“Pareto k diagnostic value is 0.81. Resampling is unreliable. Increasing the number of draws or decreasing tol_rel_obj may help.”\n"
     ]
    },
    {
     "name": "stdout",
     "output_type": "stream",
     "text": [
      "[1] \"390-th simulation finished, 5.18299999999999 sec.\"\n"
     ]
    },
    {
     "name": "stderr",
     "output_type": "stream",
     "text": [
      "Warning message:\n",
      "“Pareto k diagnostic value is 0.77. Resampling is unreliable. Increasing the number of draws or decreasing tol_rel_obj may help.”\n"
     ]
    },
    {
     "name": "stdout",
     "output_type": "stream",
     "text": [
      "[1] \"391-th simulation finished, 5.17200000000003 sec.\"\n",
      "[1] \"392-th simulation finished, 5.28800000000001 sec.\"\n"
     ]
    },
    {
     "name": "stderr",
     "output_type": "stream",
     "text": [
      "Warning message:\n",
      "“Pareto k diagnostic value is 0.86. Resampling is unreliable. Increasing the number of draws or decreasing tol_rel_obj may help.”\n"
     ]
    },
    {
     "name": "stdout",
     "output_type": "stream",
     "text": [
      "[1] \"393-th simulation finished, 5.19799999999987 sec.\"\n",
      "[1] \"394-th simulation finished, 2.35300000000007 sec.\"\n",
      "[1] \"395-th simulation finished, 2.40300000000002 sec.\"\n"
     ]
    },
    {
     "name": "stderr",
     "output_type": "stream",
     "text": [
      "Warning message:\n",
      "“Pareto k diagnostic value is 0.87. Resampling is unreliable. Increasing the number of draws or decreasing tol_rel_obj may help.”\n"
     ]
    },
    {
     "name": "stdout",
     "output_type": "stream",
     "text": [
      "[1] \"396-th simulation finished, 5.25600000000009 sec.\"\n"
     ]
    },
    {
     "name": "stderr",
     "output_type": "stream",
     "text": [
      "Warning message:\n",
      "“Pareto k diagnostic value is 0.89. Resampling is unreliable. Increasing the number of draws or decreasing tol_rel_obj may help.”\n"
     ]
    },
    {
     "name": "stdout",
     "output_type": "stream",
     "text": [
      "[1] \"397-th simulation finished, 5.24399999999991 sec.\"\n",
      "[1] \"398-th simulation finished, 5.14200000000005 sec.\"\n",
      "[1] \"399-th simulation finished, 2.42599999999993 sec.\"\n",
      "[1] \"400-th simulation finished, 3.63200000000006 sec.\"\n",
      "[1] \"401-th simulation finished, 2.37599999999998 sec.\"\n",
      "[1] \"402-th simulation finished, 5.125 sec.\"\n",
      "[1] \"403-th simulation finished, 5.81999999999994 sec.\"\n"
     ]
    },
    {
     "name": "stderr",
     "output_type": "stream",
     "text": [
      "Warning message:\n",
      "“Pareto k diagnostic value is 0.9. Resampling is unreliable. Increasing the number of draws or decreasing tol_rel_obj may help.”\n"
     ]
    },
    {
     "name": "stdout",
     "output_type": "stream",
     "text": [
      "[1] \"404-th simulation finished, 5.17599999999993 sec.\"\n"
     ]
    },
    {
     "name": "stderr",
     "output_type": "stream",
     "text": [
      "Warning message:\n",
      "“Pareto k diagnostic value is 0.91. Resampling is unreliable. Increasing the number of draws or decreasing tol_rel_obj may help.”\n"
     ]
    },
    {
     "name": "stdout",
     "output_type": "stream",
     "text": [
      "[1] \"405-th simulation finished, 5.28500000000008 sec.\"\n",
      "[1] \"406-th simulation finished, 5.10500000000002 sec.\"\n"
     ]
    },
    {
     "name": "stderr",
     "output_type": "stream",
     "text": [
      "Warning message:\n",
      "“Pareto k diagnostic value is 0.87. Resampling is unreliable. Increasing the number of draws or decreasing tol_rel_obj may help.”\n"
     ]
    },
    {
     "name": "stdout",
     "output_type": "stream",
     "text": [
      "[1] \"407-th simulation finished, 5.14799999999991 sec.\"\n",
      "[1] \"408-th simulation finished, 2.45400000000018 sec.\"\n"
     ]
    },
    {
     "name": "stderr",
     "output_type": "stream",
     "text": [
      "Warning message:\n",
      "“Pareto k diagnostic value is 0.86. Resampling is unreliable. Increasing the number of draws or decreasing tol_rel_obj may help.”\n"
     ]
    },
    {
     "name": "stdout",
     "output_type": "stream",
     "text": [
      "[1] \"409-th simulation finished, 5.26900000000001 sec.\"\n",
      "[1] \"410-th simulation finished, 2.47699999999986 sec.\"\n",
      "[1] \"411-th simulation finished, 2.36400000000003 sec.\"\n",
      "[1] \"412-th simulation finished, 2.36600000000021 sec.\"\n"
     ]
    },
    {
     "name": "stderr",
     "output_type": "stream",
     "text": [
      "Warning message:\n",
      "“Pareto k diagnostic value is 0.91. Resampling is unreliable. Increasing the number of draws or decreasing tol_rel_obj may help.”\n"
     ]
    },
    {
     "name": "stdout",
     "output_type": "stream",
     "text": [
      "[1] \"413-th simulation finished, 5.13499999999999 sec.\"\n"
     ]
    },
    {
     "name": "stderr",
     "output_type": "stream",
     "text": [
      "Warning message:\n",
      "“Pareto k diagnostic value is 0.86. Resampling is unreliable. Increasing the number of draws or decreasing tol_rel_obj may help.”\n"
     ]
    },
    {
     "name": "stdout",
     "output_type": "stream",
     "text": [
      "[1] \"414-th simulation finished, 5.06999999999994 sec.\"\n",
      "[1] \"415-th simulation finished, 5.19800000000009 sec.\"\n"
     ]
    },
    {
     "name": "stderr",
     "output_type": "stream",
     "text": [
      "Warning message:\n",
      "“Pareto k diagnostic value is 0.85. Resampling is unreliable. Increasing the number of draws or decreasing tol_rel_obj may help.”\n"
     ]
    },
    {
     "name": "stdout",
     "output_type": "stream",
     "text": [
      "[1] \"416-th simulation finished, 5.19699999999989 sec.\"\n",
      "[1] \"417-th simulation finished, 3.57799999999997 sec.\"\n"
     ]
    },
    {
     "name": "stderr",
     "output_type": "stream",
     "text": [
      "Warning message:\n",
      "“Pareto k diagnostic value is 0.84. Resampling is unreliable. Increasing the number of draws or decreasing tol_rel_obj may help.”\n"
     ]
    },
    {
     "name": "stdout",
     "output_type": "stream",
     "text": [
      "[1] \"418-th simulation finished, 5.0920000000001 sec.\"\n",
      "[1] \"419-th simulation finished, 2.33400000000006 sec.\"\n"
     ]
    },
    {
     "name": "stderr",
     "output_type": "stream",
     "text": [
      "Warning message:\n",
      "“Pareto k diagnostic value is 0.91. Resampling is unreliable. Increasing the number of draws or decreasing tol_rel_obj may help.”\n"
     ]
    },
    {
     "name": "stdout",
     "output_type": "stream",
     "text": [
      "[1] \"420-th simulation finished, 5.08500000000004 sec.\"\n",
      "[1] \"421-th simulation finished, 5.01199999999994 sec.\"\n"
     ]
    },
    {
     "name": "stderr",
     "output_type": "stream",
     "text": [
      "Warning message:\n",
      "“Pareto k diagnostic value is 0.79. Resampling is unreliable. Increasing the number of draws or decreasing tol_rel_obj may help.”\n"
     ]
    },
    {
     "name": "stdout",
     "output_type": "stream",
     "text": [
      "[1] \"422-th simulation finished, 5.20900000000006 sec.\"\n"
     ]
    },
    {
     "name": "stderr",
     "output_type": "stream",
     "text": [
      "Warning message:\n",
      "“Pareto k diagnostic value is 0.86. Resampling is unreliable. Increasing the number of draws or decreasing tol_rel_obj may help.”\n"
     ]
    },
    {
     "name": "stdout",
     "output_type": "stream",
     "text": [
      "[1] \"423-th simulation finished, 5.06600000000003 sec.\"\n",
      "[1] \"424-th simulation finished, 2.36699999999996 sec.\"\n",
      "[1] \"425-th simulation finished, 2.25999999999999 sec.\"\n",
      "[1] \"426-th simulation finished, 2.33699999999999 sec.\"\n"
     ]
    },
    {
     "name": "stderr",
     "output_type": "stream",
     "text": [
      "Warning message:\n",
      "“Pareto k diagnostic value is 0.87. Resampling is unreliable. Increasing the number of draws or decreasing tol_rel_obj may help.”\n"
     ]
    },
    {
     "name": "stdout",
     "output_type": "stream",
     "text": [
      "[1] \"427-th simulation finished, 5.19700000000012 sec.\"\n",
      "[1] \"428-th simulation finished, 3.58899999999994 sec.\"\n",
      "[1] \"429-th simulation finished, 2.33699999999999 sec.\"\n",
      "[1] \"430-th simulation finished, 5.09899999999993 sec.\"\n"
     ]
    },
    {
     "name": "stderr",
     "output_type": "stream",
     "text": [
      "Warning message:\n",
      "“Pareto k diagnostic value is 0.86. Resampling is unreliable. Increasing the number of draws or decreasing tol_rel_obj may help.”\n"
     ]
    },
    {
     "name": "stdout",
     "output_type": "stream",
     "text": [
      "[1] \"431-th simulation finished, 5.09800000000018 sec.\"\n"
     ]
    },
    {
     "name": "stderr",
     "output_type": "stream",
     "text": [
      "Warning message:\n",
      "“Pareto k diagnostic value is 0.91. Resampling is unreliable. Increasing the number of draws or decreasing tol_rel_obj may help.”\n"
     ]
    },
    {
     "name": "stdout",
     "output_type": "stream",
     "text": [
      "[1] \"432-th simulation finished, 5.17899999999986 sec.\"\n",
      "[1] \"433-th simulation finished, 3.61200000000008 sec.\"\n",
      "[1] \"434-th simulation finished, 5.16499999999996 sec.\"\n"
     ]
    },
    {
     "name": "stderr",
     "output_type": "stream",
     "text": [
      "Warning message:\n",
      "“Pareto k diagnostic value is 0.85. Resampling is unreliable. Increasing the number of draws or decreasing tol_rel_obj may help.”\n"
     ]
    },
    {
     "name": "stdout",
     "output_type": "stream",
     "text": [
      "[1] \"435-th simulation finished, 5.17100000000005 sec.\"\n",
      "[1] \"436-th simulation finished, 2.38000000000011 sec.\"\n"
     ]
    },
    {
     "name": "stderr",
     "output_type": "stream",
     "text": [
      "Warning message:\n",
      "“Pareto k diagnostic value is 0.84. Resampling is unreliable. Increasing the number of draws or decreasing tol_rel_obj may help.”\n"
     ]
    },
    {
     "name": "stdout",
     "output_type": "stream",
     "text": [
      "[1] \"437-th simulation finished, 5.17100000000005 sec.\"\n",
      "[1] \"438-th simulation finished, 5.80999999999995 sec.\"\n",
      "[1] \"439-th simulation finished, 2.41200000000003 sec.\"\n"
     ]
    },
    {
     "name": "stderr",
     "output_type": "stream",
     "text": [
      "Warning message:\n",
      "“Pareto k diagnostic value is 0.85. Resampling is unreliable. Increasing the number of draws or decreasing tol_rel_obj may help.”\n"
     ]
    },
    {
     "name": "stdout",
     "output_type": "stream",
     "text": [
      "[1] \"440-th simulation finished, 5.24199999999996 sec.\"\n",
      "[1] \"441-th simulation finished, 2.44900000000007 sec.\"\n",
      "[1] \"442-th simulation finished, 5.06899999999996 sec.\"\n",
      "[1] \"443-th simulation finished, 5.13900000000012 sec.\"\n"
     ]
    },
    {
     "name": "stderr",
     "output_type": "stream",
     "text": [
      "Warning message:\n",
      "“Pareto k diagnostic value is 0.84. Resampling is unreliable. Increasing the number of draws or decreasing tol_rel_obj may help.”\n"
     ]
    },
    {
     "name": "stdout",
     "output_type": "stream",
     "text": [
      "[1] \"444-th simulation finished, 5.20899999999983 sec.\"\n",
      "[1] \"445-th simulation finished, 2.24800000000005 sec.\"\n",
      "[1] \"446-th simulation finished, 3.63000000000011 sec.\"\n"
     ]
    },
    {
     "name": "stderr",
     "output_type": "stream",
     "text": [
      "Warning message:\n",
      "“Pareto k diagnostic value is 0.86. Resampling is unreliable. Increasing the number of draws or decreasing tol_rel_obj may help.”\n"
     ]
    },
    {
     "name": "stdout",
     "output_type": "stream",
     "text": [
      "[1] \"447-th simulation finished, 5.24000000000001 sec.\"\n"
     ]
    },
    {
     "name": "stderr",
     "output_type": "stream",
     "text": [
      "Warning message:\n",
      "“Pareto k diagnostic value is 0.88. Resampling is unreliable. Increasing the number of draws or decreasing tol_rel_obj may help.”\n"
     ]
    },
    {
     "name": "stdout",
     "output_type": "stream",
     "text": [
      "[1] \"448-th simulation finished, 5.21900000000005 sec.\"\n",
      "[1] \"449-th simulation finished, 5.13099999999986 sec.\"\n",
      "[1] \"450-th simulation finished, 2.28100000000018 sec.\"\n",
      "[1] \"451-th simulation finished, 3.625 sec.\"\n",
      "[1] \"452-th simulation finished, 2.47699999999986 sec.\"\n",
      "[1] \"453-th simulation finished, 2.19200000000001 sec.\"\n"
     ]
    },
    {
     "name": "stderr",
     "output_type": "stream",
     "text": [
      "Warning message:\n",
      "“Pareto k diagnostic value is 0.82. Resampling is unreliable. Increasing the number of draws or decreasing tol_rel_obj may help.”\n"
     ]
    },
    {
     "name": "stdout",
     "output_type": "stream",
     "text": [
      "[1] \"454-th simulation finished, 5.22200000000021 sec.\"\n",
      "[1] \"455-th simulation finished, 2.37899999999991 sec.\"\n"
     ]
    },
    {
     "name": "stderr",
     "output_type": "stream",
     "text": [
      "Warning message:\n",
      "“Pareto k diagnostic value is 0.85. Resampling is unreliable. Increasing the number of draws or decreasing tol_rel_obj may help.”\n"
     ]
    },
    {
     "name": "stdout",
     "output_type": "stream",
     "text": [
      "[1] \"456-th simulation finished, 5.25 sec.\"\n",
      "[1] \"457-th simulation finished, 2.17200000000003 sec.\"\n"
     ]
    },
    {
     "name": "stderr",
     "output_type": "stream",
     "text": [
      "Warning message:\n",
      "“Pareto k diagnostic value is 0.87. Resampling is unreliable. Increasing the number of draws or decreasing tol_rel_obj may help.”\n"
     ]
    },
    {
     "name": "stdout",
     "output_type": "stream",
     "text": [
      "[1] \"458-th simulation finished, 5.173 sec.\"\n"
     ]
    },
    {
     "name": "stderr",
     "output_type": "stream",
     "text": [
      "Warning message:\n",
      "“Pareto k diagnostic value is 0.85. Resampling is unreliable. Increasing the number of draws or decreasing tol_rel_obj may help.”\n"
     ]
    },
    {
     "name": "stdout",
     "output_type": "stream",
     "text": [
      "[1] \"459-th simulation finished, 5.19800000000009 sec.\"\n",
      "[1] \"460-th simulation finished, 3.59699999999998 sec.\"\n"
     ]
    },
    {
     "name": "stderr",
     "output_type": "stream",
     "text": [
      "Warning message:\n",
      "“Pareto k diagnostic value is 0.88. Resampling is unreliable. Increasing the number of draws or decreasing tol_rel_obj may help.”\n"
     ]
    },
    {
     "name": "stdout",
     "output_type": "stream",
     "text": [
      "[1] \"461-th simulation finished, 5.16399999999999 sec.\"\n"
     ]
    },
    {
     "name": "stderr",
     "output_type": "stream",
     "text": [
      "Warning message:\n",
      "“Pareto k diagnostic value is 0.9. Resampling is unreliable. Increasing the number of draws or decreasing tol_rel_obj may help.”\n"
     ]
    },
    {
     "name": "stdout",
     "output_type": "stream",
     "text": [
      "[1] \"462-th simulation finished, 5.20299999999997 sec.\"\n"
     ]
    },
    {
     "name": "stderr",
     "output_type": "stream",
     "text": [
      "Warning message:\n",
      "“Pareto k diagnostic value is 0.85. Resampling is unreliable. Increasing the number of draws or decreasing tol_rel_obj may help.”\n"
     ]
    },
    {
     "name": "stdout",
     "output_type": "stream",
     "text": [
      "[1] \"463-th simulation finished, 5.21199999999999 sec.\"\n",
      "[1] \"464-th simulation finished, 2.38599999999997 sec.\"\n",
      "[1] \"465-th simulation finished, 5.05899999999997 sec.\"\n"
     ]
    },
    {
     "name": "stderr",
     "output_type": "stream",
     "text": [
      "Warning message:\n",
      "“Pareto k diagnostic value is 0.83. Resampling is unreliable. Increasing the number of draws or decreasing tol_rel_obj may help.”\n"
     ]
    },
    {
     "name": "stdout",
     "output_type": "stream",
     "text": [
      "[1] \"466-th simulation finished, 5.23199999999997 sec.\"\n",
      "[1] \"467-th simulation finished, 2.39900000000011 sec.\"\n"
     ]
    },
    {
     "name": "stderr",
     "output_type": "stream",
     "text": [
      "Warning message:\n",
      "“Pareto k diagnostic value is 0.89. Resampling is unreliable. Increasing the number of draws or decreasing tol_rel_obj may help.”\n"
     ]
    },
    {
     "name": "stdout",
     "output_type": "stream",
     "text": [
      "[1] \"468-th simulation finished, 5.17499999999995 sec.\"\n"
     ]
    },
    {
     "name": "stderr",
     "output_type": "stream",
     "text": [
      "Warning message:\n",
      "“Pareto k diagnostic value is 0.79. Resampling is unreliable. Increasing the number of draws or decreasing tol_rel_obj may help.”\n"
     ]
    },
    {
     "name": "stdout",
     "output_type": "stream",
     "text": [
      "[1] \"469-th simulation finished, 5.19299999999998 sec.\"\n",
      "[1] \"470-th simulation finished, 2.34400000000005 sec.\"\n",
      "[1] \"471-th simulation finished, 2.48099999999999 sec.\"\n",
      "[1] \"472-th simulation finished, 2.37799999999993 sec.\"\n"
     ]
    },
    {
     "name": "stderr",
     "output_type": "stream",
     "text": [
      "Warning message:\n",
      "“Pareto k diagnostic value is 0.86. Resampling is unreliable. Increasing the number of draws or decreasing tol_rel_obj may help.”\n"
     ]
    },
    {
     "name": "stdout",
     "output_type": "stream",
     "text": [
      "[1] \"473-th simulation finished, 5.12100000000009 sec.\"\n",
      "[1] \"474-th simulation finished, 3.61799999999994 sec.\"\n",
      "[1] \"475-th simulation finished, 5.07400000000007 sec.\"\n"
     ]
    },
    {
     "name": "stderr",
     "output_type": "stream",
     "text": [
      "Warning message:\n",
      "“Pareto k diagnostic value is 0.81. Resampling is unreliable. Increasing the number of draws or decreasing tol_rel_obj may help.”\n"
     ]
    },
    {
     "name": "stdout",
     "output_type": "stream",
     "text": [
      "[1] \"476-th simulation finished, 5.18299999999999 sec.\"\n",
      "[1] \"477-th simulation finished, 3.56899999999996 sec.\"\n",
      "[1] \"478-th simulation finished, 5.08300000000008 sec.\"\n"
     ]
    },
    {
     "name": "stderr",
     "output_type": "stream",
     "text": [
      "Warning message:\n",
      "“Pareto k diagnostic value is 0.87. Resampling is unreliable. Increasing the number of draws or decreasing tol_rel_obj may help.”\n"
     ]
    },
    {
     "name": "stdout",
     "output_type": "stream",
     "text": [
      "[1] \"479-th simulation finished, 5.17000000000007 sec.\"\n",
      "[1] \"480-th simulation finished, 5.11400000000003 sec.\"\n"
     ]
    },
    {
     "name": "stderr",
     "output_type": "stream",
     "text": [
      "Warning message:\n",
      "“Pareto k diagnostic value is 0.79. Resampling is unreliable. Increasing the number of draws or decreasing tol_rel_obj may help.”\n"
     ]
    },
    {
     "name": "stdout",
     "output_type": "stream",
     "text": [
      "[1] \"481-th simulation finished, 5.18599999999992 sec.\"\n"
     ]
    },
    {
     "name": "stderr",
     "output_type": "stream",
     "text": [
      "Warning message:\n",
      "“Pareto k diagnostic value is 0.87. Resampling is unreliable. Increasing the number of draws or decreasing tol_rel_obj may help.”\n"
     ]
    },
    {
     "name": "stdout",
     "output_type": "stream",
     "text": [
      "[1] \"482-th simulation finished, 5.22900000000004 sec.\"\n",
      "[1] \"483-th simulation finished, 2.36500000000001 sec.\"\n",
      "[1] \"484-th simulation finished, 3.75600000000009 sec.\"\n"
     ]
    },
    {
     "name": "stderr",
     "output_type": "stream",
     "text": [
      "Warning message:\n",
      "“Pareto k diagnostic value is 0.91. Resampling is unreliable. Increasing the number of draws or decreasing tol_rel_obj may help.”\n"
     ]
    },
    {
     "name": "stdout",
     "output_type": "stream",
     "text": [
      "[1] \"485-th simulation finished, 5.13699999999994 sec.\"\n"
     ]
    },
    {
     "name": "stderr",
     "output_type": "stream",
     "text": [
      "Warning message:\n",
      "“Pareto k diagnostic value is 0.86. Resampling is unreliable. Increasing the number of draws or decreasing tol_rel_obj may help.”\n"
     ]
    },
    {
     "name": "stdout",
     "output_type": "stream",
     "text": [
      "[1] \"486-th simulation finished, 5.18499999999995 sec.\"\n"
     ]
    },
    {
     "name": "stderr",
     "output_type": "stream",
     "text": [
      "Warning message:\n",
      "“Pareto k diagnostic value is 0.9. Resampling is unreliable. Increasing the number of draws or decreasing tol_rel_obj may help.”\n"
     ]
    },
    {
     "name": "stdout",
     "output_type": "stream",
     "text": [
      "[1] \"487-th simulation finished, 5.17699999999991 sec.\"\n"
     ]
    },
    {
     "name": "stderr",
     "output_type": "stream",
     "text": [
      "Warning message:\n",
      "“Pareto k diagnostic value is 0.87. Resampling is unreliable. Increasing the number of draws or decreasing tol_rel_obj may help.”\n"
     ]
    },
    {
     "name": "stdout",
     "output_type": "stream",
     "text": [
      "[1] \"488-th simulation finished, 5.25500000000011 sec.\"\n"
     ]
    },
    {
     "name": "stderr",
     "output_type": "stream",
     "text": [
      "Warning message:\n",
      "“Pareto k diagnostic value is 0.84. Resampling is unreliable. Increasing the number of draws or decreasing tol_rel_obj may help.”\n"
     ]
    },
    {
     "name": "stdout",
     "output_type": "stream",
     "text": [
      "[1] \"489-th simulation finished, 5.14999999999986 sec.\"\n",
      "[1] \"490-th simulation finished, 2.49800000000005 sec.\"\n",
      "[1] \"491-th simulation finished, 5.14900000000011 sec.\"\n",
      "[1] \"492-th simulation finished, 3.58699999999999 sec.\"\n"
     ]
    },
    {
     "name": "stderr",
     "output_type": "stream",
     "text": [
      "Warning message:\n",
      "“Pareto k diagnostic value is 0.86. Resampling is unreliable. Increasing the number of draws or decreasing tol_rel_obj may help.”\n"
     ]
    },
    {
     "name": "stdout",
     "output_type": "stream",
     "text": [
      "[1] \"493-th simulation finished, 5.25699999999983 sec.\"\n",
      "[1] \"494-th simulation finished, 2.33899999999994 sec.\"\n"
     ]
    },
    {
     "name": "stderr",
     "output_type": "stream",
     "text": [
      "Warning message:\n",
      "“Pareto k diagnostic value is 0.89. Resampling is unreliable. Increasing the number of draws or decreasing tol_rel_obj may help.”\n"
     ]
    },
    {
     "name": "stdout",
     "output_type": "stream",
     "text": [
      "[1] \"495-th simulation finished, 5.18799999999987 sec.\"\n",
      "[1] \"496-th simulation finished, 2.33600000000001 sec.\"\n"
     ]
    },
    {
     "name": "stderr",
     "output_type": "stream",
     "text": [
      "Warning message:\n",
      "“Pareto k diagnostic value is 0.82. Resampling is unreliable. Increasing the number of draws or decreasing tol_rel_obj may help.”\n"
     ]
    },
    {
     "name": "stdout",
     "output_type": "stream",
     "text": [
      "[1] \"497-th simulation finished, 5.32300000000009 sec.\"\n"
     ]
    },
    {
     "name": "stderr",
     "output_type": "stream",
     "text": [
      "Warning message:\n",
      "“Pareto k diagnostic value is 0.73. Resampling is unreliable. Increasing the number of draws or decreasing tol_rel_obj may help.”\n"
     ]
    },
    {
     "name": "stdout",
     "output_type": "stream",
     "text": [
      "[1] \"498-th simulation finished, 2.47600000000011 sec.\"\n"
     ]
    },
    {
     "name": "stderr",
     "output_type": "stream",
     "text": [
      "Warning message:\n",
      "“Pareto k diagnostic value is 0.84. Resampling is unreliable. Increasing the number of draws or decreasing tol_rel_obj may help.”\n"
     ]
    },
    {
     "name": "stdout",
     "output_type": "stream",
     "text": [
      "[1] \"499-th simulation finished, 5.18799999999987 sec.\"\n"
     ]
    },
    {
     "name": "stderr",
     "output_type": "stream",
     "text": [
      "Warning message:\n",
      "“Pareto k diagnostic value is 0.9. Resampling is unreliable. Increasing the number of draws or decreasing tol_rel_obj may help.”\n"
     ]
    },
    {
     "name": "stdout",
     "output_type": "stream",
     "text": [
      "[1] \"500-th simulation finished, 5.10300000000007 sec.\"\n",
      "[1] \"501-th simulation finished, 5.2829999999999 sec.\"\n",
      "[1] \"502-th simulation finished, 2.26000000000022 sec.\"\n"
     ]
    },
    {
     "name": "stderr",
     "output_type": "stream",
     "text": [
      "Warning message:\n",
      "“Pareto k diagnostic value is 0.82. Resampling is unreliable. Increasing the number of draws or decreasing tol_rel_obj may help.”\n"
     ]
    },
    {
     "name": "stdout",
     "output_type": "stream",
     "text": [
      "[1] \"503-th simulation finished, 5.18199999999979 sec.\"\n",
      "[1] \"504-th simulation finished, 2.38700000000017 sec.\"\n",
      "[1] \"505-th simulation finished, 5.07000000000016 sec.\"\n",
      "[1] \"506-th simulation finished, 2.38300000000027 sec.\"\n"
     ]
    },
    {
     "name": "stderr",
     "output_type": "stream",
     "text": [
      "Warning message:\n",
      "“Pareto k diagnostic value is 0.88. Resampling is unreliable. Increasing the number of draws or decreasing tol_rel_obj may help.”\n"
     ]
    },
    {
     "name": "stdout",
     "output_type": "stream",
     "text": [
      "[1] \"507-th simulation finished, 5.18299999999999 sec.\"\n"
     ]
    },
    {
     "name": "stderr",
     "output_type": "stream",
     "text": [
      "Warning message:\n",
      "“Pareto k diagnostic value is 0.82. Resampling is unreliable. Increasing the number of draws or decreasing tol_rel_obj may help.”\n"
     ]
    },
    {
     "name": "stdout",
     "output_type": "stream",
     "text": [
      "[1] \"508-th simulation finished, 5.096 sec.\"\n"
     ]
    },
    {
     "name": "stderr",
     "output_type": "stream",
     "text": [
      "Warning message:\n",
      "“Pareto k diagnostic value is 0.92. Resampling is unreliable. Increasing the number of draws or decreasing tol_rel_obj may help.”\n"
     ]
    },
    {
     "name": "stdout",
     "output_type": "stream",
     "text": [
      "[1] \"509-th simulation finished, 5.14300000000003 sec.\"\n"
     ]
    },
    {
     "name": "stderr",
     "output_type": "stream",
     "text": [
      "Warning message:\n",
      "“Pareto k diagnostic value is 0.88. Resampling is unreliable. Increasing the number of draws or decreasing tol_rel_obj may help.”\n"
     ]
    },
    {
     "name": "stdout",
     "output_type": "stream",
     "text": [
      "[1] \"510-th simulation finished, 5.21199999999999 sec.\"\n",
      "[1] \"511-th simulation finished, 2.41799999999967 sec.\"\n",
      "[1] \"512-th simulation finished, 3.625 sec.\"\n"
     ]
    },
    {
     "name": "stderr",
     "output_type": "stream",
     "text": [
      "Warning message:\n",
      "“Pareto k diagnostic value is 0.91. Resampling is unreliable. Increasing the number of draws or decreasing tol_rel_obj may help.”\n"
     ]
    },
    {
     "name": "stdout",
     "output_type": "stream",
     "text": [
      "[1] \"513-th simulation finished, 5.14999999999964 sec.\"\n",
      "[1] \"514-th simulation finished, 3.62699999999995 sec.\"\n",
      "[1] \"515-th simulation finished, 3.57699999999977 sec.\"\n",
      "[1] \"516-th simulation finished, 3.63400000000001 sec.\"\n",
      "[1] \"517-th simulation finished, 5.0590000000002 sec.\"\n"
     ]
    },
    {
     "name": "stderr",
     "output_type": "stream",
     "text": [
      "Warning message:\n",
      "“Pareto k diagnostic value is 0.84. Resampling is unreliable. Increasing the number of draws or decreasing tol_rel_obj may help.”\n"
     ]
    },
    {
     "name": "stdout",
     "output_type": "stream",
     "text": [
      "[1] \"518-th simulation finished, 5.19800000000032 sec.\"\n"
     ]
    },
    {
     "name": "stderr",
     "output_type": "stream",
     "text": [
      "Warning message:\n",
      "“Pareto k diagnostic value is 0.84. Resampling is unreliable. Increasing the number of draws or decreasing tol_rel_obj may help.”\n"
     ]
    },
    {
     "name": "stdout",
     "output_type": "stream",
     "text": [
      "[1] \"519-th simulation finished, 5.18299999999999 sec.\"\n"
     ]
    },
    {
     "name": "stderr",
     "output_type": "stream",
     "text": [
      "Warning message:\n",
      "“Pareto k diagnostic value is 0.72. Resampling is unreliable. Increasing the number of draws or decreasing tol_rel_obj may help.”\n"
     ]
    },
    {
     "name": "stdout",
     "output_type": "stream",
     "text": [
      "[1] \"520-th simulation finished, 5.24099999999999 sec.\"\n",
      "[1] \"521-th simulation finished, 5.12300000000005 sec.\"\n",
      "[1] \"522-th simulation finished, 2.38199999999961 sec.\"\n",
      "[1] \"523-th simulation finished, 3.75500000000011 sec.\"\n",
      "[1] \"524-th simulation finished, 5.11799999999994 sec.\"\n",
      "[1] \"525-th simulation finished, 3.59400000000005 sec.\"\n"
     ]
    },
    {
     "name": "stderr",
     "output_type": "stream",
     "text": [
      "Warning message:\n",
      "“Pareto k diagnostic value is 0.9. Resampling is unreliable. Increasing the number of draws or decreasing tol_rel_obj may help.”\n"
     ]
    },
    {
     "name": "stdout",
     "output_type": "stream",
     "text": [
      "[1] \"526-th simulation finished, 5.18200000000024 sec.\"\n",
      "[1] \"527-th simulation finished, 2.16500000000042 sec.\"\n",
      "[1] \"528-th simulation finished, 2.26400000000012 sec.\"\n",
      "[1] \"529-th simulation finished, 3.5930000000003 sec.\"\n",
      "[1] \"530-th simulation finished, 2.46100000000024 sec.\"\n",
      "[1] \"531-th simulation finished, 5.10699999999997 sec.\"\n",
      "[1] \"532-th simulation finished, 3.61599999999999 sec.\"\n"
     ]
    },
    {
     "name": "stderr",
     "output_type": "stream",
     "text": [
      "Warning message:\n",
      "“Pareto k diagnostic value is 0.92. Resampling is unreliable. Increasing the number of draws or decreasing tol_rel_obj may help.”\n"
     ]
    },
    {
     "name": "stdout",
     "output_type": "stream",
     "text": [
      "[1] \"533-th simulation finished, 5.23700000000008 sec.\"\n"
     ]
    },
    {
     "name": "stderr",
     "output_type": "stream",
     "text": [
      "Warning message:\n",
      "“Pareto k diagnostic value is 0.88. Resampling is unreliable. Increasing the number of draws or decreasing tol_rel_obj may help.”\n"
     ]
    },
    {
     "name": "stdout",
     "output_type": "stream",
     "text": [
      "[1] \"534-th simulation finished, 5.33999999999969 sec.\"\n"
     ]
    },
    {
     "name": "stderr",
     "output_type": "stream",
     "text": [
      "Warning message:\n",
      "“Pareto k diagnostic value is 0.72. Resampling is unreliable. Increasing the number of draws or decreasing tol_rel_obj may help.”\n"
     ]
    },
    {
     "name": "stdout",
     "output_type": "stream",
     "text": [
      "[1] \"535-th simulation finished, 6.0010000000002 sec.\"\n"
     ]
    },
    {
     "name": "stderr",
     "output_type": "stream",
     "text": [
      "Warning message:\n",
      "“Pareto k diagnostic value is 0.86. Resampling is unreliable. Increasing the number of draws or decreasing tol_rel_obj may help.”\n"
     ]
    },
    {
     "name": "stdout",
     "output_type": "stream",
     "text": [
      "[1] \"536-th simulation finished, 5.17700000000013 sec.\"\n",
      "[1] \"537-th simulation finished, 3.71599999999989 sec.\"\n",
      "[1] \"538-th simulation finished, 5.09800000000041 sec.\"\n",
      "[1] \"539-th simulation finished, 2.38599999999997 sec.\"\n",
      "[1] \"540-th simulation finished, 2.38799999999992 sec.\"\n",
      "[1] \"541-th simulation finished, 5.12100000000009 sec.\"\n"
     ]
    },
    {
     "name": "stderr",
     "output_type": "stream",
     "text": [
      "Warning message:\n",
      "“Pareto k diagnostic value is 0.8. Resampling is unreliable. Increasing the number of draws or decreasing tol_rel_obj may help.”\n"
     ]
    },
    {
     "name": "stdout",
     "output_type": "stream",
     "text": [
      "[1] \"542-th simulation finished, 5.2180000000003 sec.\"\n"
     ]
    },
    {
     "name": "stderr",
     "output_type": "stream",
     "text": [
      "Warning message:\n",
      "“Pareto k diagnostic value is 0.87. Resampling is unreliable. Increasing the number of draws or decreasing tol_rel_obj may help.”\n"
     ]
    },
    {
     "name": "stdout",
     "output_type": "stream",
     "text": [
      "[1] \"543-th simulation finished, 5.17399999999998 sec.\"\n"
     ]
    },
    {
     "name": "stderr",
     "output_type": "stream",
     "text": [
      "Warning message:\n",
      "“Pareto k diagnostic value is 0.81. Resampling is unreliable. Increasing the number of draws or decreasing tol_rel_obj may help.”\n"
     ]
    },
    {
     "name": "stdout",
     "output_type": "stream",
     "text": [
      "[1] \"544-th simulation finished, 5.21199999999999 sec.\"\n",
      "[1] \"545-th simulation finished, 3.67000000000007 sec.\"\n"
     ]
    },
    {
     "name": "stderr",
     "output_type": "stream",
     "text": [
      "Warning message:\n",
      "“Pareto k diagnostic value is 0.88. Resampling is unreliable. Increasing the number of draws or decreasing tol_rel_obj may help.”\n"
     ]
    },
    {
     "name": "stdout",
     "output_type": "stream",
     "text": [
      "[1] \"546-th simulation finished, 5.17099999999982 sec.\"\n",
      "[1] \"547-th simulation finished, 2.35799999999972 sec.\"\n",
      "[1] \"548-th simulation finished, 5.14699999999993 sec.\"\n"
     ]
    },
    {
     "name": "stderr",
     "output_type": "stream",
     "text": [
      "Warning message:\n",
      "“Pareto k diagnostic value is 0.85. Resampling is unreliable. Increasing the number of draws or decreasing tol_rel_obj may help.”\n"
     ]
    },
    {
     "name": "stdout",
     "output_type": "stream",
     "text": [
      "[1] \"549-th simulation finished, 5.1550000000002 sec.\"\n",
      "[1] \"550-th simulation finished, 3.59899999999971 sec.\"\n",
      "[1] \"551-th simulation finished, 5.24000000000024 sec.\"\n",
      "[1] \"552-th simulation finished, 5.24800000000005 sec.\"\n",
      "[1] \"553-th simulation finished, 5.12699999999995 sec.\"\n",
      "[1] \"554-th simulation finished, 2.22399999999971 sec.\"\n",
      "[1] \"555-th simulation finished, 2.15299999999979 sec.\"\n",
      "[1] \"556-th simulation finished, 2.36100000000033 sec.\"\n"
     ]
    },
    {
     "name": "stderr",
     "output_type": "stream",
     "text": [
      "Warning message:\n",
      "“Pareto k diagnostic value is 0.89. Resampling is unreliable. Increasing the number of draws or decreasing tol_rel_obj may help.”\n"
     ]
    },
    {
     "name": "stdout",
     "output_type": "stream",
     "text": [
      "[1] \"557-th simulation finished, 5.24199999999973 sec.\"\n",
      "[1] \"558-th simulation finished, 5.22200000000021 sec.\"\n",
      "[1] \"559-th simulation finished, 3.60699999999997 sec.\"\n",
      "[1] \"560-th simulation finished, 2.31500000000005 sec.\"\n"
     ]
    },
    {
     "name": "stderr",
     "output_type": "stream",
     "text": [
      "Warning message:\n",
      "“Pareto k diagnostic value is 1.03. Resampling is disabled. Decreasing tol_rel_obj may help if variational algorithm has terminated prematurely. Otherwise consider using sampling instead.”\n"
     ]
    },
    {
     "name": "stdout",
     "output_type": "stream",
     "text": [
      "[1] \"561-th simulation finished, 5.18199999999979 sec.\"\n",
      "[1] \"562-th simulation finished, 2.42099999999982 sec.\"\n"
     ]
    },
    {
     "name": "stderr",
     "output_type": "stream",
     "text": [
      "Warning message:\n",
      "“Pareto k diagnostic value is 0.91. Resampling is unreliable. Increasing the number of draws or decreasing tol_rel_obj may help.”\n"
     ]
    },
    {
     "name": "stdout",
     "output_type": "stream",
     "text": [
      "[1] \"563-th simulation finished, 5.20399999999972 sec.\"\n",
      "[1] \"564-th simulation finished, 3.63999999999987 sec.\"\n",
      "[1] \"565-th simulation finished, 5.20400000000018 sec.\"\n"
     ]
    },
    {
     "name": "stderr",
     "output_type": "stream",
     "text": [
      "Warning message:\n",
      "“Pareto k diagnostic value is 0.86. Resampling is unreliable. Increasing the number of draws or decreasing tol_rel_obj may help.”\n"
     ]
    },
    {
     "name": "stdout",
     "output_type": "stream",
     "text": [
      "[1] \"566-th simulation finished, 5.16499999999996 sec.\"\n",
      "[1] \"567-th simulation finished, 2.41499999999996 sec.\"\n",
      "[1] \"568-th simulation finished, 3.59099999999989 sec.\"\n",
      "[1] \"569-th simulation finished, 2.36400000000003 sec.\"\n",
      "[1] \"570-th simulation finished, 2.16900000000032 sec.\"\n",
      "[1] \"571-th simulation finished, 2.33300000000008 sec.\"\n",
      "[1] \"572-th simulation finished, 3.61900000000014 sec.\"\n",
      "[1] \"573-th simulation finished, 5.0659999999998 sec.\"\n",
      "[1] \"574-th simulation finished, 2.37899999999991 sec.\"\n",
      "[1] \"575-th simulation finished, 3.58800000000019 sec.\"\n",
      "[1] \"576-th simulation finished, 5.13000000000011 sec.\"\n",
      "[1] \"577-th simulation finished, 2.39199999999983 sec.\"\n"
     ]
    },
    {
     "name": "stderr",
     "output_type": "stream",
     "text": [
      "Warning message:\n",
      "“Pareto k diagnostic value is 0.86. Resampling is unreliable. Increasing the number of draws or decreasing tol_rel_obj may help.”\n"
     ]
    },
    {
     "name": "stdout",
     "output_type": "stream",
     "text": [
      "[1] \"578-th simulation finished, 5.16199999999981 sec.\"\n"
     ]
    },
    {
     "name": "stderr",
     "output_type": "stream",
     "text": [
      "Warning message:\n",
      "“Pareto k diagnostic value is 0.86. Resampling is unreliable. Increasing the number of draws or decreasing tol_rel_obj may help.”\n"
     ]
    },
    {
     "name": "stdout",
     "output_type": "stream",
     "text": [
      "[1] \"579-th simulation finished, 5.06099999999969 sec.\"\n",
      "[1] \"580-th simulation finished, 2.51400000000012 sec.\"\n"
     ]
    },
    {
     "name": "stderr",
     "output_type": "stream",
     "text": [
      "Warning message:\n",
      "“Pareto k diagnostic value is 0.73. Resampling is unreliable. Increasing the number of draws or decreasing tol_rel_obj may help.”\n"
     ]
    },
    {
     "name": "stdout",
     "output_type": "stream",
     "text": [
      "[1] \"581-th simulation finished, 5.16699999999992 sec.\"\n",
      "[1] \"582-th simulation finished, 5.02199999999993 sec.\"\n"
     ]
    },
    {
     "name": "stderr",
     "output_type": "stream",
     "text": [
      "Warning message:\n",
      "“Pareto k diagnostic value is 0.89. Resampling is unreliable. Increasing the number of draws or decreasing tol_rel_obj may help.”\n"
     ]
    },
    {
     "name": "stdout",
     "output_type": "stream",
     "text": [
      "[1] \"583-th simulation finished, 5.12599999999975 sec.\"\n"
     ]
    },
    {
     "name": "stderr",
     "output_type": "stream",
     "text": [
      "Warning message:\n",
      "“Pareto k diagnostic value is 0.86. Resampling is unreliable. Increasing the number of draws or decreasing tol_rel_obj may help.”\n"
     ]
    },
    {
     "name": "stdout",
     "output_type": "stream",
     "text": [
      "[1] \"584-th simulation finished, 5.07200000000012 sec.\"\n",
      "[1] \"585-th simulation finished, 3.54500000000007 sec.\"\n",
      "[1] \"586-th simulation finished, 3.52099999999973 sec.\"\n",
      "[1] \"587-th simulation finished, 5.03400000000011 sec.\"\n"
     ]
    },
    {
     "name": "stderr",
     "output_type": "stream",
     "text": [
      "Warning message:\n",
      "“Pareto k diagnostic value is 0.85. Resampling is unreliable. Increasing the number of draws or decreasing tol_rel_obj may help.”\n"
     ]
    },
    {
     "name": "stdout",
     "output_type": "stream",
     "text": [
      "[1] \"588-th simulation finished, 5.10100000000011 sec.\"\n",
      "[1] \"589-th simulation finished, 4.96500000000015 sec.\"\n",
      "[1] \"590-th simulation finished, 2.20899999999983 sec.\"\n"
     ]
    },
    {
     "name": "stderr",
     "output_type": "stream",
     "text": [
      "Warning message:\n",
      "“Pareto k diagnostic value is 0.85. Resampling is unreliable. Increasing the number of draws or decreasing tol_rel_obj may help.”\n"
     ]
    },
    {
     "name": "stdout",
     "output_type": "stream",
     "text": [
      "[1] \"591-th simulation finished, 5.12599999999975 sec.\"\n",
      "[1] \"592-th simulation finished, 2.32999999999993 sec.\"\n"
     ]
    },
    {
     "name": "stderr",
     "output_type": "stream",
     "text": [
      "Warning message:\n",
      "“Pareto k diagnostic value is 0.86. Resampling is unreliable. Increasing the number of draws or decreasing tol_rel_obj may help.”\n"
     ]
    },
    {
     "name": "stdout",
     "output_type": "stream",
     "text": [
      "[1] \"593-th simulation finished, 5.10300000000007 sec.\"\n"
     ]
    },
    {
     "name": "stderr",
     "output_type": "stream",
     "text": [
      "Warning message:\n",
      "“Pareto k diagnostic value is 0.8. Resampling is unreliable. Increasing the number of draws or decreasing tol_rel_obj may help.”\n"
     ]
    },
    {
     "name": "stdout",
     "output_type": "stream",
     "text": [
      "[1] \"594-th simulation finished, 5.05600000000004 sec.\"\n",
      "[1] \"595-th simulation finished, 2.29199999999992 sec.\"\n"
     ]
    },
    {
     "name": "stderr",
     "output_type": "stream",
     "text": [
      "Warning message:\n",
      "“Pareto k diagnostic value is 0.83. Resampling is unreliable. Increasing the number of draws or decreasing tol_rel_obj may help.”\n"
     ]
    },
    {
     "name": "stdout",
     "output_type": "stream",
     "text": [
      "[1] \"596-th simulation finished, 5.19299999999976 sec.\"\n"
     ]
    },
    {
     "name": "stderr",
     "output_type": "stream",
     "text": [
      "Warning message:\n",
      "“Pareto k diagnostic value is 0.9. Resampling is unreliable. Increasing the number of draws or decreasing tol_rel_obj may help.”\n"
     ]
    },
    {
     "name": "stdout",
     "output_type": "stream",
     "text": [
      "[1] \"597-th simulation finished, 5.03899999999976 sec.\"\n",
      "[1] \"598-th simulation finished, 3.55000000000018 sec.\"\n",
      "[1] \"599-th simulation finished, 2.47899999999981 sec.\"\n"
     ]
    },
    {
     "name": "stderr",
     "output_type": "stream",
     "text": [
      "Warning message:\n",
      "“Pareto k diagnostic value is 0.84. Resampling is unreliable. Increasing the number of draws or decreasing tol_rel_obj may help.”\n"
     ]
    },
    {
     "name": "stdout",
     "output_type": "stream",
     "text": [
      "[1] \"600-th simulation finished, 5.10399999999981 sec.\"\n",
      "[1] \"601-th simulation finished, 2.3430000000003 sec.\"\n",
      "[1] \"602-th simulation finished, 5.64300000000003 sec.\"\n",
      "[1] \"603-th simulation finished, 5.19900000000007 sec.\"\n",
      "[1] \"604-th simulation finished, 5.00499999999965 sec.\"\n",
      "[1] \"605-th simulation finished, 3.5619999999999 sec.\"\n",
      "[1] \"606-th simulation finished, 2.32099999999991 sec.\"\n"
     ]
    },
    {
     "name": "stderr",
     "output_type": "stream",
     "text": [
      "Warning message:\n",
      "“Pareto k diagnostic value is 0.84. Resampling is unreliable. Increasing the number of draws or decreasing tol_rel_obj may help.”\n"
     ]
    },
    {
     "name": "stdout",
     "output_type": "stream",
     "text": [
      "[1] \"607-th simulation finished, 5.10600000000022 sec.\"\n",
      "[1] \"608-th simulation finished, 2.32999999999993 sec.\"\n",
      "[1] \"609-th simulation finished, 3.60400000000027 sec.\"\n",
      "[1] \"610-th simulation finished, 3.55200000000013 sec.\"\n",
      "[1] \"611-th simulation finished, 2.2810000000004 sec.\"\n",
      "[1] \"612-th simulation finished, 3.54700000000003 sec.\"\n",
      "[1] \"613-th simulation finished, 2.38799999999992 sec.\"\n",
      "[1] \"614-th simulation finished, 3.59500000000025 sec.\"\n",
      "[1] \"615-th simulation finished, 2.35400000000027 sec.\"\n",
      "[1] \"616-th simulation finished, 3.56500000000005 sec.\"\n",
      "[1] \"617-th simulation finished, 2.42200000000003 sec.\"\n",
      "[1] \"618-th simulation finished, 3.52399999999989 sec.\"\n"
     ]
    },
    {
     "name": "stderr",
     "output_type": "stream",
     "text": [
      "Warning message:\n",
      "“Pareto k diagnostic value is 0.87. Resampling is unreliable. Increasing the number of draws or decreasing tol_rel_obj may help.”\n"
     ]
    },
    {
     "name": "stdout",
     "output_type": "stream",
     "text": [
      "[1] \"619-th simulation finished, 5.11900000000014 sec.\"\n",
      "[1] \"620-th simulation finished, 5.0329999999999 sec.\"\n",
      "[1] \"621-th simulation finished, 2.36000000000013 sec.\"\n",
      "[1] \"622-th simulation finished, 5.02799999999979 sec.\"\n",
      "[1] \"623-th simulation finished, 2.26499999999987 sec.\"\n",
      "[1] \"624-th simulation finished, 2.33499999999958 sec.\"\n",
      "[1] \"625-th simulation finished, 2.33800000000019 sec.\"\n"
     ]
    },
    {
     "name": "stderr",
     "output_type": "stream",
     "text": [
      "Warning message:\n",
      "“Pareto k diagnostic value is 0.88. Resampling is unreliable. Increasing the number of draws or decreasing tol_rel_obj may help.”\n"
     ]
    },
    {
     "name": "stdout",
     "output_type": "stream",
     "text": [
      "[1] \"626-th simulation finished, 5.1550000000002 sec.\"\n",
      "[1] \"627-th simulation finished, 5.06399999999985 sec.\"\n"
     ]
    },
    {
     "name": "stderr",
     "output_type": "stream",
     "text": [
      "Warning message:\n",
      "“Pareto k diagnostic value is 0.85. Resampling is unreliable. Increasing the number of draws or decreasing tol_rel_obj may help.”\n"
     ]
    },
    {
     "name": "stdout",
     "output_type": "stream",
     "text": [
      "[1] \"628-th simulation finished, 5.12699999999995 sec.\"\n",
      "[1] \"629-th simulation finished, 2.37300000000005 sec.\"\n"
     ]
    },
    {
     "name": "stderr",
     "output_type": "stream",
     "text": [
      "Warning message:\n",
      "“Pareto k diagnostic value is 0.88. Resampling is unreliable. Increasing the number of draws or decreasing tol_rel_obj may help.”\n"
     ]
    },
    {
     "name": "stdout",
     "output_type": "stream",
     "text": [
      "[1] \"630-th simulation finished, 5.19799999999987 sec.\"\n"
     ]
    },
    {
     "name": "stderr",
     "output_type": "stream",
     "text": [
      "Warning message:\n",
      "“Pareto k diagnostic value is 0.87. Resampling is unreliable. Increasing the number of draws or decreasing tol_rel_obj may help.”\n"
     ]
    },
    {
     "name": "stdout",
     "output_type": "stream",
     "text": [
      "[1] \"631-th simulation finished, 5.13499999999976 sec.\"\n",
      "[1] \"632-th simulation finished, 5.1909999999998 sec.\"\n",
      "[1] \"633-th simulation finished, 5.69400000000041 sec.\"\n",
      "[1] \"634-th simulation finished, 2.17599999999993 sec.\"\n",
      "[1] \"635-th simulation finished, 2.33899999999994 sec.\"\n"
     ]
    },
    {
     "name": "stderr",
     "output_type": "stream",
     "text": [
      "Warning message:\n",
      "“Pareto k diagnostic value is 0.88. Resampling is unreliable. Increasing the number of draws or decreasing tol_rel_obj may help.”\n"
     ]
    },
    {
     "name": "stdout",
     "output_type": "stream",
     "text": [
      "[1] \"636-th simulation finished, 5.13400000000001 sec.\"\n",
      "[1] \"637-th simulation finished, 3.56500000000005 sec.\"\n"
     ]
    },
    {
     "name": "stderr",
     "output_type": "stream",
     "text": [
      "Warning message:\n",
      "“Pareto k diagnostic value is 0.82. Resampling is unreliable. Increasing the number of draws or decreasing tol_rel_obj may help.”\n"
     ]
    },
    {
     "name": "stdout",
     "output_type": "stream",
     "text": [
      "[1] \"638-th simulation finished, 5.15800000000036 sec.\"\n"
     ]
    },
    {
     "name": "stderr",
     "output_type": "stream",
     "text": [
      "Warning message:\n",
      "“Pareto k diagnostic value is 0.88. Resampling is unreliable. Increasing the number of draws or decreasing tol_rel_obj may help.”\n"
     ]
    },
    {
     "name": "stdout",
     "output_type": "stream",
     "text": [
      "[1] \"639-th simulation finished, 5.11900000000014 sec.\"\n"
     ]
    },
    {
     "name": "stderr",
     "output_type": "stream",
     "text": [
      "Warning message:\n",
      "“Pareto k diagnostic value is 0.88. Resampling is unreliable. Increasing the number of draws or decreasing tol_rel_obj may help.”\n"
     ]
    },
    {
     "name": "stdout",
     "output_type": "stream",
     "text": [
      "[1] \"640-th simulation finished, 5.1579999999999 sec.\"\n"
     ]
    },
    {
     "name": "stderr",
     "output_type": "stream",
     "text": [
      "Warning message:\n",
      "“Pareto k diagnostic value is 0.88. Resampling is unreliable. Increasing the number of draws or decreasing tol_rel_obj may help.”\n"
     ]
    },
    {
     "name": "stdout",
     "output_type": "stream",
     "text": [
      "[1] \"641-th simulation finished, 5.15499999999975 sec.\"\n",
      "[1] \"642-th simulation finished, 5.01600000000008 sec.\"\n",
      "[1] \"643-th simulation finished, 2.48700000000008 sec.\"\n"
     ]
    },
    {
     "name": "stderr",
     "output_type": "stream",
     "text": [
      "Warning message:\n",
      "“Pareto k diagnostic value is 0.85. Resampling is unreliable. Increasing the number of draws or decreasing tol_rel_obj may help.”\n"
     ]
    },
    {
     "name": "stdout",
     "output_type": "stream",
     "text": [
      "[1] \"644-th simulation finished, 5.16300000000001 sec.\"\n"
     ]
    },
    {
     "name": "stderr",
     "output_type": "stream",
     "text": [
      "Warning message:\n",
      "“Pareto k diagnostic value is 0.88. Resampling is unreliable. Increasing the number of draws or decreasing tol_rel_obj may help.”\n"
     ]
    },
    {
     "name": "stdout",
     "output_type": "stream",
     "text": [
      "[1] \"645-th simulation finished, 5.24400000000014 sec.\"\n",
      "[1] \"646-th simulation finished, 3.57699999999977 sec.\"\n",
      "[1] \"647-th simulation finished, 2.33199999999988 sec.\"\n",
      "[1] \"648-th simulation finished, 2.375 sec.\"\n",
      "[1] \"649-th simulation finished, 5.06500000000005 sec.\"\n",
      "[1] \"650-th simulation finished, 5.11399999999958 sec.\"\n"
     ]
    },
    {
     "name": "stderr",
     "output_type": "stream",
     "text": [
      "Warning message:\n",
      "“Pareto k diagnostic value is 0.88. Resampling is unreliable. Increasing the number of draws or decreasing tol_rel_obj may help.”\n"
     ]
    },
    {
     "name": "stdout",
     "output_type": "stream",
     "text": [
      "[1] \"651-th simulation finished, 5.07299999999987 sec.\"\n",
      "[1] \"652-th simulation finished, 2.31999999999971 sec.\"\n"
     ]
    },
    {
     "name": "stderr",
     "output_type": "stream",
     "text": [
      "Warning message:\n",
      "“Pareto k diagnostic value is 0.86. Resampling is unreliable. Increasing the number of draws or decreasing tol_rel_obj may help.”\n"
     ]
    },
    {
     "name": "stdout",
     "output_type": "stream",
     "text": [
      "[1] \"653-th simulation finished, 5.154 sec.\"\n",
      "[1] \"654-th simulation finished, 2.31800000000021 sec.\"\n",
      "[1] \"655-th simulation finished, 5.0329999999999 sec.\"\n"
     ]
    },
    {
     "name": "stderr",
     "output_type": "stream",
     "text": [
      "Warning message:\n",
      "“Pareto k diagnostic value is 0.84. Resampling is unreliable. Increasing the number of draws or decreasing tol_rel_obj may help.”\n"
     ]
    },
    {
     "name": "stdout",
     "output_type": "stream",
     "text": [
      "[1] \"656-th simulation finished, 5.15999999999985 sec.\"\n",
      "[1] \"657-th simulation finished, 3.62300000000005 sec.\"\n"
     ]
    },
    {
     "name": "stderr",
     "output_type": "stream",
     "text": [
      "Warning message:\n",
      "“Pareto k diagnostic value is 0.87. Resampling is unreliable. Increasing the number of draws or decreasing tol_rel_obj may help.”\n"
     ]
    },
    {
     "name": "stdout",
     "output_type": "stream",
     "text": [
      "[1] \"658-th simulation finished, 5.26099999999997 sec.\"\n"
     ]
    },
    {
     "name": "stderr",
     "output_type": "stream",
     "text": [
      "Warning message:\n",
      "“Pareto k diagnostic value is 0.85. Resampling is unreliable. Increasing the number of draws or decreasing tol_rel_obj may help.”\n"
     ]
    },
    {
     "name": "stdout",
     "output_type": "stream",
     "text": [
      "[1] \"659-th simulation finished, 5.15300000000025 sec.\"\n",
      "[1] \"660-th simulation finished, 5.01700000000028 sec.\"\n"
     ]
    },
    {
     "name": "stderr",
     "output_type": "stream",
     "text": [
      "Warning message:\n",
      "“Pareto k diagnostic value is 0.91. Resampling is unreliable. Increasing the number of draws or decreasing tol_rel_obj may help.”\n"
     ]
    },
    {
     "name": "stdout",
     "output_type": "stream",
     "text": [
      "[1] \"661-th simulation finished, 5.09899999999971 sec.\"\n",
      "[1] \"662-th simulation finished, 2.36500000000024 sec.\"\n",
      "[1] \"663-th simulation finished, 5.22600000000011 sec.\"\n",
      "[1] \"664-th simulation finished, 3.64300000000003 sec.\"\n",
      "[1] \"665-th simulation finished, 2.35699999999997 sec.\"\n",
      "[1] \"666-th simulation finished, 5.04100000000017 sec.\"\n",
      "[1] \"667-th simulation finished, 2.35400000000027 sec.\"\n",
      "[1] \"668-th simulation finished, 2.36200000000008 sec.\"\n",
      "[1] \"669-th simulation finished, 2.38699999999972 sec.\"\n"
     ]
    },
    {
     "name": "stderr",
     "output_type": "stream",
     "text": [
      "Warning message:\n",
      "“Pareto k diagnostic value is 0.85. Resampling is unreliable. Increasing the number of draws or decreasing tol_rel_obj may help.”\n"
     ]
    },
    {
     "name": "stdout",
     "output_type": "stream",
     "text": [
      "[1] \"670-th simulation finished, 5.12900000000036 sec.\"\n"
     ]
    },
    {
     "name": "stderr",
     "output_type": "stream",
     "text": [
      "Warning message:\n",
      "“Pareto k diagnostic value is 0.82. Resampling is unreliable. Increasing the number of draws or decreasing tol_rel_obj may help.”\n"
     ]
    },
    {
     "name": "stdout",
     "output_type": "stream",
     "text": [
      "[1] \"671-th simulation finished, 5.14400000000023 sec.\"\n",
      "[1] \"672-th simulation finished, 2.35299999999961 sec.\"\n",
      "[1] \"673-th simulation finished, 5.26299999999992 sec.\"\n"
     ]
    },
    {
     "name": "stderr",
     "output_type": "stream",
     "text": [
      "Warning message:\n",
      "“Pareto k diagnostic value is 0.81. Resampling is unreliable. Increasing the number of draws or decreasing tol_rel_obj may help.”\n"
     ]
    },
    {
     "name": "stdout",
     "output_type": "stream",
     "text": [
      "[1] \"674-th simulation finished, 5.11599999999999 sec.\"\n"
     ]
    },
    {
     "name": "stderr",
     "output_type": "stream",
     "text": [
      "Warning message:\n",
      "“Pareto k diagnostic value is 0.83. Resampling is unreliable. Increasing the number of draws or decreasing tol_rel_obj may help.”\n"
     ]
    },
    {
     "name": "stdout",
     "output_type": "stream",
     "text": [
      "[1] \"675-th simulation finished, 5.10699999999997 sec.\"\n"
     ]
    },
    {
     "name": "stderr",
     "output_type": "stream",
     "text": [
      "Warning message:\n",
      "“Pareto k diagnostic value is 0.88. Resampling is unreliable. Increasing the number of draws or decreasing tol_rel_obj may help.”\n"
     ]
    },
    {
     "name": "stdout",
     "output_type": "stream",
     "text": [
      "[1] \"676-th simulation finished, 5.14100000000008 sec.\"\n"
     ]
    },
    {
     "name": "stderr",
     "output_type": "stream",
     "text": [
      "Warning message:\n",
      "“Pareto k diagnostic value is 0.86. Resampling is unreliable. Increasing the number of draws or decreasing tol_rel_obj may help.”\n"
     ]
    },
    {
     "name": "stdout",
     "output_type": "stream",
     "text": [
      "[1] \"677-th simulation finished, 5.08199999999988 sec.\"\n",
      "[1] \"678-th simulation finished, 2.36999999999989 sec.\"\n",
      "[1] \"679-th simulation finished, 2.375 sec.\"\n",
      "[1] \"680-th simulation finished, 2.23900000000003 sec.\"\n",
      "[1] \"681-th simulation finished, 2.33699999999999 sec.\"\n",
      "[1] \"682-th simulation finished, 5.05999999999995 sec.\"\n"
     ]
    },
    {
     "name": "stderr",
     "output_type": "stream",
     "text": [
      "Warning message:\n",
      "“Pareto k diagnostic value is 0.93. Resampling is unreliable. Increasing the number of draws or decreasing tol_rel_obj may help.”\n"
     ]
    },
    {
     "name": "stdout",
     "output_type": "stream",
     "text": [
      "[1] \"683-th simulation finished, 5.13599999999997 sec.\"\n",
      "[1] \"684-th simulation finished, 2.36700000000019 sec.\"\n",
      "[1] \"685-th simulation finished, 5.10400000000027 sec.\"\n"
     ]
    },
    {
     "name": "stderr",
     "output_type": "stream",
     "text": [
      "Warning message:\n",
      "“Pareto k diagnostic value is 0.88. Resampling is unreliable. Increasing the number of draws or decreasing tol_rel_obj may help.”\n"
     ]
    },
    {
     "name": "stdout",
     "output_type": "stream",
     "text": [
      "[1] \"686-th simulation finished, 5.22000000000025 sec.\"\n",
      "[1] \"687-th simulation finished, 5.08300000000008 sec.\"\n",
      "[1] \"688-th simulation finished, 2.35099999999966 sec.\"\n",
      "[1] \"689-th simulation finished, 2.30299999999988 sec.\"\n"
     ]
    },
    {
     "name": "stderr",
     "output_type": "stream",
     "text": [
      "Warning message:\n",
      "“Pareto k diagnostic value is 0.87. Resampling is unreliable. Increasing the number of draws or decreasing tol_rel_obj may help.”\n"
     ]
    },
    {
     "name": "stdout",
     "output_type": "stream",
     "text": [
      "[1] \"690-th simulation finished, 5.17200000000003 sec.\"\n"
     ]
    },
    {
     "name": "stderr",
     "output_type": "stream",
     "text": [
      "Warning message:\n",
      "“Pareto k diagnostic value is 0.87. Resampling is unreliable. Increasing the number of draws or decreasing tol_rel_obj may help.”\n"
     ]
    },
    {
     "name": "stdout",
     "output_type": "stream",
     "text": [
      "[1] \"691-th simulation finished, 5.13499999999976 sec.\"\n",
      "[1] \"692-th simulation finished, 5.00900000000001 sec.\"\n",
      "[1] \"693-th simulation finished, 2.34099999999989 sec.\"\n"
     ]
    },
    {
     "name": "stderr",
     "output_type": "stream",
     "text": [
      "Warning message:\n",
      "“Pareto k diagnostic value is 0.88. Resampling is unreliable. Increasing the number of draws or decreasing tol_rel_obj may help.”\n"
     ]
    },
    {
     "name": "stdout",
     "output_type": "stream",
     "text": [
      "[1] \"694-th simulation finished, 5.0649999999996 sec.\"\n",
      "[1] \"695-th simulation finished, 3.62300000000005 sec.\"\n",
      "[1] \"696-th simulation finished, 2.41300000000001 sec.\"\n",
      "[1] \"697-th simulation finished, 3.60199999999986 sec.\"\n",
      "[1] \"698-th simulation finished, 2.38400000000001 sec.\"\n",
      "[1] \"699-th simulation finished, 2.38100000000031 sec.\"\n",
      "[1] \"700-th simulation finished, 2.48000000000002 sec.\"\n",
      "[1] \"701-th simulation finished, 3.67000000000007 sec.\"\n",
      "[1] \"702-th simulation finished, 3.62699999999995 sec.\"\n",
      "[1] \"703-th simulation finished, 3.64099999999962 sec.\"\n",
      "[1] \"704-th simulation finished, 2.25399999999991 sec.\"\n",
      "[1] \"705-th simulation finished, 2.34699999999975 sec.\"\n",
      "[1] \"706-th simulation finished, 2.21000000000004 sec.\"\n",
      "[1] \"707-th simulation finished, 5.09999999999991 sec.\"\n"
     ]
    },
    {
     "name": "stderr",
     "output_type": "stream",
     "text": [
      "Warning message:\n",
      "“Pareto k diagnostic value is 0.9. Resampling is unreliable. Increasing the number of draws or decreasing tol_rel_obj may help.”\n"
     ]
    },
    {
     "name": "stdout",
     "output_type": "stream",
     "text": [
      "[1] \"708-th simulation finished, 5.13700000000017 sec.\"\n"
     ]
    },
    {
     "name": "stderr",
     "output_type": "stream",
     "text": [
      "Warning message:\n",
      "“Pareto k diagnostic value is 0.88. Resampling is unreliable. Increasing the number of draws or decreasing tol_rel_obj may help.”\n"
     ]
    },
    {
     "name": "stdout",
     "output_type": "stream",
     "text": [
      "[1] \"709-th simulation finished, 5.14099999999962 sec.\"\n"
     ]
    },
    {
     "name": "stderr",
     "output_type": "stream",
     "text": [
      "Warning message:\n",
      "“Pareto k diagnostic value is 0.79. Resampling is unreliable. Increasing the number of draws or decreasing tol_rel_obj may help.”\n"
     ]
    },
    {
     "name": "stdout",
     "output_type": "stream",
     "text": [
      "[1] \"710-th simulation finished, 5.02500000000009 sec.\"\n",
      "[1] \"711-th simulation finished, 2.08300000000008 sec.\"\n",
      "[1] \"712-th simulation finished, 2.07000000000016 sec.\"\n",
      "[1] \"713-th simulation finished, 2.13900000000012 sec.\"\n"
     ]
    },
    {
     "name": "stderr",
     "output_type": "stream",
     "text": [
      "Warning message:\n",
      "“Pareto k diagnostic value is 0.9. Resampling is unreliable. Increasing the number of draws or decreasing tol_rel_obj may help.”\n"
     ]
    },
    {
     "name": "stdout",
     "output_type": "stream",
     "text": [
      "[1] \"714-th simulation finished, 4.65899999999965 sec.\"\n",
      "[1] \"715-th simulation finished, 4.66800000000012 sec.\"\n",
      "[1] \"716-th simulation finished, 4.4989999999998 sec.\"\n",
      "[1] \"717-th simulation finished, 2.08699999999999 sec.\"\n"
     ]
    },
    {
     "name": "stderr",
     "output_type": "stream",
     "text": [
      "Warning message:\n",
      "“Pareto k diagnostic value is 0.86. Resampling is unreliable. Increasing the number of draws or decreasing tol_rel_obj may help.”\n"
     ]
    },
    {
     "name": "stdout",
     "output_type": "stream",
     "text": [
      "[1] \"718-th simulation finished, 4.62300000000005 sec.\"\n",
      "[1] \"719-th simulation finished, 1.94200000000001 sec.\"\n",
      "[1] \"720-th simulation finished, 2.12699999999995 sec.\"\n"
     ]
    },
    {
     "name": "stderr",
     "output_type": "stream",
     "text": [
      "Warning message:\n",
      "“Pareto k diagnostic value is 0.91. Resampling is unreliable. Increasing the number of draws or decreasing tol_rel_obj may help.”\n"
     ]
    },
    {
     "name": "stdout",
     "output_type": "stream",
     "text": [
      "[1] \"721-th simulation finished, 4.63400000000001 sec.\"\n"
     ]
    },
    {
     "name": "stderr",
     "output_type": "stream",
     "text": [
      "Warning message:\n",
      "“Pareto k diagnostic value is 0.9. Resampling is unreliable. Increasing the number of draws or decreasing tol_rel_obj may help.”\n"
     ]
    },
    {
     "name": "stdout",
     "output_type": "stream",
     "text": [
      "[1] \"722-th simulation finished, 4.6569999999997 sec.\"\n",
      "[1] \"723-th simulation finished, 3.19200000000001 sec.\"\n",
      "[1] \"724-th simulation finished, 4.50900000000001 sec.\"\n"
     ]
    },
    {
     "name": "stderr",
     "output_type": "stream",
     "text": [
      "Warning message:\n",
      "“Pareto k diagnostic value is 0.71. Resampling is unreliable. Increasing the number of draws or decreasing tol_rel_obj may help.”\n"
     ]
    },
    {
     "name": "stdout",
     "output_type": "stream",
     "text": [
      "[1] \"725-th simulation finished, 5.0949999999998 sec.\"\n",
      "[1] \"726-th simulation finished, 3.20899999999983 sec.\"\n"
     ]
    },
    {
     "name": "stderr",
     "output_type": "stream",
     "text": [
      "Warning message:\n",
      "“Pareto k diagnostic value is 0.85. Resampling is unreliable. Increasing the number of draws or decreasing tol_rel_obj may help.”\n"
     ]
    },
    {
     "name": "stdout",
     "output_type": "stream",
     "text": [
      "[1] \"727-th simulation finished, 4.61699999999973 sec.\"\n",
      "[1] \"728-th simulation finished, 3.23300000000017 sec.\"\n",
      "[1] \"729-th simulation finished, 3.30500000000029 sec.\"\n",
      "[1] \"730-th simulation finished, 4.50500000000011 sec.\"\n"
     ]
    },
    {
     "name": "stderr",
     "output_type": "stream",
     "text": [
      "Warning message:\n",
      "“Pareto k diagnostic value is 0.84. Resampling is unreliable. Increasing the number of draws or decreasing tol_rel_obj may help.”\n"
     ]
    },
    {
     "name": "stdout",
     "output_type": "stream",
     "text": [
      "[1] \"731-th simulation finished, 4.57899999999972 sec.\"\n",
      "[1] \"732-th simulation finished, 4.57900000000018 sec.\"\n"
     ]
    },
    {
     "name": "stderr",
     "output_type": "stream",
     "text": [
      "Warning message:\n",
      "“Pareto k diagnostic value is 0.87. Resampling is unreliable. Increasing the number of draws or decreasing tol_rel_obj may help.”\n"
     ]
    },
    {
     "name": "stdout",
     "output_type": "stream",
     "text": [
      "[1] \"733-th simulation finished, 4.66800000000012 sec.\"\n",
      "[1] \"734-th simulation finished, 1.94599999999991 sec.\"\n"
     ]
    },
    {
     "name": "stderr",
     "output_type": "stream",
     "text": [
      "Warning message:\n",
      "“Pareto k diagnostic value is 0.85. Resampling is unreliable. Increasing the number of draws or decreasing tol_rel_obj may help.”\n"
     ]
    },
    {
     "name": "stdout",
     "output_type": "stream",
     "text": [
      "[1] \"735-th simulation finished, 4.596 sec.\"\n",
      "[1] \"736-th simulation finished, 2.10799999999972 sec.\"\n",
      "[1] \"737-th simulation finished, 4.52800000000025 sec.\"\n",
      "[1] \"738-th simulation finished, 2.125 sec.\"\n",
      "[1] \"739-th simulation finished, 2.11599999999999 sec.\"\n"
     ]
    },
    {
     "name": "stderr",
     "output_type": "stream",
     "text": [
      "Warning message:\n",
      "“Pareto k diagnostic value is 0.86. Resampling is unreliable. Increasing the number of draws or decreasing tol_rel_obj may help.”\n"
     ]
    },
    {
     "name": "stdout",
     "output_type": "stream",
     "text": [
      "[1] \"740-th simulation finished, 4.63900000000012 sec.\"\n",
      "[1] \"741-th simulation finished, 2.21499999999969 sec.\"\n",
      "[1] \"742-th simulation finished, 2.20800000000008 sec.\"\n",
      "[1] \"743-th simulation finished, 3.2170000000001 sec.\"\n"
     ]
    },
    {
     "name": "stderr",
     "output_type": "stream",
     "text": [
      "Warning message:\n",
      "“Pareto k diagnostic value is 0.8. Resampling is unreliable. Increasing the number of draws or decreasing tol_rel_obj may help.”\n"
     ]
    },
    {
     "name": "stdout",
     "output_type": "stream",
     "text": [
      "[1] \"744-th simulation finished, 4.64199999999983 sec.\"\n",
      "[1] \"745-th simulation finished, 2.11099999999988 sec.\"\n",
      "[1] \"746-th simulation finished, 4.55699999999979 sec.\"\n"
     ]
    },
    {
     "name": "stderr",
     "output_type": "stream",
     "text": [
      "Warning message:\n",
      "“Pareto k diagnostic value is 0.83. Resampling is unreliable. Increasing the number of draws or decreasing tol_rel_obj may help.”\n"
     ]
    },
    {
     "name": "stdout",
     "output_type": "stream",
     "text": [
      "[1] \"747-th simulation finished, 4.62800000000016 sec.\"\n"
     ]
    },
    {
     "name": "stderr",
     "output_type": "stream",
     "text": [
      "Warning message:\n",
      "“Pareto k diagnostic value is 0.8. Resampling is unreliable. Increasing the number of draws or decreasing tol_rel_obj may help.”\n"
     ]
    },
    {
     "name": "stdout",
     "output_type": "stream",
     "text": [
      "[1] \"748-th simulation finished, 4.61500000000024 sec.\"\n",
      "[1] \"749-th simulation finished, 2.13399999999956 sec.\"\n",
      "[1] \"750-th simulation finished, 2.10200000000032 sec.\"\n"
     ]
    },
    {
     "name": "stderr",
     "output_type": "stream",
     "text": [
      "Warning message:\n",
      "“Pareto k diagnostic value is 0.83. Resampling is unreliable. Increasing the number of draws or decreasing tol_rel_obj may help.”\n"
     ]
    },
    {
     "name": "stdout",
     "output_type": "stream",
     "text": [
      "[1] \"751-th simulation finished, 4.61200000000008 sec.\"\n",
      "[1] \"752-th simulation finished, 4.6239999999998 sec.\"\n",
      "[1] \"753-th simulation finished, 2.10699999999997 sec.\"\n"
     ]
    },
    {
     "name": "stderr",
     "output_type": "stream",
     "text": [
      "Warning message:\n",
      "“Pareto k diagnostic value is 0.88. Resampling is unreliable. Increasing the number of draws or decreasing tol_rel_obj may help.”\n"
     ]
    },
    {
     "name": "stdout",
     "output_type": "stream",
     "text": [
      "[1] \"754-th simulation finished, 4.59000000000015 sec.\"\n"
     ]
    },
    {
     "name": "stderr",
     "output_type": "stream",
     "text": [
      "Warning message:\n",
      "“Pareto k diagnostic value is 0.87. Resampling is unreliable. Increasing the number of draws or decreasing tol_rel_obj may help.”\n"
     ]
    },
    {
     "name": "stdout",
     "output_type": "stream",
     "text": [
      "[1] \"755-th simulation finished, 4.55500000000029 sec.\"\n",
      "[1] \"756-th simulation finished, 2.24200000000019 sec.\"\n"
     ]
    },
    {
     "name": "stderr",
     "output_type": "stream",
     "text": [
      "Warning message:\n",
      "“Pareto k diagnostic value is 0.88. Resampling is unreliable. Increasing the number of draws or decreasing tol_rel_obj may help.”\n"
     ]
    },
    {
     "name": "stdout",
     "output_type": "stream",
     "text": [
      "[1] \"757-th simulation finished, 4.65700000000015 sec.\"\n",
      "[1] \"758-th simulation finished, 2.11200000000008 sec.\"\n"
     ]
    },
    {
     "name": "stderr",
     "output_type": "stream",
     "text": [
      "Warning message:\n",
      "“Pareto k diagnostic value is 0.73. Resampling is unreliable. Increasing the number of draws or decreasing tol_rel_obj may help.”\n"
     ]
    },
    {
     "name": "stdout",
     "output_type": "stream",
     "text": [
      "[1] \"759-th simulation finished, 2.21299999999974 sec.\"\n",
      "[1] \"760-th simulation finished, 4.4989999999998 sec.\"\n",
      "[1] \"761-th simulation finished, 2.09700000000021 sec.\"\n",
      "[1] \"762-th simulation finished, 2.0319999999997 sec.\"\n",
      "[1] \"763-th simulation finished, 2.08100000000013 sec.\"\n",
      "[1] \"764-th simulation finished, 4.5010000000002 sec.\"\n"
     ]
    },
    {
     "name": "stderr",
     "output_type": "stream",
     "text": [
      "Warning message:\n",
      "“Pareto k diagnostic value is 0.82. Resampling is unreliable. Increasing the number of draws or decreasing tol_rel_obj may help.”\n"
     ]
    },
    {
     "name": "stdout",
     "output_type": "stream",
     "text": [
      "[1] \"765-th simulation finished, 4.61699999999973 sec.\"\n",
      "[1] \"766-th simulation finished, 1.97900000000027 sec.\"\n",
      "[1] \"767-th simulation finished, 5.19599999999991 sec.\"\n",
      "[1] \"768-th simulation finished, 3.21300000000019 sec.\"\n"
     ]
    },
    {
     "name": "stderr",
     "output_type": "stream",
     "text": [
      "Warning message:\n",
      "“Pareto k diagnostic value is 1.01. Resampling is disabled. Decreasing tol_rel_obj may help if variational algorithm has terminated prematurely. Otherwise consider using sampling instead.”\n"
     ]
    },
    {
     "name": "stdout",
     "output_type": "stream",
     "text": [
      "[1] \"769-th simulation finished, 5.15299999999979 sec.\"\n",
      "[1] \"770-th simulation finished, 4.61599999999999 sec.\"\n",
      "[1] \"771-th simulation finished, 3.18200000000024 sec.\"\n",
      "[1] \"772-th simulation finished, 3.221 sec.\"\n",
      "[1] \"773-th simulation finished, 4.67799999999988 sec.\"\n",
      "[1] \"774-th simulation finished, 4.48599999999988 sec.\"\n"
     ]
    },
    {
     "name": "stderr",
     "output_type": "stream",
     "text": [
      "Warning message:\n",
      "“Pareto k diagnostic value is 0.84. Resampling is unreliable. Increasing the number of draws or decreasing tol_rel_obj may help.”\n"
     ]
    },
    {
     "name": "stdout",
     "output_type": "stream",
     "text": [
      "[1] \"775-th simulation finished, 4.62300000000005 sec.\"\n",
      "[1] \"776-th simulation finished, 3.19800000000032 sec.\"\n"
     ]
    },
    {
     "name": "stderr",
     "output_type": "stream",
     "text": [
      "Warning message:\n",
      "“Pareto k diagnostic value is 0.83. Resampling is unreliable. Increasing the number of draws or decreasing tol_rel_obj may help.”\n"
     ]
    },
    {
     "name": "stdout",
     "output_type": "stream",
     "text": [
      "[1] \"777-th simulation finished, 4.62899999999991 sec.\"\n",
      "[1] \"778-th simulation finished, 1.92200000000003 sec.\"\n",
      "[1] \"779-th simulation finished, 3.24200000000019 sec.\"\n",
      "[1] \"780-th simulation finished, 2.09899999999971 sec.\"\n",
      "[1] \"781-th simulation finished, 2.07700000000023 sec.\"\n"
     ]
    },
    {
     "name": "stderr",
     "output_type": "stream",
     "text": [
      "Warning message:\n",
      "“Pareto k diagnostic value is 0.92. Resampling is unreliable. Increasing the number of draws or decreasing tol_rel_obj may help.”\n"
     ]
    },
    {
     "name": "stdout",
     "output_type": "stream",
     "text": [
      "[1] \"782-th simulation finished, 4.54399999999987 sec.\"\n",
      "[1] \"783-th simulation finished, 2.05400000000009 sec.\"\n"
     ]
    },
    {
     "name": "stderr",
     "output_type": "stream",
     "text": [
      "Warning message:\n",
      "“Pareto k diagnostic value is 0.87. Resampling is unreliable. Increasing the number of draws or decreasing tol_rel_obj may help.”\n"
     ]
    },
    {
     "name": "stdout",
     "output_type": "stream",
     "text": [
      "[1] \"784-th simulation finished, 4.5659999999998 sec.\"\n"
     ]
    },
    {
     "name": "stderr",
     "output_type": "stream",
     "text": [
      "Warning message:\n",
      "“Pareto k diagnostic value is 0.92. Resampling is unreliable. Increasing the number of draws or decreasing tol_rel_obj may help.”\n"
     ]
    },
    {
     "name": "stdout",
     "output_type": "stream",
     "text": [
      "[1] \"785-th simulation finished, 4.64899999999989 sec.\"\n"
     ]
    },
    {
     "name": "stderr",
     "output_type": "stream",
     "text": [
      "Warning message:\n",
      "“Pareto k diagnostic value is 0.85. Resampling is unreliable. Increasing the number of draws or decreasing tol_rel_obj may help.”\n"
     ]
    },
    {
     "name": "stdout",
     "output_type": "stream",
     "text": [
      "[1] \"786-th simulation finished, 4.57400000000007 sec.\"\n",
      "[1] \"787-th simulation finished, 2.09699999999975 sec.\"\n"
     ]
    },
    {
     "name": "stderr",
     "output_type": "stream",
     "text": [
      "Warning message:\n",
      "“Pareto k diagnostic value is 0.87. Resampling is unreliable. Increasing the number of draws or decreasing tol_rel_obj may help.”\n"
     ]
    },
    {
     "name": "stdout",
     "output_type": "stream",
     "text": [
      "[1] \"788-th simulation finished, 4.53900000000021 sec.\"\n"
     ]
    },
    {
     "name": "stderr",
     "output_type": "stream",
     "text": [
      "Warning message:\n",
      "“Pareto k diagnostic value is 0.82. Resampling is unreliable. Increasing the number of draws or decreasing tol_rel_obj may help.”\n"
     ]
    },
    {
     "name": "stdout",
     "output_type": "stream",
     "text": [
      "[1] \"789-th simulation finished, 4.57600000000002 sec.\"\n"
     ]
    },
    {
     "name": "stderr",
     "output_type": "stream",
     "text": [
      "Warning message:\n",
      "“Pareto k diagnostic value is 0.9. Resampling is unreliable. Increasing the number of draws or decreasing tol_rel_obj may help.”\n"
     ]
    },
    {
     "name": "stdout",
     "output_type": "stream",
     "text": [
      "[1] \"790-th simulation finished, 4.57799999999997 sec.\"\n",
      "[1] \"791-th simulation finished, 4.61099999999988 sec.\"\n",
      "[1] \"792-th simulation finished, 2.09900000000016 sec.\"\n",
      "[1] \"793-th simulation finished, 4.59099999999989 sec.\"\n"
     ]
    },
    {
     "name": "stderr",
     "output_type": "stream",
     "text": [
      "Warning message:\n",
      "“Pareto k diagnostic value is 0.9. Resampling is unreliable. Increasing the number of draws or decreasing tol_rel_obj may help.”\n"
     ]
    },
    {
     "name": "stdout",
     "output_type": "stream",
     "text": [
      "[1] \"794-th simulation finished, 4.6279999999997 sec.\"\n"
     ]
    },
    {
     "name": "stderr",
     "output_type": "stream",
     "text": [
      "Warning message:\n",
      "“Pareto k diagnostic value is 0.9. Resampling is unreliable. Increasing the number of draws or decreasing tol_rel_obj may help.”\n"
     ]
    },
    {
     "name": "stdout",
     "output_type": "stream",
     "text": [
      "[1] \"795-th simulation finished, 4.56800000000021 sec.\"\n"
     ]
    },
    {
     "name": "stderr",
     "output_type": "stream",
     "text": [
      "Warning message:\n",
      "“Pareto k diagnostic value is 0.8. Resampling is unreliable. Increasing the number of draws or decreasing tol_rel_obj may help.”\n"
     ]
    },
    {
     "name": "stdout",
     "output_type": "stream",
     "text": [
      "[1] \"796-th simulation finished, 2.23000000000002 sec.\"\n",
      "[1] \"797-th simulation finished, 2.11299999999983 sec.\"\n",
      "[1] \"798-th simulation finished, 2.221 sec.\"\n"
     ]
    },
    {
     "name": "stderr",
     "output_type": "stream",
     "text": [
      "Warning message:\n",
      "“Pareto k diagnostic value is 0.78. Resampling is unreliable. Increasing the number of draws or decreasing tol_rel_obj may help.”\n"
     ]
    },
    {
     "name": "stdout",
     "output_type": "stream",
     "text": [
      "[1] \"799-th simulation finished, 2.24600000000009 sec.\"\n",
      "[1] \"800-th simulation finished, 3.18200000000024 sec.\"\n"
     ]
    },
    {
     "name": "stderr",
     "output_type": "stream",
     "text": [
      "Warning message:\n",
      "“Pareto k diagnostic value is 0.91. Resampling is unreliable. Increasing the number of draws or decreasing tol_rel_obj may help.”\n"
     ]
    },
    {
     "name": "stdout",
     "output_type": "stream",
     "text": [
      "[1] \"801-th simulation finished, 4.57699999999977 sec.\"\n",
      "[1] \"802-th simulation finished, 4.65000000000009 sec.\"\n",
      "[1] \"803-th simulation finished, 4.50800000000027 sec.\"\n"
     ]
    },
    {
     "name": "stderr",
     "output_type": "stream",
     "text": [
      "Warning message:\n",
      "“Pareto k diagnostic value is 0.91. Resampling is unreliable. Increasing the number of draws or decreasing tol_rel_obj may help.”\n"
     ]
    },
    {
     "name": "stdout",
     "output_type": "stream",
     "text": [
      "[1] \"804-th simulation finished, 4.56099999999969 sec.\"\n"
     ]
    },
    {
     "name": "stderr",
     "output_type": "stream",
     "text": [
      "Warning message:\n",
      "“Pareto k diagnostic value is 0.8. Resampling is unreliable. Increasing the number of draws or decreasing tol_rel_obj may help.”\n"
     ]
    },
    {
     "name": "stdout",
     "output_type": "stream",
     "text": [
      "[1] \"805-th simulation finished, 4.74199999999973 sec.\"\n"
     ]
    },
    {
     "name": "stderr",
     "output_type": "stream",
     "text": [
      "Warning message:\n",
      "“Pareto k diagnostic value is 0.84. Resampling is unreliable. Increasing the number of draws or decreasing tol_rel_obj may help.”\n"
     ]
    },
    {
     "name": "stdout",
     "output_type": "stream",
     "text": [
      "[1] \"806-th simulation finished, 4.67399999999998 sec.\"\n"
     ]
    },
    {
     "name": "stderr",
     "output_type": "stream",
     "text": [
      "Warning message:\n",
      "“Pareto k diagnostic value is 0.95. Resampling is unreliable. Increasing the number of draws or decreasing tol_rel_obj may help.”\n"
     ]
    },
    {
     "name": "stdout",
     "output_type": "stream",
     "text": [
      "[1] \"807-th simulation finished, 4.61200000000008 sec.\"\n",
      "[1] \"808-th simulation finished, 2.10699999999997 sec.\"\n",
      "[1] \"809-th simulation finished, 4.53699999999981 sec.\"\n"
     ]
    },
    {
     "name": "stderr",
     "output_type": "stream",
     "text": [
      "Warning message:\n",
      "“Pareto k diagnostic value is 0.82. Resampling is unreliable. Increasing the number of draws or decreasing tol_rel_obj may help.”\n"
     ]
    },
    {
     "name": "stdout",
     "output_type": "stream",
     "text": [
      "[1] \"810-th simulation finished, 5.67500000000018 sec.\"\n",
      "[1] \"811-th simulation finished, 2.04400000000032 sec.\"\n",
      "[1] \"812-th simulation finished, 5.08799999999974 sec.\"\n",
      "[1] \"813-th simulation finished, 2.24299999999994 sec.\"\n",
      "[1] \"814-th simulation finished, 5.09799999999996 sec.\"\n",
      "[1] \"815-th simulation finished, 2.14400000000023 sec.\"\n"
     ]
    },
    {
     "name": "stderr",
     "output_type": "stream",
     "text": [
      "Warning message:\n",
      "“Pareto k diagnostic value is 0.86. Resampling is unreliable. Increasing the number of draws or decreasing tol_rel_obj may help.”\n"
     ]
    },
    {
     "name": "stdout",
     "output_type": "stream",
     "text": [
      "[1] \"816-th simulation finished, 4.52700000000004 sec.\"\n",
      "[1] \"817-th simulation finished, 1.91799999999967 sec.\"\n"
     ]
    },
    {
     "name": "stderr",
     "output_type": "stream",
     "text": [
      "Warning message:\n",
      "“Pareto k diagnostic value is 0.86. Resampling is unreliable. Increasing the number of draws or decreasing tol_rel_obj may help.”\n"
     ]
    },
    {
     "name": "stdout",
     "output_type": "stream",
     "text": [
      "[1] \"818-th simulation finished, 4.55200000000013 sec.\"\n",
      "[1] \"819-th simulation finished, 2.11599999999999 sec.\"\n",
      "[1] \"820-th simulation finished, 1.96900000000005 sec.\"\n",
      "[1] \"821-th simulation finished, 4.55200000000013 sec.\"\n",
      "[1] \"822-th simulation finished, 2.13200000000006 sec.\"\n",
      "[1] \"823-th simulation finished, 3.154 sec.\"\n"
     ]
    },
    {
     "name": "stderr",
     "output_type": "stream",
     "text": [
      "Warning message:\n",
      "“Pareto k diagnostic value is 0.91. Resampling is unreliable. Increasing the number of draws or decreasing tol_rel_obj may help.”\n"
     ]
    },
    {
     "name": "stdout",
     "output_type": "stream",
     "text": [
      "[1] \"824-th simulation finished, 4.61200000000008 sec.\"\n"
     ]
    },
    {
     "name": "stderr",
     "output_type": "stream",
     "text": [
      "Warning message:\n",
      "“Pareto k diagnostic value is 0.81. Resampling is unreliable. Increasing the number of draws or decreasing tol_rel_obj may help.”\n"
     ]
    },
    {
     "name": "stdout",
     "output_type": "stream",
     "text": [
      "[1] \"825-th simulation finished, 4.57099999999991 sec.\"\n",
      "[1] \"826-th simulation finished, 2.17600000000039 sec.\"\n",
      "[1] \"827-th simulation finished, 5.14399999999978 sec.\"\n"
     ]
    },
    {
     "name": "stderr",
     "output_type": "stream",
     "text": [
      "Warning message:\n",
      "“Pareto k diagnostic value is 0.9. Resampling is unreliable. Increasing the number of draws or decreasing tol_rel_obj may help.”\n"
     ]
    },
    {
     "name": "stdout",
     "output_type": "stream",
     "text": [
      "[1] \"828-th simulation finished, 4.57599999999957 sec.\"\n"
     ]
    },
    {
     "name": "stderr",
     "output_type": "stream",
     "text": [
      "Warning message:\n",
      "“Pareto k diagnostic value is 0.91. Resampling is unreliable. Increasing the number of draws or decreasing tol_rel_obj may help.”\n"
     ]
    },
    {
     "name": "stdout",
     "output_type": "stream",
     "text": [
      "[1] \"829-th simulation finished, 4.55400000000009 sec.\"\n",
      "[1] \"830-th simulation finished, 2.17000000000007 sec.\"\n"
     ]
    },
    {
     "name": "stderr",
     "output_type": "stream",
     "text": [
      "Warning message:\n",
      "“Pareto k diagnostic value is 0.9. Resampling is unreliable. Increasing the number of draws or decreasing tol_rel_obj may help.”\n"
     ]
    },
    {
     "name": "stdout",
     "output_type": "stream",
     "text": [
      "[1] \"831-th simulation finished, 4.55200000000013 sec.\"\n",
      "[1] \"832-th simulation finished, 3.1909999999998 sec.\"\n"
     ]
    },
    {
     "name": "stderr",
     "output_type": "stream",
     "text": [
      "Warning message:\n",
      "“Pareto k diagnostic value is 0.8. Resampling is unreliable. Increasing the number of draws or decreasing tol_rel_obj may help.”\n"
     ]
    },
    {
     "name": "stdout",
     "output_type": "stream",
     "text": [
      "[1] \"833-th simulation finished, 4.66600000000017 sec.\"\n",
      "[1] \"834-th simulation finished, 2.21799999999985 sec.\"\n",
      "[1] \"835-th simulation finished, 4.52299999999968 sec.\"\n"
     ]
    },
    {
     "name": "stderr",
     "output_type": "stream",
     "text": [
      "Warning message:\n",
      "“Pareto k diagnostic value is 0.85. Resampling is unreliable. Increasing the number of draws or decreasing tol_rel_obj may help.”\n"
     ]
    },
    {
     "name": "stdout",
     "output_type": "stream",
     "text": [
      "[1] \"836-th simulation finished, 4.61499999999978 sec.\"\n"
     ]
    },
    {
     "name": "stderr",
     "output_type": "stream",
     "text": [
      "Warning message:\n",
      "“Pareto k diagnostic value is 0.86. Resampling is unreliable. Increasing the number of draws or decreasing tol_rel_obj may help.”\n"
     ]
    },
    {
     "name": "stdout",
     "output_type": "stream",
     "text": [
      "[1] \"837-th simulation finished, 4.55799999999999 sec.\"\n",
      "[1] \"838-th simulation finished, 4.54800000000023 sec.\"\n",
      "[1] \"839-th simulation finished, 2.08300000000008 sec.\"\n"
     ]
    },
    {
     "name": "stderr",
     "output_type": "stream",
     "text": [
      "Warning message:\n",
      "“Pareto k diagnostic value is 0.92. Resampling is unreliable. Increasing the number of draws or decreasing tol_rel_obj may help.”\n"
     ]
    },
    {
     "name": "stdout",
     "output_type": "stream",
     "text": [
      "[1] \"840-th simulation finished, 4.58399999999983 sec.\"\n",
      "[1] \"841-th simulation finished, 2.67099999999982 sec.\"\n"
     ]
    },
    {
     "name": "stderr",
     "output_type": "stream",
     "text": [
      "Warning message:\n",
      "“Pareto k diagnostic value is 0.88. Resampling is unreliable. Increasing the number of draws or decreasing tol_rel_obj may help.”\n"
     ]
    },
    {
     "name": "stdout",
     "output_type": "stream",
     "text": [
      "[1] \"842-th simulation finished, 5.12099999999964 sec.\"\n",
      "[1] \"843-th simulation finished, 3.26500000000033 sec.\"\n",
      "[1] \"844-th simulation finished, 2.11899999999969 sec.\"\n"
     ]
    },
    {
     "name": "stderr",
     "output_type": "stream",
     "text": [
      "Warning message:\n",
      "“Pareto k diagnostic value is 0.92. Resampling is unreliable. Increasing the number of draws or decreasing tol_rel_obj may help.”\n"
     ]
    },
    {
     "name": "stdout",
     "output_type": "stream",
     "text": [
      "[1] \"845-th simulation finished, 4.72400000000016 sec.\"\n",
      "[1] \"846-th simulation finished, 2.10999999999967 sec.\"\n",
      "[1] \"847-th simulation finished, 2.07699999999977 sec.\"\n"
     ]
    },
    {
     "name": "stderr",
     "output_type": "stream",
     "text": [
      "Warning message:\n",
      "“Pareto k diagnostic value is 0.88. Resampling is unreliable. Increasing the number of draws or decreasing tol_rel_obj may help.”\n"
     ]
    },
    {
     "name": "stdout",
     "output_type": "stream",
     "text": [
      "[1] \"848-th simulation finished, 4.70100000000002 sec.\"\n",
      "[1] \"849-th simulation finished, 5.19399999999996 sec.\"\n",
      "[1] \"850-th simulation finished, 2.11900000000014 sec.\"\n",
      "[1] \"851-th simulation finished, 2.13500000000022 sec.\"\n",
      "[1] \"852-th simulation finished, 3.22900000000027 sec.\"\n",
      "[1] \"853-th simulation finished, 1.94800000000032 sec.\"\n",
      "[1] \"854-th simulation finished, 2.17599999999993 sec.\"\n",
      "[1] \"855-th simulation finished, 4.57200000000012 sec.\"\n",
      "[1] \"856-th simulation finished, 4.57600000000002 sec.\"\n"
     ]
    },
    {
     "name": "stderr",
     "output_type": "stream",
     "text": [
      "Warning message:\n",
      "“Pareto k diagnostic value is 0.9. Resampling is unreliable. Increasing the number of draws or decreasing tol_rel_obj may help.”\n"
     ]
    },
    {
     "name": "stdout",
     "output_type": "stream",
     "text": [
      "[1] \"857-th simulation finished, 4.59299999999985 sec.\"\n",
      "[1] \"858-th simulation finished, 3.17399999999998 sec.\"\n",
      "[1] \"859-th simulation finished, 1.92200000000003 sec.\"\n"
     ]
    },
    {
     "name": "stderr",
     "output_type": "stream",
     "text": [
      "Warning message:\n",
      "“Pareto k diagnostic value is 0.88. Resampling is unreliable. Increasing the number of draws or decreasing tol_rel_obj may help.”\n"
     ]
    },
    {
     "name": "stdout",
     "output_type": "stream",
     "text": [
      "[1] \"860-th simulation finished, 4.596 sec.\"\n"
     ]
    },
    {
     "name": "stderr",
     "output_type": "stream",
     "text": [
      "Warning message:\n",
      "“Pareto k diagnostic value is 0.91. Resampling is unreliable. Increasing the number of draws or decreasing tol_rel_obj may help.”\n"
     ]
    },
    {
     "name": "stdout",
     "output_type": "stream",
     "text": [
      "[1] \"861-th simulation finished, 4.60899999999992 sec.\"\n"
     ]
    },
    {
     "name": "stderr",
     "output_type": "stream",
     "text": [
      "Warning message:\n",
      "“Pareto k diagnostic value is 0.89. Resampling is unreliable. Increasing the number of draws or decreasing tol_rel_obj may help.”\n"
     ]
    },
    {
     "name": "stdout",
     "output_type": "stream",
     "text": [
      "[1] \"862-th simulation finished, 4.55699999999979 sec.\"\n"
     ]
    },
    {
     "name": "stderr",
     "output_type": "stream",
     "text": [
      "Warning message:\n",
      "“Pareto k diagnostic value is 0.87. Resampling is unreliable. Increasing the number of draws or decreasing tol_rel_obj may help.”\n"
     ]
    },
    {
     "name": "stdout",
     "output_type": "stream",
     "text": [
      "[1] \"863-th simulation finished, 4.61400000000003 sec.\"\n",
      "[1] \"864-th simulation finished, 4.55700000000024 sec.\"\n",
      "[1] \"865-th simulation finished, 3.19499999999971 sec.\"\n",
      "[1] \"866-th simulation finished, 4.51499999999987 sec.\"\n"
     ]
    },
    {
     "name": "stderr",
     "output_type": "stream",
     "text": [
      "Warning message:\n",
      "“Pareto k diagnostic value is 0.86. Resampling is unreliable. Increasing the number of draws or decreasing tol_rel_obj may help.”\n"
     ]
    },
    {
     "name": "stdout",
     "output_type": "stream",
     "text": [
      "[1] \"867-th simulation finished, 4.58999999999969 sec.\"\n"
     ]
    },
    {
     "name": "stderr",
     "output_type": "stream",
     "text": [
      "Warning message:\n",
      "“Pareto k diagnostic value is 0.9. Resampling is unreliable. Increasing the number of draws or decreasing tol_rel_obj may help.”\n"
     ]
    },
    {
     "name": "stdout",
     "output_type": "stream",
     "text": [
      "[1] \"868-th simulation finished, 4.54300000000012 sec.\"\n"
     ]
    },
    {
     "name": "stderr",
     "output_type": "stream",
     "text": [
      "Warning message:\n",
      "“Pareto k diagnostic value is 0.87. Resampling is unreliable. Increasing the number of draws or decreasing tol_rel_obj may help.”\n"
     ]
    },
    {
     "name": "stdout",
     "output_type": "stream",
     "text": [
      "[1] \"869-th simulation finished, 4.66899999999987 sec.\"\n",
      "[1] \"870-th simulation finished, 4.49499999999989 sec.\"\n",
      "[1] \"871-th simulation finished, 2.09699999999975 sec.\"\n"
     ]
    },
    {
     "name": "stderr",
     "output_type": "stream",
     "text": [
      "Warning message:\n",
      "“Pareto k diagnostic value is 0.85. Resampling is unreliable. Increasing the number of draws or decreasing tol_rel_obj may help.”\n"
     ]
    },
    {
     "name": "stdout",
     "output_type": "stream",
     "text": [
      "[1] \"872-th simulation finished, 4.596 sec.\"\n",
      "[1] \"873-th simulation finished, 2.08400000000029 sec.\"\n",
      "[1] \"874-th simulation finished, 3.19100000000026 sec.\"\n",
      "[1] \"875-th simulation finished, 4.49300000000039 sec.\"\n",
      "[1] \"876-th simulation finished, 2.10199999999986 sec.\"\n",
      "[1] \"877-th simulation finished, 4.48300000000017 sec.\"\n",
      "[1] \"878-th simulation finished, 2.05299999999988 sec.\"\n",
      "[1] \"879-th simulation finished, 2.1220000000003 sec.\"\n",
      "[1] \"880-th simulation finished, 2.11699999999973 sec.\"\n",
      "[1] \"881-th simulation finished, 4.56100000000015 sec.\"\n",
      "[1] \"882-th simulation finished, 3.40000000000009 sec.\"\n",
      "[1] \"883-th simulation finished, 2.08500000000004 sec.\"\n",
      "[1] \"884-th simulation finished, 2.10500000000002 sec.\"\n",
      "[1] \"885-th simulation finished, 3.21799999999985 sec.\"\n",
      "[1] \"886-th simulation finished, 2.09999999999991 sec.\"\n",
      "[1] \"887-th simulation finished, 4.54500000000007 sec.\"\n"
     ]
    },
    {
     "name": "stderr",
     "output_type": "stream",
     "text": [
      "Warning message:\n",
      "“Pareto k diagnostic value is 0.89. Resampling is unreliable. Increasing the number of draws or decreasing tol_rel_obj may help.”\n"
     ]
    },
    {
     "name": "stdout",
     "output_type": "stream",
     "text": [
      "[1] \"888-th simulation finished, 4.60600000000022 sec.\"\n"
     ]
    },
    {
     "name": "stderr",
     "output_type": "stream",
     "text": [
      "Warning message:\n",
      "“Pareto k diagnostic value is 0.82. Resampling is unreliable. Increasing the number of draws or decreasing tol_rel_obj may help.”\n"
     ]
    },
    {
     "name": "stdout",
     "output_type": "stream",
     "text": [
      "[1] \"889-th simulation finished, 4.57899999999972 sec.\"\n",
      "[1] \"890-th simulation finished, 4.51500000000033 sec.\"\n",
      "[1] \"891-th simulation finished, 3.19200000000001 sec.\"\n"
     ]
    },
    {
     "name": "stderr",
     "output_type": "stream",
     "text": [
      "Warning message:\n",
      "“Pareto k diagnostic value is 0.89. Resampling is unreliable. Increasing the number of draws or decreasing tol_rel_obj may help.”\n"
     ]
    },
    {
     "name": "stdout",
     "output_type": "stream",
     "text": [
      "[1] \"892-th simulation finished, 4.53400000000011 sec.\"\n",
      "[1] \"893-th simulation finished, 2.19799999999987 sec.\"\n",
      "[1] \"894-th simulation finished, 2.13000000000011 sec.\"\n",
      "[1] \"895-th simulation finished, 3.15299999999979 sec.\"\n",
      "[1] \"896-th simulation finished, 3.24099999999999 sec.\"\n"
     ]
    },
    {
     "name": "stderr",
     "output_type": "stream",
     "text": [
      "Warning message:\n",
      "“Pareto k diagnostic value is 0.82. Resampling is unreliable. Increasing the number of draws or decreasing tol_rel_obj may help.”\n"
     ]
    },
    {
     "name": "stdout",
     "output_type": "stream",
     "text": [
      "[1] \"897-th simulation finished, 4.69100000000026 sec.\"\n",
      "[1] \"898-th simulation finished, 2.09799999999996 sec.\"\n",
      "[1] \"899-th simulation finished, 4.66899999999987 sec.\"\n",
      "[1] \"900-th simulation finished, 3.17999999999984 sec.\"\n"
     ]
    },
    {
     "name": "stderr",
     "output_type": "stream",
     "text": [
      "Warning message:\n",
      "“Pareto k diagnostic value is 0.9. Resampling is unreliable. Increasing the number of draws or decreasing tol_rel_obj may help.”\n"
     ]
    },
    {
     "name": "stdout",
     "output_type": "stream",
     "text": [
      "[1] \"901-th simulation finished, 4.54799999999977 sec.\"\n"
     ]
    },
    {
     "name": "stderr",
     "output_type": "stream",
     "text": [
      "Warning message:\n",
      "“Pareto k diagnostic value is 0.84. Resampling is unreliable. Increasing the number of draws or decreasing tol_rel_obj may help.”\n"
     ]
    },
    {
     "name": "stdout",
     "output_type": "stream",
     "text": [
      "[1] \"902-th simulation finished, 4.59800000000041 sec.\"\n"
     ]
    },
    {
     "name": "stderr",
     "output_type": "stream",
     "text": [
      "Warning message:\n",
      "“Pareto k diagnostic value is 0.9. Resampling is unreliable. Increasing the number of draws or decreasing tol_rel_obj may help.”\n"
     ]
    },
    {
     "name": "stdout",
     "output_type": "stream",
     "text": [
      "[1] \"903-th simulation finished, 4.57699999999977 sec.\"\n"
     ]
    },
    {
     "name": "stderr",
     "output_type": "stream",
     "text": [
      "Warning message:\n",
      "“Pareto k diagnostic value is 0.9. Resampling is unreliable. Increasing the number of draws or decreasing tol_rel_obj may help.”\n"
     ]
    },
    {
     "name": "stdout",
     "output_type": "stream",
     "text": [
      "[1] \"904-th simulation finished, 4.59899999999971 sec.\"\n",
      "[1] \"905-th simulation finished, 3.21900000000005 sec.\"\n"
     ]
    },
    {
     "name": "stderr",
     "output_type": "stream",
     "text": [
      "Warning message:\n",
      "“Pareto k diagnostic value is 0.9. Resampling is unreliable. Increasing the number of draws or decreasing tol_rel_obj may help.”\n"
     ]
    },
    {
     "name": "stdout",
     "output_type": "stream",
     "text": [
      "[1] \"906-th simulation finished, 4.55999999999995 sec.\"\n"
     ]
    },
    {
     "name": "stderr",
     "output_type": "stream",
     "text": [
      "Warning message:\n",
      "“Pareto k diagnostic value is 0.74. Resampling is unreliable. Increasing the number of draws or decreasing tol_rel_obj may help.”\n"
     ]
    },
    {
     "name": "stdout",
     "output_type": "stream",
     "text": [
      "[1] \"907-th simulation finished, 1.91699999999992 sec.\"\n",
      "[1] \"908-th simulation finished, 2.11799999999994 sec.\"\n",
      "[1] \"909-th simulation finished, 3.21000000000004 sec.\"\n"
     ]
    },
    {
     "name": "stderr",
     "output_type": "stream",
     "text": [
      "Warning message:\n",
      "“Pareto k diagnostic value is 0.89. Resampling is unreliable. Increasing the number of draws or decreasing tol_rel_obj may help.”\n"
     ]
    },
    {
     "name": "stdout",
     "output_type": "stream",
     "text": [
      "[1] \"910-th simulation finished, 4.65599999999995 sec.\"\n",
      "[1] \"911-th simulation finished, 2.0659999999998 sec.\"\n",
      "[1] \"912-th simulation finished, 2.00999999999976 sec.\"\n"
     ]
    },
    {
     "name": "stderr",
     "output_type": "stream",
     "text": [
      "Warning message:\n",
      "“Pareto k diagnostic value is 0.88. Resampling is unreliable. Increasing the number of draws or decreasing tol_rel_obj may help.”\n"
     ]
    },
    {
     "name": "stdout",
     "output_type": "stream",
     "text": [
      "[1] \"913-th simulation finished, 4.56700000000001 sec.\"\n",
      "[1] \"914-th simulation finished, 2.10300000000007 sec.\"\n",
      "[1] \"915-th simulation finished, 2.08300000000008 sec.\"\n"
     ]
    },
    {
     "name": "stderr",
     "output_type": "stream",
     "text": [
      "Warning message:\n",
      "“Pareto k diagnostic value is 0.88. Resampling is unreliable. Increasing the number of draws or decreasing tol_rel_obj may help.”\n"
     ]
    },
    {
     "name": "stdout",
     "output_type": "stream",
     "text": [
      "[1] \"916-th simulation finished, 4.60800000000017 sec.\"\n",
      "[1] \"917-th simulation finished, 4.55000000000018 sec.\"\n",
      "[1] \"918-th simulation finished, 3.16500000000042 sec.\"\n",
      "[1] \"919-th simulation finished, 2.10100000000011 sec.\"\n",
      "[1] \"920-th simulation finished, 4.49499999999989 sec.\"\n"
     ]
    },
    {
     "name": "stderr",
     "output_type": "stream",
     "text": [
      "Warning message:\n",
      "“Pareto k diagnostic value is 0.94. Resampling is unreliable. Increasing the number of draws or decreasing tol_rel_obj may help.”\n"
     ]
    },
    {
     "name": "stdout",
     "output_type": "stream",
     "text": [
      "[1] \"921-th simulation finished, 4.58500000000004 sec.\"\n",
      "[1] \"922-th simulation finished, 2.52700000000004 sec.\"\n",
      "[1] \"923-th simulation finished, 3.24699999999984 sec.\"\n",
      "[1] \"924-th simulation finished, 4.55699999999979 sec.\"\n",
      "[1] \"925-th simulation finished, 4.66899999999987 sec.\"\n",
      "[1] \"926-th simulation finished, 4.37199999999984 sec.\"\n",
      "[1] \"927-th simulation finished, 4.53699999999981 sec.\"\n",
      "[1] \"928-th simulation finished, 3.19100000000026 sec.\"\n",
      "[1] \"929-th simulation finished, 2.04899999999998 sec.\"\n"
     ]
    },
    {
     "name": "stderr",
     "output_type": "stream",
     "text": [
      "Warning message:\n",
      "“Pareto k diagnostic value is 0.85. Resampling is unreliable. Increasing the number of draws or decreasing tol_rel_obj may help.”\n"
     ]
    },
    {
     "name": "stdout",
     "output_type": "stream",
     "text": [
      "[1] \"930-th simulation finished, 4.64600000000019 sec.\"\n",
      "[1] \"931-th simulation finished, 3.23300000000017 sec.\"\n",
      "[1] \"932-th simulation finished, 3.23399999999992 sec.\"\n",
      "[1] \"933-th simulation finished, 5.20499999999993 sec.\"\n"
     ]
    },
    {
     "name": "stderr",
     "output_type": "stream",
     "text": [
      "Warning message:\n",
      "“Pareto k diagnostic value is 0.89. Resampling is unreliable. Increasing the number of draws or decreasing tol_rel_obj may help.”\n"
     ]
    },
    {
     "name": "stdout",
     "output_type": "stream",
     "text": [
      "[1] \"934-th simulation finished, 4.57899999999972 sec.\"\n",
      "[1] \"935-th simulation finished, 2.09699999999975 sec.\"\n",
      "[1] \"936-th simulation finished, 2.00099999999975 sec.\"\n"
     ]
    },
    {
     "name": "stderr",
     "output_type": "stream",
     "text": [
      "Warning message:\n",
      "“Pareto k diagnostic value is 0.89. Resampling is unreliable. Increasing the number of draws or decreasing tol_rel_obj may help.”\n"
     ]
    },
    {
     "name": "stdout",
     "output_type": "stream",
     "text": [
      "[1] \"937-th simulation finished, 4.60899999999992 sec.\"\n",
      "[1] \"938-th simulation finished, 2.20600000000013 sec.\"\n",
      "[1] \"939-th simulation finished, 4.51700000000028 sec.\"\n"
     ]
    },
    {
     "name": "stderr",
     "output_type": "stream",
     "text": [
      "Warning message:\n",
      "“Pareto k diagnostic value is 0.88. Resampling is unreliable. Increasing the number of draws or decreasing tol_rel_obj may help.”\n"
     ]
    },
    {
     "name": "stdout",
     "output_type": "stream",
     "text": [
      "[1] \"940-th simulation finished, 4.57200000000012 sec.\"\n",
      "[1] \"941-th simulation finished, 4.61599999999999 sec.\"\n",
      "[1] \"942-th simulation finished, 4.67399999999998 sec.\"\n"
     ]
    },
    {
     "name": "stderr",
     "output_type": "stream",
     "text": [
      "Warning message:\n",
      "“Pareto k diagnostic value is 0.87. Resampling is unreliable. Increasing the number of draws or decreasing tol_rel_obj may help.”\n"
     ]
    },
    {
     "name": "stdout",
     "output_type": "stream",
     "text": [
      "[1] \"943-th simulation finished, 4.596 sec.\"\n"
     ]
    },
    {
     "name": "stderr",
     "output_type": "stream",
     "text": [
      "Warning message:\n",
      "“Pareto k diagnostic value is 0.82. Resampling is unreliable. Increasing the number of draws or decreasing tol_rel_obj may help.”\n"
     ]
    },
    {
     "name": "stdout",
     "output_type": "stream",
     "text": [
      "[1] \"944-th simulation finished, 4.61100000000033 sec.\"\n"
     ]
    },
    {
     "name": "stderr",
     "output_type": "stream",
     "text": [
      "Warning message:\n",
      "“Pareto k diagnostic value is 0.9. Resampling is unreliable. Increasing the number of draws or decreasing tol_rel_obj may help.”\n"
     ]
    },
    {
     "name": "stdout",
     "output_type": "stream",
     "text": [
      "[1] \"945-th simulation finished, 4.57700000000023 sec.\"\n",
      "[1] \"946-th simulation finished, 3.20600000000013 sec.\"\n",
      "[1] \"947-th simulation finished, 4.49800000000005 sec.\"\n",
      "[1] \"948-th simulation finished, 3.21199999999999 sec.\"\n"
     ]
    },
    {
     "name": "stderr",
     "output_type": "stream",
     "text": [
      "Warning message:\n",
      "“Pareto k diagnostic value is 0.9. Resampling is unreliable. Increasing the number of draws or decreasing tol_rel_obj may help.”\n"
     ]
    },
    {
     "name": "stdout",
     "output_type": "stream",
     "text": [
      "[1] \"949-th simulation finished, 4.53600000000006 sec.\"\n"
     ]
    },
    {
     "name": "stderr",
     "output_type": "stream",
     "text": [
      "Warning message:\n",
      "“Pareto k diagnostic value is 0.82. Resampling is unreliable. Increasing the number of draws or decreasing tol_rel_obj may help.”\n"
     ]
    },
    {
     "name": "stdout",
     "output_type": "stream",
     "text": [
      "[1] \"950-th simulation finished, 4.66300000000001 sec.\"\n"
     ]
    },
    {
     "name": "stderr",
     "output_type": "stream",
     "text": [
      "Warning message:\n",
      "“Pareto k diagnostic value is 0.9. Resampling is unreliable. Increasing the number of draws or decreasing tol_rel_obj may help.”\n"
     ]
    },
    {
     "name": "stdout",
     "output_type": "stream",
     "text": [
      "[1] \"951-th simulation finished, 4.61499999999978 sec.\"\n",
      "[1] \"952-th simulation finished, 2.10599999999977 sec.\"\n",
      "[1] \"953-th simulation finished, 3.3420000000001 sec.\"\n",
      "[1] \"954-th simulation finished, 2.08599999999979 sec.\"\n"
     ]
    },
    {
     "name": "stderr",
     "output_type": "stream",
     "text": [
      "Warning message:\n",
      "“Pareto k diagnostic value is 0.85. Resampling is unreliable. Increasing the number of draws or decreasing tol_rel_obj may help.”\n"
     ]
    },
    {
     "name": "stdout",
     "output_type": "stream",
     "text": [
      "[1] \"955-th simulation finished, 4.59299999999985 sec.\"\n"
     ]
    },
    {
     "name": "stderr",
     "output_type": "stream",
     "text": [
      "Warning message:\n",
      "“Pareto k diagnostic value is 0.88. Resampling is unreliable. Increasing the number of draws or decreasing tol_rel_obj may help.”\n"
     ]
    },
    {
     "name": "stdout",
     "output_type": "stream",
     "text": [
      "[1] \"956-th simulation finished, 4.55400000000009 sec.\"\n",
      "[1] \"957-th simulation finished, 1.95100000000002 sec.\"\n"
     ]
    },
    {
     "name": "stderr",
     "output_type": "stream",
     "text": [
      "Warning message:\n",
      "“Pareto k diagnostic value is 0.88. Resampling is unreliable. Increasing the number of draws or decreasing tol_rel_obj may help.”\n"
     ]
    },
    {
     "name": "stdout",
     "output_type": "stream",
     "text": [
      "[1] \"958-th simulation finished, 4.61299999999983 sec.\"\n",
      "[1] \"959-th simulation finished, 3.21799999999985 sec.\"\n"
     ]
    },
    {
     "name": "stderr",
     "output_type": "stream",
     "text": [
      "Warning message:\n",
      "“Pareto k diagnostic value is 0.86. Resampling is unreliable. Increasing the number of draws or decreasing tol_rel_obj may help.”\n"
     ]
    },
    {
     "name": "stdout",
     "output_type": "stream",
     "text": [
      "[1] \"960-th simulation finished, 4.58300000000008 sec.\"\n",
      "[1] \"961-th simulation finished, 2.11299999999983 sec.\"\n",
      "[1] \"962-th simulation finished, 4.50199999999995 sec.\"\n",
      "[1] \"963-th simulation finished, 2.11000000000013 sec.\"\n"
     ]
    },
    {
     "name": "stderr",
     "output_type": "stream",
     "text": [
      "Warning message:\n",
      "“Pareto k diagnostic value is 0.93. Resampling is unreliable. Increasing the number of draws or decreasing tol_rel_obj may help.”\n"
     ]
    },
    {
     "name": "stdout",
     "output_type": "stream",
     "text": [
      "[1] \"964-th simulation finished, 4.61999999999989 sec.\"\n"
     ]
    },
    {
     "name": "stderr",
     "output_type": "stream",
     "text": [
      "Warning message:\n",
      "“Pareto k diagnostic value is 0.9. Resampling is unreliable. Increasing the number of draws or decreasing tol_rel_obj may help.”\n"
     ]
    },
    {
     "name": "stdout",
     "output_type": "stream",
     "text": [
      "[1] \"965-th simulation finished, 4.62599999999975 sec.\"\n",
      "[1] \"966-th simulation finished, 2.22299999999996 sec.\"\n"
     ]
    },
    {
     "name": "stderr",
     "output_type": "stream",
     "text": [
      "Warning message:\n",
      "“Pareto k diagnostic value is 0.9. Resampling is unreliable. Increasing the number of draws or decreasing tol_rel_obj may help.”\n"
     ]
    },
    {
     "name": "stdout",
     "output_type": "stream",
     "text": [
      "[1] \"967-th simulation finished, 4.58199999999988 sec.\"\n",
      "[1] \"968-th simulation finished, 3.19300000000021 sec.\"\n",
      "[1] \"969-th simulation finished, 2.06700000000001 sec.\"\n"
     ]
    },
    {
     "name": "stderr",
     "output_type": "stream",
     "text": [
      "Warning message:\n",
      "“Pareto k diagnostic value is 0.86. Resampling is unreliable. Increasing the number of draws or decreasing tol_rel_obj may help.”\n"
     ]
    },
    {
     "name": "stdout",
     "output_type": "stream",
     "text": [
      "[1] \"970-th simulation finished, 4.60199999999986 sec.\"\n",
      "[1] \"971-th simulation finished, 2.096 sec.\"\n",
      "[1] \"972-th simulation finished, 2.07099999999991 sec.\"\n",
      "[1] \"973-th simulation finished, 2.08199999999988 sec.\"\n"
     ]
    },
    {
     "name": "stderr",
     "output_type": "stream",
     "text": [
      "Warning message:\n",
      "“Pareto k diagnostic value is 0.82. Resampling is unreliable. Increasing the number of draws or decreasing tol_rel_obj may help.”\n"
     ]
    },
    {
     "name": "stdout",
     "output_type": "stream",
     "text": [
      "[1] \"974-th simulation finished, 4.51600000000008 sec.\"\n"
     ]
    },
    {
     "name": "stderr",
     "output_type": "stream",
     "text": [
      "Warning message:\n",
      "“Pareto k diagnostic value is 0.85. Resampling is unreliable. Increasing the number of draws or decreasing tol_rel_obj may help.”\n"
     ]
    },
    {
     "name": "stdout",
     "output_type": "stream",
     "text": [
      "[1] \"975-th simulation finished, 4.63799999999992 sec.\"\n"
     ]
    },
    {
     "name": "stderr",
     "output_type": "stream",
     "text": [
      "Warning message:\n",
      "“Pareto k diagnostic value is 0.83. Resampling is unreliable. Increasing the number of draws or decreasing tol_rel_obj may help.”\n"
     ]
    },
    {
     "name": "stdout",
     "output_type": "stream",
     "text": [
      "[1] \"976-th simulation finished, 4.61999999999989 sec.\"\n"
     ]
    },
    {
     "name": "stderr",
     "output_type": "stream",
     "text": [
      "Warning message:\n",
      "“Pareto k diagnostic value is 0.83. Resampling is unreliable. Increasing the number of draws or decreasing tol_rel_obj may help.”\n"
     ]
    },
    {
     "name": "stdout",
     "output_type": "stream",
     "text": [
      "[1] \"977-th simulation finished, 4.55799999999999 sec.\"\n",
      "[1] \"978-th simulation finished, 2.09799999999996 sec.\"\n"
     ]
    },
    {
     "name": "stderr",
     "output_type": "stream",
     "text": [
      "Warning message:\n",
      "“Pareto k diagnostic value is 0.89. Resampling is unreliable. Increasing the number of draws or decreasing tol_rel_obj may help.”\n"
     ]
    },
    {
     "name": "stdout",
     "output_type": "stream",
     "text": [
      "[1] \"979-th simulation finished, 4.61699999999973 sec.\"\n"
     ]
    },
    {
     "name": "stderr",
     "output_type": "stream",
     "text": [
      "Warning message:\n",
      "“Pareto k diagnostic value is 0.84. Resampling is unreliable. Increasing the number of draws or decreasing tol_rel_obj may help.”\n"
     ]
    },
    {
     "name": "stdout",
     "output_type": "stream",
     "text": [
      "[1] \"980-th simulation finished, 4.61999999999989 sec.\"\n"
     ]
    },
    {
     "name": "stderr",
     "output_type": "stream",
     "text": [
      "Warning message:\n",
      "“Pareto k diagnostic value is 0.86. Resampling is unreliable. Increasing the number of draws or decreasing tol_rel_obj may help.”\n"
     ]
    },
    {
     "name": "stdout",
     "output_type": "stream",
     "text": [
      "[1] \"981-th simulation finished, 4.74799999999959 sec.\"\n",
      "[1] \"982-th simulation finished, 3.19000000000005 sec.\"\n",
      "[1] \"983-th simulation finished, 2.09099999999989 sec.\"\n"
     ]
    },
    {
     "name": "stderr",
     "output_type": "stream",
     "text": [
      "Warning message:\n",
      "“Pareto k diagnostic value is 0.87. Resampling is unreliable. Increasing the number of draws or decreasing tol_rel_obj may help.”\n"
     ]
    },
    {
     "name": "stdout",
     "output_type": "stream",
     "text": [
      "[1] \"984-th simulation finished, 4.50599999999986 sec.\"\n",
      "[1] \"985-th simulation finished, 2.11099999999988 sec.\"\n"
     ]
    },
    {
     "name": "stderr",
     "output_type": "stream",
     "text": [
      "Warning message:\n",
      "“Pareto k diagnostic value is 0.88. Resampling is unreliable. Increasing the number of draws or decreasing tol_rel_obj may help.”\n"
     ]
    },
    {
     "name": "stdout",
     "output_type": "stream",
     "text": [
      "[1] \"986-th simulation finished, 4.53999999999996 sec.\"\n"
     ]
    },
    {
     "name": "stderr",
     "output_type": "stream",
     "text": [
      "Warning message:\n",
      "“Pareto k diagnostic value is 0.87. Resampling is unreliable. Increasing the number of draws or decreasing tol_rel_obj may help.”\n"
     ]
    },
    {
     "name": "stdout",
     "output_type": "stream",
     "text": [
      "[1] \"987-th simulation finished, 4.5300000000002 sec.\"\n"
     ]
    },
    {
     "name": "stderr",
     "output_type": "stream",
     "text": [
      "Warning message:\n",
      "“Pareto k diagnostic value is 0.88. Resampling is unreliable. Increasing the number of draws or decreasing tol_rel_obj may help.”\n"
     ]
    },
    {
     "name": "stdout",
     "output_type": "stream",
     "text": [
      "[1] \"988-th simulation finished, 4.56399999999985 sec.\"\n",
      "[1] \"989-th simulation finished, 5.10699999999997 sec.\"\n"
     ]
    },
    {
     "name": "stderr",
     "output_type": "stream",
     "text": [
      "Warning message:\n",
      "“Pareto k diagnostic value is 0.87. Resampling is unreliable. Increasing the number of draws or decreasing tol_rel_obj may help.”\n"
     ]
    },
    {
     "name": "stdout",
     "output_type": "stream",
     "text": [
      "[1] \"990-th simulation finished, 4.5619999999999 sec.\"\n",
      "[1] \"991-th simulation finished, 2.07099999999991 sec.\"\n"
     ]
    },
    {
     "name": "stderr",
     "output_type": "stream",
     "text": [
      "Warning message:\n",
      "“Pareto k diagnostic value is 0.88. Resampling is unreliable. Increasing the number of draws or decreasing tol_rel_obj may help.”\n"
     ]
    },
    {
     "name": "stdout",
     "output_type": "stream",
     "text": [
      "[1] \"992-th simulation finished, 4.52799999999979 sec.\"\n",
      "[1] \"993-th simulation finished, 2.11499999999978 sec.\"\n",
      "[1] \"994-th simulation finished, 2.04400000000032 sec.\"\n",
      "[1] \"995-th simulation finished, 4.51399999999967 sec.\"\n",
      "[1] \"996-th simulation finished, 2.11799999999994 sec.\"\n"
     ]
    },
    {
     "name": "stderr",
     "output_type": "stream",
     "text": [
      "Warning message:\n",
      "“Pareto k diagnostic value is 0.83. Resampling is unreliable. Increasing the number of draws or decreasing tol_rel_obj may help.”\n"
     ]
    },
    {
     "name": "stdout",
     "output_type": "stream",
     "text": [
      "[1] \"997-th simulation finished, 4.61500000000024 sec.\"\n",
      "[1] \"998-th simulation finished, 3.20200000000023 sec.\"\n",
      "[1] \"999-th simulation finished, 4.65099999999984 sec.\"\n",
      "[1] \"1000-th simulation finished, 3.20800000000008 sec.\"\n"
     ]
    }
   ],
   "source": [
    "for(iter_sim in 1:num_sim){\n",
    "    start_sim = proc.time()[3]\n",
    "    \n",
    "    data_raw = data %>% filter(sim == iter_sim-1)\n",
    "    data_i = data.frame(country = factor(rep(1,T+T0)),\n",
    "                        date = as.Date(\"2022-01-01\")\n",
    "                               + c(-T0:-1, data_raw$date),\n",
    "                        death = c(rep(NA,T0), data_raw$death),\n",
    "                        intervention = c(rep(0,T0), data_raw$intervention))\n",
    "    \n",
    "    args <- list(rt = rt, inf = inf, obs = deaths, data = data_i, \n",
    "                 seed=12345, refresh=0)\n",
    "    args$algorithm <- \"fullrank\"; args$iter <- 5e4; args$tol_rel_obj <- 1e-3\n",
    "    \n",
    "    fm <- do.call(epim, args)\n",
    "    \n",
    "    results[iter_sim,1:2] = colMeans(as.data.frame(fm$stanfit)[1:2])\n",
    "    results[iter_sim,3:6] = cov(as.data.frame(fm$stanfit)[1:2])\n",
    "    \n",
    "    print(paste0(iter_sim,\"-th simulation finished, \",\n",
    "                 proc.time()[3] - start_sim,\" sec.\"))\n",
    "    flush(stdout())\n",
    "}"
   ]
  },
  {
   "cell_type": "code",
   "execution_count": 18,
   "id": "550a0bc1",
   "metadata": {},
   "outputs": [],
   "source": [
    "write_feather(as.data.frame(results), \n",
    "              'coverage_epidemia_nbinom_halflong_4.feather')"
   ]
  },
  {
   "cell_type": "code",
   "execution_count": null,
   "id": "7efef660",
   "metadata": {},
   "outputs": [],
   "source": []
  }
 ],
 "metadata": {
  "kernelspec": {
   "display_name": "R",
   "language": "R",
   "name": "ir"
  },
  "language_info": {
   "codemirror_mode": "r",
   "file_extension": ".r",
   "mimetype": "text/x-r-source",
   "name": "R",
   "pygments_lexer": "r",
   "version": "4.3.0"
  }
 },
 "nbformat": 4,
 "nbformat_minor": 5
}

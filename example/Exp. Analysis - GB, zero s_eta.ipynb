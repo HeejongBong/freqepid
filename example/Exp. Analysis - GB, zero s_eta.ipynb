{
 "cells": [
  {
   "cell_type": "code",
   "execution_count": 5,
   "id": "d05c7934",
   "metadata": {},
   "outputs": [],
   "source": [
    "import os, importlib, sys, time"
   ]
  },
  {
   "cell_type": "code",
   "execution_count": 6,
   "id": "bd200c96",
   "metadata": {},
   "outputs": [],
   "source": [
    "import numpy as np\n",
    "import pandas as pd\n",
    "import matplotlib.pyplot as plt"
   ]
  },
  {
   "cell_type": "code",
   "execution_count": 7,
   "id": "293102b4",
   "metadata": {},
   "outputs": [],
   "source": [
    "import scipy.linalg as la\n",
    "import scipy.stats as stats"
   ]
  },
  {
   "cell_type": "code",
   "execution_count": 8,
   "id": "3e5a168a",
   "metadata": {},
   "outputs": [],
   "source": [
    "data = pd.read_csv('EuropeCovid2_data.csv', index_col=0)"
   ]
  },
  {
   "cell_type": "code",
   "execution_count": 9,
   "id": "18858294",
   "metadata": {},
   "outputs": [
    {
     "data": {
      "text/html": [
       "<div>\n",
       "<style scoped>\n",
       "    .dataframe tbody tr th:only-of-type {\n",
       "        vertical-align: middle;\n",
       "    }\n",
       "\n",
       "    .dataframe tbody tr th {\n",
       "        vertical-align: top;\n",
       "    }\n",
       "\n",
       "    .dataframe thead th {\n",
       "        text-align: right;\n",
       "    }\n",
       "</style>\n",
       "<table border=\"1\" class=\"dataframe\">\n",
       "  <thead>\n",
       "    <tr style=\"text-align: right;\">\n",
       "      <th></th>\n",
       "      <th>id</th>\n",
       "      <th>country</th>\n",
       "      <th>date</th>\n",
       "      <th>cases</th>\n",
       "      <th>deaths</th>\n",
       "      <th>schools_universities</th>\n",
       "      <th>self_isolating_if_ill</th>\n",
       "      <th>public_events</th>\n",
       "      <th>lockdown</th>\n",
       "      <th>social_distancing_encouraged</th>\n",
       "      <th>pop</th>\n",
       "    </tr>\n",
       "  </thead>\n",
       "  <tbody>\n",
       "    <tr>\n",
       "      <th>1</th>\n",
       "      <td>AT</td>\n",
       "      <td>Austria</td>\n",
       "      <td>2020-01-03</td>\n",
       "      <td>0.0</td>\n",
       "      <td>0.0</td>\n",
       "      <td>0</td>\n",
       "      <td>0</td>\n",
       "      <td>0</td>\n",
       "      <td>0</td>\n",
       "      <td>0</td>\n",
       "      <td>NaN</td>\n",
       "    </tr>\n",
       "    <tr>\n",
       "      <th>2</th>\n",
       "      <td>AT</td>\n",
       "      <td>Austria</td>\n",
       "      <td>2020-01-04</td>\n",
       "      <td>0.0</td>\n",
       "      <td>0.0</td>\n",
       "      <td>0</td>\n",
       "      <td>0</td>\n",
       "      <td>0</td>\n",
       "      <td>0</td>\n",
       "      <td>0</td>\n",
       "      <td>NaN</td>\n",
       "    </tr>\n",
       "    <tr>\n",
       "      <th>3</th>\n",
       "      <td>AT</td>\n",
       "      <td>Austria</td>\n",
       "      <td>2020-01-05</td>\n",
       "      <td>0.0</td>\n",
       "      <td>0.0</td>\n",
       "      <td>0</td>\n",
       "      <td>0</td>\n",
       "      <td>0</td>\n",
       "      <td>0</td>\n",
       "      <td>0</td>\n",
       "      <td>NaN</td>\n",
       "    </tr>\n",
       "    <tr>\n",
       "      <th>4</th>\n",
       "      <td>AT</td>\n",
       "      <td>Austria</td>\n",
       "      <td>2020-01-06</td>\n",
       "      <td>0.0</td>\n",
       "      <td>0.0</td>\n",
       "      <td>0</td>\n",
       "      <td>0</td>\n",
       "      <td>0</td>\n",
       "      <td>0</td>\n",
       "      <td>0</td>\n",
       "      <td>NaN</td>\n",
       "    </tr>\n",
       "    <tr>\n",
       "      <th>5</th>\n",
       "      <td>AT</td>\n",
       "      <td>Austria</td>\n",
       "      <td>2020-01-07</td>\n",
       "      <td>0.0</td>\n",
       "      <td>0.0</td>\n",
       "      <td>0</td>\n",
       "      <td>0</td>\n",
       "      <td>0</td>\n",
       "      <td>0</td>\n",
       "      <td>0</td>\n",
       "      <td>NaN</td>\n",
       "    </tr>\n",
       "    <tr>\n",
       "      <th>...</th>\n",
       "      <td>...</td>\n",
       "      <td>...</td>\n",
       "      <td>...</td>\n",
       "      <td>...</td>\n",
       "      <td>...</td>\n",
       "      <td>...</td>\n",
       "      <td>...</td>\n",
       "      <td>...</td>\n",
       "      <td>...</td>\n",
       "      <td>...</td>\n",
       "      <td>...</td>\n",
       "    </tr>\n",
       "    <tr>\n",
       "      <th>1976</th>\n",
       "      <td>GB</td>\n",
       "      <td>United_Kingdom</td>\n",
       "      <td>2020-06-26</td>\n",
       "      <td>778.0</td>\n",
       "      <td>99.0</td>\n",
       "      <td>1</td>\n",
       "      <td>1</td>\n",
       "      <td>1</td>\n",
       "      <td>1</td>\n",
       "      <td>1</td>\n",
       "      <td>NaN</td>\n",
       "    </tr>\n",
       "    <tr>\n",
       "      <th>1977</th>\n",
       "      <td>GB</td>\n",
       "      <td>United_Kingdom</td>\n",
       "      <td>2020-06-27</td>\n",
       "      <td>721.0</td>\n",
       "      <td>77.0</td>\n",
       "      <td>1</td>\n",
       "      <td>1</td>\n",
       "      <td>1</td>\n",
       "      <td>1</td>\n",
       "      <td>1</td>\n",
       "      <td>NaN</td>\n",
       "    </tr>\n",
       "    <tr>\n",
       "      <th>1978</th>\n",
       "      <td>GB</td>\n",
       "      <td>United_Kingdom</td>\n",
       "      <td>2020-06-28</td>\n",
       "      <td>671.0</td>\n",
       "      <td>40.0</td>\n",
       "      <td>1</td>\n",
       "      <td>1</td>\n",
       "      <td>1</td>\n",
       "      <td>1</td>\n",
       "      <td>1</td>\n",
       "      <td>NaN</td>\n",
       "    </tr>\n",
       "    <tr>\n",
       "      <th>1979</th>\n",
       "      <td>GB</td>\n",
       "      <td>United_Kingdom</td>\n",
       "      <td>2020-06-29</td>\n",
       "      <td>649.0</td>\n",
       "      <td>31.0</td>\n",
       "      <td>1</td>\n",
       "      <td>1</td>\n",
       "      <td>1</td>\n",
       "      <td>1</td>\n",
       "      <td>1</td>\n",
       "      <td>NaN</td>\n",
       "    </tr>\n",
       "    <tr>\n",
       "      <th>1980</th>\n",
       "      <td>GB</td>\n",
       "      <td>United_Kingdom</td>\n",
       "      <td>2020-06-30</td>\n",
       "      <td>446.0</td>\n",
       "      <td>21.0</td>\n",
       "      <td>1</td>\n",
       "      <td>1</td>\n",
       "      <td>1</td>\n",
       "      <td>1</td>\n",
       "      <td>1</td>\n",
       "      <td>NaN</td>\n",
       "    </tr>\n",
       "  </tbody>\n",
       "</table>\n",
       "<p>1980 rows × 11 columns</p>\n",
       "</div>"
      ],
      "text/plain": [
       "      id         country        date  cases  deaths  schools_universities  \\\n",
       "1     AT         Austria  2020-01-03    0.0     0.0                     0   \n",
       "2     AT         Austria  2020-01-04    0.0     0.0                     0   \n",
       "3     AT         Austria  2020-01-05    0.0     0.0                     0   \n",
       "4     AT         Austria  2020-01-06    0.0     0.0                     0   \n",
       "5     AT         Austria  2020-01-07    0.0     0.0                     0   \n",
       "...   ..             ...         ...    ...     ...                   ...   \n",
       "1976  GB  United_Kingdom  2020-06-26  778.0    99.0                     1   \n",
       "1977  GB  United_Kingdom  2020-06-27  721.0    77.0                     1   \n",
       "1978  GB  United_Kingdom  2020-06-28  671.0    40.0                     1   \n",
       "1979  GB  United_Kingdom  2020-06-29  649.0    31.0                     1   \n",
       "1980  GB  United_Kingdom  2020-06-30  446.0    21.0                     1   \n",
       "\n",
       "      self_isolating_if_ill  public_events  lockdown  \\\n",
       "1                         0              0         0   \n",
       "2                         0              0         0   \n",
       "3                         0              0         0   \n",
       "4                         0              0         0   \n",
       "5                         0              0         0   \n",
       "...                     ...            ...       ...   \n",
       "1976                      1              1         1   \n",
       "1977                      1              1         1   \n",
       "1978                      1              1         1   \n",
       "1979                      1              1         1   \n",
       "1980                      1              1         1   \n",
       "\n",
       "      social_distancing_encouraged  pop  \n",
       "1                                0  NaN  \n",
       "2                                0  NaN  \n",
       "3                                0  NaN  \n",
       "4                                0  NaN  \n",
       "5                                0  NaN  \n",
       "...                            ...  ...  \n",
       "1976                             1  NaN  \n",
       "1977                             1  NaN  \n",
       "1978                             1  NaN  \n",
       "1979                             1  NaN  \n",
       "1980                             1  NaN  \n",
       "\n",
       "[1980 rows x 11 columns]"
      ]
     },
     "execution_count": 9,
     "metadata": {},
     "output_type": "execute_result"
    }
   ],
   "source": [
    "data"
   ]
  },
  {
   "cell_type": "markdown",
   "id": "199c997f",
   "metadata": {},
   "source": [
    "# 2. EDA"
   ]
  },
  {
   "cell_type": "code",
   "execution_count": 10,
   "id": "6aa99197",
   "metadata": {},
   "outputs": [
    {
     "data": {
      "text/plain": [
       "AT    180\n",
       "BE    180\n",
       "DK    180\n",
       "FR    180\n",
       "DE    180\n",
       "IT    180\n",
       "NO    180\n",
       "ES    180\n",
       "SE    180\n",
       "CH    180\n",
       "GB    180\n",
       "Name: id, dtype: int64"
      ]
     },
     "execution_count": 10,
     "metadata": {},
     "output_type": "execute_result"
    }
   ],
   "source": [
    "data['id'].value_counts()"
   ]
  },
  {
   "cell_type": "code",
   "execution_count": 11,
   "id": "6b00ae3c",
   "metadata": {},
   "outputs": [],
   "source": [
    "region = 'GB'\n",
    "data_r = data[data.id == region]\n",
    "Y_raw = data_r.deaths.to_numpy()\n",
    "POI = np.cumsum(Y_raw) > 10"
   ]
  },
  {
   "cell_type": "code",
   "execution_count": 12,
   "id": "c3b3a576",
   "metadata": {},
   "outputs": [],
   "source": [
    "# Y \n",
    "Y_data = Y_raw[POI]\n",
    "I_data = data_r.cases[POI].to_numpy()"
   ]
  },
  {
   "cell_type": "code",
   "execution_count": 13,
   "id": "9289d452",
   "metadata": {},
   "outputs": [],
   "source": [
    "T = Y_data.shape[0]\n",
    "T0 = 20\n",
    "alpha = 1\n",
    "K = 6.5"
   ]
  },
  {
   "cell_type": "code",
   "execution_count": 14,
   "id": "061de25c",
   "metadata": {},
   "outputs": [
    {
     "data": {
      "text/plain": [
       "[<matplotlib.lines.Line2D at 0x12f13b130>]"
      ]
     },
     "execution_count": 14,
     "metadata": {},
     "output_type": "execute_result"
    },
    {
     "data": {
      "image/png": "[encoded data removed]",
      "text/plain": [
       "<Figure size 640x480 with 1 Axes>"
      ]
     },
     "metadata": {},
     "output_type": "display_data"
    }
   ],
   "source": [
    "plt.plot(alpha*I_data)\n",
    "plt.plot(Y_data)"
   ]
  },
  {
   "cell_type": "code",
   "execution_count": 15,
   "id": "56acb5ee",
   "metadata": {},
   "outputs": [],
   "source": [
    "GPi = np.load('EuropeCovid2_GPi.npz')"
   ]
  },
  {
   "cell_type": "code",
   "execution_count": 16,
   "id": "f1a7cd49",
   "metadata": {},
   "outputs": [
    {
     "data": {
      "text/plain": [
       "[<matplotlib.lines.Line2D at 0x12f3ce940>]"
      ]
     },
     "execution_count": 16,
     "metadata": {},
     "output_type": "execute_result"
    },
    {
     "data": {
      "image/png": "[encoded data removed]",
      "text/plain": [
       "<Figure size 640x480 with 1 Axes>"
      ]
     },
     "metadata": {},
     "output_type": "display_data"
    }
   ],
   "source": [
    "# g\n",
    "g = np.zeros(T+T0)\n",
    "g[:GPi['g'].shape[0]] = GPi['g']\n",
    "plt.plot(g)"
   ]
  },
  {
   "cell_type": "code",
   "execution_count": 17,
   "id": "9df1120b",
   "metadata": {},
   "outputs": [
    {
     "data": {
      "text/plain": [
       "[<matplotlib.lines.Line2D at 0x12f4483a0>]"
      ]
     },
     "execution_count": 17,
     "metadata": {},
     "output_type": "execute_result"
    },
    {
     "data": {
      "image/png": "[encoded data removed]",
      "text/plain": [
       "<Figure size 640x480 with 1 Axes>"
      ]
     },
     "metadata": {},
     "output_type": "display_data"
    }
   ],
   "source": [
    "# pi\n",
    "pi = np.zeros(T+T0)\n",
    "pi[:GPi['pi'].shape[0]] = GPi['pi']\n",
    "plt.plot(pi)"
   ]
  },
  {
   "cell_type": "code",
   "execution_count": 18,
   "id": "1ff31039",
   "metadata": {},
   "outputs": [],
   "source": [
    "# A\n",
    "d=2\n",
    "A = np.zeros([T+T0, d])"
   ]
  },
  {
   "cell_type": "code",
   "execution_count": 19,
   "id": "00b5c445",
   "metadata": {},
   "outputs": [],
   "source": [
    "A[:,0] = np.full(T+T0, 1)\n",
    "A[T0:,1] = data_r.lockdown[POI].to_numpy()"
   ]
  },
  {
   "cell_type": "code",
   "execution_count": 20,
   "id": "1e356814",
   "metadata": {},
   "outputs": [
    {
     "data": {
      "text/plain": [
       "[<matplotlib.lines.Line2D at 0x12f4a2c40>,\n",
       " <matplotlib.lines.Line2D at 0x12f4a2ca0>]"
      ]
     },
     "execution_count": 20,
     "metadata": {},
     "output_type": "execute_result"
    },
    {
     "data": {
      "image/png": "[encoded data removed]",
      "text/plain": [
       "<Figure size 640x480 with 1 Axes>"
      ]
     },
     "metadata": {},
     "output_type": "display_data"
    }
   ],
   "source": [
    "plt.plot(A)"
   ]
  },
  {
   "cell_type": "markdown",
   "id": "cfbd8d34",
   "metadata": {},
   "source": [
    "# 3. fit by EM algorithm"
   ]
  },
  {
   "cell_type": "code",
   "execution_count": 21,
   "id": "1ad1909e",
   "metadata": {},
   "outputs": [],
   "source": [
    "def fit(obs, minit_0, sinit_eps, binit,\n",
    "        n_iter=3000, history=False, verbose=False, step_size=0.1):\n",
    "    \n",
    "    mhat_0=minit_0\n",
    "    shat_eps = sinit_eps\n",
    "    bhat=binit\n",
    "    ss=np.inf\n",
    "    \n",
    "    # mhat = np.concatenate([[mhat_0], np.zeros(T+T0-1)])\n",
    "    \n",
    "    if history:\n",
    "        mhs_0 = np.zeros(n_iter)\n",
    "        shs_eps = np.zeros(n_iter)\n",
    "        bhs = np.zeros([n_iter, d])\n",
    "        \n",
    "    Rhat = np.zeros(T+T0)\n",
    "    d1Rh = np.zeros([d, T+T0])\n",
    "    d2Rh = np.zeros([d, d, T+T0])\n",
    "    \n",
    "    for t in np.arange(T+T0):\n",
    "        o = np.exp(bhat @ A[t])\n",
    "        p = 1 / (1 + o)\n",
    "        q = o / (1 + o)\n",
    "\n",
    "        Rhat[t] = K * p\n",
    "        d1Rh[:,t] = - K * p * q * A[t]\n",
    "        d2Rh[:,:,t] = K * p * q * (q - p) * (A[t,:,None] * A[t])\n",
    "\n",
    "    Pi = alpha * np.concatenate([[0],pi])[np.maximum(0, T0 + np.arange(T)[:,None] - np.arange(T+T0))]\n",
    "    G = Rhat[:,None] * np.concatenate([[0],g])[np.maximum(0, np.arange(T+T0)[:,None] - np.arange(T+T0))]\n",
    "    inv_ImG = la.inv(np.eye(T+T0)-G)\n",
    "    Pi_inv_ImG = Pi @ inv_ImG\n",
    "    \n",
    "    EY = mhat_0 * Pi_inv_ImG[:,0]\n",
    "    shat_eps = np.sqrt(np.sum((obs-EY)**2)/T)\n",
    "    \n",
    "    if verbose:\n",
    "        print(\"Before EM, shat_eps: %f\"%shat_eps)\n",
    "    \n",
    "    for i in np.arange(n_iter):\n",
    "        start_iter = time.time()\n",
    "\n",
    "        # iteration for mu\n",
    "        mhat_0 = (obs @ Pi_inv_ImG[:,0]) / np.sum((Pi_inv_ImG[:,0])**2)\n",
    "        # mhat = np.concatenate([[mhat_0], np.zeros(T+T0-1)])\n",
    "        \n",
    "        # iteration for beta\n",
    "        d1G = d1Rh[:,:,None] * np.concatenate([[0],g])[\n",
    "                np.maximum(0, np.arange(T+T0)[:,None] - np.arange(T+T0))]\n",
    "        d2G = d2Rh[...,None] * np.concatenate([[0],g])[\n",
    "                np.maximum(0, np.arange(T+T0)[:,None] - np.arange(T+T0))]\n",
    "        \n",
    "        EY = mhat_0 * Pi_inv_ImG[:,0]\n",
    "        d1EY = mhat_0 * (Pi_inv_ImG @ (d1G @ inv_ImG[:,:1]))[...,0]\n",
    "        d2EY = mhat_0 * (Pi_inv_ImG @ (\n",
    "            d1G[:,None] @ inv_ImG @ d1G @ inv_ImG[:,:1]\n",
    "            + d1G @ inv_ImG @ d1G[:,None] @ inv_ImG[:,:1]\n",
    "            + d2G @ inv_ImG[:,:1]))[...,0]\n",
    "        \n",
    "        d1f = - (2/(T+T0)/shat_eps**2) * d1EY @ (obs - EY)\n",
    "        d2f = (2/(T+T0)/shat_eps**2) * (d1EY @ d1EY.T - d2EY @ (obs-EY))\n",
    "        \n",
    "        u, v = la.eig(d2f)\n",
    "        db = np.real(((v/np.maximum(u,np.max(u)/100)) @ v.T) @ d1f)\n",
    "        ss = np.min([ss, step_size/np.sqrt(np.sum(db**2))])\n",
    "        bhat = bhat - ss * db\n",
    "        \n",
    "        for t in np.arange(T+T0):\n",
    "            o = np.exp(bhat @ A[t])\n",
    "            p = 1 / (1 + o)\n",
    "            q = o / (1 + o)\n",
    "\n",
    "            Rhat[t] = K * p\n",
    "            d1Rh[:,t] = - K * p * q * A[t]\n",
    "            d2Rh[:,:,t] = K * p * q * (q - p) * (A[t,:,None] * A[t])\n",
    "\n",
    "        Pi = alpha * np.concatenate([[0],pi])[np.maximum(0, T0 + np.arange(T)[:,None] - np.arange(T+T0))]\n",
    "        G = Rhat[:,None] * np.concatenate([[0],g])[np.maximum(0, np.arange(T+T0)[:,None] - np.arange(T+T0))]\n",
    "        inv_ImG = la.inv(np.eye(T+T0)-G)\n",
    "        Pi_inv_ImG = Pi @ inv_ImG\n",
    "    \n",
    "        EY = mhat_0 * Pi_inv_ImG[:,0]\n",
    "        shat_eps = np.sqrt(np.sum((obs-EY)**2)/T)\n",
    "    \n",
    "        if history:\n",
    "            mhs_0[i] = mhat_0\n",
    "            shs_eps[i] = shat_eps\n",
    "            bhs[i] = bhat\n",
    "        \n",
    "        if verbose:\n",
    "            print(\"%d-th iteration finished, shat_eps: %f, lapse: %.3fsec.\"\n",
    "                  %(i+1, shat_eps, time.time()-start_iter))\n",
    "            \n",
    "    if history:\n",
    "        return mhs_0, shs_eps, bhs\n",
    "    else:\n",
    "        return mhat_0, shat_eps, bhat"
   ]
  },
  {
   "cell_type": "code",
   "execution_count": 22,
   "id": "03ab5ca0",
   "metadata": {},
   "outputs": [],
   "source": [
    "mmle_0 = 17.4\n",
    "smle_eps = 138.5\n",
    "bmle = [0.207, 1.872]"
   ]
  },
  {
   "cell_type": "code",
   "execution_count": 1,
   "id": "e8ea54dd",
   "metadata": {
    "scrolled": true
   },
   "outputs": [
    {
     "ename": "NameError",
     "evalue": "name 'fit' is not defined",
     "output_type": "error",
     "traceback": [
      "\u001b[0;31m---------------------------------------------------------------------------\u001b[0m",
      "\u001b[0;31mNameError\u001b[0m                                 Traceback (most recent call last)",
      "Cell \u001b[0;32mIn [1], line 2\u001b[0m\n\u001b[1;32m      1\u001b[0m mhs_0, shs_eps, bhs \u001b[38;5;241m=\u001b[39m\\\n\u001b[0;32m----> 2\u001b[0m     \u001b[43mfit\u001b[49m(Y_data, mmle_0, smle_eps, bmle, \n\u001b[1;32m      3\u001b[0m         history\u001b[38;5;241m=\u001b[39m\u001b[38;5;28;01mTrue\u001b[39;00m, verbose\u001b[38;5;241m=\u001b[39m\u001b[38;5;28;01mTrue\u001b[39;00m, n_iter\u001b[38;5;241m=\u001b[39m\u001b[38;5;241m10000\u001b[39m, step_size\u001b[38;5;241m=\u001b[39m\u001b[38;5;241m0.05\u001b[39m)\n",
      "\u001b[0;31mNameError\u001b[0m: name 'fit' is not defined"
     ]
    }
   ],
   "source": [
    "mhs_0, shs_eps, bhs =\\\n",
    "    fit(Y_data, mmle_0, smle_eps, bmle, \n",
    "        history=True, verbose=True, n_iter=10000, step_size=0.05)"
   ]
  },
  {
   "cell_type": "code",
   "execution_count": null,
   "id": "cff35da5",
   "metadata": {},
   "outputs": [],
   "source": [
    "mmle_0 = mhs_0[-1]\n",
    "smle_eps = shs_eps[-1]\n",
    "bmle = bhs[-1]"
   ]
  },
  {
   "cell_type": "code",
   "execution_count": 2,
   "id": "b32210ad",
   "metadata": {},
   "outputs": [
    {
     "ename": "NameError",
     "evalue": "name 'mmle_0' is not defined",
     "output_type": "error",
     "traceback": [
      "\u001b[0;31m---------------------------------------------------------------------------\u001b[0m",
      "\u001b[0;31mNameError\u001b[0m                                 Traceback (most recent call last)",
      "Cell \u001b[0;32mIn [2], line 1\u001b[0m\n\u001b[0;32m----> 1\u001b[0m \u001b[43mmmle_0\u001b[49m, smle_eps, bmle\n",
      "\u001b[0;31mNameError\u001b[0m: name 'mmle_0' is not defined"
     ]
    }
   ],
   "source": [
    "mmle_0, smle_eps, bmle"
   ]
  },
  {
   "cell_type": "markdown",
   "id": "d3e6a5d9",
   "metadata": {},
   "source": [
    "## plots"
   ]
  },
  {
   "cell_type": "code",
   "execution_count": 26,
   "id": "d8313eb6",
   "metadata": {},
   "outputs": [
    {
     "data": {
      "text/plain": [
       "<matplotlib.legend.Legend at 0x12f52ad00>"
      ]
     },
     "execution_count": 26,
     "metadata": {},
     "output_type": "execute_result"
    },
    {
     "data": {
      "image/png": "[encoded data removed]",
      "text/plain": [
       "<Figure size 640x480 with 1 Axes>"
      ]
     },
     "metadata": {},
     "output_type": "display_data"
    }
   ],
   "source": [
    "plt.plot(shs_eps, label=r\"$\\hat{\\sigma}^{(i)}_\\epsilon$\")\n",
    "plt.xlabel(\"iteration (i)\"); plt.legend()"
   ]
  },
  {
   "cell_type": "code",
   "execution_count": 27,
   "id": "9f6ba96b",
   "metadata": {},
   "outputs": [
    {
     "data": {
      "text/plain": [
       "<matplotlib.legend.Legend at 0x12f5e35e0>"
      ]
     },
     "execution_count": 27,
     "metadata": {},
     "output_type": "execute_result"
    },
    {
     "data": {
      "image/png": "[encoded data removed]",
      "text/plain": [
       "<Figure size 640x480 with 1 Axes>"
      ]
     },
     "metadata": {},
     "output_type": "display_data"
    }
   ],
   "source": [
    "plt.plot(mhs_0, label=r\"$\\hat{\\mu}^{(i)}$\")\n",
    "plt.xlabel(\"iteration (i)\"); plt.legend()"
   ]
  },
  {
   "cell_type": "code",
   "execution_count": 28,
   "id": "68830907",
   "metadata": {},
   "outputs": [
    {
     "data": {
      "text/plain": [
       "<matplotlib.legend.Legend at 0x12f809a30>"
      ]
     },
     "execution_count": 28,
     "metadata": {},
     "output_type": "execute_result"
    },
    {
     "data": {
      "image/png": "[encoded data removed]",
      "text/plain": [
       "<Figure size 640x480 with 1 Axes>"
      ]
     },
     "metadata": {},
     "output_type": "display_data"
    }
   ],
   "source": [
    "plt.plot(bhs, label=r\"$\\hat{\\beta}^{(i)}$\")\n",
    "plt.xlabel(\"iteration (i)\"); plt.legend()"
   ]
  },
  {
   "cell_type": "markdown",
   "id": "6ba4e25f",
   "metadata": {},
   "source": [
    "# 4. Wald's Confidence Region"
   ]
  },
  {
   "cell_type": "code",
   "execution_count": 29,
   "id": "65467a22",
   "metadata": {},
   "outputs": [],
   "source": [
    "Rmle = np.zeros(T+T0)\n",
    "d1Rm = np.zeros([d, T+T0])\n",
    "d2Rm = np.zeros([d, d, T+T0])"
   ]
  },
  {
   "cell_type": "code",
   "execution_count": 30,
   "id": "cc20b7c5",
   "metadata": {},
   "outputs": [],
   "source": [
    "for t in np.arange(T+T0):\n",
    "    o = np.exp(bmle @ A[t])\n",
    "    p = 1 / (1 + o)\n",
    "    q = o / (1 + o)\n",
    "\n",
    "    Rmle[t] = K * p\n",
    "    d1Rm[:,t] = - K * p * q * A[t]\n",
    "    d2Rm[:,:,t] = K * p * q * (q - p) * (A[t,:,None] * A[t])"
   ]
  },
  {
   "cell_type": "code",
   "execution_count": 31,
   "id": "594b4abf",
   "metadata": {},
   "outputs": [],
   "source": [
    "Pi = alpha * np.concatenate([[0],pi])[np.maximum(0, T0 + np.arange(T)[:,None] - np.arange(T+T0))]\n",
    "G = Rmle[:,None] * np.concatenate([[0],g])[np.maximum(0, np.arange(T+T0)[:,None] - np.arange(T+T0))]"
   ]
  },
  {
   "cell_type": "code",
   "execution_count": 32,
   "id": "72421903",
   "metadata": {},
   "outputs": [],
   "source": [
    "d1G = d1Rm[:,:,None] * np.concatenate([[0],g])[\n",
    "        np.maximum(0, np.arange(T+T0)[:,None] - np.arange(T+T0))]\n",
    "d2G = d2Rm[...,None] * np.concatenate([[0],g])[\n",
    "        np.maximum(0, np.arange(T+T0)[:,None] - np.arange(T+T0))]"
   ]
  },
  {
   "cell_type": "code",
   "execution_count": 33,
   "id": "fbcd18b9",
   "metadata": {},
   "outputs": [],
   "source": [
    "inv_ImG = la.inv(np.eye(T+T0)-G)"
   ]
  },
  {
   "cell_type": "code",
   "execution_count": 34,
   "id": "bda8e073",
   "metadata": {},
   "outputs": [],
   "source": [
    "Pi_inv_ImG = Pi @ inv_ImG"
   ]
  },
  {
   "cell_type": "code",
   "execution_count": 35,
   "id": "e89cc70c",
   "metadata": {},
   "outputs": [],
   "source": [
    "EY = mmle_0 * Pi_inv_ImG[:,0]"
   ]
  },
  {
   "cell_type": "code",
   "execution_count": 36,
   "id": "f1f3e60e",
   "metadata": {},
   "outputs": [
    {
     "data": {
      "text/plain": [
       "[<matplotlib.lines.Line2D at 0x12f8b06a0>]"
      ]
     },
     "execution_count": 36,
     "metadata": {},
     "output_type": "execute_result"
    },
    {
     "data": {
      "image/png": "[encoded data removed]",
      "text/plain": [
       "<Figure size 640x480 with 1 Axes>"
      ]
     },
     "metadata": {},
     "output_type": "display_data"
    }
   ],
   "source": [
    "plt.plot(EY)\n",
    "plt.plot(Y_data)"
   ]
  },
  {
   "cell_type": "code",
   "execution_count": 37,
   "id": "fc989631",
   "metadata": {},
   "outputs": [],
   "source": [
    "d1EY = mmle_0 * (Pi_inv_ImG @ (d1G @ inv_ImG[:,:1]))[...,0]"
   ]
  },
  {
   "cell_type": "code",
   "execution_count": 38,
   "id": "b5a67a90",
   "metadata": {},
   "outputs": [],
   "source": [
    "d2EY = mmle_0 * (Pi_inv_ImG @ (\n",
    "    d1G[:,None] @ inv_ImG @ d1G @ inv_ImG[:,:1]\n",
    "    + d1G @ inv_ImG @ d1G[:,None] @ inv_ImG[:,:1]\n",
    "    + d2G @ inv_ImG[:,:1]))[...,0]"
   ]
  },
  {
   "cell_type": "code",
   "execution_count": 39,
   "id": "3523919b",
   "metadata": {},
   "outputs": [],
   "source": [
    "Ed2l_ds2 = - 2 * T / smle_eps**2\n",
    "Ed2l_dsdm = 0\n",
    "Ed2l_dsdb = np.zeros(d)\n",
    "Ed2l_dm2 = - np.sum(Pi_inv_ImG[:,0]**2) / smle_eps**2\n",
    "Ed2l_dmdb = - np.sum(Pi_inv_ImG[:,0] * d1EY, 1) / smle_eps**2\n",
    "Ed2l_db2 = - d1EY @ d1EY.T / smle_eps**2"
   ]
  },
  {
   "cell_type": "code",
   "execution_count": 40,
   "id": "476b2e51",
   "metadata": {},
   "outputs": [],
   "source": [
    "Ed2l_dms2 = np.array(\n",
    "    [[Ed2l_dm2, Ed2l_dsdm],\n",
    "     [Ed2l_dsdm, Ed2l_ds2]]\n",
    ")\n",
    "Ed2l_dmsdb = np.stack([Ed2l_dmdb, Ed2l_dsdb])"
   ]
  },
  {
   "cell_type": "code",
   "execution_count": 41,
   "id": "65dc62dc",
   "metadata": {},
   "outputs": [],
   "source": [
    "Ihat_dth = - np.block(\n",
    "    [[Ed2l_dms2, Ed2l_dmsdb],\n",
    "     [Ed2l_dmsdb.T, Ed2l_db2]])"
   ]
  },
  {
   "cell_type": "code",
   "execution_count": 42,
   "id": "593a8345",
   "metadata": {},
   "outputs": [
    {
     "data": {
      "text/plain": [
       "array([[ 2.00333088e-01, -0.00000000e+00, -6.44649684e+01,\n",
       "        -1.85179311e+01],\n",
       "       [-0.00000000e+00,  1.04856389e-02, -0.00000000e+00,\n",
       "        -0.00000000e+00],\n",
       "       [-6.44649684e+01, -0.00000000e+00,  2.25824883e+04,\n",
       "         7.68401239e+03],\n",
       "       [-1.85179311e+01, -0.00000000e+00,  7.68401239e+03,\n",
       "         3.34499410e+03]])"
      ]
     },
     "execution_count": 42,
     "metadata": {},
     "output_type": "execute_result"
    }
   ],
   "source": [
    "Ihat_dth"
   ]
  },
  {
   "cell_type": "code",
   "execution_count": 43,
   "id": "4b9aae6e",
   "metadata": {},
   "outputs": [
    {
     "data": {
      "text/plain": [
       "array([[ 0.06176938, -0.06524389],\n",
       "       [-0.06524389,  0.06952611]])"
      ]
     },
     "execution_count": 43,
     "metadata": {},
     "output_type": "execute_result"
    }
   ],
   "source": [
    "la.inv(Ihat_dth)[-2:,-2:]"
   ]
  },
  {
   "cell_type": "code",
   "execution_count": 44,
   "id": "df5114db",
   "metadata": {},
   "outputs": [
    {
     "data": {
      "text/plain": [
       "0.24853446788466402"
      ]
     },
     "execution_count": 44,
     "metadata": {},
     "output_type": "execute_result"
    }
   ],
   "source": [
    "np.sqrt(la.inv(Ihat_dth)[2,2])"
   ]
  },
  {
   "cell_type": "code",
   "execution_count": 45,
   "id": "e88cd798",
   "metadata": {},
   "outputs": [
    {
     "data": {
      "text/plain": [
       "0.2636780414591677"
      ]
     },
     "execution_count": 45,
     "metadata": {},
     "output_type": "execute_result"
    }
   ],
   "source": [
    "np.sqrt(la.inv(Ihat_dth)[3,3])"
   ]
  },
  {
   "cell_type": "markdown",
   "id": "d24fd556",
   "metadata": {},
   "source": [
    "# 5. HAC estimator"
   ]
  },
  {
   "cell_type": "code",
   "execution_count": 46,
   "id": "3da06108",
   "metadata": {},
   "outputs": [],
   "source": [
    "# Ed2l_ds2 = T / smle_eps**2 - 3 * (Y_data-EY) @ w_HAC @ (Y_data-EY) / smle_eps**4\n",
    "# Ed2l_dsdm = - 2 * Pi_inv_ImG[:,0] @ w_HAC @ (Y_data-EY) / smle_eps**3\n",
    "# Ed2l_dsdb = - 2 * d1EY @ w_HAC @ (Y_data-EY) / smle_eps**3\n",
    "# Ed2l_dm2 = - Pi_inv_ImG[:,0] @ w_HAC @ Pi_inv_ImG[:,0] / smle_eps**2\n",
    "# Ed2l_dmdb = - d1EY @ w_HAC @ Pi_inv_ImG[:,0] / smle_eps**2\n",
    "# Ed2l_db2 = - d1EY @ w_HAC @ d1EY.T / smle_eps**2"
   ]
  },
  {
   "cell_type": "code",
   "execution_count": 47,
   "id": "7b8e8f0c",
   "metadata": {},
   "outputs": [],
   "source": [
    "# Ed2l_dms2 = np.array(\n",
    "#     [[Ed2l_dm2, Ed2l_dsdm],\n",
    "#      [Ed2l_dsdm, Ed2l_ds2]]\n",
    "# )\n",
    "# Ed2l_dmsdb = np.stack([Ed2l_dmdb, Ed2l_dsdb])"
   ]
  },
  {
   "cell_type": "code",
   "execution_count": 48,
   "id": "5dec0615",
   "metadata": {},
   "outputs": [],
   "source": [
    "# Ihat_HAC = - np.block(\n",
    "#     [[Ed2l_dms2, Ed2l_dmsdb],\n",
    "#      [Ed2l_dmsdb.T, Ed2l_db2]])"
   ]
  },
  {
   "cell_type": "code",
   "execution_count": 49,
   "id": "d54b54c3",
   "metadata": {},
   "outputs": [],
   "source": [
    "# Ihat_HAC"
   ]
  },
  {
   "cell_type": "markdown",
   "id": "c4730826",
   "metadata": {},
   "source": [
    "# 6. Sandwich estimator"
   ]
  },
  {
   "cell_type": "code",
   "execution_count": 50,
   "id": "66cb5054",
   "metadata": {},
   "outputs": [],
   "source": [
    "L_HAC = np.floor(4* (T/100)**(2/9))"
   ]
  },
  {
   "cell_type": "code",
   "execution_count": 51,
   "id": "f308b3b7",
   "metadata": {},
   "outputs": [],
   "source": [
    "w_HAC = np.maximum(1 - np.abs(np.arange(T)[:,None] - np.arange(T))/L_HAC, 0)"
   ]
  },
  {
   "cell_type": "code",
   "execution_count": 52,
   "id": "afe0472a",
   "metadata": {},
   "outputs": [],
   "source": [
    "dlt_dm = Pi_inv_ImG[:,0] * (Y_data - EY) / smle_eps**2\n",
    "dlt_dsp = - 1 / smle_eps + (Y_data - EY)**2 / smle_eps**3\n",
    "dlt_db = d1EY * (Y_data - EY) / smle_eps**2"
   ]
  },
  {
   "cell_type": "code",
   "execution_count": 53,
   "id": "4b433789",
   "metadata": {},
   "outputs": [],
   "source": [
    "dlt_dth = np.concatenate([np.array([dlt_dm, dlt_dsp]), dlt_db], 0)"
   ]
  },
  {
   "cell_type": "code",
   "execution_count": 54,
   "id": "9022acb4",
   "metadata": {},
   "outputs": [],
   "source": [
    "VEdl = dlt_dth @ w_HAC @ dlt_dth.T"
   ]
  },
  {
   "cell_type": "code",
   "execution_count": 55,
   "id": "b4ffd712",
   "metadata": {},
   "outputs": [
    {
     "data": {
      "text/plain": [
       "array([[ 2.81846019e-01, -2.56584682e-02, -8.56170925e+01,\n",
       "        -2.08054450e+01],\n",
       "       [-2.56584682e-02,  3.14818538e-02,  9.66786161e+00,\n",
       "         3.54969164e+00],\n",
       "       [-8.56170925e+01,  9.66786161e+00,  2.74491000e+04,\n",
       "         7.67560268e+03],\n",
       "       [-2.08054450e+01,  3.54969164e+00,  7.67560268e+03,\n",
       "         2.81596955e+03]])"
      ]
     },
     "execution_count": 55,
     "metadata": {},
     "output_type": "execute_result"
    }
   ],
   "source": [
    "VEdl"
   ]
  },
  {
   "cell_type": "code",
   "execution_count": 56,
   "id": "c417ee1c",
   "metadata": {},
   "outputs": [],
   "source": [
    "Ihat_sdw = Ihat_dth @ la.inv(VEdl) @ Ihat_dth"
   ]
  },
  {
   "cell_type": "code",
   "execution_count": 57,
   "id": "feb2482a",
   "metadata": {},
   "outputs": [
    {
     "data": {
      "text/plain": [
       "array([[ 1.83777570e-01,  6.81825265e-03, -6.50800130e+01,\n",
       "        -2.33135482e+01],\n",
       "       [ 6.81825265e-03,  4.49309392e-03, -3.25558770e+00,\n",
       "        -1.49710978e+00],\n",
       "       [-6.50800130e+01, -3.25558770e+00,  2.54538041e+04,\n",
       "         1.04484985e+04],\n",
       "       [-2.33135482e+01, -1.49710978e+00,  1.04484985e+04,\n",
       "         4.99396188e+03]])"
      ]
     },
     "execution_count": 57,
     "metadata": {},
     "output_type": "execute_result"
    }
   ],
   "source": [
    "Ihat_sdw"
   ]
  },
  {
   "cell_type": "code",
   "execution_count": 58,
   "id": "ca246348",
   "metadata": {},
   "outputs": [
    {
     "data": {
      "text/plain": [
       "array([[ 2.00333088e-01, -0.00000000e+00, -6.44649684e+01,\n",
       "        -1.85179311e+01],\n",
       "       [-0.00000000e+00,  1.04856389e-02, -0.00000000e+00,\n",
       "        -0.00000000e+00],\n",
       "       [-6.44649684e+01, -0.00000000e+00,  2.25824883e+04,\n",
       "         7.68401239e+03],\n",
       "       [-1.85179311e+01, -0.00000000e+00,  7.68401239e+03,\n",
       "         3.34499410e+03]])"
      ]
     },
     "execution_count": 58,
     "metadata": {},
     "output_type": "execute_result"
    }
   ],
   "source": [
    "Ihat_dth"
   ]
  },
  {
   "cell_type": "code",
   "execution_count": 59,
   "id": "bd082687",
   "metadata": {},
   "outputs": [
    {
     "data": {
      "text/plain": [
       "array([[ 0.02480399, -0.0264004 ],\n",
       "       [-0.0264004 ,  0.02861443]])"
      ]
     },
     "execution_count": 59,
     "metadata": {},
     "output_type": "execute_result"
    }
   ],
   "source": [
    "la.inv(Ihat_sdw)[-2:,-2:]"
   ]
  },
  {
   "cell_type": "code",
   "execution_count": 60,
   "id": "5dc1bf6d",
   "metadata": {},
   "outputs": [
    {
     "data": {
      "text/plain": [
       "0.15749282039524706"
      ]
     },
     "execution_count": 60,
     "metadata": {},
     "output_type": "execute_result"
    }
   ],
   "source": [
    "np.sqrt(la.inv(Ihat_sdw)[2,2])"
   ]
  },
  {
   "cell_type": "code",
   "execution_count": 61,
   "id": "fbc58b39",
   "metadata": {},
   "outputs": [
    {
     "data": {
      "text/plain": [
       "0.16915800662594271"
      ]
     },
     "execution_count": 61,
     "metadata": {},
     "output_type": "execute_result"
    }
   ],
   "source": [
    "np.sqrt(la.inv(Ihat_sdw)[3,3])"
   ]
  },
  {
   "cell_type": "code",
   "execution_count": null,
   "id": "958a1667",
   "metadata": {},
   "outputs": [],
   "source": []
  }
 ],
 "metadata": {
  "kernelspec": {
   "display_name": "Python 3 (ipykernel)",
   "language": "python",
   "name": "python3"
  },
  "language_info": {
   "codemirror_mode": {
    "name": "ipython",
    "version": 3
   },
   "file_extension": ".py",
   "mimetype": "text/x-python",
   "name": "python",
   "nbconvert_exporter": "python",
   "pygments_lexer": "ipython3",
   "version": "3.10.8"
  }
 },
 "nbformat": 4,
 "nbformat_minor": 5
}

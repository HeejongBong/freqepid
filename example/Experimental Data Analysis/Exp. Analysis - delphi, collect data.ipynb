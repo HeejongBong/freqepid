{
 "cells": [
  {
   "cell_type": "code",
   "execution_count": 2,
   "id": "d05c7934",
   "metadata": {},
   "outputs": [],
   "source": [
    "import os, importlib, sys, time"
   ]
  },
  {
   "cell_type": "code",
   "execution_count": 3,
   "id": "bd200c96",
   "metadata": {},
   "outputs": [],
   "source": [
    "import numpy as np\n",
    "import pandas as pd\n",
    "import matplotlib.pyplot as plt"
   ]
  },
  {
   "cell_type": "code",
   "execution_count": 4,
   "id": "293102b4",
   "metadata": {},
   "outputs": [],
   "source": [
    "import scipy.linalg as la\n",
    "import scipy.stats as stats"
   ]
  },
  {
   "cell_type": "code",
   "execution_count": 6,
   "id": "ccf356f6",
   "metadata": {},
   "outputs": [],
   "source": [
    "import covidcast\n",
    "from datetime import date"
   ]
  },
  {
   "cell_type": "code",
   "execution_count": 7,
   "id": "ee51591f",
   "metadata": {},
   "outputs": [],
   "source": [
    "doi = [date(2020, 1, 22), date(2020, 8, 1)]"
   ]
  },
  {
   "cell_type": "code",
   "execution_count": 8,
   "id": "af67879b",
   "metadata": {},
   "outputs": [],
   "source": [
    "deaths = covidcast.signal(\"jhu-csse\", \"deaths_incidence_num\",\n",
    "                          doi[0], doi[1], \"state\")"
   ]
  },
  {
   "cell_type": "code",
   "execution_count": 10,
   "id": "de1eedef",
   "metadata": {},
   "outputs": [],
   "source": [
    "name_of_interventions = [\"completely_home_prop\", \"median_home_dwell_time\", \"full_time_work_prop\", \"part_time_work_prop\"]\n",
    "interventions = [\n",
    "    covidcast.signal(\"safegraph\", noi,\n",
    "                     doi[0], doi[1], \"state\")\n",
    "    for noi in name_of_interventions\n",
    "]"
   ]
  },
  {
   "cell_type": "code",
   "execution_count": 23,
   "id": "c0a553d9",
   "metadata": {},
   "outputs": [],
   "source": [
    "data = covidcast.aggregate_signals( [deaths]+interventions ).rename(\n",
    "    columns={\"jhu-csse_deaths_incidence_num_0_value\": \"deaths\",\n",
    "             \"safegraph_completely_home_prop_1_value\": \"completely_home_prop\",\n",
    "             \"safegraph_median_home_dwell_time_2_value\": \"median_home_dwell_time\",\n",
    "             \"safegraph_full_time_work_prop_3_value\": \"full_time_work_prop\",\n",
    "             \"safegraph_part_time_work_prop_4_value\": \"part_time_work_prop\"}\n",
    ")[['geo_value','time_value','deaths','completely_home_prop','median_home_dwell_time',\n",
    "   'full_time_work_prop','part_time_work_prop']]"
   ]
  },
  {
   "cell_type": "code",
   "execution_count": 26,
   "id": "f46732d8",
   "metadata": {},
   "outputs": [],
   "source": [
    "data.to_pickle(\"covidcast_012220_080120_state.pkl\")"
   ]
  },
  {
   "cell_type": "code",
   "execution_count": 31,
   "id": "aec1536c",
   "metadata": {},
   "outputs": [
    {
     "data": {
      "text/plain": [
       "(array([ 2848,  3299,  3528,  3577,  3692,  3744,  3844,  3953,  4048,\n",
       "         4251,  4373,  4417,  4597,  4627,  4654,  4709,  4863,  5125,\n",
       "         5241,  5609,  5644,  5806,  5969,  6011,  6015,  6127,  6218,\n",
       "         6911,  7069,  7527,  8034,  8701,  8865,  8968,  8984,  9315,\n",
       "         9371,  9595,  9763, 10122, 10155, 10213, 10365, 10463, 10605]),)"
      ]
     },
     "execution_count": 31,
     "metadata": {},
     "output_type": "execute_result"
    }
   ],
   "source": [
    "np.where(data['deaths'] < 0)"
   ]
  },
  {
   "cell_type": "code",
   "execution_count": null,
   "id": "5ac13364",
   "metadata": {},
   "outputs": [],
   "source": []
  }
 ],
 "metadata": {
  "kernelspec": {
   "display_name": "Python 3 (ipykernel)",
   "language": "python",
   "name": "python3"
  },
  "language_info": {
   "codemirror_mode": {
    "name": "ipython",
    "version": 3
   },
   "file_extension": ".py",
   "mimetype": "text/x-python",
   "name": "python",
   "nbconvert_exporter": "python",
   "pygments_lexer": "ipython3",
   "version": "3.10.8"
  }
 },
 "nbformat": 4,
 "nbformat_minor": 5
}

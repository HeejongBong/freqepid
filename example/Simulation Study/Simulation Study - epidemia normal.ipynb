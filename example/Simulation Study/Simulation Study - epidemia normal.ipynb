{
 "cells": [
  {
   "cell_type": "code",
   "execution_count": 1,
   "id": "d05c7934",
   "metadata": {},
   "outputs": [],
   "source": [
    "import os, importlib, sys, time"
   ]
  },
  {
   "cell_type": "code",
   "execution_count": 2,
   "id": "bd200c96",
   "metadata": {},
   "outputs": [],
   "source": [
    "import numpy as np\n",
    "import pandas as pd\n",
    "import matplotlib.pyplot as plt"
   ]
  },
  {
   "cell_type": "code",
   "execution_count": 3,
   "id": "293102b4",
   "metadata": {},
   "outputs": [],
   "source": [
    "import scipy.linalg as la\n",
    "import scipy.stats as stats"
   ]
  },
  {
   "cell_type": "code",
   "execution_count": 4,
   "id": "7e2046ad",
   "metadata": {},
   "outputs": [],
   "source": [
    "import freqepid"
   ]
  },
  {
   "cell_type": "code",
   "execution_count": 5,
   "id": "deacea79",
   "metadata": {},
   "outputs": [],
   "source": [
    "# %load_ext jupyternotify"
   ]
  },
  {
   "cell_type": "markdown",
   "id": "ff6ae488",
   "metadata": {},
   "source": [
    "# 1. parameters"
   ]
  },
  {
   "cell_type": "code",
   "execution_count": 6,
   "id": "8407a4af",
   "metadata": {},
   "outputs": [],
   "source": [
    "T = 120\n",
    "T0 = 40"
   ]
  },
  {
   "cell_type": "code",
   "execution_count": 7,
   "id": "c520265e",
   "metadata": {},
   "outputs": [],
   "source": [
    "GPi = np.load('data/GPi.npz')"
   ]
  },
  {
   "cell_type": "markdown",
   "id": "760c7d12",
   "metadata": {},
   "source": [
    "## observation parameters"
   ]
  },
  {
   "cell_type": "code",
   "execution_count": 8,
   "id": "ae431fed",
   "metadata": {},
   "outputs": [],
   "source": [
    "alpha = 0.01\n",
    "r_Y = 10"
   ]
  },
  {
   "cell_type": "markdown",
   "id": "bce16711",
   "metadata": {},
   "source": [
    "$$Y_t = NegBinom( \\frac{EY_t}{r_Y + EY_t}, r_Y )$$\n",
    "\n",
    "$$ EY_t = \\alpha\\sum_{s=1}^{t-1} I_s \\pi_{t-s} $$"
   ]
  },
  {
   "cell_type": "markdown",
   "id": "1e23dc89",
   "metadata": {},
   "source": [
    "## latent parameters"
   ]
  },
  {
   "cell_type": "code",
   "execution_count": 9,
   "id": "9c096ba4",
   "metadata": {},
   "outputs": [],
   "source": [
    "d = 2\n",
    "beta = np.array([0, -2.2])"
   ]
  },
  {
   "cell_type": "code",
   "execution_count": 10,
   "id": "ebd4a5fb",
   "metadata": {},
   "outputs": [],
   "source": [
    "r_I = 10\n",
    "K = 6.5"
   ]
  },
  {
   "cell_type": "markdown",
   "id": "28d46910",
   "metadata": {},
   "source": [
    "$$I_t = NegBinom( \\frac{EI_t}{r_I + EI_t}, r_I )$$\n",
    "\n",
    "$$ EI_t = R(\\bar{A}_t, \\beta) \\sum_{s=1}^{t-1} I_s g_{t-s} $$\n",
    "\n",
    "$$R(\\bar{A}_t, \\beta) = \\frac{K}{1+\\exp(- \\beta^\\top A_t)}$$"
   ]
  },
  {
   "cell_type": "markdown",
   "id": "087ed62b",
   "metadata": {},
   "source": [
    "## seed values"
   ]
  },
  {
   "cell_type": "code",
   "execution_count": 11,
   "id": "3cdc8bb3",
   "metadata": {},
   "outputs": [],
   "source": [
    "mu = np.log(100)"
   ]
  },
  {
   "cell_type": "markdown",
   "id": "0451a962",
   "metadata": {},
   "source": [
    "$$I_{[-T_0,0)} = \\exp(\\mu_0)$$"
   ]
  },
  {
   "cell_type": "markdown",
   "id": "fea372a5",
   "metadata": {},
   "source": [
    "# 2. simulation"
   ]
  },
  {
   "cell_type": "markdown",
   "id": "dcc645c4",
   "metadata": {},
   "source": [
    "## load simulation"
   ]
  },
  {
   "cell_type": "code",
   "execution_count": 12,
   "id": "672018c5",
   "metadata": {},
   "outputs": [],
   "source": [
    "data = pd.read_feather('data/simulation_randinf.feather')"
   ]
  },
  {
   "cell_type": "code",
   "execution_count": 13,
   "id": "0af6303b",
   "metadata": {},
   "outputs": [],
   "source": [
    "data_i = data[data['sim']==0]\n",
    "A = np.stack([np.full(T, 1), data_i[\"intervention\"].to_numpy()], -1)\n",
    "R = data_i[\"R\"].to_numpy()\n",
    "EI = data_i[\"EI\"].to_numpy()\n",
    "I = data_i[\"infection\"].to_numpy()\n",
    "EY = data_i[\"EY\"].to_numpy()\n",
    "Y = data_i[\"death\"].to_numpy()"
   ]
  },
  {
   "cell_type": "code",
   "execution_count": 14,
   "id": "3f0c9201",
   "metadata": {},
   "outputs": [
    {
     "data": {
      "text/html": [
       "<div>\n",
       "<style scoped>\n",
       "    .dataframe tbody tr th:only-of-type {\n",
       "        vertical-align: middle;\n",
       "    }\n",
       "\n",
       "    .dataframe tbody tr th {\n",
       "        vertical-align: top;\n",
       "    }\n",
       "\n",
       "    .dataframe thead th {\n",
       "        text-align: right;\n",
       "    }\n",
       "</style>\n",
       "<table border=\"1\" class=\"dataframe\">\n",
       "  <thead>\n",
       "    <tr style=\"text-align: right;\">\n",
       "      <th></th>\n",
       "      <th>sim</th>\n",
       "      <th>date</th>\n",
       "      <th>R</th>\n",
       "      <th>EI</th>\n",
       "      <th>infection</th>\n",
       "      <th>EY</th>\n",
       "      <th>death</th>\n",
       "      <th>intervention</th>\n",
       "    </tr>\n",
       "  </thead>\n",
       "  <tbody>\n",
       "    <tr>\n",
       "      <th>0</th>\n",
       "      <td>0</td>\n",
       "      <td>0</td>\n",
       "      <td>3.250000</td>\n",
       "      <td>324.997762</td>\n",
       "      <td>356.0</td>\n",
       "      <td>0.956069</td>\n",
       "      <td>0</td>\n",
       "      <td>0</td>\n",
       "    </tr>\n",
       "    <tr>\n",
       "      <th>1</th>\n",
       "      <td>0</td>\n",
       "      <td>1</td>\n",
       "      <td>3.250000</td>\n",
       "      <td>340.245831</td>\n",
       "      <td>298.0</td>\n",
       "      <td>0.962543</td>\n",
       "      <td>2</td>\n",
       "      <td>0</td>\n",
       "    </tr>\n",
       "    <tr>\n",
       "      <th>2</th>\n",
       "      <td>0</td>\n",
       "      <td>2</td>\n",
       "      <td>3.250000</td>\n",
       "      <td>392.196621</td>\n",
       "      <td>409.0</td>\n",
       "      <td>0.968283</td>\n",
       "      <td>0</td>\n",
       "      <td>0</td>\n",
       "    </tr>\n",
       "    <tr>\n",
       "      <th>3</th>\n",
       "      <td>0</td>\n",
       "      <td>3</td>\n",
       "      <td>3.250000</td>\n",
       "      <td>471.047829</td>\n",
       "      <td>545.0</td>\n",
       "      <td>0.973654</td>\n",
       "      <td>1</td>\n",
       "      <td>0</td>\n",
       "    </tr>\n",
       "    <tr>\n",
       "      <th>4</th>\n",
       "      <td>0</td>\n",
       "      <td>4</td>\n",
       "      <td>3.250000</td>\n",
       "      <td>581.900998</td>\n",
       "      <td>584.0</td>\n",
       "      <td>0.979752</td>\n",
       "      <td>1</td>\n",
       "      <td>0</td>\n",
       "    </tr>\n",
       "    <tr>\n",
       "      <th>...</th>\n",
       "      <td>...</td>\n",
       "      <td>...</td>\n",
       "      <td>...</td>\n",
       "      <td>...</td>\n",
       "      <td>...</td>\n",
       "      <td>...</td>\n",
       "      <td>...</td>\n",
       "      <td>...</td>\n",
       "    </tr>\n",
       "    <tr>\n",
       "      <th>115</th>\n",
       "      <td>0</td>\n",
       "      <td>115</td>\n",
       "      <td>0.648378</td>\n",
       "      <td>371.111321</td>\n",
       "      <td>316.0</td>\n",
       "      <td>15.952502</td>\n",
       "      <td>18</td>\n",
       "      <td>1</td>\n",
       "    </tr>\n",
       "    <tr>\n",
       "      <th>116</th>\n",
       "      <td>0</td>\n",
       "      <td>116</td>\n",
       "      <td>0.648378</td>\n",
       "      <td>353.729962</td>\n",
       "      <td>301.0</td>\n",
       "      <td>15.065929</td>\n",
       "      <td>6</td>\n",
       "      <td>1</td>\n",
       "    </tr>\n",
       "    <tr>\n",
       "      <th>117</th>\n",
       "      <td>0</td>\n",
       "      <td>117</td>\n",
       "      <td>0.648378</td>\n",
       "      <td>334.027910</td>\n",
       "      <td>314.0</td>\n",
       "      <td>14.232065</td>\n",
       "      <td>22</td>\n",
       "      <td>1</td>\n",
       "    </tr>\n",
       "    <tr>\n",
       "      <th>118</th>\n",
       "      <td>0</td>\n",
       "      <td>118</td>\n",
       "      <td>0.648378</td>\n",
       "      <td>313.305734</td>\n",
       "      <td>285.0</td>\n",
       "      <td>13.440178</td>\n",
       "      <td>20</td>\n",
       "      <td>1</td>\n",
       "    </tr>\n",
       "    <tr>\n",
       "      <th>119</th>\n",
       "      <td>0</td>\n",
       "      <td>119</td>\n",
       "      <td>0.648378</td>\n",
       "      <td>293.160919</td>\n",
       "      <td>302.0</td>\n",
       "      <td>12.694121</td>\n",
       "      <td>17</td>\n",
       "      <td>1</td>\n",
       "    </tr>\n",
       "  </tbody>\n",
       "</table>\n",
       "<p>120 rows × 8 columns</p>\n",
       "</div>"
      ],
      "text/plain": [
       "     sim  date         R          EI  infection         EY  death  \\\n",
       "0      0     0  3.250000  324.997762      356.0   0.956069      0   \n",
       "1      0     1  3.250000  340.245831      298.0   0.962543      2   \n",
       "2      0     2  3.250000  392.196621      409.0   0.968283      0   \n",
       "3      0     3  3.250000  471.047829      545.0   0.973654      1   \n",
       "4      0     4  3.250000  581.900998      584.0   0.979752      1   \n",
       "..   ...   ...       ...         ...        ...        ...    ...   \n",
       "115    0   115  0.648378  371.111321      316.0  15.952502     18   \n",
       "116    0   116  0.648378  353.729962      301.0  15.065929      6   \n",
       "117    0   117  0.648378  334.027910      314.0  14.232065     22   \n",
       "118    0   118  0.648378  313.305734      285.0  13.440178     20   \n",
       "119    0   119  0.648378  293.160919      302.0  12.694121     17   \n",
       "\n",
       "     intervention  \n",
       "0               0  \n",
       "1               0  \n",
       "2               0  \n",
       "3               0  \n",
       "4               0  \n",
       "..            ...  \n",
       "115             1  \n",
       "116             1  \n",
       "117             1  \n",
       "118             1  \n",
       "119             1  \n",
       "\n",
       "[120 rows x 8 columns]"
      ]
     },
     "execution_count": 14,
     "metadata": {},
     "output_type": "execute_result"
    }
   ],
   "source": [
    "data_i"
   ]
  },
  {
   "cell_type": "markdown",
   "id": "1203153a",
   "metadata": {},
   "source": [
    "# 3. fit by coordinate descent method"
   ]
  },
  {
   "cell_type": "code",
   "execution_count": 15,
   "id": "bc326d12",
   "metadata": {},
   "outputs": [],
   "source": [
    "model = freqepid.Model(GPi['g'], GPi['pi'], alpha, K, T0, 'normal')"
   ]
  },
  {
   "cell_type": "code",
   "execution_count": 16,
   "id": "167be9d6",
   "metadata": {},
   "outputs": [],
   "source": [
    "result = pd.read_feather('result_epidemia_normal_randinf.feather')"
   ]
  },
  {
   "cell_type": "code",
   "execution_count": 17,
   "id": "e02ff3cf",
   "metadata": {},
   "outputs": [
    {
     "data": {
      "text/html": [
       "<div>\n",
       "<style scoped>\n",
       "    .dataframe tbody tr th:only-of-type {\n",
       "        vertical-align: middle;\n",
       "    }\n",
       "\n",
       "    .dataframe tbody tr th {\n",
       "        vertical-align: top;\n",
       "    }\n",
       "\n",
       "    .dataframe thead th {\n",
       "        text-align: right;\n",
       "    }\n",
       "</style>\n",
       "<table border=\"1\" class=\"dataframe\">\n",
       "  <thead>\n",
       "    <tr style=\"text-align: right;\">\n",
       "      <th></th>\n",
       "      <th>R|(Intercept)</th>\n",
       "      <th>R|intervention</th>\n",
       "      <th>death|(Intercept)</th>\n",
       "      <th>seeds[1]</th>\n",
       "    </tr>\n",
       "  </thead>\n",
       "  <tbody>\n",
       "    <tr>\n",
       "      <th>0</th>\n",
       "      <td>-0.246249</td>\n",
       "      <td>-1.88846</td>\n",
       "      <td>0.003521</td>\n",
       "      <td>143.0270</td>\n",
       "    </tr>\n",
       "    <tr>\n",
       "      <th>1</th>\n",
       "      <td>-0.335886</td>\n",
       "      <td>-1.83875</td>\n",
       "      <td>0.004007</td>\n",
       "      <td>218.6220</td>\n",
       "    </tr>\n",
       "    <tr>\n",
       "      <th>2</th>\n",
       "      <td>0.015900</td>\n",
       "      <td>-2.29427</td>\n",
       "      <td>0.003384</td>\n",
       "      <td>60.0293</td>\n",
       "    </tr>\n",
       "    <tr>\n",
       "      <th>3</th>\n",
       "      <td>-0.469547</td>\n",
       "      <td>-1.67336</td>\n",
       "      <td>-0.002757</td>\n",
       "      <td>351.9550</td>\n",
       "    </tr>\n",
       "    <tr>\n",
       "      <th>4</th>\n",
       "      <td>-0.098848</td>\n",
       "      <td>-2.11227</td>\n",
       "      <td>0.000028</td>\n",
       "      <td>91.2163</td>\n",
       "    </tr>\n",
       "    <tr>\n",
       "      <th>...</th>\n",
       "      <td>...</td>\n",
       "      <td>...</td>\n",
       "      <td>...</td>\n",
       "      <td>...</td>\n",
       "    </tr>\n",
       "    <tr>\n",
       "      <th>995</th>\n",
       "      <td>-0.218386</td>\n",
       "      <td>-1.94533</td>\n",
       "      <td>0.000756</td>\n",
       "      <td>138.0850</td>\n",
       "    </tr>\n",
       "    <tr>\n",
       "      <th>996</th>\n",
       "      <td>-0.044873</td>\n",
       "      <td>-2.18712</td>\n",
       "      <td>0.007965</td>\n",
       "      <td>70.4901</td>\n",
       "    </tr>\n",
       "    <tr>\n",
       "      <th>997</th>\n",
       "      <td>-0.143851</td>\n",
       "      <td>-2.02692</td>\n",
       "      <td>0.007246</td>\n",
       "      <td>98.6957</td>\n",
       "    </tr>\n",
       "    <tr>\n",
       "      <th>998</th>\n",
       "      <td>-0.170113</td>\n",
       "      <td>-2.05979</td>\n",
       "      <td>0.003207</td>\n",
       "      <td>124.6440</td>\n",
       "    </tr>\n",
       "    <tr>\n",
       "      <th>999</th>\n",
       "      <td>-0.256959</td>\n",
       "      <td>-1.88751</td>\n",
       "      <td>0.001531</td>\n",
       "      <td>151.4380</td>\n",
       "    </tr>\n",
       "  </tbody>\n",
       "</table>\n",
       "<p>1000 rows × 4 columns</p>\n",
       "</div>"
      ],
      "text/plain": [
       "     R|(Intercept)  R|intervention  death|(Intercept)  seeds[1]\n",
       "0        -0.246249        -1.88846           0.003521  143.0270\n",
       "1        -0.335886        -1.83875           0.004007  218.6220\n",
       "2         0.015900        -2.29427           0.003384   60.0293\n",
       "3        -0.469547        -1.67336          -0.002757  351.9550\n",
       "4        -0.098848        -2.11227           0.000028   91.2163\n",
       "..             ...             ...                ...       ...\n",
       "995      -0.218386        -1.94533           0.000756  138.0850\n",
       "996      -0.044873        -2.18712           0.007965   70.4901\n",
       "997      -0.143851        -2.02692           0.007246   98.6957\n",
       "998      -0.170113        -2.05979           0.003207  124.6440\n",
       "999      -0.256959        -1.88751           0.001531  151.4380\n",
       "\n",
       "[1000 rows x 4 columns]"
      ]
     },
     "execution_count": 17,
     "metadata": {},
     "output_type": "execute_result"
    }
   ],
   "source": [
    "result"
   ]
  },
  {
   "cell_type": "code",
   "execution_count": 18,
   "id": "1e8c388f",
   "metadata": {},
   "outputs": [],
   "source": [
    "bsmp = result.iloc[:,:2].to_numpy()\n",
    "msmp = np.log(result.iloc[:,3].to_numpy())"
   ]
  },
  {
   "cell_type": "code",
   "execution_count": 19,
   "id": "7ac65a7e",
   "metadata": {},
   "outputs": [],
   "source": [
    "bepi = np.mean(bsmp,0)\n",
    "mepi = np.mean(msmp)"
   ]
  },
  {
   "cell_type": "code",
   "execution_count": 20,
   "id": "d8fc4b3d",
   "metadata": {},
   "outputs": [
    {
     "data": {
      "text/plain": [
       "(4.839649012931921, array([-0.19602393, -1.99099477]))"
      ]
     },
     "execution_count": 20,
     "metadata": {},
     "output_type": "execute_result"
    }
   ],
   "source": [
    "mepi, bepi"
   ]
  },
  {
   "cell_type": "code",
   "execution_count": 21,
   "id": "f79d32a4",
   "metadata": {},
   "outputs": [],
   "source": [
    "Repi = model.predict_R(A, bepi)\n",
    "Iepi = model.predict_I(A, mepi, bepi)\n",
    "EYepi = model.predict_EY(A, mepi, bepi)"
   ]
  },
  {
   "cell_type": "markdown",
   "id": "d3e6a5d9",
   "metadata": {},
   "source": [
    "## plots"
   ]
  },
  {
   "cell_type": "code",
   "execution_count": 22,
   "id": "a5a1a227",
   "metadata": {},
   "outputs": [
    {
     "data": {
      "text/plain": [
       "[<matplotlib.lines.Line2D at 0x12fb12050>]"
      ]
     },
     "execution_count": 22,
     "metadata": {},
     "output_type": "execute_result"
    },
    {
     "data": {
      "image/png": "[encoded data removed]",
      "text/plain": [
       "<Figure size 640x480 with 1 Axes>"
      ]
     },
     "metadata": {},
     "output_type": "display_data"
    }
   ],
   "source": [
    "plt.plot(Repi)\n",
    "plt.plot(R, color='grey')"
   ]
  },
  {
   "cell_type": "code",
   "execution_count": 23,
   "id": "cbf77762",
   "metadata": {},
   "outputs": [
    {
     "data": {
      "text/plain": [
       "<BarContainer object of 120 artists>"
      ]
     },
     "execution_count": 23,
     "metadata": {},
     "output_type": "execute_result"
    },
    {
     "data": {
      "image/png": "[encoded data removed]",
      "text/plain": [
       "<Figure size 640x480 with 1 Axes>"
      ]
     },
     "metadata": {},
     "output_type": "display_data"
    }
   ],
   "source": [
    "plt.plot(Iepi)\n",
    "plt.bar(np.arange(T), I, color='grey', alpha=0.5)"
   ]
  },
  {
   "cell_type": "code",
   "execution_count": 24,
   "id": "342803f0",
   "metadata": {},
   "outputs": [
    {
     "data": {
      "text/plain": [
       "<BarContainer object of 120 artists>"
      ]
     },
     "execution_count": 24,
     "metadata": {},
     "output_type": "execute_result"
    },
    {
     "data": {
      "image/png": "[encoded data removed]",
      "text/plain": [
       "<Figure size 640x480 with 1 Axes>"
      ]
     },
     "metadata": {},
     "output_type": "display_data"
    }
   ],
   "source": [
    "plt.plot(EYepi)\n",
    "plt.bar(np.arange(T), Y, color='grey', alpha=0.5)"
   ]
  },
  {
   "cell_type": "markdown",
   "id": "6ba4e25f",
   "metadata": {},
   "source": [
    "# 4. Confidence Region"
   ]
  },
  {
   "cell_type": "code",
   "execution_count": 25,
   "id": "dd2d29cf",
   "metadata": {},
   "outputs": [],
   "source": [
    "tsmp = np.concatenate([msmp[:,None], bsmp], -1)"
   ]
  },
  {
   "cell_type": "code",
   "execution_count": 34,
   "id": "5e26af06",
   "metadata": {},
   "outputs": [],
   "source": [
    "theta = np.array([mu, *beta])\n",
    "tepi = np.mean(tsmp, 0)\n",
    "tname = [r\"$\\mu$\", r\"$\\beta_0$\", r\"$\\beta_1$\"]\n",
    "tlimit = [[3, 8], [-1, 0.5], [-3, -1]]"
   ]
  },
  {
   "cell_type": "code",
   "execution_count": 27,
   "id": "ea21a4db",
   "metadata": {},
   "outputs": [],
   "source": [
    "Vepi = np.cov(tsmp.T)"
   ]
  },
  {
   "cell_type": "code",
   "execution_count": 28,
   "id": "d3922848",
   "metadata": {},
   "outputs": [
    {
     "data": {
      "text/plain": [
       "array([[ 0.01512654, -0.01920297],\n",
       "       [-0.01920297,  0.02547176]])"
      ]
     },
     "execution_count": 28,
     "metadata": {},
     "output_type": "execute_result"
    }
   ],
   "source": [
    "Vepi[-2:,-2:]"
   ]
  },
  {
   "cell_type": "code",
   "execution_count": 29,
   "id": "f2286193",
   "metadata": {},
   "outputs": [],
   "source": [
    "chi_pa = freqepid.CV(d+1).chi_pa(0.05)"
   ]
  },
  {
   "cell_type": "code",
   "execution_count": 30,
   "id": "e5e03128",
   "metadata": {},
   "outputs": [
    {
     "data": {
      "text/plain": [
       "(-3.0, -1.0)"
      ]
     },
     "execution_count": 30,
     "metadata": {},
     "output_type": "execute_result"
    },
    {
     "data": {
      "image/png": "[encoded data removed]",
      "text/plain": [
       "<Figure size 500x500 with 1 Axes>"
      ]
     },
     "metadata": {},
     "output_type": "display_data"
    }
   ],
   "source": [
    "plt.figure(figsize=(5,5))\n",
    "p = plt.scatter(*tepi[-2:])\n",
    "plt.scatter(*beta)\n",
    "freqepid.confidence_ellipse(\n",
    "    tepi[-2:], Vepi[-2:,-2:], \n",
    "    n_std=chi_pa, facecolor=p.get_facecolor(), alpha=0.3)\n",
    "plt.xlim(-1, 1); plt.ylim(-3,-1)"
   ]
  },
  {
   "cell_type": "code",
   "execution_count": 36,
   "id": "ba9a1b98",
   "metadata": {},
   "outputs": [
    {
     "data": {
      "image/png": "[encoded data removed]",
      "text/plain": [
       "<Figure size 900x300 with 3 Axes>"
      ]
     },
     "metadata": {},
     "output_type": "display_data"
    }
   ],
   "source": [
    "plt.figure(figsize=(9,3))\n",
    "for i in np.arange(d+1):\n",
    "    for j in np.arange(i+1,d+1):\n",
    "        plt.subplot(1,3,i+j)\n",
    "        p = plt.scatter(tepi[j], tepi[i])\n",
    "        plt.scatter(theta[j], theta[i], color='grey')\n",
    "        freqepid.confidence_ellipse(\n",
    "            [tepi[j],tepi[i]], Vepi[np.ix_([j,i],[j,i])], \n",
    "            n_std=chi_pa, facecolor=p.get_facecolor(), alpha=0.3)\n",
    "        plt.xlabel(tname[j]); plt.ylabel(tname[i])\n",
    "        plt.xlim(tlimit[j]); plt.ylim(tlimit[i])\n",
    "plt.tight_layout()"
   ]
  },
  {
   "cell_type": "markdown",
   "id": "baf10883",
   "metadata": {},
   "source": [
    "# 5. Confidence Band"
   ]
  },
  {
   "cell_type": "code",
   "execution_count": 37,
   "id": "267d4f63",
   "metadata": {
    "scrolled": true
   },
   "outputs": [
    {
     "name": "stdout",
     "output_type": "stream",
     "text": [
      "optimization at t = 1 finished, lapse: 0.117sec.\n",
      "optimization at t = 2 finished, lapse: 0.062sec.\n",
      "optimization at t = 3 finished, lapse: 0.061sec.\n",
      "optimization at t = 4 finished, lapse: 0.060sec.\n",
      "optimization at t = 5 finished, lapse: 0.066sec.\n",
      "optimization at t = 6 finished, lapse: 0.063sec.\n",
      "optimization at t = 7 finished, lapse: 0.063sec.\n",
      "optimization at t = 8 finished, lapse: 0.061sec.\n",
      "optimization at t = 9 finished, lapse: 0.064sec.\n",
      "optimization at t = 10 finished, lapse: 0.064sec.\n",
      "optimization at t = 11 finished, lapse: 0.063sec.\n",
      "optimization at t = 12 finished, lapse: 0.061sec.\n",
      "optimization at t = 13 finished, lapse: 0.064sec.\n",
      "optimization at t = 14 finished, lapse: 0.063sec.\n",
      "optimization at t = 15 finished, lapse: 0.063sec.\n",
      "optimization at t = 16 finished, lapse: 0.061sec.\n",
      "optimization at t = 17 finished, lapse: 0.064sec.\n",
      "optimization at t = 18 finished, lapse: 0.062sec.\n",
      "optimization at t = 19 finished, lapse: 0.063sec.\n",
      "optimization at t = 20 finished, lapse: 0.063sec.\n",
      "optimization at t = 21 finished, lapse: 0.063sec.\n",
      "optimization at t = 22 finished, lapse: 0.062sec.\n",
      "optimization at t = 23 finished, lapse: 0.063sec.\n",
      "optimization at t = 24 finished, lapse: 0.063sec.\n",
      "optimization at t = 25 finished, lapse: 0.063sec.\n",
      "optimization at t = 26 finished, lapse: 0.061sec.\n",
      "optimization at t = 27 finished, lapse: 0.062sec.\n",
      "optimization at t = 28 finished, lapse: 0.062sec.\n",
      "optimization at t = 29 finished, lapse: 0.063sec.\n",
      "optimization at t = 30 finished, lapse: 0.063sec.\n",
      "optimization at t = 31 finished, lapse: 0.063sec.\n",
      "optimization at t = 32 finished, lapse: 0.088sec.\n",
      "optimization at t = 33 finished, lapse: 0.086sec.\n",
      "optimization at t = 34 finished, lapse: 0.076sec.\n",
      "optimization at t = 35 finished, lapse: 0.078sec.\n",
      "optimization at t = 36 finished, lapse: 0.077sec.\n",
      "optimization at t = 37 finished, lapse: 0.079sec.\n",
      "optimization at t = 38 finished, lapse: 0.078sec.\n",
      "optimization at t = 39 finished, lapse: 0.077sec.\n",
      "optimization at t = 40 finished, lapse: 0.078sec.\n",
      "optimization at t = 41 finished, lapse: 0.077sec.\n",
      "optimization at t = 42 finished, lapse: 0.077sec.\n",
      "optimization at t = 43 finished, lapse: 0.078sec.\n",
      "optimization at t = 44 finished, lapse: 0.078sec.\n",
      "optimization at t = 45 finished, lapse: 0.078sec.\n",
      "optimization at t = 46 finished, lapse: 0.078sec.\n",
      "optimization at t = 47 finished, lapse: 0.079sec.\n",
      "optimization at t = 48 finished, lapse: 0.077sec.\n",
      "optimization at t = 49 finished, lapse: 0.076sec.\n",
      "optimization at t = 50 finished, lapse: 0.079sec.\n",
      "optimization at t = 51 finished, lapse: 0.076sec.\n",
      "optimization at t = 52 finished, lapse: 0.076sec.\n",
      "optimization at t = 53 finished, lapse: 0.078sec.\n",
      "optimization at t = 54 finished, lapse: 0.077sec.\n",
      "optimization at t = 55 finished, lapse: 0.078sec.\n",
      "optimization at t = 56 finished, lapse: 0.080sec.\n",
      "optimization at t = 57 finished, lapse: 0.078sec.\n",
      "optimization at t = 58 finished, lapse: 0.076sec.\n",
      "optimization at t = 59 finished, lapse: 0.077sec.\n",
      "optimization at t = 60 finished, lapse: 0.077sec.\n",
      "optimization at t = 61 finished, lapse: 0.076sec.\n",
      "optimization at t = 62 finished, lapse: 0.078sec.\n",
      "optimization at t = 63 finished, lapse: 0.079sec.\n",
      "optimization at t = 64 finished, lapse: 0.078sec.\n",
      "optimization at t = 65 finished, lapse: 0.076sec.\n",
      "optimization at t = 66 finished, lapse: 0.076sec.\n",
      "optimization at t = 67 finished, lapse: 0.077sec.\n",
      "optimization at t = 68 finished, lapse: 0.078sec.\n",
      "optimization at t = 69 finished, lapse: 0.076sec.\n",
      "optimization at t = 70 finished, lapse: 0.077sec.\n",
      "optimization at t = 71 finished, lapse: 0.079sec.\n",
      "optimization at t = 72 finished, lapse: 0.079sec.\n",
      "optimization at t = 73 finished, lapse: 0.076sec.\n",
      "optimization at t = 74 finished, lapse: 0.076sec.\n",
      "optimization at t = 75 finished, lapse: 0.076sec.\n",
      "optimization at t = 76 finished, lapse: 0.079sec.\n",
      "optimization at t = 77 finished, lapse: 0.077sec.\n",
      "optimization at t = 78 finished, lapse: 0.077sec.\n",
      "optimization at t = 79 finished, lapse: 0.078sec.\n",
      "optimization at t = 80 finished, lapse: 0.078sec.\n",
      "optimization at t = 81 finished, lapse: 0.079sec.\n",
      "optimization at t = 82 finished, lapse: 0.076sec.\n",
      "optimization at t = 83 finished, lapse: 0.076sec.\n",
      "optimization at t = 84 finished, lapse: 0.080sec.\n",
      "optimization at t = 85 finished, lapse: 0.079sec.\n",
      "optimization at t = 86 finished, lapse: 0.077sec.\n",
      "optimization at t = 87 finished, lapse: 0.081sec.\n",
      "optimization at t = 88 finished, lapse: 0.077sec.\n",
      "optimization at t = 89 finished, lapse: 0.078sec.\n",
      "optimization at t = 90 finished, lapse: 0.079sec.\n",
      "optimization at t = 91 finished, lapse: 0.078sec.\n",
      "optimization at t = 92 finished, lapse: 0.079sec.\n",
      "optimization at t = 93 finished, lapse: 0.079sec.\n",
      "optimization at t = 94 finished, lapse: 0.081sec.\n",
      "optimization at t = 95 finished, lapse: 0.079sec.\n",
      "optimization at t = 96 finished, lapse: 0.079sec.\n",
      "optimization at t = 97 finished, lapse: 0.080sec.\n",
      "optimization at t = 98 finished, lapse: 0.081sec.\n",
      "optimization at t = 99 finished, lapse: 0.081sec.\n",
      "optimization at t = 100 finished, lapse: 0.077sec.\n",
      "optimization at t = 101 finished, lapse: 0.078sec.\n",
      "optimization at t = 102 finished, lapse: 0.078sec.\n",
      "optimization at t = 103 finished, lapse: 0.079sec.\n",
      "optimization at t = 104 finished, lapse: 0.077sec.\n",
      "optimization at t = 105 finished, lapse: 0.078sec.\n",
      "optimization at t = 106 finished, lapse: 0.079sec.\n",
      "optimization at t = 107 finished, lapse: 0.078sec.\n",
      "optimization at t = 108 finished, lapse: 0.079sec.\n",
      "optimization at t = 109 finished, lapse: 0.078sec.\n",
      "optimization at t = 110 finished, lapse: 0.080sec.\n",
      "optimization at t = 111 finished, lapse: 0.079sec.\n",
      "optimization at t = 112 finished, lapse: 0.079sec.\n",
      "optimization at t = 113 finished, lapse: 0.081sec.\n",
      "optimization at t = 114 finished, lapse: 0.078sec.\n",
      "optimization at t = 115 finished, lapse: 0.080sec.\n",
      "optimization at t = 116 finished, lapse: 0.079sec.\n",
      "optimization at t = 117 finished, lapse: 0.079sec.\n",
      "optimization at t = 118 finished, lapse: 0.080sec.\n",
      "optimization at t = 119 finished, lapse: 0.078sec.\n",
      "optimization at t = 120 finished, lapse: 0.079sec.\n"
     ]
    }
   ],
   "source": [
    "conf_R, beta_min, beta_max = \\\n",
    "model.confidence_R(A, bepi, Vepi[-2:,-2:], chi_pa,\n",
    "                   verbose=True)"
   ]
  },
  {
   "cell_type": "code",
   "execution_count": 38,
   "id": "e732a510",
   "metadata": {
    "scrolled": false
   },
   "outputs": [
    {
     "data": {
      "text/plain": [
       "<matplotlib.collections.PolyCollection at 0x1387f1f90>"
      ]
     },
     "execution_count": 38,
     "metadata": {},
     "output_type": "execute_result"
    },
    {
     "data": {
      "image/png": "[encoded data removed]",
      "text/plain": [
       "<Figure size 640x480 with 1 Axes>"
      ]
     },
     "metadata": {},
     "output_type": "display_data"
    }
   ],
   "source": [
    "plt.plot(R, color='grey')\n",
    "plt.plot(Repi)\n",
    "plt.fill_between(np.arange(T), conf_R[:,0], conf_R[:,1], alpha=0.3)"
   ]
  },
  {
   "cell_type": "code",
   "execution_count": 39,
   "id": "148d7f49",
   "metadata": {
    "scrolled": true
   },
   "outputs": [
    {
     "name": "stdout",
     "output_type": "stream",
     "text": [
      "optimization at t = 1 finished, lapse: 0.114sec.\n",
      "optimization at t = 2 finished, lapse: 0.116sec.\n",
      "optimization at t = 3 finished, lapse: 0.107sec.\n",
      "optimization at t = 4 finished, lapse: 0.177sec.\n",
      "optimization at t = 5 finished, lapse: 0.109sec.\n",
      "optimization at t = 6 finished, lapse: 0.112sec.\n",
      "optimization at t = 7 finished, lapse: 0.109sec.\n",
      "optimization at t = 8 finished, lapse: 0.103sec.\n",
      "optimization at t = 9 finished, lapse: 0.109sec.\n"
     ]
    },
    {
     "name": "stderr",
     "output_type": "stream",
     "text": [
      "/Users/blueconet/mambaforge/envs/freqepid/lib/python3.10/site-packages/scipy/optimize/_hessian_update_strategy.py:182: UserWarning: delta_grad == 0.0. Check if the approximated function is linear. If the function is linear better results can be obtained by defining the Hessian as zero instead of using quasi-Newton approximations.\n",
      "  warn('delta_grad == 0.0. Check if the approximated '\n"
     ]
    },
    {
     "name": "stdout",
     "output_type": "stream",
     "text": [
      "optimization at t = 10 finished, lapse: 0.211sec.\n",
      "optimization at t = 11 finished, lapse: 0.113sec.\n",
      "optimization at t = 12 finished, lapse: 0.106sec.\n",
      "optimization at t = 13 finished, lapse: 0.114sec.\n",
      "optimization at t = 14 finished, lapse: 0.143sec.\n",
      "optimization at t = 15 finished, lapse: 0.218sec.\n",
      "optimization at t = 16 finished, lapse: 0.213sec.\n",
      "optimization at t = 17 finished, lapse: 0.299sec.\n",
      "optimization at t = 18 finished, lapse: 0.205sec.\n",
      "optimization at t = 19 finished, lapse: 0.246sec.\n",
      "optimization at t = 20 finished, lapse: 0.211sec.\n",
      "optimization at t = 21 finished, lapse: 0.231sec.\n",
      "optimization at t = 22 finished, lapse: 0.346sec.\n",
      "optimization at t = 23 finished, lapse: 0.369sec.\n",
      "optimization at t = 24 finished, lapse: 0.317sec.\n",
      "optimization at t = 25 finished, lapse: 0.336sec.\n",
      "optimization at t = 26 finished, lapse: 0.558sec.\n",
      "optimization at t = 27 finished, lapse: 0.366sec.\n",
      "optimization at t = 28 finished, lapse: 0.518sec.\n",
      "optimization at t = 29 finished, lapse: 0.384sec.\n",
      "optimization at t = 30 finished, lapse: 0.449sec.\n",
      "optimization at t = 31 finished, lapse: 0.514sec.\n",
      "optimization at t = 32 finished, lapse: 0.451sec.\n",
      "optimization at t = 33 finished, lapse: 0.257sec.\n",
      "optimization at t = 34 finished, lapse: 0.545sec.\n",
      "optimization at t = 35 finished, lapse: 0.469sec.\n",
      "optimization at t = 36 finished, lapse: 0.570sec.\n",
      "optimization at t = 37 finished, lapse: 0.435sec.\n",
      "optimization at t = 38 finished, lapse: 0.568sec.\n",
      "optimization at t = 39 finished, lapse: 0.470sec.\n",
      "optimization at t = 40 finished, lapse: 0.459sec.\n",
      "optimization at t = 41 finished, lapse: 0.434sec.\n",
      "optimization at t = 42 finished, lapse: 0.434sec.\n",
      "optimization at t = 43 finished, lapse: 0.390sec.\n",
      "optimization at t = 44 finished, lapse: 0.324sec.\n",
      "optimization at t = 45 finished, lapse: 0.537sec.\n",
      "optimization at t = 46 finished, lapse: 0.408sec.\n",
      "optimization at t = 47 finished, lapse: 0.513sec.\n",
      "optimization at t = 48 finished, lapse: 0.494sec.\n",
      "optimization at t = 49 finished, lapse: 0.432sec.\n",
      "optimization at t = 50 finished, lapse: 0.507sec.\n",
      "optimization at t = 51 finished, lapse: 0.586sec.\n",
      "optimization at t = 52 finished, lapse: 0.330sec.\n",
      "optimization at t = 53 finished, lapse: 0.444sec.\n",
      "optimization at t = 54 finished, lapse: 0.537sec.\n",
      "optimization at t = 55 finished, lapse: 0.462sec.\n",
      "optimization at t = 56 finished, lapse: 0.405sec.\n",
      "optimization at t = 57 finished, lapse: 0.528sec.\n",
      "optimization at t = 58 finished, lapse: 0.397sec.\n",
      "optimization at t = 59 finished, lapse: 0.542sec.\n",
      "optimization at t = 60 finished, lapse: 0.523sec.\n",
      "optimization at t = 61 finished, lapse: 0.447sec.\n",
      "optimization at t = 62 finished, lapse: 0.458sec.\n",
      "optimization at t = 63 finished, lapse: 0.415sec.\n",
      "optimization at t = 64 finished, lapse: 0.584sec.\n",
      "optimization at t = 65 finished, lapse: 1.203sec.\n",
      "optimization at t = 66 finished, lapse: 1.046sec.\n",
      "optimization at t = 67 finished, lapse: 1.102sec.\n",
      "optimization at t = 68 finished, lapse: 0.938sec.\n",
      "optimization at t = 69 finished, lapse: 1.061sec.\n",
      "optimization at t = 70 finished, lapse: 0.661sec.\n",
      "optimization at t = 71 finished, lapse: 1.153sec.\n",
      "optimization at t = 72 finished, lapse: 1.015sec.\n",
      "optimization at t = 73 finished, lapse: 0.755sec.\n",
      "optimization at t = 74 finished, lapse: 1.000sec.\n",
      "optimization at t = 75 finished, lapse: 1.147sec.\n",
      "optimization at t = 76 finished, lapse: 1.288sec.\n",
      "optimization at t = 77 finished, lapse: 1.059sec.\n",
      "optimization at t = 78 finished, lapse: 1.698sec.\n",
      "optimization at t = 79 finished, lapse: 3.063sec.\n",
      "optimization at t = 80 finished, lapse: 2.506sec.\n",
      "optimization at t = 81 finished, lapse: 1.298sec.\n",
      "optimization at t = 82 finished, lapse: 0.919sec.\n",
      "optimization at t = 83 finished, lapse: 1.248sec.\n",
      "optimization at t = 84 finished, lapse: 0.943sec.\n",
      "optimization at t = 85 finished, lapse: 1.080sec.\n",
      "optimization at t = 86 finished, lapse: 1.273sec.\n",
      "optimization at t = 87 finished, lapse: 1.522sec.\n",
      "optimization at t = 88 finished, lapse: 1.106sec.\n",
      "optimization at t = 89 finished, lapse: 1.136sec.\n",
      "optimization at t = 90 finished, lapse: 1.259sec.\n",
      "optimization at t = 91 finished, lapse: 1.420sec.\n",
      "optimization at t = 92 finished, lapse: 1.387sec.\n",
      "optimization at t = 93 finished, lapse: 0.821sec.\n",
      "optimization at t = 94 finished, lapse: 1.031sec.\n",
      "optimization at t = 95 finished, lapse: 2.209sec.\n",
      "optimization at t = 96 finished, lapse: 2.034sec.\n",
      "optimization at t = 97 finished, lapse: 1.057sec.\n",
      "optimization at t = 98 finished, lapse: 0.761sec.\n",
      "optimization at t = 99 finished, lapse: 1.380sec.\n",
      "optimization at t = 100 finished, lapse: 0.895sec.\n",
      "optimization at t = 101 finished, lapse: 1.189sec.\n",
      "optimization at t = 102 finished, lapse: 0.974sec.\n",
      "optimization at t = 103 finished, lapse: 1.169sec.\n",
      "optimization at t = 104 finished, lapse: 2.980sec.\n",
      "optimization at t = 105 finished, lapse: 6.558sec.\n",
      "optimization at t = 106 finished, lapse: 8.895sec.\n",
      "optimization at t = 107 finished, lapse: 1.824sec.\n",
      "optimization at t = 108 finished, lapse: 0.734sec.\n",
      "optimization at t = 109 finished, lapse: 2.138sec.\n",
      "optimization at t = 110 finished, lapse: 2.321sec.\n",
      "optimization at t = 111 finished, lapse: 2.962sec.\n",
      "optimization at t = 112 finished, lapse: 3.396sec.\n",
      "optimization at t = 113 finished, lapse: 1.597sec.\n",
      "optimization at t = 114 finished, lapse: 3.381sec.\n",
      "optimization at t = 115 finished, lapse: 2.183sec.\n",
      "optimization at t = 116 finished, lapse: 1.571sec.\n",
      "optimization at t = 117 finished, lapse: 2.462sec.\n",
      "optimization at t = 118 finished, lapse: 1.548sec.\n",
      "optimization at t = 119 finished, lapse: 20.436sec.\n",
      "optimization at t = 120 finished, lapse: 4.420sec.\n"
     ]
    }
   ],
   "source": [
    "conf_I, _, _ = \\\n",
    "model.confidence_I(A, mepi, bepi, Vepi[-3:,-3:], chi_pa,\n",
    "                    verbose=True)"
   ]
  },
  {
   "cell_type": "code",
   "execution_count": 45,
   "id": "42abd5de",
   "metadata": {},
   "outputs": [
    {
     "data": {
      "text/plain": [
       "<matplotlib.collections.PolyCollection at 0x1392cfac0>"
      ]
     },
     "execution_count": 45,
     "metadata": {},
     "output_type": "execute_result"
    },
    {
     "data": {
      "image/png": "[encoded data removed]",
      "text/plain": [
       "<Figure size 400x300 with 1 Axes>"
      ]
     },
     "metadata": {},
     "output_type": "display_data"
    }
   ],
   "source": [
    "plt.figure(figsize = (4,3))\n",
    "plt.xlabel(\"time $t$\"); plt.ylabel(\"infection\")\n",
    "plt.bar(np.arange(T), I, color='C1')\n",
    "plt.plot(Iepi)\n",
    "plt.fill_between(np.arange(T), conf_I[:,0], conf_I[:,1], alpha=0.3)"
   ]
  },
  {
   "cell_type": "code",
   "execution_count": 41,
   "id": "763f663e",
   "metadata": {
    "scrolled": true
   },
   "outputs": [
    {
     "name": "stdout",
     "output_type": "stream",
     "text": [
      "optimization at t = 1 finished, lapse: 1.291sec.\n",
      "optimization at t = 2 finished, lapse: 0.394sec.\n",
      "optimization at t = 3 finished, lapse: 0.345sec.\n",
      "optimization at t = 4 finished, lapse: 0.678sec.\n",
      "optimization at t = 5 finished, lapse: 1.414sec.\n",
      "optimization at t = 6 finished, lapse: 0.442sec.\n",
      "optimization at t = 7 finished, lapse: 0.739sec.\n",
      "optimization at t = 8 finished, lapse: 0.569sec.\n",
      "optimization at t = 9 finished, lapse: 0.360sec.\n",
      "optimization at t = 10 finished, lapse: 0.350sec.\n",
      "optimization at t = 11 finished, lapse: 0.190sec.\n",
      "optimization at t = 12 finished, lapse: 0.261sec.\n",
      "optimization at t = 13 finished, lapse: 0.114sec.\n",
      "optimization at t = 14 finished, lapse: 0.298sec.\n",
      "optimization at t = 15 finished, lapse: 0.124sec.\n",
      "optimization at t = 16 finished, lapse: 0.182sec.\n",
      "optimization at t = 17 finished, lapse: 0.272sec.\n",
      "optimization at t = 18 finished, lapse: 0.218sec.\n",
      "optimization at t = 19 finished, lapse: 0.130sec.\n",
      "optimization at t = 20 finished, lapse: 0.095sec.\n",
      "optimization at t = 21 finished, lapse: 0.177sec.\n",
      "optimization at t = 22 finished, lapse: 0.102sec.\n",
      "optimization at t = 23 finished, lapse: 0.183sec.\n",
      "optimization at t = 24 finished, lapse: 0.211sec.\n",
      "optimization at t = 25 finished, lapse: 0.192sec.\n",
      "optimization at t = 26 finished, lapse: 0.174sec.\n",
      "optimization at t = 27 finished, lapse: 0.141sec.\n",
      "optimization at t = 28 finished, lapse: 0.078sec.\n",
      "optimization at t = 29 finished, lapse: 0.079sec.\n",
      "optimization at t = 30 finished, lapse: 0.305sec.\n",
      "optimization at t = 31 finished, lapse: 0.092sec.\n",
      "optimization at t = 32 finished, lapse: 0.073sec.\n",
      "optimization at t = 33 finished, lapse: 0.064sec.\n",
      "optimization at t = 34 finished, lapse: 0.060sec.\n",
      "optimization at t = 35 finished, lapse: 0.117sec.\n",
      "optimization at t = 36 finished, lapse: 0.066sec.\n",
      "optimization at t = 37 finished, lapse: 0.100sec.\n",
      "optimization at t = 38 finished, lapse: 0.077sec.\n",
      "optimization at t = 39 finished, lapse: 0.198sec.\n",
      "optimization at t = 40 finished, lapse: 0.196sec.\n",
      "optimization at t = 41 finished, lapse: 0.240sec.\n",
      "optimization at t = 42 finished, lapse: 0.206sec.\n",
      "optimization at t = 43 finished, lapse: 0.294sec.\n",
      "optimization at t = 44 finished, lapse: 0.192sec.\n",
      "optimization at t = 45 finished, lapse: 0.240sec.\n",
      "optimization at t = 46 finished, lapse: 0.169sec.\n",
      "optimization at t = 47 finished, lapse: 0.282sec.\n",
      "optimization at t = 48 finished, lapse: 0.318sec.\n",
      "optimization at t = 49 finished, lapse: 0.346sec.\n",
      "optimization at t = 50 finished, lapse: 0.285sec.\n",
      "optimization at t = 51 finished, lapse: 0.221sec.\n",
      "optimization at t = 52 finished, lapse: 0.251sec.\n",
      "optimization at t = 53 finished, lapse: 0.180sec.\n",
      "optimization at t = 54 finished, lapse: 0.204sec.\n",
      "optimization at t = 55 finished, lapse: 0.199sec.\n",
      "optimization at t = 56 finished, lapse: 0.237sec.\n",
      "optimization at t = 57 finished, lapse: 0.181sec.\n",
      "optimization at t = 58 finished, lapse: 0.267sec.\n",
      "optimization at t = 59 finished, lapse: 0.241sec.\n",
      "optimization at t = 60 finished, lapse: 0.164sec.\n",
      "optimization at t = 61 finished, lapse: 0.237sec.\n",
      "optimization at t = 62 finished, lapse: 0.170sec.\n",
      "optimization at t = 63 finished, lapse: 0.177sec.\n",
      "optimization at t = 64 finished, lapse: 0.303sec.\n",
      "optimization at t = 65 finished, lapse: 0.325sec.\n",
      "optimization at t = 66 finished, lapse: 0.335sec.\n",
      "optimization at t = 67 finished, lapse: 0.312sec.\n",
      "optimization at t = 68 finished, lapse: 0.271sec.\n",
      "optimization at t = 69 finished, lapse: 0.225sec.\n",
      "optimization at t = 70 finished, lapse: 0.388sec.\n",
      "optimization at t = 71 finished, lapse: 0.359sec.\n",
      "optimization at t = 72 finished, lapse: 0.344sec.\n",
      "optimization at t = 73 finished, lapse: 0.326sec.\n",
      "optimization at t = 74 finished, lapse: 0.274sec.\n",
      "optimization at t = 75 finished, lapse: 0.366sec.\n",
      "optimization at t = 76 finished, lapse: 0.473sec.\n",
      "optimization at t = 77 finished, lapse: 0.493sec.\n",
      "optimization at t = 78 finished, lapse: 0.343sec.\n",
      "optimization at t = 79 finished, lapse: 0.402sec.\n",
      "optimization at t = 80 finished, lapse: 0.460sec.\n",
      "optimization at t = 81 finished, lapse: 0.395sec.\n",
      "optimization at t = 82 finished, lapse: 0.398sec.\n",
      "optimization at t = 83 finished, lapse: 0.292sec.\n",
      "optimization at t = 84 finished, lapse: 0.356sec.\n",
      "optimization at t = 85 finished, lapse: 0.341sec.\n",
      "optimization at t = 86 finished, lapse: 0.308sec.\n",
      "optimization at t = 87 finished, lapse: 0.291sec.\n",
      "optimization at t = 88 finished, lapse: 0.422sec.\n",
      "optimization at t = 89 finished, lapse: 0.258sec.\n",
      "optimization at t = 90 finished, lapse: 0.463sec.\n",
      "optimization at t = 91 finished, lapse: 0.470sec.\n",
      "optimization at t = 92 finished, lapse: 0.436sec.\n",
      "optimization at t = 93 finished, lapse: 0.472sec.\n",
      "optimization at t = 94 finished, lapse: 0.437sec.\n",
      "optimization at t = 95 finished, lapse: 0.230sec.\n",
      "optimization at t = 96 finished, lapse: 0.452sec.\n",
      "optimization at t = 97 finished, lapse: 0.382sec.\n",
      "optimization at t = 98 finished, lapse: 0.278sec.\n",
      "optimization at t = 99 finished, lapse: 0.409sec.\n",
      "optimization at t = 100 finished, lapse: 0.452sec.\n",
      "optimization at t = 101 finished, lapse: 0.502sec.\n",
      "optimization at t = 102 finished, lapse: 0.531sec.\n",
      "optimization at t = 103 finished, lapse: 0.671sec.\n",
      "optimization at t = 104 finished, lapse: 0.825sec.\n",
      "optimization at t = 105 finished, lapse: 0.730sec.\n",
      "optimization at t = 106 finished, lapse: 0.842sec.\n",
      "optimization at t = 107 finished, lapse: 1.039sec.\n",
      "optimization at t = 108 finished, lapse: 0.678sec.\n",
      "optimization at t = 109 finished, lapse: 0.780sec.\n",
      "optimization at t = 110 finished, lapse: 0.516sec.\n",
      "optimization at t = 111 finished, lapse: 0.815sec.\n",
      "optimization at t = 112 finished, lapse: 0.282sec.\n",
      "optimization at t = 113 finished, lapse: 0.577sec.\n",
      "optimization at t = 114 finished, lapse: 0.761sec.\n",
      "optimization at t = 115 finished, lapse: 0.913sec.\n",
      "optimization at t = 116 finished, lapse: 0.772sec.\n",
      "optimization at t = 117 finished, lapse: 0.312sec.\n",
      "optimization at t = 118 finished, lapse: 1.196sec.\n",
      "optimization at t = 119 finished, lapse: 0.746sec.\n",
      "optimization at t = 120 finished, lapse: 0.724sec.\n"
     ]
    }
   ],
   "source": [
    "conf_EY, theta_min, theta_max = \\\n",
    "model.confidence_EY(A, mepi, bepi, Vepi[-3:,-3:], chi_pa,\n",
    "                    verbose=True)"
   ]
  },
  {
   "cell_type": "code",
   "execution_count": 44,
   "id": "c6e09b19",
   "metadata": {
    "scrolled": false
   },
   "outputs": [
    {
     "data": {
      "text/plain": [
       "<matplotlib.collections.PolyCollection at 0x138221cc0>"
      ]
     },
     "execution_count": 44,
     "metadata": {},
     "output_type": "execute_result"
    },
    {
     "data": {
      "image/png": "[encoded data removed]",
      "text/plain": [
       "<Figure size 400x300 with 1 Axes>"
      ]
     },
     "metadata": {},
     "output_type": "display_data"
    }
   ],
   "source": [
    "plt.figure(figsize = (4,3))\n",
    "plt.xlabel(\"time $t$\"); plt.ylabel(\"deaths\")\n",
    "plt.bar(np.arange(T), Y, color='C1')\n",
    "plt.plot(EYepi)\n",
    "plt.fill_between(np.arange(T), conf_EY[:,0], conf_EY[:,1], alpha=0.3)"
   ]
  },
  {
   "cell_type": "markdown",
   "id": "f0a4bd4e",
   "metadata": {},
   "source": [
    "# 6. Confidence Interval"
   ]
  },
  {
   "cell_type": "markdown",
   "id": "6d7a0e5e",
   "metadata": {},
   "source": [
    "## A = 1"
   ]
  },
  {
   "cell_type": "code",
   "execution_count": 45,
   "id": "fbc867e5",
   "metadata": {},
   "outputs": [],
   "source": [
    "Tf = 60\n",
    "Af = np.zeros([Tf, d])"
   ]
  },
  {
   "cell_type": "code",
   "execution_count": 46,
   "id": "6e143525",
   "metadata": {},
   "outputs": [],
   "source": [
    "Af[:,0] = np.full(Tf, 1)\n",
    "Af[:,1] = np.full(Tf, 1)"
   ]
  },
  {
   "cell_type": "code",
   "execution_count": 47,
   "id": "52109299",
   "metadata": {},
   "outputs": [],
   "source": [
    "Ae = np.concatenate([A, Af], 0)"
   ]
  },
  {
   "cell_type": "code",
   "execution_count": 48,
   "id": "9481a719",
   "metadata": {
    "scrolled": true
   },
   "outputs": [
    {
     "name": "stdout",
     "output_type": "stream",
     "text": [
      "optimization at t = 1 finished, lapse: 0.228sec.\n",
      "optimization at t = 2 finished, lapse: 0.146sec.\n",
      "optimization at t = 3 finished, lapse: 0.150sec.\n",
      "optimization at t = 4 finished, lapse: 0.181sec.\n",
      "optimization at t = 5 finished, lapse: 0.180sec.\n",
      "optimization at t = 6 finished, lapse: 0.139sec.\n",
      "optimization at t = 7 finished, lapse: 0.168sec.\n",
      "optimization at t = 8 finished, lapse: 0.208sec.\n",
      "optimization at t = 9 finished, lapse: 0.280sec.\n",
      "optimization at t = 10 finished, lapse: 0.192sec.\n",
      "optimization at t = 11 finished, lapse: 0.242sec.\n",
      "optimization at t = 12 finished, lapse: 0.230sec.\n",
      "optimization at t = 13 finished, lapse: 0.115sec.\n",
      "optimization at t = 14 finished, lapse: 0.237sec.\n",
      "optimization at t = 15 finished, lapse: 0.103sec.\n",
      "optimization at t = 16 finished, lapse: 0.110sec.\n",
      "optimization at t = 17 finished, lapse: 0.126sec.\n",
      "optimization at t = 18 finished, lapse: 0.163sec.\n",
      "optimization at t = 19 finished, lapse: 0.142sec.\n",
      "optimization at t = 20 finished, lapse: 0.150sec.\n",
      "optimization at t = 21 finished, lapse: 0.148sec.\n",
      "optimization at t = 22 finished, lapse: 0.125sec.\n",
      "optimization at t = 23 finished, lapse: 0.141sec.\n",
      "optimization at t = 24 finished, lapse: 0.111sec.\n",
      "optimization at t = 25 finished, lapse: 0.115sec.\n",
      "optimization at t = 26 finished, lapse: 0.122sec.\n",
      "optimization at t = 27 finished, lapse: 0.104sec.\n",
      "optimization at t = 28 finished, lapse: 0.066sec.\n",
      "optimization at t = 29 finished, lapse: 0.136sec.\n",
      "optimization at t = 30 finished, lapse: 0.163sec.\n",
      "optimization at t = 31 finished, lapse: 0.130sec.\n",
      "optimization at t = 32 finished, lapse: 0.178sec.\n",
      "optimization at t = 33 finished, lapse: 0.250sec.\n",
      "optimization at t = 34 finished, lapse: 0.170sec.\n",
      "optimization at t = 35 finished, lapse: 0.184sec.\n",
      "optimization at t = 36 finished, lapse: 0.266sec.\n",
      "optimization at t = 37 finished, lapse: 0.202sec.\n",
      "optimization at t = 38 finished, lapse: 0.193sec.\n",
      "optimization at t = 39 finished, lapse: 0.236sec.\n",
      "optimization at t = 40 finished, lapse: 0.178sec.\n",
      "optimization at t = 41 finished, lapse: 0.174sec.\n",
      "optimization at t = 42 finished, lapse: 0.160sec.\n",
      "optimization at t = 43 finished, lapse: 0.180sec.\n",
      "optimization at t = 44 finished, lapse: 0.237sec.\n",
      "optimization at t = 45 finished, lapse: 0.198sec.\n",
      "optimization at t = 46 finished, lapse: 0.189sec.\n",
      "optimization at t = 47 finished, lapse: 0.178sec.\n",
      "optimization at t = 48 finished, lapse: 0.171sec.\n",
      "optimization at t = 49 finished, lapse: 0.283sec.\n",
      "optimization at t = 50 finished, lapse: 0.150sec.\n",
      "optimization at t = 51 finished, lapse: 0.177sec.\n",
      "optimization at t = 52 finished, lapse: 0.171sec.\n",
      "optimization at t = 53 finished, lapse: 0.188sec.\n",
      "optimization at t = 54 finished, lapse: 0.273sec.\n",
      "optimization at t = 55 finished, lapse: 0.300sec.\n",
      "optimization at t = 56 finished, lapse: 0.167sec.\n",
      "optimization at t = 57 finished, lapse: 0.252sec.\n",
      "optimization at t = 58 finished, lapse: 0.141sec.\n",
      "optimization at t = 59 finished, lapse: 0.119sec.\n",
      "optimization at t = 60 finished, lapse: 0.220sec.\n",
      "optimization at t = 61 finished, lapse: 0.169sec.\n",
      "optimization at t = 62 finished, lapse: 0.221sec.\n",
      "optimization at t = 63 finished, lapse: 0.143sec.\n",
      "optimization at t = 64 finished, lapse: 0.173sec.\n",
      "optimization at t = 65 finished, lapse: 0.138sec.\n",
      "optimization at t = 66 finished, lapse: 0.214sec.\n",
      "optimization at t = 67 finished, lapse: 0.161sec.\n",
      "optimization at t = 68 finished, lapse: 0.167sec.\n",
      "optimization at t = 69 finished, lapse: 0.136sec.\n",
      "optimization at t = 70 finished, lapse: 0.253sec.\n",
      "optimization at t = 71 finished, lapse: 0.177sec.\n",
      "optimization at t = 72 finished, lapse: 0.176sec.\n",
      "optimization at t = 73 finished, lapse: 0.136sec.\n",
      "optimization at t = 74 finished, lapse: 0.172sec.\n",
      "optimization at t = 75 finished, lapse: 0.166sec.\n",
      "optimization at t = 76 finished, lapse: 0.176sec.\n",
      "optimization at t = 77 finished, lapse: 0.273sec.\n",
      "optimization at t = 78 finished, lapse: 0.159sec.\n",
      "optimization at t = 79 finished, lapse: 0.261sec.\n",
      "optimization at t = 80 finished, lapse: 0.186sec.\n",
      "optimization at t = 81 finished, lapse: 0.107sec.\n",
      "optimization at t = 82 finished, lapse: 0.129sec.\n",
      "optimization at t = 83 finished, lapse: 0.227sec.\n",
      "optimization at t = 84 finished, lapse: 0.192sec.\n",
      "optimization at t = 85 finished, lapse: 0.170sec.\n",
      "optimization at t = 86 finished, lapse: 0.179sec.\n",
      "optimization at t = 87 finished, lapse: 0.178sec.\n",
      "optimization at t = 88 finished, lapse: 0.163sec.\n",
      "optimization at t = 89 finished, lapse: 0.175sec.\n",
      "optimization at t = 90 finished, lapse: 0.196sec.\n",
      "optimization at t = 91 finished, lapse: 0.169sec.\n",
      "optimization at t = 92 finished, lapse: 0.147sec.\n",
      "optimization at t = 93 finished, lapse: 0.223sec.\n",
      "optimization at t = 94 finished, lapse: 0.155sec.\n",
      "optimization at t = 95 finished, lapse: 0.158sec.\n",
      "optimization at t = 96 finished, lapse: 0.227sec.\n",
      "optimization at t = 97 finished, lapse: 0.173sec.\n",
      "optimization at t = 98 finished, lapse: 0.151sec.\n",
      "optimization at t = 99 finished, lapse: 0.172sec.\n",
      "optimization at t = 100 finished, lapse: 0.245sec.\n",
      "optimization at t = 101 finished, lapse: 0.199sec.\n",
      "optimization at t = 102 finished, lapse: 0.154sec.\n",
      "optimization at t = 103 finished, lapse: 0.203sec.\n",
      "optimization at t = 104 finished, lapse: 0.167sec.\n",
      "optimization at t = 105 finished, lapse: 0.182sec.\n",
      "optimization at t = 106 finished, lapse: 0.167sec.\n",
      "optimization at t = 107 finished, lapse: 0.224sec.\n",
      "optimization at t = 108 finished, lapse: 0.273sec.\n",
      "optimization at t = 109 finished, lapse: 0.139sec.\n",
      "optimization at t = 110 finished, lapse: 0.232sec.\n",
      "optimization at t = 111 finished, lapse: 0.204sec.\n",
      "optimization at t = 112 finished, lapse: 0.175sec.\n",
      "optimization at t = 113 finished, lapse: 0.210sec.\n",
      "optimization at t = 114 finished, lapse: 0.159sec.\n",
      "optimization at t = 115 finished, lapse: 0.176sec.\n",
      "optimization at t = 116 finished, lapse: 0.269sec.\n",
      "optimization at t = 117 finished, lapse: 0.169sec.\n",
      "optimization at t = 118 finished, lapse: 0.167sec.\n",
      "optimization at t = 119 finished, lapse: 0.099sec.\n",
      "optimization at t = 120 finished, lapse: 0.153sec.\n",
      "optimization at t = 121 finished, lapse: 0.318sec.\n",
      "optimization at t = 122 finished, lapse: 0.595sec.\n",
      "optimization at t = 123 finished, lapse: 0.151sec.\n",
      "optimization at t = 124 finished, lapse: 0.116sec.\n",
      "optimization at t = 125 finished, lapse: 0.070sec.\n",
      "optimization at t = 126 finished, lapse: 0.428sec.\n",
      "optimization at t = 127 finished, lapse: 0.377sec.\n",
      "optimization at t = 128 finished, lapse: 0.099sec.\n",
      "optimization at t = 129 finished, lapse: 0.127sec.\n",
      "optimization at t = 130 finished, lapse: 0.293sec.\n",
      "optimization at t = 131 finished, lapse: 0.245sec.\n",
      "optimization at t = 132 finished, lapse: 0.154sec.\n",
      "optimization at t = 133 finished, lapse: 0.149sec.\n",
      "optimization at t = 134 finished, lapse: 0.167sec.\n",
      "optimization at t = 135 finished, lapse: 0.181sec.\n",
      "optimization at t = 136 finished, lapse: 0.155sec.\n",
      "optimization at t = 137 finished, lapse: 0.194sec.\n",
      "optimization at t = 138 finished, lapse: 0.177sec.\n",
      "optimization at t = 139 finished, lapse: 0.294sec.\n",
      "optimization at t = 140 finished, lapse: 0.172sec.\n",
      "optimization at t = 141 finished, lapse: 0.186sec.\n",
      "optimization at t = 142 finished, lapse: 0.167sec.\n",
      "optimization at t = 143 finished, lapse: 0.238sec.\n",
      "optimization at t = 144 finished, lapse: 0.173sec.\n",
      "optimization at t = 145 finished, lapse: 0.142sec.\n",
      "optimization at t = 146 finished, lapse: 0.250sec.\n",
      "optimization at t = 147 finished, lapse: 0.125sec.\n",
      "optimization at t = 148 finished, lapse: 0.178sec.\n",
      "optimization at t = 149 finished, lapse: 0.270sec.\n",
      "optimization at t = 150 finished, lapse: 0.170sec.\n",
      "optimization at t = 151 finished, lapse: 0.173sec.\n",
      "optimization at t = 152 finished, lapse: 0.141sec.\n",
      "optimization at t = 153 finished, lapse: 0.224sec.\n",
      "optimization at t = 154 finished, lapse: 0.200sec.\n",
      "optimization at t = 155 finished, lapse: 0.290sec.\n",
      "optimization at t = 156 finished, lapse: 0.208sec.\n",
      "optimization at t = 157 finished, lapse: 0.303sec.\n",
      "optimization at t = 158 finished, lapse: 0.155sec.\n",
      "optimization at t = 159 finished, lapse: 0.121sec.\n",
      "optimization at t = 160 finished, lapse: 0.192sec.\n",
      "optimization at t = 161 finished, lapse: 0.244sec.\n",
      "optimization at t = 162 finished, lapse: 0.284sec.\n",
      "optimization at t = 163 finished, lapse: 0.275sec.\n",
      "optimization at t = 164 finished, lapse: 0.145sec.\n"
     ]
    },
    {
     "name": "stdout",
     "output_type": "stream",
     "text": [
      "optimization at t = 165 finished, lapse: 0.158sec.\n",
      "optimization at t = 166 finished, lapse: 0.136sec.\n",
      "optimization at t = 167 finished, lapse: 0.206sec.\n",
      "optimization at t = 168 finished, lapse: 0.170sec.\n",
      "optimization at t = 169 finished, lapse: 0.187sec.\n",
      "optimization at t = 170 finished, lapse: 0.171sec.\n",
      "optimization at t = 171 finished, lapse: 0.138sec.\n",
      "optimization at t = 172 finished, lapse: 0.174sec.\n",
      "optimization at t = 173 finished, lapse: 0.213sec.\n",
      "optimization at t = 174 finished, lapse: 0.157sec.\n",
      "optimization at t = 175 finished, lapse: 0.172sec.\n",
      "optimization at t = 176 finished, lapse: 0.244sec.\n",
      "optimization at t = 177 finished, lapse: 0.225sec.\n",
      "optimization at t = 178 finished, lapse: 0.153sec.\n",
      "optimization at t = 179 finished, lapse: 0.162sec.\n",
      "optimization at t = 180 finished, lapse: 0.136sec.\n"
     ]
    }
   ],
   "source": [
    "conf_band, beta_min, beta_max = \\\n",
    "model.confidence_R(Ae, bepi, Vepi[-2:,-2:], chi_pa,\n",
    "                   verbose=True)"
   ]
  },
  {
   "cell_type": "code",
   "execution_count": 49,
   "id": "0bbe1d41",
   "metadata": {
    "scrolled": false
   },
   "outputs": [
    {
     "data": {
      "text/plain": [
       "<matplotlib.collections.PolyCollection at 0x153ecc820>"
      ]
     },
     "execution_count": 49,
     "metadata": {},
     "output_type": "execute_result"
    },
    {
     "data": {
      "image/png": "[encoded data removed]",
      "text/plain": [
       "<Figure size 640x480 with 1 Axes>"
      ]
     },
     "metadata": {},
     "output_type": "display_data"
    }
   ],
   "source": [
    "plt.plot(R, color='grey')\n",
    "plt.plot(model.predict_R(Ae, bepi))\n",
    "plt.fill_between(np.arange(np.shape(conf_band)[0]),\n",
    "                 conf_band[:,0], conf_band[:,1], alpha=0.3)"
   ]
  },
  {
   "cell_type": "code",
   "execution_count": 50,
   "id": "b842e5b4",
   "metadata": {
    "scrolled": true
   },
   "outputs": [
    {
     "name": "stdout",
     "output_type": "stream",
     "text": [
      "optimization at t = 1 finished, lapse: 0.251sec.\n",
      "optimization at t = 2 finished, lapse: 0.330sec.\n",
      "optimization at t = 3 finished, lapse: 0.299sec.\n",
      "optimization at t = 4 finished, lapse: 0.414sec.\n",
      "optimization at t = 5 finished, lapse: 0.279sec.\n",
      "optimization at t = 6 finished, lapse: 0.238sec.\n",
      "optimization at t = 7 finished, lapse: 0.216sec.\n",
      "optimization at t = 8 finished, lapse: 0.343sec.\n",
      "optimization at t = 9 finished, lapse: 0.260sec.\n"
     ]
    },
    {
     "name": "stderr",
     "output_type": "stream",
     "text": [
      "/Users/blueconet/mambaforge/envs/freqepid/lib/python3.10/site-packages/scipy/optimize/_hessian_update_strategy.py:182: UserWarning: delta_grad == 0.0. Check if the approximated function is linear. If the function is linear better results can be obtained by defining the Hessian as zero instead of using quasi-Newton approximations.\n",
      "  warn('delta_grad == 0.0. Check if the approximated '\n"
     ]
    },
    {
     "name": "stdout",
     "output_type": "stream",
     "text": [
      "optimization at t = 10 finished, lapse: 0.576sec.\n",
      "optimization at t = 11 finished, lapse: 0.234sec.\n",
      "optimization at t = 12 finished, lapse: 0.220sec.\n",
      "optimization at t = 13 finished, lapse: 0.243sec.\n",
      "optimization at t = 14 finished, lapse: 0.322sec.\n",
      "optimization at t = 15 finished, lapse: 0.535sec.\n",
      "optimization at t = 16 finished, lapse: 0.516sec.\n",
      "optimization at t = 17 finished, lapse: 0.631sec.\n",
      "optimization at t = 18 finished, lapse: 0.435sec.\n",
      "optimization at t = 19 finished, lapse: 0.671sec.\n",
      "optimization at t = 20 finished, lapse: 0.444sec.\n",
      "optimization at t = 21 finished, lapse: 0.666sec.\n",
      "optimization at t = 22 finished, lapse: 0.515sec.\n",
      "optimization at t = 23 finished, lapse: 0.709sec.\n",
      "optimization at t = 24 finished, lapse: 0.863sec.\n",
      "optimization at t = 25 finished, lapse: 0.668sec.\n",
      "optimization at t = 26 finished, lapse: 1.025sec.\n",
      "optimization at t = 27 finished, lapse: 0.721sec.\n",
      "optimization at t = 28 finished, lapse: 0.708sec.\n",
      "optimization at t = 29 finished, lapse: 0.730sec.\n",
      "optimization at t = 30 finished, lapse: 0.885sec.\n",
      "optimization at t = 31 finished, lapse: 0.651sec.\n",
      "optimization at t = 32 finished, lapse: 0.537sec.\n",
      "optimization at t = 33 finished, lapse: 0.357sec.\n",
      "optimization at t = 34 finished, lapse: 0.722sec.\n",
      "optimization at t = 35 finished, lapse: 0.723sec.\n",
      "optimization at t = 36 finished, lapse: 1.289sec.\n",
      "optimization at t = 37 finished, lapse: 0.667sec.\n",
      "optimization at t = 38 finished, lapse: 1.099sec.\n",
      "optimization at t = 39 finished, lapse: 1.101sec.\n",
      "optimization at t = 40 finished, lapse: 0.851sec.\n",
      "optimization at t = 41 finished, lapse: 0.782sec.\n",
      "optimization at t = 42 finished, lapse: 0.791sec.\n",
      "optimization at t = 43 finished, lapse: 0.895sec.\n",
      "optimization at t = 44 finished, lapse: 0.613sec.\n",
      "optimization at t = 45 finished, lapse: 0.957sec.\n",
      "optimization at t = 46 finished, lapse: 0.761sec.\n",
      "optimization at t = 47 finished, lapse: 0.617sec.\n",
      "optimization at t = 48 finished, lapse: 0.498sec.\n",
      "optimization at t = 49 finished, lapse: 0.456sec.\n",
      "optimization at t = 50 finished, lapse: 0.820sec.\n",
      "optimization at t = 51 finished, lapse: 0.937sec.\n",
      "optimization at t = 52 finished, lapse: 0.659sec.\n",
      "optimization at t = 53 finished, lapse: 0.867sec.\n",
      "optimization at t = 54 finished, lapse: 0.827sec.\n",
      "optimization at t = 55 finished, lapse: 0.294sec.\n",
      "optimization at t = 56 finished, lapse: 0.273sec.\n",
      "optimization at t = 57 finished, lapse: 0.514sec.\n",
      "optimization at t = 58 finished, lapse: 0.273sec.\n",
      "optimization at t = 59 finished, lapse: 0.355sec.\n",
      "optimization at t = 60 finished, lapse: 0.337sec.\n",
      "optimization at t = 61 finished, lapse: 0.322sec.\n",
      "optimization at t = 62 finished, lapse: 0.327sec.\n",
      "optimization at t = 63 finished, lapse: 0.285sec.\n",
      "optimization at t = 64 finished, lapse: 0.399sec.\n",
      "optimization at t = 65 finished, lapse: 0.850sec.\n",
      "optimization at t = 66 finished, lapse: 0.818sec.\n",
      "optimization at t = 67 finished, lapse: 0.812sec.\n",
      "optimization at t = 68 finished, lapse: 0.591sec.\n",
      "optimization at t = 69 finished, lapse: 0.811sec.\n",
      "optimization at t = 70 finished, lapse: 0.543sec.\n",
      "optimization at t = 71 finished, lapse: 0.742sec.\n",
      "optimization at t = 72 finished, lapse: 0.660sec.\n",
      "optimization at t = 73 finished, lapse: 0.518sec.\n",
      "optimization at t = 74 finished, lapse: 0.667sec.\n",
      "optimization at t = 75 finished, lapse: 0.660sec.\n",
      "optimization at t = 76 finished, lapse: 0.708sec.\n",
      "optimization at t = 77 finished, lapse: 0.582sec.\n",
      "optimization at t = 78 finished, lapse: 1.097sec.\n",
      "optimization at t = 79 finished, lapse: 2.134sec.\n",
      "optimization at t = 80 finished, lapse: 1.373sec.\n",
      "optimization at t = 81 finished, lapse: 1.047sec.\n",
      "optimization at t = 82 finished, lapse: 0.590sec.\n",
      "optimization at t = 83 finished, lapse: 0.991sec.\n",
      "optimization at t = 84 finished, lapse: 0.715sec.\n",
      "optimization at t = 85 finished, lapse: 0.961sec.\n",
      "optimization at t = 86 finished, lapse: 0.745sec.\n",
      "optimization at t = 87 finished, lapse: 1.320sec.\n",
      "optimization at t = 88 finished, lapse: 0.749sec.\n",
      "optimization at t = 89 finished, lapse: 0.948sec.\n",
      "optimization at t = 90 finished, lapse: 0.812sec.\n",
      "optimization at t = 91 finished, lapse: 0.923sec.\n",
      "optimization at t = 92 finished, lapse: 0.964sec.\n",
      "optimization at t = 93 finished, lapse: 0.564sec.\n",
      "optimization at t = 94 finished, lapse: 0.717sec.\n",
      "optimization at t = 95 finished, lapse: 1.419sec.\n",
      "optimization at t = 96 finished, lapse: 1.269sec.\n",
      "optimization at t = 97 finished, lapse: 0.848sec.\n",
      "optimization at t = 98 finished, lapse: 0.828sec.\n",
      "optimization at t = 99 finished, lapse: 1.430sec.\n",
      "optimization at t = 100 finished, lapse: 0.877sec.\n",
      "optimization at t = 101 finished, lapse: 1.168sec.\n",
      "optimization at t = 102 finished, lapse: 0.967sec.\n",
      "optimization at t = 103 finished, lapse: 1.231sec.\n",
      "optimization at t = 104 finished, lapse: 15.843sec.\n",
      "optimization at t = 105 finished, lapse: 32.144sec.\n",
      "optimization at t = 106 finished, lapse: 86.413sec.\n",
      "optimization at t = 107 finished, lapse: 23.018sec.\n",
      "optimization at t = 108 finished, lapse: 5.686sec.\n",
      "optimization at t = 109 finished, lapse: 19.017sec.\n",
      "optimization at t = 110 finished, lapse: 21.222sec.\n",
      "optimization at t = 111 finished, lapse: 20.330sec.\n",
      "optimization at t = 112 finished, lapse: 19.395sec.\n",
      "optimization at t = 113 finished, lapse: 14.098sec.\n",
      "optimization at t = 114 finished, lapse: 28.075sec.\n",
      "optimization at t = 115 finished, lapse: 24.047sec.\n",
      "optimization at t = 116 finished, lapse: 22.070sec.\n",
      "optimization at t = 117 finished, lapse: 31.040sec.\n",
      "optimization at t = 118 finished, lapse: 17.527sec.\n",
      "optimization at t = 119 finished, lapse: 50.364sec.\n",
      "optimization at t = 120 finished, lapse: 9.172sec.\n",
      "optimization at t = 121 finished, lapse: 29.089sec.\n",
      "optimization at t = 122 finished, lapse: 22.001sec.\n",
      "optimization at t = 123 finished, lapse: 15.560sec.\n",
      "optimization at t = 124 finished, lapse: 90.293sec.\n",
      "optimization at t = 125 finished, lapse: 15.645sec.\n",
      "optimization at t = 126 finished, lapse: 29.108sec.\n",
      "optimization at t = 127 finished, lapse: 63.888sec.\n",
      "optimization at t = 128 finished, lapse: 22.816sec.\n",
      "optimization at t = 129 finished, lapse: 41.087sec.\n",
      "optimization at t = 130 finished, lapse: 28.167sec.\n",
      "optimization at t = 131 finished, lapse: 38.792sec.\n",
      "optimization at t = 132 finished, lapse: 23.352sec.\n",
      "optimization at t = 133 finished, lapse: 82.650sec.\n",
      "optimization at t = 134 finished, lapse: 22.094sec.\n",
      "optimization at t = 135 finished, lapse: 40.663sec.\n",
      "optimization at t = 136 finished, lapse: 18.113sec.\n",
      "optimization at t = 137 finished, lapse: 1429.794sec.\n",
      "optimization at t = 138 finished, lapse: 19.998sec.\n",
      "optimization at t = 139 finished, lapse: 13.603sec.\n",
      "optimization at t = 140 finished, lapse: 20.402sec.\n",
      "optimization at t = 141 finished, lapse: 21.159sec.\n",
      "optimization at t = 142 finished, lapse: 10.498sec.\n",
      "optimization at t = 143 finished, lapse: 27.710sec.\n",
      "optimization at t = 144 finished, lapse: 13.600sec.\n",
      "optimization at t = 145 finished, lapse: 19.378sec.\n",
      "optimization at t = 146 finished, lapse: 22.689sec.\n",
      "optimization at t = 147 finished, lapse: 15.025sec.\n",
      "optimization at t = 148 finished, lapse: 10.578sec.\n",
      "optimization at t = 149 finished, lapse: 18.101sec.\n",
      "optimization at t = 150 finished, lapse: 16.530sec.\n",
      "optimization at t = 151 finished, lapse: 22.743sec.\n",
      "optimization at t = 152 finished, lapse: 13.618sec.\n",
      "optimization at t = 153 finished, lapse: 19.879sec.\n",
      "optimization at t = 154 finished, lapse: 13.767sec.\n",
      "optimization at t = 155 finished, lapse: 24.021sec.\n",
      "optimization at t = 156 finished, lapse: 36.319sec.\n",
      "optimization at t = 157 finished, lapse: 26.195sec.\n",
      "optimization at t = 158 finished, lapse: 32.598sec.\n",
      "optimization at t = 159 finished, lapse: 24.849sec.\n",
      "optimization at t = 160 finished, lapse: 28.018sec.\n",
      "optimization at t = 161 finished, lapse: 11.581sec.\n",
      "optimization at t = 162 finished, lapse: 26.322sec.\n",
      "optimization at t = 163 finished, lapse: 15.222sec.\n",
      "optimization at t = 164 finished, lapse: 12.635sec.\n",
      "optimization at t = 165 finished, lapse: 28.717sec.\n",
      "optimization at t = 166 finished, lapse: 43.244sec.\n",
      "optimization at t = 167 finished, lapse: 27.340sec.\n",
      "optimization at t = 168 finished, lapse: 15.808sec.\n",
      "optimization at t = 169 finished, lapse: 1495.499sec.\n",
      "optimization at t = 170 finished, lapse: 20.462sec.\n",
      "optimization at t = 171 finished, lapse: 3586.984sec.\n"
     ]
    },
    {
     "name": "stdout",
     "output_type": "stream",
     "text": [
      "optimization at t = 172 finished, lapse: 21.235sec.\n",
      "optimization at t = 173 finished, lapse: 12.917sec.\n",
      "optimization at t = 174 finished, lapse: 1102.846sec.\n",
      "optimization at t = 175 finished, lapse: 21.036sec.\n",
      "optimization at t = 176 finished, lapse: 980.728sec.\n",
      "optimization at t = 177 finished, lapse: 18.177sec.\n",
      "optimization at t = 178 finished, lapse: 65.753sec.\n",
      "optimization at t = 179 finished, lapse: 21.734sec.\n",
      "optimization at t = 180 finished, lapse: 1008.402sec.\n"
     ]
    }
   ],
   "source": [
    "conf_band, theta_min, theta_max = \\\n",
    "model.confidence_I(Ae, mepi, bepi, Vepi, chi_pa,\n",
    "                    verbose=True)"
   ]
  },
  {
   "cell_type": "code",
   "execution_count": 51,
   "id": "f6e076c6",
   "metadata": {},
   "outputs": [
    {
     "data": {
      "text/plain": [
       "<matplotlib.collections.PolyCollection at 0x1542013f0>"
      ]
     },
     "execution_count": 51,
     "metadata": {},
     "output_type": "execute_result"
    },
    {
     "data": {
      "image/png": "[encoded data removed]",
      "text/plain": [
       "<Figure size 640x480 with 1 Axes>"
      ]
     },
     "metadata": {},
     "output_type": "display_data"
    }
   ],
   "source": [
    "plt.bar(np.arange(T), I, color='grey', alpha=0.5)\n",
    "plt.plot(model.predict_I(Ae, mepi, bepi))\n",
    "plt.fill_between(np.arange(np.shape(conf_band)[0]),\n",
    "                 conf_band[:,0], conf_band[:,1], alpha=0.3)"
   ]
  },
  {
   "cell_type": "code",
   "execution_count": 52,
   "id": "fddc8736",
   "metadata": {
    "scrolled": true
   },
   "outputs": [
    {
     "name": "stdout",
     "output_type": "stream",
     "text": [
      "optimization at t = 1 finished, lapse: 2.413sec.\n",
      "optimization at t = 2 finished, lapse: 0.883sec.\n",
      "optimization at t = 3 finished, lapse: 0.883sec.\n",
      "optimization at t = 4 finished, lapse: 1.139sec.\n",
      "optimization at t = 5 finished, lapse: 2.534sec.\n",
      "optimization at t = 6 finished, lapse: 0.904sec.\n",
      "optimization at t = 7 finished, lapse: 1.444sec.\n",
      "optimization at t = 8 finished, lapse: 0.973sec.\n",
      "optimization at t = 9 finished, lapse: 0.618sec.\n",
      "optimization at t = 10 finished, lapse: 0.744sec.\n",
      "optimization at t = 11 finished, lapse: 0.500sec.\n",
      "optimization at t = 12 finished, lapse: 0.757sec.\n",
      "optimization at t = 13 finished, lapse: 0.383sec.\n",
      "optimization at t = 14 finished, lapse: 0.853sec.\n",
      "optimization at t = 15 finished, lapse: 0.351sec.\n",
      "optimization at t = 16 finished, lapse: 0.548sec.\n",
      "optimization at t = 17 finished, lapse: 0.789sec.\n",
      "optimization at t = 18 finished, lapse: 0.669sec.\n",
      "optimization at t = 19 finished, lapse: 0.378sec.\n",
      "optimization at t = 20 finished, lapse: 0.264sec.\n",
      "optimization at t = 21 finished, lapse: 0.621sec.\n",
      "optimization at t = 22 finished, lapse: 0.322sec.\n",
      "optimization at t = 23 finished, lapse: 0.707sec.\n",
      "optimization at t = 24 finished, lapse: 0.784sec.\n",
      "optimization at t = 25 finished, lapse: 0.585sec.\n",
      "optimization at t = 26 finished, lapse: 0.592sec.\n",
      "optimization at t = 27 finished, lapse: 0.460sec.\n",
      "optimization at t = 28 finished, lapse: 0.244sec.\n",
      "optimization at t = 29 finished, lapse: 0.319sec.\n",
      "optimization at t = 30 finished, lapse: 1.067sec.\n",
      "optimization at t = 31 finished, lapse: 0.299sec.\n",
      "optimization at t = 32 finished, lapse: 0.271sec.\n",
      "optimization at t = 33 finished, lapse: 0.174sec.\n",
      "optimization at t = 34 finished, lapse: 0.310sec.\n",
      "optimization at t = 35 finished, lapse: 0.355sec.\n",
      "optimization at t = 36 finished, lapse: 0.210sec.\n",
      "optimization at t = 37 finished, lapse: 0.373sec.\n",
      "optimization at t = 38 finished, lapse: 0.274sec.\n",
      "optimization at t = 39 finished, lapse: 0.667sec.\n",
      "optimization at t = 40 finished, lapse: 0.675sec.\n",
      "optimization at t = 41 finished, lapse: 0.563sec.\n",
      "optimization at t = 42 finished, lapse: 0.562sec.\n",
      "optimization at t = 43 finished, lapse: 0.668sec.\n",
      "optimization at t = 44 finished, lapse: 0.816sec.\n",
      "optimization at t = 45 finished, lapse: 0.665sec.\n",
      "optimization at t = 46 finished, lapse: 0.465sec.\n",
      "optimization at t = 47 finished, lapse: 0.804sec.\n",
      "optimization at t = 48 finished, lapse: 0.974sec.\n",
      "optimization at t = 49 finished, lapse: 0.966sec.\n",
      "optimization at t = 50 finished, lapse: 0.824sec.\n",
      "optimization at t = 51 finished, lapse: 0.663sec.\n",
      "optimization at t = 52 finished, lapse: 0.774sec.\n",
      "optimization at t = 53 finished, lapse: 0.540sec.\n",
      "optimization at t = 54 finished, lapse: 0.649sec.\n",
      "optimization at t = 55 finished, lapse: 0.594sec.\n",
      "optimization at t = 56 finished, lapse: 0.638sec.\n",
      "optimization at t = 57 finished, lapse: 0.421sec.\n",
      "optimization at t = 58 finished, lapse: 0.670sec.\n",
      "optimization at t = 59 finished, lapse: 0.873sec.\n",
      "optimization at t = 60 finished, lapse: 0.418sec.\n",
      "optimization at t = 61 finished, lapse: 0.646sec.\n",
      "optimization at t = 62 finished, lapse: 0.478sec.\n",
      "optimization at t = 63 finished, lapse: 0.551sec.\n",
      "optimization at t = 64 finished, lapse: 0.945sec.\n",
      "optimization at t = 65 finished, lapse: 0.744sec.\n",
      "optimization at t = 66 finished, lapse: 0.611sec.\n",
      "optimization at t = 67 finished, lapse: 0.579sec.\n",
      "optimization at t = 68 finished, lapse: 0.696sec.\n",
      "optimization at t = 69 finished, lapse: 175.968sec.\n",
      "optimization at t = 70 finished, lapse: 0.975sec.\n",
      "optimization at t = 71 finished, lapse: 1.090sec.\n",
      "optimization at t = 72 finished, lapse: 1.355sec.\n",
      "optimization at t = 73 finished, lapse: 0.937sec.\n",
      "optimization at t = 74 finished, lapse: 0.601sec.\n",
      "optimization at t = 75 finished, lapse: 0.731sec.\n",
      "optimization at t = 76 finished, lapse: 0.998sec.\n",
      "optimization at t = 77 finished, lapse: 0.874sec.\n",
      "optimization at t = 78 finished, lapse: 0.634sec.\n",
      "optimization at t = 79 finished, lapse: 0.783sec.\n",
      "optimization at t = 80 finished, lapse: 0.871sec.\n",
      "optimization at t = 81 finished, lapse: 1.088sec.\n",
      "optimization at t = 82 finished, lapse: 0.954sec.\n",
      "optimization at t = 83 finished, lapse: 0.585sec.\n",
      "optimization at t = 84 finished, lapse: 0.853sec.\n",
      "optimization at t = 85 finished, lapse: 0.786sec.\n",
      "optimization at t = 86 finished, lapse: 0.591sec.\n",
      "optimization at t = 87 finished, lapse: 0.568sec.\n",
      "optimization at t = 88 finished, lapse: 0.759sec.\n",
      "optimization at t = 89 finished, lapse: 0.855sec.\n",
      "optimization at t = 90 finished, lapse: 0.981sec.\n",
      "optimization at t = 91 finished, lapse: 0.829sec.\n",
      "optimization at t = 92 finished, lapse: 0.749sec.\n",
      "optimization at t = 93 finished, lapse: 0.876sec.\n",
      "optimization at t = 94 finished, lapse: 0.968sec.\n",
      "optimization at t = 95 finished, lapse: 1.035sec.\n",
      "optimization at t = 96 finished, lapse: 1.004sec.\n",
      "optimization at t = 97 finished, lapse: 0.696sec.\n",
      "optimization at t = 98 finished, lapse: 0.517sec.\n",
      "optimization at t = 99 finished, lapse: 1.009sec.\n",
      "optimization at t = 100 finished, lapse: 0.763sec.\n",
      "optimization at t = 101 finished, lapse: 0.828sec.\n",
      "optimization at t = 102 finished, lapse: 0.916sec.\n",
      "optimization at t = 103 finished, lapse: 1.327sec.\n",
      "optimization at t = 104 finished, lapse: 13.026sec.\n",
      "optimization at t = 105 finished, lapse: 2092.095sec.\n",
      "optimization at t = 106 finished, lapse: 1692.826sec.\n",
      "optimization at t = 107 finished, lapse: 15.351sec.\n",
      "optimization at t = 108 finished, lapse: 11.015sec.\n",
      "optimization at t = 109 finished, lapse: 11.692sec.\n",
      "optimization at t = 110 finished, lapse: 8.460sec.\n",
      "optimization at t = 111 finished, lapse: 10.220sec.\n",
      "optimization at t = 112 finished, lapse: 4.412sec.\n",
      "optimization at t = 113 finished, lapse: 9.277sec.\n",
      "optimization at t = 114 finished, lapse: 16.835sec.\n",
      "optimization at t = 115 finished, lapse: 12.934sec.\n",
      "optimization at t = 116 finished, lapse: 10.420sec.\n",
      "optimization at t = 117 finished, lapse: 4.063sec.\n",
      "optimization at t = 118 finished, lapse: 736.825sec.\n",
      "optimization at t = 119 finished, lapse: 11.238sec.\n",
      "optimization at t = 120 finished, lapse: 8.025sec.\n",
      "optimization at t = 121 finished, lapse: 5.400sec.\n",
      "optimization at t = 122 finished, lapse: 6.075sec.\n",
      "optimization at t = 123 finished, lapse: 3.861sec.\n",
      "optimization at t = 124 finished, lapse: 1011.983sec.\n",
      "optimization at t = 125 finished, lapse: 11.663sec.\n",
      "optimization at t = 126 finished, lapse: 11.445sec.\n",
      "optimization at t = 127 finished, lapse: 17.616sec.\n",
      "optimization at t = 128 finished, lapse: 8.710sec.\n",
      "optimization at t = 129 finished, lapse: 12.443sec.\n",
      "optimization at t = 130 finished, lapse: 8.048sec.\n",
      "optimization at t = 131 finished, lapse: 14.652sec.\n",
      "optimization at t = 132 finished, lapse: 7.218sec.\n",
      "optimization at t = 133 finished, lapse: 6.706sec.\n",
      "optimization at t = 134 finished, lapse: 7.936sec.\n",
      "optimization at t = 135 finished, lapse: 11.763sec.\n",
      "optimization at t = 136 finished, lapse: 7.923sec.\n",
      "optimization at t = 137 finished, lapse: 8.407sec.\n",
      "optimization at t = 138 finished, lapse: 10.345sec.\n",
      "optimization at t = 139 finished, lapse: 9.525sec.\n",
      "optimization at t = 140 finished, lapse: 8.071sec.\n",
      "optimization at t = 141 finished, lapse: 16.402sec.\n",
      "optimization at t = 142 finished, lapse: 7.366sec.\n",
      "optimization at t = 143 finished, lapse: 7.450sec.\n",
      "optimization at t = 144 finished, lapse: 7.342sec.\n",
      "optimization at t = 145 finished, lapse: 957.844sec.\n",
      "optimization at t = 146 finished, lapse: 8.740sec.\n",
      "optimization at t = 147 finished, lapse: 8.868sec.\n",
      "optimization at t = 148 finished, lapse: 5.280sec.\n",
      "optimization at t = 149 finished, lapse: 8.183sec.\n",
      "optimization at t = 150 finished, lapse: 13.143sec.\n",
      "optimization at t = 151 finished, lapse: 6.837sec.\n",
      "optimization at t = 152 finished, lapse: 7.030sec.\n",
      "optimization at t = 153 finished, lapse: 7.886sec.\n",
      "optimization at t = 154 finished, lapse: 7.309sec.\n",
      "optimization at t = 155 finished, lapse: 16.123sec.\n",
      "optimization at t = 156 finished, lapse: 14.495sec.\n",
      "optimization at t = 157 finished, lapse: 29.591sec.\n",
      "optimization at t = 158 finished, lapse: 13.583sec.\n",
      "optimization at t = 159 finished, lapse: 11.602sec.\n",
      "optimization at t = 160 finished, lapse: 14.163sec.\n",
      "optimization at t = 161 finished, lapse: 15.810sec.\n",
      "optimization at t = 162 finished, lapse: 939.322sec.\n"
     ]
    },
    {
     "name": "stdout",
     "output_type": "stream",
     "text": [
      "optimization at t = 163 finished, lapse: 16.904sec.\n",
      "optimization at t = 164 finished, lapse: 19.677sec.\n",
      "optimization at t = 165 finished, lapse: 15.955sec.\n",
      "optimization at t = 166 finished, lapse: 18.419sec.\n",
      "optimization at t = 167 finished, lapse: 18.048sec.\n",
      "optimization at t = 168 finished, lapse: 23.845sec.\n",
      "optimization at t = 169 finished, lapse: 9.703sec.\n",
      "optimization at t = 170 finished, lapse: 9.854sec.\n",
      "optimization at t = 171 finished, lapse: 10.795sec.\n",
      "optimization at t = 172 finished, lapse: 39.815sec.\n",
      "optimization at t = 173 finished, lapse: 15.894sec.\n",
      "optimization at t = 174 finished, lapse: 25.838sec.\n",
      "optimization at t = 175 finished, lapse: 18.282sec.\n",
      "optimization at t = 176 finished, lapse: 16.370sec.\n",
      "optimization at t = 177 finished, lapse: 27.950sec.\n",
      "optimization at t = 178 finished, lapse: 21.702sec.\n",
      "optimization at t = 179 finished, lapse: 1023.895sec.\n",
      "optimization at t = 180 finished, lapse: 19.899sec.\n"
     ]
    }
   ],
   "source": [
    "conf_band, theta_min, theta_max = \\\n",
    "model.confidence_EY(Ae, mepi, bepi, Vepi, chi_pa,\n",
    "                    verbose=True)"
   ]
  },
  {
   "cell_type": "code",
   "execution_count": 53,
   "id": "4674fb52",
   "metadata": {},
   "outputs": [
    {
     "data": {
      "text/plain": [
       "<matplotlib.collections.PolyCollection at 0x153caf370>"
      ]
     },
     "execution_count": 53,
     "metadata": {},
     "output_type": "execute_result"
    },
    {
     "data": {
      "image/png": "[encoded data removed]",
      "text/plain": [
       "<Figure size 640x480 with 1 Axes>"
      ]
     },
     "metadata": {},
     "output_type": "display_data"
    }
   ],
   "source": [
    "plt.bar(np.arange(T), Y, color='grey', alpha=0.5)\n",
    "plt.plot(model.predict_EY(Ae, mepi, bepi))\n",
    "plt.fill_between(np.arange(np.shape(conf_band)[0]),\n",
    "                 conf_band[:,0], conf_band[:,1], alpha=0.3)"
   ]
  },
  {
   "cell_type": "markdown",
   "id": "85330424",
   "metadata": {},
   "source": [
    "## A = 0.5"
   ]
  },
  {
   "cell_type": "code",
   "execution_count": 54,
   "id": "329d04c0",
   "metadata": {},
   "outputs": [],
   "source": [
    "Tf = 60\n",
    "Af = np.zeros([Tf, d])"
   ]
  },
  {
   "cell_type": "code",
   "execution_count": 55,
   "id": "f126ad17",
   "metadata": {},
   "outputs": [],
   "source": [
    "Af[:,0] = np.full(Tf, 1)\n",
    "Af[:,1] = np.full(Tf, 0.5)"
   ]
  },
  {
   "cell_type": "code",
   "execution_count": 56,
   "id": "8254cdb3",
   "metadata": {},
   "outputs": [],
   "source": [
    "Ae = np.concatenate([A, Af], 0)"
   ]
  },
  {
   "cell_type": "code",
   "execution_count": 57,
   "id": "66c3f7d0",
   "metadata": {
    "scrolled": true
   },
   "outputs": [
    {
     "name": "stdout",
     "output_type": "stream",
     "text": [
      "optimization at t = 1 finished, lapse: 0.274sec.\n",
      "optimization at t = 2 finished, lapse: 0.085sec.\n",
      "optimization at t = 3 finished, lapse: 0.165sec.\n",
      "optimization at t = 4 finished, lapse: 0.156sec.\n",
      "optimization at t = 5 finished, lapse: 0.182sec.\n",
      "optimization at t = 6 finished, lapse: 0.153sec.\n",
      "optimization at t = 7 finished, lapse: 0.160sec.\n",
      "optimization at t = 8 finished, lapse: 0.153sec.\n",
      "optimization at t = 9 finished, lapse: 0.149sec.\n",
      "optimization at t = 10 finished, lapse: 0.175sec.\n",
      "optimization at t = 11 finished, lapse: 0.141sec.\n",
      "optimization at t = 12 finished, lapse: 0.152sec.\n",
      "optimization at t = 13 finished, lapse: 0.141sec.\n",
      "optimization at t = 14 finished, lapse: 0.155sec.\n",
      "optimization at t = 15 finished, lapse: 0.162sec.\n",
      "optimization at t = 16 finished, lapse: 0.133sec.\n",
      "optimization at t = 17 finished, lapse: 0.168sec.\n",
      "optimization at t = 18 finished, lapse: 0.152sec.\n",
      "optimization at t = 19 finished, lapse: 0.150sec.\n",
      "optimization at t = 20 finished, lapse: 0.143sec.\n",
      "optimization at t = 21 finished, lapse: 0.145sec.\n",
      "optimization at t = 22 finished, lapse: 0.166sec.\n",
      "optimization at t = 23 finished, lapse: 0.161sec.\n",
      "optimization at t = 24 finished, lapse: 0.142sec.\n",
      "optimization at t = 25 finished, lapse: 0.157sec.\n",
      "optimization at t = 26 finished, lapse: 0.172sec.\n",
      "optimization at t = 27 finished, lapse: 0.142sec.\n",
      "optimization at t = 28 finished, lapse: 0.182sec.\n",
      "optimization at t = 29 finished, lapse: 0.146sec.\n",
      "optimization at t = 30 finished, lapse: 0.243sec.\n",
      "optimization at t = 31 finished, lapse: 0.135sec.\n",
      "optimization at t = 32 finished, lapse: 0.220sec.\n",
      "optimization at t = 33 finished, lapse: 0.294sec.\n",
      "optimization at t = 34 finished, lapse: 0.195sec.\n",
      "optimization at t = 35 finished, lapse: 0.186sec.\n",
      "optimization at t = 36 finished, lapse: 0.189sec.\n",
      "optimization at t = 37 finished, lapse: 0.194sec.\n",
      "optimization at t = 38 finished, lapse: 0.195sec.\n",
      "optimization at t = 39 finished, lapse: 0.166sec.\n",
      "optimization at t = 40 finished, lapse: 0.186sec.\n",
      "optimization at t = 41 finished, lapse: 0.167sec.\n",
      "optimization at t = 42 finished, lapse: 0.190sec.\n",
      "optimization at t = 43 finished, lapse: 0.179sec.\n",
      "optimization at t = 44 finished, lapse: 0.288sec.\n",
      "optimization at t = 45 finished, lapse: 0.187sec.\n",
      "optimization at t = 46 finished, lapse: 0.180sec.\n",
      "optimization at t = 47 finished, lapse: 0.298sec.\n",
      "optimization at t = 48 finished, lapse: 0.186sec.\n",
      "optimization at t = 49 finished, lapse: 0.164sec.\n",
      "optimization at t = 50 finished, lapse: 0.192sec.\n",
      "optimization at t = 51 finished, lapse: 0.205sec.\n",
      "optimization at t = 52 finished, lapse: 0.183sec.\n",
      "optimization at t = 53 finished, lapse: 0.190sec.\n",
      "optimization at t = 54 finished, lapse: 0.187sec.\n",
      "optimization at t = 55 finished, lapse: 0.180sec.\n",
      "optimization at t = 56 finished, lapse: 0.189sec.\n",
      "optimization at t = 57 finished, lapse: 0.258sec.\n",
      "optimization at t = 58 finished, lapse: 0.198sec.\n",
      "optimization at t = 59 finished, lapse: 0.233sec.\n",
      "optimization at t = 60 finished, lapse: 0.249sec.\n",
      "optimization at t = 61 finished, lapse: 0.184sec.\n",
      "optimization at t = 62 finished, lapse: 0.161sec.\n",
      "optimization at t = 63 finished, lapse: 0.197sec.\n",
      "optimization at t = 64 finished, lapse: 0.192sec.\n",
      "optimization at t = 65 finished, lapse: 0.214sec.\n",
      "optimization at t = 66 finished, lapse: 0.161sec.\n",
      "optimization at t = 67 finished, lapse: 0.223sec.\n",
      "optimization at t = 68 finished, lapse: 0.214sec.\n",
      "optimization at t = 69 finished, lapse: 0.236sec.\n",
      "optimization at t = 70 finished, lapse: 0.169sec.\n",
      "optimization at t = 71 finished, lapse: 0.191sec.\n",
      "optimization at t = 72 finished, lapse: 0.200sec.\n",
      "optimization at t = 73 finished, lapse: 0.199sec.\n",
      "optimization at t = 74 finished, lapse: 0.180sec.\n",
      "optimization at t = 75 finished, lapse: 0.193sec.\n",
      "optimization at t = 76 finished, lapse: 0.184sec.\n",
      "optimization at t = 77 finished, lapse: 0.183sec.\n",
      "optimization at t = 78 finished, lapse: 0.170sec.\n",
      "optimization at t = 79 finished, lapse: 0.225sec.\n",
      "optimization at t = 80 finished, lapse: 0.185sec.\n",
      "optimization at t = 81 finished, lapse: 0.240sec.\n",
      "optimization at t = 82 finished, lapse: 0.184sec.\n",
      "optimization at t = 83 finished, lapse: 0.171sec.\n",
      "optimization at t = 84 finished, lapse: 0.184sec.\n",
      "optimization at t = 85 finished, lapse: 0.184sec.\n",
      "optimization at t = 86 finished, lapse: 0.185sec.\n",
      "optimization at t = 87 finished, lapse: 0.206sec.\n",
      "optimization at t = 88 finished, lapse: 0.175sec.\n",
      "optimization at t = 89 finished, lapse: 0.176sec.\n",
      "optimization at t = 90 finished, lapse: 0.200sec.\n",
      "optimization at t = 91 finished, lapse: 0.174sec.\n",
      "optimization at t = 92 finished, lapse: 0.184sec.\n",
      "optimization at t = 93 finished, lapse: 0.324sec.\n",
      "optimization at t = 94 finished, lapse: 0.165sec.\n",
      "optimization at t = 95 finished, lapse: 0.189sec.\n",
      "optimization at t = 96 finished, lapse: 0.141sec.\n",
      "optimization at t = 97 finished, lapse: 0.245sec.\n",
      "optimization at t = 98 finished, lapse: 0.174sec.\n",
      "optimization at t = 99 finished, lapse: 0.308sec.\n",
      "optimization at t = 100 finished, lapse: 0.171sec.\n",
      "optimization at t = 101 finished, lapse: 0.231sec.\n",
      "optimization at t = 102 finished, lapse: 0.214sec.\n",
      "optimization at t = 103 finished, lapse: 0.218sec.\n",
      "optimization at t = 104 finished, lapse: 0.194sec.\n",
      "optimization at t = 105 finished, lapse: 0.173sec.\n",
      "optimization at t = 106 finished, lapse: 0.194sec.\n",
      "optimization at t = 107 finished, lapse: 0.167sec.\n",
      "optimization at t = 108 finished, lapse: 0.260sec.\n",
      "optimization at t = 109 finished, lapse: 0.151sec.\n",
      "optimization at t = 110 finished, lapse: 0.268sec.\n",
      "optimization at t = 111 finished, lapse: 0.159sec.\n",
      "optimization at t = 112 finished, lapse: 0.286sec.\n",
      "optimization at t = 113 finished, lapse: 0.244sec.\n",
      "optimization at t = 114 finished, lapse: 0.208sec.\n",
      "optimization at t = 115 finished, lapse: 0.142sec.\n",
      "optimization at t = 116 finished, lapse: 0.201sec.\n",
      "optimization at t = 117 finished, lapse: 0.185sec.\n",
      "optimization at t = 118 finished, lapse: 0.184sec.\n",
      "optimization at t = 119 finished, lapse: 0.198sec.\n",
      "optimization at t = 120 finished, lapse: 0.177sec.\n",
      "optimization at t = 121 finished, lapse: 0.195sec.\n",
      "optimization at t = 122 finished, lapse: 0.155sec.\n",
      "optimization at t = 123 finished, lapse: 0.226sec.\n",
      "optimization at t = 124 finished, lapse: 0.227sec.\n",
      "optimization at t = 125 finished, lapse: 0.236sec.\n",
      "optimization at t = 126 finished, lapse: 0.246sec.\n",
      "optimization at t = 127 finished, lapse: 0.238sec.\n",
      "optimization at t = 128 finished, lapse: 0.224sec.\n",
      "optimization at t = 129 finished, lapse: 0.164sec.\n",
      "optimization at t = 130 finished, lapse: 0.277sec.\n",
      "optimization at t = 131 finished, lapse: 0.220sec.\n",
      "optimization at t = 132 finished, lapse: 0.238sec.\n",
      "optimization at t = 133 finished, lapse: 0.286sec.\n",
      "optimization at t = 134 finished, lapse: 0.215sec.\n",
      "optimization at t = 135 finished, lapse: 0.209sec.\n",
      "optimization at t = 136 finished, lapse: 0.192sec.\n",
      "optimization at t = 137 finished, lapse: 0.216sec.\n",
      "optimization at t = 138 finished, lapse: 0.197sec.\n",
      "optimization at t = 139 finished, lapse: 0.205sec.\n",
      "optimization at t = 140 finished, lapse: 0.194sec.\n",
      "optimization at t = 141 finished, lapse: 0.214sec.\n",
      "optimization at t = 142 finished, lapse: 0.344sec.\n",
      "optimization at t = 143 finished, lapse: 0.170sec.\n",
      "optimization at t = 144 finished, lapse: 0.227sec.\n",
      "optimization at t = 145 finished, lapse: 0.206sec.\n",
      "optimization at t = 146 finished, lapse: 0.189sec.\n",
      "optimization at t = 147 finished, lapse: 0.241sec.\n",
      "optimization at t = 148 finished, lapse: 0.240sec.\n",
      "optimization at t = 149 finished, lapse: 0.229sec.\n",
      "optimization at t = 150 finished, lapse: 0.276sec.\n",
      "optimization at t = 151 finished, lapse: 0.324sec.\n",
      "optimization at t = 152 finished, lapse: 0.248sec.\n",
      "optimization at t = 153 finished, lapse: 0.236sec.\n",
      "optimization at t = 154 finished, lapse: 0.281sec.\n",
      "optimization at t = 155 finished, lapse: 0.347sec.\n",
      "optimization at t = 156 finished, lapse: 0.243sec.\n",
      "optimization at t = 157 finished, lapse: 0.248sec.\n",
      "optimization at t = 158 finished, lapse: 0.233sec.\n",
      "optimization at t = 159 finished, lapse: 0.296sec.\n",
      "optimization at t = 160 finished, lapse: 0.255sec.\n",
      "optimization at t = 161 finished, lapse: 0.232sec.\n",
      "optimization at t = 162 finished, lapse: 0.221sec.\n",
      "optimization at t = 163 finished, lapse: 0.239sec.\n"
     ]
    },
    {
     "name": "stdout",
     "output_type": "stream",
     "text": [
      "optimization at t = 164 finished, lapse: 0.312sec.\n",
      "optimization at t = 165 finished, lapse: 0.239sec.\n",
      "optimization at t = 166 finished, lapse: 0.210sec.\n",
      "optimization at t = 167 finished, lapse: 0.258sec.\n",
      "optimization at t = 168 finished, lapse: 0.297sec.\n",
      "optimization at t = 169 finished, lapse: 0.326sec.\n",
      "optimization at t = 170 finished, lapse: 0.248sec.\n",
      "optimization at t = 171 finished, lapse: 0.246sec.\n",
      "optimization at t = 172 finished, lapse: 0.218sec.\n",
      "optimization at t = 173 finished, lapse: 0.227sec.\n",
      "optimization at t = 174 finished, lapse: 0.384sec.\n",
      "optimization at t = 175 finished, lapse: 0.220sec.\n",
      "optimization at t = 176 finished, lapse: 0.265sec.\n",
      "optimization at t = 177 finished, lapse: 0.226sec.\n",
      "optimization at t = 178 finished, lapse: 0.239sec.\n",
      "optimization at t = 179 finished, lapse: 0.232sec.\n",
      "optimization at t = 180 finished, lapse: 0.215sec.\n"
     ]
    }
   ],
   "source": [
    "conf_band, beta_min, beta_max = \\\n",
    "model.confidence_R(Ae, bepi, Vepi[-2:,-2:], chi_pa,\n",
    "                   verbose=True)"
   ]
  },
  {
   "cell_type": "code",
   "execution_count": 58,
   "id": "f8eba41f",
   "metadata": {
    "scrolled": false
   },
   "outputs": [
    {
     "data": {
      "text/plain": [
       "<matplotlib.collections.PolyCollection at 0x1543848b0>"
      ]
     },
     "execution_count": 58,
     "metadata": {},
     "output_type": "execute_result"
    },
    {
     "data": {
      "image/png": "[encoded data removed]",
      "text/plain": [
       "<Figure size 640x480 with 1 Axes>"
      ]
     },
     "metadata": {},
     "output_type": "display_data"
    }
   ],
   "source": [
    "plt.plot(R, color='grey')\n",
    "plt.plot(model.predict_R(Ae, bepi))\n",
    "plt.fill_between(np.arange(np.shape(conf_band)[0]),\n",
    "                 conf_band[:,0], conf_band[:,1], alpha=0.3)"
   ]
  },
  {
   "cell_type": "code",
   "execution_count": 59,
   "id": "96ea070b",
   "metadata": {
    "scrolled": true
   },
   "outputs": [
    {
     "name": "stdout",
     "output_type": "stream",
     "text": [
      "optimization at t = 1 finished, lapse: 0.293sec.\n",
      "optimization at t = 2 finished, lapse: 0.319sec.\n",
      "optimization at t = 3 finished, lapse: 0.255sec.\n",
      "optimization at t = 4 finished, lapse: 0.482sec.\n",
      "optimization at t = 5 finished, lapse: 0.312sec.\n",
      "optimization at t = 6 finished, lapse: 0.275sec.\n",
      "optimization at t = 7 finished, lapse: 0.274sec.\n",
      "optimization at t = 8 finished, lapse: 0.271sec.\n",
      "optimization at t = 9 finished, lapse: 0.254sec.\n",
      "optimization at t = 10 finished, lapse: 0.507sec.\n",
      "optimization at t = 11 finished, lapse: 0.249sec.\n",
      "optimization at t = 12 finished, lapse: 0.251sec.\n",
      "optimization at t = 13 finished, lapse: 0.303sec.\n",
      "optimization at t = 14 finished, lapse: 0.332sec.\n",
      "optimization at t = 15 finished, lapse: 0.636sec.\n",
      "optimization at t = 16 finished, lapse: 0.423sec.\n",
      "optimization at t = 17 finished, lapse: 0.760sec.\n",
      "optimization at t = 18 finished, lapse: 0.478sec.\n",
      "optimization at t = 19 finished, lapse: 0.567sec.\n",
      "optimization at t = 20 finished, lapse: 0.634sec.\n",
      "optimization at t = 21 finished, lapse: 0.613sec.\n",
      "optimization at t = 22 finished, lapse: 0.719sec.\n",
      "optimization at t = 23 finished, lapse: 0.778sec.\n",
      "optimization at t = 24 finished, lapse: 0.645sec.\n",
      "optimization at t = 25 finished, lapse: 0.582sec.\n",
      "optimization at t = 26 finished, lapse: 0.836sec.\n",
      "optimization at t = 27 finished, lapse: 0.790sec.\n",
      "optimization at t = 28 finished, lapse: 1.004sec.\n",
      "optimization at t = 29 finished, lapse: 0.780sec.\n",
      "optimization at t = 30 finished, lapse: 0.895sec.\n",
      "optimization at t = 31 finished, lapse: 282.920sec.\n",
      "optimization at t = 32 finished, lapse: 0.885sec.\n",
      "optimization at t = 33 finished, lapse: 0.563sec.\n",
      "optimization at t = 34 finished, lapse: 0.917sec.\n",
      "optimization at t = 35 finished, lapse: 0.976sec.\n",
      "optimization at t = 36 finished, lapse: 1.121sec.\n",
      "optimization at t = 37 finished, lapse: 0.812sec.\n",
      "optimization at t = 38 finished, lapse: 0.952sec.\n",
      "optimization at t = 39 finished, lapse: 1.006sec.\n",
      "optimization at t = 40 finished, lapse: 0.839sec.\n",
      "optimization at t = 41 finished, lapse: 0.830sec.\n",
      "optimization at t = 42 finished, lapse: 0.914sec.\n",
      "optimization at t = 43 finished, lapse: 0.891sec.\n",
      "optimization at t = 44 finished, lapse: 0.639sec.\n",
      "optimization at t = 45 finished, lapse: 1.125sec.\n",
      "optimization at t = 46 finished, lapse: 0.876sec.\n",
      "optimization at t = 47 finished, lapse: 1.081sec.\n",
      "optimization at t = 48 finished, lapse: 1.023sec.\n",
      "optimization at t = 49 finished, lapse: 0.606sec.\n",
      "optimization at t = 50 finished, lapse: 0.939sec.\n",
      "optimization at t = 51 finished, lapse: 0.815sec.\n",
      "optimization at t = 52 finished, lapse: 0.717sec.\n",
      "optimization at t = 53 finished, lapse: 0.910sec.\n",
      "optimization at t = 54 finished, lapse: 1.073sec.\n",
      "optimization at t = 55 finished, lapse: 0.908sec.\n",
      "optimization at t = 56 finished, lapse: 0.892sec.\n",
      "optimization at t = 57 finished, lapse: 0.986sec.\n",
      "optimization at t = 58 finished, lapse: 0.603sec.\n",
      "optimization at t = 59 finished, lapse: 0.913sec.\n",
      "optimization at t = 60 finished, lapse: 0.874sec.\n",
      "optimization at t = 61 finished, lapse: 0.775sec.\n",
      "optimization at t = 62 finished, lapse: 0.817sec.\n",
      "optimization at t = 63 finished, lapse: 0.845sec.\n",
      "optimization at t = 64 finished, lapse: 0.950sec.\n",
      "optimization at t = 65 finished, lapse: 1.333sec.\n",
      "optimization at t = 66 finished, lapse: 1.131sec.\n",
      "optimization at t = 67 finished, lapse: 1.117sec.\n",
      "optimization at t = 68 finished, lapse: 1.117sec.\n",
      "optimization at t = 69 finished, lapse: 1.896sec.\n",
      "optimization at t = 70 finished, lapse: 1.312sec.\n",
      "optimization at t = 71 finished, lapse: 1.026sec.\n",
      "optimization at t = 72 finished, lapse: 1.455sec.\n",
      "optimization at t = 73 finished, lapse: 0.880sec.\n",
      "optimization at t = 74 finished, lapse: 0.975sec.\n",
      "optimization at t = 75 finished, lapse: 1.172sec.\n",
      "optimization at t = 76 finished, lapse: 1.481sec.\n",
      "optimization at t = 77 finished, lapse: 0.844sec.\n",
      "optimization at t = 78 finished, lapse: 918.143sec.\n",
      "optimization at t = 79 finished, lapse: 3.315sec.\n",
      "optimization at t = 80 finished, lapse: 2.855sec.\n",
      "optimization at t = 81 finished, lapse: 1.702sec.\n",
      "optimization at t = 82 finished, lapse: 0.914sec.\n",
      "optimization at t = 83 finished, lapse: 2.300sec.\n",
      "optimization at t = 84 finished, lapse: 1.029sec.\n",
      "optimization at t = 85 finished, lapse: 1.751sec.\n",
      "optimization at t = 86 finished, lapse: 1.368sec.\n",
      "optimization at t = 87 finished, lapse: 1.426sec.\n",
      "optimization at t = 88 finished, lapse: 1.081sec.\n",
      "optimization at t = 89 finished, lapse: 1.037sec.\n",
      "optimization at t = 90 finished, lapse: 1.250sec.\n",
      "optimization at t = 91 finished, lapse: 1.367sec.\n",
      "optimization at t = 92 finished, lapse: 1.517sec.\n",
      "optimization at t = 93 finished, lapse: 0.825sec.\n",
      "optimization at t = 94 finished, lapse: 1.236sec.\n",
      "optimization at t = 95 finished, lapse: 2.362sec.\n",
      "optimization at t = 96 finished, lapse: 2.115sec.\n",
      "optimization at t = 97 finished, lapse: 1.474sec.\n",
      "optimization at t = 98 finished, lapse: 1.132sec.\n",
      "optimization at t = 99 finished, lapse: 2.105sec.\n",
      "optimization at t = 100 finished, lapse: 1.190sec.\n",
      "optimization at t = 101 finished, lapse: 1.581sec.\n",
      "optimization at t = 102 finished, lapse: 1.395sec.\n",
      "optimization at t = 103 finished, lapse: 1.940sec.\n",
      "optimization at t = 104 finished, lapse: 1004.672sec.\n",
      "optimization at t = 105 finished, lapse: 68.851sec.\n",
      "optimization at t = 106 finished, lapse: 1964.284sec.\n",
      "optimization at t = 107 finished, lapse: 25.481sec.\n",
      "optimization at t = 108 finished, lapse: 6.566sec.\n",
      "optimization at t = 109 finished, lapse: 19.295sec.\n",
      "optimization at t = 110 finished, lapse: 23.520sec.\n",
      "optimization at t = 111 finished, lapse: 350.006sec.\n",
      "optimization at t = 112 finished, lapse: 21.514sec.\n",
      "optimization at t = 113 finished, lapse: 15.231sec.\n",
      "optimization at t = 114 finished, lapse: 27.861sec.\n",
      "optimization at t = 115 finished, lapse: 16.787sec.\n",
      "optimization at t = 116 finished, lapse: 12.888sec.\n",
      "optimization at t = 117 finished, lapse: 22.680sec.\n",
      "optimization at t = 118 finished, lapse: 14.258sec.\n",
      "optimization at t = 119 finished, lapse: 776.601sec.\n",
      "optimization at t = 120 finished, lapse: 5.194sec.\n",
      "optimization at t = 121 finished, lapse: 7.308sec.\n",
      "optimization at t = 122 finished, lapse: 5.837sec.\n",
      "optimization at t = 123 finished, lapse: 3.410sec.\n",
      "optimization at t = 124 finished, lapse: 8.209sec.\n",
      "optimization at t = 125 finished, lapse: 5.675sec.\n",
      "optimization at t = 126 finished, lapse: 4.012sec.\n",
      "optimization at t = 127 finished, lapse: 10.127sec.\n",
      "optimization at t = 128 finished, lapse: 7.767sec.\n",
      "optimization at t = 129 finished, lapse: 9.260sec.\n",
      "optimization at t = 130 finished, lapse: 8.777sec.\n",
      "optimization at t = 131 finished, lapse: 9.358sec.\n",
      "optimization at t = 132 finished, lapse: 8.932sec.\n",
      "optimization at t = 133 finished, lapse: 26.413sec.\n",
      "optimization at t = 134 finished, lapse: 952.169sec.\n",
      "optimization at t = 135 finished, lapse: 346.455sec.\n",
      "optimization at t = 136 finished, lapse: 384.860sec.\n",
      "optimization at t = 137 finished, lapse: 991.722sec.\n",
      "optimization at t = 138 finished, lapse: 46.999sec.\n",
      "optimization at t = 139 finished, lapse: 1104.068sec.\n",
      "optimization at t = 140 finished, lapse: 57.399sec.\n",
      "optimization at t = 141 finished, lapse: 1005.869sec.\n",
      "optimization at t = 142 finished, lapse: 994.685sec.\n",
      "optimization at t = 143 finished, lapse: 1883.127sec.\n",
      "optimization at t = 144 finished, lapse: 64.070sec.\n",
      "optimization at t = 145 finished, lapse: 69.017sec.\n",
      "optimization at t = 146 finished, lapse: 1061.343sec.\n",
      "optimization at t = 147 finished, lapse: 70.548sec.\n",
      "optimization at t = 148 finished, lapse: 78.295sec.\n",
      "optimization at t = 149 finished, lapse: 84.273sec.\n",
      "optimization at t = 150 finished, lapse: 16.334sec.\n",
      "optimization at t = 151 finished, lapse: 255.604sec.\n",
      "optimization at t = 152 finished, lapse: 8.914sec.\n",
      "optimization at t = 153 finished, lapse: 22.734sec.\n",
      "optimization at t = 154 finished, lapse: 523.293sec.\n",
      "optimization at t = 155 finished, lapse: 44.793sec.\n",
      "optimization at t = 156 finished, lapse: 1473.504sec.\n",
      "optimization at t = 157 finished, lapse: 1080.448sec.\n",
      "optimization at t = 158 finished, lapse: 51.718sec.\n",
      "optimization at t = 159 finished, lapse: 395.029sec.\n",
      "optimization at t = 160 finished, lapse: 59.488sec.\n",
      "optimization at t = 161 finished, lapse: 36.597sec.\n",
      "optimization at t = 162 finished, lapse: 938.922sec.\n"
     ]
    },
    {
     "name": "stdout",
     "output_type": "stream",
     "text": [
      "optimization at t = 163 finished, lapse: 66.672sec.\n",
      "optimization at t = 164 finished, lapse: 169.681sec.\n",
      "optimization at t = 165 finished, lapse: 56.221sec.\n",
      "optimization at t = 166 finished, lapse: 35.975sec.\n",
      "optimization at t = 167 finished, lapse: 29.930sec.\n",
      "optimization at t = 168 finished, lapse: 25.576sec.\n",
      "optimization at t = 169 finished, lapse: 42.119sec.\n",
      "optimization at t = 170 finished, lapse: 51.705sec.\n",
      "optimization at t = 171 finished, lapse: 112.601sec.\n",
      "optimization at t = 172 finished, lapse: 96.387sec.\n",
      "optimization at t = 173 finished, lapse: 22.048sec.\n",
      "optimization at t = 174 finished, lapse: 19.917sec.\n",
      "optimization at t = 175 finished, lapse: 8.223sec.\n",
      "optimization at t = 176 finished, lapse: 55.062sec.\n",
      "optimization at t = 177 finished, lapse: 14.700sec.\n",
      "optimization at t = 178 finished, lapse: 11.791sec.\n",
      "optimization at t = 179 finished, lapse: 10.151sec.\n",
      "optimization at t = 180 finished, lapse: 38.562sec.\n"
     ]
    }
   ],
   "source": [
    "conf_band, theta_min, theta_max = \\\n",
    "model.confidence_I(Ae, mepi, bepi, Vepi, chi_pa,\n",
    "                    verbose=True)"
   ]
  },
  {
   "cell_type": "code",
   "execution_count": 60,
   "id": "84748bd4",
   "metadata": {},
   "outputs": [
    {
     "data": {
      "text/plain": [
       "<matplotlib.collections.PolyCollection at 0x1544e1810>"
      ]
     },
     "execution_count": 60,
     "metadata": {},
     "output_type": "execute_result"
    },
    {
     "data": {
      "image/png": "[encoded data removed]",
      "text/plain": [
       "<Figure size 640x480 with 1 Axes>"
      ]
     },
     "metadata": {},
     "output_type": "display_data"
    }
   ],
   "source": [
    "plt.bar(np.arange(T), I, color='grey', alpha=0.5)\n",
    "plt.plot(model.predict_I(Ae, mepi, bepi))\n",
    "plt.fill_between(np.arange(np.shape(conf_band)[0]),\n",
    "                 conf_band[:,0], conf_band[:,1], alpha=0.3)"
   ]
  },
  {
   "cell_type": "code",
   "execution_count": 61,
   "id": "cccab74e",
   "metadata": {
    "scrolled": true
   },
   "outputs": [
    {
     "name": "stdout",
     "output_type": "stream",
     "text": [
      "optimization at t = 1 finished, lapse: 1.064sec.\n",
      "optimization at t = 2 finished, lapse: 0.302sec.\n",
      "optimization at t = 3 finished, lapse: 0.249sec.\n",
      "optimization at t = 4 finished, lapse: 0.446sec.\n",
      "optimization at t = 5 finished, lapse: 0.885sec.\n",
      "optimization at t = 6 finished, lapse: 1027.136sec.\n",
      "optimization at t = 7 finished, lapse: 0.478sec.\n",
      "optimization at t = 8 finished, lapse: 0.345sec.\n",
      "optimization at t = 9 finished, lapse: 0.261sec.\n",
      "optimization at t = 10 finished, lapse: 0.279sec.\n",
      "optimization at t = 11 finished, lapse: 0.220sec.\n",
      "optimization at t = 12 finished, lapse: 0.317sec.\n",
      "optimization at t = 13 finished, lapse: 0.130sec.\n",
      "optimization at t = 14 finished, lapse: 0.342sec.\n",
      "optimization at t = 15 finished, lapse: 0.139sec.\n",
      "optimization at t = 16 finished, lapse: 0.212sec.\n",
      "optimization at t = 17 finished, lapse: 0.309sec.\n",
      "optimization at t = 18 finished, lapse: 0.263sec.\n",
      "optimization at t = 19 finished, lapse: 0.156sec.\n",
      "optimization at t = 20 finished, lapse: 0.109sec.\n",
      "optimization at t = 21 finished, lapse: 0.196sec.\n",
      "optimization at t = 22 finished, lapse: 0.106sec.\n",
      "optimization at t = 23 finished, lapse: 0.193sec.\n",
      "optimization at t = 24 finished, lapse: 0.223sec.\n",
      "optimization at t = 25 finished, lapse: 0.201sec.\n",
      "optimization at t = 26 finished, lapse: 0.185sec.\n",
      "optimization at t = 27 finished, lapse: 0.148sec.\n",
      "optimization at t = 28 finished, lapse: 0.082sec.\n",
      "optimization at t = 29 finished, lapse: 0.084sec.\n",
      "optimization at t = 30 finished, lapse: 0.321sec.\n",
      "optimization at t = 31 finished, lapse: 0.098sec.\n",
      "optimization at t = 32 finished, lapse: 0.077sec.\n",
      "optimization at t = 33 finished, lapse: 0.065sec.\n",
      "optimization at t = 34 finished, lapse: 0.065sec.\n",
      "optimization at t = 35 finished, lapse: 0.122sec.\n",
      "optimization at t = 36 finished, lapse: 0.069sec.\n",
      "optimization at t = 37 finished, lapse: 0.106sec.\n",
      "optimization at t = 38 finished, lapse: 0.082sec.\n",
      "optimization at t = 39 finished, lapse: 0.207sec.\n",
      "optimization at t = 40 finished, lapse: 0.195sec.\n",
      "optimization at t = 41 finished, lapse: 0.194sec.\n",
      "optimization at t = 42 finished, lapse: 0.212sec.\n",
      "optimization at t = 43 finished, lapse: 0.226sec.\n",
      "optimization at t = 44 finished, lapse: 0.201sec.\n",
      "optimization at t = 45 finished, lapse: 0.249sec.\n",
      "optimization at t = 46 finished, lapse: 0.177sec.\n",
      "optimization at t = 47 finished, lapse: 0.295sec.\n",
      "optimization at t = 48 finished, lapse: 0.331sec.\n",
      "optimization at t = 49 finished, lapse: 0.333sec.\n",
      "optimization at t = 50 finished, lapse: 0.286sec.\n",
      "optimization at t = 51 finished, lapse: 0.209sec.\n",
      "optimization at t = 52 finished, lapse: 0.261sec.\n",
      "optimization at t = 53 finished, lapse: 0.191sec.\n",
      "optimization at t = 54 finished, lapse: 0.196sec.\n",
      "optimization at t = 55 finished, lapse: 0.204sec.\n",
      "optimization at t = 56 finished, lapse: 0.230sec.\n",
      "optimization at t = 57 finished, lapse: 0.179sec.\n",
      "optimization at t = 58 finished, lapse: 0.277sec.\n",
      "optimization at t = 59 finished, lapse: 0.235sec.\n",
      "optimization at t = 60 finished, lapse: 0.167sec.\n",
      "optimization at t = 61 finished, lapse: 0.249sec.\n",
      "optimization at t = 62 finished, lapse: 0.182sec.\n",
      "optimization at t = 63 finished, lapse: 0.185sec.\n",
      "optimization at t = 64 finished, lapse: 0.322sec.\n",
      "optimization at t = 65 finished, lapse: 0.344sec.\n",
      "optimization at t = 66 finished, lapse: 0.352sec.\n",
      "optimization at t = 67 finished, lapse: 0.324sec.\n",
      "optimization at t = 68 finished, lapse: 0.287sec.\n",
      "optimization at t = 69 finished, lapse: 0.235sec.\n",
      "optimization at t = 70 finished, lapse: 0.402sec.\n",
      "optimization at t = 71 finished, lapse: 0.392sec.\n",
      "optimization at t = 72 finished, lapse: 0.368sec.\n",
      "optimization at t = 73 finished, lapse: 0.339sec.\n",
      "optimization at t = 74 finished, lapse: 0.248sec.\n",
      "optimization at t = 75 finished, lapse: 0.359sec.\n",
      "optimization at t = 76 finished, lapse: 0.513sec.\n",
      "optimization at t = 77 finished, lapse: 0.539sec.\n",
      "optimization at t = 78 finished, lapse: 0.360sec.\n",
      "optimization at t = 79 finished, lapse: 0.447sec.\n",
      "optimization at t = 80 finished, lapse: 0.498sec.\n",
      "optimization at t = 81 finished, lapse: 0.422sec.\n",
      "optimization at t = 82 finished, lapse: 0.432sec.\n",
      "optimization at t = 83 finished, lapse: 0.317sec.\n",
      "optimization at t = 84 finished, lapse: 0.382sec.\n",
      "optimization at t = 85 finished, lapse: 0.372sec.\n",
      "optimization at t = 86 finished, lapse: 0.321sec.\n",
      "optimization at t = 87 finished, lapse: 0.255sec.\n",
      "optimization at t = 88 finished, lapse: 0.420sec.\n",
      "optimization at t = 89 finished, lapse: 0.275sec.\n",
      "optimization at t = 90 finished, lapse: 0.524sec.\n",
      "optimization at t = 91 finished, lapse: 0.486sec.\n",
      "optimization at t = 92 finished, lapse: 0.452sec.\n",
      "optimization at t = 93 finished, lapse: 0.501sec.\n",
      "optimization at t = 94 finished, lapse: 0.477sec.\n",
      "optimization at t = 95 finished, lapse: 0.254sec.\n",
      "optimization at t = 96 finished, lapse: 0.486sec.\n",
      "optimization at t = 97 finished, lapse: 0.419sec.\n",
      "optimization at t = 98 finished, lapse: 0.306sec.\n",
      "optimization at t = 99 finished, lapse: 0.444sec.\n",
      "optimization at t = 100 finished, lapse: 0.496sec.\n",
      "optimization at t = 101 finished, lapse: 0.488sec.\n",
      "optimization at t = 102 finished, lapse: 0.658sec.\n",
      "optimization at t = 103 finished, lapse: 0.745sec.\n",
      "optimization at t = 104 finished, lapse: 3.908sec.\n",
      "optimization at t = 105 finished, lapse: 2.909sec.\n",
      "optimization at t = 106 finished, lapse: 3.738sec.\n",
      "optimization at t = 107 finished, lapse: 3.925sec.\n",
      "optimization at t = 108 finished, lapse: 3.324sec.\n",
      "optimization at t = 109 finished, lapse: 782.065sec.\n",
      "optimization at t = 110 finished, lapse: 3.920sec.\n",
      "optimization at t = 111 finished, lapse: 5.031sec.\n",
      "optimization at t = 112 finished, lapse: 1.852sec.\n",
      "optimization at t = 113 finished, lapse: 3.471sec.\n",
      "optimization at t = 114 finished, lapse: 2.380sec.\n",
      "optimization at t = 115 finished, lapse: 4.379sec.\n",
      "optimization at t = 116 finished, lapse: 3.261sec.\n",
      "optimization at t = 117 finished, lapse: 1.612sec.\n",
      "optimization at t = 118 finished, lapse: 5.903sec.\n",
      "optimization at t = 119 finished, lapse: 3.586sec.\n",
      "optimization at t = 120 finished, lapse: 3.118sec.\n",
      "optimization at t = 121 finished, lapse: 1.845sec.\n",
      "optimization at t = 122 finished, lapse: 2.081sec.\n",
      "optimization at t = 123 finished, lapse: 0.905sec.\n",
      "optimization at t = 124 finished, lapse: 2.755sec.\n",
      "optimization at t = 125 finished, lapse: 1.853sec.\n",
      "optimization at t = 126 finished, lapse: 2.148sec.\n",
      "optimization at t = 127 finished, lapse: 1.419sec.\n",
      "optimization at t = 128 finished, lapse: 0.695sec.\n",
      "optimization at t = 129 finished, lapse: 1.728sec.\n",
      "optimization at t = 130 finished, lapse: 1.807sec.\n",
      "optimization at t = 131 finished, lapse: 904.114sec.\n",
      "optimization at t = 132 finished, lapse: 2.648sec.\n",
      "optimization at t = 133 finished, lapse: 3.267sec.\n",
      "optimization at t = 134 finished, lapse: 2.843sec.\n",
      "optimization at t = 135 finished, lapse: 3.464sec.\n",
      "optimization at t = 136 finished, lapse: 1.134sec.\n",
      "optimization at t = 137 finished, lapse: 2.876sec.\n",
      "optimization at t = 138 finished, lapse: 3.589sec.\n",
      "optimization at t = 139 finished, lapse: 2.986sec.\n",
      "optimization at t = 140 finished, lapse: 3.357sec.\n",
      "optimization at t = 141 finished, lapse: 2.102sec.\n",
      "optimization at t = 142 finished, lapse: 3.362sec.\n",
      "optimization at t = 143 finished, lapse: 1.684sec.\n",
      "optimization at t = 144 finished, lapse: 3.862sec.\n",
      "optimization at t = 145 finished, lapse: 1.560sec.\n",
      "optimization at t = 146 finished, lapse: 1.522sec.\n",
      "optimization at t = 147 finished, lapse: 2.937sec.\n",
      "optimization at t = 148 finished, lapse: 4.174sec.\n",
      "optimization at t = 149 finished, lapse: 2.279sec.\n",
      "optimization at t = 150 finished, lapse: 2.514sec.\n",
      "optimization at t = 151 finished, lapse: 3.654sec.\n",
      "optimization at t = 152 finished, lapse: 2.545sec.\n",
      "optimization at t = 153 finished, lapse: 2.433sec.\n",
      "optimization at t = 154 finished, lapse: 3.851sec.\n",
      "optimization at t = 155 finished, lapse: 6.920sec.\n",
      "optimization at t = 156 finished, lapse: 8.078sec.\n",
      "optimization at t = 157 finished, lapse: 6.742sec.\n",
      "optimization at t = 158 finished, lapse: 7.244sec.\n",
      "optimization at t = 159 finished, lapse: 6.401sec.\n",
      "optimization at t = 160 finished, lapse: 22.432sec.\n",
      "optimization at t = 161 finished, lapse: 18.015sec.\n",
      "optimization at t = 162 finished, lapse: 9.503sec.\n",
      "optimization at t = 163 finished, lapse: 13.697sec.\n"
     ]
    },
    {
     "name": "stdout",
     "output_type": "stream",
     "text": [
      "optimization at t = 164 finished, lapse: 279.791sec.\n",
      "optimization at t = 165 finished, lapse: 5.332sec.\n",
      "optimization at t = 166 finished, lapse: 5.102sec.\n",
      "optimization at t = 167 finished, lapse: 6.771sec.\n",
      "optimization at t = 168 finished, lapse: 7.358sec.\n",
      "optimization at t = 169 finished, lapse: 8.833sec.\n",
      "optimization at t = 170 finished, lapse: 799.762sec.\n",
      "optimization at t = 171 finished, lapse: 9.108sec.\n",
      "optimization at t = 172 finished, lapse: 8.151sec.\n",
      "optimization at t = 173 finished, lapse: 11.132sec.\n",
      "optimization at t = 174 finished, lapse: 4.545sec.\n",
      "optimization at t = 175 finished, lapse: 8.487sec.\n",
      "optimization at t = 176 finished, lapse: 15.425sec.\n",
      "optimization at t = 177 finished, lapse: 10.481sec.\n",
      "optimization at t = 178 finished, lapse: 13.315sec.\n",
      "optimization at t = 179 finished, lapse: 7.144sec.\n",
      "optimization at t = 180 finished, lapse: 5.066sec.\n"
     ]
    }
   ],
   "source": [
    "conf_band, theta_min, theta_max = \\\n",
    "model.confidence_EY(Ae, mepi, bepi, Vepi, chi_pa,\n",
    "                    verbose=True)"
   ]
  },
  {
   "cell_type": "code",
   "execution_count": 62,
   "id": "05fe8667",
   "metadata": {},
   "outputs": [
    {
     "data": {
      "text/plain": [
       "<matplotlib.collections.PolyCollection at 0x154659900>"
      ]
     },
     "execution_count": 62,
     "metadata": {},
     "output_type": "execute_result"
    },
    {
     "data": {
      "image/png": "[encoded data removed]",
      "text/plain": [
       "<Figure size 640x480 with 1 Axes>"
      ]
     },
     "metadata": {},
     "output_type": "display_data"
    }
   ],
   "source": [
    "plt.bar(np.arange(T), Y, color='grey', alpha=0.5)\n",
    "plt.plot(model.predict_EY(Ae, mepi, bepi))\n",
    "plt.fill_between(np.arange(np.shape(conf_band)[0]),\n",
    "                 conf_band[:,0], conf_band[:,1], alpha=0.3)"
   ]
  },
  {
   "cell_type": "markdown",
   "id": "4b283dde",
   "metadata": {},
   "source": [
    "## A = 0"
   ]
  },
  {
   "cell_type": "code",
   "execution_count": 63,
   "id": "c479a5e1",
   "metadata": {},
   "outputs": [],
   "source": [
    "Tf = 60\n",
    "Af = np.zeros([Tf, d])"
   ]
  },
  {
   "cell_type": "code",
   "execution_count": 64,
   "id": "c715ebc6",
   "metadata": {},
   "outputs": [],
   "source": [
    "Af[:,0] = np.full(Tf, 1)\n",
    "Af[:,1] = np.full(Tf, 0)"
   ]
  },
  {
   "cell_type": "code",
   "execution_count": 65,
   "id": "bff0da0a",
   "metadata": {},
   "outputs": [],
   "source": [
    "Ae = np.concatenate([A, Af], 0)"
   ]
  },
  {
   "cell_type": "code",
   "execution_count": 66,
   "id": "cdb4e1ad",
   "metadata": {
    "scrolled": true
   },
   "outputs": [
    {
     "name": "stdout",
     "output_type": "stream",
     "text": [
      "optimization at t = 1 finished, lapse: 0.094sec.\n",
      "optimization at t = 2 finished, lapse: 0.053sec.\n",
      "optimization at t = 3 finished, lapse: 0.054sec.\n",
      "optimization at t = 4 finished, lapse: 0.051sec.\n",
      "optimization at t = 5 finished, lapse: 0.052sec.\n",
      "optimization at t = 6 finished, lapse: 0.050sec.\n",
      "optimization at t = 7 finished, lapse: 0.051sec.\n",
      "optimization at t = 8 finished, lapse: 0.050sec.\n",
      "optimization at t = 9 finished, lapse: 0.050sec.\n",
      "optimization at t = 10 finished, lapse: 0.051sec.\n",
      "optimization at t = 11 finished, lapse: 0.051sec.\n",
      "optimization at t = 12 finished, lapse: 0.050sec.\n",
      "optimization at t = 13 finished, lapse: 0.050sec.\n",
      "optimization at t = 14 finished, lapse: 0.049sec.\n",
      "optimization at t = 15 finished, lapse: 0.052sec.\n",
      "optimization at t = 16 finished, lapse: 0.050sec.\n",
      "optimization at t = 17 finished, lapse: 0.050sec.\n",
      "optimization at t = 18 finished, lapse: 0.050sec.\n",
      "optimization at t = 19 finished, lapse: 0.050sec.\n",
      "optimization at t = 20 finished, lapse: 0.053sec.\n",
      "optimization at t = 21 finished, lapse: 0.049sec.\n",
      "optimization at t = 22 finished, lapse: 0.051sec.\n",
      "optimization at t = 23 finished, lapse: 0.050sec.\n",
      "optimization at t = 24 finished, lapse: 0.050sec.\n",
      "optimization at t = 25 finished, lapse: 0.051sec.\n",
      "optimization at t = 26 finished, lapse: 0.051sec.\n",
      "optimization at t = 27 finished, lapse: 0.050sec.\n",
      "optimization at t = 28 finished, lapse: 0.051sec.\n",
      "optimization at t = 29 finished, lapse: 0.050sec.\n",
      "optimization at t = 30 finished, lapse: 0.051sec.\n",
      "optimization at t = 31 finished, lapse: 0.050sec.\n",
      "optimization at t = 32 finished, lapse: 0.068sec.\n",
      "optimization at t = 33 finished, lapse: 0.068sec.\n",
      "optimization at t = 34 finished, lapse: 0.063sec.\n",
      "optimization at t = 35 finished, lapse: 0.060sec.\n",
      "optimization at t = 36 finished, lapse: 0.059sec.\n",
      "optimization at t = 37 finished, lapse: 0.061sec.\n",
      "optimization at t = 38 finished, lapse: 0.061sec.\n",
      "optimization at t = 39 finished, lapse: 0.059sec.\n",
      "optimization at t = 40 finished, lapse: 0.060sec.\n",
      "optimization at t = 41 finished, lapse: 0.060sec.\n",
      "optimization at t = 42 finished, lapse: 0.062sec.\n",
      "optimization at t = 43 finished, lapse: 0.060sec.\n",
      "optimization at t = 44 finished, lapse: 0.060sec.\n",
      "optimization at t = 45 finished, lapse: 0.060sec.\n",
      "optimization at t = 46 finished, lapse: 0.061sec.\n",
      "optimization at t = 47 finished, lapse: 0.059sec.\n",
      "optimization at t = 48 finished, lapse: 0.058sec.\n",
      "optimization at t = 49 finished, lapse: 0.059sec.\n",
      "optimization at t = 50 finished, lapse: 0.061sec.\n",
      "optimization at t = 51 finished, lapse: 0.059sec.\n",
      "optimization at t = 52 finished, lapse: 0.060sec.\n",
      "optimization at t = 53 finished, lapse: 0.060sec.\n",
      "optimization at t = 54 finished, lapse: 0.062sec.\n",
      "optimization at t = 55 finished, lapse: 0.067sec.\n",
      "optimization at t = 56 finished, lapse: 0.067sec.\n",
      "optimization at t = 57 finished, lapse: 0.064sec.\n",
      "optimization at t = 58 finished, lapse: 0.062sec.\n",
      "optimization at t = 59 finished, lapse: 0.060sec.\n",
      "optimization at t = 60 finished, lapse: 0.058sec.\n",
      "optimization at t = 61 finished, lapse: 0.059sec.\n",
      "optimization at t = 62 finished, lapse: 0.060sec.\n",
      "optimization at t = 63 finished, lapse: 0.061sec.\n",
      "optimization at t = 64 finished, lapse: 0.063sec.\n",
      "optimization at t = 65 finished, lapse: 0.060sec.\n",
      "optimization at t = 66 finished, lapse: 0.063sec.\n",
      "optimization at t = 67 finished, lapse: 0.061sec.\n",
      "optimization at t = 68 finished, lapse: 0.061sec.\n",
      "optimization at t = 69 finished, lapse: 0.059sec.\n",
      "optimization at t = 70 finished, lapse: 0.061sec.\n",
      "optimization at t = 71 finished, lapse: 0.061sec.\n",
      "optimization at t = 72 finished, lapse: 0.061sec.\n",
      "optimization at t = 73 finished, lapse: 0.060sec.\n",
      "optimization at t = 74 finished, lapse: 0.062sec.\n",
      "optimization at t = 75 finished, lapse: 0.060sec.\n",
      "optimization at t = 76 finished, lapse: 0.061sec.\n",
      "optimization at t = 77 finished, lapse: 0.059sec.\n",
      "optimization at t = 78 finished, lapse: 0.060sec.\n",
      "optimization at t = 79 finished, lapse: 0.060sec.\n",
      "optimization at t = 80 finished, lapse: 0.059sec.\n",
      "optimization at t = 81 finished, lapse: 0.060sec.\n",
      "optimization at t = 82 finished, lapse: 0.061sec.\n",
      "optimization at t = 83 finished, lapse: 0.059sec.\n",
      "optimization at t = 84 finished, lapse: 0.061sec.\n",
      "optimization at t = 85 finished, lapse: 0.059sec.\n",
      "optimization at t = 86 finished, lapse: 0.061sec.\n",
      "optimization at t = 87 finished, lapse: 0.061sec.\n",
      "optimization at t = 88 finished, lapse: 0.059sec.\n",
      "optimization at t = 89 finished, lapse: 0.059sec.\n",
      "optimization at t = 90 finished, lapse: 0.061sec.\n",
      "optimization at t = 91 finished, lapse: 0.059sec.\n",
      "optimization at t = 92 finished, lapse: 0.060sec.\n",
      "optimization at t = 93 finished, lapse: 0.060sec.\n",
      "optimization at t = 94 finished, lapse: 0.062sec.\n",
      "optimization at t = 95 finished, lapse: 0.059sec.\n",
      "optimization at t = 96 finished, lapse: 0.059sec.\n",
      "optimization at t = 97 finished, lapse: 0.060sec.\n",
      "optimization at t = 98 finished, lapse: 0.060sec.\n",
      "optimization at t = 99 finished, lapse: 0.062sec.\n",
      "optimization at t = 100 finished, lapse: 0.059sec.\n",
      "optimization at t = 101 finished, lapse: 0.059sec.\n",
      "optimization at t = 102 finished, lapse: 0.061sec.\n",
      "optimization at t = 103 finished, lapse: 0.060sec.\n",
      "optimization at t = 104 finished, lapse: 0.059sec.\n",
      "optimization at t = 105 finished, lapse: 0.059sec.\n",
      "optimization at t = 106 finished, lapse: 0.062sec.\n",
      "optimization at t = 107 finished, lapse: 0.061sec.\n",
      "optimization at t = 108 finished, lapse: 0.059sec.\n",
      "optimization at t = 109 finished, lapse: 0.059sec.\n",
      "optimization at t = 110 finished, lapse: 0.063sec.\n",
      "optimization at t = 111 finished, lapse: 0.060sec.\n",
      "optimization at t = 112 finished, lapse: 0.059sec.\n",
      "optimization at t = 113 finished, lapse: 0.060sec.\n",
      "optimization at t = 114 finished, lapse: 0.061sec.\n",
      "optimization at t = 115 finished, lapse: 0.061sec.\n",
      "optimization at t = 116 finished, lapse: 0.060sec.\n",
      "optimization at t = 117 finished, lapse: 0.059sec.\n",
      "optimization at t = 118 finished, lapse: 0.062sec.\n",
      "optimization at t = 119 finished, lapse: 0.059sec.\n",
      "optimization at t = 120 finished, lapse: 0.059sec.\n",
      "optimization at t = 121 finished, lapse: 0.146sec.\n",
      "optimization at t = 122 finished, lapse: 0.048sec.\n",
      "optimization at t = 123 finished, lapse: 0.049sec.\n",
      "optimization at t = 124 finished, lapse: 0.049sec.\n",
      "optimization at t = 125 finished, lapse: 0.048sec.\n",
      "optimization at t = 126 finished, lapse: 0.053sec.\n",
      "optimization at t = 127 finished, lapse: 0.050sec.\n",
      "optimization at t = 128 finished, lapse: 0.048sec.\n",
      "optimization at t = 129 finished, lapse: 0.048sec.\n",
      "optimization at t = 130 finished, lapse: 0.049sec.\n",
      "optimization at t = 131 finished, lapse: 0.050sec.\n",
      "optimization at t = 132 finished, lapse: 0.049sec.\n",
      "optimization at t = 133 finished, lapse: 0.049sec.\n",
      "optimization at t = 134 finished, lapse: 0.048sec.\n",
      "optimization at t = 135 finished, lapse: 0.049sec.\n",
      "optimization at t = 136 finished, lapse: 0.050sec.\n",
      "optimization at t = 137 finished, lapse: 0.049sec.\n",
      "optimization at t = 138 finished, lapse: 0.048sec.\n",
      "optimization at t = 139 finished, lapse: 0.049sec.\n",
      "optimization at t = 140 finished, lapse: 0.049sec.\n",
      "optimization at t = 141 finished, lapse: 0.050sec.\n",
      "optimization at t = 142 finished, lapse: 0.050sec.\n",
      "optimization at t = 143 finished, lapse: 0.049sec.\n",
      "optimization at t = 144 finished, lapse: 0.049sec.\n",
      "optimization at t = 145 finished, lapse: 0.049sec.\n",
      "optimization at t = 146 finished, lapse: 0.051sec.\n",
      "optimization at t = 147 finished, lapse: 0.049sec.\n",
      "optimization at t = 148 finished, lapse: 0.048sec.\n",
      "optimization at t = 149 finished, lapse: 0.049sec.\n",
      "optimization at t = 150 finished, lapse: 0.048sec.\n",
      "optimization at t = 151 finished, lapse: 0.049sec.\n",
      "optimization at t = 152 finished, lapse: 0.049sec.\n",
      "optimization at t = 153 finished, lapse: 0.048sec.\n",
      "optimization at t = 154 finished, lapse: 0.049sec.\n",
      "optimization at t = 155 finished, lapse: 0.049sec.\n",
      "optimization at t = 156 finished, lapse: 0.051sec.\n",
      "optimization at t = 157 finished, lapse: 0.052sec.\n",
      "optimization at t = 158 finished, lapse: 0.049sec.\n",
      "optimization at t = 159 finished, lapse: 0.049sec.\n",
      "optimization at t = 160 finished, lapse: 0.048sec.\n",
      "optimization at t = 161 finished, lapse: 0.050sec.\n",
      "optimization at t = 162 finished, lapse: 0.049sec.\n",
      "optimization at t = 163 finished, lapse: 0.048sec.\n",
      "optimization at t = 164 finished, lapse: 0.048sec.\n",
      "optimization at t = 165 finished, lapse: 0.049sec.\n"
     ]
    },
    {
     "name": "stdout",
     "output_type": "stream",
     "text": [
      "optimization at t = 166 finished, lapse: 0.051sec.\n",
      "optimization at t = 167 finished, lapse: 0.049sec.\n",
      "optimization at t = 168 finished, lapse: 0.049sec.\n",
      "optimization at t = 169 finished, lapse: 0.048sec.\n",
      "optimization at t = 170 finished, lapse: 0.049sec.\n",
      "optimization at t = 171 finished, lapse: 0.050sec.\n",
      "optimization at t = 172 finished, lapse: 0.049sec.\n",
      "optimization at t = 173 finished, lapse: 0.049sec.\n",
      "optimization at t = 174 finished, lapse: 0.050sec.\n",
      "optimization at t = 175 finished, lapse: 0.049sec.\n",
      "optimization at t = 176 finished, lapse: 0.051sec.\n",
      "optimization at t = 177 finished, lapse: 0.049sec.\n",
      "optimization at t = 178 finished, lapse: 0.049sec.\n",
      "optimization at t = 179 finished, lapse: 0.048sec.\n",
      "optimization at t = 180 finished, lapse: 0.048sec.\n"
     ]
    }
   ],
   "source": [
    "conf_band, beta_min, beta_max = \\\n",
    "model.confidence_R(Ae, bepi, Vepi[-2:,-2:], chi_pa,\n",
    "                   verbose=True)"
   ]
  },
  {
   "cell_type": "code",
   "execution_count": 67,
   "id": "0fbcb302",
   "metadata": {
    "scrolled": false
   },
   "outputs": [
    {
     "data": {
      "text/plain": [
       "<matplotlib.collections.PolyCollection at 0x154704d00>"
      ]
     },
     "execution_count": 67,
     "metadata": {},
     "output_type": "execute_result"
    },
    {
     "data": {
      "image/png": "[encoded data removed]",
      "text/plain": [
       "<Figure size 640x480 with 1 Axes>"
      ]
     },
     "metadata": {},
     "output_type": "display_data"
    }
   ],
   "source": [
    "plt.plot(R, color='grey')\n",
    "plt.plot(model.predict_R(Ae, bepi))\n",
    "plt.fill_between(np.arange(np.shape(conf_band)[0]),\n",
    "                 conf_band[:,0], conf_band[:,1], alpha=0.3)"
   ]
  },
  {
   "cell_type": "code",
   "execution_count": 68,
   "id": "8f331e4f",
   "metadata": {
    "scrolled": true
   },
   "outputs": [
    {
     "name": "stdout",
     "output_type": "stream",
     "text": [
      "optimization at t = 1 finished, lapse: 0.094sec.\n",
      "optimization at t = 2 finished, lapse: 0.087sec.\n",
      "optimization at t = 3 finished, lapse: 0.080sec.\n",
      "optimization at t = 4 finished, lapse: 0.132sec.\n",
      "optimization at t = 5 finished, lapse: 0.085sec.\n",
      "optimization at t = 6 finished, lapse: 0.083sec.\n",
      "optimization at t = 7 finished, lapse: 0.084sec.\n",
      "optimization at t = 8 finished, lapse: 0.079sec.\n",
      "optimization at t = 9 finished, lapse: 0.085sec.\n",
      "optimization at t = 10 finished, lapse: 0.161sec.\n",
      "optimization at t = 11 finished, lapse: 0.086sec.\n",
      "optimization at t = 12 finished, lapse: 0.080sec.\n",
      "optimization at t = 13 finished, lapse: 0.087sec.\n",
      "optimization at t = 14 finished, lapse: 0.109sec.\n",
      "optimization at t = 15 finished, lapse: 0.165sec.\n",
      "optimization at t = 16 finished, lapse: 0.160sec.\n",
      "optimization at t = 17 finished, lapse: 0.229sec.\n",
      "optimization at t = 18 finished, lapse: 0.155sec.\n",
      "optimization at t = 19 finished, lapse: 0.190sec.\n",
      "optimization at t = 20 finished, lapse: 0.158sec.\n",
      "optimization at t = 21 finished, lapse: 0.176sec.\n",
      "optimization at t = 22 finished, lapse: 0.201sec.\n",
      "optimization at t = 23 finished, lapse: 0.201sec.\n",
      "optimization at t = 24 finished, lapse: 0.183sec.\n",
      "optimization at t = 25 finished, lapse: 0.204sec.\n",
      "optimization at t = 26 finished, lapse: 0.284sec.\n",
      "optimization at t = 27 finished, lapse: 0.224sec.\n",
      "optimization at t = 28 finished, lapse: 0.278sec.\n",
      "optimization at t = 29 finished, lapse: 0.233sec.\n",
      "optimization at t = 30 finished, lapse: 0.264sec.\n",
      "optimization at t = 31 finished, lapse: 0.310sec.\n",
      "optimization at t = 32 finished, lapse: 0.291sec.\n",
      "optimization at t = 33 finished, lapse: 0.167sec.\n",
      "optimization at t = 34 finished, lapse: 0.297sec.\n",
      "optimization at t = 35 finished, lapse: 0.287sec.\n",
      "optimization at t = 36 finished, lapse: 0.331sec.\n",
      "optimization at t = 37 finished, lapse: 898.388sec.\n",
      "optimization at t = 38 finished, lapse: 0.303sec.\n",
      "optimization at t = 39 finished, lapse: 0.291sec.\n",
      "optimization at t = 40 finished, lapse: 0.248sec.\n",
      "optimization at t = 41 finished, lapse: 0.225sec.\n",
      "optimization at t = 42 finished, lapse: 0.259sec.\n",
      "optimization at t = 43 finished, lapse: 0.281sec.\n",
      "optimization at t = 44 finished, lapse: 0.198sec.\n",
      "optimization at t = 45 finished, lapse: 0.303sec.\n",
      "optimization at t = 46 finished, lapse: 0.234sec.\n",
      "optimization at t = 47 finished, lapse: 0.293sec.\n",
      "optimization at t = 48 finished, lapse: 0.284sec.\n",
      "optimization at t = 49 finished, lapse: 0.237sec.\n",
      "optimization at t = 50 finished, lapse: 0.333sec.\n",
      "optimization at t = 51 finished, lapse: 0.314sec.\n",
      "optimization at t = 52 finished, lapse: 0.224sec.\n",
      "optimization at t = 53 finished, lapse: 0.277sec.\n",
      "optimization at t = 54 finished, lapse: 0.334sec.\n",
      "optimization at t = 55 finished, lapse: 0.281sec.\n",
      "optimization at t = 56 finished, lapse: 0.254sec.\n",
      "optimization at t = 57 finished, lapse: 0.312sec.\n",
      "optimization at t = 58 finished, lapse: 0.227sec.\n",
      "optimization at t = 59 finished, lapse: 0.326sec.\n",
      "optimization at t = 60 finished, lapse: 0.302sec.\n",
      "optimization at t = 61 finished, lapse: 0.283sec.\n",
      "optimization at t = 62 finished, lapse: 0.289sec.\n",
      "optimization at t = 63 finished, lapse: 0.261sec.\n",
      "optimization at t = 64 finished, lapse: 0.362sec.\n",
      "optimization at t = 65 finished, lapse: 0.636sec.\n",
      "optimization at t = 66 finished, lapse: 0.577sec.\n",
      "optimization at t = 67 finished, lapse: 0.699sec.\n",
      "optimization at t = 68 finished, lapse: 0.532sec.\n",
      "optimization at t = 69 finished, lapse: 0.564sec.\n",
      "optimization at t = 70 finished, lapse: 0.381sec.\n",
      "optimization at t = 71 finished, lapse: 0.626sec.\n",
      "optimization at t = 72 finished, lapse: 0.545sec.\n",
      "optimization at t = 73 finished, lapse: 0.453sec.\n",
      "optimization at t = 74 finished, lapse: 0.571sec.\n",
      "optimization at t = 75 finished, lapse: 0.574sec.\n",
      "optimization at t = 76 finished, lapse: 0.596sec.\n",
      "optimization at t = 77 finished, lapse: 0.514sec.\n",
      "optimization at t = 78 finished, lapse: 0.818sec.\n",
      "optimization at t = 79 finished, lapse: 1.532sec.\n",
      "optimization at t = 80 finished, lapse: 1.193sec.\n",
      "optimization at t = 81 finished, lapse: 0.714sec.\n",
      "optimization at t = 82 finished, lapse: 0.483sec.\n",
      "optimization at t = 83 finished, lapse: 0.851sec.\n",
      "optimization at t = 84 finished, lapse: 0.610sec.\n",
      "optimization at t = 85 finished, lapse: 0.690sec.\n",
      "optimization at t = 86 finished, lapse: 0.640sec.\n",
      "optimization at t = 87 finished, lapse: 0.839sec.\n",
      "optimization at t = 88 finished, lapse: 0.617sec.\n",
      "optimization at t = 89 finished, lapse: 0.615sec.\n",
      "optimization at t = 90 finished, lapse: 0.644sec.\n",
      "optimization at t = 91 finished, lapse: 0.789sec.\n",
      "optimization at t = 92 finished, lapse: 0.780sec.\n",
      "optimization at t = 93 finished, lapse: 0.482sec.\n",
      "optimization at t = 94 finished, lapse: 0.592sec.\n",
      "optimization at t = 95 finished, lapse: 1.192sec.\n",
      "optimization at t = 96 finished, lapse: 1.095sec.\n",
      "optimization at t = 97 finished, lapse: 0.697sec.\n",
      "optimization at t = 98 finished, lapse: 0.679sec.\n",
      "optimization at t = 99 finished, lapse: 1.209sec.\n",
      "optimization at t = 100 finished, lapse: 0.785sec.\n",
      "optimization at t = 101 finished, lapse: 1.052sec.\n",
      "optimization at t = 102 finished, lapse: 0.840sec.\n",
      "optimization at t = 103 finished, lapse: 1.051sec.\n",
      "optimization at t = 104 finished, lapse: 1001.205sec.\n",
      "optimization at t = 105 finished, lapse: 24.453sec.\n",
      "optimization at t = 106 finished, lapse: 36.845sec.\n",
      "optimization at t = 107 finished, lapse: 8.187sec.\n",
      "optimization at t = 108 finished, lapse: 2.495sec.\n",
      "optimization at t = 109 finished, lapse: 6.919sec.\n",
      "optimization at t = 110 finished, lapse: 8.580sec.\n",
      "optimization at t = 111 finished, lapse: 921.167sec.\n",
      "optimization at t = 112 finished, lapse: 11.286sec.\n",
      "optimization at t = 113 finished, lapse: 8.323sec.\n",
      "optimization at t = 114 finished, lapse: 11.598sec.\n",
      "optimization at t = 115 finished, lapse: 5.800sec.\n",
      "optimization at t = 116 finished, lapse: 4.669sec.\n",
      "optimization at t = 117 finished, lapse: 9.127sec.\n",
      "optimization at t = 118 finished, lapse: 5.032sec.\n",
      "optimization at t = 119 finished, lapse: 989.214sec.\n",
      "optimization at t = 120 finished, lapse: 5.251sec.\n",
      "optimization at t = 121 finished, lapse: 6.108sec.\n",
      "optimization at t = 122 finished, lapse: 5.467sec.\n",
      "optimization at t = 123 finished, lapse: 9.249sec.\n",
      "optimization at t = 124 finished, lapse: 928.077sec.\n",
      "optimization at t = 125 finished, lapse: 8.697sec.\n",
      "optimization at t = 126 finished, lapse: 9.486sec.\n",
      "optimization at t = 127 finished, lapse: 8.094sec.\n",
      "optimization at t = 128 finished, lapse: 952.992sec.\n",
      "optimization at t = 129 finished, lapse: 9.225sec.\n",
      "optimization at t = 130 finished, lapse: 6.782sec.\n",
      "optimization at t = 131 finished, lapse: 19.643sec.\n",
      "optimization at t = 132 finished, lapse: 12.414sec.\n",
      "optimization at t = 133 finished, lapse: 11.810sec.\n",
      "optimization at t = 134 finished, lapse: 7.307sec.\n",
      "optimization at t = 135 finished, lapse: 10.731sec.\n",
      "optimization at t = 136 finished, lapse: 8.352sec.\n",
      "optimization at t = 137 finished, lapse: 10.993sec.\n",
      "optimization at t = 138 finished, lapse: 943.908sec.\n",
      "optimization at t = 139 finished, lapse: 14.064sec.\n",
      "optimization at t = 140 finished, lapse: 17.360sec.\n",
      "optimization at t = 141 finished, lapse: 938.793sec.\n",
      "optimization at t = 142 finished, lapse: 12.405sec.\n",
      "optimization at t = 143 finished, lapse: 22.033sec.\n",
      "optimization at t = 144 finished, lapse: 4.234sec.\n",
      "optimization at t = 145 finished, lapse: 9.011sec.\n",
      "optimization at t = 146 finished, lapse: 7.208sec.\n",
      "optimization at t = 147 finished, lapse: 944.349sec.\n",
      "optimization at t = 148 finished, lapse: 976.734sec.\n",
      "optimization at t = 149 finished, lapse: 14.197sec.\n",
      "optimization at t = 150 finished, lapse: 7.185sec.\n",
      "optimization at t = 151 finished, lapse: 11.422sec.\n",
      "optimization at t = 152 finished, lapse: 15.239sec.\n",
      "optimization at t = 153 finished, lapse: 10.851sec.\n",
      "optimization at t = 154 finished, lapse: 9.156sec.\n",
      "optimization at t = 155 finished, lapse: 14.013sec.\n",
      "optimization at t = 156 finished, lapse: 7.535sec.\n",
      "optimization at t = 157 finished, lapse: 1074.157sec.\n",
      "optimization at t = 158 finished, lapse: 483.286sec.\n",
      "optimization at t = 159 finished, lapse: 22.032sec.\n",
      "optimization at t = 160 finished, lapse: 18.856sec.\n",
      "optimization at t = 161 finished, lapse: 1004.074sec.\n",
      "optimization at t = 162 finished, lapse: 13.723sec.\n"
     ]
    },
    {
     "name": "stdout",
     "output_type": "stream",
     "text": [
      "optimization at t = 163 finished, lapse: 1029.981sec.\n",
      "optimization at t = 164 finished, lapse: 15.908sec.\n",
      "optimization at t = 165 finished, lapse: 34.114sec.\n",
      "optimization at t = 166 finished, lapse: 1003.518sec.\n",
      "optimization at t = 167 finished, lapse: 21.298sec.\n",
      "optimization at t = 168 finished, lapse: 9.625sec.\n",
      "optimization at t = 169 finished, lapse: 9.750sec.\n",
      "optimization at t = 170 finished, lapse: 11.261sec.\n",
      "optimization at t = 171 finished, lapse: 9.015sec.\n",
      "optimization at t = 172 finished, lapse: 23.330sec.\n",
      "optimization at t = 173 finished, lapse: 132.665sec.\n",
      "optimization at t = 174 finished, lapse: 22.829sec.\n",
      "optimization at t = 175 finished, lapse: 518.199sec.\n",
      "optimization at t = 176 finished, lapse: 24.489sec.\n",
      "optimization at t = 177 finished, lapse: 425.015sec.\n",
      "optimization at t = 178 finished, lapse: 20.847sec.\n",
      "optimization at t = 179 finished, lapse: 2378.972sec.\n",
      "optimization at t = 180 finished, lapse: 13.309sec.\n"
     ]
    }
   ],
   "source": [
    "conf_band, theta_min, theta_max = \\\n",
    "model.confidence_I(Ae, mepi, bepi, Vepi, chi_pa,\n",
    "                    verbose=True)"
   ]
  },
  {
   "cell_type": "code",
   "execution_count": 69,
   "id": "4b796b63",
   "metadata": {},
   "outputs": [
    {
     "data": {
      "text/plain": [
       "<matplotlib.collections.PolyCollection at 0x155052650>"
      ]
     },
     "execution_count": 69,
     "metadata": {},
     "output_type": "execute_result"
    },
    {
     "data": {
      "image/png": "[encoded data removed]",
      "text/plain": [
       "<Figure size 640x480 with 1 Axes>"
      ]
     },
     "metadata": {},
     "output_type": "display_data"
    }
   ],
   "source": [
    "plt.bar(np.arange(T), I, color='grey', alpha=0.5)\n",
    "plt.plot(model.predict_I(Ae, mepi, bepi))\n",
    "plt.fill_between(np.arange(np.shape(conf_band)[0]),\n",
    "                 conf_band[:,0], conf_band[:,1], alpha=0.3)"
   ]
  },
  {
   "cell_type": "code",
   "execution_count": 70,
   "id": "dee28adc",
   "metadata": {
    "scrolled": true
   },
   "outputs": [
    {
     "name": "stdout",
     "output_type": "stream",
     "text": [
      "optimization at t = 1 finished, lapse: 0.810sec.\n",
      "optimization at t = 2 finished, lapse: 0.262sec.\n",
      "optimization at t = 3 finished, lapse: 0.226sec.\n",
      "optimization at t = 4 finished, lapse: 0.398sec.\n",
      "optimization at t = 5 finished, lapse: 0.805sec.\n",
      "optimization at t = 6 finished, lapse: 0.282sec.\n",
      "optimization at t = 7 finished, lapse: 0.438sec.\n",
      "optimization at t = 8 finished, lapse: 0.318sec.\n",
      "optimization at t = 9 finished, lapse: 0.239sec.\n",
      "optimization at t = 10 finished, lapse: 0.242sec.\n",
      "optimization at t = 11 finished, lapse: 0.197sec.\n",
      "optimization at t = 12 finished, lapse: 0.274sec.\n",
      "optimization at t = 13 finished, lapse: 0.120sec.\n",
      "optimization at t = 14 finished, lapse: 0.313sec.\n",
      "optimization at t = 15 finished, lapse: 0.128sec.\n",
      "optimization at t = 16 finished, lapse: 0.192sec.\n",
      "optimization at t = 17 finished, lapse: 0.289sec.\n",
      "optimization at t = 18 finished, lapse: 0.229sec.\n",
      "optimization at t = 19 finished, lapse: 0.137sec.\n",
      "optimization at t = 20 finished, lapse: 0.100sec.\n",
      "optimization at t = 21 finished, lapse: 0.188sec.\n",
      "optimization at t = 22 finished, lapse: 0.108sec.\n",
      "optimization at t = 23 finished, lapse: 0.192sec.\n",
      "optimization at t = 24 finished, lapse: 0.222sec.\n",
      "optimization at t = 25 finished, lapse: 0.204sec.\n",
      "optimization at t = 26 finished, lapse: 0.185sec.\n",
      "optimization at t = 27 finished, lapse: 0.147sec.\n",
      "optimization at t = 28 finished, lapse: 0.083sec.\n",
      "optimization at t = 29 finished, lapse: 0.084sec.\n",
      "optimization at t = 30 finished, lapse: 0.325sec.\n",
      "optimization at t = 31 finished, lapse: 0.097sec.\n",
      "optimization at t = 32 finished, lapse: 0.077sec.\n",
      "optimization at t = 33 finished, lapse: 0.068sec.\n",
      "optimization at t = 34 finished, lapse: 0.064sec.\n",
      "optimization at t = 35 finished, lapse: 0.123sec.\n",
      "optimization at t = 36 finished, lapse: 0.070sec.\n",
      "optimization at t = 37 finished, lapse: 0.106sec.\n",
      "optimization at t = 38 finished, lapse: 0.081sec.\n",
      "optimization at t = 39 finished, lapse: 0.208sec.\n",
      "optimization at t = 40 finished, lapse: 0.200sec.\n",
      "optimization at t = 41 finished, lapse: 0.191sec.\n",
      "optimization at t = 42 finished, lapse: 0.212sec.\n",
      "optimization at t = 43 finished, lapse: 0.229sec.\n",
      "optimization at t = 44 finished, lapse: 0.201sec.\n",
      "optimization at t = 45 finished, lapse: 0.247sec.\n",
      "optimization at t = 46 finished, lapse: 0.180sec.\n",
      "optimization at t = 47 finished, lapse: 0.293sec.\n",
      "optimization at t = 48 finished, lapse: 0.336sec.\n",
      "optimization at t = 49 finished, lapse: 0.337sec.\n",
      "optimization at t = 50 finished, lapse: 0.290sec.\n",
      "optimization at t = 51 finished, lapse: 0.208sec.\n",
      "optimization at t = 52 finished, lapse: 0.263sec.\n",
      "optimization at t = 53 finished, lapse: 0.190sec.\n",
      "optimization at t = 54 finished, lapse: 0.197sec.\n",
      "optimization at t = 55 finished, lapse: 0.206sec.\n",
      "optimization at t = 56 finished, lapse: 0.237sec.\n",
      "optimization at t = 57 finished, lapse: 0.181sec.\n",
      "optimization at t = 58 finished, lapse: 0.278sec.\n",
      "optimization at t = 59 finished, lapse: 0.237sec.\n",
      "optimization at t = 60 finished, lapse: 0.171sec.\n",
      "optimization at t = 61 finished, lapse: 0.251sec.\n",
      "optimization at t = 62 finished, lapse: 0.181sec.\n",
      "optimization at t = 63 finished, lapse: 0.186sec.\n",
      "optimization at t = 64 finished, lapse: 0.320sec.\n",
      "optimization at t = 65 finished, lapse: 0.343sec.\n",
      "optimization at t = 66 finished, lapse: 1038.079sec.\n",
      "optimization at t = 67 finished, lapse: 0.326sec.\n",
      "optimization at t = 68 finished, lapse: 0.256sec.\n",
      "optimization at t = 69 finished, lapse: 0.200sec.\n",
      "optimization at t = 70 finished, lapse: 0.343sec.\n",
      "optimization at t = 71 finished, lapse: 0.325sec.\n",
      "optimization at t = 72 finished, lapse: 0.313sec.\n",
      "optimization at t = 73 finished, lapse: 0.297sec.\n",
      "optimization at t = 74 finished, lapse: 0.252sec.\n",
      "optimization at t = 75 finished, lapse: 0.354sec.\n",
      "optimization at t = 76 finished, lapse: 0.447sec.\n",
      "optimization at t = 77 finished, lapse: 0.529sec.\n",
      "optimization at t = 78 finished, lapse: 0.367sec.\n",
      "optimization at t = 79 finished, lapse: 0.440sec.\n",
      "optimization at t = 80 finished, lapse: 0.493sec.\n",
      "optimization at t = 81 finished, lapse: 0.425sec.\n",
      "optimization at t = 82 finished, lapse: 1004.357sec.\n",
      "optimization at t = 83 finished, lapse: 0.300sec.\n",
      "optimization at t = 84 finished, lapse: 0.415sec.\n",
      "optimization at t = 85 finished, lapse: 0.308sec.\n",
      "optimization at t = 86 finished, lapse: 0.269sec.\n",
      "optimization at t = 87 finished, lapse: 0.216sec.\n",
      "optimization at t = 88 finished, lapse: 0.353sec.\n",
      "optimization at t = 89 finished, lapse: 0.239sec.\n",
      "optimization at t = 90 finished, lapse: 0.464sec.\n",
      "optimization at t = 91 finished, lapse: 0.429sec.\n",
      "optimization at t = 92 finished, lapse: 0.440sec.\n",
      "optimization at t = 93 finished, lapse: 0.479sec.\n",
      "optimization at t = 94 finished, lapse: 0.458sec.\n",
      "optimization at t = 95 finished, lapse: 0.251sec.\n",
      "optimization at t = 96 finished, lapse: 0.492sec.\n",
      "optimization at t = 97 finished, lapse: 0.415sec.\n",
      "optimization at t = 98 finished, lapse: 0.307sec.\n",
      "optimization at t = 99 finished, lapse: 0.435sec.\n",
      "optimization at t = 100 finished, lapse: 0.508sec.\n",
      "optimization at t = 101 finished, lapse: 0.542sec.\n",
      "optimization at t = 102 finished, lapse: 0.605sec.\n",
      "optimization at t = 103 finished, lapse: 0.731sec.\n",
      "optimization at t = 104 finished, lapse: 5.307sec.\n",
      "optimization at t = 105 finished, lapse: 4.160sec.\n",
      "optimization at t = 106 finished, lapse: 2.419sec.\n",
      "optimization at t = 107 finished, lapse: 3.141sec.\n",
      "optimization at t = 108 finished, lapse: 3.172sec.\n",
      "optimization at t = 109 finished, lapse: 4.228sec.\n",
      "optimization at t = 110 finished, lapse: 2.920sec.\n",
      "optimization at t = 111 finished, lapse: 3.231sec.\n",
      "optimization at t = 112 finished, lapse: 1.719sec.\n",
      "optimization at t = 113 finished, lapse: 2.830sec.\n",
      "optimization at t = 114 finished, lapse: 3.313sec.\n",
      "optimization at t = 115 finished, lapse: 1014.751sec.\n",
      "optimization at t = 116 finished, lapse: 3.080sec.\n",
      "optimization at t = 117 finished, lapse: 1.641sec.\n",
      "optimization at t = 118 finished, lapse: 6.379sec.\n",
      "optimization at t = 119 finished, lapse: 3.938sec.\n",
      "optimization at t = 120 finished, lapse: 2.636sec.\n",
      "optimization at t = 121 finished, lapse: 2.249sec.\n",
      "optimization at t = 122 finished, lapse: 3.167sec.\n",
      "optimization at t = 123 finished, lapse: 3.790sec.\n",
      "optimization at t = 124 finished, lapse: 2.681sec.\n",
      "optimization at t = 125 finished, lapse: 6.475sec.\n",
      "optimization at t = 126 finished, lapse: 3.164sec.\n",
      "optimization at t = 127 finished, lapse: 365.820sec.\n",
      "optimization at t = 128 finished, lapse: 5.436sec.\n",
      "optimization at t = 129 finished, lapse: 1.480sec.\n",
      "optimization at t = 130 finished, lapse: 1.972sec.\n",
      "optimization at t = 131 finished, lapse: 3.818sec.\n",
      "optimization at t = 132 finished, lapse: 3.771sec.\n",
      "optimization at t = 133 finished, lapse: 13.959sec.\n",
      "optimization at t = 134 finished, lapse: 1.788sec.\n",
      "optimization at t = 135 finished, lapse: 1.658sec.\n",
      "optimization at t = 136 finished, lapse: 3.241sec.\n",
      "optimization at t = 137 finished, lapse: 3.038sec.\n",
      "optimization at t = 138 finished, lapse: 1.690sec.\n",
      "optimization at t = 139 finished, lapse: 1.338sec.\n",
      "optimization at t = 140 finished, lapse: 2.858sec.\n",
      "optimization at t = 141 finished, lapse: 4.404sec.\n",
      "optimization at t = 142 finished, lapse: 7.565sec.\n",
      "optimization at t = 143 finished, lapse: 6.889sec.\n",
      "optimization at t = 144 finished, lapse: 4.927sec.\n",
      "optimization at t = 145 finished, lapse: 4.315sec.\n",
      "optimization at t = 146 finished, lapse: 3.189sec.\n",
      "optimization at t = 147 finished, lapse: 5.354sec.\n",
      "optimization at t = 148 finished, lapse: 5.315sec.\n",
      "optimization at t = 149 finished, lapse: 5.839sec.\n",
      "optimization at t = 150 finished, lapse: 9.825sec.\n",
      "optimization at t = 151 finished, lapse: 10.156sec.\n",
      "optimization at t = 152 finished, lapse: 8.359sec.\n",
      "optimization at t = 153 finished, lapse: 2.596sec.\n",
      "optimization at t = 154 finished, lapse: 6.542sec.\n",
      "optimization at t = 155 finished, lapse: 11.786sec.\n",
      "optimization at t = 156 finished, lapse: 11.012sec.\n",
      "optimization at t = 157 finished, lapse: 6.624sec.\n",
      "optimization at t = 158 finished, lapse: 10.788sec.\n",
      "optimization at t = 159 finished, lapse: 8.700sec.\n",
      "optimization at t = 160 finished, lapse: 14.785sec.\n",
      "optimization at t = 161 finished, lapse: 18.237sec.\n",
      "optimization at t = 162 finished, lapse: 16.004sec.\n",
      "optimization at t = 163 finished, lapse: 6.407sec.\n"
     ]
    },
    {
     "name": "stdout",
     "output_type": "stream",
     "text": [
      "optimization at t = 164 finished, lapse: 62.349sec.\n",
      "optimization at t = 165 finished, lapse: 62.063sec.\n",
      "optimization at t = 166 finished, lapse: 60.403sec.\n",
      "optimization at t = 167 finished, lapse: 13.526sec.\n",
      "optimization at t = 168 finished, lapse: 15.934sec.\n",
      "optimization at t = 169 finished, lapse: 8.856sec.\n",
      "optimization at t = 170 finished, lapse: 13.156sec.\n",
      "optimization at t = 171 finished, lapse: 20.632sec.\n",
      "optimization at t = 172 finished, lapse: 27.210sec.\n",
      "optimization at t = 173 finished, lapse: 13.252sec.\n",
      "optimization at t = 174 finished, lapse: 17.363sec.\n",
      "optimization at t = 175 finished, lapse: 16.836sec.\n",
      "optimization at t = 176 finished, lapse: 9.224sec.\n",
      "optimization at t = 177 finished, lapse: 16.180sec.\n",
      "optimization at t = 178 finished, lapse: 8.438sec.\n",
      "optimization at t = 179 finished, lapse: 1.829sec.\n",
      "optimization at t = 180 finished, lapse: 1.523sec.\n"
     ]
    }
   ],
   "source": [
    "conf_band, theta_min, theta_max = \\\n",
    "model.confidence_EY(Ae, mepi, bepi, Vepi, chi_pa,\n",
    "                    verbose=True)"
   ]
  },
  {
   "cell_type": "code",
   "execution_count": 71,
   "id": "94a8cacb",
   "metadata": {},
   "outputs": [
    {
     "data": {
      "text/plain": [
       "(0.0, 2000.0)"
      ]
     },
     "execution_count": 71,
     "metadata": {},
     "output_type": "execute_result"
    },
    {
     "data": {
      "image/png": "[encoded data removed]",
      "text/plain": [
       "<Figure size 640x480 with 1 Axes>"
      ]
     },
     "metadata": {},
     "output_type": "display_data"
    }
   ],
   "source": [
    "plt.bar(np.arange(T), Y, color='grey', alpha=0.5)\n",
    "plt.plot(model.predict_EY(Ae, mepi, bepi))\n",
    "plt.fill_between(np.arange(np.shape(conf_band)[0]),\n",
    "                 conf_band[:,0], conf_band[:,1], alpha=0.3)\n",
    "plt.ylim(0,2000)"
   ]
  },
  {
   "cell_type": "code",
   "execution_count": null,
   "id": "261965b0",
   "metadata": {},
   "outputs": [],
   "source": []
  }
 ],
 "metadata": {
  "kernelspec": {
   "display_name": "Python [conda env:freqepid]",
   "language": "python",
   "name": "conda-env-freqepid-py"
  },
  "language_info": {
   "codemirror_mode": {
    "name": "ipython",
    "version": 3
   },
   "file_extension": ".py",
   "mimetype": "text/x-python",
   "name": "python",
   "nbconvert_exporter": "python",
   "pygments_lexer": "ipython3",
   "version": "3.10.11"
  }
 },
 "nbformat": 4,
 "nbformat_minor": 5
}

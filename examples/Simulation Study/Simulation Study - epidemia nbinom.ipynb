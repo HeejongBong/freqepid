{
 "cells": [
  {
   "cell_type": "code",
   "execution_count": 2,
   "id": "d05c7934",
   "metadata": {},
   "outputs": [],
   "source": [
    "import os, importlib, sys, time"
   ]
  },
  {
   "cell_type": "code",
   "execution_count": 3,
   "id": "bd200c96",
   "metadata": {},
   "outputs": [],
   "source": [
    "import numpy as np\n",
    "import pandas as pd\n",
    "import matplotlib.pyplot as plt"
   ]
  },
  {
   "cell_type": "code",
   "execution_count": 4,
   "id": "293102b4",
   "metadata": {},
   "outputs": [],
   "source": [
    "import scipy.linalg as la\n",
    "import scipy.stats as stats"
   ]
  },
  {
   "cell_type": "code",
   "execution_count": 5,
   "id": "7e2046ad",
   "metadata": {},
   "outputs": [],
   "source": [
    "import freqepid"
   ]
  },
  {
   "cell_type": "code",
   "execution_count": 6,
   "id": "deacea79",
   "metadata": {},
   "outputs": [],
   "source": [
    "# %load_ext jupyternotify"
   ]
  },
  {
   "cell_type": "markdown",
   "id": "ff6ae488",
   "metadata": {},
   "source": [
    "# 1. parameters"
   ]
  },
  {
   "cell_type": "code",
   "execution_count": 7,
   "id": "8407a4af",
   "metadata": {},
   "outputs": [],
   "source": [
    "T = 120\n",
    "T0 = 40"
   ]
  },
  {
   "cell_type": "code",
   "execution_count": 8,
   "id": "c520265e",
   "metadata": {},
   "outputs": [],
   "source": [
    "GPi = np.load('data/GPi.npz')"
   ]
  },
  {
   "cell_type": "markdown",
   "id": "760c7d12",
   "metadata": {},
   "source": [
    "## observation parameters"
   ]
  },
  {
   "cell_type": "code",
   "execution_count": 9,
   "id": "ae431fed",
   "metadata": {},
   "outputs": [],
   "source": [
    "alpha = 0.01\n",
    "r_Y = 10"
   ]
  },
  {
   "cell_type": "markdown",
   "id": "bce16711",
   "metadata": {},
   "source": [
    "$$Y_t = NegBinom( \\frac{EY_t}{r_Y + EY_t}, r_Y )$$\n",
    "\n",
    "$$ EY_t = \\alpha\\sum_{s=1}^{t-1} I_s \\pi_{t-s} $$"
   ]
  },
  {
   "cell_type": "markdown",
   "id": "1e23dc89",
   "metadata": {},
   "source": [
    "## latent parameters"
   ]
  },
  {
   "cell_type": "code",
   "execution_count": 10,
   "id": "9c096ba4",
   "metadata": {},
   "outputs": [],
   "source": [
    "d = 2\n",
    "beta = np.array([0, -2.2])"
   ]
  },
  {
   "cell_type": "code",
   "execution_count": 11,
   "id": "ebd4a5fb",
   "metadata": {},
   "outputs": [],
   "source": [
    "r_I = 10\n",
    "K = 6.5"
   ]
  },
  {
   "cell_type": "markdown",
   "id": "28d46910",
   "metadata": {},
   "source": [
    "$$I_t = NegBinom( \\frac{EI_t}{r_I + EI_t}, r_I )$$\n",
    "\n",
    "$$ EI_t = R(\\bar{A}_t, \\beta) \\sum_{s=1}^{t-1} I_s g_{t-s} $$\n",
    "\n",
    "$$R(\\bar{A}_t, \\beta) = \\frac{K}{1+\\exp(- \\beta^\\top A_t)}$$"
   ]
  },
  {
   "cell_type": "markdown",
   "id": "087ed62b",
   "metadata": {},
   "source": [
    "## seed values"
   ]
  },
  {
   "cell_type": "code",
   "execution_count": 12,
   "id": "3cdc8bb3",
   "metadata": {},
   "outputs": [],
   "source": [
    "mu = np.log(100)"
   ]
  },
  {
   "cell_type": "markdown",
   "id": "0451a962",
   "metadata": {},
   "source": [
    "$$I_{[-T_0,0)} = \\exp(\\mu_0)$$"
   ]
  },
  {
   "cell_type": "markdown",
   "id": "fea372a5",
   "metadata": {},
   "source": [
    "# 2. simulation"
   ]
  },
  {
   "cell_type": "markdown",
   "id": "dcc645c4",
   "metadata": {},
   "source": [
    "## load simulation"
   ]
  },
  {
   "cell_type": "code",
   "execution_count": 13,
   "id": "672018c5",
   "metadata": {},
   "outputs": [],
   "source": [
    "data = pd.read_feather('data/simulation_randinf.feather')"
   ]
  },
  {
   "cell_type": "code",
   "execution_count": 14,
   "id": "0af6303b",
   "metadata": {},
   "outputs": [],
   "source": [
    "data_i = data[data['sim']==0]\n",
    "A = np.stack([np.full(T, 1), data_i[\"intervention\"].to_numpy()], -1)\n",
    "R = data_i[\"R\"].to_numpy()\n",
    "EI = data_i[\"EI\"].to_numpy()\n",
    "I = data_i[\"infection\"].to_numpy()\n",
    "EY = data_i[\"EY\"].to_numpy()\n",
    "Y = data_i[\"death\"].to_numpy()"
   ]
  },
  {
   "cell_type": "code",
   "execution_count": 15,
   "id": "3f0c9201",
   "metadata": {},
   "outputs": [
    {
     "data": {
      "text/html": [
       "<div>\n",
       "<style scoped>\n",
       "    .dataframe tbody tr th:only-of-type {\n",
       "        vertical-align: middle;\n",
       "    }\n",
       "\n",
       "    .dataframe tbody tr th {\n",
       "        vertical-align: top;\n",
       "    }\n",
       "\n",
       "    .dataframe thead th {\n",
       "        text-align: right;\n",
       "    }\n",
       "</style>\n",
       "<table border=\"1\" class=\"dataframe\">\n",
       "  <thead>\n",
       "    <tr style=\"text-align: right;\">\n",
       "      <th></th>\n",
       "      <th>sim</th>\n",
       "      <th>date</th>\n",
       "      <th>R</th>\n",
       "      <th>EI</th>\n",
       "      <th>infection</th>\n",
       "      <th>EY</th>\n",
       "      <th>death</th>\n",
       "      <th>intervention</th>\n",
       "    </tr>\n",
       "  </thead>\n",
       "  <tbody>\n",
       "    <tr>\n",
       "      <th>0</th>\n",
       "      <td>0</td>\n",
       "      <td>0</td>\n",
       "      <td>3.250000</td>\n",
       "      <td>324.997762</td>\n",
       "      <td>356.0</td>\n",
       "      <td>0.956069</td>\n",
       "      <td>0</td>\n",
       "      <td>0</td>\n",
       "    </tr>\n",
       "    <tr>\n",
       "      <th>1</th>\n",
       "      <td>0</td>\n",
       "      <td>1</td>\n",
       "      <td>3.250000</td>\n",
       "      <td>340.245831</td>\n",
       "      <td>298.0</td>\n",
       "      <td>0.962543</td>\n",
       "      <td>2</td>\n",
       "      <td>0</td>\n",
       "    </tr>\n",
       "    <tr>\n",
       "      <th>2</th>\n",
       "      <td>0</td>\n",
       "      <td>2</td>\n",
       "      <td>3.250000</td>\n",
       "      <td>392.196621</td>\n",
       "      <td>409.0</td>\n",
       "      <td>0.968283</td>\n",
       "      <td>0</td>\n",
       "      <td>0</td>\n",
       "    </tr>\n",
       "    <tr>\n",
       "      <th>3</th>\n",
       "      <td>0</td>\n",
       "      <td>3</td>\n",
       "      <td>3.250000</td>\n",
       "      <td>471.047829</td>\n",
       "      <td>545.0</td>\n",
       "      <td>0.973654</td>\n",
       "      <td>1</td>\n",
       "      <td>0</td>\n",
       "    </tr>\n",
       "    <tr>\n",
       "      <th>4</th>\n",
       "      <td>0</td>\n",
       "      <td>4</td>\n",
       "      <td>3.250000</td>\n",
       "      <td>581.900998</td>\n",
       "      <td>584.0</td>\n",
       "      <td>0.979752</td>\n",
       "      <td>1</td>\n",
       "      <td>0</td>\n",
       "    </tr>\n",
       "    <tr>\n",
       "      <th>...</th>\n",
       "      <td>...</td>\n",
       "      <td>...</td>\n",
       "      <td>...</td>\n",
       "      <td>...</td>\n",
       "      <td>...</td>\n",
       "      <td>...</td>\n",
       "      <td>...</td>\n",
       "      <td>...</td>\n",
       "    </tr>\n",
       "    <tr>\n",
       "      <th>115</th>\n",
       "      <td>0</td>\n",
       "      <td>115</td>\n",
       "      <td>0.648378</td>\n",
       "      <td>371.111321</td>\n",
       "      <td>316.0</td>\n",
       "      <td>15.952502</td>\n",
       "      <td>18</td>\n",
       "      <td>1</td>\n",
       "    </tr>\n",
       "    <tr>\n",
       "      <th>116</th>\n",
       "      <td>0</td>\n",
       "      <td>116</td>\n",
       "      <td>0.648378</td>\n",
       "      <td>353.729962</td>\n",
       "      <td>301.0</td>\n",
       "      <td>15.065929</td>\n",
       "      <td>6</td>\n",
       "      <td>1</td>\n",
       "    </tr>\n",
       "    <tr>\n",
       "      <th>117</th>\n",
       "      <td>0</td>\n",
       "      <td>117</td>\n",
       "      <td>0.648378</td>\n",
       "      <td>334.027910</td>\n",
       "      <td>314.0</td>\n",
       "      <td>14.232065</td>\n",
       "      <td>22</td>\n",
       "      <td>1</td>\n",
       "    </tr>\n",
       "    <tr>\n",
       "      <th>118</th>\n",
       "      <td>0</td>\n",
       "      <td>118</td>\n",
       "      <td>0.648378</td>\n",
       "      <td>313.305734</td>\n",
       "      <td>285.0</td>\n",
       "      <td>13.440178</td>\n",
       "      <td>20</td>\n",
       "      <td>1</td>\n",
       "    </tr>\n",
       "    <tr>\n",
       "      <th>119</th>\n",
       "      <td>0</td>\n",
       "      <td>119</td>\n",
       "      <td>0.648378</td>\n",
       "      <td>293.160919</td>\n",
       "      <td>302.0</td>\n",
       "      <td>12.694121</td>\n",
       "      <td>17</td>\n",
       "      <td>1</td>\n",
       "    </tr>\n",
       "  </tbody>\n",
       "</table>\n",
       "<p>120 rows × 8 columns</p>\n",
       "</div>"
      ],
      "text/plain": [
       "     sim  date         R          EI  infection         EY  death  \\\n",
       "0      0     0  3.250000  324.997762      356.0   0.956069      0   \n",
       "1      0     1  3.250000  340.245831      298.0   0.962543      2   \n",
       "2      0     2  3.250000  392.196621      409.0   0.968283      0   \n",
       "3      0     3  3.250000  471.047829      545.0   0.973654      1   \n",
       "4      0     4  3.250000  581.900998      584.0   0.979752      1   \n",
       "..   ...   ...       ...         ...        ...        ...    ...   \n",
       "115    0   115  0.648378  371.111321      316.0  15.952502     18   \n",
       "116    0   116  0.648378  353.729962      301.0  15.065929      6   \n",
       "117    0   117  0.648378  334.027910      314.0  14.232065     22   \n",
       "118    0   118  0.648378  313.305734      285.0  13.440178     20   \n",
       "119    0   119  0.648378  293.160919      302.0  12.694121     17   \n",
       "\n",
       "     intervention  \n",
       "0               0  \n",
       "1               0  \n",
       "2               0  \n",
       "3               0  \n",
       "4               0  \n",
       "..            ...  \n",
       "115             1  \n",
       "116             1  \n",
       "117             1  \n",
       "118             1  \n",
       "119             1  \n",
       "\n",
       "[120 rows x 8 columns]"
      ]
     },
     "execution_count": 15,
     "metadata": {},
     "output_type": "execute_result"
    }
   ],
   "source": [
    "data_i"
   ]
  },
  {
   "cell_type": "markdown",
   "id": "1203153a",
   "metadata": {},
   "source": [
    "# 3. fit by coordinate descent method"
   ]
  },
  {
   "cell_type": "code",
   "execution_count": 16,
   "id": "bc326d12",
   "metadata": {},
   "outputs": [],
   "source": [
    "model = freqepid.Model(GPi['g'], GPi['pi'], alpha, K, T0, 'nbinom')"
   ]
  },
  {
   "cell_type": "code",
   "execution_count": 17,
   "id": "167be9d6",
   "metadata": {},
   "outputs": [],
   "source": [
    "result = pd.read_feather('result_epidemia_nbinom_randinf.feather')"
   ]
  },
  {
   "cell_type": "code",
   "execution_count": 18,
   "id": "e02ff3cf",
   "metadata": {},
   "outputs": [
    {
     "data": {
      "text/html": [
       "<div>\n",
       "<style scoped>\n",
       "    .dataframe tbody tr th:only-of-type {\n",
       "        vertical-align: middle;\n",
       "    }\n",
       "\n",
       "    .dataframe tbody tr th {\n",
       "        vertical-align: top;\n",
       "    }\n",
       "\n",
       "    .dataframe thead th {\n",
       "        text-align: right;\n",
       "    }\n",
       "</style>\n",
       "<table border=\"1\" class=\"dataframe\">\n",
       "  <thead>\n",
       "    <tr style=\"text-align: right;\">\n",
       "      <th></th>\n",
       "      <th>R|(Intercept)</th>\n",
       "      <th>R|intervention</th>\n",
       "      <th>death|(Intercept)</th>\n",
       "      <th>seeds[1]</th>\n",
       "    </tr>\n",
       "  </thead>\n",
       "  <tbody>\n",
       "    <tr>\n",
       "      <th>0</th>\n",
       "      <td>-0.110035</td>\n",
       "      <td>-2.05251</td>\n",
       "      <td>0.135270</td>\n",
       "      <td>80.7990</td>\n",
       "    </tr>\n",
       "    <tr>\n",
       "      <th>1</th>\n",
       "      <td>-0.163810</td>\n",
       "      <td>-1.99832</td>\n",
       "      <td>-0.299005</td>\n",
       "      <td>130.0500</td>\n",
       "    </tr>\n",
       "    <tr>\n",
       "      <th>2</th>\n",
       "      <td>0.000687</td>\n",
       "      <td>-2.18618</td>\n",
       "      <td>-0.156195</td>\n",
       "      <td>79.8541</td>\n",
       "    </tr>\n",
       "    <tr>\n",
       "      <th>3</th>\n",
       "      <td>-0.052178</td>\n",
       "      <td>-2.13279</td>\n",
       "      <td>-0.292111</td>\n",
       "      <td>98.0857</td>\n",
       "    </tr>\n",
       "    <tr>\n",
       "      <th>4</th>\n",
       "      <td>-0.180030</td>\n",
       "      <td>-1.98740</td>\n",
       "      <td>-0.100121</td>\n",
       "      <td>121.3900</td>\n",
       "    </tr>\n",
       "    <tr>\n",
       "      <th>...</th>\n",
       "      <td>...</td>\n",
       "      <td>...</td>\n",
       "      <td>...</td>\n",
       "      <td>...</td>\n",
       "    </tr>\n",
       "    <tr>\n",
       "      <th>995</th>\n",
       "      <td>-0.067037</td>\n",
       "      <td>-2.09992</td>\n",
       "      <td>-0.092084</td>\n",
       "      <td>85.4463</td>\n",
       "    </tr>\n",
       "    <tr>\n",
       "      <th>996</th>\n",
       "      <td>-0.042664</td>\n",
       "      <td>-2.11383</td>\n",
       "      <td>-0.230532</td>\n",
       "      <td>82.4636</td>\n",
       "    </tr>\n",
       "    <tr>\n",
       "      <th>997</th>\n",
       "      <td>-0.083346</td>\n",
       "      <td>-2.05574</td>\n",
       "      <td>-0.156393</td>\n",
       "      <td>87.3573</td>\n",
       "    </tr>\n",
       "    <tr>\n",
       "      <th>998</th>\n",
       "      <td>-0.031585</td>\n",
       "      <td>-2.15333</td>\n",
       "      <td>0.052194</td>\n",
       "      <td>74.8234</td>\n",
       "    </tr>\n",
       "    <tr>\n",
       "      <th>999</th>\n",
       "      <td>-0.102788</td>\n",
       "      <td>-2.03202</td>\n",
       "      <td>0.222473</td>\n",
       "      <td>73.3037</td>\n",
       "    </tr>\n",
       "  </tbody>\n",
       "</table>\n",
       "<p>1000 rows × 4 columns</p>\n",
       "</div>"
      ],
      "text/plain": [
       "     R|(Intercept)  R|intervention  death|(Intercept)  seeds[1]\n",
       "0        -0.110035        -2.05251           0.135270   80.7990\n",
       "1        -0.163810        -1.99832          -0.299005  130.0500\n",
       "2         0.000687        -2.18618          -0.156195   79.8541\n",
       "3        -0.052178        -2.13279          -0.292111   98.0857\n",
       "4        -0.180030        -1.98740          -0.100121  121.3900\n",
       "..             ...             ...                ...       ...\n",
       "995      -0.067037        -2.09992          -0.092084   85.4463\n",
       "996      -0.042664        -2.11383          -0.230532   82.4636\n",
       "997      -0.083346        -2.05574          -0.156393   87.3573\n",
       "998      -0.031585        -2.15333           0.052194   74.8234\n",
       "999      -0.102788        -2.03202           0.222473   73.3037\n",
       "\n",
       "[1000 rows x 4 columns]"
      ]
     },
     "execution_count": 18,
     "metadata": {},
     "output_type": "execute_result"
    }
   ],
   "source": [
    "result"
   ]
  },
  {
   "cell_type": "code",
   "execution_count": 19,
   "id": "1e8c388f",
   "metadata": {},
   "outputs": [],
   "source": [
    "bsmp = result.iloc[:,:2].to_numpy()\n",
    "msmp = np.log(result.iloc[:,3].to_numpy())"
   ]
  },
  {
   "cell_type": "code",
   "execution_count": 20,
   "id": "7ac65a7e",
   "metadata": {},
   "outputs": [],
   "source": [
    "bepi = np.mean(bsmp,0)\n",
    "mepi = np.mean(msmp)"
   ]
  },
  {
   "cell_type": "code",
   "execution_count": 21,
   "id": "d8fc4b3d",
   "metadata": {},
   "outputs": [
    {
     "data": {
      "text/plain": [
       "(4.47301922335973, array([-0.10257763, -2.05373739]))"
      ]
     },
     "execution_count": 21,
     "metadata": {},
     "output_type": "execute_result"
    }
   ],
   "source": [
    "mepi, bepi"
   ]
  },
  {
   "cell_type": "code",
   "execution_count": 22,
   "id": "f79d32a4",
   "metadata": {},
   "outputs": [],
   "source": [
    "Repi = model.predict_R(A, bepi)\n",
    "Iepi = model.predict_I(A, mepi, bepi)\n",
    "EYepi = model.predict_EY(A, mepi, bepi)"
   ]
  },
  {
   "cell_type": "markdown",
   "id": "d3e6a5d9",
   "metadata": {},
   "source": [
    "## plots"
   ]
  },
  {
   "cell_type": "code",
   "execution_count": 23,
   "id": "a5a1a227",
   "metadata": {},
   "outputs": [
    {
     "data": {
      "text/plain": [
       "[<matplotlib.lines.Line2D at 0x149f110f0>]"
      ]
     },
     "execution_count": 23,
     "metadata": {},
     "output_type": "execute_result"
    },
    {
     "data": {
      "image/png": "[encoded data removed]",
      "text/plain": [
       "<Figure size 640x480 with 1 Axes>"
      ]
     },
     "metadata": {},
     "output_type": "display_data"
    }
   ],
   "source": [
    "plt.plot(Repi)\n",
    "plt.plot(R, color='grey')"
   ]
  },
  {
   "cell_type": "code",
   "execution_count": 24,
   "id": "cbf77762",
   "metadata": {},
   "outputs": [
    {
     "data": {
      "text/plain": [
       "<BarContainer object of 120 artists>"
      ]
     },
     "execution_count": 24,
     "metadata": {},
     "output_type": "execute_result"
    },
    {
     "data": {
      "image/png": "[encoded data removed]",
      "text/plain": [
       "<Figure size 640x480 with 1 Axes>"
      ]
     },
     "metadata": {},
     "output_type": "display_data"
    }
   ],
   "source": [
    "plt.plot(Iepi)\n",
    "plt.bar(np.arange(T), I, color='grey', alpha=0.5)"
   ]
  },
  {
   "cell_type": "code",
   "execution_count": 25,
   "id": "342803f0",
   "metadata": {},
   "outputs": [
    {
     "data": {
      "text/plain": [
       "<BarContainer object of 120 artists>"
      ]
     },
     "execution_count": 25,
     "metadata": {},
     "output_type": "execute_result"
    },
    {
     "data": {
      "image/png": "[encoded data removed]",
      "text/plain": [
       "<Figure size 640x480 with 1 Axes>"
      ]
     },
     "metadata": {},
     "output_type": "display_data"
    }
   ],
   "source": [
    "plt.plot(EYepi)\n",
    "plt.bar(np.arange(T), Y, color='grey', alpha=0.5)"
   ]
  },
  {
   "cell_type": "markdown",
   "id": "6ba4e25f",
   "metadata": {},
   "source": [
    "# 4. Confidence Region"
   ]
  },
  {
   "cell_type": "code",
   "execution_count": 26,
   "id": "dd2d29cf",
   "metadata": {},
   "outputs": [],
   "source": [
    "tsmp = np.concatenate([msmp[:,None], bsmp], -1)"
   ]
  },
  {
   "cell_type": "code",
   "execution_count": 43,
   "id": "5e26af06",
   "metadata": {},
   "outputs": [],
   "source": [
    "theta = np.array([mu, *beta])\n",
    "tepi = np.mean(tsmp, 0)\n",
    "tname = [r\"$\\mu$\", r\"$\\beta_0$\", r\"$\\beta_1$\"]\n",
    "tlimit = [[3, 8], [-1, 0.5], [-3, -1]]"
   ]
  },
  {
   "cell_type": "code",
   "execution_count": 38,
   "id": "ea21a4db",
   "metadata": {},
   "outputs": [],
   "source": [
    "Vepi = np.cov(tsmp.T)"
   ]
  },
  {
   "cell_type": "code",
   "execution_count": 39,
   "id": "2443a9e0",
   "metadata": {},
   "outputs": [
    {
     "data": {
      "text/plain": [
       "array([[ 0.00433823, -0.00499257],\n",
       "       [-0.00499257,  0.00608815]])"
      ]
     },
     "execution_count": 39,
     "metadata": {},
     "output_type": "execute_result"
    }
   ],
   "source": [
    "Vepi[-2:,-2:]"
   ]
  },
  {
   "cell_type": "code",
   "execution_count": 40,
   "id": "f2286193",
   "metadata": {},
   "outputs": [],
   "source": [
    "chi_pa = freqepid.CV(d+1).chi_pa(0.05)"
   ]
  },
  {
   "cell_type": "code",
   "execution_count": 41,
   "id": "e5e03128",
   "metadata": {},
   "outputs": [
    {
     "data": {
      "text/plain": [
       "(-3.0, -1.0)"
      ]
     },
     "execution_count": 41,
     "metadata": {},
     "output_type": "execute_result"
    },
    {
     "data": {
      "image/png": "[encoded data removed]",
      "text/plain": [
       "<Figure size 500x500 with 1 Axes>"
      ]
     },
     "metadata": {},
     "output_type": "display_data"
    }
   ],
   "source": [
    "plt.figure(figsize=(5,5))\n",
    "p = plt.scatter(*tepi[-2:])\n",
    "plt.scatter(*beta)\n",
    "freqepid.confidence_ellipse(\n",
    "    tepi[-2:], Vepi[-2:,-2:], \n",
    "    n_std=chi_pa, facecolor=p.get_facecolor(), alpha=0.3)\n",
    "plt.xlim(-1, 1); plt.ylim(-3,-1)"
   ]
  },
  {
   "cell_type": "code",
   "execution_count": 45,
   "id": "ba9a1b98",
   "metadata": {},
   "outputs": [
    {
     "data": {
      "image/png": "[encoded data removed]",
      "text/plain": [
       "<Figure size 900x300 with 3 Axes>"
      ]
     },
     "metadata": {},
     "output_type": "display_data"
    }
   ],
   "source": [
    "plt.figure(figsize=(9,3))\n",
    "for i in np.arange(d+1):\n",
    "    for j in np.arange(i+1,d+1):\n",
    "        plt.subplot(1,3,i+j)\n",
    "        p = plt.scatter(tepi[j], tepi[i])\n",
    "        plt.scatter(theta[j], theta[i], color='grey')\n",
    "        freqepid.confidence_ellipse(\n",
    "            [tepi[j],tepi[i]], Vepi[np.ix_([j,i],[j,i])], \n",
    "            n_std=chi_pa, facecolor=p.get_facecolor(), alpha=0.3)\n",
    "        plt.xlabel(tname[j]); plt.ylabel(tname[i])\n",
    "        plt.xlim(tlimit[j]); plt.ylim(tlimit[i])\n",
    "plt.tight_layout()"
   ]
  },
  {
   "cell_type": "markdown",
   "id": "baf10883",
   "metadata": {},
   "source": [
    "# 5. Confidence Band"
   ]
  },
  {
   "cell_type": "code",
   "execution_count": 46,
   "id": "267d4f63",
   "metadata": {
    "scrolled": true
   },
   "outputs": [
    {
     "name": "stdout",
     "output_type": "stream",
     "text": [
      "optimization at t = 1 finished, lapse: 0.190sec.\n",
      "optimization at t = 2 finished, lapse: 0.167sec.\n",
      "optimization at t = 3 finished, lapse: 0.168sec.\n",
      "optimization at t = 4 finished, lapse: 0.168sec.\n",
      "optimization at t = 5 finished, lapse: 0.168sec.\n",
      "optimization at t = 6 finished, lapse: 0.167sec.\n",
      "optimization at t = 7 finished, lapse: 0.169sec.\n",
      "optimization at t = 8 finished, lapse: 0.166sec.\n",
      "optimization at t = 9 finished, lapse: 0.168sec.\n",
      "optimization at t = 10 finished, lapse: 0.167sec.\n",
      "optimization at t = 11 finished, lapse: 0.166sec.\n",
      "optimization at t = 12 finished, lapse: 0.166sec.\n",
      "optimization at t = 13 finished, lapse: 0.169sec.\n",
      "optimization at t = 14 finished, lapse: 0.167sec.\n",
      "optimization at t = 15 finished, lapse: 0.169sec.\n",
      "optimization at t = 16 finished, lapse: 0.166sec.\n",
      "optimization at t = 17 finished, lapse: 0.165sec.\n",
      "optimization at t = 18 finished, lapse: 0.164sec.\n",
      "optimization at t = 19 finished, lapse: 0.169sec.\n",
      "optimization at t = 20 finished, lapse: 0.167sec.\n",
      "optimization at t = 21 finished, lapse: 0.167sec.\n",
      "optimization at t = 22 finished, lapse: 0.166sec.\n",
      "optimization at t = 23 finished, lapse: 0.165sec.\n",
      "optimization at t = 24 finished, lapse: 0.167sec.\n",
      "optimization at t = 25 finished, lapse: 0.168sec.\n",
      "optimization at t = 26 finished, lapse: 0.166sec.\n",
      "optimization at t = 27 finished, lapse: 0.167sec.\n",
      "optimization at t = 28 finished, lapse: 0.165sec.\n",
      "optimization at t = 29 finished, lapse: 0.168sec.\n",
      "optimization at t = 30 finished, lapse: 0.166sec.\n",
      "optimization at t = 31 finished, lapse: 0.167sec.\n",
      "optimization at t = 32 finished, lapse: 0.078sec.\n",
      "optimization at t = 33 finished, lapse: 0.044sec.\n",
      "optimization at t = 34 finished, lapse: 0.058sec.\n",
      "optimization at t = 35 finished, lapse: 0.046sec.\n",
      "optimization at t = 36 finished, lapse: 0.059sec.\n",
      "optimization at t = 37 finished, lapse: 0.045sec.\n",
      "optimization at t = 38 finished, lapse: 0.058sec.\n",
      "optimization at t = 39 finished, lapse: 0.045sec.\n",
      "optimization at t = 40 finished, lapse: 0.059sec.\n",
      "optimization at t = 41 finished, lapse: 0.044sec.\n",
      "optimization at t = 42 finished, lapse: 0.058sec.\n",
      "optimization at t = 43 finished, lapse: 0.045sec.\n",
      "optimization at t = 44 finished, lapse: 0.061sec.\n",
      "optimization at t = 45 finished, lapse: 0.045sec.\n",
      "optimization at t = 46 finished, lapse: 0.058sec.\n",
      "optimization at t = 47 finished, lapse: 0.045sec.\n",
      "optimization at t = 48 finished, lapse: 0.061sec.\n",
      "optimization at t = 49 finished, lapse: 0.046sec.\n",
      "optimization at t = 50 finished, lapse: 0.058sec.\n",
      "optimization at t = 51 finished, lapse: 0.045sec.\n",
      "optimization at t = 52 finished, lapse: 0.060sec.\n",
      "optimization at t = 53 finished, lapse: 0.045sec.\n",
      "optimization at t = 54 finished, lapse: 0.058sec.\n",
      "optimization at t = 55 finished, lapse: 0.045sec.\n",
      "optimization at t = 56 finished, lapse: 0.060sec.\n",
      "optimization at t = 57 finished, lapse: 0.046sec.\n",
      "optimization at t = 58 finished, lapse: 0.058sec.\n",
      "optimization at t = 59 finished, lapse: 0.045sec.\n",
      "optimization at t = 60 finished, lapse: 0.060sec.\n",
      "optimization at t = 61 finished, lapse: 0.045sec.\n",
      "optimization at t = 62 finished, lapse: 0.058sec.\n",
      "optimization at t = 63 finished, lapse: 0.044sec.\n",
      "optimization at t = 64 finished, lapse: 0.060sec.\n",
      "optimization at t = 65 finished, lapse: 0.045sec.\n",
      "optimization at t = 66 finished, lapse: 0.059sec.\n",
      "optimization at t = 67 finished, lapse: 0.045sec.\n",
      "optimization at t = 68 finished, lapse: 0.059sec.\n",
      "optimization at t = 69 finished, lapse: 0.046sec.\n",
      "optimization at t = 70 finished, lapse: 0.058sec.\n",
      "optimization at t = 71 finished, lapse: 0.045sec.\n",
      "optimization at t = 72 finished, lapse: 0.057sec.\n",
      "optimization at t = 73 finished, lapse: 0.046sec.\n",
      "optimization at t = 74 finished, lapse: 0.058sec.\n",
      "optimization at t = 75 finished, lapse: 0.045sec.\n",
      "optimization at t = 76 finished, lapse: 0.058sec.\n",
      "optimization at t = 77 finished, lapse: 0.046sec.\n",
      "optimization at t = 78 finished, lapse: 0.058sec.\n",
      "optimization at t = 79 finished, lapse: 0.045sec.\n",
      "optimization at t = 80 finished, lapse: 0.058sec.\n",
      "optimization at t = 81 finished, lapse: 0.046sec.\n",
      "optimization at t = 82 finished, lapse: 0.059sec.\n",
      "optimization at t = 83 finished, lapse: 0.044sec.\n",
      "optimization at t = 84 finished, lapse: 0.058sec.\n",
      "optimization at t = 85 finished, lapse: 0.045sec.\n",
      "optimization at t = 86 finished, lapse: 0.060sec.\n",
      "optimization at t = 87 finished, lapse: 0.045sec.\n",
      "optimization at t = 88 finished, lapse: 0.058sec.\n",
      "optimization at t = 89 finished, lapse: 0.046sec.\n",
      "optimization at t = 90 finished, lapse: 0.059sec.\n",
      "optimization at t = 91 finished, lapse: 0.045sec.\n",
      "optimization at t = 92 finished, lapse: 0.057sec.\n",
      "optimization at t = 93 finished, lapse: 0.046sec.\n",
      "optimization at t = 94 finished, lapse: 0.058sec.\n",
      "optimization at t = 95 finished, lapse: 0.044sec.\n",
      "optimization at t = 96 finished, lapse: 0.058sec.\n",
      "optimization at t = 97 finished, lapse: 0.045sec.\n",
      "optimization at t = 98 finished, lapse: 0.059sec.\n",
      "optimization at t = 99 finished, lapse: 0.044sec.\n",
      "optimization at t = 100 finished, lapse: 0.058sec.\n",
      "optimization at t = 101 finished, lapse: 0.043sec.\n",
      "optimization at t = 102 finished, lapse: 0.059sec.\n",
      "optimization at t = 103 finished, lapse: 0.045sec.\n",
      "optimization at t = 104 finished, lapse: 0.058sec.\n",
      "optimization at t = 105 finished, lapse: 0.044sec.\n",
      "optimization at t = 106 finished, lapse: 0.059sec.\n",
      "optimization at t = 107 finished, lapse: 0.046sec.\n",
      "optimization at t = 108 finished, lapse: 0.058sec.\n",
      "optimization at t = 109 finished, lapse: 0.044sec.\n",
      "optimization at t = 110 finished, lapse: 0.058sec.\n",
      "optimization at t = 111 finished, lapse: 0.047sec.\n",
      "optimization at t = 112 finished, lapse: 0.058sec.\n",
      "optimization at t = 113 finished, lapse: 0.045sec.\n",
      "optimization at t = 114 finished, lapse: 0.058sec.\n",
      "optimization at t = 115 finished, lapse: 0.046sec.\n",
      "optimization at t = 116 finished, lapse: 0.060sec.\n",
      "optimization at t = 117 finished, lapse: 0.045sec.\n",
      "optimization at t = 118 finished, lapse: 0.057sec.\n",
      "optimization at t = 119 finished, lapse: 0.045sec.\n",
      "optimization at t = 120 finished, lapse: 0.059sec.\n"
     ]
    }
   ],
   "source": [
    "conf_R, beta_min, beta_max = \\\n",
    "model.confidence_R(A, bepi, Vepi[-2:,-2:], chi_pa,\n",
    "                   verbose=True)"
   ]
  },
  {
   "cell_type": "code",
   "execution_count": 48,
   "id": "e732a510",
   "metadata": {
    "scrolled": false
   },
   "outputs": [
    {
     "data": {
      "text/plain": [
       "<matplotlib.collections.PolyCollection at 0x14a79f160>"
      ]
     },
     "execution_count": 48,
     "metadata": {},
     "output_type": "execute_result"
    },
    {
     "data": {
      "image/png": "[encoded data removed]",
      "text/plain": [
       "<Figure size 640x480 with 1 Axes>"
      ]
     },
     "metadata": {},
     "output_type": "display_data"
    }
   ],
   "source": [
    "plt.plot(R, color='grey')\n",
    "plt.plot(Repi)\n",
    "plt.fill_between(np.arange(T), conf_R[:,0], conf_R[:,1], alpha=0.3)"
   ]
  },
  {
   "cell_type": "code",
   "execution_count": 50,
   "id": "148d7f49",
   "metadata": {
    "scrolled": true
   },
   "outputs": [
    {
     "name": "stdout",
     "output_type": "stream",
     "text": [
      "optimization at t = 1 finished, lapse: 0.458sec.\n",
      "optimization at t = 2 finished, lapse: 0.097sec.\n",
      "optimization at t = 3 finished, lapse: 0.172sec.\n",
      "optimization at t = 4 finished, lapse: 0.071sec.\n",
      "optimization at t = 5 finished, lapse: 0.102sec.\n",
      "optimization at t = 6 finished, lapse: 0.072sec.\n",
      "optimization at t = 7 finished, lapse: 0.129sec.\n",
      "optimization at t = 8 finished, lapse: 0.072sec.\n"
     ]
    },
    {
     "name": "stderr",
     "output_type": "stream",
     "text": [
      "/Users/blueconet/mambaforge/envs/freqepid/lib/python3.10/site-packages/scipy/optimize/_hessian_update_strategy.py:182: UserWarning: delta_grad == 0.0. Check if the approximated function is linear. If the function is linear better results can be obtained by defining the Hessian as zero instead of using quasi-Newton approximations.\n",
      "  warn('delta_grad == 0.0. Check if the approximated '\n"
     ]
    },
    {
     "name": "stdout",
     "output_type": "stream",
     "text": [
      "optimization at t = 9 finished, lapse: 0.076sec.\n",
      "optimization at t = 10 finished, lapse: 0.069sec.\n",
      "optimization at t = 11 finished, lapse: 0.104sec.\n",
      "optimization at t = 12 finished, lapse: 0.170sec.\n",
      "optimization at t = 13 finished, lapse: 0.182sec.\n",
      "optimization at t = 14 finished, lapse: 0.180sec.\n",
      "optimization at t = 15 finished, lapse: 0.177sec.\n",
      "optimization at t = 16 finished, lapse: 0.174sec.\n",
      "optimization at t = 17 finished, lapse: 0.217sec.\n",
      "optimization at t = 18 finished, lapse: 0.197sec.\n",
      "optimization at t = 19 finished, lapse: 0.241sec.\n",
      "optimization at t = 20 finished, lapse: 0.170sec.\n",
      "optimization at t = 21 finished, lapse: 0.192sec.\n",
      "optimization at t = 22 finished, lapse: 0.230sec.\n",
      "optimization at t = 23 finished, lapse: 0.250sec.\n",
      "optimization at t = 24 finished, lapse: 0.154sec.\n",
      "optimization at t = 25 finished, lapse: 0.189sec.\n",
      "optimization at t = 26 finished, lapse: 0.173sec.\n",
      "optimization at t = 27 finished, lapse: 0.202sec.\n",
      "optimization at t = 28 finished, lapse: 0.225sec.\n",
      "optimization at t = 29 finished, lapse: 0.169sec.\n",
      "optimization at t = 30 finished, lapse: 0.184sec.\n",
      "optimization at t = 31 finished, lapse: 0.253sec.\n",
      "optimization at t = 32 finished, lapse: 0.282sec.\n",
      "optimization at t = 33 finished, lapse: 0.248sec.\n",
      "optimization at t = 34 finished, lapse: 0.240sec.\n",
      "optimization at t = 35 finished, lapse: 0.588sec.\n",
      "optimization at t = 36 finished, lapse: 0.343sec.\n",
      "optimization at t = 37 finished, lapse: 0.273sec.\n",
      "optimization at t = 38 finished, lapse: 0.300sec.\n",
      "optimization at t = 39 finished, lapse: 0.290sec.\n",
      "optimization at t = 40 finished, lapse: 0.244sec.\n",
      "optimization at t = 41 finished, lapse: 0.273sec.\n",
      "optimization at t = 42 finished, lapse: 0.298sec.\n",
      "optimization at t = 43 finished, lapse: 0.306sec.\n",
      "optimization at t = 44 finished, lapse: 0.289sec.\n",
      "optimization at t = 45 finished, lapse: 0.270sec.\n",
      "optimization at t = 46 finished, lapse: 0.245sec.\n",
      "optimization at t = 47 finished, lapse: 0.307sec.\n",
      "optimization at t = 48 finished, lapse: 0.219sec.\n",
      "optimization at t = 49 finished, lapse: 0.241sec.\n",
      "optimization at t = 50 finished, lapse: 0.337sec.\n",
      "optimization at t = 51 finished, lapse: 0.286sec.\n",
      "optimization at t = 52 finished, lapse: 0.310sec.\n",
      "optimization at t = 53 finished, lapse: 0.319sec.\n",
      "optimization at t = 54 finished, lapse: 0.274sec.\n",
      "optimization at t = 55 finished, lapse: 0.349sec.\n",
      "optimization at t = 56 finished, lapse: 0.304sec.\n",
      "optimization at t = 57 finished, lapse: 0.263sec.\n",
      "optimization at t = 58 finished, lapse: 0.289sec.\n",
      "optimization at t = 59 finished, lapse: 0.352sec.\n",
      "optimization at t = 60 finished, lapse: 0.308sec.\n",
      "optimization at t = 61 finished, lapse: 0.312sec.\n",
      "optimization at t = 62 finished, lapse: 0.283sec.\n",
      "optimization at t = 63 finished, lapse: 0.306sec.\n",
      "optimization at t = 64 finished, lapse: 0.407sec.\n",
      "optimization at t = 65 finished, lapse: 0.555sec.\n",
      "optimization at t = 66 finished, lapse: 0.685sec.\n",
      "optimization at t = 67 finished, lapse: 0.614sec.\n",
      "optimization at t = 68 finished, lapse: 0.633sec.\n",
      "optimization at t = 69 finished, lapse: 0.534sec.\n",
      "optimization at t = 70 finished, lapse: 0.651sec.\n",
      "optimization at t = 71 finished, lapse: 0.683sec.\n",
      "optimization at t = 72 finished, lapse: 0.704sec.\n",
      "optimization at t = 73 finished, lapse: 0.764sec.\n",
      "optimization at t = 74 finished, lapse: 0.802sec.\n",
      "optimization at t = 75 finished, lapse: 0.813sec.\n",
      "optimization at t = 76 finished, lapse: 0.675sec.\n",
      "optimization at t = 77 finished, lapse: 0.883sec.\n",
      "optimization at t = 78 finished, lapse: 0.881sec.\n",
      "optimization at t = 79 finished, lapse: 0.823sec.\n",
      "optimization at t = 80 finished, lapse: 0.644sec.\n",
      "optimization at t = 81 finished, lapse: 0.669sec.\n",
      "optimization at t = 82 finished, lapse: 0.838sec.\n",
      "optimization at t = 83 finished, lapse: 1.202sec.\n",
      "optimization at t = 84 finished, lapse: 0.771sec.\n",
      "optimization at t = 85 finished, lapse: 0.755sec.\n",
      "optimization at t = 86 finished, lapse: 0.751sec.\n",
      "optimization at t = 87 finished, lapse: 0.681sec.\n",
      "optimization at t = 88 finished, lapse: 0.775sec.\n",
      "optimization at t = 89 finished, lapse: 0.632sec.\n",
      "optimization at t = 90 finished, lapse: 0.641sec.\n",
      "optimization at t = 91 finished, lapse: 0.675sec.\n",
      "optimization at t = 92 finished, lapse: 0.671sec.\n",
      "optimization at t = 93 finished, lapse: 1.306sec.\n",
      "optimization at t = 94 finished, lapse: 1.245sec.\n",
      "optimization at t = 95 finished, lapse: 1.841sec.\n",
      "optimization at t = 96 finished, lapse: 1.423sec.\n",
      "optimization at t = 97 finished, lapse: 0.780sec.\n",
      "optimization at t = 98 finished, lapse: 0.808sec.\n",
      "optimization at t = 99 finished, lapse: 0.862sec.\n",
      "optimization at t = 100 finished, lapse: 0.603sec.\n",
      "optimization at t = 101 finished, lapse: 0.888sec.\n",
      "optimization at t = 102 finished, lapse: 2.431sec.\n",
      "optimization at t = 103 finished, lapse: 2.607sec.\n",
      "optimization at t = 104 finished, lapse: 3.518sec.\n",
      "optimization at t = 105 finished, lapse: 3.821sec.\n",
      "optimization at t = 106 finished, lapse: 3.108sec.\n",
      "optimization at t = 107 finished, lapse: 2.986sec.\n",
      "optimization at t = 108 finished, lapse: 3.160sec.\n",
      "optimization at t = 109 finished, lapse: 3.626sec.\n",
      "optimization at t = 110 finished, lapse: 3.549sec.\n",
      "optimization at t = 111 finished, lapse: 2.351sec.\n",
      "optimization at t = 112 finished, lapse: 3.817sec.\n",
      "optimization at t = 113 finished, lapse: 3.660sec.\n",
      "optimization at t = 114 finished, lapse: 3.537sec.\n",
      "optimization at t = 115 finished, lapse: 3.328sec.\n",
      "optimization at t = 116 finished, lapse: 5.050sec.\n",
      "optimization at t = 117 finished, lapse: 4.710sec.\n",
      "optimization at t = 118 finished, lapse: 4.506sec.\n",
      "optimization at t = 119 finished, lapse: 3.004sec.\n",
      "optimization at t = 120 finished, lapse: 3.863sec.\n"
     ]
    }
   ],
   "source": [
    "conf_I, _, _ = \\\n",
    "model.confidence_I(A, mepi, bepi, Vepi[-3:,-3:], chi_pa,\n",
    "                    verbose=True)"
   ]
  },
  {
   "cell_type": "code",
   "execution_count": 55,
   "id": "42abd5de",
   "metadata": {},
   "outputs": [
    {
     "data": {
      "text/plain": [
       "<matplotlib.collections.PolyCollection at 0x14a6f41c0>"
      ]
     },
     "execution_count": 55,
     "metadata": {},
     "output_type": "execute_result"
    },
    {
     "data": {
      "image/png": "[encoded data removed]",
      "text/plain": [
       "<Figure size 400x300 with 1 Axes>"
      ]
     },
     "metadata": {},
     "output_type": "display_data"
    }
   ],
   "source": [
    "plt.figure(figsize = (4,3))\n",
    "plt.xlabel(\"time $t$\"); plt.ylabel(\"infection\")\n",
    "plt.bar(np.arange(T), I, color='C1')\n",
    "plt.plot(Iepi)\n",
    "plt.fill_between(np.arange(T), conf_I[:,0], conf_I[:,1], alpha=0.3)"
   ]
  },
  {
   "cell_type": "code",
   "execution_count": 52,
   "id": "763f663e",
   "metadata": {
    "scrolled": true
   },
   "outputs": [
    {
     "name": "stdout",
     "output_type": "stream",
     "text": [
      "optimization at t = 1 finished, lapse: 1.577sec.\n",
      "optimization at t = 2 finished, lapse: 0.346sec.\n",
      "optimization at t = 3 finished, lapse: 2.032sec.\n",
      "optimization at t = 4 finished, lapse: 1.109sec.\n",
      "optimization at t = 5 finished, lapse: 0.558sec.\n",
      "optimization at t = 6 finished, lapse: 2.760sec.\n",
      "optimization at t = 7 finished, lapse: 0.699sec.\n",
      "optimization at t = 8 finished, lapse: 0.632sec.\n",
      "optimization at t = 9 finished, lapse: 0.489sec.\n",
      "optimization at t = 10 finished, lapse: 1.383sec.\n",
      "optimization at t = 11 finished, lapse: 0.873sec.\n",
      "optimization at t = 12 finished, lapse: 0.635sec.\n",
      "optimization at t = 13 finished, lapse: 0.313sec.\n",
      "optimization at t = 14 finished, lapse: 0.387sec.\n",
      "optimization at t = 15 finished, lapse: 0.216sec.\n",
      "optimization at t = 16 finished, lapse: 0.215sec.\n",
      "optimization at t = 17 finished, lapse: 0.471sec.\n",
      "optimization at t = 18 finished, lapse: 0.372sec.\n",
      "optimization at t = 19 finished, lapse: 0.254sec.\n",
      "optimization at t = 20 finished, lapse: 0.208sec.\n",
      "optimization at t = 21 finished, lapse: 0.156sec.\n",
      "optimization at t = 22 finished, lapse: 0.171sec.\n",
      "optimization at t = 23 finished, lapse: 0.164sec.\n",
      "optimization at t = 24 finished, lapse: 0.137sec.\n",
      "optimization at t = 25 finished, lapse: 0.168sec.\n",
      "optimization at t = 26 finished, lapse: 0.098sec.\n",
      "optimization at t = 27 finished, lapse: 0.127sec.\n",
      "optimization at t = 28 finished, lapse: 0.103sec.\n",
      "optimization at t = 29 finished, lapse: 0.093sec.\n",
      "optimization at t = 30 finished, lapse: 0.136sec.\n",
      "optimization at t = 31 finished, lapse: 0.125sec.\n",
      "optimization at t = 32 finished, lapse: 0.093sec.\n",
      "optimization at t = 33 finished, lapse: 0.119sec.\n",
      "optimization at t = 34 finished, lapse: 0.143sec.\n",
      "optimization at t = 35 finished, lapse: 0.223sec.\n",
      "optimization at t = 36 finished, lapse: 0.245sec.\n",
      "optimization at t = 37 finished, lapse: 0.255sec.\n",
      "optimization at t = 38 finished, lapse: 0.325sec.\n",
      "optimization at t = 39 finished, lapse: 0.290sec.\n",
      "optimization at t = 40 finished, lapse: 0.354sec.\n",
      "optimization at t = 41 finished, lapse: 0.308sec.\n",
      "optimization at t = 42 finished, lapse: 0.290sec.\n",
      "optimization at t = 43 finished, lapse: 0.308sec.\n",
      "optimization at t = 44 finished, lapse: 0.332sec.\n",
      "optimization at t = 45 finished, lapse: 0.295sec.\n",
      "optimization at t = 46 finished, lapse: 0.316sec.\n",
      "optimization at t = 47 finished, lapse: 0.347sec.\n",
      "optimization at t = 48 finished, lapse: 0.279sec.\n",
      "optimization at t = 49 finished, lapse: 0.329sec.\n",
      "optimization at t = 50 finished, lapse: 0.304sec.\n",
      "optimization at t = 51 finished, lapse: 0.290sec.\n",
      "optimization at t = 52 finished, lapse: 0.306sec.\n",
      "optimization at t = 53 finished, lapse: 0.320sec.\n",
      "optimization at t = 54 finished, lapse: 0.276sec.\n",
      "optimization at t = 55 finished, lapse: 0.379sec.\n",
      "optimization at t = 56 finished, lapse: 0.322sec.\n",
      "optimization at t = 57 finished, lapse: 0.387sec.\n",
      "optimization at t = 58 finished, lapse: 0.353sec.\n",
      "optimization at t = 59 finished, lapse: 0.336sec.\n",
      "optimization at t = 60 finished, lapse: 0.269sec.\n",
      "optimization at t = 61 finished, lapse: 0.310sec.\n",
      "optimization at t = 62 finished, lapse: 0.298sec.\n",
      "optimization at t = 63 finished, lapse: 0.404sec.\n",
      "optimization at t = 64 finished, lapse: 0.359sec.\n",
      "optimization at t = 65 finished, lapse: 0.538sec.\n",
      "optimization at t = 66 finished, lapse: 0.980sec.\n",
      "optimization at t = 67 finished, lapse: 0.707sec.\n",
      "optimization at t = 68 finished, lapse: 0.611sec.\n",
      "optimization at t = 69 finished, lapse: 0.802sec.\n",
      "optimization at t = 70 finished, lapse: 0.505sec.\n",
      "optimization at t = 71 finished, lapse: 0.771sec.\n",
      "optimization at t = 72 finished, lapse: 0.723sec.\n",
      "optimization at t = 73 finished, lapse: 0.549sec.\n",
      "optimization at t = 74 finished, lapse: 0.649sec.\n",
      "optimization at t = 75 finished, lapse: 0.530sec.\n",
      "optimization at t = 76 finished, lapse: 0.763sec.\n",
      "optimization at t = 77 finished, lapse: 0.512sec.\n",
      "optimization at t = 78 finished, lapse: 0.723sec.\n",
      "optimization at t = 79 finished, lapse: 1.078sec.\n",
      "optimization at t = 80 finished, lapse: 0.502sec.\n",
      "optimization at t = 81 finished, lapse: 0.557sec.\n",
      "optimization at t = 82 finished, lapse: 0.778sec.\n",
      "optimization at t = 83 finished, lapse: 0.414sec.\n",
      "optimization at t = 84 finished, lapse: 0.327sec.\n",
      "optimization at t = 85 finished, lapse: 0.991sec.\n",
      "optimization at t = 86 finished, lapse: 0.585sec.\n",
      "optimization at t = 87 finished, lapse: 1.365sec.\n",
      "optimization at t = 88 finished, lapse: 0.815sec.\n",
      "optimization at t = 89 finished, lapse: 0.996sec.\n",
      "optimization at t = 90 finished, lapse: 0.867sec.\n",
      "optimization at t = 91 finished, lapse: 1.183sec.\n",
      "optimization at t = 92 finished, lapse: 0.781sec.\n",
      "optimization at t = 93 finished, lapse: 0.995sec.\n",
      "optimization at t = 94 finished, lapse: 0.782sec.\n",
      "optimization at t = 95 finished, lapse: 1.192sec.\n",
      "optimization at t = 96 finished, lapse: 0.753sec.\n",
      "optimization at t = 97 finished, lapse: 0.730sec.\n",
      "optimization at t = 98 finished, lapse: 1.337sec.\n",
      "optimization at t = 99 finished, lapse: 1.064sec.\n",
      "optimization at t = 100 finished, lapse: 1.189sec.\n",
      "optimization at t = 101 finished, lapse: 1.426sec.\n",
      "optimization at t = 102 finished, lapse: 0.580sec.\n",
      "optimization at t = 103 finished, lapse: 0.359sec.\n",
      "optimization at t = 104 finished, lapse: 1.007sec.\n",
      "optimization at t = 105 finished, lapse: 0.958sec.\n",
      "optimization at t = 106 finished, lapse: 2.133sec.\n",
      "optimization at t = 107 finished, lapse: 0.498sec.\n",
      "optimization at t = 108 finished, lapse: 0.860sec.\n",
      "optimization at t = 109 finished, lapse: 0.798sec.\n",
      "optimization at t = 110 finished, lapse: 2.384sec.\n",
      "optimization at t = 111 finished, lapse: 2.217sec.\n",
      "optimization at t = 112 finished, lapse: 1.615sec.\n",
      "optimization at t = 113 finished, lapse: 2.545sec.\n",
      "optimization at t = 114 finished, lapse: 1.531sec.\n",
      "optimization at t = 115 finished, lapse: 1.929sec.\n",
      "optimization at t = 116 finished, lapse: 1.017sec.\n",
      "optimization at t = 117 finished, lapse: 0.442sec.\n",
      "optimization at t = 118 finished, lapse: 2.033sec.\n",
      "optimization at t = 119 finished, lapse: 1.438sec.\n",
      "optimization at t = 120 finished, lapse: 1.333sec.\n"
     ]
    }
   ],
   "source": [
    "conf_EY, theta_min, theta_max = \\\n",
    "model.confidence_EY(A, mepi, bepi, Vepi[-3:,-3:], chi_pa,\n",
    "                    verbose=True)"
   ]
  },
  {
   "cell_type": "code",
   "execution_count": 56,
   "id": "c6e09b19",
   "metadata": {
    "scrolled": false
   },
   "outputs": [
    {
     "data": {
      "text/plain": [
       "<matplotlib.collections.PolyCollection at 0x14b2e64d0>"
      ]
     },
     "execution_count": 56,
     "metadata": {},
     "output_type": "execute_result"
    },
    {
     "data": {
      "image/png": "[encoded data removed]",
      "text/plain": [
       "<Figure size 400x300 with 1 Axes>"
      ]
     },
     "metadata": {},
     "output_type": "display_data"
    }
   ],
   "source": [
    "plt.figure(figsize = (4,3))\n",
    "plt.xlabel(\"time $t$\"); plt.ylabel(\"deaths\")\n",
    "plt.bar(np.arange(T), Y, color='C1')\n",
    "plt.plot(EYepi)\n",
    "plt.fill_between(np.arange(T), conf_EY[:,0], conf_EY[:,1], alpha=0.3)"
   ]
  },
  {
   "cell_type": "markdown",
   "id": "f0a4bd4e",
   "metadata": {},
   "source": [
    "# 6. Confidence Interval"
   ]
  },
  {
   "cell_type": "markdown",
   "id": "6d7a0e5e",
   "metadata": {},
   "source": [
    "## A = 1"
   ]
  },
  {
   "cell_type": "code",
   "execution_count": 42,
   "id": "fbc867e5",
   "metadata": {},
   "outputs": [],
   "source": [
    "Tf = 60\n",
    "Af = np.zeros([Tf, d])"
   ]
  },
  {
   "cell_type": "code",
   "execution_count": 43,
   "id": "6e143525",
   "metadata": {},
   "outputs": [],
   "source": [
    "Af[:,0] = np.full(Tf, 1)\n",
    "Af[:,1] = np.full(Tf, 1)"
   ]
  },
  {
   "cell_type": "code",
   "execution_count": 44,
   "id": "52109299",
   "metadata": {},
   "outputs": [],
   "source": [
    "Ae = np.concatenate([A, Af], 0)"
   ]
  },
  {
   "cell_type": "code",
   "execution_count": 46,
   "id": "9481a719",
   "metadata": {
    "scrolled": true
   },
   "outputs": [
    {
     "name": "stdout",
     "output_type": "stream",
     "text": [
      "optimization at t = 1 finished, lapse: 0.189sec.\n",
      "optimization at t = 2 finished, lapse: 0.168sec.\n",
      "optimization at t = 3 finished, lapse: 0.169sec.\n",
      "optimization at t = 4 finished, lapse: 0.169sec.\n",
      "optimization at t = 5 finished, lapse: 0.170sec.\n",
      "optimization at t = 6 finished, lapse: 0.170sec.\n",
      "optimization at t = 7 finished, lapse: 0.170sec.\n",
      "optimization at t = 8 finished, lapse: 0.170sec.\n",
      "optimization at t = 9 finished, lapse: 0.171sec.\n",
      "optimization at t = 10 finished, lapse: 0.169sec.\n",
      "optimization at t = 11 finished, lapse: 0.171sec.\n",
      "optimization at t = 12 finished, lapse: 0.171sec.\n",
      "optimization at t = 13 finished, lapse: 0.172sec.\n",
      "optimization at t = 14 finished, lapse: 0.170sec.\n",
      "optimization at t = 15 finished, lapse: 0.172sec.\n",
      "optimization at t = 16 finished, lapse: 0.170sec.\n",
      "optimization at t = 17 finished, lapse: 0.169sec.\n",
      "optimization at t = 18 finished, lapse: 0.170sec.\n",
      "optimization at t = 19 finished, lapse: 0.173sec.\n",
      "optimization at t = 20 finished, lapse: 0.169sec.\n",
      "optimization at t = 21 finished, lapse: 0.175sec.\n",
      "optimization at t = 22 finished, lapse: 0.169sec.\n",
      "optimization at t = 23 finished, lapse: 0.170sec.\n",
      "optimization at t = 24 finished, lapse: 0.175sec.\n",
      "optimization at t = 25 finished, lapse: 0.174sec.\n",
      "optimization at t = 26 finished, lapse: 0.170sec.\n",
      "optimization at t = 27 finished, lapse: 0.171sec.\n",
      "optimization at t = 28 finished, lapse: 0.169sec.\n",
      "optimization at t = 29 finished, lapse: 0.172sec.\n",
      "optimization at t = 30 finished, lapse: 0.170sec.\n",
      "optimization at t = 31 finished, lapse: 0.171sec.\n",
      "optimization at t = 32 finished, lapse: 0.082sec.\n",
      "optimization at t = 33 finished, lapse: 0.045sec.\n",
      "optimization at t = 34 finished, lapse: 0.059sec.\n",
      "optimization at t = 35 finished, lapse: 0.048sec.\n",
      "optimization at t = 36 finished, lapse: 0.061sec.\n",
      "optimization at t = 37 finished, lapse: 0.045sec.\n",
      "optimization at t = 38 finished, lapse: 0.059sec.\n",
      "optimization at t = 39 finished, lapse: 0.047sec.\n",
      "optimization at t = 40 finished, lapse: 0.060sec.\n",
      "optimization at t = 41 finished, lapse: 0.045sec.\n",
      "optimization at t = 42 finished, lapse: 0.059sec.\n",
      "optimization at t = 43 finished, lapse: 0.048sec.\n",
      "optimization at t = 44 finished, lapse: 0.059sec.\n",
      "optimization at t = 45 finished, lapse: 0.046sec.\n",
      "optimization at t = 46 finished, lapse: 0.059sec.\n",
      "optimization at t = 47 finished, lapse: 0.047sec.\n",
      "optimization at t = 48 finished, lapse: 0.060sec.\n",
      "optimization at t = 49 finished, lapse: 0.046sec.\n",
      "optimization at t = 50 finished, lapse: 0.059sec.\n",
      "optimization at t = 51 finished, lapse: 0.048sec.\n",
      "optimization at t = 52 finished, lapse: 0.061sec.\n",
      "optimization at t = 53 finished, lapse: 0.046sec.\n",
      "optimization at t = 54 finished, lapse: 0.059sec.\n",
      "optimization at t = 55 finished, lapse: 0.046sec.\n",
      "optimization at t = 56 finished, lapse: 0.061sec.\n",
      "optimization at t = 57 finished, lapse: 0.045sec.\n",
      "optimization at t = 58 finished, lapse: 0.058sec.\n",
      "optimization at t = 59 finished, lapse: 0.047sec.\n",
      "optimization at t = 60 finished, lapse: 0.060sec.\n",
      "optimization at t = 61 finished, lapse: 0.045sec.\n",
      "optimization at t = 62 finished, lapse: 0.059sec.\n",
      "optimization at t = 63 finished, lapse: 0.048sec.\n",
      "optimization at t = 64 finished, lapse: 0.060sec.\n",
      "optimization at t = 65 finished, lapse: 0.046sec.\n",
      "optimization at t = 66 finished, lapse: 0.059sec.\n",
      "optimization at t = 67 finished, lapse: 0.048sec.\n",
      "optimization at t = 68 finished, lapse: 0.060sec.\n",
      "optimization at t = 69 finished, lapse: 0.046sec.\n",
      "optimization at t = 70 finished, lapse: 0.059sec.\n",
      "optimization at t = 71 finished, lapse: 0.048sec.\n",
      "optimization at t = 72 finished, lapse: 0.059sec.\n",
      "optimization at t = 73 finished, lapse: 0.045sec.\n",
      "optimization at t = 74 finished, lapse: 0.059sec.\n",
      "optimization at t = 75 finished, lapse: 0.047sec.\n",
      "optimization at t = 76 finished, lapse: 0.061sec.\n",
      "optimization at t = 77 finished, lapse: 0.046sec.\n",
      "optimization at t = 78 finished, lapse: 0.059sec.\n",
      "optimization at t = 79 finished, lapse: 0.048sec.\n",
      "optimization at t = 80 finished, lapse: 0.060sec.\n",
      "optimization at t = 81 finished, lapse: 0.046sec.\n",
      "optimization at t = 82 finished, lapse: 0.059sec.\n",
      "optimization at t = 83 finished, lapse: 0.048sec.\n",
      "optimization at t = 84 finished, lapse: 0.060sec.\n",
      "optimization at t = 85 finished, lapse: 0.046sec.\n",
      "optimization at t = 86 finished, lapse: 0.059sec.\n",
      "optimization at t = 87 finished, lapse: 0.047sec.\n",
      "optimization at t = 88 finished, lapse: 0.059sec.\n",
      "optimization at t = 89 finished, lapse: 0.047sec.\n",
      "optimization at t = 90 finished, lapse: 0.059sec.\n",
      "optimization at t = 91 finished, lapse: 0.047sec.\n",
      "optimization at t = 92 finished, lapse: 0.060sec.\n",
      "optimization at t = 93 finished, lapse: 0.047sec.\n",
      "optimization at t = 94 finished, lapse: 0.059sec.\n",
      "optimization at t = 95 finished, lapse: 0.046sec.\n",
      "optimization at t = 96 finished, lapse: 0.060sec.\n",
      "optimization at t = 97 finished, lapse: 0.046sec.\n",
      "optimization at t = 98 finished, lapse: 0.059sec.\n",
      "optimization at t = 99 finished, lapse: 0.047sec.\n",
      "optimization at t = 100 finished, lapse: 0.060sec.\n",
      "optimization at t = 101 finished, lapse: 0.046sec.\n",
      "optimization at t = 102 finished, lapse: 0.059sec.\n",
      "optimization at t = 103 finished, lapse: 0.047sec.\n",
      "optimization at t = 104 finished, lapse: 0.059sec.\n",
      "optimization at t = 105 finished, lapse: 0.046sec.\n",
      "optimization at t = 106 finished, lapse: 0.060sec.\n",
      "optimization at t = 107 finished, lapse: 0.047sec.\n",
      "optimization at t = 108 finished, lapse: 0.060sec.\n",
      "optimization at t = 109 finished, lapse: 0.046sec.\n",
      "optimization at t = 110 finished, lapse: 0.059sec.\n",
      "optimization at t = 111 finished, lapse: 0.048sec.\n",
      "optimization at t = 112 finished, lapse: 0.060sec.\n",
      "optimization at t = 113 finished, lapse: 0.046sec.\n",
      "optimization at t = 114 finished, lapse: 0.059sec.\n",
      "optimization at t = 115 finished, lapse: 0.047sec.\n",
      "optimization at t = 116 finished, lapse: 0.059sec.\n",
      "optimization at t = 117 finished, lapse: 0.045sec.\n",
      "optimization at t = 118 finished, lapse: 0.059sec.\n",
      "optimization at t = 119 finished, lapse: 0.047sec.\n",
      "optimization at t = 120 finished, lapse: 0.060sec.\n",
      "optimization at t = 121 finished, lapse: 0.046sec.\n",
      "optimization at t = 122 finished, lapse: 0.059sec.\n",
      "optimization at t = 123 finished, lapse: 0.046sec.\n",
      "optimization at t = 124 finished, lapse: 0.061sec.\n",
      "optimization at t = 125 finished, lapse: 0.046sec.\n",
      "optimization at t = 126 finished, lapse: 0.060sec.\n",
      "optimization at t = 127 finished, lapse: 0.048sec.\n",
      "optimization at t = 128 finished, lapse: 0.060sec.\n",
      "optimization at t = 129 finished, lapse: 0.046sec.\n",
      "optimization at t = 130 finished, lapse: 0.059sec.\n",
      "optimization at t = 131 finished, lapse: 0.047sec.\n",
      "optimization at t = 132 finished, lapse: 0.060sec.\n",
      "optimization at t = 133 finished, lapse: 0.046sec.\n",
      "optimization at t = 134 finished, lapse: 0.059sec.\n",
      "optimization at t = 135 finished, lapse: 0.047sec.\n",
      "optimization at t = 136 finished, lapse: 0.059sec.\n",
      "optimization at t = 137 finished, lapse: 0.046sec.\n",
      "optimization at t = 138 finished, lapse: 0.059sec.\n",
      "optimization at t = 139 finished, lapse: 0.046sec.\n",
      "optimization at t = 140 finished, lapse: 0.060sec.\n",
      "optimization at t = 141 finished, lapse: 0.045sec.\n",
      "optimization at t = 142 finished, lapse: 0.059sec.\n",
      "optimization at t = 143 finished, lapse: 0.048sec.\n",
      "optimization at t = 144 finished, lapse: 0.060sec.\n",
      "optimization at t = 145 finished, lapse: 0.046sec.\n",
      "optimization at t = 146 finished, lapse: 0.059sec.\n",
      "optimization at t = 147 finished, lapse: 0.048sec.\n",
      "optimization at t = 148 finished, lapse: 0.060sec.\n",
      "optimization at t = 149 finished, lapse: 0.046sec.\n",
      "optimization at t = 150 finished, lapse: 0.059sec.\n",
      "optimization at t = 151 finished, lapse: 0.047sec.\n",
      "optimization at t = 152 finished, lapse: 0.060sec.\n",
      "optimization at t = 153 finished, lapse: 0.046sec.\n",
      "optimization at t = 154 finished, lapse: 0.059sec.\n",
      "optimization at t = 155 finished, lapse: 0.048sec.\n",
      "optimization at t = 156 finished, lapse: 0.060sec.\n",
      "optimization at t = 157 finished, lapse: 0.046sec.\n",
      "optimization at t = 158 finished, lapse: 0.059sec.\n",
      "optimization at t = 159 finished, lapse: 0.047sec.\n",
      "optimization at t = 160 finished, lapse: 0.060sec.\n",
      "optimization at t = 161 finished, lapse: 0.046sec.\n",
      "optimization at t = 162 finished, lapse: 0.059sec.\n",
      "optimization at t = 163 finished, lapse: 0.049sec.\n",
      "optimization at t = 164 finished, lapse: 0.061sec.\n",
      "optimization at t = 165 finished, lapse: 0.046sec.\n",
      "optimization at t = 166 finished, lapse: 0.059sec.\n"
     ]
    },
    {
     "name": "stdout",
     "output_type": "stream",
     "text": [
      "optimization at t = 167 finished, lapse: 0.048sec.\n",
      "optimization at t = 168 finished, lapse: 0.060sec.\n",
      "optimization at t = 169 finished, lapse: 0.045sec.\n",
      "optimization at t = 170 finished, lapse: 0.060sec.\n",
      "optimization at t = 171 finished, lapse: 0.046sec.\n",
      "optimization at t = 172 finished, lapse: 0.059sec.\n",
      "optimization at t = 173 finished, lapse: 0.045sec.\n",
      "optimization at t = 174 finished, lapse: 0.059sec.\n",
      "optimization at t = 175 finished, lapse: 0.048sec.\n",
      "optimization at t = 176 finished, lapse: 0.060sec.\n",
      "optimization at t = 177 finished, lapse: 0.046sec.\n",
      "optimization at t = 178 finished, lapse: 0.059sec.\n",
      "optimization at t = 179 finished, lapse: 0.048sec.\n",
      "optimization at t = 180 finished, lapse: 0.060sec.\n"
     ]
    }
   ],
   "source": [
    "conf_band, beta_min, beta_max = \\\n",
    "model.confidence_R(Ae, bepi, Vepi[-2:,-2:], chi_pa,\n",
    "                   verbose=True)"
   ]
  },
  {
   "cell_type": "code",
   "execution_count": 47,
   "id": "0bbe1d41",
   "metadata": {
    "scrolled": false
   },
   "outputs": [
    {
     "data": {
      "text/plain": [
       "<matplotlib.collections.PolyCollection at 0x13a9e7880>"
      ]
     },
     "execution_count": 47,
     "metadata": {},
     "output_type": "execute_result"
    },
    {
     "data": {
      "image/png": "[encoded data removed]",
      "text/plain": [
       "<Figure size 640x480 with 1 Axes>"
      ]
     },
     "metadata": {},
     "output_type": "display_data"
    }
   ],
   "source": [
    "plt.plot(R, color='grey')\n",
    "plt.plot(model.predict_R(Ae, bepi))\n",
    "plt.fill_between(np.arange(np.shape(conf_band)[0]),\n",
    "                 conf_band[:,0], conf_band[:,1], alpha=0.3)"
   ]
  },
  {
   "cell_type": "code",
   "execution_count": 48,
   "id": "b842e5b4",
   "metadata": {
    "scrolled": true
   },
   "outputs": [
    {
     "name": "stdout",
     "output_type": "stream",
     "text": [
      "optimization at t = 1 finished, lapse: 0.428sec.\n",
      "optimization at t = 2 finished, lapse: 0.098sec.\n",
      "optimization at t = 3 finished, lapse: 0.174sec.\n",
      "optimization at t = 4 finished, lapse: 0.073sec.\n",
      "optimization at t = 5 finished, lapse: 0.102sec.\n",
      "optimization at t = 6 finished, lapse: 0.072sec.\n",
      "optimization at t = 7 finished, lapse: 0.130sec.\n",
      "optimization at t = 8 finished, lapse: 0.072sec.\n",
      "optimization at t = 9 finished, lapse: 0.076sec.\n",
      "optimization at t = 10 finished, lapse: 0.068sec.\n",
      "optimization at t = 11 finished, lapse: 0.107sec.\n",
      "optimization at t = 12 finished, lapse: 0.172sec.\n",
      "optimization at t = 13 finished, lapse: 0.181sec.\n",
      "optimization at t = 14 finished, lapse: 0.180sec.\n",
      "optimization at t = 15 finished, lapse: 0.180sec.\n",
      "optimization at t = 16 finished, lapse: 0.174sec.\n",
      "optimization at t = 17 finished, lapse: 0.217sec.\n",
      "optimization at t = 18 finished, lapse: 0.200sec.\n",
      "optimization at t = 19 finished, lapse: 0.244sec.\n",
      "optimization at t = 20 finished, lapse: 0.172sec.\n",
      "optimization at t = 21 finished, lapse: 0.193sec.\n",
      "optimization at t = 22 finished, lapse: 0.221sec.\n",
      "optimization at t = 23 finished, lapse: 0.250sec.\n",
      "optimization at t = 24 finished, lapse: 0.156sec.\n",
      "optimization at t = 25 finished, lapse: 0.192sec.\n",
      "optimization at t = 26 finished, lapse: 0.177sec.\n",
      "optimization at t = 27 finished, lapse: 0.204sec.\n",
      "optimization at t = 28 finished, lapse: 0.228sec.\n",
      "optimization at t = 29 finished, lapse: 0.177sec.\n",
      "optimization at t = 30 finished, lapse: 0.185sec.\n",
      "optimization at t = 31 finished, lapse: 0.256sec.\n",
      "optimization at t = 32 finished, lapse: 0.280sec.\n",
      "optimization at t = 33 finished, lapse: 0.253sec.\n",
      "optimization at t = 34 finished, lapse: 0.244sec.\n",
      "optimization at t = 35 finished, lapse: 0.594sec.\n",
      "optimization at t = 36 finished, lapse: 0.350sec.\n",
      "optimization at t = 37 finished, lapse: 0.277sec.\n",
      "optimization at t = 38 finished, lapse: 0.301sec.\n",
      "optimization at t = 39 finished, lapse: 0.294sec.\n",
      "optimization at t = 40 finished, lapse: 0.251sec.\n",
      "optimization at t = 41 finished, lapse: 0.280sec.\n",
      "optimization at t = 42 finished, lapse: 0.301sec.\n",
      "optimization at t = 43 finished, lapse: 0.309sec.\n",
      "optimization at t = 44 finished, lapse: 0.290sec.\n",
      "optimization at t = 45 finished, lapse: 0.274sec.\n",
      "optimization at t = 46 finished, lapse: 0.246sec.\n",
      "optimization at t = 47 finished, lapse: 0.314sec.\n",
      "optimization at t = 48 finished, lapse: 0.221sec.\n",
      "optimization at t = 49 finished, lapse: 0.247sec.\n",
      "optimization at t = 50 finished, lapse: 0.343sec.\n",
      "optimization at t = 51 finished, lapse: 0.291sec.\n",
      "optimization at t = 52 finished, lapse: 0.315sec.\n",
      "optimization at t = 53 finished, lapse: 0.320sec.\n",
      "optimization at t = 54 finished, lapse: 0.277sec.\n",
      "optimization at t = 55 finished, lapse: 0.354sec.\n",
      "optimization at t = 56 finished, lapse: 0.308sec.\n",
      "optimization at t = 57 finished, lapse: 0.266sec.\n",
      "optimization at t = 58 finished, lapse: 0.294sec.\n",
      "optimization at t = 59 finished, lapse: 0.356sec.\n",
      "optimization at t = 60 finished, lapse: 0.313sec.\n",
      "optimization at t = 61 finished, lapse: 0.319sec.\n",
      "optimization at t = 62 finished, lapse: 0.287sec.\n",
      "optimization at t = 63 finished, lapse: 0.313sec.\n",
      "optimization at t = 64 finished, lapse: 0.415sec.\n",
      "optimization at t = 65 finished, lapse: 0.565sec.\n",
      "optimization at t = 66 finished, lapse: 0.686sec.\n",
      "optimization at t = 67 finished, lapse: 0.616sec.\n",
      "optimization at t = 68 finished, lapse: 0.635sec.\n",
      "optimization at t = 69 finished, lapse: 0.531sec.\n",
      "optimization at t = 70 finished, lapse: 0.652sec.\n",
      "optimization at t = 71 finished, lapse: 0.695sec.\n",
      "optimization at t = 72 finished, lapse: 0.703sec.\n",
      "optimization at t = 73 finished, lapse: 0.778sec.\n",
      "optimization at t = 74 finished, lapse: 0.804sec.\n",
      "optimization at t = 75 finished, lapse: 0.813sec.\n",
      "optimization at t = 76 finished, lapse: 0.688sec.\n",
      "optimization at t = 77 finished, lapse: 0.885sec.\n",
      "optimization at t = 78 finished, lapse: 0.877sec.\n",
      "optimization at t = 79 finished, lapse: 0.818sec.\n",
      "optimization at t = 80 finished, lapse: 0.651sec.\n",
      "optimization at t = 81 finished, lapse: 0.645sec.\n",
      "optimization at t = 82 finished, lapse: 0.826sec.\n",
      "optimization at t = 83 finished, lapse: 1.199sec.\n",
      "optimization at t = 84 finished, lapse: 0.769sec.\n",
      "optimization at t = 85 finished, lapse: 0.774sec.\n",
      "optimization at t = 86 finished, lapse: 0.766sec.\n",
      "optimization at t = 87 finished, lapse: 0.687sec.\n",
      "optimization at t = 88 finished, lapse: 0.779sec.\n",
      "optimization at t = 89 finished, lapse: 0.636sec.\n",
      "optimization at t = 90 finished, lapse: 0.631sec.\n",
      "optimization at t = 91 finished, lapse: 0.684sec.\n",
      "optimization at t = 92 finished, lapse: 0.682sec.\n",
      "optimization at t = 93 finished, lapse: 1.316sec.\n",
      "optimization at t = 94 finished, lapse: 1.213sec.\n",
      "optimization at t = 95 finished, lapse: 1.537sec.\n",
      "optimization at t = 96 finished, lapse: 1.181sec.\n",
      "optimization at t = 97 finished, lapse: 0.647sec.\n",
      "optimization at t = 98 finished, lapse: 0.691sec.\n",
      "optimization at t = 99 finished, lapse: 0.716sec.\n",
      "optimization at t = 100 finished, lapse: 0.504sec.\n",
      "optimization at t = 101 finished, lapse: 0.742sec.\n",
      "optimization at t = 102 finished, lapse: 1.974sec.\n",
      "optimization at t = 103 finished, lapse: 2.070sec.\n",
      "optimization at t = 104 finished, lapse: 2.733sec.\n",
      "optimization at t = 105 finished, lapse: 2.571sec.\n",
      "optimization at t = 106 finished, lapse: 2.191sec.\n",
      "optimization at t = 107 finished, lapse: 2.076sec.\n",
      "optimization at t = 108 finished, lapse: 2.204sec.\n",
      "optimization at t = 109 finished, lapse: 2.435sec.\n",
      "optimization at t = 110 finished, lapse: 1.548sec.\n",
      "optimization at t = 111 finished, lapse: 1.481sec.\n",
      "optimization at t = 112 finished, lapse: 1.757sec.\n",
      "optimization at t = 113 finished, lapse: 1.676sec.\n",
      "optimization at t = 114 finished, lapse: 1.900sec.\n",
      "optimization at t = 115 finished, lapse: 1.791sec.\n",
      "optimization at t = 116 finished, lapse: 2.158sec.\n",
      "optimization at t = 117 finished, lapse: 1.870sec.\n",
      "optimization at t = 118 finished, lapse: 2.054sec.\n",
      "optimization at t = 119 finished, lapse: 1.430sec.\n",
      "optimization at t = 120 finished, lapse: 1.701sec.\n",
      "optimization at t = 121 finished, lapse: 1.602sec.\n",
      "optimization at t = 122 finished, lapse: 1.991sec.\n",
      "optimization at t = 123 finished, lapse: 1.158sec.\n",
      "optimization at t = 124 finished, lapse: 2.208sec.\n",
      "optimization at t = 125 finished, lapse: 2.254sec.\n",
      "optimization at t = 126 finished, lapse: 2.081sec.\n",
      "optimization at t = 127 finished, lapse: 2.174sec.\n",
      "optimization at t = 128 finished, lapse: 1.344sec.\n",
      "optimization at t = 129 finished, lapse: 1.882sec.\n",
      "optimization at t = 130 finished, lapse: 1.744sec.\n",
      "optimization at t = 131 finished, lapse: 1.976sec.\n",
      "optimization at t = 132 finished, lapse: 1.389sec.\n",
      "optimization at t = 133 finished, lapse: 2.084sec.\n",
      "optimization at t = 134 finished, lapse: 2.187sec.\n",
      "optimization at t = 135 finished, lapse: 1.304sec.\n",
      "optimization at t = 136 finished, lapse: 2.091sec.\n",
      "optimization at t = 137 finished, lapse: 1.949sec.\n",
      "optimization at t = 138 finished, lapse: 1.739sec.\n",
      "optimization at t = 139 finished, lapse: 1.217sec.\n",
      "optimization at t = 140 finished, lapse: 1.315sec.\n",
      "optimization at t = 141 finished, lapse: 1.549sec.\n",
      "optimization at t = 142 finished, lapse: 1.717sec.\n",
      "optimization at t = 143 finished, lapse: 0.943sec.\n",
      "optimization at t = 144 finished, lapse: 2.054sec.\n",
      "optimization at t = 145 finished, lapse: 2.207sec.\n",
      "optimization at t = 146 finished, lapse: 2.472sec.\n",
      "optimization at t = 147 finished, lapse: 2.417sec.\n",
      "optimization at t = 148 finished, lapse: 2.028sec.\n",
      "optimization at t = 149 finished, lapse: 1.496sec.\n",
      "optimization at t = 150 finished, lapse: 1.950sec.\n",
      "optimization at t = 151 finished, lapse: 1.993sec.\n",
      "optimization at t = 152 finished, lapse: 1.232sec.\n",
      "optimization at t = 153 finished, lapse: 1.367sec.\n",
      "optimization at t = 154 finished, lapse: 2.480sec.\n",
      "optimization at t = 155 finished, lapse: 1.845sec.\n",
      "optimization at t = 156 finished, lapse: 2.869sec.\n",
      "optimization at t = 157 finished, lapse: 2.370sec.\n",
      "optimization at t = 158 finished, lapse: 1.696sec.\n",
      "optimization at t = 159 finished, lapse: 1.232sec.\n",
      "optimization at t = 160 finished, lapse: 1.047sec.\n",
      "optimization at t = 161 finished, lapse: 1.155sec.\n",
      "optimization at t = 162 finished, lapse: 1.096sec.\n",
      "optimization at t = 163 finished, lapse: 0.778sec.\n"
     ]
    },
    {
     "name": "stdout",
     "output_type": "stream",
     "text": [
      "optimization at t = 164 finished, lapse: 0.639sec.\n",
      "optimization at t = 165 finished, lapse: 1.307sec.\n",
      "optimization at t = 166 finished, lapse: 1.207sec.\n",
      "optimization at t = 167 finished, lapse: 0.603sec.\n",
      "optimization at t = 168 finished, lapse: 0.584sec.\n",
      "optimization at t = 169 finished, lapse: 1.215sec.\n",
      "optimization at t = 170 finished, lapse: 0.870sec.\n",
      "optimization at t = 171 finished, lapse: 0.978sec.\n",
      "optimization at t = 172 finished, lapse: 1.025sec.\n",
      "optimization at t = 173 finished, lapse: 0.818sec.\n",
      "optimization at t = 174 finished, lapse: 1.225sec.\n",
      "optimization at t = 175 finished, lapse: 0.402sec.\n",
      "optimization at t = 176 finished, lapse: 0.428sec.\n",
      "optimization at t = 177 finished, lapse: 0.871sec.\n",
      "optimization at t = 178 finished, lapse: 0.389sec.\n",
      "optimization at t = 179 finished, lapse: 0.728sec.\n",
      "optimization at t = 180 finished, lapse: 1.169sec.\n"
     ]
    }
   ],
   "source": [
    "conf_band, theta_min, theta_max = \\\n",
    "model.confidence_I(Ae, mepi, bepi, Vepi, chi_pa,\n",
    "                    verbose=True)"
   ]
  },
  {
   "cell_type": "code",
   "execution_count": 49,
   "id": "f6e076c6",
   "metadata": {},
   "outputs": [
    {
     "data": {
      "text/plain": [
       "<matplotlib.collections.PolyCollection at 0x13aa86410>"
      ]
     },
     "execution_count": 49,
     "metadata": {},
     "output_type": "execute_result"
    },
    {
     "data": {
      "image/png": "[encoded data removed]",
      "text/plain": [
       "<Figure size 640x480 with 1 Axes>"
      ]
     },
     "metadata": {},
     "output_type": "display_data"
    }
   ],
   "source": [
    "plt.bar(np.arange(T), I, color='grey', alpha=0.5)\n",
    "plt.plot(model.predict_I(Ae, mepi, bepi))\n",
    "plt.fill_between(np.arange(np.shape(conf_band)[0]),\n",
    "                 conf_band[:,0], conf_band[:,1], alpha=0.3)"
   ]
  },
  {
   "cell_type": "code",
   "execution_count": 50,
   "id": "fddc8736",
   "metadata": {
    "scrolled": true
   },
   "outputs": [
    {
     "name": "stdout",
     "output_type": "stream",
     "text": [
      "optimization at t = 1 finished, lapse: 1.218sec.\n",
      "optimization at t = 2 finished, lapse: 0.265sec.\n",
      "optimization at t = 3 finished, lapse: 1.533sec.\n",
      "optimization at t = 4 finished, lapse: 0.827sec.\n",
      "optimization at t = 5 finished, lapse: 0.420sec.\n",
      "optimization at t = 6 finished, lapse: 1.631sec.\n",
      "optimization at t = 7 finished, lapse: 0.366sec.\n",
      "optimization at t = 8 finished, lapse: 0.350sec.\n",
      "optimization at t = 9 finished, lapse: 0.262sec.\n",
      "optimization at t = 10 finished, lapse: 0.525sec.\n",
      "optimization at t = 11 finished, lapse: 0.516sec.\n",
      "optimization at t = 12 finished, lapse: 0.386sec.\n",
      "optimization at t = 13 finished, lapse: 0.161sec.\n",
      "optimization at t = 14 finished, lapse: 0.197sec.\n",
      "optimization at t = 15 finished, lapse: 0.116sec.\n",
      "optimization at t = 16 finished, lapse: 0.131sec.\n",
      "optimization at t = 17 finished, lapse: 0.288sec.\n",
      "optimization at t = 18 finished, lapse: 0.204sec.\n",
      "optimization at t = 19 finished, lapse: 0.170sec.\n",
      "optimization at t = 20 finished, lapse: 0.122sec.\n",
      "optimization at t = 21 finished, lapse: 0.118sec.\n",
      "optimization at t = 22 finished, lapse: 0.108sec.\n",
      "optimization at t = 23 finished, lapse: 0.092sec.\n",
      "optimization at t = 24 finished, lapse: 0.085sec.\n",
      "optimization at t = 25 finished, lapse: 0.091sec.\n",
      "optimization at t = 26 finished, lapse: 0.072sec.\n",
      "optimization at t = 27 finished, lapse: 0.076sec.\n",
      "optimization at t = 28 finished, lapse: 0.061sec.\n",
      "optimization at t = 29 finished, lapse: 0.064sec.\n",
      "optimization at t = 30 finished, lapse: 0.068sec.\n",
      "optimization at t = 31 finished, lapse: 0.068sec.\n",
      "optimization at t = 32 finished, lapse: 0.063sec.\n",
      "optimization at t = 33 finished, lapse: 0.064sec.\n",
      "optimization at t = 34 finished, lapse: 0.069sec.\n",
      "optimization at t = 35 finished, lapse: 0.126sec.\n",
      "optimization at t = 36 finished, lapse: 0.151sec.\n",
      "optimization at t = 37 finished, lapse: 0.155sec.\n",
      "optimization at t = 38 finished, lapse: 0.184sec.\n",
      "optimization at t = 39 finished, lapse: 0.186sec.\n",
      "optimization at t = 40 finished, lapse: 0.205sec.\n",
      "optimization at t = 41 finished, lapse: 0.174sec.\n",
      "optimization at t = 42 finished, lapse: 0.169sec.\n",
      "optimization at t = 43 finished, lapse: 0.187sec.\n",
      "optimization at t = 44 finished, lapse: 0.207sec.\n",
      "optimization at t = 45 finished, lapse: 0.175sec.\n",
      "optimization at t = 46 finished, lapse: 0.178sec.\n",
      "optimization at t = 47 finished, lapse: 0.189sec.\n",
      "optimization at t = 48 finished, lapse: 0.144sec.\n",
      "optimization at t = 49 finished, lapse: 0.186sec.\n",
      "optimization at t = 50 finished, lapse: 0.180sec.\n",
      "optimization at t = 51 finished, lapse: 0.217sec.\n",
      "optimization at t = 52 finished, lapse: 0.188sec.\n",
      "optimization at t = 53 finished, lapse: 0.194sec.\n",
      "optimization at t = 54 finished, lapse: 0.167sec.\n",
      "optimization at t = 55 finished, lapse: 0.190sec.\n",
      "optimization at t = 56 finished, lapse: 0.181sec.\n",
      "optimization at t = 57 finished, lapse: 0.243sec.\n",
      "optimization at t = 58 finished, lapse: 0.245sec.\n",
      "optimization at t = 59 finished, lapse: 0.197sec.\n",
      "optimization at t = 60 finished, lapse: 0.182sec.\n",
      "optimization at t = 61 finished, lapse: 0.172sec.\n",
      "optimization at t = 62 finished, lapse: 0.196sec.\n",
      "optimization at t = 63 finished, lapse: 0.235sec.\n",
      "optimization at t = 64 finished, lapse: 0.192sec.\n",
      "optimization at t = 65 finished, lapse: 0.235sec.\n",
      "optimization at t = 66 finished, lapse: 0.437sec.\n",
      "optimization at t = 67 finished, lapse: 0.319sec.\n",
      "optimization at t = 68 finished, lapse: 0.296sec.\n",
      "optimization at t = 69 finished, lapse: 0.418sec.\n",
      "optimization at t = 70 finished, lapse: 0.340sec.\n",
      "optimization at t = 71 finished, lapse: 0.380sec.\n",
      "optimization at t = 72 finished, lapse: 0.379sec.\n",
      "optimization at t = 73 finished, lapse: 0.283sec.\n",
      "optimization at t = 74 finished, lapse: 0.361sec.\n",
      "optimization at t = 75 finished, lapse: 0.265sec.\n",
      "optimization at t = 76 finished, lapse: 0.405sec.\n",
      "optimization at t = 77 finished, lapse: 0.297sec.\n",
      "optimization at t = 78 finished, lapse: 0.404sec.\n",
      "optimization at t = 79 finished, lapse: 0.483sec.\n",
      "optimization at t = 80 finished, lapse: 0.276sec.\n",
      "optimization at t = 81 finished, lapse: 0.288sec.\n",
      "optimization at t = 82 finished, lapse: 0.400sec.\n",
      "optimization at t = 83 finished, lapse: 0.191sec.\n",
      "optimization at t = 84 finished, lapse: 0.163sec.\n",
      "optimization at t = 85 finished, lapse: 0.409sec.\n",
      "optimization at t = 86 finished, lapse: 0.268sec.\n",
      "optimization at t = 87 finished, lapse: 0.490sec.\n",
      "optimization at t = 88 finished, lapse: 0.360sec.\n",
      "optimization at t = 89 finished, lapse: 0.507sec.\n",
      "optimization at t = 90 finished, lapse: 0.380sec.\n",
      "optimization at t = 91 finished, lapse: 0.551sec.\n",
      "optimization at t = 92 finished, lapse: 0.350sec.\n",
      "optimization at t = 93 finished, lapse: 0.490sec.\n",
      "optimization at t = 94 finished, lapse: 0.371sec.\n",
      "optimization at t = 95 finished, lapse: 0.570sec.\n",
      "optimization at t = 96 finished, lapse: 0.379sec.\n",
      "optimization at t = 97 finished, lapse: 0.272sec.\n",
      "optimization at t = 98 finished, lapse: 0.464sec.\n",
      "optimization at t = 99 finished, lapse: 0.454sec.\n",
      "optimization at t = 100 finished, lapse: 0.449sec.\n",
      "optimization at t = 101 finished, lapse: 0.727sec.\n",
      "optimization at t = 102 finished, lapse: 0.296sec.\n",
      "optimization at t = 103 finished, lapse: 0.204sec.\n",
      "optimization at t = 104 finished, lapse: 0.254sec.\n",
      "optimization at t = 105 finished, lapse: 0.255sec.\n",
      "optimization at t = 106 finished, lapse: 0.504sec.\n",
      "optimization at t = 107 finished, lapse: 0.222sec.\n",
      "optimization at t = 108 finished, lapse: 0.259sec.\n",
      "optimization at t = 109 finished, lapse: 0.264sec.\n",
      "optimization at t = 110 finished, lapse: 0.424sec.\n",
      "optimization at t = 111 finished, lapse: 0.489sec.\n",
      "optimization at t = 112 finished, lapse: 0.411sec.\n",
      "optimization at t = 113 finished, lapse: 0.612sec.\n",
      "optimization at t = 114 finished, lapse: 0.313sec.\n",
      "optimization at t = 115 finished, lapse: 0.538sec.\n",
      "optimization at t = 116 finished, lapse: 0.606sec.\n",
      "optimization at t = 117 finished, lapse: 0.260sec.\n",
      "optimization at t = 118 finished, lapse: 1.371sec.\n",
      "optimization at t = 119 finished, lapse: 0.959sec.\n",
      "optimization at t = 120 finished, lapse: 0.760sec.\n",
      "optimization at t = 121 finished, lapse: 1.538sec.\n",
      "optimization at t = 122 finished, lapse: 1.328sec.\n",
      "optimization at t = 123 finished, lapse: 1.145sec.\n",
      "optimization at t = 124 finished, lapse: 0.292sec.\n",
      "optimization at t = 125 finished, lapse: 0.260sec.\n",
      "optimization at t = 126 finished, lapse: 0.326sec.\n",
      "optimization at t = 127 finished, lapse: 0.279sec.\n",
      "optimization at t = 128 finished, lapse: 0.251sec.\n",
      "optimization at t = 129 finished, lapse: 0.240sec.\n",
      "optimization at t = 130 finished, lapse: 0.688sec.\n",
      "optimization at t = 131 finished, lapse: 0.347sec.\n",
      "optimization at t = 132 finished, lapse: 0.372sec.\n",
      "optimization at t = 133 finished, lapse: 1.010sec.\n",
      "optimization at t = 134 finished, lapse: 2.114sec.\n",
      "optimization at t = 135 finished, lapse: 0.392sec.\n",
      "optimization at t = 136 finished, lapse: 0.258sec.\n",
      "optimization at t = 137 finished, lapse: 1.580sec.\n",
      "optimization at t = 138 finished, lapse: 1.382sec.\n",
      "optimization at t = 139 finished, lapse: 1.266sec.\n",
      "optimization at t = 140 finished, lapse: 0.390sec.\n",
      "optimization at t = 141 finished, lapse: 0.375sec.\n",
      "optimization at t = 142 finished, lapse: 0.825sec.\n",
      "optimization at t = 143 finished, lapse: 0.941sec.\n",
      "optimization at t = 144 finished, lapse: 0.350sec.\n",
      "optimization at t = 145 finished, lapse: 0.359sec.\n",
      "optimization at t = 146 finished, lapse: 0.414sec.\n",
      "optimization at t = 147 finished, lapse: 0.387sec.\n",
      "optimization at t = 148 finished, lapse: 0.500sec.\n",
      "optimization at t = 149 finished, lapse: 0.387sec.\n",
      "optimization at t = 150 finished, lapse: 0.288sec.\n",
      "optimization at t = 151 finished, lapse: 0.294sec.\n",
      "optimization at t = 152 finished, lapse: 0.263sec.\n",
      "optimization at t = 153 finished, lapse: 0.317sec.\n",
      "optimization at t = 154 finished, lapse: 0.431sec.\n",
      "optimization at t = 155 finished, lapse: 0.382sec.\n",
      "optimization at t = 156 finished, lapse: 0.416sec.\n",
      "optimization at t = 157 finished, lapse: 0.442sec.\n",
      "optimization at t = 158 finished, lapse: 0.485sec.\n",
      "optimization at t = 159 finished, lapse: 0.422sec.\n",
      "optimization at t = 160 finished, lapse: 0.455sec.\n",
      "optimization at t = 161 finished, lapse: 0.406sec.\n",
      "optimization at t = 162 finished, lapse: 0.457sec.\n",
      "optimization at t = 163 finished, lapse: 0.473sec.\n"
     ]
    },
    {
     "name": "stdout",
     "output_type": "stream",
     "text": [
      "optimization at t = 164 finished, lapse: 0.462sec.\n",
      "optimization at t = 165 finished, lapse: 0.552sec.\n",
      "optimization at t = 166 finished, lapse: 0.462sec.\n",
      "optimization at t = 167 finished, lapse: 0.456sec.\n",
      "optimization at t = 168 finished, lapse: 0.403sec.\n",
      "optimization at t = 169 finished, lapse: 0.513sec.\n",
      "optimization at t = 170 finished, lapse: 0.449sec.\n",
      "optimization at t = 171 finished, lapse: 0.429sec.\n",
      "optimization at t = 172 finished, lapse: 0.401sec.\n",
      "optimization at t = 173 finished, lapse: 0.394sec.\n",
      "optimization at t = 174 finished, lapse: 0.426sec.\n",
      "optimization at t = 175 finished, lapse: 0.416sec.\n",
      "optimization at t = 176 finished, lapse: 0.408sec.\n",
      "optimization at t = 177 finished, lapse: 0.488sec.\n",
      "optimization at t = 178 finished, lapse: 0.433sec.\n",
      "optimization at t = 179 finished, lapse: 0.426sec.\n",
      "optimization at t = 180 finished, lapse: 0.424sec.\n"
     ]
    }
   ],
   "source": [
    "conf_band, theta_min, theta_max = \\\n",
    "model.confidence_EY(Ae, mepi, bepi, Vepi, chi_pa,\n",
    "                    verbose=True)"
   ]
  },
  {
   "cell_type": "code",
   "execution_count": 51,
   "id": "4674fb52",
   "metadata": {},
   "outputs": [
    {
     "data": {
      "text/plain": [
       "<matplotlib.collections.PolyCollection at 0x13abdf0d0>"
      ]
     },
     "execution_count": 51,
     "metadata": {},
     "output_type": "execute_result"
    },
    {
     "data": {
      "image/png": "[encoded data removed]",
      "text/plain": [
       "<Figure size 640x480 with 1 Axes>"
      ]
     },
     "metadata": {},
     "output_type": "display_data"
    }
   ],
   "source": [
    "plt.bar(np.arange(T), Y, color='grey', alpha=0.5)\n",
    "plt.plot(model.predict_EY(Ae, mepi, bepi))\n",
    "plt.fill_between(np.arange(np.shape(conf_band)[0]),\n",
    "                 conf_band[:,0], conf_band[:,1], alpha=0.3)"
   ]
  },
  {
   "cell_type": "markdown",
   "id": "0330ed46",
   "metadata": {},
   "source": [
    "## A = 0.5"
   ]
  },
  {
   "cell_type": "code",
   "execution_count": 34,
   "id": "60e3d108",
   "metadata": {},
   "outputs": [],
   "source": [
    "Tf = 60\n",
    "Af = np.zeros([Tf, d])"
   ]
  },
  {
   "cell_type": "code",
   "execution_count": 35,
   "id": "a303f522",
   "metadata": {},
   "outputs": [],
   "source": [
    "Af[:,0] = np.full(Tf, 1)\n",
    "Af[:,1] = np.full(Tf, 0.5)"
   ]
  },
  {
   "cell_type": "code",
   "execution_count": 36,
   "id": "1117842d",
   "metadata": {},
   "outputs": [],
   "source": [
    "Ae = np.concatenate([A, Af], 0)"
   ]
  },
  {
   "cell_type": "code",
   "execution_count": 37,
   "id": "4d066cb3",
   "metadata": {
    "scrolled": true
   },
   "outputs": [
    {
     "name": "stdout",
     "output_type": "stream",
     "text": [
      "optimization at t = 1 finished, lapse: 0.173sec.\n",
      "optimization at t = 2 finished, lapse: 0.177sec.\n",
      "optimization at t = 3 finished, lapse: 0.177sec.\n",
      "optimization at t = 4 finished, lapse: 0.175sec.\n",
      "optimization at t = 5 finished, lapse: 0.178sec.\n",
      "optimization at t = 6 finished, lapse: 0.175sec.\n",
      "optimization at t = 7 finished, lapse: 0.178sec.\n",
      "optimization at t = 8 finished, lapse: 0.176sec.\n",
      "optimization at t = 9 finished, lapse: 0.174sec.\n",
      "optimization at t = 10 finished, lapse: 0.174sec.\n",
      "optimization at t = 11 finished, lapse: 0.178sec.\n",
      "optimization at t = 12 finished, lapse: 0.174sec.\n",
      "optimization at t = 13 finished, lapse: 0.175sec.\n",
      "optimization at t = 14 finished, lapse: 0.174sec.\n",
      "optimization at t = 15 finished, lapse: 0.175sec.\n",
      "optimization at t = 16 finished, lapse: 0.178sec.\n",
      "optimization at t = 17 finished, lapse: 0.176sec.\n",
      "optimization at t = 18 finished, lapse: 0.175sec.\n",
      "optimization at t = 19 finished, lapse: 0.176sec.\n",
      "optimization at t = 20 finished, lapse: 0.178sec.\n",
      "optimization at t = 21 finished, lapse: 0.258sec.\n",
      "optimization at t = 22 finished, lapse: 0.246sec.\n",
      "optimization at t = 23 finished, lapse: 0.297sec.\n",
      "optimization at t = 24 finished, lapse: 0.226sec.\n",
      "optimization at t = 25 finished, lapse: 0.248sec.\n",
      "optimization at t = 26 finished, lapse: 0.254sec.\n",
      "optimization at t = 27 finished, lapse: 0.245sec.\n",
      "optimization at t = 28 finished, lapse: 0.175sec.\n",
      "optimization at t = 29 finished, lapse: 0.175sec.\n",
      "optimization at t = 30 finished, lapse: 0.173sec.\n",
      "optimization at t = 31 finished, lapse: 0.178sec.\n",
      "optimization at t = 32 finished, lapse: 0.082sec.\n",
      "optimization at t = 33 finished, lapse: 0.047sec.\n",
      "optimization at t = 34 finished, lapse: 0.061sec.\n",
      "optimization at t = 35 finished, lapse: 0.048sec.\n",
      "optimization at t = 36 finished, lapse: 0.061sec.\n",
      "optimization at t = 37 finished, lapse: 0.047sec.\n",
      "optimization at t = 38 finished, lapse: 0.061sec.\n",
      "optimization at t = 39 finished, lapse: 0.049sec.\n",
      "optimization at t = 40 finished, lapse: 0.061sec.\n",
      "optimization at t = 41 finished, lapse: 0.047sec.\n",
      "optimization at t = 42 finished, lapse: 0.062sec.\n",
      "optimization at t = 43 finished, lapse: 0.048sec.\n",
      "optimization at t = 44 finished, lapse: 0.061sec.\n",
      "optimization at t = 45 finished, lapse: 0.047sec.\n",
      "optimization at t = 46 finished, lapse: 0.062sec.\n",
      "optimization at t = 47 finished, lapse: 0.050sec.\n",
      "optimization at t = 48 finished, lapse: 0.061sec.\n",
      "optimization at t = 49 finished, lapse: 0.047sec.\n",
      "optimization at t = 50 finished, lapse: 0.060sec.\n",
      "optimization at t = 51 finished, lapse: 0.047sec.\n",
      "optimization at t = 52 finished, lapse: 0.062sec.\n",
      "optimization at t = 53 finished, lapse: 0.047sec.\n",
      "optimization at t = 54 finished, lapse: 0.060sec.\n",
      "optimization at t = 55 finished, lapse: 0.049sec.\n",
      "optimization at t = 56 finished, lapse: 0.062sec.\n",
      "optimization at t = 57 finished, lapse: 0.047sec.\n",
      "optimization at t = 58 finished, lapse: 0.061sec.\n",
      "optimization at t = 59 finished, lapse: 0.049sec.\n",
      "optimization at t = 60 finished, lapse: 0.063sec.\n",
      "optimization at t = 61 finished, lapse: 0.047sec.\n",
      "optimization at t = 62 finished, lapse: 0.061sec.\n",
      "optimization at t = 63 finished, lapse: 0.049sec.\n",
      "optimization at t = 64 finished, lapse: 0.062sec.\n",
      "optimization at t = 65 finished, lapse: 0.047sec.\n",
      "optimization at t = 66 finished, lapse: 0.061sec.\n",
      "optimization at t = 67 finished, lapse: 0.049sec.\n",
      "optimization at t = 68 finished, lapse: 0.061sec.\n",
      "optimization at t = 69 finished, lapse: 0.049sec.\n",
      "optimization at t = 70 finished, lapse: 0.061sec.\n",
      "optimization at t = 71 finished, lapse: 0.048sec.\n",
      "optimization at t = 72 finished, lapse: 0.061sec.\n",
      "optimization at t = 73 finished, lapse: 0.047sec.\n",
      "optimization at t = 74 finished, lapse: 0.061sec.\n",
      "optimization at t = 75 finished, lapse: 0.048sec.\n",
      "optimization at t = 76 finished, lapse: 0.061sec.\n",
      "optimization at t = 77 finished, lapse: 0.047sec.\n",
      "optimization at t = 78 finished, lapse: 0.061sec.\n",
      "optimization at t = 79 finished, lapse: 0.047sec.\n",
      "optimization at t = 80 finished, lapse: 0.062sec.\n",
      "optimization at t = 81 finished, lapse: 0.047sec.\n",
      "optimization at t = 82 finished, lapse: 0.061sec.\n",
      "optimization at t = 83 finished, lapse: 0.048sec.\n",
      "optimization at t = 84 finished, lapse: 0.061sec.\n",
      "optimization at t = 85 finished, lapse: 0.047sec.\n",
      "optimization at t = 86 finished, lapse: 0.061sec.\n",
      "optimization at t = 87 finished, lapse: 0.049sec.\n",
      "optimization at t = 88 finished, lapse: 0.061sec.\n",
      "optimization at t = 89 finished, lapse: 0.047sec.\n",
      "optimization at t = 90 finished, lapse: 0.061sec.\n",
      "optimization at t = 91 finished, lapse: 0.049sec.\n",
      "optimization at t = 92 finished, lapse: 0.061sec.\n",
      "optimization at t = 93 finished, lapse: 0.047sec.\n",
      "optimization at t = 94 finished, lapse: 0.061sec.\n",
      "optimization at t = 95 finished, lapse: 0.048sec.\n",
      "optimization at t = 96 finished, lapse: 0.062sec.\n",
      "optimization at t = 97 finished, lapse: 0.047sec.\n",
      "optimization at t = 98 finished, lapse: 0.061sec.\n",
      "optimization at t = 99 finished, lapse: 0.048sec.\n",
      "optimization at t = 100 finished, lapse: 0.061sec.\n",
      "optimization at t = 101 finished, lapse: 0.047sec.\n",
      "optimization at t = 102 finished, lapse: 0.060sec.\n",
      "optimization at t = 103 finished, lapse: 0.048sec.\n",
      "optimization at t = 104 finished, lapse: 0.062sec.\n",
      "optimization at t = 105 finished, lapse: 0.047sec.\n",
      "optimization at t = 106 finished, lapse: 0.061sec.\n",
      "optimization at t = 107 finished, lapse: 0.048sec.\n",
      "optimization at t = 108 finished, lapse: 0.061sec.\n",
      "optimization at t = 109 finished, lapse: 0.046sec.\n",
      "optimization at t = 110 finished, lapse: 0.061sec.\n",
      "optimization at t = 111 finished, lapse: 0.051sec.\n",
      "optimization at t = 112 finished, lapse: 0.061sec.\n",
      "optimization at t = 113 finished, lapse: 0.046sec.\n",
      "optimization at t = 114 finished, lapse: 0.061sec.\n",
      "optimization at t = 115 finished, lapse: 0.048sec.\n",
      "optimization at t = 116 finished, lapse: 0.062sec.\n",
      "optimization at t = 117 finished, lapse: 0.047sec.\n",
      "optimization at t = 118 finished, lapse: 0.061sec.\n",
      "optimization at t = 119 finished, lapse: 0.048sec.\n",
      "optimization at t = 120 finished, lapse: 0.061sec.\n",
      "optimization at t = 121 finished, lapse: 0.129sec.\n",
      "optimization at t = 122 finished, lapse: 0.069sec.\n",
      "optimization at t = 123 finished, lapse: 0.055sec.\n",
      "optimization at t = 124 finished, lapse: 0.054sec.\n",
      "optimization at t = 125 finished, lapse: 0.054sec.\n",
      "optimization at t = 126 finished, lapse: 0.056sec.\n",
      "optimization at t = 127 finished, lapse: 0.055sec.\n",
      "optimization at t = 128 finished, lapse: 0.054sec.\n",
      "optimization at t = 129 finished, lapse: 0.054sec.\n",
      "optimization at t = 130 finished, lapse: 0.056sec.\n",
      "optimization at t = 131 finished, lapse: 0.055sec.\n",
      "optimization at t = 132 finished, lapse: 0.055sec.\n",
      "optimization at t = 133 finished, lapse: 0.054sec.\n",
      "optimization at t = 134 finished, lapse: 0.055sec.\n",
      "optimization at t = 135 finished, lapse: 0.055sec.\n",
      "optimization at t = 136 finished, lapse: 0.055sec.\n",
      "optimization at t = 137 finished, lapse: 0.054sec.\n",
      "optimization at t = 138 finished, lapse: 0.056sec.\n",
      "optimization at t = 139 finished, lapse: 0.055sec.\n",
      "optimization at t = 140 finished, lapse: 0.055sec.\n",
      "optimization at t = 141 finished, lapse: 0.054sec.\n",
      "optimization at t = 142 finished, lapse: 0.056sec.\n",
      "optimization at t = 143 finished, lapse: 0.055sec.\n",
      "optimization at t = 144 finished, lapse: 0.054sec.\n",
      "optimization at t = 145 finished, lapse: 0.054sec.\n",
      "optimization at t = 146 finished, lapse: 0.055sec.\n",
      "optimization at t = 147 finished, lapse: 0.055sec.\n",
      "optimization at t = 148 finished, lapse: 0.054sec.\n",
      "optimization at t = 149 finished, lapse: 0.055sec.\n",
      "optimization at t = 150 finished, lapse: 0.056sec.\n",
      "optimization at t = 151 finished, lapse: 0.055sec.\n",
      "optimization at t = 152 finished, lapse: 0.054sec.\n",
      "optimization at t = 153 finished, lapse: 0.054sec.\n",
      "optimization at t = 154 finished, lapse: 0.057sec.\n",
      "optimization at t = 155 finished, lapse: 0.055sec.\n",
      "optimization at t = 156 finished, lapse: 0.054sec.\n",
      "optimization at t = 157 finished, lapse: 0.054sec.\n",
      "optimization at t = 158 finished, lapse: 0.055sec.\n",
      "optimization at t = 159 finished, lapse: 0.055sec.\n",
      "optimization at t = 160 finished, lapse: 0.055sec.\n",
      "optimization at t = 161 finished, lapse: 0.054sec.\n",
      "optimization at t = 162 finished, lapse: 0.055sec.\n",
      "optimization at t = 163 finished, lapse: 0.058sec.\n",
      "optimization at t = 164 finished, lapse: 0.055sec.\n",
      "optimization at t = 165 finished, lapse: 0.055sec.\n"
     ]
    },
    {
     "name": "stdout",
     "output_type": "stream",
     "text": [
      "optimization at t = 166 finished, lapse: 0.055sec.\n",
      "optimization at t = 167 finished, lapse: 0.055sec.\n",
      "optimization at t = 168 finished, lapse: 0.054sec.\n",
      "optimization at t = 169 finished, lapse: 0.054sec.\n",
      "optimization at t = 170 finished, lapse: 0.055sec.\n",
      "optimization at t = 171 finished, lapse: 0.055sec.\n",
      "optimization at t = 172 finished, lapse: 0.054sec.\n",
      "optimization at t = 173 finished, lapse: 0.054sec.\n",
      "optimization at t = 174 finished, lapse: 0.056sec.\n",
      "optimization at t = 175 finished, lapse: 0.055sec.\n",
      "optimization at t = 176 finished, lapse: 0.054sec.\n",
      "optimization at t = 177 finished, lapse: 0.055sec.\n",
      "optimization at t = 178 finished, lapse: 0.055sec.\n",
      "optimization at t = 179 finished, lapse: 0.055sec.\n",
      "optimization at t = 180 finished, lapse: 0.054sec.\n"
     ]
    }
   ],
   "source": [
    "conf_band, beta_min, beta_max = \\\n",
    "model.confidence_R(Ae, bepi, Vepi[-2:,-2:], chi_pa,\n",
    "                   verbose=True)"
   ]
  },
  {
   "cell_type": "code",
   "execution_count": 38,
   "id": "e5eb9902",
   "metadata": {
    "scrolled": false
   },
   "outputs": [
    {
     "data": {
      "text/plain": [
       "<matplotlib.collections.PolyCollection at 0x1507d26e0>"
      ]
     },
     "execution_count": 38,
     "metadata": {},
     "output_type": "execute_result"
    },
    {
     "data": {
      "image/png": "[encoded data removed]",
      "text/plain": [
       "<Figure size 640x480 with 1 Axes>"
      ]
     },
     "metadata": {},
     "output_type": "display_data"
    }
   ],
   "source": [
    "plt.plot(R, color='grey')\n",
    "plt.plot(model.predict_R(Ae, bepi))\n",
    "plt.fill_between(np.arange(np.shape(conf_band)[0]),\n",
    "                 conf_band[:,0], conf_band[:,1], alpha=0.3)"
   ]
  },
  {
   "cell_type": "code",
   "execution_count": 39,
   "id": "28fc25d0",
   "metadata": {
    "scrolled": true
   },
   "outputs": [
    {
     "name": "stdout",
     "output_type": "stream",
     "text": [
      "optimization at t = 1 finished, lapse: 0.452sec.\n",
      "optimization at t = 2 finished, lapse: 0.101sec.\n",
      "optimization at t = 3 finished, lapse: 0.183sec.\n",
      "optimization at t = 4 finished, lapse: 0.077sec.\n",
      "optimization at t = 5 finished, lapse: 0.106sec.\n",
      "optimization at t = 6 finished, lapse: 0.073sec.\n",
      "optimization at t = 7 finished, lapse: 0.139sec.\n"
     ]
    },
    {
     "name": "stderr",
     "output_type": "stream",
     "text": [
      "/Users/blueconet/mambaforge/envs/freqepid/lib/python3.10/site-packages/scipy/optimize/_hessian_update_strategy.py:182: UserWarning: delta_grad == 0.0. Check if the approximated function is linear. If the function is linear better results can be obtained by defining the Hessian as zero instead of using quasi-Newton approximations.\n",
      "  warn('delta_grad == 0.0. Check if the approximated '\n"
     ]
    },
    {
     "name": "stdout",
     "output_type": "stream",
     "text": [
      "optimization at t = 8 finished, lapse: 0.078sec.\n",
      "optimization at t = 9 finished, lapse: 0.080sec.\n",
      "optimization at t = 10 finished, lapse: 0.072sec.\n",
      "optimization at t = 11 finished, lapse: 0.115sec.\n",
      "optimization at t = 12 finished, lapse: 0.181sec.\n",
      "optimization at t = 13 finished, lapse: 0.195sec.\n",
      "optimization at t = 14 finished, lapse: 0.190sec.\n",
      "optimization at t = 15 finished, lapse: 0.191sec.\n",
      "optimization at t = 16 finished, lapse: 0.183sec.\n",
      "optimization at t = 17 finished, lapse: 0.231sec.\n",
      "optimization at t = 18 finished, lapse: 0.213sec.\n",
      "optimization at t = 19 finished, lapse: 0.257sec.\n",
      "optimization at t = 20 finished, lapse: 0.184sec.\n",
      "optimization at t = 21 finished, lapse: 0.205sec.\n",
      "optimization at t = 22 finished, lapse: 0.232sec.\n",
      "optimization at t = 23 finished, lapse: 0.265sec.\n",
      "optimization at t = 24 finished, lapse: 0.164sec.\n",
      "optimization at t = 25 finished, lapse: 0.206sec.\n",
      "optimization at t = 26 finished, lapse: 0.183sec.\n",
      "optimization at t = 27 finished, lapse: 0.216sec.\n",
      "optimization at t = 28 finished, lapse: 0.242sec.\n",
      "optimization at t = 29 finished, lapse: 0.186sec.\n",
      "optimization at t = 30 finished, lapse: 0.194sec.\n",
      "optimization at t = 31 finished, lapse: 0.272sec.\n",
      "optimization at t = 32 finished, lapse: 0.296sec.\n",
      "optimization at t = 33 finished, lapse: 0.267sec.\n",
      "optimization at t = 34 finished, lapse: 0.255sec.\n",
      "optimization at t = 35 finished, lapse: 0.612sec.\n",
      "optimization at t = 36 finished, lapse: 0.370sec.\n",
      "optimization at t = 37 finished, lapse: 0.294sec.\n",
      "optimization at t = 38 finished, lapse: 0.321sec.\n",
      "optimization at t = 39 finished, lapse: 0.308sec.\n",
      "optimization at t = 40 finished, lapse: 0.265sec.\n",
      "optimization at t = 41 finished, lapse: 0.293sec.\n",
      "optimization at t = 42 finished, lapse: 0.322sec.\n",
      "optimization at t = 43 finished, lapse: 0.329sec.\n",
      "optimization at t = 44 finished, lapse: 0.310sec.\n",
      "optimization at t = 45 finished, lapse: 0.289sec.\n",
      "optimization at t = 46 finished, lapse: 0.259sec.\n",
      "optimization at t = 47 finished, lapse: 0.332sec.\n",
      "optimization at t = 48 finished, lapse: 0.235sec.\n",
      "optimization at t = 49 finished, lapse: 0.262sec.\n",
      "optimization at t = 50 finished, lapse: 0.364sec.\n",
      "optimization at t = 51 finished, lapse: 0.306sec.\n",
      "optimization at t = 52 finished, lapse: 0.333sec.\n",
      "optimization at t = 53 finished, lapse: 0.339sec.\n",
      "optimization at t = 54 finished, lapse: 0.294sec.\n",
      "optimization at t = 55 finished, lapse: 0.374sec.\n",
      "optimization at t = 56 finished, lapse: 0.326sec.\n",
      "optimization at t = 57 finished, lapse: 0.283sec.\n",
      "optimization at t = 58 finished, lapse: 0.310sec.\n",
      "optimization at t = 59 finished, lapse: 0.377sec.\n",
      "optimization at t = 60 finished, lapse: 0.333sec.\n",
      "optimization at t = 61 finished, lapse: 0.337sec.\n",
      "optimization at t = 62 finished, lapse: 0.305sec.\n",
      "optimization at t = 63 finished, lapse: 0.330sec.\n",
      "optimization at t = 64 finished, lapse: 0.436sec.\n",
      "optimization at t = 65 finished, lapse: 0.591sec.\n",
      "optimization at t = 66 finished, lapse: 0.741sec.\n",
      "optimization at t = 67 finished, lapse: 0.652sec.\n",
      "optimization at t = 68 finished, lapse: 0.678sec.\n",
      "optimization at t = 69 finished, lapse: 0.578sec.\n",
      "optimization at t = 70 finished, lapse: 0.697sec.\n",
      "optimization at t = 71 finished, lapse: 0.739sec.\n",
      "optimization at t = 72 finished, lapse: 0.753sec.\n",
      "optimization at t = 73 finished, lapse: 0.828sec.\n",
      "optimization at t = 74 finished, lapse: 0.861sec.\n",
      "optimization at t = 75 finished, lapse: 0.871sec.\n",
      "optimization at t = 76 finished, lapse: 0.728sec.\n",
      "optimization at t = 77 finished, lapse: 0.922sec.\n",
      "optimization at t = 78 finished, lapse: 0.915sec.\n",
      "optimization at t = 79 finished, lapse: 0.861sec.\n",
      "optimization at t = 80 finished, lapse: 0.687sec.\n",
      "optimization at t = 81 finished, lapse: 0.679sec.\n",
      "optimization at t = 82 finished, lapse: 0.879sec.\n",
      "optimization at t = 83 finished, lapse: 1.279sec.\n",
      "optimization at t = 84 finished, lapse: 0.827sec.\n",
      "optimization at t = 85 finished, lapse: 0.832sec.\n",
      "optimization at t = 86 finished, lapse: 0.814sec.\n",
      "optimization at t = 87 finished, lapse: 0.736sec.\n",
      "optimization at t = 88 finished, lapse: 0.836sec.\n",
      "optimization at t = 89 finished, lapse: 0.682sec.\n",
      "optimization at t = 90 finished, lapse: 0.667sec.\n",
      "optimization at t = 91 finished, lapse: 0.730sec.\n",
      "optimization at t = 92 finished, lapse: 0.733sec.\n",
      "optimization at t = 93 finished, lapse: 1.414sec.\n",
      "optimization at t = 94 finished, lapse: 1.306sec.\n",
      "optimization at t = 95 finished, lapse: 1.648sec.\n",
      "optimization at t = 96 finished, lapse: 1.266sec.\n",
      "optimization at t = 97 finished, lapse: 0.697sec.\n",
      "optimization at t = 98 finished, lapse: 0.729sec.\n",
      "optimization at t = 99 finished, lapse: 0.769sec.\n",
      "optimization at t = 100 finished, lapse: 0.539sec.\n",
      "optimization at t = 101 finished, lapse: 0.810sec.\n",
      "optimization at t = 102 finished, lapse: 2.187sec.\n",
      "optimization at t = 103 finished, lapse: 2.250sec.\n",
      "optimization at t = 104 finished, lapse: 13.786sec.\n",
      "optimization at t = 105 finished, lapse: 15.180sec.\n",
      "optimization at t = 106 finished, lapse: 11.691sec.\n",
      "optimization at t = 107 finished, lapse: 11.556sec.\n",
      "optimization at t = 108 finished, lapse: 11.051sec.\n",
      "optimization at t = 109 finished, lapse: 15.193sec.\n",
      "optimization at t = 110 finished, lapse: 8.766sec.\n",
      "optimization at t = 111 finished, lapse: 7.951sec.\n",
      "optimization at t = 112 finished, lapse: 10.480sec.\n",
      "optimization at t = 113 finished, lapse: 9.248sec.\n",
      "optimization at t = 114 finished, lapse: 10.709sec.\n",
      "optimization at t = 115 finished, lapse: 10.522sec.\n",
      "optimization at t = 116 finished, lapse: 13.107sec.\n",
      "optimization at t = 117 finished, lapse: 11.549sec.\n",
      "optimization at t = 118 finished, lapse: 12.596sec.\n",
      "optimization at t = 119 finished, lapse: 8.553sec.\n",
      "optimization at t = 120 finished, lapse: 10.433sec.\n",
      "optimization at t = 121 finished, lapse: 5.962sec.\n",
      "optimization at t = 122 finished, lapse: 7.809sec.\n",
      "optimization at t = 123 finished, lapse: 8.053sec.\n",
      "optimization at t = 124 finished, lapse: 4.852sec.\n",
      "optimization at t = 125 finished, lapse: 7.584sec.\n",
      "optimization at t = 126 finished, lapse: 7.300sec.\n",
      "optimization at t = 127 finished, lapse: 6.066sec.\n",
      "optimization at t = 128 finished, lapse: 9.352sec.\n",
      "optimization at t = 129 finished, lapse: 7.786sec.\n",
      "optimization at t = 130 finished, lapse: 5.814sec.\n",
      "optimization at t = 131 finished, lapse: 3.719sec.\n",
      "optimization at t = 132 finished, lapse: 5.666sec.\n",
      "optimization at t = 133 finished, lapse: 5.286sec.\n",
      "optimization at t = 134 finished, lapse: 9.801sec.\n",
      "optimization at t = 135 finished, lapse: 5.121sec.\n",
      "optimization at t = 136 finished, lapse: 6.417sec.\n",
      "optimization at t = 137 finished, lapse: 3.519sec.\n",
      "optimization at t = 138 finished, lapse: 2.646sec.\n",
      "optimization at t = 139 finished, lapse: 5.074sec.\n",
      "optimization at t = 140 finished, lapse: 10.355sec.\n",
      "optimization at t = 141 finished, lapse: 6.418sec.\n",
      "optimization at t = 142 finished, lapse: 7.481sec.\n",
      "optimization at t = 143 finished, lapse: 5.634sec.\n",
      "optimization at t = 144 finished, lapse: 4.555sec.\n",
      "optimization at t = 145 finished, lapse: 5.517sec.\n",
      "optimization at t = 146 finished, lapse: 6.415sec.\n",
      "optimization at t = 147 finished, lapse: 5.537sec.\n",
      "optimization at t = 148 finished, lapse: 30.049sec.\n",
      "optimization at t = 149 finished, lapse: 6.353sec.\n",
      "optimization at t = 150 finished, lapse: 7.747sec.\n",
      "optimization at t = 151 finished, lapse: 5.525sec.\n",
      "optimization at t = 152 finished, lapse: 7.411sec.\n",
      "optimization at t = 153 finished, lapse: 7.482sec.\n",
      "optimization at t = 154 finished, lapse: 6.424sec.\n",
      "optimization at t = 155 finished, lapse: 16.190sec.\n",
      "optimization at t = 156 finished, lapse: 12.093sec.\n",
      "optimization at t = 157 finished, lapse: 13.871sec.\n",
      "optimization at t = 158 finished, lapse: 12.724sec.\n",
      "optimization at t = 159 finished, lapse: 14.618sec.\n",
      "optimization at t = 160 finished, lapse: 14.573sec.\n",
      "optimization at t = 161 finished, lapse: 18.146sec.\n",
      "optimization at t = 162 finished, lapse: 13.894sec.\n",
      "optimization at t = 163 finished, lapse: 14.783sec.\n",
      "optimization at t = 164 finished, lapse: 47.196sec.\n",
      "optimization at t = 165 finished, lapse: 18.355sec.\n",
      "optimization at t = 166 finished, lapse: 5.539sec.\n",
      "optimization at t = 167 finished, lapse: 5.536sec.\n",
      "optimization at t = 168 finished, lapse: 312.253sec.\n",
      "optimization at t = 169 finished, lapse: 5.588sec.\n"
     ]
    },
    {
     "name": "stdout",
     "output_type": "stream",
     "text": [
      "optimization at t = 170 finished, lapse: 1.765sec.\n",
      "optimization at t = 171 finished, lapse: 1.903sec.\n",
      "optimization at t = 172 finished, lapse: 1.455sec.\n",
      "optimization at t = 173 finished, lapse: 2.756sec.\n",
      "optimization at t = 174 finished, lapse: 2.381sec.\n",
      "optimization at t = 175 finished, lapse: 1.465sec.\n",
      "optimization at t = 176 finished, lapse: 2.118sec.\n",
      "optimization at t = 177 finished, lapse: 3.136sec.\n",
      "optimization at t = 178 finished, lapse: 3.968sec.\n",
      "optimization at t = 179 finished, lapse: 3.804sec.\n",
      "optimization at t = 180 finished, lapse: 3.312sec.\n"
     ]
    }
   ],
   "source": [
    "conf_band, theta_min, theta_max = \\\n",
    "model.confidence_I(Ae, mepi, bepi, Vepi, chi_pa,\n",
    "                    verbose=True)"
   ]
  },
  {
   "cell_type": "code",
   "execution_count": 40,
   "id": "725626f1",
   "metadata": {},
   "outputs": [
    {
     "data": {
      "text/plain": [
       "<matplotlib.collections.PolyCollection at 0x150a47c10>"
      ]
     },
     "execution_count": 40,
     "metadata": {},
     "output_type": "execute_result"
    },
    {
     "data": {
      "image/png": "[encoded data removed]",
      "text/plain": [
       "<Figure size 640x480 with 1 Axes>"
      ]
     },
     "metadata": {},
     "output_type": "display_data"
    }
   ],
   "source": [
    "plt.bar(np.arange(T), I, color='grey', alpha=0.5)\n",
    "plt.plot(model.predict_I(Ae, mepi, bepi))\n",
    "plt.fill_between(np.arange(np.shape(conf_band)[0]),\n",
    "                 conf_band[:,0], conf_band[:,1], alpha=0.3)"
   ]
  },
  {
   "cell_type": "code",
   "execution_count": 41,
   "id": "2c6e8b37",
   "metadata": {
    "scrolled": true
   },
   "outputs": [
    {
     "name": "stdout",
     "output_type": "stream",
     "text": [
      "optimization at t = 1 finished, lapse: 1.172sec.\n",
      "optimization at t = 2 finished, lapse: 0.255sec.\n",
      "optimization at t = 3 finished, lapse: 1.482sec.\n",
      "optimization at t = 4 finished, lapse: 0.819sec.\n",
      "optimization at t = 5 finished, lapse: 0.409sec.\n",
      "optimization at t = 6 finished, lapse: 1.583sec.\n",
      "optimization at t = 7 finished, lapse: 0.403sec.\n",
      "optimization at t = 8 finished, lapse: 0.343sec.\n",
      "optimization at t = 9 finished, lapse: 0.255sec.\n",
      "optimization at t = 10 finished, lapse: 0.516sec.\n",
      "optimization at t = 11 finished, lapse: 0.499sec.\n",
      "optimization at t = 12 finished, lapse: 0.373sec.\n",
      "optimization at t = 13 finished, lapse: 0.157sec.\n",
      "optimization at t = 14 finished, lapse: 0.191sec.\n",
      "optimization at t = 15 finished, lapse: 0.112sec.\n",
      "optimization at t = 16 finished, lapse: 0.128sec.\n",
      "optimization at t = 17 finished, lapse: 0.284sec.\n",
      "optimization at t = 18 finished, lapse: 0.200sec.\n",
      "optimization at t = 19 finished, lapse: 0.171sec.\n",
      "optimization at t = 20 finished, lapse: 0.121sec.\n",
      "optimization at t = 21 finished, lapse: 0.118sec.\n",
      "optimization at t = 22 finished, lapse: 0.105sec.\n",
      "optimization at t = 23 finished, lapse: 0.089sec.\n",
      "optimization at t = 24 finished, lapse: 0.084sec.\n",
      "optimization at t = 25 finished, lapse: 0.089sec.\n",
      "optimization at t = 26 finished, lapse: 0.071sec.\n",
      "optimization at t = 27 finished, lapse: 0.076sec.\n",
      "optimization at t = 28 finished, lapse: 0.060sec.\n",
      "optimization at t = 29 finished, lapse: 0.062sec.\n",
      "optimization at t = 30 finished, lapse: 0.066sec.\n",
      "optimization at t = 31 finished, lapse: 0.068sec.\n",
      "optimization at t = 32 finished, lapse: 0.063sec.\n",
      "optimization at t = 33 finished, lapse: 0.064sec.\n",
      "optimization at t = 34 finished, lapse: 0.068sec.\n",
      "optimization at t = 35 finished, lapse: 0.127sec.\n",
      "optimization at t = 36 finished, lapse: 0.152sec.\n",
      "optimization at t = 37 finished, lapse: 0.154sec.\n",
      "optimization at t = 38 finished, lapse: 0.181sec.\n",
      "optimization at t = 39 finished, lapse: 0.182sec.\n",
      "optimization at t = 40 finished, lapse: 0.199sec.\n",
      "optimization at t = 41 finished, lapse: 0.170sec.\n",
      "optimization at t = 42 finished, lapse: 0.173sec.\n",
      "optimization at t = 43 finished, lapse: 0.190sec.\n",
      "optimization at t = 44 finished, lapse: 0.209sec.\n",
      "optimization at t = 45 finished, lapse: 0.177sec.\n",
      "optimization at t = 46 finished, lapse: 0.179sec.\n",
      "optimization at t = 47 finished, lapse: 0.190sec.\n",
      "optimization at t = 48 finished, lapse: 0.144sec.\n",
      "optimization at t = 49 finished, lapse: 0.188sec.\n",
      "optimization at t = 50 finished, lapse: 0.184sec.\n",
      "optimization at t = 51 finished, lapse: 95.546sec.\n",
      "optimization at t = 52 finished, lapse: 0.196sec.\n",
      "optimization at t = 53 finished, lapse: 0.194sec.\n",
      "optimization at t = 54 finished, lapse: 0.161sec.\n",
      "optimization at t = 55 finished, lapse: 0.185sec.\n",
      "optimization at t = 56 finished, lapse: 0.180sec.\n",
      "optimization at t = 57 finished, lapse: 0.234sec.\n",
      "optimization at t = 58 finished, lapse: 0.235sec.\n",
      "optimization at t = 59 finished, lapse: 0.185sec.\n",
      "optimization at t = 60 finished, lapse: 0.174sec.\n",
      "optimization at t = 61 finished, lapse: 0.169sec.\n",
      "optimization at t = 62 finished, lapse: 0.194sec.\n",
      "optimization at t = 63 finished, lapse: 0.225sec.\n",
      "optimization at t = 64 finished, lapse: 0.182sec.\n",
      "optimization at t = 65 finished, lapse: 0.231sec.\n",
      "optimization at t = 66 finished, lapse: 0.425sec.\n",
      "optimization at t = 67 finished, lapse: 0.299sec.\n",
      "optimization at t = 68 finished, lapse: 0.278sec.\n",
      "optimization at t = 69 finished, lapse: 0.394sec.\n",
      "optimization at t = 70 finished, lapse: 0.319sec.\n",
      "optimization at t = 71 finished, lapse: 0.358sec.\n",
      "optimization at t = 72 finished, lapse: 0.355sec.\n",
      "optimization at t = 73 finished, lapse: 0.265sec.\n",
      "optimization at t = 74 finished, lapse: 0.337sec.\n",
      "optimization at t = 75 finished, lapse: 0.251sec.\n",
      "optimization at t = 76 finished, lapse: 0.391sec.\n",
      "optimization at t = 77 finished, lapse: 0.295sec.\n",
      "optimization at t = 78 finished, lapse: 0.381sec.\n",
      "optimization at t = 79 finished, lapse: 0.451sec.\n",
      "optimization at t = 80 finished, lapse: 0.263sec.\n",
      "optimization at t = 81 finished, lapse: 0.282sec.\n",
      "optimization at t = 82 finished, lapse: 0.398sec.\n",
      "optimization at t = 83 finished, lapse: 0.190sec.\n",
      "optimization at t = 84 finished, lapse: 0.176sec.\n",
      "optimization at t = 85 finished, lapse: 0.397sec.\n",
      "optimization at t = 86 finished, lapse: 0.257sec.\n",
      "optimization at t = 87 finished, lapse: 0.465sec.\n",
      "optimization at t = 88 finished, lapse: 0.347sec.\n",
      "optimization at t = 89 finished, lapse: 0.486sec.\n",
      "optimization at t = 90 finished, lapse: 0.360sec.\n",
      "optimization at t = 91 finished, lapse: 0.522sec.\n",
      "optimization at t = 92 finished, lapse: 0.336sec.\n",
      "optimization at t = 93 finished, lapse: 0.469sec.\n",
      "optimization at t = 94 finished, lapse: 0.380sec.\n",
      "optimization at t = 95 finished, lapse: 0.546sec.\n",
      "optimization at t = 96 finished, lapse: 0.362sec.\n",
      "optimization at t = 97 finished, lapse: 0.269sec.\n",
      "optimization at t = 98 finished, lapse: 0.448sec.\n",
      "optimization at t = 99 finished, lapse: 0.433sec.\n",
      "optimization at t = 100 finished, lapse: 0.433sec.\n",
      "optimization at t = 101 finished, lapse: 0.712sec.\n",
      "optimization at t = 102 finished, lapse: 0.288sec.\n",
      "optimization at t = 103 finished, lapse: 0.204sec.\n",
      "optimization at t = 104 finished, lapse: 0.242sec.\n",
      "optimization at t = 105 finished, lapse: 0.357sec.\n",
      "optimization at t = 106 finished, lapse: 0.544sec.\n",
      "optimization at t = 107 finished, lapse: 0.249sec.\n",
      "optimization at t = 108 finished, lapse: 0.454sec.\n",
      "optimization at t = 109 finished, lapse: 0.334sec.\n",
      "optimization at t = 110 finished, lapse: 0.583sec.\n",
      "optimization at t = 111 finished, lapse: 0.660sec.\n",
      "optimization at t = 112 finished, lapse: 0.436sec.\n",
      "optimization at t = 113 finished, lapse: 0.679sec.\n",
      "optimization at t = 114 finished, lapse: 0.286sec.\n",
      "optimization at t = 115 finished, lapse: 0.573sec.\n",
      "optimization at t = 116 finished, lapse: 0.655sec.\n",
      "optimization at t = 117 finished, lapse: 0.266sec.\n",
      "optimization at t = 118 finished, lapse: 1.379sec.\n",
      "optimization at t = 119 finished, lapse: 1.137sec.\n",
      "optimization at t = 120 finished, lapse: 0.729sec.\n",
      "optimization at t = 121 finished, lapse: 1.564sec.\n",
      "optimization at t = 122 finished, lapse: 0.709sec.\n",
      "optimization at t = 123 finished, lapse: 1.213sec.\n",
      "optimization at t = 124 finished, lapse: 0.296sec.\n",
      "optimization at t = 125 finished, lapse: 1.300sec.\n",
      "optimization at t = 126 finished, lapse: 0.250sec.\n",
      "optimization at t = 127 finished, lapse: 0.267sec.\n",
      "optimization at t = 128 finished, lapse: 0.226sec.\n",
      "optimization at t = 129 finished, lapse: 0.321sec.\n",
      "optimization at t = 130 finished, lapse: 1.591sec.\n",
      "optimization at t = 131 finished, lapse: 0.322sec.\n",
      "optimization at t = 132 finished, lapse: 0.538sec.\n",
      "optimization at t = 133 finished, lapse: 0.349sec.\n",
      "optimization at t = 134 finished, lapse: 0.290sec.\n",
      "optimization at t = 135 finished, lapse: 0.261sec.\n",
      "optimization at t = 136 finished, lapse: 0.590sec.\n",
      "optimization at t = 137 finished, lapse: 0.473sec.\n",
      "optimization at t = 138 finished, lapse: 0.443sec.\n",
      "optimization at t = 139 finished, lapse: 0.330sec.\n",
      "optimization at t = 140 finished, lapse: 0.344sec.\n",
      "optimization at t = 141 finished, lapse: 1.220sec.\n",
      "optimization at t = 142 finished, lapse: 0.722sec.\n",
      "optimization at t = 143 finished, lapse: 2.728sec.\n",
      "optimization at t = 144 finished, lapse: 0.702sec.\n",
      "optimization at t = 145 finished, lapse: 0.538sec.\n",
      "optimization at t = 146 finished, lapse: 0.752sec.\n",
      "optimization at t = 147 finished, lapse: 0.527sec.\n",
      "optimization at t = 148 finished, lapse: 0.459sec.\n",
      "optimization at t = 149 finished, lapse: 0.417sec.\n",
      "optimization at t = 150 finished, lapse: 191.514sec.\n",
      "optimization at t = 151 finished, lapse: 2.447sec.\n",
      "optimization at t = 152 finished, lapse: 1.484sec.\n",
      "optimization at t = 153 finished, lapse: 0.833sec.\n",
      "optimization at t = 154 finished, lapse: 0.953sec.\n",
      "optimization at t = 155 finished, lapse: 0.628sec.\n",
      "optimization at t = 156 finished, lapse: 0.904sec.\n",
      "optimization at t = 157 finished, lapse: 1.494sec.\n",
      "optimization at t = 158 finished, lapse: 1.028sec.\n",
      "optimization at t = 159 finished, lapse: 1.445sec.\n",
      "optimization at t = 160 finished, lapse: 0.877sec.\n",
      "optimization at t = 161 finished, lapse: 0.977sec.\n",
      "optimization at t = 162 finished, lapse: 2.119sec.\n",
      "optimization at t = 163 finished, lapse: 3.013sec.\n"
     ]
    },
    {
     "name": "stdout",
     "output_type": "stream",
     "text": [
      "optimization at t = 164 finished, lapse: 3.200sec.\n",
      "optimization at t = 165 finished, lapse: 4.881sec.\n",
      "optimization at t = 166 finished, lapse: 7.958sec.\n",
      "optimization at t = 167 finished, lapse: 2.422sec.\n",
      "optimization at t = 168 finished, lapse: 1.681sec.\n",
      "optimization at t = 169 finished, lapse: 2.327sec.\n",
      "optimization at t = 170 finished, lapse: 1.016sec.\n",
      "optimization at t = 171 finished, lapse: 1.785sec.\n",
      "optimization at t = 172 finished, lapse: 1.986sec.\n",
      "optimization at t = 173 finished, lapse: 83.606sec.\n",
      "optimization at t = 174 finished, lapse: 3.051sec.\n",
      "optimization at t = 175 finished, lapse: 1.114sec.\n",
      "optimization at t = 176 finished, lapse: 1.089sec.\n",
      "optimization at t = 177 finished, lapse: 1.816sec.\n",
      "optimization at t = 178 finished, lapse: 1.194sec.\n",
      "optimization at t = 179 finished, lapse: 1.287sec.\n",
      "optimization at t = 180 finished, lapse: 2.059sec.\n"
     ]
    }
   ],
   "source": [
    "conf_band, theta_min, theta_max = \\\n",
    "model.confidence_EY(Ae, mepi, bepi, Vepi, chi_pa,\n",
    "                    verbose=True)"
   ]
  },
  {
   "cell_type": "code",
   "execution_count": 42,
   "id": "393b95fa",
   "metadata": {},
   "outputs": [
    {
     "data": {
      "text/plain": [
       "<matplotlib.collections.PolyCollection at 0x150acfdf0>"
      ]
     },
     "execution_count": 42,
     "metadata": {},
     "output_type": "execute_result"
    },
    {
     "data": {
      "image/png": "[encoded data removed]",
      "text/plain": [
       "<Figure size 640x480 with 1 Axes>"
      ]
     },
     "metadata": {},
     "output_type": "display_data"
    }
   ],
   "source": [
    "plt.bar(np.arange(T), Y, color='grey', alpha=0.5)\n",
    "plt.plot(model.predict_EY(Ae, mepi, bepi))\n",
    "plt.fill_between(np.arange(np.shape(conf_band)[0]),\n",
    "                 conf_band[:,0], conf_band[:,1], alpha=0.3)"
   ]
  },
  {
   "cell_type": "markdown",
   "id": "4b283dde",
   "metadata": {},
   "source": [
    "## A = 0"
   ]
  },
  {
   "cell_type": "code",
   "execution_count": 33,
   "id": "c479a5e1",
   "metadata": {},
   "outputs": [],
   "source": [
    "Tf = 60\n",
    "Af = np.zeros([Tf, d])"
   ]
  },
  {
   "cell_type": "code",
   "execution_count": 34,
   "id": "c715ebc6",
   "metadata": {},
   "outputs": [],
   "source": [
    "Af[:,0] = np.full(Tf, 1)\n",
    "Af[:,1] = np.full(Tf, 0)"
   ]
  },
  {
   "cell_type": "code",
   "execution_count": 35,
   "id": "bff0da0a",
   "metadata": {},
   "outputs": [],
   "source": [
    "Ae = np.concatenate([A, Af], 0)"
   ]
  },
  {
   "cell_type": "code",
   "execution_count": 36,
   "id": "cdb4e1ad",
   "metadata": {
    "scrolled": true
   },
   "outputs": [
    {
     "name": "stdout",
     "output_type": "stream",
     "text": [
      "optimization at t = 1 finished, lapse: 0.197sec.\n",
      "optimization at t = 2 finished, lapse: 0.169sec.\n",
      "optimization at t = 3 finished, lapse: 0.167sec.\n",
      "optimization at t = 4 finished, lapse: 0.165sec.\n",
      "optimization at t = 5 finished, lapse: 0.168sec.\n",
      "optimization at t = 6 finished, lapse: 0.166sec.\n",
      "optimization at t = 7 finished, lapse: 0.167sec.\n",
      "optimization at t = 8 finished, lapse: 0.167sec.\n",
      "optimization at t = 9 finished, lapse: 0.166sec.\n",
      "optimization at t = 10 finished, lapse: 0.165sec.\n",
      "optimization at t = 11 finished, lapse: 0.167sec.\n",
      "optimization at t = 12 finished, lapse: 0.166sec.\n",
      "optimization at t = 13 finished, lapse: 0.169sec.\n",
      "optimization at t = 14 finished, lapse: 0.166sec.\n",
      "optimization at t = 15 finished, lapse: 0.166sec.\n",
      "optimization at t = 16 finished, lapse: 0.166sec.\n",
      "optimization at t = 17 finished, lapse: 0.167sec.\n",
      "optimization at t = 18 finished, lapse: 0.166sec.\n",
      "optimization at t = 19 finished, lapse: 0.167sec.\n",
      "optimization at t = 20 finished, lapse: 0.166sec.\n",
      "optimization at t = 21 finished, lapse: 0.169sec.\n",
      "optimization at t = 22 finished, lapse: 0.165sec.\n",
      "optimization at t = 23 finished, lapse: 0.167sec.\n",
      "optimization at t = 24 finished, lapse: 0.166sec.\n",
      "optimization at t = 25 finished, lapse: 0.168sec.\n",
      "optimization at t = 26 finished, lapse: 0.165sec.\n",
      "optimization at t = 27 finished, lapse: 0.167sec.\n",
      "optimization at t = 28 finished, lapse: 0.165sec.\n",
      "optimization at t = 29 finished, lapse: 0.167sec.\n",
      "optimization at t = 30 finished, lapse: 0.165sec.\n",
      "optimization at t = 31 finished, lapse: 0.171sec.\n",
      "optimization at t = 32 finished, lapse: 0.078sec.\n",
      "optimization at t = 33 finished, lapse: 0.044sec.\n",
      "optimization at t = 34 finished, lapse: 0.058sec.\n",
      "optimization at t = 35 finished, lapse: 0.047sec.\n",
      "optimization at t = 36 finished, lapse: 0.059sec.\n",
      "optimization at t = 37 finished, lapse: 0.044sec.\n",
      "optimization at t = 38 finished, lapse: 0.057sec.\n",
      "optimization at t = 39 finished, lapse: 0.045sec.\n",
      "optimization at t = 40 finished, lapse: 0.059sec.\n",
      "optimization at t = 41 finished, lapse: 0.045sec.\n",
      "optimization at t = 42 finished, lapse: 0.058sec.\n",
      "optimization at t = 43 finished, lapse: 0.046sec.\n",
      "optimization at t = 44 finished, lapse: 0.060sec.\n",
      "optimization at t = 45 finished, lapse: 0.045sec.\n",
      "optimization at t = 46 finished, lapse: 0.057sec.\n",
      "optimization at t = 47 finished, lapse: 0.045sec.\n",
      "optimization at t = 48 finished, lapse: 0.060sec.\n",
      "optimization at t = 49 finished, lapse: 0.045sec.\n",
      "optimization at t = 50 finished, lapse: 0.058sec.\n",
      "optimization at t = 51 finished, lapse: 0.044sec.\n",
      "optimization at t = 52 finished, lapse: 0.058sec.\n",
      "optimization at t = 53 finished, lapse: 0.048sec.\n",
      "optimization at t = 54 finished, lapse: 0.058sec.\n",
      "optimization at t = 55 finished, lapse: 0.045sec.\n",
      "optimization at t = 56 finished, lapse: 0.057sec.\n",
      "optimization at t = 57 finished, lapse: 0.050sec.\n",
      "optimization at t = 58 finished, lapse: 0.058sec.\n",
      "optimization at t = 59 finished, lapse: 0.044sec.\n",
      "optimization at t = 60 finished, lapse: 0.058sec.\n",
      "optimization at t = 61 finished, lapse: 0.044sec.\n",
      "optimization at t = 62 finished, lapse: 0.059sec.\n",
      "optimization at t = 63 finished, lapse: 0.044sec.\n",
      "optimization at t = 64 finished, lapse: 0.058sec.\n",
      "optimization at t = 65 finished, lapse: 0.046sec.\n",
      "optimization at t = 66 finished, lapse: 0.058sec.\n",
      "optimization at t = 67 finished, lapse: 0.045sec.\n",
      "optimization at t = 68 finished, lapse: 0.058sec.\n",
      "optimization at t = 69 finished, lapse: 0.047sec.\n",
      "optimization at t = 70 finished, lapse: 0.060sec.\n",
      "optimization at t = 71 finished, lapse: 0.044sec.\n",
      "optimization at t = 72 finished, lapse: 0.057sec.\n",
      "optimization at t = 73 finished, lapse: 0.045sec.\n",
      "optimization at t = 74 finished, lapse: 0.058sec.\n",
      "optimization at t = 75 finished, lapse: 0.045sec.\n",
      "optimization at t = 76 finished, lapse: 0.058sec.\n",
      "optimization at t = 77 finished, lapse: 0.045sec.\n",
      "optimization at t = 78 finished, lapse: 0.058sec.\n",
      "optimization at t = 79 finished, lapse: 0.044sec.\n",
      "optimization at t = 80 finished, lapse: 0.058sec.\n",
      "optimization at t = 81 finished, lapse: 0.045sec.\n",
      "optimization at t = 82 finished, lapse: 0.059sec.\n",
      "optimization at t = 83 finished, lapse: 0.044sec.\n",
      "optimization at t = 84 finished, lapse: 0.058sec.\n",
      "optimization at t = 85 finished, lapse: 0.045sec.\n",
      "optimization at t = 86 finished, lapse: 0.059sec.\n",
      "optimization at t = 87 finished, lapse: 0.045sec.\n",
      "optimization at t = 88 finished, lapse: 0.058sec.\n",
      "optimization at t = 89 finished, lapse: 0.045sec.\n",
      "optimization at t = 90 finished, lapse: 0.058sec.\n",
      "optimization at t = 91 finished, lapse: 0.044sec.\n",
      "optimization at t = 92 finished, lapse: 0.059sec.\n",
      "optimization at t = 93 finished, lapse: 0.046sec.\n",
      "optimization at t = 94 finished, lapse: 0.058sec.\n",
      "optimization at t = 95 finished, lapse: 0.045sec.\n",
      "optimization at t = 96 finished, lapse: 0.058sec.\n",
      "optimization at t = 97 finished, lapse: 0.045sec.\n",
      "optimization at t = 98 finished, lapse: 0.059sec.\n",
      "optimization at t = 99 finished, lapse: 0.044sec.\n",
      "optimization at t = 100 finished, lapse: 0.058sec.\n",
      "optimization at t = 101 finished, lapse: 0.045sec.\n",
      "optimization at t = 102 finished, lapse: 0.059sec.\n",
      "optimization at t = 103 finished, lapse: 0.044sec.\n",
      "optimization at t = 104 finished, lapse: 0.059sec.\n",
      "optimization at t = 105 finished, lapse: 0.047sec.\n",
      "optimization at t = 106 finished, lapse: 0.059sec.\n",
      "optimization at t = 107 finished, lapse: 0.044sec.\n",
      "optimization at t = 108 finished, lapse: 0.061sec.\n",
      "optimization at t = 109 finished, lapse: 0.048sec.\n",
      "optimization at t = 110 finished, lapse: 0.059sec.\n",
      "optimization at t = 111 finished, lapse: 0.046sec.\n",
      "optimization at t = 112 finished, lapse: 0.058sec.\n",
      "optimization at t = 113 finished, lapse: 0.045sec.\n",
      "optimization at t = 114 finished, lapse: 0.058sec.\n",
      "optimization at t = 115 finished, lapse: 0.044sec.\n",
      "optimization at t = 116 finished, lapse: 0.058sec.\n",
      "optimization at t = 117 finished, lapse: 0.045sec.\n",
      "optimization at t = 118 finished, lapse: 0.059sec.\n",
      "optimization at t = 119 finished, lapse: 0.044sec.\n",
      "optimization at t = 120 finished, lapse: 0.058sec.\n",
      "optimization at t = 121 finished, lapse: 0.156sec.\n",
      "optimization at t = 122 finished, lapse: 0.149sec.\n",
      "optimization at t = 123 finished, lapse: 0.135sec.\n",
      "optimization at t = 124 finished, lapse: 0.165sec.\n",
      "optimization at t = 125 finished, lapse: 0.169sec.\n",
      "optimization at t = 126 finished, lapse: 0.164sec.\n",
      "optimization at t = 127 finished, lapse: 0.165sec.\n",
      "optimization at t = 128 finished, lapse: 0.165sec.\n",
      "optimization at t = 129 finished, lapse: 0.168sec.\n",
      "optimization at t = 130 finished, lapse: 0.165sec.\n",
      "optimization at t = 131 finished, lapse: 0.167sec.\n",
      "optimization at t = 132 finished, lapse: 0.165sec.\n",
      "optimization at t = 133 finished, lapse: 0.167sec.\n",
      "optimization at t = 134 finished, lapse: 0.165sec.\n",
      "optimization at t = 135 finished, lapse: 0.168sec.\n",
      "optimization at t = 136 finished, lapse: 0.164sec.\n",
      "optimization at t = 137 finished, lapse: 0.166sec.\n",
      "optimization at t = 138 finished, lapse: 0.165sec.\n",
      "optimization at t = 139 finished, lapse: 0.166sec.\n",
      "optimization at t = 140 finished, lapse: 0.165sec.\n",
      "optimization at t = 141 finished, lapse: 0.168sec.\n",
      "optimization at t = 142 finished, lapse: 0.165sec.\n",
      "optimization at t = 143 finished, lapse: 0.168sec.\n",
      "optimization at t = 144 finished, lapse: 0.165sec.\n",
      "optimization at t = 145 finished, lapse: 0.169sec.\n",
      "optimization at t = 146 finished, lapse: 0.165sec.\n",
      "optimization at t = 147 finished, lapse: 0.167sec.\n",
      "optimization at t = 148 finished, lapse: 0.167sec.\n",
      "optimization at t = 149 finished, lapse: 0.169sec.\n",
      "optimization at t = 150 finished, lapse: 0.166sec.\n",
      "optimization at t = 151 finished, lapse: 0.169sec.\n",
      "optimization at t = 152 finished, lapse: 0.167sec.\n",
      "optimization at t = 153 finished, lapse: 0.168sec.\n",
      "optimization at t = 154 finished, lapse: 0.166sec.\n",
      "optimization at t = 155 finished, lapse: 0.165sec.\n",
      "optimization at t = 156 finished, lapse: 0.165sec.\n",
      "optimization at t = 157 finished, lapse: 0.169sec.\n",
      "optimization at t = 158 finished, lapse: 0.167sec.\n",
      "optimization at t = 159 finished, lapse: 0.166sec.\n",
      "optimization at t = 160 finished, lapse: 0.164sec.\n",
      "optimization at t = 161 finished, lapse: 0.165sec.\n",
      "optimization at t = 162 finished, lapse: 0.165sec.\n",
      "optimization at t = 163 finished, lapse: 0.166sec.\n",
      "optimization at t = 164 finished, lapse: 0.164sec.\n"
     ]
    },
    {
     "name": "stdout",
     "output_type": "stream",
     "text": [
      "optimization at t = 165 finished, lapse: 0.200sec.\n",
      "optimization at t = 166 finished, lapse: 0.217sec.\n",
      "optimization at t = 167 finished, lapse: 0.173sec.\n",
      "optimization at t = 168 finished, lapse: 0.199sec.\n",
      "optimization at t = 169 finished, lapse: 0.169sec.\n",
      "optimization at t = 170 finished, lapse: 0.186sec.\n",
      "optimization at t = 171 finished, lapse: 0.195sec.\n",
      "optimization at t = 172 finished, lapse: 0.176sec.\n",
      "optimization at t = 173 finished, lapse: 0.193sec.\n",
      "optimization at t = 174 finished, lapse: 0.169sec.\n",
      "optimization at t = 175 finished, lapse: 0.167sec.\n",
      "optimization at t = 176 finished, lapse: 0.170sec.\n",
      "optimization at t = 177 finished, lapse: 0.166sec.\n",
      "optimization at t = 178 finished, lapse: 0.170sec.\n",
      "optimization at t = 179 finished, lapse: 0.169sec.\n",
      "optimization at t = 180 finished, lapse: 0.171sec.\n"
     ]
    }
   ],
   "source": [
    "conf_band, beta_min, beta_max = \\\n",
    "model.confidence_R(Ae, bepi, Vepi[-2:,-2:], chi_pa,\n",
    "                   verbose=True)"
   ]
  },
  {
   "cell_type": "code",
   "execution_count": 37,
   "id": "0fbcb302",
   "metadata": {
    "scrolled": false
   },
   "outputs": [
    {
     "data": {
      "text/plain": [
       "<matplotlib.collections.PolyCollection at 0x1390cbee0>"
      ]
     },
     "execution_count": 37,
     "metadata": {},
     "output_type": "execute_result"
    },
    {
     "data": {
      "image/png": "[encoded data removed]",
      "text/plain": [
       "<Figure size 640x480 with 1 Axes>"
      ]
     },
     "metadata": {},
     "output_type": "display_data"
    }
   ],
   "source": [
    "plt.plot(R, color='grey')\n",
    "plt.plot(model.predict_R(Ae, bepi))\n",
    "plt.fill_between(np.arange(np.shape(conf_band)[0]),\n",
    "                 conf_band[:,0], conf_band[:,1], alpha=0.3)"
   ]
  },
  {
   "cell_type": "code",
   "execution_count": 38,
   "id": "8f331e4f",
   "metadata": {
    "scrolled": true
   },
   "outputs": [
    {
     "name": "stdout",
     "output_type": "stream",
     "text": [
      "optimization at t = 1 finished, lapse: 0.425sec.\n",
      "optimization at t = 2 finished, lapse: 0.097sec.\n",
      "optimization at t = 3 finished, lapse: 0.171sec.\n",
      "optimization at t = 4 finished, lapse: 0.072sec.\n",
      "optimization at t = 5 finished, lapse: 0.101sec.\n",
      "optimization at t = 6 finished, lapse: 0.070sec.\n",
      "optimization at t = 7 finished, lapse: 0.130sec.\n",
      "optimization at t = 8 finished, lapse: 0.072sec.\n"
     ]
    },
    {
     "name": "stderr",
     "output_type": "stream",
     "text": [
      "/Users/blueconet/mambaforge/envs/freqepid/lib/python3.10/site-packages/scipy/optimize/_hessian_update_strategy.py:182: UserWarning: delta_grad == 0.0. Check if the approximated function is linear. If the function is linear better results can be obtained by defining the Hessian as zero instead of using quasi-Newton approximations.\n",
      "  warn('delta_grad == 0.0. Check if the approximated '\n"
     ]
    },
    {
     "name": "stdout",
     "output_type": "stream",
     "text": [
      "optimization at t = 9 finished, lapse: 0.076sec.\n",
      "optimization at t = 10 finished, lapse: 0.068sec.\n",
      "optimization at t = 11 finished, lapse: 0.107sec.\n",
      "optimization at t = 12 finished, lapse: 0.172sec.\n",
      "optimization at t = 13 finished, lapse: 0.181sec.\n",
      "optimization at t = 14 finished, lapse: 0.180sec.\n",
      "optimization at t = 15 finished, lapse: 0.178sec.\n",
      "optimization at t = 16 finished, lapse: 0.173sec.\n",
      "optimization at t = 17 finished, lapse: 0.215sec.\n",
      "optimization at t = 18 finished, lapse: 0.198sec.\n",
      "optimization at t = 19 finished, lapse: 0.243sec.\n",
      "optimization at t = 20 finished, lapse: 0.169sec.\n",
      "optimization at t = 21 finished, lapse: 0.193sec.\n",
      "optimization at t = 22 finished, lapse: 0.221sec.\n",
      "optimization at t = 23 finished, lapse: 0.249sec.\n",
      "optimization at t = 24 finished, lapse: 0.154sec.\n",
      "optimization at t = 25 finished, lapse: 0.191sec.\n",
      "optimization at t = 26 finished, lapse: 0.175sec.\n",
      "optimization at t = 27 finished, lapse: 0.201sec.\n",
      "optimization at t = 28 finished, lapse: 0.226sec.\n",
      "optimization at t = 29 finished, lapse: 0.173sec.\n",
      "optimization at t = 30 finished, lapse: 0.182sec.\n",
      "optimization at t = 31 finished, lapse: 0.257sec.\n",
      "optimization at t = 32 finished, lapse: 0.280sec.\n",
      "optimization at t = 33 finished, lapse: 0.250sec.\n",
      "optimization at t = 34 finished, lapse: 0.242sec.\n",
      "optimization at t = 35 finished, lapse: 0.587sec.\n",
      "optimization at t = 36 finished, lapse: 0.346sec.\n",
      "optimization at t = 37 finished, lapse: 0.277sec.\n",
      "optimization at t = 38 finished, lapse: 0.301sec.\n",
      "optimization at t = 39 finished, lapse: 0.291sec.\n",
      "optimization at t = 40 finished, lapse: 0.250sec.\n",
      "optimization at t = 41 finished, lapse: 0.278sec.\n",
      "optimization at t = 42 finished, lapse: 0.302sec.\n",
      "optimization at t = 43 finished, lapse: 0.309sec.\n",
      "optimization at t = 44 finished, lapse: 0.294sec.\n",
      "optimization at t = 45 finished, lapse: 0.297sec.\n",
      "optimization at t = 46 finished, lapse: 0.247sec.\n",
      "optimization at t = 47 finished, lapse: 0.314sec.\n",
      "optimization at t = 48 finished, lapse: 0.220sec.\n",
      "optimization at t = 49 finished, lapse: 0.245sec.\n",
      "optimization at t = 50 finished, lapse: 0.342sec.\n",
      "optimization at t = 51 finished, lapse: 0.292sec.\n",
      "optimization at t = 52 finished, lapse: 0.316sec.\n",
      "optimization at t = 53 finished, lapse: 0.320sec.\n",
      "optimization at t = 54 finished, lapse: 0.277sec.\n",
      "optimization at t = 55 finished, lapse: 0.354sec.\n",
      "optimization at t = 56 finished, lapse: 0.308sec.\n",
      "optimization at t = 57 finished, lapse: 0.267sec.\n",
      "optimization at t = 58 finished, lapse: 0.293sec.\n",
      "optimization at t = 59 finished, lapse: 0.358sec.\n",
      "optimization at t = 60 finished, lapse: 0.311sec.\n",
      "optimization at t = 61 finished, lapse: 0.318sec.\n",
      "optimization at t = 62 finished, lapse: 0.289sec.\n",
      "optimization at t = 63 finished, lapse: 0.312sec.\n",
      "optimization at t = 64 finished, lapse: 0.415sec.\n",
      "optimization at t = 65 finished, lapse: 0.558sec.\n",
      "optimization at t = 66 finished, lapse: 0.694sec.\n",
      "optimization at t = 67 finished, lapse: 0.618sec.\n",
      "optimization at t = 68 finished, lapse: 0.642sec.\n",
      "optimization at t = 69 finished, lapse: 0.537sec.\n",
      "optimization at t = 70 finished, lapse: 0.655sec.\n",
      "optimization at t = 71 finished, lapse: 0.693sec.\n",
      "optimization at t = 72 finished, lapse: 0.700sec.\n",
      "optimization at t = 73 finished, lapse: 0.780sec.\n",
      "optimization at t = 74 finished, lapse: 0.810sec.\n",
      "optimization at t = 75 finished, lapse: 0.811sec.\n",
      "optimization at t = 76 finished, lapse: 0.689sec.\n",
      "optimization at t = 77 finished, lapse: 0.872sec.\n",
      "optimization at t = 78 finished, lapse: 0.881sec.\n",
      "optimization at t = 79 finished, lapse: 0.819sec.\n",
      "optimization at t = 80 finished, lapse: 0.651sec.\n",
      "optimization at t = 81 finished, lapse: 0.629sec.\n",
      "optimization at t = 82 finished, lapse: 0.818sec.\n",
      "optimization at t = 83 finished, lapse: 1.191sec.\n",
      "optimization at t = 84 finished, lapse: 0.753sec.\n",
      "optimization at t = 85 finished, lapse: 0.757sec.\n",
      "optimization at t = 86 finished, lapse: 0.750sec.\n",
      "optimization at t = 87 finished, lapse: 0.683sec.\n",
      "optimization at t = 88 finished, lapse: 0.768sec.\n",
      "optimization at t = 89 finished, lapse: 0.626sec.\n",
      "optimization at t = 90 finished, lapse: 0.637sec.\n",
      "optimization at t = 91 finished, lapse: 0.680sec.\n",
      "optimization at t = 92 finished, lapse: 0.683sec.\n",
      "optimization at t = 93 finished, lapse: 1.316sec.\n",
      "optimization at t = 94 finished, lapse: 1.212sec.\n",
      "optimization at t = 95 finished, lapse: 1.531sec.\n",
      "optimization at t = 96 finished, lapse: 1.172sec.\n",
      "optimization at t = 97 finished, lapse: 0.646sec.\n",
      "optimization at t = 98 finished, lapse: 0.671sec.\n",
      "optimization at t = 99 finished, lapse: 0.713sec.\n",
      "optimization at t = 100 finished, lapse: 0.505sec.\n",
      "optimization at t = 101 finished, lapse: 0.730sec.\n",
      "optimization at t = 102 finished, lapse: 2.009sec.\n",
      "optimization at t = 103 finished, lapse: 2.077sec.\n",
      "optimization at t = 104 finished, lapse: 2.193sec.\n",
      "optimization at t = 105 finished, lapse: 2.303sec.\n",
      "optimization at t = 106 finished, lapse: 1.959sec.\n",
      "optimization at t = 107 finished, lapse: 1.851sec.\n",
      "optimization at t = 108 finished, lapse: 2.034sec.\n",
      "optimization at t = 109 finished, lapse: 2.223sec.\n",
      "optimization at t = 110 finished, lapse: 1.459sec.\n",
      "optimization at t = 111 finished, lapse: 1.291sec.\n",
      "optimization at t = 112 finished, lapse: 1.737sec.\n",
      "optimization at t = 113 finished, lapse: 1.608sec.\n",
      "optimization at t = 114 finished, lapse: 1.754sec.\n",
      "optimization at t = 115 finished, lapse: 1.718sec.\n",
      "optimization at t = 116 finished, lapse: 2.111sec.\n",
      "optimization at t = 117 finished, lapse: 1.873sec.\n",
      "optimization at t = 118 finished, lapse: 2.033sec.\n",
      "optimization at t = 119 finished, lapse: 1.454sec.\n",
      "optimization at t = 120 finished, lapse: 1.671sec.\n",
      "optimization at t = 121 finished, lapse: 0.969sec.\n",
      "optimization at t = 122 finished, lapse: 0.945sec.\n",
      "optimization at t = 123 finished, lapse: 1.185sec.\n",
      "optimization at t = 124 finished, lapse: 0.569sec.\n",
      "optimization at t = 125 finished, lapse: 1.440sec.\n",
      "optimization at t = 126 finished, lapse: 1.627sec.\n",
      "optimization at t = 127 finished, lapse: 1.172sec.\n",
      "optimization at t = 128 finished, lapse: 1.083sec.\n",
      "optimization at t = 129 finished, lapse: 1.389sec.\n",
      "optimization at t = 130 finished, lapse: 1.086sec.\n",
      "optimization at t = 131 finished, lapse: 1.374sec.\n",
      "optimization at t = 132 finished, lapse: 1.005sec.\n",
      "optimization at t = 133 finished, lapse: 0.954sec.\n",
      "optimization at t = 134 finished, lapse: 1.644sec.\n",
      "optimization at t = 135 finished, lapse: 1.168sec.\n",
      "optimization at t = 136 finished, lapse: 1.216sec.\n",
      "optimization at t = 137 finished, lapse: 1.172sec.\n",
      "optimization at t = 138 finished, lapse: 1.817sec.\n",
      "optimization at t = 139 finished, lapse: 0.970sec.\n",
      "optimization at t = 140 finished, lapse: 2.445sec.\n",
      "optimization at t = 141 finished, lapse: 1.250sec.\n",
      "optimization at t = 142 finished, lapse: 0.699sec.\n",
      "optimization at t = 143 finished, lapse: 1.989sec.\n",
      "optimization at t = 144 finished, lapse: 2.126sec.\n",
      "optimization at t = 145 finished, lapse: 1.809sec.\n",
      "optimization at t = 146 finished, lapse: 2.195sec.\n",
      "optimization at t = 147 finished, lapse: 1.147sec.\n",
      "optimization at t = 148 finished, lapse: 4.407sec.\n",
      "optimization at t = 149 finished, lapse: 2.005sec.\n",
      "optimization at t = 150 finished, lapse: 2.992sec.\n",
      "optimization at t = 151 finished, lapse: 0.753sec.\n",
      "optimization at t = 152 finished, lapse: 3.334sec.\n",
      "optimization at t = 153 finished, lapse: 2.762sec.\n",
      "optimization at t = 154 finished, lapse: 2.269sec.\n",
      "optimization at t = 155 finished, lapse: 1.583sec.\n",
      "optimization at t = 156 finished, lapse: 1.084sec.\n",
      "optimization at t = 157 finished, lapse: 1.979sec.\n",
      "optimization at t = 158 finished, lapse: 1.280sec.\n",
      "optimization at t = 159 finished, lapse: 1.231sec.\n",
      "optimization at t = 160 finished, lapse: 2.567sec.\n",
      "optimization at t = 161 finished, lapse: 4.550sec.\n",
      "optimization at t = 162 finished, lapse: 3.809sec.\n",
      "optimization at t = 163 finished, lapse: 3.050sec.\n",
      "optimization at t = 164 finished, lapse: 4.464sec.\n",
      "optimization at t = 165 finished, lapse: 3.685sec.\n",
      "optimization at t = 166 finished, lapse: 4.469sec.\n",
      "optimization at t = 167 finished, lapse: 4.291sec.\n",
      "optimization at t = 168 finished, lapse: 6.376sec.\n",
      "optimization at t = 169 finished, lapse: 2.474sec.\n",
      "optimization at t = 170 finished, lapse: 4.484sec.\n",
      "optimization at t = 171 finished, lapse: 1.000sec.\n"
     ]
    },
    {
     "name": "stdout",
     "output_type": "stream",
     "text": [
      "optimization at t = 172 finished, lapse: 3.471sec.\n",
      "optimization at t = 173 finished, lapse: 2.398sec.\n",
      "optimization at t = 174 finished, lapse: 1.390sec.\n",
      "optimization at t = 175 finished, lapse: 3.323sec.\n",
      "optimization at t = 176 finished, lapse: 1.565sec.\n",
      "optimization at t = 177 finished, lapse: 1.336sec.\n",
      "optimization at t = 178 finished, lapse: 3.572sec.\n",
      "optimization at t = 179 finished, lapse: 2.032sec.\n",
      "optimization at t = 180 finished, lapse: 3.390sec.\n"
     ]
    }
   ],
   "source": [
    "conf_band, theta_min, theta_max = \\\n",
    "model.confidence_I(Ae, mepi, bepi, Vepi, chi_pa,\n",
    "                    verbose=True)"
   ]
  },
  {
   "cell_type": "code",
   "execution_count": 39,
   "id": "4b796b63",
   "metadata": {},
   "outputs": [
    {
     "data": {
      "text/plain": [
       "<matplotlib.collections.PolyCollection at 0x139288fd0>"
      ]
     },
     "execution_count": 39,
     "metadata": {},
     "output_type": "execute_result"
    },
    {
     "data": {
      "image/png": "[encoded data removed]",
      "text/plain": [
       "<Figure size 640x480 with 1 Axes>"
      ]
     },
     "metadata": {},
     "output_type": "display_data"
    }
   ],
   "source": [
    "plt.bar(np.arange(T), I, color='grey', alpha=0.5)\n",
    "plt.plot(model.predict_I(Ae, mepi, bepi))\n",
    "plt.fill_between(np.arange(np.shape(conf_band)[0]),\n",
    "                 conf_band[:,0], conf_band[:,1], alpha=0.3)"
   ]
  },
  {
   "cell_type": "code",
   "execution_count": 40,
   "id": "dee28adc",
   "metadata": {
    "scrolled": true
   },
   "outputs": [
    {
     "name": "stdout",
     "output_type": "stream",
     "text": [
      "optimization at t = 1 finished, lapse: 1.213sec.\n",
      "optimization at t = 2 finished, lapse: 0.265sec.\n",
      "optimization at t = 3 finished, lapse: 1.521sec.\n",
      "optimization at t = 4 finished, lapse: 0.825sec.\n",
      "optimization at t = 5 finished, lapse: 0.421sec.\n",
      "optimization at t = 6 finished, lapse: 1.639sec.\n",
      "optimization at t = 7 finished, lapse: 0.367sec.\n",
      "optimization at t = 8 finished, lapse: 0.352sec.\n",
      "optimization at t = 9 finished, lapse: 0.256sec.\n",
      "optimization at t = 10 finished, lapse: 0.529sec.\n",
      "optimization at t = 11 finished, lapse: 0.506sec.\n",
      "optimization at t = 12 finished, lapse: 0.361sec.\n",
      "optimization at t = 13 finished, lapse: 0.148sec.\n",
      "optimization at t = 14 finished, lapse: 0.188sec.\n",
      "optimization at t = 15 finished, lapse: 0.114sec.\n",
      "optimization at t = 16 finished, lapse: 0.132sec.\n",
      "optimization at t = 17 finished, lapse: 0.311sec.\n",
      "optimization at t = 18 finished, lapse: 0.206sec.\n",
      "optimization at t = 19 finished, lapse: 0.172sec.\n",
      "optimization at t = 20 finished, lapse: 0.123sec.\n",
      "optimization at t = 21 finished, lapse: 0.119sec.\n",
      "optimization at t = 22 finished, lapse: 0.108sec.\n",
      "optimization at t = 23 finished, lapse: 0.094sec.\n",
      "optimization at t = 24 finished, lapse: 0.086sec.\n",
      "optimization at t = 25 finished, lapse: 0.092sec.\n",
      "optimization at t = 26 finished, lapse: 0.072sec.\n",
      "optimization at t = 27 finished, lapse: 0.075sec.\n",
      "optimization at t = 28 finished, lapse: 0.064sec.\n",
      "optimization at t = 29 finished, lapse: 0.064sec.\n",
      "optimization at t = 30 finished, lapse: 0.068sec.\n",
      "optimization at t = 31 finished, lapse: 0.069sec.\n",
      "optimization at t = 32 finished, lapse: 0.064sec.\n",
      "optimization at t = 33 finished, lapse: 0.065sec.\n",
      "optimization at t = 34 finished, lapse: 0.068sec.\n",
      "optimization at t = 35 finished, lapse: 0.127sec.\n",
      "optimization at t = 36 finished, lapse: 0.149sec.\n",
      "optimization at t = 37 finished, lapse: 0.157sec.\n",
      "optimization at t = 38 finished, lapse: 0.184sec.\n",
      "optimization at t = 39 finished, lapse: 0.187sec.\n",
      "optimization at t = 40 finished, lapse: 0.206sec.\n",
      "optimization at t = 41 finished, lapse: 0.174sec.\n",
      "optimization at t = 42 finished, lapse: 0.170sec.\n",
      "optimization at t = 43 finished, lapse: 0.187sec.\n",
      "optimization at t = 44 finished, lapse: 0.207sec.\n",
      "optimization at t = 45 finished, lapse: 0.177sec.\n",
      "optimization at t = 46 finished, lapse: 0.178sec.\n",
      "optimization at t = 47 finished, lapse: 0.189sec.\n",
      "optimization at t = 48 finished, lapse: 0.144sec.\n",
      "optimization at t = 49 finished, lapse: 0.188sec.\n",
      "optimization at t = 50 finished, lapse: 0.180sec.\n",
      "optimization at t = 51 finished, lapse: 0.216sec.\n",
      "optimization at t = 52 finished, lapse: 0.187sec.\n",
      "optimization at t = 53 finished, lapse: 0.194sec.\n",
      "optimization at t = 54 finished, lapse: 0.168sec.\n",
      "optimization at t = 55 finished, lapse: 0.191sec.\n",
      "optimization at t = 56 finished, lapse: 0.182sec.\n",
      "optimization at t = 57 finished, lapse: 0.241sec.\n",
      "optimization at t = 58 finished, lapse: 0.242sec.\n",
      "optimization at t = 59 finished, lapse: 0.199sec.\n",
      "optimization at t = 60 finished, lapse: 0.182sec.\n",
      "optimization at t = 61 finished, lapse: 0.173sec.\n",
      "optimization at t = 62 finished, lapse: 0.195sec.\n",
      "optimization at t = 63 finished, lapse: 0.237sec.\n",
      "optimization at t = 64 finished, lapse: 0.196sec.\n",
      "optimization at t = 65 finished, lapse: 0.235sec.\n",
      "optimization at t = 66 finished, lapse: 0.454sec.\n",
      "optimization at t = 67 finished, lapse: 0.318sec.\n",
      "optimization at t = 68 finished, lapse: 0.295sec.\n",
      "optimization at t = 69 finished, lapse: 0.406sec.\n",
      "optimization at t = 70 finished, lapse: 0.334sec.\n",
      "optimization at t = 71 finished, lapse: 0.377sec.\n",
      "optimization at t = 72 finished, lapse: 0.375sec.\n",
      "optimization at t = 73 finished, lapse: 0.277sec.\n",
      "optimization at t = 74 finished, lapse: 0.357sec.\n",
      "optimization at t = 75 finished, lapse: 0.260sec.\n",
      "optimization at t = 76 finished, lapse: 0.402sec.\n",
      "optimization at t = 77 finished, lapse: 0.311sec.\n",
      "optimization at t = 78 finished, lapse: 0.393sec.\n",
      "optimization at t = 79 finished, lapse: 0.481sec.\n",
      "optimization at t = 80 finished, lapse: 0.276sec.\n",
      "optimization at t = 81 finished, lapse: 0.287sec.\n",
      "optimization at t = 82 finished, lapse: 0.574sec.\n",
      "optimization at t = 83 finished, lapse: 0.412sec.\n",
      "optimization at t = 84 finished, lapse: 0.274sec.\n",
      "optimization at t = 85 finished, lapse: 0.699sec.\n",
      "optimization at t = 86 finished, lapse: 0.351sec.\n",
      "optimization at t = 87 finished, lapse: 0.510sec.\n",
      "optimization at t = 88 finished, lapse: 0.358sec.\n",
      "optimization at t = 89 finished, lapse: 0.493sec.\n",
      "optimization at t = 90 finished, lapse: 0.374sec.\n",
      "optimization at t = 91 finished, lapse: 0.549sec.\n",
      "optimization at t = 92 finished, lapse: 0.357sec.\n",
      "optimization at t = 93 finished, lapse: 0.485sec.\n",
      "optimization at t = 94 finished, lapse: 0.376sec.\n",
      "optimization at t = 95 finished, lapse: 0.577sec.\n",
      "optimization at t = 96 finished, lapse: 0.377sec.\n",
      "optimization at t = 97 finished, lapse: 0.282sec.\n",
      "optimization at t = 98 finished, lapse: 0.461sec.\n",
      "optimization at t = 99 finished, lapse: 0.451sec.\n",
      "optimization at t = 100 finished, lapse: 0.464sec.\n",
      "optimization at t = 101 finished, lapse: 0.732sec.\n",
      "optimization at t = 102 finished, lapse: 0.294sec.\n",
      "optimization at t = 103 finished, lapse: 0.200sec.\n",
      "optimization at t = 104 finished, lapse: 0.263sec.\n",
      "optimization at t = 105 finished, lapse: 0.279sec.\n",
      "optimization at t = 106 finished, lapse: 0.548sec.\n",
      "optimization at t = 107 finished, lapse: 0.230sec.\n",
      "optimization at t = 108 finished, lapse: 0.262sec.\n",
      "optimization at t = 109 finished, lapse: 0.277sec.\n",
      "optimization at t = 110 finished, lapse: 0.446sec.\n",
      "optimization at t = 111 finished, lapse: 0.542sec.\n",
      "optimization at t = 112 finished, lapse: 0.524sec.\n",
      "optimization at t = 113 finished, lapse: 0.629sec.\n",
      "optimization at t = 114 finished, lapse: 0.283sec.\n",
      "optimization at t = 115 finished, lapse: 0.577sec.\n",
      "optimization at t = 116 finished, lapse: 0.623sec.\n",
      "optimization at t = 117 finished, lapse: 0.409sec.\n",
      "optimization at t = 118 finished, lapse: 1.484sec.\n",
      "optimization at t = 119 finished, lapse: 1.295sec.\n",
      "optimization at t = 120 finished, lapse: 0.744sec.\n",
      "optimization at t = 121 finished, lapse: 1.685sec.\n",
      "optimization at t = 122 finished, lapse: 0.528sec.\n",
      "optimization at t = 123 finished, lapse: 1.089sec.\n",
      "optimization at t = 124 finished, lapse: 0.335sec.\n",
      "optimization at t = 125 finished, lapse: 0.273sec.\n",
      "optimization at t = 126 finished, lapse: 0.734sec.\n",
      "optimization at t = 127 finished, lapse: 0.621sec.\n",
      "optimization at t = 128 finished, lapse: 0.948sec.\n",
      "optimization at t = 129 finished, lapse: 0.302sec.\n",
      "optimization at t = 130 finished, lapse: 0.566sec.\n",
      "optimization at t = 131 finished, lapse: 0.602sec.\n",
      "optimization at t = 132 finished, lapse: 0.311sec.\n",
      "optimization at t = 133 finished, lapse: 2.314sec.\n",
      "optimization at t = 134 finished, lapse: 1.463sec.\n",
      "optimization at t = 135 finished, lapse: 0.454sec.\n",
      "optimization at t = 136 finished, lapse: 0.540sec.\n",
      "optimization at t = 137 finished, lapse: 0.378sec.\n",
      "optimization at t = 138 finished, lapse: 0.441sec.\n",
      "optimization at t = 139 finished, lapse: 0.718sec.\n",
      "optimization at t = 140 finished, lapse: 0.301sec.\n",
      "optimization at t = 141 finished, lapse: 0.421sec.\n",
      "optimization at t = 142 finished, lapse: 0.517sec.\n",
      "optimization at t = 143 finished, lapse: 0.708sec.\n",
      "optimization at t = 144 finished, lapse: 0.742sec.\n",
      "optimization at t = 145 finished, lapse: 0.409sec.\n",
      "optimization at t = 146 finished, lapse: 1.043sec.\n",
      "optimization at t = 147 finished, lapse: 0.768sec.\n",
      "optimization at t = 148 finished, lapse: 0.600sec.\n",
      "optimization at t = 149 finished, lapse: 0.669sec.\n",
      "optimization at t = 150 finished, lapse: 1.318sec.\n",
      "optimization at t = 151 finished, lapse: 1.497sec.\n",
      "optimization at t = 152 finished, lapse: 1.866sec.\n",
      "optimization at t = 153 finished, lapse: 1.806sec.\n",
      "optimization at t = 154 finished, lapse: 1.643sec.\n",
      "optimization at t = 155 finished, lapse: 2.254sec.\n",
      "optimization at t = 156 finished, lapse: 4.162sec.\n",
      "optimization at t = 157 finished, lapse: 2.049sec.\n",
      "optimization at t = 158 finished, lapse: 1.023sec.\n",
      "optimization at t = 159 finished, lapse: 2.077sec.\n",
      "optimization at t = 160 finished, lapse: 1.538sec.\n",
      "optimization at t = 161 finished, lapse: 2.349sec.\n",
      "optimization at t = 162 finished, lapse: 3.286sec.\n",
      "optimization at t = 163 finished, lapse: 1.919sec.\n"
     ]
    },
    {
     "name": "stdout",
     "output_type": "stream",
     "text": [
      "optimization at t = 164 finished, lapse: 2.019sec.\n",
      "optimization at t = 165 finished, lapse: 2.136sec.\n",
      "optimization at t = 166 finished, lapse: 2.582sec.\n",
      "optimization at t = 167 finished, lapse: 2.338sec.\n",
      "optimization at t = 168 finished, lapse: 2.564sec.\n",
      "optimization at t = 169 finished, lapse: 2.137sec.\n",
      "optimization at t = 170 finished, lapse: 3.161sec.\n",
      "optimization at t = 171 finished, lapse: 2.752sec.\n",
      "optimization at t = 172 finished, lapse: 15.261sec.\n",
      "optimization at t = 173 finished, lapse: 7.215sec.\n",
      "optimization at t = 174 finished, lapse: 8.237sec.\n",
      "optimization at t = 175 finished, lapse: 5.713sec.\n",
      "optimization at t = 176 finished, lapse: 5.082sec.\n",
      "optimization at t = 177 finished, lapse: 12.050sec.\n",
      "optimization at t = 178 finished, lapse: 32.123sec.\n",
      "optimization at t = 179 finished, lapse: 21.457sec.\n",
      "optimization at t = 180 finished, lapse: 40.640sec.\n"
     ]
    }
   ],
   "source": [
    "conf_band, theta_min, theta_max = \\\n",
    "model.confidence_EY(Ae, mepi, bepi, Vepi, chi_pa,\n",
    "                    verbose=True)"
   ]
  },
  {
   "cell_type": "code",
   "execution_count": 41,
   "id": "94a8cacb",
   "metadata": {},
   "outputs": [
    {
     "data": {
      "text/plain": [
       "(0.0, 2000.0)"
      ]
     },
     "execution_count": 41,
     "metadata": {},
     "output_type": "execute_result"
    },
    {
     "data": {
      "image/png": "[encoded data removed]",
      "text/plain": [
       "<Figure size 640x480 with 1 Axes>"
      ]
     },
     "metadata": {},
     "output_type": "display_data"
    }
   ],
   "source": [
    "plt.bar(np.arange(T), Y, color='grey', alpha=0.5)\n",
    "plt.plot(model.predict_EY(Ae, mepi, bepi))\n",
    "plt.fill_between(np.arange(np.shape(conf_band)[0]),\n",
    "                 conf_band[:,0], conf_band[:,1], alpha=0.3)\n",
    "plt.ylim(0,2000)"
   ]
  },
  {
   "cell_type": "code",
   "execution_count": null,
   "id": "261965b0",
   "metadata": {},
   "outputs": [],
   "source": []
  }
 ],
 "metadata": {
  "kernelspec": {
   "display_name": "Python [conda env:freqepid]",
   "language": "python",
   "name": "conda-env-freqepid-py"
  },
  "language_info": {
   "codemirror_mode": {
    "name": "ipython",
    "version": 3
   },
   "file_extension": ".py",
   "mimetype": "text/x-python",
   "name": "python",
   "nbconvert_exporter": "python",
   "pygments_lexer": "ipython3",
   "version": "3.10.11"
  }
 },
 "nbformat": 4,
 "nbformat_minor": 5
}

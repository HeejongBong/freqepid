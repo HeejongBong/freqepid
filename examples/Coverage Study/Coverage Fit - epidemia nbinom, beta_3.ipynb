{
 "cells": [
  {
   "cell_type": "code",
   "execution_count": 1,
   "id": "7f4ae65c",
   "metadata": {
    "scrolled": true
   },
   "outputs": [
    {
     "name": "stderr",
     "output_type": "stream",
     "text": [
      "Registering fonts with R\n",
      "\n",
      "── \u001b[1mAttaching core tidyverse packages\u001b[22m ───────────────────────────────────────────── tidyverse 2.0.0 ──\n",
      "\u001b[32m✔\u001b[39m \u001b[34mdplyr    \u001b[39m 1.1.2     \u001b[32m✔\u001b[39m \u001b[34mreadr    \u001b[39m 2.1.4\n",
      "\u001b[32m✔\u001b[39m \u001b[34mforcats  \u001b[39m 1.0.0     \u001b[32m✔\u001b[39m \u001b[34mstringr  \u001b[39m 1.5.0\n",
      "\u001b[32m✔\u001b[39m \u001b[34mggplot2  \u001b[39m 3.4.2     \u001b[32m✔\u001b[39m \u001b[34mtibble   \u001b[39m 3.2.1\n",
      "\u001b[32m✔\u001b[39m \u001b[34mlubridate\u001b[39m 1.9.2     \u001b[32m✔\u001b[39m \u001b[34mtidyr    \u001b[39m 1.3.0\n",
      "\u001b[32m✔\u001b[39m \u001b[34mpurrr    \u001b[39m 1.0.1     \n",
      "── \u001b[1mConflicts\u001b[22m ─────────────────────────────────────────────────────────────── tidyverse_conflicts() ──\n",
      "\u001b[31m✖\u001b[39m \u001b[34mdplyr\u001b[39m::\u001b[32mfilter()\u001b[39m masks \u001b[34mstats\u001b[39m::filter()\n",
      "\u001b[31m✖\u001b[39m \u001b[34mdplyr\u001b[39m::\u001b[32mlag()\u001b[39m    masks \u001b[34mstats\u001b[39m::lag()\n",
      "\u001b[36mℹ\u001b[39m Use the conflicted package (\u001b[3m\u001b[34m<http://conflicted.r-lib.org/>\u001b[39m\u001b[23m) to force all conflicts to become errors\n",
      "\n",
      "Attaching package: ‘arrow’\n",
      "\n",
      "\n",
      "The following object is masked from ‘package:lubridate’:\n",
      "\n",
      "    duration\n",
      "\n",
      "\n",
      "The following object is masked from ‘package:utils’:\n",
      "\n",
      "    timestamp\n",
      "\n",
      "\n"
     ]
    }
   ],
   "source": [
    "library(extrafont)\n",
    "library(tidyverse)\n",
    "library(epidemia)\n",
    "library(arrow)"
   ]
  },
  {
   "cell_type": "markdown",
   "id": "3bc1b32a",
   "metadata": {},
   "source": [
    "# 1. parameters"
   ]
  },
  {
   "cell_type": "code",
   "execution_count": 2,
   "id": "262260ab",
   "metadata": {},
   "outputs": [],
   "source": [
    "T = 60\n",
    "T0 = 40"
   ]
  },
  {
   "cell_type": "markdown",
   "id": "069af69f",
   "metadata": {},
   "source": [
    "## observation parameters"
   ]
  },
  {
   "cell_type": "code",
   "execution_count": 3,
   "id": "ae431fed",
   "metadata": {},
   "outputs": [],
   "source": [
    "alpha = 0.01\n",
    "r_Y = 10"
   ]
  },
  {
   "cell_type": "markdown",
   "id": "bce16711",
   "metadata": {},
   "source": [
    "$$Y_t = NegBinom( \\frac{EY_t}{r_Y + EY_t}, r_Y )$$\n",
    "\n",
    "$$ EY_t = \\alpha\\sum_{s=1}^{t-1} I_s \\pi_{t-s} $$"
   ]
  },
  {
   "cell_type": "markdown",
   "id": "1e23dc89",
   "metadata": {},
   "source": [
    "## latent parameters"
   ]
  },
  {
   "cell_type": "code",
   "execution_count": 5,
   "id": "9c096ba4",
   "metadata": {},
   "outputs": [],
   "source": [
    "d = 2\n",
    "beta = c(0.75, -2.95)"
   ]
  },
  {
   "cell_type": "code",
   "execution_count": 6,
   "id": "ebd4a5fb",
   "metadata": {},
   "outputs": [],
   "source": [
    "r_I = 100\n",
    "K = 6.5"
   ]
  },
  {
   "cell_type": "markdown",
   "id": "28d46910",
   "metadata": {},
   "source": [
    "$$I_t = NegBinom( \\frac{EI_t}{r_I + EI_t}, r_I )$$\n",
    "\n",
    "$$ EI_t = R(\\bar{A}_t, \\beta) \\sum_{s=1}^{t-1} I_s g_{t-s} $$\n",
    "\n",
    "$$R(\\bar{A}_t, \\beta) = \\frac{K}{1+\\exp(- \\beta^\\top A_t)}$$"
   ]
  },
  {
   "cell_type": "markdown",
   "id": "087ed62b",
   "metadata": {},
   "source": [
    "## seed values"
   ]
  },
  {
   "cell_type": "code",
   "execution_count": 7,
   "id": "3cdc8bb3",
   "metadata": {},
   "outputs": [],
   "source": [
    "mu = log(100)"
   ]
  },
  {
   "cell_type": "markdown",
   "id": "0451a962",
   "metadata": {},
   "source": [
    "$$I_{-T_0} = \\mu_0$$"
   ]
  },
  {
   "cell_type": "markdown",
   "id": "f44e24fc",
   "metadata": {},
   "source": [
    "# 2. fit"
   ]
  },
  {
   "cell_type": "code",
   "execution_count": 8,
   "id": "c9efbd00",
   "metadata": {},
   "outputs": [],
   "source": [
    "num_sim = 1000"
   ]
  },
  {
   "cell_type": "code",
   "execution_count": 9,
   "id": "7434622a",
   "metadata": {},
   "outputs": [],
   "source": [
    "data <- read_feather('data/simulation_randinf_3.feather')"
   ]
  },
  {
   "cell_type": "code",
   "execution_count": 10,
   "id": "db11987f",
   "metadata": {},
   "outputs": [
    {
     "data": {
      "text/html": [
       "<table class=\"dataframe\">\n",
       "<caption>A tibble: 6 × 8</caption>\n",
       "<thead>\n",
       "\t<tr><th scope=col>sim</th><th scope=col>date</th><th scope=col>R</th><th scope=col>EI</th><th scope=col>infection</th><th scope=col>EY</th><th scope=col>death</th><th scope=col>intervention</th></tr>\n",
       "\t<tr><th scope=col>&lt;int&gt;</th><th scope=col>&lt;int&gt;</th><th scope=col>&lt;dbl&gt;</th><th scope=col>&lt;dbl&gt;</th><th scope=col>&lt;dbl&gt;</th><th scope=col>&lt;dbl&gt;</th><th scope=col>&lt;int&gt;</th><th scope=col>&lt;int&gt;</th></tr>\n",
       "</thead>\n",
       "<tbody>\n",
       "\t<tr><td>0</td><td>0</td><td>4.414662</td><td> 441.4631</td><td> 480</td><td>0.9560691</td><td>1</td><td>0</td></tr>\n",
       "\t<tr><td>0</td><td>1</td><td>4.414662</td><td> 472.2075</td><td> 475</td><td>0.9625449</td><td>0</td><td>0</td></tr>\n",
       "\t<tr><td>0</td><td>2</td><td>4.414662</td><td> 583.5170</td><td> 588</td><td>0.9683382</td><td>1</td><td>0</td></tr>\n",
       "\t<tr><td>0</td><td>3</td><td>4.414662</td><td> 762.1575</td><td> 670</td><td>0.9740151</td><td>1</td><td>0</td></tr>\n",
       "\t<tr><td>0</td><td>4</td><td>4.414662</td><td> 997.2407</td><td> 955</td><td>0.9812028</td><td>0</td><td>0</td></tr>\n",
       "\t<tr><td>0</td><td>5</td><td>4.414662</td><td>1291.2474</td><td>1355</td><td>0.9923307</td><td>0</td><td>0</td></tr>\n",
       "</tbody>\n",
       "</table>\n"
      ],
      "text/latex": [
       "A tibble: 6 × 8\n",
       "\\begin{tabular}{llllllll}\n",
       " sim & date & R & EI & infection & EY & death & intervention\\\\\n",
       " <int> & <int> & <dbl> & <dbl> & <dbl> & <dbl> & <int> & <int>\\\\\n",
       "\\hline\n",
       "\t 0 & 0 & 4.414662 &  441.4631 &  480 & 0.9560691 & 1 & 0\\\\\n",
       "\t 0 & 1 & 4.414662 &  472.2075 &  475 & 0.9625449 & 0 & 0\\\\\n",
       "\t 0 & 2 & 4.414662 &  583.5170 &  588 & 0.9683382 & 1 & 0\\\\\n",
       "\t 0 & 3 & 4.414662 &  762.1575 &  670 & 0.9740151 & 1 & 0\\\\\n",
       "\t 0 & 4 & 4.414662 &  997.2407 &  955 & 0.9812028 & 0 & 0\\\\\n",
       "\t 0 & 5 & 4.414662 & 1291.2474 & 1355 & 0.9923307 & 0 & 0\\\\\n",
       "\\end{tabular}\n"
      ],
      "text/markdown": [
       "\n",
       "A tibble: 6 × 8\n",
       "\n",
       "| sim &lt;int&gt; | date &lt;int&gt; | R &lt;dbl&gt; | EI &lt;dbl&gt; | infection &lt;dbl&gt; | EY &lt;dbl&gt; | death &lt;int&gt; | intervention &lt;int&gt; |\n",
       "|---|---|---|---|---|---|---|---|\n",
       "| 0 | 0 | 4.414662 |  441.4631 |  480 | 0.9560691 | 1 | 0 |\n",
       "| 0 | 1 | 4.414662 |  472.2075 |  475 | 0.9625449 | 0 | 0 |\n",
       "| 0 | 2 | 4.414662 |  583.5170 |  588 | 0.9683382 | 1 | 0 |\n",
       "| 0 | 3 | 4.414662 |  762.1575 |  670 | 0.9740151 | 1 | 0 |\n",
       "| 0 | 4 | 4.414662 |  997.2407 |  955 | 0.9812028 | 0 | 0 |\n",
       "| 0 | 5 | 4.414662 | 1291.2474 | 1355 | 0.9923307 | 0 | 0 |\n",
       "\n"
      ],
      "text/plain": [
       "  sim date R        EI        infection EY        death intervention\n",
       "1 0   0    4.414662  441.4631  480      0.9560691 1     0           \n",
       "2 0   1    4.414662  472.2075  475      0.9625449 0     0           \n",
       "3 0   2    4.414662  583.5170  588      0.9683382 1     0           \n",
       "4 0   3    4.414662  762.1575  670      0.9740151 1     0           \n",
       "5 0   4    4.414662  997.2407  955      0.9812028 0     0           \n",
       "6 0   5    4.414662 1291.2474 1355      0.9923307 0     0           "
      ]
     },
     "metadata": {},
     "output_type": "display_data"
    }
   ],
   "source": [
    "head(data)"
   ]
  },
  {
   "cell_type": "code",
   "execution_count": 11,
   "id": "6b417a2d",
   "metadata": {},
   "outputs": [],
   "source": [
    "rt <- epirt(formula = R(country, date) ~ 1 + intervention,\n",
    "            prior = shifted_gamma(shape = 1/6, scale = 1, shift = log(1.05)/6),\n",
    "            prior_covariance = decov(shape = c(2, rep(0.5, 5)), scale = 0.25),\n",
    "            link = scaled_logit(6.5))"
   ]
  },
  {
   "cell_type": "code",
   "execution_count": 12,
   "id": "53874383",
   "metadata": {},
   "outputs": [],
   "source": [
    "inf <- epiinf(gen = EuropeCovid$si, seed_days = T0)"
   ]
  },
  {
   "cell_type": "code",
   "execution_count": 13,
   "id": "f849d6e7",
   "metadata": {},
   "outputs": [
    {
     "name": "stderr",
     "output_type": "stream",
     "text": [
      "Warning message:\n",
      "“i2o does not sum to one. Please ensure this is intentional.”\n"
     ]
    }
   ],
   "source": [
    "deaths <- epiobs(formula = death ~ 1, i2o = EuropeCovid2$inf2death,\n",
    "                 prior_intercept = normal(0, 0.2), link = scaled_logit(0.02))"
   ]
  },
  {
   "cell_type": "code",
   "execution_count": 14,
   "id": "b51b3962",
   "metadata": {},
   "outputs": [],
   "source": [
    "results = array(0, c(num_sim, 6))\n",
    "colnames(results)=c('b[0]','b[1]','V[0,0]','V[1,0]','V[0,1]','V[1,1]')"
   ]
  },
  {
   "cell_type": "code",
   "execution_count": 15,
   "id": "e75f0162",
   "metadata": {
    "scrolled": true
   },
   "outputs": [
    {
     "name": "stderr",
     "output_type": "stream",
     "text": [
      "Warning message:\n",
      "“Pareto k diagnostic value is 0.93. Resampling is unreliable. Increasing the number of draws or decreasing tol_rel_obj may help.”\n"
     ]
    },
    {
     "name": "stdout",
     "output_type": "stream",
     "text": [
      "[1] \"1-th simulation finished, 6.1339999999982 sec.\"\n",
      "[1] \"2-th simulation finished, 6.33099999999831 sec.\"\n",
      "[1] \"3-th simulation finished, 4.24199999999837 sec.\"\n",
      "[1] \"4-th simulation finished, 6.00500000000102 sec.\"\n",
      "[1] \"5-th simulation finished, 6.0669999999991 sec.\"\n",
      "[1] \"6-th simulation finished, 6.05999999999767 sec.\"\n"
     ]
    },
    {
     "name": "stderr",
     "output_type": "stream",
     "text": [
      "Warning message:\n",
      "“Pareto k diagnostic value is 0.79. Resampling is unreliable. Increasing the number of draws or decreasing tol_rel_obj may help.”\n"
     ]
    },
    {
     "name": "stdout",
     "output_type": "stream",
     "text": [
      "[1] \"7-th simulation finished, 6.43600000000151 sec.\"\n",
      "[1] \"8-th simulation finished, 2.61200000000099 sec.\"\n",
      "[1] \"9-th simulation finished, 2.96700000000055 sec.\"\n",
      "[1] \"10-th simulation finished, 2.77299999999741 sec.\"\n",
      "[1] \"11-th simulation finished, 6.60699999999997 sec.\"\n",
      "[1] \"12-th simulation finished, 4.40200000000186 sec.\"\n",
      "[1] \"13-th simulation finished, 2.84899999999834 sec.\"\n"
     ]
    },
    {
     "name": "stderr",
     "output_type": "stream",
     "text": [
      "Warning message:\n",
      "“Pareto k diagnostic value is 0.89. Resampling is unreliable. Increasing the number of draws or decreasing tol_rel_obj may help.”\n"
     ]
    },
    {
     "name": "stdout",
     "output_type": "stream",
     "text": [
      "[1] \"14-th simulation finished, 6.32599999999729 sec.\"\n",
      "[1] \"15-th simulation finished, 6.94599999999991 sec.\"\n"
     ]
    },
    {
     "name": "stderr",
     "output_type": "stream",
     "text": [
      "Warning message:\n",
      "“Pareto k diagnostic value is 0.81. Resampling is unreliable. Increasing the number of draws or decreasing tol_rel_obj may help.”\n"
     ]
    },
    {
     "name": "stdout",
     "output_type": "stream",
     "text": [
      "[1] \"16-th simulation finished, 6.57400000000052 sec.\"\n",
      "[1] \"17-th simulation finished, 6.94900000000052 sec.\"\n",
      "[1] \"18-th simulation finished, 4.56000000000131 sec.\"\n",
      "[1] \"19-th simulation finished, 4.27000000000044 sec.\"\n",
      "[1] \"20-th simulation finished, 5.70899999999892 sec.\"\n"
     ]
    },
    {
     "name": "stderr",
     "output_type": "stream",
     "text": [
      "Warning message:\n",
      "“Pareto k diagnostic value is 0.85. Resampling is unreliable. Increasing the number of draws or decreasing tol_rel_obj may help.”\n"
     ]
    },
    {
     "name": "stdout",
     "output_type": "stream",
     "text": [
      "[1] \"21-th simulation finished, 5.96700000000055 sec.\"\n"
     ]
    },
    {
     "name": "stderr",
     "output_type": "stream",
     "text": [
      "Warning message:\n",
      "“Pareto k diagnostic value is 0.89. Resampling is unreliable. Increasing the number of draws or decreasing tol_rel_obj may help.”\n"
     ]
    },
    {
     "name": "stdout",
     "output_type": "stream",
     "text": [
      "[1] \"22-th simulation finished, 5.99599999999919 sec.\"\n"
     ]
    },
    {
     "name": "stderr",
     "output_type": "stream",
     "text": [
      "Warning message:\n",
      "“Pareto k diagnostic value is 0.85. Resampling is unreliable. Increasing the number of draws or decreasing tol_rel_obj may help.”\n"
     ]
    },
    {
     "name": "stdout",
     "output_type": "stream",
     "text": [
      "[1] \"23-th simulation finished, 5.9330000000009 sec.\"\n",
      "[1] \"24-th simulation finished, 4.02799999999843 sec.\"\n",
      "[1] \"25-th simulation finished, 2.58499999999913 sec.\"\n",
      "[1] \"26-th simulation finished, 2.61999999999898 sec.\"\n"
     ]
    },
    {
     "name": "stderr",
     "output_type": "stream",
     "text": [
      "Warning message:\n",
      "“Pareto k diagnostic value is 0.85. Resampling is unreliable. Increasing the number of draws or decreasing tol_rel_obj may help.”\n"
     ]
    },
    {
     "name": "stdout",
     "output_type": "stream",
     "text": [
      "[1] \"27-th simulation finished, 5.95999999999913 sec.\"\n",
      "[1] \"28-th simulation finished, 4.1239999999998 sec.\"\n"
     ]
    },
    {
     "name": "stderr",
     "output_type": "stream",
     "text": [
      "Warning message:\n",
      "“Pareto k diagnostic value is 0.85. Resampling is unreliable. Increasing the number of draws or decreasing tol_rel_obj may help.”\n"
     ]
    },
    {
     "name": "stdout",
     "output_type": "stream",
     "text": [
      "[1] \"29-th simulation finished, 5.83399999999892 sec.\"\n",
      "[1] \"30-th simulation finished, 5.78499999999985 sec.\"\n",
      "[1] \"31-th simulation finished, 5.81200000000172 sec.\"\n",
      "[1] \"32-th simulation finished, 5.79799999999886 sec.\"\n",
      "[1] \"33-th simulation finished, 5.97200000000157 sec.\"\n"
     ]
    },
    {
     "name": "stderr",
     "output_type": "stream",
     "text": [
      "Warning message:\n",
      "“Pareto k diagnostic value is 0.8. Resampling is unreliable. Increasing the number of draws or decreasing tol_rel_obj may help.”\n"
     ]
    },
    {
     "name": "stdout",
     "output_type": "stream",
     "text": [
      "[1] \"34-th simulation finished, 5.73899999999776 sec.\"\n",
      "[1] \"35-th simulation finished, 5.79799999999886 sec.\"\n",
      "[1] \"36-th simulation finished, 5.88299999999799 sec.\"\n",
      "[1] \"37-th simulation finished, 5.82200000000012 sec.\"\n",
      "[1] \"38-th simulation finished, 4.04399999999805 sec.\"\n"
     ]
    },
    {
     "name": "stderr",
     "output_type": "stream",
     "text": [
      "Warning message:\n",
      "“Pareto k diagnostic value is 0.86. Resampling is unreliable. Increasing the number of draws or decreasing tol_rel_obj may help.”\n"
     ]
    },
    {
     "name": "stdout",
     "output_type": "stream",
     "text": [
      "[1] \"39-th simulation finished, 5.70500000000175 sec.\"\n",
      "[1] \"40-th simulation finished, 5.71500000000015 sec.\"\n"
     ]
    },
    {
     "name": "stderr",
     "output_type": "stream",
     "text": [
      "Warning message:\n",
      "“Pareto k diagnostic value is 0.85. Resampling is unreliable. Increasing the number of draws or decreasing tol_rel_obj may help.”\n"
     ]
    },
    {
     "name": "stdout",
     "output_type": "stream",
     "text": [
      "[1] \"41-th simulation finished, 5.88400000000183 sec.\"\n",
      "[1] \"42-th simulation finished, 6.51499999999942 sec.\"\n"
     ]
    },
    {
     "name": "stderr",
     "output_type": "stream",
     "text": [
      "Warning message:\n",
      "“Pareto k diagnostic value is 0.8. Resampling is unreliable. Increasing the number of draws or decreasing tol_rel_obj may help.”\n"
     ]
    },
    {
     "name": "stdout",
     "output_type": "stream",
     "text": [
      "[1] \"43-th simulation finished, 5.80299999999988 sec.\"\n",
      "[1] \"44-th simulation finished, 2.67699999999968 sec.\"\n",
      "[1] \"45-th simulation finished, 5.67500000000291 sec.\"\n",
      "[1] \"46-th simulation finished, 5.65000000000146 sec.\"\n"
     ]
    },
    {
     "name": "stderr",
     "output_type": "stream",
     "text": [
      "Warning message:\n",
      "“Pareto k diagnostic value is 0.85. Resampling is unreliable. Increasing the number of draws or decreasing tol_rel_obj may help.”\n"
     ]
    },
    {
     "name": "stdout",
     "output_type": "stream",
     "text": [
      "[1] \"47-th simulation finished, 5.76599999999962 sec.\"\n",
      "[1] \"48-th simulation finished, 2.61999999999898 sec.\"\n"
     ]
    },
    {
     "name": "stderr",
     "output_type": "stream",
     "text": [
      "Warning message:\n",
      "“Pareto k diagnostic value is 0.87. Resampling is unreliable. Increasing the number of draws or decreasing tol_rel_obj may help.”\n"
     ]
    },
    {
     "name": "stdout",
     "output_type": "stream",
     "text": [
      "[1] \"49-th simulation finished, 5.57600000000093 sec.\"\n",
      "[1] \"50-th simulation finished, 2.7609999999986 sec.\"\n"
     ]
    },
    {
     "name": "stderr",
     "output_type": "stream",
     "text": [
      "Warning message:\n",
      "“Pareto k diagnostic value is 0.82. Resampling is unreliable. Increasing the number of draws or decreasing tol_rel_obj may help.”\n"
     ]
    },
    {
     "name": "stdout",
     "output_type": "stream",
     "text": [
      "[1] \"51-th simulation finished, 5.70999999999913 sec.\"\n"
     ]
    },
    {
     "name": "stderr",
     "output_type": "stream",
     "text": [
      "Warning message:\n",
      "“Pareto k diagnostic value is 0.83. Resampling is unreliable. Increasing the number of draws or decreasing tol_rel_obj may help.”\n"
     ]
    },
    {
     "name": "stdout",
     "output_type": "stream",
     "text": [
      "[1] \"52-th simulation finished, 5.69700000000012 sec.\"\n"
     ]
    },
    {
     "name": "stderr",
     "output_type": "stream",
     "text": [
      "Warning message:\n",
      "“Pareto k diagnostic value is 0.9. Resampling is unreliable. Increasing the number of draws or decreasing tol_rel_obj may help.”\n"
     ]
    },
    {
     "name": "stdout",
     "output_type": "stream",
     "text": [
      "[1] \"53-th simulation finished, 5.73500000000058 sec.\"\n",
      "[1] \"54-th simulation finished, 4.00400000000081 sec.\"\n"
     ]
    },
    {
     "name": "stderr",
     "output_type": "stream",
     "text": [
      "Warning message:\n",
      "“Pareto k diagnostic value is 0.85. Resampling is unreliable. Increasing the number of draws or decreasing tol_rel_obj may help.”\n"
     ]
    },
    {
     "name": "stdout",
     "output_type": "stream",
     "text": [
      "[1] \"55-th simulation finished, 5.57400000000052 sec.\"\n"
     ]
    },
    {
     "name": "stderr",
     "output_type": "stream",
     "text": [
      "Warning message:\n",
      "“Pareto k diagnostic value is 0.84. Resampling is unreliable. Increasing the number of draws or decreasing tol_rel_obj may help.”\n"
     ]
    },
    {
     "name": "stdout",
     "output_type": "stream",
     "text": [
      "[1] \"56-th simulation finished, 6.28299999999945 sec.\"\n",
      "[1] \"57-th simulation finished, 5.71900000000096 sec.\"\n",
      "[1] \"58-th simulation finished, 2.68400000000111 sec.\"\n",
      "[1] \"59-th simulation finished, 6.54999999999927 sec.\"\n",
      "[1] \"60-th simulation finished, 2.6150000000016 sec.\"\n",
      "[1] \"61-th simulation finished, 5.85299999999916 sec.\"\n",
      "[1] \"62-th simulation finished, 5.65699999999924 sec.\"\n",
      "[1] \"63-th simulation finished, 2.64800000000105 sec.\"\n"
     ]
    },
    {
     "name": "stderr",
     "output_type": "stream",
     "text": [
      "Warning message:\n",
      "“Pareto k diagnostic value is 0.89. Resampling is unreliable. Increasing the number of draws or decreasing tol_rel_obj may help.”\n"
     ]
    },
    {
     "name": "stdout",
     "output_type": "stream",
     "text": [
      "[1] \"64-th simulation finished, 5.57700000000114 sec.\"\n",
      "[1] \"65-th simulation finished, 2.34399999999732 sec.\"\n"
     ]
    },
    {
     "name": "stderr",
     "output_type": "stream",
     "text": [
      "Warning message:\n",
      "“Pareto k diagnostic value is 0.86. Resampling is unreliable. Increasing the number of draws or decreasing tol_rel_obj may help.”\n"
     ]
    },
    {
     "name": "stdout",
     "output_type": "stream",
     "text": [
      "[1] \"66-th simulation finished, 5.68400000000111 sec.\"\n"
     ]
    },
    {
     "name": "stderr",
     "output_type": "stream",
     "text": [
      "Warning message:\n",
      "“Pareto k diagnostic value is 0.7. Resampling is unreliable. Increasing the number of draws or decreasing tol_rel_obj may help.”\n"
     ]
    },
    {
     "name": "stdout",
     "output_type": "stream",
     "text": [
      "[1] \"67-th simulation finished, 6.38600000000224 sec.\"\n",
      "[1] \"68-th simulation finished, 4.02500000000146 sec.\"\n",
      "[1] \"69-th simulation finished, 6.1810000000005 sec.\"\n"
     ]
    },
    {
     "name": "stderr",
     "output_type": "stream",
     "text": [
      "Warning message:\n",
      "“Pareto k diagnostic value is 0.81. Resampling is unreliable. Increasing the number of draws or decreasing tol_rel_obj may help.”\n"
     ]
    },
    {
     "name": "stdout",
     "output_type": "stream",
     "text": [
      "[1] \"70-th simulation finished, 5.80299999999988 sec.\"\n",
      "[1] \"71-th simulation finished, 4.02400000000125 sec.\"\n",
      "[1] \"72-th simulation finished, 3.99699999999939 sec.\"\n",
      "[1] \"73-th simulation finished, 5.82800000000134 sec.\"\n",
      "[1] \"74-th simulation finished, 2.70999999999913 sec.\"\n",
      "[1] \"75-th simulation finished, 2.61000000000058 sec.\"\n"
     ]
    },
    {
     "name": "stderr",
     "output_type": "stream",
     "text": [
      "Warning message:\n",
      "“Pareto k diagnostic value is 0.8. Resampling is unreliable. Increasing the number of draws or decreasing tol_rel_obj may help.”\n"
     ]
    },
    {
     "name": "stdout",
     "output_type": "stream",
     "text": [
      "[1] \"76-th simulation finished, 5.67399999999907 sec.\"\n"
     ]
    },
    {
     "name": "stderr",
     "output_type": "stream",
     "text": [
      "Warning message:\n",
      "“Pareto k diagnostic value is 0.82. Resampling is unreliable. Increasing the number of draws or decreasing tol_rel_obj may help.”\n"
     ]
    },
    {
     "name": "stdout",
     "output_type": "stream",
     "text": [
      "[1] \"77-th simulation finished, 5.72999999999956 sec.\"\n",
      "[1] \"78-th simulation finished, 2.58699999999953 sec.\"\n",
      "[1] \"79-th simulation finished, 6.53200000000288 sec.\"\n",
      "[1] \"80-th simulation finished, 5.87299999999959 sec.\"\n"
     ]
    },
    {
     "name": "stderr",
     "output_type": "stream",
     "text": [
      "Warning message:\n",
      "“Pareto k diagnostic value is 0.84. Resampling is unreliable. Increasing the number of draws or decreasing tol_rel_obj may help.”\n"
     ]
    },
    {
     "name": "stdout",
     "output_type": "stream",
     "text": [
      "[1] \"81-th simulation finished, 5.83199999999852 sec.\"\n"
     ]
    },
    {
     "name": "stderr",
     "output_type": "stream",
     "text": [
      "Warning message:\n",
      "“Pareto k diagnostic value is 0.87. Resampling is unreliable. Increasing the number of draws or decreasing tol_rel_obj may help.”\n"
     ]
    },
    {
     "name": "stdout",
     "output_type": "stream",
     "text": [
      "[1] \"82-th simulation finished, 5.75700000000143 sec.\"\n",
      "[1] \"83-th simulation finished, 5.9320000000007 sec.\"\n",
      "[1] \"84-th simulation finished, 5.48099999999977 sec.\"\n"
     ]
    },
    {
     "name": "stderr",
     "output_type": "stream",
     "text": [
      "Warning message:\n",
      "“Pareto k diagnostic value is 0.89. Resampling is unreliable. Increasing the number of draws or decreasing tol_rel_obj may help.”\n"
     ]
    },
    {
     "name": "stdout",
     "output_type": "stream",
     "text": [
      "[1] \"85-th simulation finished, 5.54099999999744 sec.\"\n"
     ]
    },
    {
     "name": "stderr",
     "output_type": "stream",
     "text": [
      "Warning message:\n",
      "“Pareto k diagnostic value is 0.9. Resampling is unreliable. Increasing the number of draws or decreasing tol_rel_obj may help.”\n"
     ]
    },
    {
     "name": "stdout",
     "output_type": "stream",
     "text": [
      "[1] \"86-th simulation finished, 5.60900000000038 sec.\"\n"
     ]
    },
    {
     "name": "stderr",
     "output_type": "stream",
     "text": [
      "Warning message:\n",
      "“Pareto k diagnostic value is 0.83. Resampling is unreliable. Increasing the number of draws or decreasing tol_rel_obj may help.”\n"
     ]
    },
    {
     "name": "stdout",
     "output_type": "stream",
     "text": [
      "[1] \"87-th simulation finished, 5.73899999999776 sec.\"\n",
      "[1] \"88-th simulation finished, 5.62800000000061 sec.\"\n"
     ]
    },
    {
     "name": "stderr",
     "output_type": "stream",
     "text": [
      "Warning message:\n",
      "“Pareto k diagnostic value is 0.81. Resampling is unreliable. Increasing the number of draws or decreasing tol_rel_obj may help.”\n"
     ]
    },
    {
     "name": "stdout",
     "output_type": "stream",
     "text": [
      "[1] \"89-th simulation finished, 5.8060000000005 sec.\"\n",
      "[1] \"90-th simulation finished, 5.7970000000023 sec.\"\n",
      "[1] \"91-th simulation finished, 2.65899999999965 sec.\"\n"
     ]
    },
    {
     "name": "stderr",
     "output_type": "stream",
     "text": [
      "Warning message:\n",
      "“Pareto k diagnostic value is 0.83. Resampling is unreliable. Increasing the number of draws or decreasing tol_rel_obj may help.”\n"
     ]
    },
    {
     "name": "stdout",
     "output_type": "stream",
     "text": [
      "[1] \"92-th simulation finished, 5.79100000000108 sec.\"\n",
      "[1] \"93-th simulation finished, 2.64800000000105 sec.\"\n"
     ]
    },
    {
     "name": "stderr",
     "output_type": "stream",
     "text": [
      "Warning message:\n",
      "“Pareto k diagnostic value is 0.85. Resampling is unreliable. Increasing the number of draws or decreasing tol_rel_obj may help.”\n"
     ]
    },
    {
     "name": "stdout",
     "output_type": "stream",
     "text": [
      "[1] \"94-th simulation finished, 5.69999999999709 sec.\"\n",
      "[1] \"95-th simulation finished, 3.98800000000119 sec.\"\n"
     ]
    },
    {
     "name": "stderr",
     "output_type": "stream",
     "text": [
      "Warning message:\n",
      "“Pareto k diagnostic value is 0.81. Resampling is unreliable. Increasing the number of draws or decreasing tol_rel_obj may help.”\n"
     ]
    },
    {
     "name": "stdout",
     "output_type": "stream",
     "text": [
      "[1] \"96-th simulation finished, 5.80999999999767 sec.\"\n",
      "[1] \"97-th simulation finished, 5.62700000000041 sec.\"\n"
     ]
    },
    {
     "name": "stderr",
     "output_type": "stream",
     "text": [
      "Warning message:\n",
      "“Pareto k diagnostic value is 0.92. Resampling is unreliable. Increasing the number of draws or decreasing tol_rel_obj may help.”\n"
     ]
    },
    {
     "name": "stdout",
     "output_type": "stream",
     "text": [
      "[1] \"98-th simulation finished, 5.75599999999758 sec.\"\n",
      "[1] \"99-th simulation finished, 3.93599999999788 sec.\"\n",
      "[1] \"100-th simulation finished, 5.53700000000026 sec.\"\n"
     ]
    },
    {
     "name": "stderr",
     "output_type": "stream",
     "text": [
      "Warning message:\n",
      "“Pareto k diagnostic value is 0.81. Resampling is unreliable. Increasing the number of draws or decreasing tol_rel_obj may help.”\n"
     ]
    },
    {
     "name": "stdout",
     "output_type": "stream",
     "text": [
      "[1] \"101-th simulation finished, 5.83699999999953 sec.\"\n",
      "[1] \"102-th simulation finished, 2.61699999999837 sec.\"\n",
      "[1] \"103-th simulation finished, 4.00200000000041 sec.\"\n",
      "[1] \"104-th simulation finished, 5.63099999999758 sec.\"\n",
      "[1] \"105-th simulation finished, 4.06100000000151 sec.\"\n"
     ]
    },
    {
     "name": "stderr",
     "output_type": "stream",
     "text": [
      "Warning message:\n",
      "“Pareto k diagnostic value is 0.84. Resampling is unreliable. Increasing the number of draws or decreasing tol_rel_obj may help.”\n"
     ]
    },
    {
     "name": "stdout",
     "output_type": "stream",
     "text": [
      "[1] \"106-th simulation finished, 5.83499999999913 sec.\"\n"
     ]
    },
    {
     "name": "stderr",
     "output_type": "stream",
     "text": [
      "Warning message:\n",
      "“Pareto k diagnostic value is 0.83. Resampling is unreliable. Increasing the number of draws or decreasing tol_rel_obj may help.”\n"
     ]
    },
    {
     "name": "stdout",
     "output_type": "stream",
     "text": [
      "[1] \"107-th simulation finished, 5.72999999999956 sec.\"\n",
      "[1] \"108-th simulation finished, 5.62199999999939 sec.\"\n"
     ]
    },
    {
     "name": "stderr",
     "output_type": "stream",
     "text": [
      "Warning message:\n",
      "“Pareto k diagnostic value is 0.82. Resampling is unreliable. Increasing the number of draws or decreasing tol_rel_obj may help.”\n"
     ]
    },
    {
     "name": "stdout",
     "output_type": "stream",
     "text": [
      "[1] \"109-th simulation finished, 5.6820000000007 sec.\"\n"
     ]
    },
    {
     "name": "stderr",
     "output_type": "stream",
     "text": [
      "Warning message:\n",
      "“Pareto k diagnostic value is 0.86. Resampling is unreliable. Increasing the number of draws or decreasing tol_rel_obj may help.”\n"
     ]
    },
    {
     "name": "stdout",
     "output_type": "stream",
     "text": [
      "[1] \"110-th simulation finished, 5.77000000000044 sec.\"\n"
     ]
    },
    {
     "name": "stderr",
     "output_type": "stream",
     "text": [
      "Warning message:\n",
      "“Pareto k diagnostic value is 0.89. Resampling is unreliable. Increasing the number of draws or decreasing tol_rel_obj may help.”\n"
     ]
    },
    {
     "name": "stdout",
     "output_type": "stream",
     "text": [
      "[1] \"111-th simulation finished, 5.80899999999747 sec.\"\n"
     ]
    },
    {
     "name": "stderr",
     "output_type": "stream",
     "text": [
      "Warning message:\n",
      "“Pareto k diagnostic value is 0.86. Resampling is unreliable. Increasing the number of draws or decreasing tol_rel_obj may help.”\n"
     ]
    },
    {
     "name": "stdout",
     "output_type": "stream",
     "text": [
      "[1] \"112-th simulation finished, 5.62800000000061 sec.\"\n"
     ]
    },
    {
     "name": "stderr",
     "output_type": "stream",
     "text": [
      "Warning message:\n",
      "“Pareto k diagnostic value is 0.83. Resampling is unreliable. Increasing the number of draws or decreasing tol_rel_obj may help.”\n"
     ]
    },
    {
     "name": "stdout",
     "output_type": "stream",
     "text": [
      "[1] \"113-th simulation finished, 5.61399999999776 sec.\"\n"
     ]
    },
    {
     "name": "stderr",
     "output_type": "stream",
     "text": [
      "Warning message:\n",
      "“Pareto k diagnostic value is 0.88. Resampling is unreliable. Increasing the number of draws or decreasing tol_rel_obj may help.”\n"
     ]
    },
    {
     "name": "stdout",
     "output_type": "stream",
     "text": [
      "[1] \"114-th simulation finished, 5.75 sec.\"\n",
      "[1] \"115-th simulation finished, 5.71099999999933 sec.\"\n"
     ]
    },
    {
     "name": "stderr",
     "output_type": "stream",
     "text": [
      "Warning message:\n",
      "“Pareto k diagnostic value is 0.87. Resampling is unreliable. Increasing the number of draws or decreasing tol_rel_obj may help.”\n"
     ]
    },
    {
     "name": "stdout",
     "output_type": "stream",
     "text": [
      "[1] \"116-th simulation finished, 5.77500000000146 sec.\"\n"
     ]
    },
    {
     "name": "stderr",
     "output_type": "stream",
     "text": [
      "Warning message:\n",
      "“Pareto k diagnostic value is 0.85. Resampling is unreliable. Increasing the number of draws or decreasing tol_rel_obj may help.”\n"
     ]
    },
    {
     "name": "stdout",
     "output_type": "stream",
     "text": [
      "[1] \"117-th simulation finished, 5.85299999999916 sec.\"\n",
      "[1] \"118-th simulation finished, 5.59000000000015 sec.\"\n",
      "[1] \"119-th simulation finished, 5.76399999999921 sec.\"\n",
      "[1] \"120-th simulation finished, 4.05999999999767 sec.\"\n"
     ]
    },
    {
     "name": "stderr",
     "output_type": "stream",
     "text": [
      "Warning message:\n",
      "“Pareto k diagnostic value is 0.86. Resampling is unreliable. Increasing the number of draws or decreasing tol_rel_obj may help.”\n"
     ]
    },
    {
     "name": "stdout",
     "output_type": "stream",
     "text": [
      "[1] \"121-th simulation finished, 5.77400000000125 sec.\"\n",
      "[1] \"122-th simulation finished, 5.5669999999991 sec.\"\n"
     ]
    },
    {
     "name": "stderr",
     "output_type": "stream",
     "text": [
      "Warning message:\n",
      "“Pareto k diagnostic value is 0.83. Resampling is unreliable. Increasing the number of draws or decreasing tol_rel_obj may help.”\n"
     ]
    },
    {
     "name": "stdout",
     "output_type": "stream",
     "text": [
      "[1] \"123-th simulation finished, 5.9439999999995 sec.\"\n",
      "[1] \"124-th simulation finished, 2.37900000000081 sec.\"\n",
      "[1] \"125-th simulation finished, 2.65099999999802 sec.\"\n",
      "[1] \"126-th simulation finished, 2.43699999999808 sec.\"\n",
      "[1] \"127-th simulation finished, 6.29999999999927 sec.\"\n"
     ]
    },
    {
     "name": "stderr",
     "output_type": "stream",
     "text": [
      "Warning message:\n",
      "“Pareto k diagnostic value is 0.75. Resampling is unreliable. Increasing the number of draws or decreasing tol_rel_obj may help.”\n"
     ]
    },
    {
     "name": "stdout",
     "output_type": "stream",
     "text": [
      "[1] \"128-th simulation finished, 5.70700000000215 sec.\"\n",
      "[1] \"129-th simulation finished, 5.63800000000265 sec.\"\n",
      "[1] \"130-th simulation finished, 2.70000000000073 sec.\"\n"
     ]
    },
    {
     "name": "stderr",
     "output_type": "stream",
     "text": [
      "Warning message:\n",
      "“Pareto k diagnostic value is 0.79. Resampling is unreliable. Increasing the number of draws or decreasing tol_rel_obj may help.”\n"
     ]
    },
    {
     "name": "stdout",
     "output_type": "stream",
     "text": [
      "[1] \"131-th simulation finished, 5.66400000000067 sec.\"\n",
      "[1] \"132-th simulation finished, 2.64199999999983 sec.\"\n"
     ]
    },
    {
     "name": "stderr",
     "output_type": "stream",
     "text": [
      "Warning message:\n",
      "“Pareto k diagnostic value is 0.87. Resampling is unreliable. Increasing the number of draws or decreasing tol_rel_obj may help.”\n"
     ]
    },
    {
     "name": "stdout",
     "output_type": "stream",
     "text": [
      "[1] \"133-th simulation finished, 5.71199999999953 sec.\"\n"
     ]
    },
    {
     "name": "stderr",
     "output_type": "stream",
     "text": [
      "Warning message:\n",
      "“Pareto k diagnostic value is 0.88. Resampling is unreliable. Increasing the number of draws or decreasing tol_rel_obj may help.”\n"
     ]
    },
    {
     "name": "stdout",
     "output_type": "stream",
     "text": [
      "[1] \"134-th simulation finished, 5.79599999999846 sec.\"\n"
     ]
    },
    {
     "name": "stderr",
     "output_type": "stream",
     "text": [
      "Warning message:\n",
      "“Pareto k diagnostic value is 0.86. Resampling is unreliable. Increasing the number of draws or decreasing tol_rel_obj may help.”\n"
     ]
    },
    {
     "name": "stdout",
     "output_type": "stream",
     "text": [
      "[1] \"135-th simulation finished, 5.67699999999968 sec.\"\n",
      "[1] \"136-th simulation finished, 6.03499999999985 sec.\"\n",
      "[1] \"137-th simulation finished, 5.88800000000265 sec.\"\n"
     ]
    },
    {
     "name": "stderr",
     "output_type": "stream",
     "text": [
      "Warning message:\n",
      "“Pareto k diagnostic value is 0.83. Resampling is unreliable. Increasing the number of draws or decreasing tol_rel_obj may help.”\n"
     ]
    },
    {
     "name": "stdout",
     "output_type": "stream",
     "text": [
      "[1] \"138-th simulation finished, 5.65300000000207 sec.\"\n"
     ]
    },
    {
     "name": "stderr",
     "output_type": "stream",
     "text": [
      "Warning message:\n",
      "“Pareto k diagnostic value is 0.86. Resampling is unreliable. Increasing the number of draws or decreasing tol_rel_obj may help.”\n"
     ]
    },
    {
     "name": "stdout",
     "output_type": "stream",
     "text": [
      "[1] \"139-th simulation finished, 5.63800000000265 sec.\"\n"
     ]
    },
    {
     "name": "stderr",
     "output_type": "stream",
     "text": [
      "Warning message:\n",
      "“Pareto k diagnostic value is 0.84. Resampling is unreliable. Increasing the number of draws or decreasing tol_rel_obj may help.”\n"
     ]
    },
    {
     "name": "stdout",
     "output_type": "stream",
     "text": [
      "[1] \"140-th simulation finished, 5.79300000000148 sec.\"\n",
      "[1] \"141-th simulation finished, 5.79799999999886 sec.\"\n"
     ]
    },
    {
     "name": "stderr",
     "output_type": "stream",
     "text": [
      "Warning message:\n",
      "“Pareto k diagnostic value is 0.81. Resampling is unreliable. Increasing the number of draws or decreasing tol_rel_obj may help.”\n"
     ]
    },
    {
     "name": "stdout",
     "output_type": "stream",
     "text": [
      "[1] \"142-th simulation finished, 5.80400000000009 sec.\"\n",
      "[1] \"143-th simulation finished, 6.35899999999674 sec.\"\n"
     ]
    },
    {
     "name": "stderr",
     "output_type": "stream",
     "text": [
      "Warning message:\n",
      "“Pareto k diagnostic value is 0.83. Resampling is unreliable. Increasing the number of draws or decreasing tol_rel_obj may help.”\n"
     ]
    },
    {
     "name": "stdout",
     "output_type": "stream",
     "text": [
      "[1] \"144-th simulation finished, 5.66100000000006 sec.\"\n",
      "[1] \"145-th simulation finished, 2.57499999999709 sec.\"\n",
      "[1] \"146-th simulation finished, 2.46299999999974 sec.\"\n",
      "[1] \"147-th simulation finished, 5.65300000000207 sec.\"\n",
      "[1] \"148-th simulation finished, 2.74799999999959 sec.\"\n",
      "[1] \"149-th simulation finished, 5.70500000000175 sec.\"\n",
      "[1] \"150-th simulation finished, 5.69599999999991 sec.\"\n",
      "[1] \"151-th simulation finished, 5.59100000000035 sec.\"\n",
      "[1] \"152-th simulation finished, 4.02400000000125 sec.\"\n"
     ]
    },
    {
     "name": "stderr",
     "output_type": "stream",
     "text": [
      "Warning message:\n",
      "“Pareto k diagnostic value is 0.87. Resampling is unreliable. Increasing the number of draws or decreasing tol_rel_obj may help.”\n"
     ]
    },
    {
     "name": "stdout",
     "output_type": "stream",
     "text": [
      "[1] \"153-th simulation finished, 5.82099999999991 sec.\"\n"
     ]
    },
    {
     "name": "stderr",
     "output_type": "stream",
     "text": [
      "Warning message:\n",
      "“Pareto k diagnostic value is 0.82. Resampling is unreliable. Increasing the number of draws or decreasing tol_rel_obj may help.”\n"
     ]
    },
    {
     "name": "stdout",
     "output_type": "stream",
     "text": [
      "[1] \"154-th simulation finished, 5.98199999999997 sec.\"\n",
      "[1] \"155-th simulation finished, 3.96399999999994 sec.\"\n"
     ]
    },
    {
     "name": "stderr",
     "output_type": "stream",
     "text": [
      "Warning message:\n",
      "“Pareto k diagnostic value is 0.88. Resampling is unreliable. Increasing the number of draws or decreasing tol_rel_obj may help.”\n"
     ]
    },
    {
     "name": "stdout",
     "output_type": "stream",
     "text": [
      "[1] \"156-th simulation finished, 5.61000000000058 sec.\"\n",
      "[1] \"157-th simulation finished, 5.6720000000023 sec.\"\n",
      "[1] \"158-th simulation finished, 2.69300000000294 sec.\"\n"
     ]
    },
    {
     "name": "stderr",
     "output_type": "stream",
     "text": [
      "Warning message:\n",
      "“Pareto k diagnostic value is 0.79. Resampling is unreliable. Increasing the number of draws or decreasing tol_rel_obj may help.”\n"
     ]
    },
    {
     "name": "stdout",
     "output_type": "stream",
     "text": [
      "[1] \"159-th simulation finished, 5.58300000000236 sec.\"\n",
      "[1] \"160-th simulation finished, 2.59100000000035 sec.\"\n",
      "[1] \"161-th simulation finished, 5.69100000000253 sec.\"\n",
      "[1] \"162-th simulation finished, 5.70800000000236 sec.\"\n",
      "[1] \"163-th simulation finished, 5.69099999999889 sec.\"\n",
      "[1] \"164-th simulation finished, 5.71999999999753 sec.\"\n",
      "[1] \"165-th simulation finished, 2.63600000000224 sec.\"\n",
      "[1] \"166-th simulation finished, 3.94100000000253 sec.\"\n",
      "[1] \"167-th simulation finished, 5.91400000000067 sec.\"\n",
      "[1] \"168-th simulation finished, 2.57700000000114 sec.\"\n",
      "[1] \"169-th simulation finished, 5.770999999997 sec.\"\n",
      "[1] \"170-th simulation finished, 5.87199999999939 sec.\"\n",
      "[1] \"171-th simulation finished, 6.46500000000015 sec.\"\n",
      "[1] \"172-th simulation finished, 5.5580000000009 sec.\"\n"
     ]
    },
    {
     "name": "stderr",
     "output_type": "stream",
     "text": [
      "Warning message:\n",
      "“Pareto k diagnostic value is 0.81. Resampling is unreliable. Increasing the number of draws or decreasing tol_rel_obj may help.”\n"
     ]
    },
    {
     "name": "stdout",
     "output_type": "stream",
     "text": [
      "[1] \"173-th simulation finished, 5.78800000000047 sec.\"\n",
      "[1] \"174-th simulation finished, 5.64400000000023 sec.\"\n",
      "[1] \"175-th simulation finished, 5.92799999999988 sec.\"\n"
     ]
    },
    {
     "name": "stderr",
     "output_type": "stream",
     "text": [
      "Warning message:\n",
      "“Pareto k diagnostic value is 0.9. Resampling is unreliable. Increasing the number of draws or decreasing tol_rel_obj may help.”\n"
     ]
    },
    {
     "name": "stdout",
     "output_type": "stream",
     "text": [
      "[1] \"176-th simulation finished, 5.76399999999921 sec.\"\n"
     ]
    },
    {
     "name": "stderr",
     "output_type": "stream",
     "text": [
      "Warning message:\n",
      "“Pareto k diagnostic value is 0.85. Resampling is unreliable. Increasing the number of draws or decreasing tol_rel_obj may help.”\n"
     ]
    },
    {
     "name": "stdout",
     "output_type": "stream",
     "text": [
      "[1] \"177-th simulation finished, 5.91900000000169 sec.\"\n",
      "[1] \"178-th simulation finished, 5.64300000000003 sec.\"\n",
      "[1] \"179-th simulation finished, 5.70899999999892 sec.\"\n",
      "[1] \"180-th simulation finished, 2.59499999999753 sec.\"\n",
      "[1] \"181-th simulation finished, 2.74599999999919 sec.\"\n",
      "[1] \"182-th simulation finished, 3.9439999999995 sec.\"\n"
     ]
    },
    {
     "name": "stderr",
     "output_type": "stream",
     "text": [
      "Warning message:\n",
      "“Pareto k diagnostic value is 0.87. Resampling is unreliable. Increasing the number of draws or decreasing tol_rel_obj may help.”\n"
     ]
    },
    {
     "name": "stdout",
     "output_type": "stream",
     "text": [
      "[1] \"183-th simulation finished, 5.70099999999729 sec.\"\n",
      "[1] \"184-th simulation finished, 2.61799999999857 sec.\"\n",
      "[1] \"185-th simulation finished, 2.69399999999951 sec.\"\n",
      "[1] \"186-th simulation finished, 4.04499999999825 sec.\"\n",
      "[1] \"187-th simulation finished, 5.69700000000012 sec.\"\n"
     ]
    },
    {
     "name": "stderr",
     "output_type": "stream",
     "text": [
      "Warning message:\n",
      "“Pareto k diagnostic value is 0.84. Resampling is unreliable. Increasing the number of draws or decreasing tol_rel_obj may help.”\n"
     ]
    },
    {
     "name": "stdout",
     "output_type": "stream",
     "text": [
      "[1] \"188-th simulation finished, 5.72499999999854 sec.\"\n",
      "[1] \"189-th simulation finished, 2.76300000000265 sec.\"\n",
      "[1] \"190-th simulation finished, 4.11399999999776 sec.\"\n",
      "[1] \"191-th simulation finished, 2.57500000000073 sec.\"\n"
     ]
    },
    {
     "name": "stderr",
     "output_type": "stream",
     "text": [
      "Warning message:\n",
      "“Pareto k diagnostic value is 0.85. Resampling is unreliable. Increasing the number of draws or decreasing tol_rel_obj may help.”\n"
     ]
    },
    {
     "name": "stdout",
     "output_type": "stream",
     "text": [
      "[1] \"192-th simulation finished, 6.02400000000125 sec.\"\n",
      "[1] \"193-th simulation finished, 7.875 sec.\"\n",
      "[1] \"194-th simulation finished, 2.78499999999985 sec.\"\n"
     ]
    },
    {
     "name": "stderr",
     "output_type": "stream",
     "text": [
      "Warning message:\n",
      "“Pareto k diagnostic value is 0.85. Resampling is unreliable. Increasing the number of draws or decreasing tol_rel_obj may help.”\n"
     ]
    },
    {
     "name": "stdout",
     "output_type": "stream",
     "text": [
      "[1] \"195-th simulation finished, 6.18700000000172 sec.\"\n",
      "[1] \"196-th simulation finished, 6.41200000000026 sec.\"\n",
      "[1] \"197-th simulation finished, 2.93700000000172 sec.\"\n",
      "[1] \"198-th simulation finished, 7.90500000000247 sec.\"\n",
      "[1] \"199-th simulation finished, 3.12700000000041 sec.\"\n"
     ]
    },
    {
     "name": "stderr",
     "output_type": "stream",
     "text": [
      "Warning message:\n",
      "“Pareto k diagnostic value is 0.86. Resampling is unreliable. Increasing the number of draws or decreasing tol_rel_obj may help.”\n"
     ]
    },
    {
     "name": "stdout",
     "output_type": "stream",
     "text": [
      "[1] \"200-th simulation finished, 6.77599999999802 sec.\"\n"
     ]
    },
    {
     "name": "stderr",
     "output_type": "stream",
     "text": [
      "Warning message:\n",
      "“Pareto k diagnostic value is 0.85. Resampling is unreliable. Increasing the number of draws or decreasing tol_rel_obj may help.”\n"
     ]
    },
    {
     "name": "stdout",
     "output_type": "stream",
     "text": [
      "[1] \"201-th simulation finished, 6.70599999999831 sec.\"\n",
      "[1] \"202-th simulation finished, 3.07600000000093 sec.\"\n"
     ]
    },
    {
     "name": "stderr",
     "output_type": "stream",
     "text": [
      "Warning message:\n",
      "“Pareto k diagnostic value is 0.84. Resampling is unreliable. Increasing the number of draws or decreasing tol_rel_obj may help.”\n"
     ]
    },
    {
     "name": "stdout",
     "output_type": "stream",
     "text": [
      "[1] \"203-th simulation finished, 6.97899999999936 sec.\"\n"
     ]
    },
    {
     "name": "stderr",
     "output_type": "stream",
     "text": [
      "Warning message:\n",
      "“Pareto k diagnostic value is 0.87. Resampling is unreliable. Increasing the number of draws or decreasing tol_rel_obj may help.”\n"
     ]
    },
    {
     "name": "stdout",
     "output_type": "stream",
     "text": [
      "[1] \"204-th simulation finished, 7.25800000000163 sec.\"\n",
      "[1] \"205-th simulation finished, 7.37199999999939 sec.\"\n",
      "[1] \"206-th simulation finished, 7.91900000000169 sec.\"\n",
      "[1] \"207-th simulation finished, 5.5099999999984 sec.\"\n"
     ]
    },
    {
     "name": "stderr",
     "output_type": "stream",
     "text": [
      "Warning message:\n",
      "“Pareto k diagnostic value is 0.89. Resampling is unreliable. Increasing the number of draws or decreasing tol_rel_obj may help.”\n"
     ]
    },
    {
     "name": "stdout",
     "output_type": "stream",
     "text": [
      "[1] \"208-th simulation finished, 7.66299999999683 sec.\"\n",
      "[1] \"209-th simulation finished, 8.63600000000224 sec.\"\n",
      "[1] \"210-th simulation finished, 5.42499999999927 sec.\"\n",
      "[1] \"211-th simulation finished, 3.51199999999881 sec.\"\n"
     ]
    },
    {
     "name": "stderr",
     "output_type": "stream",
     "text": [
      "Warning message:\n",
      "“Pareto k diagnostic value is 0.83. Resampling is unreliable. Increasing the number of draws or decreasing tol_rel_obj may help.”\n"
     ]
    },
    {
     "name": "stdout",
     "output_type": "stream",
     "text": [
      "[1] \"212-th simulation finished, 7.6349999999984 sec.\"\n",
      "[1] \"213-th simulation finished, 3.45499999999811 sec.\"\n",
      "[1] \"214-th simulation finished, 7.5460000000021 sec.\"\n"
     ]
    },
    {
     "name": "stderr",
     "output_type": "stream",
     "text": [
      "Warning message:\n",
      "“Pareto k diagnostic value is 0.81. Resampling is unreliable. Increasing the number of draws or decreasing tol_rel_obj may help.”\n"
     ]
    },
    {
     "name": "stdout",
     "output_type": "stream",
     "text": [
      "[1] \"215-th simulation finished, 7.58500000000276 sec.\"\n"
     ]
    },
    {
     "name": "stderr",
     "output_type": "stream",
     "text": [
      "Warning message:\n",
      "“Pareto k diagnostic value is 0.82. Resampling is unreliable. Increasing the number of draws or decreasing tol_rel_obj may help.”\n"
     ]
    },
    {
     "name": "stdout",
     "output_type": "stream",
     "text": [
      "[1] \"216-th simulation finished, 7.44099999999889 sec.\"\n"
     ]
    },
    {
     "name": "stderr",
     "output_type": "stream",
     "text": [
      "Warning message:\n",
      "“Pareto k diagnostic value is 0.85. Resampling is unreliable. Increasing the number of draws or decreasing tol_rel_obj may help.”\n"
     ]
    },
    {
     "name": "stdout",
     "output_type": "stream",
     "text": [
      "[1] \"217-th simulation finished, 7.54000000000087 sec.\"\n"
     ]
    },
    {
     "name": "stderr",
     "output_type": "stream",
     "text": [
      "Warning message:\n",
      "“Pareto k diagnostic value is 0.91. Resampling is unreliable. Increasing the number of draws or decreasing tol_rel_obj may help.”\n"
     ]
    },
    {
     "name": "stdout",
     "output_type": "stream",
     "text": [
      "[1] \"218-th simulation finished, 7.375 sec.\"\n"
     ]
    },
    {
     "name": "stderr",
     "output_type": "stream",
     "text": [
      "Warning message:\n",
      "“Pareto k diagnostic value is 0.9. Resampling is unreliable. Increasing the number of draws or decreasing tol_rel_obj may help.”\n"
     ]
    },
    {
     "name": "stdout",
     "output_type": "stream",
     "text": [
      "[1] \"219-th simulation finished, 7.2019999999975 sec.\"\n",
      "[1] \"220-th simulation finished, 3.27200000000084 sec.\"\n"
     ]
    },
    {
     "name": "stderr",
     "output_type": "stream",
     "text": [
      "Warning message:\n",
      "“Pareto k diagnostic value is 0.81. Resampling is unreliable. Increasing the number of draws or decreasing tol_rel_obj may help.”\n"
     ]
    },
    {
     "name": "stdout",
     "output_type": "stream",
     "text": [
      "[1] \"221-th simulation finished, 7.29499999999825 sec.\"\n",
      "[1] \"222-th simulation finished, 7.27200000000084 sec.\"\n"
     ]
    },
    {
     "name": "stderr",
     "output_type": "stream",
     "text": [
      "Warning message:\n",
      "“Pareto k diagnostic value is 0.82. Resampling is unreliable. Increasing the number of draws or decreasing tol_rel_obj may help.”\n"
     ]
    },
    {
     "name": "stdout",
     "output_type": "stream",
     "text": [
      "[1] \"223-th simulation finished, 7.16000000000349 sec.\"\n",
      "[1] \"224-th simulation finished, 3.30400000000009 sec.\"\n",
      "[1] \"225-th simulation finished, 3.3660000000018 sec.\"\n"
     ]
    },
    {
     "name": "stderr",
     "output_type": "stream",
     "text": [
      "Warning message:\n",
      "“Pareto k diagnostic value is 0.85. Resampling is unreliable. Increasing the number of draws or decreasing tol_rel_obj may help.”\n"
     ]
    },
    {
     "name": "stdout",
     "output_type": "stream",
     "text": [
      "[1] \"226-th simulation finished, 7.02900000000227 sec.\"\n"
     ]
    },
    {
     "name": "stderr",
     "output_type": "stream",
     "text": [
      "Warning message:\n",
      "“Pareto k diagnostic value is 0.87. Resampling is unreliable. Increasing the number of draws or decreasing tol_rel_obj may help.”\n"
     ]
    },
    {
     "name": "stdout",
     "output_type": "stream",
     "text": [
      "[1] \"227-th simulation finished, 6.93999999999869 sec.\"\n",
      "[1] \"228-th simulation finished, 3.33499999999913 sec.\"\n",
      "[1] \"229-th simulation finished, 3.02200000000084 sec.\"\n",
      "[1] \"230-th simulation finished, 7.85499999999956 sec.\"\n"
     ]
    },
    {
     "name": "stderr",
     "output_type": "stream",
     "text": [
      "Warning message:\n",
      "“Pareto k diagnostic value is 0.85. Resampling is unreliable. Increasing the number of draws or decreasing tol_rel_obj may help.”\n"
     ]
    },
    {
     "name": "stdout",
     "output_type": "stream",
     "text": [
      "[1] \"231-th simulation finished, 7.18700000000172 sec.\"\n",
      "[1] \"232-th simulation finished, 4.8939999999966 sec.\"\n",
      "[1] \"233-th simulation finished, 6.82300000000032 sec.\"\n",
      "[1] \"234-th simulation finished, 3.27899999999863 sec.\"\n"
     ]
    },
    {
     "name": "stderr",
     "output_type": "stream",
     "text": [
      "Warning message:\n",
      "“Pareto k diagnostic value is 0.84. Resampling is unreliable. Increasing the number of draws or decreasing tol_rel_obj may help.”\n"
     ]
    },
    {
     "name": "stdout",
     "output_type": "stream",
     "text": [
      "[1] \"235-th simulation finished, 7.0010000000002 sec.\"\n",
      "[1] \"236-th simulation finished, 7.2510000000002 sec.\"\n"
     ]
    },
    {
     "name": "stderr",
     "output_type": "stream",
     "text": [
      "Warning message:\n",
      "“Pareto k diagnostic value is 0.88. Resampling is unreliable. Increasing the number of draws or decreasing tol_rel_obj may help.”\n"
     ]
    },
    {
     "name": "stdout",
     "output_type": "stream",
     "text": [
      "[1] \"237-th simulation finished, 7.3650000000016 sec.\"\n",
      "[1] \"238-th simulation finished, 4.93799999999828 sec.\"\n"
     ]
    },
    {
     "name": "stderr",
     "output_type": "stream",
     "text": [
      "Warning message:\n",
      "“Pareto k diagnostic value is 0.8. Resampling is unreliable. Increasing the number of draws or decreasing tol_rel_obj may help.”\n"
     ]
    },
    {
     "name": "stdout",
     "output_type": "stream",
     "text": [
      "[1] \"239-th simulation finished, 7.0669999999991 sec.\"\n",
      "[1] \"240-th simulation finished, 7.92000000000189 sec.\"\n"
     ]
    },
    {
     "name": "stderr",
     "output_type": "stream",
     "text": [
      "Warning message:\n",
      "“Pareto k diagnostic value is 0.88. Resampling is unreliable. Increasing the number of draws or decreasing tol_rel_obj may help.”\n"
     ]
    },
    {
     "name": "stdout",
     "output_type": "stream",
     "text": [
      "[1] \"241-th simulation finished, 7.2489999999998 sec.\"\n"
     ]
    },
    {
     "name": "stderr",
     "output_type": "stream",
     "text": [
      "Warning message:\n",
      "“Pareto k diagnostic value is 0.87. Resampling is unreliable. Increasing the number of draws or decreasing tol_rel_obj may help.”\n"
     ]
    },
    {
     "name": "stdout",
     "output_type": "stream",
     "text": [
      "[1] \"242-th simulation finished, 7.20700000000215 sec.\"\n",
      "[1] \"243-th simulation finished, 7.03100000000268 sec.\"\n",
      "[1] \"244-th simulation finished, 7.53799999999683 sec.\"\n",
      "[1] \"245-th simulation finished, 4.88000000000102 sec.\"\n"
     ]
    },
    {
     "name": "stderr",
     "output_type": "stream",
     "text": [
      "Warning message:\n",
      "“Pareto k diagnostic value is 0.82. Resampling is unreliable. Increasing the number of draws or decreasing tol_rel_obj may help.”\n"
     ]
    },
    {
     "name": "stdout",
     "output_type": "stream",
     "text": [
      "[1] \"246-th simulation finished, 7.0679999999993 sec.\"\n",
      "[1] \"247-th simulation finished, 7.8760000000002 sec.\"\n"
     ]
    },
    {
     "name": "stderr",
     "output_type": "stream",
     "text": [
      "Warning message:\n",
      "“Pareto k diagnostic value is 0.87. Resampling is unreliable. Increasing the number of draws or decreasing tol_rel_obj may help.”\n"
     ]
    },
    {
     "name": "stdout",
     "output_type": "stream",
     "text": [
      "[1] \"248-th simulation finished, 8.12800000000061 sec.\"\n",
      "[1] \"249-th simulation finished, 7.9429999999993 sec.\"\n",
      "[1] \"250-th simulation finished, 3.4439999999995 sec.\"\n",
      "[1] \"251-th simulation finished, 5.1919999999991 sec.\"\n",
      "[1] \"252-th simulation finished, 3.58299999999872 sec.\"\n"
     ]
    },
    {
     "name": "stderr",
     "output_type": "stream",
     "text": [
      "Warning message:\n",
      "“Pareto k diagnostic value is 0.78. Resampling is unreliable. Increasing the number of draws or decreasing tol_rel_obj may help.”\n"
     ]
    },
    {
     "name": "stdout",
     "output_type": "stream",
     "text": [
      "[1] \"253-th simulation finished, 7.51800000000003 sec.\"\n",
      "[1] \"254-th simulation finished, 3.4900000000016 sec.\"\n",
      "[1] \"255-th simulation finished, 7.42399999999907 sec.\"\n"
     ]
    },
    {
     "name": "stderr",
     "output_type": "stream",
     "text": [
      "Warning message:\n",
      "“Pareto k diagnostic value is 0.88. Resampling is unreliable. Increasing the number of draws or decreasing tol_rel_obj may help.”\n"
     ]
    },
    {
     "name": "stdout",
     "output_type": "stream",
     "text": [
      "[1] \"256-th simulation finished, 7.34199999999691 sec.\"\n",
      "[1] \"257-th simulation finished, 7.34200000000055 sec.\"\n",
      "[1] \"258-th simulation finished, 5.13999999999942 sec.\"\n",
      "[1] \"259-th simulation finished, 8.11699999999837 sec.\"\n"
     ]
    },
    {
     "name": "stderr",
     "output_type": "stream",
     "text": [
      "Warning message:\n",
      "“Pareto k diagnostic value is 0.88. Resampling is unreliable. Increasing the number of draws or decreasing tol_rel_obj may help.”\n"
     ]
    },
    {
     "name": "stdout",
     "output_type": "stream",
     "text": [
      "[1] \"260-th simulation finished, 7.34600000000137 sec.\"\n"
     ]
    },
    {
     "name": "stderr",
     "output_type": "stream",
     "text": [
      "Warning message:\n",
      "“Pareto k diagnostic value is 0.79. Resampling is unreliable. Increasing the number of draws or decreasing tol_rel_obj may help.”\n"
     ]
    },
    {
     "name": "stdout",
     "output_type": "stream",
     "text": [
      "[1] \"261-th simulation finished, 7.38799999999901 sec.\"\n",
      "[1] \"262-th simulation finished, 3.31099999999788 sec.\"\n",
      "[1] \"263-th simulation finished, 5.14600000000064 sec.\"\n"
     ]
    },
    {
     "name": "stderr",
     "output_type": "stream",
     "text": [
      "Warning message:\n",
      "“Pareto k diagnostic value is 0.78. Resampling is unreliable. Increasing the number of draws or decreasing tol_rel_obj may help.”\n"
     ]
    },
    {
     "name": "stdout",
     "output_type": "stream",
     "text": [
      "[1] \"264-th simulation finished, 7.5679999999993 sec.\"\n",
      "[1] \"265-th simulation finished, 7.1919999999991 sec.\"\n"
     ]
    },
    {
     "name": "stderr",
     "output_type": "stream",
     "text": [
      "Warning message:\n",
      "“Pareto k diagnostic value is 0.86. Resampling is unreliable. Increasing the number of draws or decreasing tol_rel_obj may help.”\n"
     ]
    },
    {
     "name": "stdout",
     "output_type": "stream",
     "text": [
      "[1] \"266-th simulation finished, 7.59000000000015 sec.\"\n",
      "[1] \"267-th simulation finished, 5.21199999999953 sec.\"\n",
      "[1] \"268-th simulation finished, 5.16100000000006 sec.\"\n",
      "[1] \"269-th simulation finished, 7.5789999999979 sec.\"\n",
      "[1] \"270-th simulation finished, 5.18799999999828 sec.\"\n",
      "[1] \"271-th simulation finished, 3.38899999999921 sec.\"\n",
      "[1] \"272-th simulation finished, 3.7609999999986 sec.\"\n",
      "[1] \"273-th simulation finished, 3.50200000000041 sec.\"\n",
      "[1] \"274-th simulation finished, 3.46700000000055 sec.\"\n"
     ]
    },
    {
     "name": "stderr",
     "output_type": "stream",
     "text": [
      "Warning message:\n",
      "“Pareto k diagnostic value is 0.81. Resampling is unreliable. Increasing the number of draws or decreasing tol_rel_obj may help.”\n"
     ]
    },
    {
     "name": "stdout",
     "output_type": "stream",
     "text": [
      "[1] \"275-th simulation finished, 7.32900000000154 sec.\"\n",
      "[1] \"276-th simulation finished, 7.54199999999764 sec.\"\n"
     ]
    },
    {
     "name": "stderr",
     "output_type": "stream",
     "text": [
      "Warning message:\n",
      "“Pareto k diagnostic value is 0.84. Resampling is unreliable. Increasing the number of draws or decreasing tol_rel_obj may help.”\n"
     ]
    },
    {
     "name": "stdout",
     "output_type": "stream",
     "text": [
      "[1] \"277-th simulation finished, 7.60000000000218 sec.\"\n",
      "[1] \"278-th simulation finished, 7.45400000000154 sec.\"\n"
     ]
    },
    {
     "name": "stderr",
     "output_type": "stream",
     "text": [
      "Warning message:\n",
      "“Pareto k diagnostic value is 0.82. Resampling is unreliable. Increasing the number of draws or decreasing tol_rel_obj may help.”\n"
     ]
    },
    {
     "name": "stdout",
     "output_type": "stream",
     "text": [
      "[1] \"279-th simulation finished, 7.69800000000032 sec.\"\n",
      "[1] \"280-th simulation finished, 7.69300000000294 sec.\"\n",
      "[1] \"281-th simulation finished, 8.24299999999857 sec.\"\n",
      "[1] \"282-th simulation finished, 7.34999999999854 sec.\"\n"
     ]
    },
    {
     "name": "stderr",
     "output_type": "stream",
     "text": [
      "Warning message:\n",
      "“Pareto k diagnostic value is 0.89. Resampling is unreliable. Increasing the number of draws or decreasing tol_rel_obj may help.”\n"
     ]
    },
    {
     "name": "stdout",
     "output_type": "stream",
     "text": [
      "[1] \"283-th simulation finished, 7.23700000000099 sec.\"\n"
     ]
    },
    {
     "name": "stderr",
     "output_type": "stream",
     "text": [
      "Warning message:\n",
      "“Pareto k diagnostic value is 0.84. Resampling is unreliable. Increasing the number of draws or decreasing tol_rel_obj may help.”\n"
     ]
    },
    {
     "name": "stdout",
     "output_type": "stream",
     "text": [
      "[1] \"284-th simulation finished, 7.11199999999735 sec.\"\n",
      "[1] \"285-th simulation finished, 7.2400000000016 sec.\"\n",
      "[1] \"286-th simulation finished, 3.18799999999828 sec.\"\n",
      "[1] \"287-th simulation finished, 3.65699999999924 sec.\"\n"
     ]
    },
    {
     "name": "stderr",
     "output_type": "stream",
     "text": [
      "Warning message:\n",
      "“Pareto k diagnostic value is 0.85. Resampling is unreliable. Increasing the number of draws or decreasing tol_rel_obj may help.”\n"
     ]
    },
    {
     "name": "stdout",
     "output_type": "stream",
     "text": [
      "[1] \"288-th simulation finished, 7.40499999999884 sec.\"\n"
     ]
    },
    {
     "name": "stderr",
     "output_type": "stream",
     "text": [
      "Warning message:\n",
      "“Pareto k diagnostic value is 0.91. Resampling is unreliable. Increasing the number of draws or decreasing tol_rel_obj may help.”\n"
     ]
    },
    {
     "name": "stdout",
     "output_type": "stream",
     "text": [
      "[1] \"289-th simulation finished, 7.4330000000009 sec.\"\n",
      "[1] \"290-th simulation finished, 8.68199999999706 sec.\"\n",
      "[1] \"291-th simulation finished, 7.45899999999892 sec.\"\n",
      "[1] \"292-th simulation finished, 7.44900000000052 sec.\"\n"
     ]
    },
    {
     "name": "stderr",
     "output_type": "stream",
     "text": [
      "Warning message:\n",
      "“Pareto k diagnostic value is 0.84. Resampling is unreliable. Increasing the number of draws or decreasing tol_rel_obj may help.”\n"
     ]
    },
    {
     "name": "stdout",
     "output_type": "stream",
     "text": [
      "[1] \"293-th simulation finished, 7.71699999999691 sec.\"\n"
     ]
    },
    {
     "name": "stderr",
     "output_type": "stream",
     "text": [
      "Warning message:\n",
      "“Pareto k diagnostic value is 0.86. Resampling is unreliable. Increasing the number of draws or decreasing tol_rel_obj may help.”\n"
     ]
    },
    {
     "name": "stdout",
     "output_type": "stream",
     "text": [
      "[1] \"294-th simulation finished, 7.71399999999994 sec.\"\n",
      "[1] \"295-th simulation finished, 3.09899999999834 sec.\"\n"
     ]
    },
    {
     "name": "stderr",
     "output_type": "stream",
     "text": [
      "Warning message:\n",
      "“Pareto k diagnostic value is 0.86. Resampling is unreliable. Increasing the number of draws or decreasing tol_rel_obj may help.”\n"
     ]
    },
    {
     "name": "stdout",
     "output_type": "stream",
     "text": [
      "[1] \"296-th simulation finished, 7.44100000000253 sec.\"\n",
      "[1] \"297-th simulation finished, 3.48199999999997 sec.\"\n"
     ]
    },
    {
     "name": "stderr",
     "output_type": "stream",
     "text": [
      "Warning message:\n",
      "“Pareto k diagnostic value is 0.84. Resampling is unreliable. Increasing the number of draws or decreasing tol_rel_obj may help.”\n"
     ]
    },
    {
     "name": "stdout",
     "output_type": "stream",
     "text": [
      "[1] \"298-th simulation finished, 7.61599999999817 sec.\"\n"
     ]
    },
    {
     "name": "stderr",
     "output_type": "stream",
     "text": [
      "Warning message:\n",
      "“Pareto k diagnostic value is 0.82. Resampling is unreliable. Increasing the number of draws or decreasing tol_rel_obj may help.”\n"
     ]
    },
    {
     "name": "stdout",
     "output_type": "stream",
     "text": [
      "[1] \"299-th simulation finished, 7.60199999999895 sec.\"\n"
     ]
    },
    {
     "name": "stderr",
     "output_type": "stream",
     "text": [
      "Warning message:\n",
      "“Pareto k diagnostic value is 0.83. Resampling is unreliable. Increasing the number of draws or decreasing tol_rel_obj may help.”\n"
     ]
    },
    {
     "name": "stdout",
     "output_type": "stream",
     "text": [
      "[1] \"300-th simulation finished, 7.53299999999945 sec.\"\n",
      "[1] \"301-th simulation finished, 7.60299999999916 sec.\"\n"
     ]
    },
    {
     "name": "stderr",
     "output_type": "stream",
     "text": [
      "Warning message:\n",
      "“Pareto k diagnostic value is 0.88. Resampling is unreliable. Increasing the number of draws or decreasing tol_rel_obj may help.”\n"
     ]
    },
    {
     "name": "stdout",
     "output_type": "stream",
     "text": [
      "[1] \"302-th simulation finished, 7.69200000000274 sec.\"\n",
      "[1] \"303-th simulation finished, 7.30199999999968 sec.\"\n",
      "[1] \"304-th simulation finished, 5.20500000000175 sec.\"\n"
     ]
    },
    {
     "name": "stderr",
     "output_type": "stream",
     "text": [
      "Warning message:\n",
      "“Pareto k diagnostic value is 0.88. Resampling is unreliable. Increasing the number of draws or decreasing tol_rel_obj may help.”\n"
     ]
    },
    {
     "name": "stdout",
     "output_type": "stream",
     "text": [
      "[1] \"305-th simulation finished, 7.48799999999756 sec.\"\n"
     ]
    },
    {
     "name": "stderr",
     "output_type": "stream",
     "text": [
      "Warning message:\n",
      "“Pareto k diagnostic value is 0.83. Resampling is unreliable. Increasing the number of draws or decreasing tol_rel_obj may help.”\n"
     ]
    },
    {
     "name": "stdout",
     "output_type": "stream",
     "text": [
      "[1] \"306-th simulation finished, 7.55500000000029 sec.\"\n",
      "[1] \"307-th simulation finished, 5.17499999999927 sec.\"\n",
      "[1] \"308-th simulation finished, 3.5470000000023 sec.\"\n",
      "[1] \"309-th simulation finished, 5.13799999999901 sec.\"\n",
      "[1] \"310-th simulation finished, 3.42500000000291 sec.\"\n",
      "[1] \"311-th simulation finished, 7.51100000000224 sec.\"\n",
      "[1] \"312-th simulation finished, 5.2390000000014 sec.\"\n"
     ]
    },
    {
     "name": "stderr",
     "output_type": "stream",
     "text": [
      "Warning message:\n",
      "“Pareto k diagnostic value is 0.86. Resampling is unreliable. Increasing the number of draws or decreasing tol_rel_obj may help.”\n"
     ]
    },
    {
     "name": "stdout",
     "output_type": "stream",
     "text": [
      "[1] \"313-th simulation finished, 7.5 sec.\"\n",
      "[1] \"314-th simulation finished, 7.55300000000352 sec.\"\n"
     ]
    },
    {
     "name": "stderr",
     "output_type": "stream",
     "text": [
      "Warning message:\n",
      "“Pareto k diagnostic value is 0.85. Resampling is unreliable. Increasing the number of draws or decreasing tol_rel_obj may help.”\n"
     ]
    },
    {
     "name": "stdout",
     "output_type": "stream",
     "text": [
      "[1] \"315-th simulation finished, 7.41699999999764 sec.\"\n"
     ]
    },
    {
     "name": "stderr",
     "output_type": "stream",
     "text": [
      "Warning message:\n",
      "“Pareto k diagnostic value is 0.86. Resampling is unreliable. Increasing the number of draws or decreasing tol_rel_obj may help.”\n"
     ]
    },
    {
     "name": "stdout",
     "output_type": "stream",
     "text": [
      "[1] \"316-th simulation finished, 7.35399999999936 sec.\"\n",
      "[1] \"317-th simulation finished, 7.41500000000087 sec.\"\n"
     ]
    },
    {
     "name": "stderr",
     "output_type": "stream",
     "text": [
      "Warning message:\n",
      "“Pareto k diagnostic value is 0.87. Resampling is unreliable. Increasing the number of draws or decreasing tol_rel_obj may help.”\n"
     ]
    },
    {
     "name": "stdout",
     "output_type": "stream",
     "text": [
      "[1] \"318-th simulation finished, 7.48600000000079 sec.\"\n",
      "[1] \"319-th simulation finished, 5.1929999999993 sec.\"\n",
      "[1] \"320-th simulation finished, 7.68199999999706 sec.\"\n",
      "[1] \"321-th simulation finished, 3.1820000000007 sec.\"\n",
      "[1] \"322-th simulation finished, 7.4210000000021 sec.\"\n",
      "[1] \"323-th simulation finished, 8.34800000000178 sec.\"\n",
      "[1] \"324-th simulation finished, 7.38999999999942 sec.\"\n"
     ]
    },
    {
     "name": "stderr",
     "output_type": "stream",
     "text": [
      "Warning message:\n",
      "“Pareto k diagnostic value is 0.82. Resampling is unreliable. Increasing the number of draws or decreasing tol_rel_obj may help.”\n"
     ]
    },
    {
     "name": "stdout",
     "output_type": "stream",
     "text": [
      "[1] \"325-th simulation finished, 7.77100000000064 sec.\"\n"
     ]
    },
    {
     "name": "stderr",
     "output_type": "stream",
     "text": [
      "Warning message:\n",
      "“Pareto k diagnostic value is 0.92. Resampling is unreliable. Increasing the number of draws or decreasing tol_rel_obj may help.”\n"
     ]
    },
    {
     "name": "stdout",
     "output_type": "stream",
     "text": [
      "[1] \"326-th simulation finished, 7.4310000000005 sec.\"\n",
      "[1] \"327-th simulation finished, 7.51100000000224 sec.\"\n",
      "[1] \"328-th simulation finished, 5.26299999999901 sec.\"\n",
      "[1] \"329-th simulation finished, 7.40500000000247 sec.\"\n",
      "[1] \"330-th simulation finished, 3.45799999999872 sec.\"\n"
     ]
    },
    {
     "name": "stderr",
     "output_type": "stream",
     "text": [
      "Warning message:\n",
      "“Pareto k diagnostic value is 0.81. Resampling is unreliable. Increasing the number of draws or decreasing tol_rel_obj may help.”\n"
     ]
    },
    {
     "name": "stdout",
     "output_type": "stream",
     "text": [
      "[1] \"331-th simulation finished, 7.61699999999837 sec.\"\n",
      "[1] \"332-th simulation finished, 3.47899999999936 sec.\"\n",
      "[1] \"333-th simulation finished, 3.42900000000009 sec.\"\n",
      "[1] \"334-th simulation finished, 3.45400000000154 sec.\"\n",
      "[1] \"335-th simulation finished, 3.45699999999852 sec.\"\n"
     ]
    },
    {
     "name": "stderr",
     "output_type": "stream",
     "text": [
      "Warning message:\n",
      "“Pareto k diagnostic value is 0.85. Resampling is unreliable. Increasing the number of draws or decreasing tol_rel_obj may help.”\n"
     ]
    },
    {
     "name": "stdout",
     "output_type": "stream",
     "text": [
      "[1] \"336-th simulation finished, 7.59000000000015 sec.\"\n",
      "[1] \"337-th simulation finished, 7.83499999999913 sec.\"\n",
      "[1] \"338-th simulation finished, 8.53600000000006 sec.\"\n"
     ]
    },
    {
     "name": "stderr",
     "output_type": "stream",
     "text": [
      "Warning message:\n",
      "“Pareto k diagnostic value is 0.79. Resampling is unreliable. Increasing the number of draws or decreasing tol_rel_obj may help.”\n"
     ]
    },
    {
     "name": "stdout",
     "output_type": "stream",
     "text": [
      "[1] \"339-th simulation finished, 7.83399999999892 sec.\"\n",
      "[1] \"340-th simulation finished, 7.78900000000067 sec.\"\n"
     ]
    },
    {
     "name": "stderr",
     "output_type": "stream",
     "text": [
      "Warning message:\n",
      "“Pareto k diagnostic value is 0.84. Resampling is unreliable. Increasing the number of draws or decreasing tol_rel_obj may help.”\n"
     ]
    },
    {
     "name": "stdout",
     "output_type": "stream",
     "text": [
      "[1] \"341-th simulation finished, 7.66800000000148 sec.\"\n"
     ]
    },
    {
     "name": "stderr",
     "output_type": "stream",
     "text": [
      "Warning message:\n",
      "“Pareto k diagnostic value is 0.89. Resampling is unreliable. Increasing the number of draws or decreasing tol_rel_obj may help.”\n"
     ]
    },
    {
     "name": "stdout",
     "output_type": "stream",
     "text": [
      "[1] \"342-th simulation finished, 7.57800000000134 sec.\"\n"
     ]
    },
    {
     "name": "stderr",
     "output_type": "stream",
     "text": [
      "Warning message:\n",
      "“Pareto k diagnostic value is 0.87. Resampling is unreliable. Increasing the number of draws or decreasing tol_rel_obj may help.”\n"
     ]
    },
    {
     "name": "stdout",
     "output_type": "stream",
     "text": [
      "[1] \"343-th simulation finished, 7.56400000000212 sec.\"\n",
      "[1] \"344-th simulation finished, 3.5 sec.\"\n",
      "[1] \"345-th simulation finished, 7.34000000000015 sec.\"\n"
     ]
    },
    {
     "name": "stderr",
     "output_type": "stream",
     "text": [
      "Warning message:\n",
      "“Pareto k diagnostic value is 0.88. Resampling is unreliable. Increasing the number of draws or decreasing tol_rel_obj may help.”\n"
     ]
    },
    {
     "name": "stdout",
     "output_type": "stream",
     "text": [
      "[1] \"346-th simulation finished, 7.54199999999764 sec.\"\n"
     ]
    },
    {
     "name": "stderr",
     "output_type": "stream",
     "text": [
      "Warning message:\n",
      "“Pareto k diagnostic value is 0.87. Resampling is unreliable. Increasing the number of draws or decreasing tol_rel_obj may help.”\n"
     ]
    },
    {
     "name": "stdout",
     "output_type": "stream",
     "text": [
      "[1] \"347-th simulation finished, 7.64700000000084 sec.\"\n"
     ]
    },
    {
     "name": "stderr",
     "output_type": "stream",
     "text": [
      "Warning message:\n",
      "“Pareto k diagnostic value is 0.91. Resampling is unreliable. Increasing the number of draws or decreasing tol_rel_obj may help.”\n"
     ]
    },
    {
     "name": "stdout",
     "output_type": "stream",
     "text": [
      "[1] \"348-th simulation finished, 7.49299999999857 sec.\"\n"
     ]
    },
    {
     "name": "stderr",
     "output_type": "stream",
     "text": [
      "Warning message:\n",
      "“Pareto k diagnostic value is 0.85. Resampling is unreliable. Increasing the number of draws or decreasing tol_rel_obj may help.”\n"
     ]
    },
    {
     "name": "stdout",
     "output_type": "stream",
     "text": [
      "[1] \"349-th simulation finished, 7.92499999999927 sec.\"\n",
      "[1] \"350-th simulation finished, 8.52000000000044 sec.\"\n"
     ]
    },
    {
     "name": "stderr",
     "output_type": "stream",
     "text": [
      "Warning message:\n",
      "“Pareto k diagnostic value is 0.87. Resampling is unreliable. Increasing the number of draws or decreasing tol_rel_obj may help.”\n"
     ]
    },
    {
     "name": "stdout",
     "output_type": "stream",
     "text": [
      "[1] \"351-th simulation finished, 7.58499999999913 sec.\"\n",
      "[1] \"352-th simulation finished, 8.42900000000009 sec.\"\n",
      "[1] \"353-th simulation finished, 7.4910000000018 sec.\"\n",
      "[1] \"354-th simulation finished, 5.41300000000047 sec.\"\n"
     ]
    },
    {
     "name": "stderr",
     "output_type": "stream",
     "text": [
      "Warning message:\n",
      "“Pareto k diagnostic value is 0.81. Resampling is unreliable. Increasing the number of draws or decreasing tol_rel_obj may help.”\n"
     ]
    },
    {
     "name": "stdout",
     "output_type": "stream",
     "text": [
      "[1] \"355-th simulation finished, 7.83199999999852 sec.\"\n"
     ]
    },
    {
     "name": "stderr",
     "output_type": "stream",
     "text": [
      "Warning message:\n",
      "“Pareto k diagnostic value is 0.82. Resampling is unreliable. Increasing the number of draws or decreasing tol_rel_obj may help.”\n"
     ]
    },
    {
     "name": "stdout",
     "output_type": "stream",
     "text": [
      "[1] \"356-th simulation finished, 7.66300000000047 sec.\"\n",
      "[1] \"357-th simulation finished, 5.39700000000084 sec.\"\n",
      "[1] \"358-th simulation finished, 3.57600000000093 sec.\"\n",
      "[1] \"359-th simulation finished, 4.66900000000169 sec.\"\n",
      "[1] \"360-th simulation finished, 4.73499999999694 sec.\"\n",
      "[1] \"361-th simulation finished, 6.75200000000041 sec.\"\n"
     ]
    },
    {
     "name": "stderr",
     "output_type": "stream",
     "text": [
      "Warning message:\n",
      "“Pareto k diagnostic value is 0.83. Resampling is unreliable. Increasing the number of draws or decreasing tol_rel_obj may help.”\n"
     ]
    },
    {
     "name": "stdout",
     "output_type": "stream",
     "text": [
      "[1] \"362-th simulation finished, 6.62800000000061 sec.\"\n"
     ]
    },
    {
     "name": "stderr",
     "output_type": "stream",
     "text": [
      "Warning message:\n",
      "“Pareto k diagnostic value is 0.84. Resampling is unreliable. Increasing the number of draws or decreasing tol_rel_obj may help.”\n"
     ]
    },
    {
     "name": "stdout",
     "output_type": "stream",
     "text": [
      "[1] \"363-th simulation finished, 6.6160000000018 sec.\"\n",
      "[1] \"364-th simulation finished, 6.59600000000137 sec.\"\n",
      "[1] \"365-th simulation finished, 6.28800000000047 sec.\"\n",
      "[1] \"366-th simulation finished, 6.34300000000076 sec.\"\n",
      "[1] \"367-th simulation finished, 6.49499999999898 sec.\"\n",
      "[1] \"368-th simulation finished, 2.96700000000055 sec.\"\n"
     ]
    },
    {
     "name": "stderr",
     "output_type": "stream",
     "text": [
      "Warning message:\n",
      "“Pareto k diagnostic value is 0.83. Resampling is unreliable. Increasing the number of draws or decreasing tol_rel_obj may help.”\n"
     ]
    },
    {
     "name": "stdout",
     "output_type": "stream",
     "text": [
      "[1] \"369-th simulation finished, 6.41599999999744 sec.\"\n",
      "[1] \"370-th simulation finished, 2.99799999999959 sec.\"\n"
     ]
    },
    {
     "name": "stderr",
     "output_type": "stream",
     "text": [
      "Warning message:\n",
      "“Pareto k diagnostic value is 0.89. Resampling is unreliable. Increasing the number of draws or decreasing tol_rel_obj may help.”\n"
     ]
    },
    {
     "name": "stdout",
     "output_type": "stream",
     "text": [
      "[1] \"371-th simulation finished, 6.38000000000102 sec.\"\n",
      "[1] \"372-th simulation finished, 6.16400000000067 sec.\"\n",
      "[1] \"373-th simulation finished, 4.36499999999796 sec.\"\n",
      "[1] \"374-th simulation finished, 2.8650000000016 sec.\"\n"
     ]
    },
    {
     "name": "stderr",
     "output_type": "stream",
     "text": [
      "Warning message:\n",
      "“Pareto k diagnostic value is 0.89. Resampling is unreliable. Increasing the number of draws or decreasing tol_rel_obj may help.”\n"
     ]
    },
    {
     "name": "stdout",
     "output_type": "stream",
     "text": [
      "[1] \"375-th simulation finished, 6.22499999999854 sec.\"\n"
     ]
    },
    {
     "name": "stderr",
     "output_type": "stream",
     "text": [
      "Warning message:\n",
      "“Pareto k diagnostic value is 0.88. Resampling is unreliable. Increasing the number of draws or decreasing tol_rel_obj may help.”\n"
     ]
    },
    {
     "name": "stdout",
     "output_type": "stream",
     "text": [
      "[1] \"376-th simulation finished, 6.27900000000227 sec.\"\n",
      "[1] \"377-th simulation finished, 6.24799999999959 sec.\"\n",
      "[1] \"378-th simulation finished, 4.40199999999822 sec.\"\n"
     ]
    },
    {
     "name": "stderr",
     "output_type": "stream",
     "text": [
      "Warning message:\n",
      "“Pareto k diagnostic value is 0.9. Resampling is unreliable. Increasing the number of draws or decreasing tol_rel_obj may help.”\n"
     ]
    },
    {
     "name": "stdout",
     "output_type": "stream",
     "text": [
      "[1] \"379-th simulation finished, 6.3650000000016 sec.\"\n",
      "[1] \"380-th simulation finished, 4.34399999999732 sec.\"\n",
      "[1] \"381-th simulation finished, 2.96399999999994 sec.\"\n",
      "[1] \"382-th simulation finished, 6.24200000000201 sec.\"\n",
      "[1] \"383-th simulation finished, 2.63199999999779 sec.\"\n"
     ]
    },
    {
     "name": "stderr",
     "output_type": "stream",
     "text": [
      "Warning message:\n",
      "“Pareto k diagnostic value is 0.83. Resampling is unreliable. Increasing the number of draws or decreasing tol_rel_obj may help.”\n"
     ]
    },
    {
     "name": "stdout",
     "output_type": "stream",
     "text": [
      "[1] \"384-th simulation finished, 6.23300000000017 sec.\"\n",
      "[1] \"385-th simulation finished, 4.32099999999991 sec.\"\n",
      "[1] \"386-th simulation finished, 4.46500000000015 sec.\"\n"
     ]
    },
    {
     "name": "stderr",
     "output_type": "stream",
     "text": [
      "Warning message:\n",
      "“Pareto k diagnostic value is 0.84. Resampling is unreliable. Increasing the number of draws or decreasing tol_rel_obj may help.”\n"
     ]
    },
    {
     "name": "stdout",
     "output_type": "stream",
     "text": [
      "[1] \"387-th simulation finished, 6.26699999999983 sec.\"\n",
      "[1] \"388-th simulation finished, 6.88300000000163 sec.\"\n"
     ]
    },
    {
     "name": "stderr",
     "output_type": "stream",
     "text": [
      "Warning message:\n",
      "“Pareto k diagnostic value is 0.78. Resampling is unreliable. Increasing the number of draws or decreasing tol_rel_obj may help.”\n"
     ]
    },
    {
     "name": "stdout",
     "output_type": "stream",
     "text": [
      "[1] \"389-th simulation finished, 6.26300000000265 sec.\"\n"
     ]
    },
    {
     "name": "stderr",
     "output_type": "stream",
     "text": [
      "Warning message:\n",
      "“Pareto k diagnostic value is 0.85. Resampling is unreliable. Increasing the number of draws or decreasing tol_rel_obj may help.”\n"
     ]
    },
    {
     "name": "stdout",
     "output_type": "stream",
     "text": [
      "[1] \"390-th simulation finished, 6.12299999999959 sec.\"\n",
      "[1] \"391-th simulation finished, 2.81399999999849 sec.\"\n"
     ]
    },
    {
     "name": "stderr",
     "output_type": "stream",
     "text": [
      "Warning message:\n",
      "“Pareto k diagnostic value is 0.84. Resampling is unreliable. Increasing the number of draws or decreasing tol_rel_obj may help.”\n"
     ]
    },
    {
     "name": "stdout",
     "output_type": "stream",
     "text": [
      "[1] \"392-th simulation finished, 6.19800000000032 sec.\"\n"
     ]
    },
    {
     "name": "stderr",
     "output_type": "stream",
     "text": [
      "Warning message:\n",
      "“Pareto k diagnostic value is 0.85. Resampling is unreliable. Increasing the number of draws or decreasing tol_rel_obj may help.”\n"
     ]
    },
    {
     "name": "stdout",
     "output_type": "stream",
     "text": [
      "[1] \"393-th simulation finished, 6.27400000000125 sec.\"\n"
     ]
    },
    {
     "name": "stderr",
     "output_type": "stream",
     "text": [
      "Warning message:\n",
      "“Pareto k diagnostic value is 0.88. Resampling is unreliable. Increasing the number of draws or decreasing tol_rel_obj may help.”\n"
     ]
    },
    {
     "name": "stdout",
     "output_type": "stream",
     "text": [
      "[1] \"394-th simulation finished, 6.21199999999953 sec.\"\n"
     ]
    },
    {
     "name": "stderr",
     "output_type": "stream",
     "text": [
      "Warning message:\n",
      "“Pareto k diagnostic value is 0.88. Resampling is unreliable. Increasing the number of draws or decreasing tol_rel_obj may help.”\n"
     ]
    },
    {
     "name": "stdout",
     "output_type": "stream",
     "text": [
      "[1] \"395-th simulation finished, 6.23499999999694 sec.\"\n",
      "[1] \"396-th simulation finished, 2.84600000000137 sec.\"\n",
      "[1] \"397-th simulation finished, 4.41200000000026 sec.\"\n",
      "[1] \"398-th simulation finished, 2.84699999999793 sec.\"\n",
      "[1] \"399-th simulation finished, 6.20000000000073 sec.\"\n"
     ]
    },
    {
     "name": "stderr",
     "output_type": "stream",
     "text": [
      "Warning message:\n",
      "“Pareto k diagnostic value is 0.81. Resampling is unreliable. Increasing the number of draws or decreasing tol_rel_obj may help.”\n"
     ]
    },
    {
     "name": "stdout",
     "output_type": "stream",
     "text": [
      "[1] \"400-th simulation finished, 6.31300000000192 sec.\"\n",
      "[1] \"401-th simulation finished, 2.68899999999849 sec.\"\n"
     ]
    },
    {
     "name": "stderr",
     "output_type": "stream",
     "text": [
      "Warning message:\n",
      "“Pareto k diagnostic value is 0.81. Resampling is unreliable. Increasing the number of draws or decreasing tol_rel_obj may help.”\n"
     ]
    },
    {
     "name": "stdout",
     "output_type": "stream",
     "text": [
      "[1] \"402-th simulation finished, 6.25700000000143 sec.\"\n",
      "[1] \"403-th simulation finished, 6.43899999999849 sec.\"\n"
     ]
    },
    {
     "name": "stderr",
     "output_type": "stream",
     "text": [
      "Warning message:\n",
      "“Pareto k diagnostic value is 0.88. Resampling is unreliable. Increasing the number of draws or decreasing tol_rel_obj may help.”\n"
     ]
    },
    {
     "name": "stdout",
     "output_type": "stream",
     "text": [
      "[1] \"404-th simulation finished, 6.28299999999945 sec.\"\n"
     ]
    },
    {
     "name": "stderr",
     "output_type": "stream",
     "text": [
      "Warning message:\n",
      "“Pareto k diagnostic value is 0.82. Resampling is unreliable. Increasing the number of draws or decreasing tol_rel_obj may help.”\n"
     ]
    },
    {
     "name": "stdout",
     "output_type": "stream",
     "text": [
      "[1] \"405-th simulation finished, 6.26199999999881 sec.\"\n",
      "[1] \"406-th simulation finished, 3.02300000000105 sec.\"\n"
     ]
    },
    {
     "name": "stderr",
     "output_type": "stream",
     "text": [
      "Warning message:\n",
      "“Pareto k diagnostic value is 0.84. Resampling is unreliable. Increasing the number of draws or decreasing tol_rel_obj may help.”\n"
     ]
    },
    {
     "name": "stdout",
     "output_type": "stream",
     "text": [
      "[1] \"407-th simulation finished, 6.34600000000137 sec.\"\n",
      "[1] \"408-th simulation finished, 6.21699999999691 sec.\"\n",
      "[1] \"409-th simulation finished, 4.39300000000003 sec.\"\n"
     ]
    },
    {
     "name": "stderr",
     "output_type": "stream",
     "text": [
      "Warning message:\n",
      "“Pareto k diagnostic value is 0.87. Resampling is unreliable. Increasing the number of draws or decreasing tol_rel_obj may help.”\n"
     ]
    },
    {
     "name": "stdout",
     "output_type": "stream",
     "text": [
      "[1] \"410-th simulation finished, 6.43600000000151 sec.\"\n"
     ]
    },
    {
     "name": "stderr",
     "output_type": "stream",
     "text": [
      "Warning message:\n",
      "“Pareto k diagnostic value is 0.91. Resampling is unreliable. Increasing the number of draws or decreasing tol_rel_obj may help.”\n"
     ]
    },
    {
     "name": "stdout",
     "output_type": "stream",
     "text": [
      "[1] \"411-th simulation finished, 6.18699999999808 sec.\"\n"
     ]
    },
    {
     "name": "stderr",
     "output_type": "stream",
     "text": [
      "Warning message:\n",
      "“Pareto k diagnostic value is 0.86. Resampling is unreliable. Increasing the number of draws or decreasing tol_rel_obj may help.”\n"
     ]
    },
    {
     "name": "stdout",
     "output_type": "stream",
     "text": [
      "[1] \"412-th simulation finished, 6.26699999999983 sec.\"\n"
     ]
    },
    {
     "name": "stderr",
     "output_type": "stream",
     "text": [
      "Warning message:\n",
      "“Pareto k diagnostic value is 0.85. Resampling is unreliable. Increasing the number of draws or decreasing tol_rel_obj may help.”\n"
     ]
    },
    {
     "name": "stdout",
     "output_type": "stream",
     "text": [
      "[1] \"413-th simulation finished, 6.30299999999988 sec.\"\n",
      "[1] \"414-th simulation finished, 2.90300000000207 sec.\"\n"
     ]
    },
    {
     "name": "stderr",
     "output_type": "stream",
     "text": [
      "Warning message:\n",
      "“Pareto k diagnostic value is 0.87. Resampling is unreliable. Increasing the number of draws or decreasing tol_rel_obj may help.”\n"
     ]
    },
    {
     "name": "stdout",
     "output_type": "stream",
     "text": [
      "[1] \"415-th simulation finished, 6.34199999999691 sec.\"\n",
      "[1] \"416-th simulation finished, 3.01400000000285 sec.\"\n",
      "[1] \"417-th simulation finished, 4.44999999999709 sec.\"\n"
     ]
    },
    {
     "name": "stderr",
     "output_type": "stream",
     "text": [
      "Warning message:\n",
      "“Pareto k diagnostic value is 0.88. Resampling is unreliable. Increasing the number of draws or decreasing tol_rel_obj may help.”\n"
     ]
    },
    {
     "name": "stdout",
     "output_type": "stream",
     "text": [
      "[1] \"418-th simulation finished, 6.40300000000207 sec.\"\n",
      "[1] \"419-th simulation finished, 6.38099999999758 sec.\"\n",
      "[1] \"420-th simulation finished, 2.87200000000303 sec.\"\n",
      "[1] \"421-th simulation finished, 6.26300000000265 sec.\"\n"
     ]
    },
    {
     "name": "stderr",
     "output_type": "stream",
     "text": [
      "Warning message:\n",
      "“Pareto k diagnostic value is 0.87. Resampling is unreliable. Increasing the number of draws or decreasing tol_rel_obj may help.”\n"
     ]
    },
    {
     "name": "stdout",
     "output_type": "stream",
     "text": [
      "[1] \"422-th simulation finished, 6.35099999999875 sec.\"\n",
      "[1] \"423-th simulation finished, 2.84800000000178 sec.\"\n",
      "[1] \"424-th simulation finished, 2.90500000000247 sec.\"\n"
     ]
    },
    {
     "name": "stderr",
     "output_type": "stream",
     "text": [
      "Warning message:\n",
      "“Pareto k diagnostic value is 0.83. Resampling is unreliable. Increasing the number of draws or decreasing tol_rel_obj may help.”\n"
     ]
    },
    {
     "name": "stdout",
     "output_type": "stream",
     "text": [
      "[1] \"425-th simulation finished, 6.3739999999998 sec.\"\n"
     ]
    },
    {
     "name": "stderr",
     "output_type": "stream",
     "text": [
      "Warning message:\n",
      "“Pareto k diagnostic value is 0.87. Resampling is unreliable. Increasing the number of draws or decreasing tol_rel_obj may help.”\n"
     ]
    },
    {
     "name": "stdout",
     "output_type": "stream",
     "text": [
      "[1] \"426-th simulation finished, 6.34499999999753 sec.\"\n",
      "[1] \"427-th simulation finished, 2.91500000000087 sec.\"\n",
      "[1] \"428-th simulation finished, 4.49399999999878 sec.\"\n",
      "[1] \"429-th simulation finished, 4.4230000000025 sec.\"\n"
     ]
    },
    {
     "name": "stderr",
     "output_type": "stream",
     "text": [
      "Warning message:\n",
      "“Pareto k diagnostic value is 0.86. Resampling is unreliable. Increasing the number of draws or decreasing tol_rel_obj may help.”\n"
     ]
    },
    {
     "name": "stdout",
     "output_type": "stream",
     "text": [
      "[1] \"430-th simulation finished, 6.30199999999968 sec.\"\n"
     ]
    },
    {
     "name": "stderr",
     "output_type": "stream",
     "text": [
      "Warning message:\n",
      "“Pareto k diagnostic value is 0.83. Resampling is unreliable. Increasing the number of draws or decreasing tol_rel_obj may help.”\n"
     ]
    },
    {
     "name": "stdout",
     "output_type": "stream",
     "text": [
      "[1] \"431-th simulation finished, 6.34100000000035 sec.\"\n",
      "[1] \"432-th simulation finished, 6.22000000000116 sec.\"\n",
      "[1] \"433-th simulation finished, 6.5109999999986 sec.\"\n",
      "[1] \"434-th simulation finished, 6.30000000000291 sec.\"\n"
     ]
    },
    {
     "name": "stderr",
     "output_type": "stream",
     "text": [
      "Warning message:\n",
      "“Pareto k diagnostic value is 0.82. Resampling is unreliable. Increasing the number of draws or decreasing tol_rel_obj may help.”\n"
     ]
    },
    {
     "name": "stdout",
     "output_type": "stream",
     "text": [
      "[1] \"435-th simulation finished, 6.40899999999965 sec.\"\n",
      "[1] \"436-th simulation finished, 6.2589999999982 sec.\"\n",
      "[1] \"437-th simulation finished, 2.8760000000002 sec.\"\n",
      "[1] \"438-th simulation finished, 2.82900000000154 sec.\"\n",
      "[1] \"439-th simulation finished, 6.33700000000317 sec.\"\n"
     ]
    },
    {
     "name": "stderr",
     "output_type": "stream",
     "text": [
      "Warning message:\n",
      "“Pareto k diagnostic value is 0.88. Resampling is unreliable. Increasing the number of draws or decreasing tol_rel_obj may help.”\n"
     ]
    },
    {
     "name": "stdout",
     "output_type": "stream",
     "text": [
      "[1] \"440-th simulation finished, 6.3760000000002 sec.\"\n"
     ]
    },
    {
     "name": "stderr",
     "output_type": "stream",
     "text": [
      "Warning message:\n",
      "“Pareto k diagnostic value is 0.84. Resampling is unreliable. Increasing the number of draws or decreasing tol_rel_obj may help.”\n"
     ]
    },
    {
     "name": "stdout",
     "output_type": "stream",
     "text": [
      "[1] \"441-th simulation finished, 6.34600000000137 sec.\"\n"
     ]
    },
    {
     "name": "stderr",
     "output_type": "stream",
     "text": [
      "Warning message:\n",
      "“Pareto k diagnostic value is 0.84. Resampling is unreliable. Increasing the number of draws or decreasing tol_rel_obj may help.”\n"
     ]
    },
    {
     "name": "stdout",
     "output_type": "stream",
     "text": [
      "[1] \"442-th simulation finished, 6.35199999999895 sec.\"\n"
     ]
    },
    {
     "name": "stderr",
     "output_type": "stream",
     "text": [
      "Warning message:\n",
      "“Pareto k diagnostic value is 0.83. Resampling is unreliable. Increasing the number of draws or decreasing tol_rel_obj may help.”\n"
     ]
    },
    {
     "name": "stdout",
     "output_type": "stream",
     "text": [
      "[1] \"443-th simulation finished, 6.34000000000015 sec.\"\n"
     ]
    },
    {
     "name": "stderr",
     "output_type": "stream",
     "text": [
      "Warning message:\n",
      "“Pareto k diagnostic value is 0.86. Resampling is unreliable. Increasing the number of draws or decreasing tol_rel_obj may help.”\n"
     ]
    },
    {
     "name": "stdout",
     "output_type": "stream",
     "text": [
      "[1] \"444-th simulation finished, 6.33200000000215 sec.\"\n",
      "[1] \"445-th simulation finished, 6.34000000000015 sec.\"\n",
      "[1] \"446-th simulation finished, 2.89600000000064 sec.\"\n",
      "[1] \"447-th simulation finished, 6.45700000000215 sec.\"\n",
      "[1] \"448-th simulation finished, 2.93999999999869 sec.\"\n"
     ]
    },
    {
     "name": "stderr",
     "output_type": "stream",
     "text": [
      "Warning message:\n",
      "“Pareto k diagnostic value is 0.81. Resampling is unreliable. Increasing the number of draws or decreasing tol_rel_obj may help.”\n"
     ]
    },
    {
     "name": "stdout",
     "output_type": "stream",
     "text": [
      "[1] \"449-th simulation finished, 6.45899999999892 sec.\"\n",
      "[1] \"450-th simulation finished, 2.93000000000029 sec.\"\n"
     ]
    },
    {
     "name": "stderr",
     "output_type": "stream",
     "text": [
      "Warning message:\n",
      "“Pareto k diagnostic value is 0.87. Resampling is unreliable. Increasing the number of draws or decreasing tol_rel_obj may help.”\n"
     ]
    },
    {
     "name": "stdout",
     "output_type": "stream",
     "text": [
      "[1] \"451-th simulation finished, 6.40799999999945 sec.\"\n"
     ]
    },
    {
     "name": "stderr",
     "output_type": "stream",
     "text": [
      "Warning message:\n",
      "“Pareto k diagnostic value is 0.86. Resampling is unreliable. Increasing the number of draws or decreasing tol_rel_obj may help.”\n"
     ]
    },
    {
     "name": "stdout",
     "output_type": "stream",
     "text": [
      "[1] \"452-th simulation finished, 6.59600000000137 sec.\"\n",
      "[1] \"453-th simulation finished, 6.30099999999948 sec.\"\n",
      "[1] \"454-th simulation finished, 2.91500000000087 sec.\"\n",
      "[1] \"455-th simulation finished, 2.86199999999735 sec.\"\n",
      "[1] \"456-th simulation finished, 2.97000000000116 sec.\"\n"
     ]
    },
    {
     "name": "stderr",
     "output_type": "stream",
     "text": [
      "Warning message:\n",
      "“Pareto k diagnostic value is 0.8. Resampling is unreliable. Increasing the number of draws or decreasing tol_rel_obj may help.”\n"
     ]
    },
    {
     "name": "stdout",
     "output_type": "stream",
     "text": [
      "[1] \"457-th simulation finished, 6.41899999999805 sec.\"\n",
      "[1] \"458-th simulation finished, 6.2970000000023 sec.\"\n",
      "[1] \"459-th simulation finished, 6.44900000000052 sec.\"\n",
      "[1] \"460-th simulation finished, 6.34799999999814 sec.\"\n",
      "[1] \"461-th simulation finished, 6.29300000000148 sec.\"\n",
      "[1] \"462-th simulation finished, 6.46399999999994 sec.\"\n"
     ]
    },
    {
     "name": "stderr",
     "output_type": "stream",
     "text": [
      "Warning message:\n",
      "“Pareto k diagnostic value is 0.81. Resampling is unreliable. Increasing the number of draws or decreasing tol_rel_obj may help.”\n"
     ]
    },
    {
     "name": "stdout",
     "output_type": "stream",
     "text": [
      "[1] \"463-th simulation finished, 6.35699999999997 sec.\"\n",
      "[1] \"464-th simulation finished, 6.44900000000052 sec.\"\n"
     ]
    },
    {
     "name": "stderr",
     "output_type": "stream",
     "text": [
      "Warning message:\n",
      "“Pareto k diagnostic value is 0.9. Resampling is unreliable. Increasing the number of draws or decreasing tol_rel_obj may help.”\n"
     ]
    },
    {
     "name": "stdout",
     "output_type": "stream",
     "text": [
      "[1] \"465-th simulation finished, 6.46399999999994 sec.\"\n",
      "[1] \"466-th simulation finished, 2.96500000000015 sec.\"\n",
      "[1] \"467-th simulation finished, 4.57900000000154 sec.\"\n"
     ]
    },
    {
     "name": "stderr",
     "output_type": "stream",
     "text": [
      "Warning message:\n",
      "“Pareto k diagnostic value is 0.86. Resampling is unreliable. Increasing the number of draws or decreasing tol_rel_obj may help.”\n"
     ]
    },
    {
     "name": "stdout",
     "output_type": "stream",
     "text": [
      "[1] \"468-th simulation finished, 6.50399999999718 sec.\"\n",
      "[1] \"469-th simulation finished, 2.96800000000076 sec.\"\n"
     ]
    },
    {
     "name": "stderr",
     "output_type": "stream",
     "text": [
      "Warning message:\n",
      "“Pareto k diagnostic value is 0.87. Resampling is unreliable. Increasing the number of draws or decreasing tol_rel_obj may help.”\n"
     ]
    },
    {
     "name": "stdout",
     "output_type": "stream",
     "text": [
      "[1] \"470-th simulation finished, 6.5 sec.\"\n",
      "[1] \"471-th simulation finished, 6.31300000000192 sec.\"\n",
      "[1] \"472-th simulation finished, 4.52699999999822 sec.\"\n"
     ]
    },
    {
     "name": "stderr",
     "output_type": "stream",
     "text": [
      "Warning message:\n",
      "“Pareto k diagnostic value is 0.88. Resampling is unreliable. Increasing the number of draws or decreasing tol_rel_obj may help.”\n"
     ]
    },
    {
     "name": "stdout",
     "output_type": "stream",
     "text": [
      "[1] \"473-th simulation finished, 6.42599999999948 sec.\"\n",
      "[1] \"474-th simulation finished, 2.98300000000017 sec.\"\n",
      "[1] \"475-th simulation finished, 6.38200000000143 sec.\"\n"
     ]
    },
    {
     "name": "stderr",
     "output_type": "stream",
     "text": [
      "Warning message:\n",
      "“Pareto k diagnostic value is 0.85. Resampling is unreliable. Increasing the number of draws or decreasing tol_rel_obj may help.”\n"
     ]
    },
    {
     "name": "stdout",
     "output_type": "stream",
     "text": [
      "[1] \"476-th simulation finished, 6.45000000000073 sec.\"\n"
     ]
    },
    {
     "name": "stderr",
     "output_type": "stream",
     "text": [
      "Warning message:\n",
      "“Pareto k diagnostic value is 0.83. Resampling is unreliable. Increasing the number of draws or decreasing tol_rel_obj may help.”\n"
     ]
    },
    {
     "name": "stdout",
     "output_type": "stream",
     "text": [
      "[1] \"477-th simulation finished, 6.30099999999948 sec.\"\n",
      "[1] \"478-th simulation finished, 7.25900000000183 sec.\"\n",
      "[1] \"479-th simulation finished, 2.84000000000015 sec.\"\n",
      "[1] \"480-th simulation finished, 6.23500000000058 sec.\"\n",
      "[1] \"481-th simulation finished, 6.63899999999921 sec.\"\n",
      "[1] \"482-th simulation finished, 6.58099999999831 sec.\"\n"
     ]
    },
    {
     "name": "stderr",
     "output_type": "stream",
     "text": [
      "Warning message:\n",
      "“Pareto k diagnostic value is 0.86. Resampling is unreliable. Increasing the number of draws or decreasing tol_rel_obj may help.”\n"
     ]
    },
    {
     "name": "stdout",
     "output_type": "stream",
     "text": [
      "[1] \"483-th simulation finished, 6.42299999999886 sec.\"\n",
      "[1] \"484-th simulation finished, 2.93400000000111 sec.\"\n",
      "[1] \"485-th simulation finished, 2.97599999999875 sec.\"\n",
      "[1] \"486-th simulation finished, 6.54100000000108 sec.\"\n"
     ]
    },
    {
     "name": "stderr",
     "output_type": "stream",
     "text": [
      "Warning message:\n",
      "“Pareto k diagnostic value is 0.84. Resampling is unreliable. Increasing the number of draws or decreasing tol_rel_obj may help.”\n"
     ]
    },
    {
     "name": "stdout",
     "output_type": "stream",
     "text": [
      "[1] \"487-th simulation finished, 6.43899999999849 sec.\"\n",
      "[1] \"488-th simulation finished, 2.93600000000151 sec.\"\n",
      "[1] \"489-th simulation finished, 2.69900000000052 sec.\"\n",
      "[1] \"490-th simulation finished, 6.59100000000035 sec.\"\n",
      "[1] \"491-th simulation finished, 7.14000000000306 sec.\"\n"
     ]
    },
    {
     "name": "stderr",
     "output_type": "stream",
     "text": [
      "Warning message:\n",
      "“Pareto k diagnostic value is 0.82. Resampling is unreliable. Increasing the number of draws or decreasing tol_rel_obj may help.”\n"
     ]
    },
    {
     "name": "stdout",
     "output_type": "stream",
     "text": [
      "[1] \"492-th simulation finished, 6.44099999999889 sec.\"\n",
      "[1] \"493-th simulation finished, 6.47899999999936 sec.\"\n"
     ]
    },
    {
     "name": "stderr",
     "output_type": "stream",
     "text": [
      "Warning message:\n",
      "“Pareto k diagnostic value is 0.88. Resampling is unreliable. Increasing the number of draws or decreasing tol_rel_obj may help.”\n"
     ]
    },
    {
     "name": "stdout",
     "output_type": "stream",
     "text": [
      "[1] \"494-th simulation finished, 6.41500000000087 sec.\"\n"
     ]
    },
    {
     "name": "stderr",
     "output_type": "stream",
     "text": [
      "Warning message:\n",
      "“Pareto k diagnostic value is 0.84. Resampling is unreliable. Increasing the number of draws or decreasing tol_rel_obj may help.”\n"
     ]
    },
    {
     "name": "stdout",
     "output_type": "stream",
     "text": [
      "[1] \"495-th simulation finished, 6.59699999999793 sec.\"\n",
      "[1] \"496-th simulation finished, 2.85800000000017 sec.\"\n"
     ]
    },
    {
     "name": "stderr",
     "output_type": "stream",
     "text": [
      "Warning message:\n",
      "“Pareto k diagnostic value is 0.84. Resampling is unreliable. Increasing the number of draws or decreasing tol_rel_obj may help.”\n"
     ]
    },
    {
     "name": "stdout",
     "output_type": "stream",
     "text": [
      "[1] \"497-th simulation finished, 6.52100000000064 sec.\"\n",
      "[1] \"498-th simulation finished, 5.89099999999962 sec.\"\n"
     ]
    },
    {
     "name": "stderr",
     "output_type": "stream",
     "text": [
      "Warning message:\n",
      "“Pareto k diagnostic value is 0.86. Resampling is unreliable. Increasing the number of draws or decreasing tol_rel_obj may help.”\n"
     ]
    },
    {
     "name": "stdout",
     "output_type": "stream",
     "text": [
      "[1] \"499-th simulation finished, 5.49399999999878 sec.\"\n",
      "[1] \"500-th simulation finished, 5.5570000000007 sec.\"\n",
      "[1] \"501-th simulation finished, 5.53099999999904 sec.\"\n",
      "[1] \"502-th simulation finished, 6.27600000000166 sec.\"\n"
     ]
    },
    {
     "name": "stderr",
     "output_type": "stream",
     "text": [
      "Warning message:\n",
      "“Pareto k diagnostic value is 0.86. Resampling is unreliable. Increasing the number of draws or decreasing tol_rel_obj may help.”\n"
     ]
    },
    {
     "name": "stdout",
     "output_type": "stream",
     "text": [
      "[1] \"503-th simulation finished, 5.63999999999942 sec.\"\n"
     ]
    },
    {
     "name": "stderr",
     "output_type": "stream",
     "text": [
      "Warning message:\n",
      "“Pareto k diagnostic value is 0.87. Resampling is unreliable. Increasing the number of draws or decreasing tol_rel_obj may help.”\n"
     ]
    },
    {
     "name": "stdout",
     "output_type": "stream",
     "text": [
      "[1] \"504-th simulation finished, 5.74499999999898 sec.\"\n",
      "[1] \"505-th simulation finished, 6.34000000000015 sec.\"\n",
      "[1] \"506-th simulation finished, 3.91200000000026 sec.\"\n"
     ]
    },
    {
     "name": "stderr",
     "output_type": "stream",
     "text": [
      "Warning message:\n",
      "“Pareto k diagnostic value is 0.84. Resampling is unreliable. Increasing the number of draws or decreasing tol_rel_obj may help.”\n"
     ]
    },
    {
     "name": "stdout",
     "output_type": "stream",
     "text": [
      "[1] \"507-th simulation finished, 5.75400000000081 sec.\"\n",
      "[1] \"508-th simulation finished, 4.16999999999825 sec.\"\n"
     ]
    },
    {
     "name": "stderr",
     "output_type": "stream",
     "text": [
      "Warning message:\n",
      "“Pareto k diagnostic value is 0.87. Resampling is unreliable. Increasing the number of draws or decreasing tol_rel_obj may help.”\n"
     ]
    },
    {
     "name": "stdout",
     "output_type": "stream",
     "text": [
      "[1] \"509-th simulation finished, 5.74400000000242 sec.\"\n"
     ]
    },
    {
     "name": "stderr",
     "output_type": "stream",
     "text": [
      "Warning message:\n",
      "“Pareto k diagnostic value is 0.85. Resampling is unreliable. Increasing the number of draws or decreasing tol_rel_obj may help.”\n"
     ]
    },
    {
     "name": "stdout",
     "output_type": "stream",
     "text": [
      "[1] \"510-th simulation finished, 5.72999999999956 sec.\"\n",
      "[1] \"511-th simulation finished, 4.0779999999977 sec.\"\n",
      "[1] \"512-th simulation finished, 5.84100000000035 sec.\"\n"
     ]
    },
    {
     "name": "stderr",
     "output_type": "stream",
     "text": [
      "Warning message:\n",
      "“Pareto k diagnostic value is 0.83. Resampling is unreliable. Increasing the number of draws or decreasing tol_rel_obj may help.”\n"
     ]
    },
    {
     "name": "stdout",
     "output_type": "stream",
     "text": [
      "[1] \"513-th simulation finished, 5.79799999999886 sec.\"\n"
     ]
    },
    {
     "name": "stderr",
     "output_type": "stream",
     "text": [
      "Warning message:\n",
      "“Pareto k diagnostic value is 0.87. Resampling is unreliable. Increasing the number of draws or decreasing tol_rel_obj may help.”\n"
     ]
    },
    {
     "name": "stdout",
     "output_type": "stream",
     "text": [
      "[1] \"514-th simulation finished, 5.76499999999942 sec.\"\n",
      "[1] \"515-th simulation finished, 6.07300000000032 sec.\"\n",
      "[1] \"516-th simulation finished, 4.32300000000032 sec.\"\n"
     ]
    },
    {
     "name": "stderr",
     "output_type": "stream",
     "text": [
      "Warning message:\n",
      "“Pareto k diagnostic value is 0.79. Resampling is unreliable. Increasing the number of draws or decreasing tol_rel_obj may help.”\n"
     ]
    },
    {
     "name": "stdout",
     "output_type": "stream",
     "text": [
      "[1] \"517-th simulation finished, 6.04500000000189 sec.\"\n",
      "[1] \"518-th simulation finished, 5.92599999999948 sec.\"\n"
     ]
    },
    {
     "name": "stderr",
     "output_type": "stream",
     "text": [
      "Warning message:\n",
      "“Pareto k diagnostic value is 0.9. Resampling is unreliable. Increasing the number of draws or decreasing tol_rel_obj may help.”\n"
     ]
    },
    {
     "name": "stdout",
     "output_type": "stream",
     "text": [
      "[1] \"519-th simulation finished, 6.03800000000047 sec.\"\n",
      "[1] \"520-th simulation finished, 2.79299999999785 sec.\"\n"
     ]
    },
    {
     "name": "stderr",
     "output_type": "stream",
     "text": [
      "Warning message:\n",
      "“Pareto k diagnostic value is 0.79. Resampling is unreliable. Increasing the number of draws or decreasing tol_rel_obj may help.”\n"
     ]
    },
    {
     "name": "stdout",
     "output_type": "stream",
     "text": [
      "[1] \"521-th simulation finished, 6.19099999999889 sec.\"\n",
      "[1] \"522-th simulation finished, 2.79900000000271 sec.\"\n",
      "[1] \"523-th simulation finished, 2.89300000000003 sec.\"\n"
     ]
    },
    {
     "name": "stderr",
     "output_type": "stream",
     "text": [
      "Warning message:\n",
      "“Pareto k diagnostic value is 0.85. Resampling is unreliable. Increasing the number of draws or decreasing tol_rel_obj may help.”\n"
     ]
    },
    {
     "name": "stdout",
     "output_type": "stream",
     "text": [
      "[1] \"524-th simulation finished, 6.30699999999706 sec.\"\n",
      "[1] \"525-th simulation finished, 6.15899999999965 sec.\"\n",
      "[1] \"526-th simulation finished, 2.82400000000052 sec.\"\n"
     ]
    },
    {
     "name": "stderr",
     "output_type": "stream",
     "text": [
      "Warning message:\n",
      "“Pareto k diagnostic value is 0.8. Resampling is unreliable. Increasing the number of draws or decreasing tol_rel_obj may help.”\n"
     ]
    },
    {
     "name": "stdout",
     "output_type": "stream",
     "text": [
      "[1] \"527-th simulation finished, 6.20800000000236 sec.\"\n",
      "[1] \"528-th simulation finished, 6.33300000000236 sec.\"\n",
      "[1] \"529-th simulation finished, 4.26800000000003 sec.\"\n"
     ]
    },
    {
     "name": "stderr",
     "output_type": "stream",
     "text": [
      "Warning message:\n",
      "“Pareto k diagnostic value is 0.84. Resampling is unreliable. Increasing the number of draws or decreasing tol_rel_obj may help.”\n"
     ]
    },
    {
     "name": "stdout",
     "output_type": "stream",
     "text": [
      "[1] \"530-th simulation finished, 6.07599999999729 sec.\"\n"
     ]
    },
    {
     "name": "stderr",
     "output_type": "stream",
     "text": [
      "Warning message:\n",
      "“Pareto k diagnostic value is 0.87. Resampling is unreliable. Increasing the number of draws or decreasing tol_rel_obj may help.”\n"
     ]
    },
    {
     "name": "stdout",
     "output_type": "stream",
     "text": [
      "[1] \"531-th simulation finished, 6.08899999999994 sec.\"\n",
      "[1] \"532-th simulation finished, 6.00900000000183 sec.\"\n"
     ]
    },
    {
     "name": "stderr",
     "output_type": "stream",
     "text": [
      "Warning message:\n",
      "“Pareto k diagnostic value is 0.92. Resampling is unreliable. Increasing the number of draws or decreasing tol_rel_obj may help.”\n"
     ]
    },
    {
     "name": "stdout",
     "output_type": "stream",
     "text": [
      "[1] \"533-th simulation finished, 6.17399999999907 sec.\"\n"
     ]
    },
    {
     "name": "stderr",
     "output_type": "stream",
     "text": [
      "Warning message:\n",
      "“Pareto k diagnostic value is 0.86. Resampling is unreliable. Increasing the number of draws or decreasing tol_rel_obj may help.”\n"
     ]
    },
    {
     "name": "stdout",
     "output_type": "stream",
     "text": [
      "[1] \"534-th simulation finished, 6.15499999999884 sec.\"\n",
      "[1] \"535-th simulation finished, 6.09900000000198 sec.\"\n",
      "[1] \"536-th simulation finished, 6.01900000000023 sec.\"\n"
     ]
    },
    {
     "name": "stderr",
     "output_type": "stream",
     "text": [
      "Warning message:\n",
      "“Pareto k diagnostic value is 0.87. Resampling is unreliable. Increasing the number of draws or decreasing tol_rel_obj may help.”\n"
     ]
    },
    {
     "name": "stdout",
     "output_type": "stream",
     "text": [
      "[1] \"537-th simulation finished, 6.15899999999965 sec.\"\n"
     ]
    },
    {
     "name": "stderr",
     "output_type": "stream",
     "text": [
      "Warning message:\n",
      "“Pareto k diagnostic value is 0.8. Resampling is unreliable. Increasing the number of draws or decreasing tol_rel_obj may help.”\n"
     ]
    },
    {
     "name": "stdout",
     "output_type": "stream",
     "text": [
      "[1] \"538-th simulation finished, 6.17499999999927 sec.\"\n",
      "[1] \"539-th simulation finished, 6.4429999999993 sec.\"\n"
     ]
    },
    {
     "name": "stderr",
     "output_type": "stream",
     "text": [
      "Warning message:\n",
      "“Pareto k diagnostic value is 0.87. Resampling is unreliable. Increasing the number of draws or decreasing tol_rel_obj may help.”\n"
     ]
    },
    {
     "name": "stdout",
     "output_type": "stream",
     "text": [
      "[1] \"540-th simulation finished, 6.76399999999921 sec.\"\n",
      "[1] \"541-th simulation finished, 6.66700000000128 sec.\"\n"
     ]
    },
    {
     "name": "stderr",
     "output_type": "stream",
     "text": [
      "Warning message:\n",
      "“Pareto k diagnostic value is 0.84. Resampling is unreliable. Increasing the number of draws or decreasing tol_rel_obj may help.”\n"
     ]
    },
    {
     "name": "stdout",
     "output_type": "stream",
     "text": [
      "[1] \"542-th simulation finished, 6.79699999999866 sec.\"\n"
     ]
    },
    {
     "name": "stderr",
     "output_type": "stream",
     "text": [
      "Warning message:\n",
      "“Pareto k diagnostic value is 0.84. Resampling is unreliable. Increasing the number of draws or decreasing tol_rel_obj may help.”\n"
     ]
    },
    {
     "name": "stdout",
     "output_type": "stream",
     "text": [
      "[1] \"543-th simulation finished, 6.79699999999866 sec.\"\n",
      "[1] \"544-th simulation finished, 3.05299999999988 sec.\"\n",
      "[1] \"545-th simulation finished, 4.58400000000256 sec.\"\n",
      "[1] \"546-th simulation finished, 7.34100000000035 sec.\"\n",
      "[1] \"547-th simulation finished, 6.42199999999866 sec.\"\n"
     ]
    },
    {
     "name": "stderr",
     "output_type": "stream",
     "text": [
      "Warning message:\n",
      "“Pareto k diagnostic value is 1.07. Resampling is disabled. Decreasing tol_rel_obj may help if variational algorithm has terminated prematurely. Otherwise consider using sampling instead.”\n"
     ]
    },
    {
     "name": "stdout",
     "output_type": "stream",
     "text": [
      "[1] \"548-th simulation finished, 7.20999999999913 sec.\"\n",
      "[1] \"549-th simulation finished, 2.72300000000178 sec.\"\n",
      "[1] \"550-th simulation finished, 6.37800000000061 sec.\"\n",
      "[1] \"551-th simulation finished, 2.96800000000076 sec.\"\n"
     ]
    },
    {
     "name": "stderr",
     "output_type": "stream",
     "text": [
      "Warning message:\n",
      "“Pareto k diagnostic value is 0.88. Resampling is unreliable. Increasing the number of draws or decreasing tol_rel_obj may help.”\n"
     ]
    },
    {
     "name": "stdout",
     "output_type": "stream",
     "text": [
      "[1] \"552-th simulation finished, 6.37700000000041 sec.\"\n",
      "[1] \"553-th simulation finished, 2.79999999999927 sec.\"\n"
     ]
    },
    {
     "name": "stderr",
     "output_type": "stream",
     "text": [
      "Warning message:\n",
      "“Pareto k diagnostic value is 0.9. Resampling is unreliable. Increasing the number of draws or decreasing tol_rel_obj may help.”\n"
     ]
    },
    {
     "name": "stdout",
     "output_type": "stream",
     "text": [
      "[1] \"554-th simulation finished, 6.38699999999881 sec.\"\n",
      "[1] \"555-th simulation finished, 2.77700000000186 sec.\"\n",
      "[1] \"556-th simulation finished, 6.36799999999857 sec.\"\n"
     ]
    },
    {
     "name": "stderr",
     "output_type": "stream",
     "text": [
      "Warning message:\n",
      "“Pareto k diagnostic value is 0.85. Resampling is unreliable. Increasing the number of draws or decreasing tol_rel_obj may help.”\n"
     ]
    },
    {
     "name": "stdout",
     "output_type": "stream",
     "text": [
      "[1] \"557-th simulation finished, 6.38100000000122 sec.\"\n",
      "[1] \"558-th simulation finished, 3.17900000000009 sec.\"\n",
      "[1] \"559-th simulation finished, 7.10900000000038 sec.\"\n"
     ]
    },
    {
     "name": "stderr",
     "output_type": "stream",
     "text": [
      "Warning message:\n",
      "“Pareto k diagnostic value is 0.91. Resampling is unreliable. Increasing the number of draws or decreasing tol_rel_obj may help.”\n"
     ]
    },
    {
     "name": "stdout",
     "output_type": "stream",
     "text": [
      "[1] \"560-th simulation finished, 6.32999999999811 sec.\"\n",
      "[1] \"561-th simulation finished, 7.02700000000186 sec.\"\n"
     ]
    },
    {
     "name": "stderr",
     "output_type": "stream",
     "text": [
      "Warning message:\n",
      "“Pareto k diagnostic value is 0.84. Resampling is unreliable. Increasing the number of draws or decreasing tol_rel_obj may help.”\n"
     ]
    },
    {
     "name": "stdout",
     "output_type": "stream",
     "text": [
      "[1] \"562-th simulation finished, 6.41200000000026 sec.\"\n"
     ]
    },
    {
     "name": "stderr",
     "output_type": "stream",
     "text": [
      "Warning message:\n",
      "“Pareto k diagnostic value is 0.82. Resampling is unreliable. Increasing the number of draws or decreasing tol_rel_obj may help.”\n"
     ]
    },
    {
     "name": "stdout",
     "output_type": "stream",
     "text": [
      "[1] \"563-th simulation finished, 6.30299999999988 sec.\"\n"
     ]
    },
    {
     "name": "stderr",
     "output_type": "stream",
     "text": [
      "Warning message:\n",
      "“Pareto k diagnostic value is 0.82. Resampling is unreliable. Increasing the number of draws or decreasing tol_rel_obj may help.”\n"
     ]
    },
    {
     "name": "stdout",
     "output_type": "stream",
     "text": [
      "[1] \"564-th simulation finished, 6.36900000000242 sec.\"\n",
      "[1] \"565-th simulation finished, 6.29599999999846 sec.\"\n",
      "[1] \"566-th simulation finished, 4.41900000000169 sec.\"\n",
      "[1] \"567-th simulation finished, 6.31000000000131 sec.\"\n",
      "[1] \"568-th simulation finished, 6.32500000000073 sec.\"\n",
      "[1] \"569-th simulation finished, 2.96199999999953 sec.\"\n"
     ]
    },
    {
     "name": "stderr",
     "output_type": "stream",
     "text": [
      "Warning message:\n",
      "“Pareto k diagnostic value is 0.84. Resampling is unreliable. Increasing the number of draws or decreasing tol_rel_obj may help.”\n"
     ]
    },
    {
     "name": "stdout",
     "output_type": "stream",
     "text": [
      "[1] \"570-th simulation finished, 6.41999999999825 sec.\"\n"
     ]
    },
    {
     "name": "stderr",
     "output_type": "stream",
     "text": [
      "Warning message:\n",
      "“Pareto k diagnostic value is 0.89. Resampling is unreliable. Increasing the number of draws or decreasing tol_rel_obj may help.”\n"
     ]
    },
    {
     "name": "stdout",
     "output_type": "stream",
     "text": [
      "[1] \"571-th simulation finished, 6.4429999999993 sec.\"\n"
     ]
    },
    {
     "name": "stderr",
     "output_type": "stream",
     "text": [
      "Warning message:\n",
      "“Pareto k diagnostic value is 0.92. Resampling is unreliable. Increasing the number of draws or decreasing tol_rel_obj may help.”\n"
     ]
    },
    {
     "name": "stdout",
     "output_type": "stream",
     "text": [
      "[1] \"572-th simulation finished, 7.24699999999939 sec.\"\n"
     ]
    },
    {
     "name": "stderr",
     "output_type": "stream",
     "text": [
      "Warning message:\n",
      "“Pareto k diagnostic value is 0.83. Resampling is unreliable. Increasing the number of draws or decreasing tol_rel_obj may help.”\n"
     ]
    },
    {
     "name": "stdout",
     "output_type": "stream",
     "text": [
      "[1] \"573-th simulation finished, 6.32700000000114 sec.\"\n",
      "[1] \"574-th simulation finished, 6.23600000000079 sec.\"\n",
      "[1] \"575-th simulation finished, 6.53699999999662 sec.\"\n",
      "[1] \"576-th simulation finished, 6.35800000000017 sec.\"\n"
     ]
    },
    {
     "name": "stderr",
     "output_type": "stream",
     "text": [
      "Warning message:\n",
      "“Pareto k diagnostic value is 0.8. Resampling is unreliable. Increasing the number of draws or decreasing tol_rel_obj may help.”\n"
     ]
    },
    {
     "name": "stdout",
     "output_type": "stream",
     "text": [
      "[1] \"577-th simulation finished, 6.58000000000175 sec.\"\n",
      "[1] \"578-th simulation finished, 2.96399999999994 sec.\"\n",
      "[1] \"579-th simulation finished, 6.37299999999959 sec.\"\n"
     ]
    },
    {
     "name": "stderr",
     "output_type": "stream",
     "text": [
      "Warning message:\n",
      "“Pareto k diagnostic value is 0.85. Resampling is unreliable. Increasing the number of draws or decreasing tol_rel_obj may help.”\n"
     ]
    },
    {
     "name": "stdout",
     "output_type": "stream",
     "text": [
      "[1] \"580-th simulation finished, 6.33399999999892 sec.\"\n",
      "[1] \"581-th simulation finished, 6.40300000000207 sec.\"\n",
      "[1] \"582-th simulation finished, 2.98799999999756 sec.\"\n",
      "[1] \"583-th simulation finished, 2.95200000000114 sec.\"\n"
     ]
    },
    {
     "name": "stderr",
     "output_type": "stream",
     "text": [
      "Warning message:\n",
      "“Pareto k diagnostic value is 0.86. Resampling is unreliable. Increasing the number of draws or decreasing tol_rel_obj may help.”\n"
     ]
    },
    {
     "name": "stdout",
     "output_type": "stream",
     "text": [
      "[1] \"584-th simulation finished, 6.3849999999984 sec.\"\n",
      "[1] \"585-th simulation finished, 2.97000000000116 sec.\"\n",
      "[1] \"586-th simulation finished, 6.5 sec.\"\n",
      "[1] \"587-th simulation finished, 2.96099999999933 sec.\"\n",
      "[1] \"588-th simulation finished, 2.91899999999805 sec.\"\n",
      "[1] \"589-th simulation finished, 6.35100000000239 sec.\"\n",
      "[1] \"590-th simulation finished, 6.44599999999991 sec.\"\n",
      "[1] \"591-th simulation finished, 4.57399999999689 sec.\"\n",
      "[1] \"592-th simulation finished, 6.64300000000003 sec.\"\n",
      "[1] \"593-th simulation finished, 7.20900000000256 sec.\"\n"
     ]
    },
    {
     "name": "stderr",
     "output_type": "stream",
     "text": [
      "Warning message:\n",
      "“Pareto k diagnostic value is 0.86. Resampling is unreliable. Increasing the number of draws or decreasing tol_rel_obj may help.”\n"
     ]
    },
    {
     "name": "stdout",
     "output_type": "stream",
     "text": [
      "[1] \"594-th simulation finished, 6.60199999999895 sec.\"\n",
      "[1] \"595-th simulation finished, 2.7510000000002 sec.\"\n"
     ]
    },
    {
     "name": "stderr",
     "output_type": "stream",
     "text": [
      "Warning message:\n",
      "“Pareto k diagnostic value is 0.87. Resampling is unreliable. Increasing the number of draws or decreasing tol_rel_obj may help.”\n"
     ]
    },
    {
     "name": "stdout",
     "output_type": "stream",
     "text": [
      "[1] \"596-th simulation finished, 6.45899999999892 sec.\"\n",
      "[1] \"597-th simulation finished, 6.51599999999962 sec.\"\n"
     ]
    },
    {
     "name": "stderr",
     "output_type": "stream",
     "text": [
      "Warning message:\n",
      "“Pareto k diagnostic value is 0.85. Resampling is unreliable. Increasing the number of draws or decreasing tol_rel_obj may help.”\n"
     ]
    },
    {
     "name": "stdout",
     "output_type": "stream",
     "text": [
      "[1] \"598-th simulation finished, 6.45699999999852 sec.\"\n"
     ]
    },
    {
     "name": "stderr",
     "output_type": "stream",
     "text": [
      "Warning message:\n",
      "“Pareto k diagnostic value is 0.86. Resampling is unreliable. Increasing the number of draws or decreasing tol_rel_obj may help.”\n"
     ]
    },
    {
     "name": "stdout",
     "output_type": "stream",
     "text": [
      "[1] \"599-th simulation finished, 6.51400000000285 sec.\"\n"
     ]
    },
    {
     "name": "stderr",
     "output_type": "stream",
     "text": [
      "Warning message:\n",
      "“Pareto k diagnostic value is 0.84. Resampling is unreliable. Increasing the number of draws or decreasing tol_rel_obj may help.”\n"
     ]
    },
    {
     "name": "stdout",
     "output_type": "stream",
     "text": [
      "[1] \"600-th simulation finished, 6.45999999999913 sec.\"\n"
     ]
    },
    {
     "name": "stderr",
     "output_type": "stream",
     "text": [
      "Warning message:\n",
      "“Pareto k diagnostic value is 0.88. Resampling is unreliable. Increasing the number of draws or decreasing tol_rel_obj may help.”\n"
     ]
    },
    {
     "name": "stdout",
     "output_type": "stream",
     "text": [
      "[1] \"601-th simulation finished, 6.44599999999991 sec.\"\n"
     ]
    },
    {
     "name": "stderr",
     "output_type": "stream",
     "text": [
      "Warning message:\n",
      "“Pareto k diagnostic value is 0.83. Resampling is unreliable. Increasing the number of draws or decreasing tol_rel_obj may help.”\n"
     ]
    },
    {
     "name": "stdout",
     "output_type": "stream",
     "text": [
      "[1] \"602-th simulation finished, 6.47499999999854 sec.\"\n",
      "[1] \"603-th simulation finished, 2.89500000000044 sec.\"\n",
      "[1] \"604-th simulation finished, 6.47100000000137 sec.\"\n"
     ]
    },
    {
     "name": "stderr",
     "output_type": "stream",
     "text": [
      "Warning message:\n",
      "“Pareto k diagnostic value is 0.93. Resampling is unreliable. Increasing the number of draws or decreasing tol_rel_obj may help.”\n"
     ]
    },
    {
     "name": "stdout",
     "output_type": "stream",
     "text": [
      "[1] \"605-th simulation finished, 6.36699999999837 sec.\"\n"
     ]
    },
    {
     "name": "stderr",
     "output_type": "stream",
     "text": [
      "Warning message:\n",
      "“Pareto k diagnostic value is 0.89. Resampling is unreliable. Increasing the number of draws or decreasing tol_rel_obj may help.”\n"
     ]
    },
    {
     "name": "stdout",
     "output_type": "stream",
     "text": [
      "[1] \"606-th simulation finished, 6.48300000000017 sec.\"\n",
      "[1] \"607-th simulation finished, 6.56999999999971 sec.\"\n",
      "[1] \"608-th simulation finished, 4.51199999999881 sec.\"\n"
     ]
    },
    {
     "name": "stderr",
     "output_type": "stream",
     "text": [
      "Warning message:\n",
      "“Pareto k diagnostic value is 0.86. Resampling is unreliable. Increasing the number of draws or decreasing tol_rel_obj may help.”\n"
     ]
    },
    {
     "name": "stdout",
     "output_type": "stream",
     "text": [
      "[1] \"609-th simulation finished, 6.39099999999962 sec.\"\n"
     ]
    },
    {
     "name": "stderr",
     "output_type": "stream",
     "text": [
      "Warning message:\n",
      "“Pareto k diagnostic value is 0.8. Resampling is unreliable. Increasing the number of draws or decreasing tol_rel_obj may help.”\n"
     ]
    },
    {
     "name": "stdout",
     "output_type": "stream",
     "text": [
      "[1] \"610-th simulation finished, 6.54100000000108 sec.\"\n",
      "[1] \"611-th simulation finished, 6.46399999999994 sec.\"\n",
      "[1] \"612-th simulation finished, 3.01299999999901 sec.\"\n"
     ]
    },
    {
     "name": "stderr",
     "output_type": "stream",
     "text": [
      "Warning message:\n",
      "“Pareto k diagnostic value is 0.91. Resampling is unreliable. Increasing the number of draws or decreasing tol_rel_obj may help.”\n"
     ]
    },
    {
     "name": "stdout",
     "output_type": "stream",
     "text": [
      "[1] \"613-th simulation finished, 6.49799999999959 sec.\"\n"
     ]
    },
    {
     "name": "stderr",
     "output_type": "stream",
     "text": [
      "Warning message:\n",
      "“Pareto k diagnostic value is 0.85. Resampling is unreliable. Increasing the number of draws or decreasing tol_rel_obj may help.”\n"
     ]
    },
    {
     "name": "stdout",
     "output_type": "stream",
     "text": [
      "[1] \"614-th simulation finished, 6.62099999999919 sec.\"\n",
      "[1] \"615-th simulation finished, 2.9890000000014 sec.\"\n",
      "[1] \"616-th simulation finished, 3.11599999999817 sec.\"\n"
     ]
    },
    {
     "name": "stderr",
     "output_type": "stream",
     "text": [
      "Warning message:\n",
      "“Pareto k diagnostic value is 0.86. Resampling is unreliable. Increasing the number of draws or decreasing tol_rel_obj may help.”\n"
     ]
    },
    {
     "name": "stdout",
     "output_type": "stream",
     "text": [
      "[1] \"617-th simulation finished, 6.47899999999936 sec.\"\n",
      "[1] \"618-th simulation finished, 2.94200000000274 sec.\"\n",
      "[1] \"619-th simulation finished, 4.49300000000221 sec.\"\n",
      "[1] \"620-th simulation finished, 7.25 sec.\"\n",
      "[1] \"621-th simulation finished, 6.58699999999953 sec.\"\n"
     ]
    },
    {
     "name": "stderr",
     "output_type": "stream",
     "text": [
      "Warning message:\n",
      "“Pareto k diagnostic value is 0.86. Resampling is unreliable. Increasing the number of draws or decreasing tol_rel_obj may help.”\n"
     ]
    },
    {
     "name": "stdout",
     "output_type": "stream",
     "text": [
      "[1] \"622-th simulation finished, 6.5570000000007 sec.\"\n",
      "[1] \"623-th simulation finished, 6.50599999999758 sec.\"\n",
      "[1] \"624-th simulation finished, 6.4330000000009 sec.\"\n",
      "[1] \"625-th simulation finished, 6.50600000000122 sec.\"\n"
     ]
    },
    {
     "name": "stderr",
     "output_type": "stream",
     "text": [
      "Warning message:\n",
      "“Pareto k diagnostic value is 0.82. Resampling is unreliable. Increasing the number of draws or decreasing tol_rel_obj may help.”\n"
     ]
    },
    {
     "name": "stdout",
     "output_type": "stream",
     "text": [
      "[1] \"626-th simulation finished, 6.43699999999808 sec.\"\n",
      "[1] \"627-th simulation finished, 3.01399999999921 sec.\"\n"
     ]
    },
    {
     "name": "stderr",
     "output_type": "stream",
     "text": [
      "Warning message:\n",
      "“Pareto k diagnostic value is 0.84. Resampling is unreliable. Increasing the number of draws or decreasing tol_rel_obj may help.”\n"
     ]
    },
    {
     "name": "stdout",
     "output_type": "stream",
     "text": [
      "[1] \"628-th simulation finished, 6.52400000000125 sec.\"\n",
      "[1] \"629-th simulation finished, 4.53600000000006 sec.\"\n",
      "[1] \"630-th simulation finished, 7.18799999999828 sec.\"\n",
      "[1] \"631-th simulation finished, 3.10800000000017 sec.\"\n"
     ]
    },
    {
     "name": "stderr",
     "output_type": "stream",
     "text": [
      "Warning message:\n",
      "“Pareto k diagnostic value is 0.82. Resampling is unreliable. Increasing the number of draws or decreasing tol_rel_obj may help.”\n"
     ]
    },
    {
     "name": "stdout",
     "output_type": "stream",
     "text": [
      "[1] \"632-th simulation finished, 6.52000000000044 sec.\"\n",
      "[1] \"633-th simulation finished, 2.93000000000029 sec.\"\n",
      "[1] \"634-th simulation finished, 7.18699999999808 sec.\"\n",
      "[1] \"635-th simulation finished, 3.09800000000178 sec.\"\n",
      "[1] \"636-th simulation finished, 6.55999999999767 sec.\"\n",
      "[1] \"637-th simulation finished, 6.45200000000114 sec.\"\n",
      "[1] \"638-th simulation finished, 2.98099999999977 sec.\"\n"
     ]
    },
    {
     "name": "stderr",
     "output_type": "stream",
     "text": [
      "Warning message:\n",
      "“Pareto k diagnostic value is 0.89. Resampling is unreliable. Increasing the number of draws or decreasing tol_rel_obj may help.”\n"
     ]
    },
    {
     "name": "stdout",
     "output_type": "stream",
     "text": [
      "[1] \"639-th simulation finished, 6.41400000000067 sec.\"\n"
     ]
    },
    {
     "name": "stderr",
     "output_type": "stream",
     "text": [
      "Warning message:\n",
      "“Pareto k diagnostic value is 0.84. Resampling is unreliable. Increasing the number of draws or decreasing tol_rel_obj may help.”\n"
     ]
    },
    {
     "name": "stdout",
     "output_type": "stream",
     "text": [
      "[1] \"640-th simulation finished, 6.52199999999721 sec.\"\n",
      "[1] \"641-th simulation finished, 2.81400000000212 sec.\"\n",
      "[1] \"642-th simulation finished, 3.12700000000041 sec.\"\n"
     ]
    },
    {
     "name": "stderr",
     "output_type": "stream",
     "text": [
      "Warning message:\n",
      "“Pareto k diagnostic value is 0.82. Resampling is unreliable. Increasing the number of draws or decreasing tol_rel_obj may help.”\n"
     ]
    },
    {
     "name": "stdout",
     "output_type": "stream",
     "text": [
      "[1] \"643-th simulation finished, 6.50799999999799 sec.\"\n",
      "[1] \"644-th simulation finished, 4.55400000000009 sec.\"\n"
     ]
    },
    {
     "name": "stderr",
     "output_type": "stream",
     "text": [
      "Warning message:\n",
      "“Pareto k diagnostic value is 0.84. Resampling is unreliable. Increasing the number of draws or decreasing tol_rel_obj may help.”\n"
     ]
    },
    {
     "name": "stdout",
     "output_type": "stream",
     "text": [
      "[1] \"645-th simulation finished, 6.50800000000163 sec.\"\n"
     ]
    },
    {
     "name": "stderr",
     "output_type": "stream",
     "text": [
      "Warning message:\n",
      "“Pareto k diagnostic value is 0.85. Resampling is unreliable. Increasing the number of draws or decreasing tol_rel_obj may help.”\n"
     ]
    },
    {
     "name": "stdout",
     "output_type": "stream",
     "text": [
      "[1] \"646-th simulation finished, 6.68000000000029 sec.\"\n",
      "[1] \"647-th simulation finished, 6.35000000000218 sec.\"\n",
      "[1] \"648-th simulation finished, 6.4439999999995 sec.\"\n",
      "[1] \"649-th simulation finished, 4.55299999999988 sec.\"\n",
      "[1] \"650-th simulation finished, 6.52000000000044 sec.\"\n"
     ]
    },
    {
     "name": "stderr",
     "output_type": "stream",
     "text": [
      "Warning message:\n",
      "“Pareto k diagnostic value is 0.85. Resampling is unreliable. Increasing the number of draws or decreasing tol_rel_obj may help.”\n"
     ]
    },
    {
     "name": "stdout",
     "output_type": "stream",
     "text": [
      "[1] \"651-th simulation finished, 6.53299999999945 sec.\"\n",
      "[1] \"652-th simulation finished, 6.62900000000081 sec.\"\n",
      "[1] \"653-th simulation finished, 6.37100000000282 sec.\"\n"
     ]
    },
    {
     "name": "stderr",
     "output_type": "stream",
     "text": [
      "Warning message:\n",
      "“Pareto k diagnostic value is 0.82. Resampling is unreliable. Increasing the number of draws or decreasing tol_rel_obj may help.”\n"
     ]
    },
    {
     "name": "stdout",
     "output_type": "stream",
     "text": [
      "[1] \"654-th simulation finished, 6.59199999999691 sec.\"\n",
      "[1] \"655-th simulation finished, 2.83600000000297 sec.\"\n"
     ]
    },
    {
     "name": "stderr",
     "output_type": "stream",
     "text": [
      "Warning message:\n",
      "“Pareto k diagnostic value is 0.92. Resampling is unreliable. Increasing the number of draws or decreasing tol_rel_obj may help.”\n"
     ]
    },
    {
     "name": "stdout",
     "output_type": "stream",
     "text": [
      "[1] \"656-th simulation finished, 6.42999999999665 sec.\"\n",
      "[1] \"657-th simulation finished, 4.56800000000294 sec.\"\n"
     ]
    },
    {
     "name": "stderr",
     "output_type": "stream",
     "text": [
      "Warning message:\n",
      "“Pareto k diagnostic value is 0.87. Resampling is unreliable. Increasing the number of draws or decreasing tol_rel_obj may help.”\n"
     ]
    },
    {
     "name": "stdout",
     "output_type": "stream",
     "text": [
      "[1] \"658-th simulation finished, 6.5669999999991 sec.\"\n"
     ]
    },
    {
     "name": "stderr",
     "output_type": "stream",
     "text": [
      "Warning message:\n",
      "“Pareto k diagnostic value is 0.87. Resampling is unreliable. Increasing the number of draws or decreasing tol_rel_obj may help.”\n"
     ]
    },
    {
     "name": "stdout",
     "output_type": "stream",
     "text": [
      "[1] \"659-th simulation finished, 6.56499999999869 sec.\"\n",
      "[1] \"660-th simulation finished, 4.75300000000061 sec.\"\n",
      "[1] \"661-th simulation finished, 2.96299999999974 sec.\"\n",
      "[1] \"662-th simulation finished, 4.55500000000029 sec.\"\n"
     ]
    },
    {
     "name": "stderr",
     "output_type": "stream",
     "text": [
      "Warning message:\n",
      "“Pareto k diagnostic value is 0.84. Resampling is unreliable. Increasing the number of draws or decreasing tol_rel_obj may help.”\n"
     ]
    },
    {
     "name": "stdout",
     "output_type": "stream",
     "text": [
      "[1] \"663-th simulation finished, 6.62700000000041 sec.\"\n",
      "[1] \"664-th simulation finished, 6.51800000000003 sec.\"\n",
      "[1] \"665-th simulation finished, 6.6339999999982 sec.\"\n",
      "[1] \"666-th simulation finished, 4.52500000000146 sec.\"\n"
     ]
    },
    {
     "name": "stderr",
     "output_type": "stream",
     "text": [
      "Warning message:\n",
      "“Pareto k diagnostic value is 0.9. Resampling is unreliable. Increasing the number of draws or decreasing tol_rel_obj may help.”\n"
     ]
    },
    {
     "name": "stdout",
     "output_type": "stream",
     "text": [
      "[1] \"667-th simulation finished, 6.56199999999808 sec.\"\n"
     ]
    },
    {
     "name": "stderr",
     "output_type": "stream",
     "text": [
      "Warning message:\n",
      "“Pareto k diagnostic value is 0.83. Resampling is unreliable. Increasing the number of draws or decreasing tol_rel_obj may help.”\n"
     ]
    },
    {
     "name": "stdout",
     "output_type": "stream",
     "text": [
      "[1] \"668-th simulation finished, 6.41200000000026 sec.\"\n"
     ]
    },
    {
     "name": "stderr",
     "output_type": "stream",
     "text": [
      "Warning message:\n",
      "“Pareto k diagnostic value is 0.9. Resampling is unreliable. Increasing the number of draws or decreasing tol_rel_obj may help.”\n"
     ]
    },
    {
     "name": "stdout",
     "output_type": "stream",
     "text": [
      "[1] \"669-th simulation finished, 6.52200000000084 sec.\"\n"
     ]
    },
    {
     "name": "stderr",
     "output_type": "stream",
     "text": [
      "Warning message:\n",
      "“Pareto k diagnostic value is 0.84. Resampling is unreliable. Increasing the number of draws or decreasing tol_rel_obj may help.”\n"
     ]
    },
    {
     "name": "stdout",
     "output_type": "stream",
     "text": [
      "[1] \"670-th simulation finished, 6.48999999999796 sec.\"\n",
      "[1] \"671-th simulation finished, 2.98300000000017 sec.\"\n",
      "[1] \"672-th simulation finished, 2.71099999999933 sec.\"\n",
      "[1] \"673-th simulation finished, 2.95600000000195 sec.\"\n",
      "[1] \"674-th simulation finished, 2.97499999999854 sec.\"\n",
      "[1] \"675-th simulation finished, 4.51699999999983 sec.\"\n"
     ]
    },
    {
     "name": "stderr",
     "output_type": "stream",
     "text": [
      "Warning message:\n",
      "“Pareto k diagnostic value is 0.83. Resampling is unreliable. Increasing the number of draws or decreasing tol_rel_obj may help.”\n"
     ]
    },
    {
     "name": "stdout",
     "output_type": "stream",
     "text": [
      "[1] \"676-th simulation finished, 6.57700000000114 sec.\"\n",
      "[1] \"677-th simulation finished, 3.09199999999691 sec.\"\n",
      "[1] \"678-th simulation finished, 6.44100000000253 sec.\"\n",
      "[1] \"679-th simulation finished, 7.29299999999785 sec.\"\n",
      "[1] \"680-th simulation finished, 2.93000000000029 sec.\"\n",
      "[1] \"681-th simulation finished, 4.56200000000172 sec.\"\n",
      "[1] \"682-th simulation finished, 3.16700000000128 sec.\"\n",
      "[1] \"683-th simulation finished, 4.59100000000035 sec.\"\n",
      "[1] \"684-th simulation finished, 2.97799999999916 sec.\"\n"
     ]
    },
    {
     "name": "stderr",
     "output_type": "stream",
     "text": [
      "Warning message:\n",
      "“Pareto k diagnostic value is 0.87. Resampling is unreliable. Increasing the number of draws or decreasing tol_rel_obj may help.”\n"
     ]
    },
    {
     "name": "stdout",
     "output_type": "stream",
     "text": [
      "[1] \"685-th simulation finished, 6.55299999999988 sec.\"\n",
      "[1] \"686-th simulation finished, 6.43000000000029 sec.\"\n"
     ]
    },
    {
     "name": "stderr",
     "output_type": "stream",
     "text": [
      "Warning message:\n",
      "“Pareto k diagnostic value is 0.78. Resampling is unreliable. Increasing the number of draws or decreasing tol_rel_obj may help.”\n"
     ]
    },
    {
     "name": "stdout",
     "output_type": "stream",
     "text": [
      "[1] \"687-th simulation finished, 7.34000000000015 sec.\"\n",
      "[1] \"688-th simulation finished, 4.73099999999977 sec.\"\n"
     ]
    },
    {
     "name": "stderr",
     "output_type": "stream",
     "text": [
      "Warning message:\n",
      "“Pareto k diagnostic value is 0.8. Resampling is unreliable. Increasing the number of draws or decreasing tol_rel_obj may help.”\n"
     ]
    },
    {
     "name": "stdout",
     "output_type": "stream",
     "text": [
      "[1] \"689-th simulation finished, 7.0570000000007 sec.\"\n",
      "[1] \"690-th simulation finished, 6.66599999999744 sec.\"\n",
      "[1] \"691-th simulation finished, 3.19599999999991 sec.\"\n",
      "[1] \"692-th simulation finished, 2.97700000000259 sec.\"\n",
      "[1] \"693-th simulation finished, 2.89199999999983 sec.\"\n",
      "[1] \"694-th simulation finished, 4.95999999999913 sec.\"\n"
     ]
    },
    {
     "name": "stderr",
     "output_type": "stream",
     "text": [
      "Warning message:\n",
      "“Pareto k diagnostic value is 0.85. Resampling is unreliable. Increasing the number of draws or decreasing tol_rel_obj may help.”\n"
     ]
    },
    {
     "name": "stdout",
     "output_type": "stream",
     "text": [
      "[1] \"695-th simulation finished, 6.91400000000067 sec.\"\n",
      "[1] \"696-th simulation finished, 7.22299999999814 sec.\"\n",
      "[1] \"697-th simulation finished, 3.18899999999849 sec.\"\n"
     ]
    },
    {
     "name": "stderr",
     "output_type": "stream",
     "text": [
      "Warning message:\n",
      "“Pareto k diagnostic value is 0.92. Resampling is unreliable. Increasing the number of draws or decreasing tol_rel_obj may help.”\n"
     ]
    },
    {
     "name": "stdout",
     "output_type": "stream",
     "text": [
      "[1] \"698-th simulation finished, 6.83300000000236 sec.\"\n"
     ]
    },
    {
     "name": "stderr",
     "output_type": "stream",
     "text": [
      "Warning message:\n",
      "“Pareto k diagnostic value is 0.87. Resampling is unreliable. Increasing the number of draws or decreasing tol_rel_obj may help.”\n"
     ]
    },
    {
     "name": "stdout",
     "output_type": "stream",
     "text": [
      "[1] \"699-th simulation finished, 6.78700000000026 sec.\"\n",
      "[1] \"700-th simulation finished, 2.95699999999852 sec.\"\n",
      "[1] \"701-th simulation finished, 6.87199999999939 sec.\"\n",
      "[1] \"702-th simulation finished, 6.68600000000151 sec.\"\n"
     ]
    },
    {
     "name": "stderr",
     "output_type": "stream",
     "text": [
      "Warning message:\n",
      "“Pareto k diagnostic value is 0.81. Resampling is unreliable. Increasing the number of draws or decreasing tol_rel_obj may help.”\n"
     ]
    },
    {
     "name": "stdout",
     "output_type": "stream",
     "text": [
      "[1] \"703-th simulation finished, 6.82499999999709 sec.\"\n"
     ]
    },
    {
     "name": "stderr",
     "output_type": "stream",
     "text": [
      "Warning message:\n",
      "“Pareto k diagnostic value is 0.94. Resampling is unreliable. Increasing the number of draws or decreasing tol_rel_obj may help.”\n"
     ]
    },
    {
     "name": "stdout",
     "output_type": "stream",
     "text": [
      "[1] \"704-th simulation finished, 6.78200000000288 sec.\"\n",
      "[1] \"705-th simulation finished, 3.05699999999706 sec.\"\n",
      "[1] \"706-th simulation finished, 4.74799999999959 sec.\"\n",
      "[1] \"707-th simulation finished, 4.79300000000148 sec.\"\n",
      "[1] \"708-th simulation finished, 3.04399999999805 sec.\"\n"
     ]
    },
    {
     "name": "stderr",
     "output_type": "stream",
     "text": [
      "Warning message:\n",
      "“Pareto k diagnostic value is 0.84. Resampling is unreliable. Increasing the number of draws or decreasing tol_rel_obj may help.”\n"
     ]
    },
    {
     "name": "stdout",
     "output_type": "stream",
     "text": [
      "[1] \"709-th simulation finished, 6.73700000000099 sec.\"\n",
      "[1] \"710-th simulation finished, 6.68000000000029 sec.\"\n"
     ]
    },
    {
     "name": "stderr",
     "output_type": "stream",
     "text": [
      "Warning message:\n",
      "“Pareto k diagnostic value is 0.87. Resampling is unreliable. Increasing the number of draws or decreasing tol_rel_obj may help.”\n"
     ]
    },
    {
     "name": "stdout",
     "output_type": "stream",
     "text": [
      "[1] \"711-th simulation finished, 6.6140000000014 sec.\"\n"
     ]
    },
    {
     "name": "stderr",
     "output_type": "stream",
     "text": [
      "Warning message:\n",
      "“Pareto k diagnostic value is 0.83. Resampling is unreliable. Increasing the number of draws or decreasing tol_rel_obj may help.”\n"
     ]
    },
    {
     "name": "stdout",
     "output_type": "stream",
     "text": [
      "[1] \"712-th simulation finished, 6.55300000000352 sec.\"\n",
      "[1] \"713-th simulation finished, 3.07200000000012 sec.\"\n"
     ]
    },
    {
     "name": "stderr",
     "output_type": "stream",
     "text": [
      "Warning message:\n",
      "“Pareto k diagnostic value is 0.77. Resampling is unreliable. Increasing the number of draws or decreasing tol_rel_obj may help.”\n"
     ]
    },
    {
     "name": "stdout",
     "output_type": "stream",
     "text": [
      "[1] \"714-th simulation finished, 6.65899999999965 sec.\"\n",
      "[1] \"715-th simulation finished, 6.57800000000134 sec.\"\n"
     ]
    },
    {
     "name": "stderr",
     "output_type": "stream",
     "text": [
      "Warning message:\n",
      "“Pareto k diagnostic value is 0.87. Resampling is unreliable. Increasing the number of draws or decreasing tol_rel_obj may help.”\n"
     ]
    },
    {
     "name": "stdout",
     "output_type": "stream",
     "text": [
      "[1] \"716-th simulation finished, 6.74499999999898 sec.\"\n",
      "[1] \"717-th simulation finished, 4.66300000000047 sec.\"\n",
      "[1] \"718-th simulation finished, 6.6359999999986 sec.\"\n",
      "[1] \"719-th simulation finished, 7.38900000000285 sec.\"\n",
      "[1] \"720-th simulation finished, 3.03499999999985 sec.\"\n"
     ]
    },
    {
     "name": "stderr",
     "output_type": "stream",
     "text": [
      "Warning message:\n",
      "“Pareto k diagnostic value is 0.87. Resampling is unreliable. Increasing the number of draws or decreasing tol_rel_obj may help.”\n"
     ]
    },
    {
     "name": "stdout",
     "output_type": "stream",
     "text": [
      "[1] \"721-th simulation finished, 6.74199999999837 sec.\"\n",
      "[1] \"722-th simulation finished, 3.22199999999793 sec.\"\n",
      "[1] \"723-th simulation finished, 3.09600000000137 sec.\"\n",
      "[1] \"724-th simulation finished, 6.48099999999977 sec.\"\n",
      "[1] \"725-th simulation finished, 3.08699999999953 sec.\"\n"
     ]
    },
    {
     "name": "stderr",
     "output_type": "stream",
     "text": [
      "Warning message:\n",
      "“Pareto k diagnostic value is 0.87. Resampling is unreliable. Increasing the number of draws or decreasing tol_rel_obj may help.”\n"
     ]
    },
    {
     "name": "stdout",
     "output_type": "stream",
     "text": [
      "[1] \"726-th simulation finished, 6.64800000000105 sec.\"\n",
      "[1] \"727-th simulation finished, 6.56599999999889 sec.\"\n",
      "[1] \"728-th simulation finished, 6.52899999999863 sec.\"\n"
     ]
    },
    {
     "name": "stderr",
     "output_type": "stream",
     "text": [
      "Warning message:\n",
      "“Pareto k diagnostic value is 0.84. Resampling is unreliable. Increasing the number of draws or decreasing tol_rel_obj may help.”\n"
     ]
    },
    {
     "name": "stdout",
     "output_type": "stream",
     "text": [
      "[1] \"729-th simulation finished, 6.51399999999921 sec.\"\n"
     ]
    },
    {
     "name": "stderr",
     "output_type": "stream",
     "text": [
      "Warning message:\n",
      "“Pareto k diagnostic value is 0.94. Resampling is unreliable. Increasing the number of draws or decreasing tol_rel_obj may help.”\n"
     ]
    },
    {
     "name": "stdout",
     "output_type": "stream",
     "text": [
      "[1] \"730-th simulation finished, 6.70600000000195 sec.\"\n",
      "[1] \"731-th simulation finished, 2.99399999999878 sec.\"\n"
     ]
    },
    {
     "name": "stderr",
     "output_type": "stream",
     "text": [
      "Warning message:\n",
      "“Pareto k diagnostic value is 0.83. Resampling is unreliable. Increasing the number of draws or decreasing tol_rel_obj may help.”\n"
     ]
    },
    {
     "name": "stdout",
     "output_type": "stream",
     "text": [
      "[1] \"732-th simulation finished, 6.71500000000015 sec.\"\n",
      "[1] \"733-th simulation finished, 7.57500000000073 sec.\"\n",
      "[1] \"734-th simulation finished, 3.06099999999788 sec.\"\n"
     ]
    },
    {
     "name": "stderr",
     "output_type": "stream",
     "text": [
      "Warning message:\n",
      "“Pareto k diagnostic value is 0.85. Resampling is unreliable. Increasing the number of draws or decreasing tol_rel_obj may help.”\n"
     ]
    },
    {
     "name": "stdout",
     "output_type": "stream",
     "text": [
      "[1] \"735-th simulation finished, 6.59400000000096 sec.\"\n"
     ]
    },
    {
     "name": "stderr",
     "output_type": "stream",
     "text": [
      "Warning message:\n",
      "“Pareto k diagnostic value is 0.89. Resampling is unreliable. Increasing the number of draws or decreasing tol_rel_obj may help.”\n"
     ]
    },
    {
     "name": "stdout",
     "output_type": "stream",
     "text": [
      "[1] \"736-th simulation finished, 6.6150000000016 sec.\"\n"
     ]
    },
    {
     "name": "stderr",
     "output_type": "stream",
     "text": [
      "Warning message:\n",
      "“Pareto k diagnostic value is 0.81. Resampling is unreliable. Increasing the number of draws or decreasing tol_rel_obj may help.”\n"
     ]
    },
    {
     "name": "stdout",
     "output_type": "stream",
     "text": [
      "[1] \"737-th simulation finished, 6.58899999999994 sec.\"\n",
      "[1] \"738-th simulation finished, 6.520999999997 sec.\"\n",
      "[1] \"739-th simulation finished, 4.70800000000236 sec.\"\n"
     ]
    },
    {
     "name": "stderr",
     "output_type": "stream",
     "text": [
      "Warning message:\n",
      "“Pareto k diagnostic value is 0.83. Resampling is unreliable. Increasing the number of draws or decreasing tol_rel_obj may help.”\n"
     ]
    },
    {
     "name": "stdout",
     "output_type": "stream",
     "text": [
      "[1] \"740-th simulation finished, 6.65699999999924 sec.\"\n",
      "[1] \"741-th simulation finished, 6.86499999999796 sec.\"\n"
     ]
    },
    {
     "name": "stderr",
     "output_type": "stream",
     "text": [
      "Warning message:\n",
      "“Pareto k diagnostic value is 0.83. Resampling is unreliable. Increasing the number of draws or decreasing tol_rel_obj may help.”\n"
     ]
    },
    {
     "name": "stdout",
     "output_type": "stream",
     "text": [
      "[1] \"742-th simulation finished, 6.59600000000137 sec.\"\n",
      "[1] \"743-th simulation finished, 6.60800000000017 sec.\"\n"
     ]
    },
    {
     "name": "stderr",
     "output_type": "stream",
     "text": [
      "Warning message:\n",
      "“Pareto k diagnostic value is 0.86. Resampling is unreliable. Increasing the number of draws or decreasing tol_rel_obj may help.”\n"
     ]
    },
    {
     "name": "stdout",
     "output_type": "stream",
     "text": [
      "[1] \"744-th simulation finished, 6.6239999999998 sec.\"\n"
     ]
    },
    {
     "name": "stderr",
     "output_type": "stream",
     "text": [
      "Warning message:\n",
      "“Pareto k diagnostic value is 0.85. Resampling is unreliable. Increasing the number of draws or decreasing tol_rel_obj may help.”\n"
     ]
    },
    {
     "name": "stdout",
     "output_type": "stream",
     "text": [
      "[1] \"745-th simulation finished, 6.62299999999959 sec.\"\n",
      "[1] \"746-th simulation finished, 6.64900000000125 sec.\"\n",
      "[1] \"747-th simulation finished, 6.48500000000058 sec.\"\n"
     ]
    },
    {
     "name": "stderr",
     "output_type": "stream",
     "text": [
      "Warning message:\n",
      "“Pareto k diagnostic value is 0.82. Resampling is unreliable. Increasing the number of draws or decreasing tol_rel_obj may help.”\n"
     ]
    },
    {
     "name": "stdout",
     "output_type": "stream",
     "text": [
      "[1] \"748-th simulation finished, 6.6140000000014 sec.\"\n",
      "[1] \"749-th simulation finished, 3.00799999999799 sec.\"\n"
     ]
    },
    {
     "name": "stderr",
     "output_type": "stream",
     "text": [
      "Warning message:\n",
      "“Pareto k diagnostic value is 0.93. Resampling is unreliable. Increasing the number of draws or decreasing tol_rel_obj may help.”\n"
     ]
    },
    {
     "name": "stdout",
     "output_type": "stream",
     "text": [
      "[1] \"750-th simulation finished, 6.52200000000084 sec.\"\n"
     ]
    },
    {
     "name": "stderr",
     "output_type": "stream",
     "text": [
      "Warning message:\n",
      "“Pareto k diagnostic value is 0.89. Resampling is unreliable. Increasing the number of draws or decreasing tol_rel_obj may help.”\n"
     ]
    },
    {
     "name": "stdout",
     "output_type": "stream",
     "text": [
      "[1] \"751-th simulation finished, 6.36300000000119 sec.\"\n",
      "[1] \"752-th simulation finished, 4.59100000000035 sec.\"\n",
      "[1] \"753-th simulation finished, 2.97199999999793 sec.\"\n",
      "[1] \"754-th simulation finished, 3.10900000000038 sec.\"\n",
      "[1] \"755-th simulation finished, 6.72999999999956 sec.\"\n"
     ]
    },
    {
     "name": "stderr",
     "output_type": "stream",
     "text": [
      "Warning message:\n",
      "“Pareto k diagnostic value is 0.8. Resampling is unreliable. Increasing the number of draws or decreasing tol_rel_obj may help.”\n"
     ]
    },
    {
     "name": "stdout",
     "output_type": "stream",
     "text": [
      "[1] \"756-th simulation finished, 6.76000000000204 sec.\"\n",
      "[1] \"757-th simulation finished, 6.4330000000009 sec.\"\n",
      "[1] \"758-th simulation finished, 4.59300000000076 sec.\"\n",
      "[1] \"759-th simulation finished, 7.22899999999936 sec.\"\n",
      "[1] \"760-th simulation finished, 3.22499999999854 sec.\"\n",
      "[1] \"761-th simulation finished, 6.38900000000285 sec.\"\n",
      "[1] \"762-th simulation finished, 4.48099999999977 sec.\"\n",
      "[1] \"763-th simulation finished, 4.49699999999939 sec.\"\n",
      "[1] \"764-th simulation finished, 2.75200000000041 sec.\"\n",
      "[1] \"765-th simulation finished, 4.49700000000303 sec.\"\n",
      "[1] \"766-th simulation finished, 4.59599999999773 sec.\"\n"
     ]
    },
    {
     "name": "stderr",
     "output_type": "stream",
     "text": [
      "Warning message:\n",
      "“Pareto k diagnostic value is 0.84. Resampling is unreliable. Increasing the number of draws or decreasing tol_rel_obj may help.”\n"
     ]
    },
    {
     "name": "stdout",
     "output_type": "stream",
     "text": [
      "[1] \"767-th simulation finished, 6.59600000000137 sec.\"\n",
      "[1] \"768-th simulation finished, 4.47699999999895 sec.\"\n"
     ]
    },
    {
     "name": "stderr",
     "output_type": "stream",
     "text": [
      "Warning message:\n",
      "“Pareto k diagnostic value is 0.9. Resampling is unreliable. Increasing the number of draws or decreasing tol_rel_obj may help.”\n"
     ]
    },
    {
     "name": "stdout",
     "output_type": "stream",
     "text": [
      "[1] \"769-th simulation finished, 6.61999999999898 sec.\"\n",
      "[1] \"770-th simulation finished, 2.99300000000221 sec.\"\n",
      "[1] \"771-th simulation finished, 2.97799999999916 sec.\"\n"
     ]
    },
    {
     "name": "stderr",
     "output_type": "stream",
     "text": [
      "Warning message:\n",
      "“Pareto k diagnostic value is 0.8. Resampling is unreliable. Increasing the number of draws or decreasing tol_rel_obj may help.”\n"
     ]
    },
    {
     "name": "stdout",
     "output_type": "stream",
     "text": [
      "[1] \"772-th simulation finished, 6.52299999999741 sec.\"\n",
      "[1] \"773-th simulation finished, 6.55199999999968 sec.\"\n",
      "[1] \"774-th simulation finished, 4.61100000000079 sec.\"\n"
     ]
    },
    {
     "name": "stderr",
     "output_type": "stream",
     "text": [
      "Warning message:\n",
      "“Pareto k diagnostic value is 0.92. Resampling is unreliable. Increasing the number of draws or decreasing tol_rel_obj may help.”\n"
     ]
    },
    {
     "name": "stdout",
     "output_type": "stream",
     "text": [
      "[1] \"775-th simulation finished, 6.50300000000061 sec.\"\n"
     ]
    },
    {
     "name": "stderr",
     "output_type": "stream",
     "text": [
      "Warning message:\n",
      "“Pareto k diagnostic value is 0.82. Resampling is unreliable. Increasing the number of draws or decreasing tol_rel_obj may help.”\n"
     ]
    },
    {
     "name": "stdout",
     "output_type": "stream",
     "text": [
      "[1] \"776-th simulation finished, 6.54399999999805 sec.\"\n",
      "[1] \"777-th simulation finished, 2.7510000000002 sec.\"\n",
      "[1] \"778-th simulation finished, 2.77700000000186 sec.\"\n",
      "[1] \"779-th simulation finished, 6.61599999999817 sec.\"\n",
      "[1] \"780-th simulation finished, 2.73800000000119 sec.\"\n",
      "[1] \"781-th simulation finished, 6.50699999999779 sec.\"\n"
     ]
    },
    {
     "name": "stderr",
     "output_type": "stream",
     "text": [
      "Warning message:\n",
      "“Pareto k diagnostic value is 0.81. Resampling is unreliable. Increasing the number of draws or decreasing tol_rel_obj may help.”\n"
     ]
    },
    {
     "name": "stdout",
     "output_type": "stream",
     "text": [
      "[1] \"782-th simulation finished, 6.72100000000137 sec.\"\n",
      "[1] \"783-th simulation finished, 6.59799999999814 sec.\"\n",
      "[1] \"784-th simulation finished, 2.9910000000018 sec.\"\n"
     ]
    },
    {
     "name": "stderr",
     "output_type": "stream",
     "text": [
      "Warning message:\n",
      "“Pareto k diagnostic value is 0.81. Resampling is unreliable. Increasing the number of draws or decreasing tol_rel_obj may help.”\n"
     ]
    },
    {
     "name": "stdout",
     "output_type": "stream",
     "text": [
      "[1] \"785-th simulation finished, 6.58499999999913 sec.\"\n"
     ]
    },
    {
     "name": "stderr",
     "output_type": "stream",
     "text": [
      "Warning message:\n",
      "“Pareto k diagnostic value is 0.87. Resampling is unreliable. Increasing the number of draws or decreasing tol_rel_obj may help.”\n"
     ]
    },
    {
     "name": "stdout",
     "output_type": "stream",
     "text": [
      "[1] \"786-th simulation finished, 6.44900000000052 sec.\"\n",
      "[1] \"787-th simulation finished, 6.58199999999852 sec.\"\n"
     ]
    },
    {
     "name": "stderr",
     "output_type": "stream",
     "text": [
      "Warning message:\n",
      "“Pareto k diagnostic value is 0.86. Resampling is unreliable. Increasing the number of draws or decreasing tol_rel_obj may help.”\n"
     ]
    },
    {
     "name": "stdout",
     "output_type": "stream",
     "text": [
      "[1] \"788-th simulation finished, 6.43600000000151 sec.\"\n",
      "[1] \"789-th simulation finished, 2.96199999999953 sec.\"\n"
     ]
    },
    {
     "name": "stderr",
     "output_type": "stream",
     "text": [
      "Warning message:\n",
      "“Pareto k diagnostic value is 0.88. Resampling is unreliable. Increasing the number of draws or decreasing tol_rel_obj may help.”\n"
     ]
    },
    {
     "name": "stdout",
     "output_type": "stream",
     "text": [
      "[1] \"790-th simulation finished, 6.71899999999732 sec.\"\n",
      "[1] \"791-th simulation finished, 4.625 sec.\"\n",
      "[1] \"792-th simulation finished, 6.64199999999983 sec.\"\n",
      "[1] \"793-th simulation finished, 6.45400000000154 sec.\"\n"
     ]
    },
    {
     "name": "stderr",
     "output_type": "stream",
     "text": [
      "Warning message:\n",
      "“Pareto k diagnostic value is 0.85. Resampling is unreliable. Increasing the number of draws or decreasing tol_rel_obj may help.”\n"
     ]
    },
    {
     "name": "stdout",
     "output_type": "stream",
     "text": [
      "[1] \"794-th simulation finished, 6.56099999999788 sec.\"\n",
      "[1] \"795-th simulation finished, 7.39700000000084 sec.\"\n"
     ]
    },
    {
     "name": "stderr",
     "output_type": "stream",
     "text": [
      "Warning message:\n",
      "“Pareto k diagnostic value is 0.88. Resampling is unreliable. Increasing the number of draws or decreasing tol_rel_obj may help.”\n"
     ]
    },
    {
     "name": "stdout",
     "output_type": "stream",
     "text": [
      "[1] \"796-th simulation finished, 6.60599999999977 sec.\"\n",
      "[1] \"797-th simulation finished, 4.69499999999971 sec.\"\n"
     ]
    },
    {
     "name": "stderr",
     "output_type": "stream",
     "text": [
      "Warning message:\n",
      "“Pareto k diagnostic value is 0.81. Resampling is unreliable. Increasing the number of draws or decreasing tol_rel_obj may help.”\n"
     ]
    },
    {
     "name": "stdout",
     "output_type": "stream",
     "text": [
      "[1] \"798-th simulation finished, 6.52000000000044 sec.\"\n"
     ]
    },
    {
     "name": "stderr",
     "output_type": "stream",
     "text": [
      "Warning message:\n",
      "“Pareto k diagnostic value is 0.86. Resampling is unreliable. Increasing the number of draws or decreasing tol_rel_obj may help.”\n"
     ]
    },
    {
     "name": "stdout",
     "output_type": "stream",
     "text": [
      "[1] \"799-th simulation finished, 6.58399999999892 sec.\"\n"
     ]
    },
    {
     "name": "stderr",
     "output_type": "stream",
     "text": [
      "Warning message:\n",
      "“Pareto k diagnostic value is 0.88. Resampling is unreliable. Increasing the number of draws or decreasing tol_rel_obj may help.”\n"
     ]
    },
    {
     "name": "stdout",
     "output_type": "stream",
     "text": [
      "[1] \"800-th simulation finished, 6.53099999999904 sec.\"\n",
      "[1] \"801-th simulation finished, 7.31200000000172 sec.\"\n",
      "[1] \"802-th simulation finished, 3 sec.\"\n"
     ]
    },
    {
     "name": "stderr",
     "output_type": "stream",
     "text": [
      "Warning message:\n",
      "“Pareto k diagnostic value is 0.84. Resampling is unreliable. Increasing the number of draws or decreasing tol_rel_obj may help.”\n"
     ]
    },
    {
     "name": "stdout",
     "output_type": "stream",
     "text": [
      "[1] \"803-th simulation finished, 6.625 sec.\"\n",
      "[1] \"804-th simulation finished, 6.64899999999761 sec.\"\n",
      "[1] \"805-th simulation finished, 4.75200000000041 sec.\"\n",
      "[1] \"806-th simulation finished, 7.04400000000169 sec.\"\n",
      "[1] \"807-th simulation finished, 4.59699999999793 sec.\"\n",
      "[1] \"808-th simulation finished, 6.43000000000029 sec.\"\n",
      "[1] \"809-th simulation finished, 4.68999999999869 sec.\"\n"
     ]
    },
    {
     "name": "stderr",
     "output_type": "stream",
     "text": [
      "Warning message:\n",
      "“Pareto k diagnostic value is 0.84. Resampling is unreliable. Increasing the number of draws or decreasing tol_rel_obj may help.”\n"
     ]
    },
    {
     "name": "stdout",
     "output_type": "stream",
     "text": [
      "[1] \"810-th simulation finished, 6.52600000000166 sec.\"\n"
     ]
    },
    {
     "name": "stderr",
     "output_type": "stream",
     "text": [
      "Warning message:\n",
      "“Pareto k diagnostic value is 0.86. Resampling is unreliable. Increasing the number of draws or decreasing tol_rel_obj may help.”\n"
     ]
    },
    {
     "name": "stdout",
     "output_type": "stream",
     "text": [
      "[1] \"811-th simulation finished, 6.78900000000067 sec.\"\n"
     ]
    },
    {
     "name": "stderr",
     "output_type": "stream",
     "text": [
      "Warning message:\n",
      "“Pareto k diagnostic value is 0.84. Resampling is unreliable. Increasing the number of draws or decreasing tol_rel_obj may help.”\n"
     ]
    },
    {
     "name": "stdout",
     "output_type": "stream",
     "text": [
      "[1] \"812-th simulation finished, 6.72599999999875 sec.\"\n",
      "[1] \"813-th simulation finished, 3.08099999999831 sec.\"\n",
      "[1] \"814-th simulation finished, 4.97899999999936 sec.\"\n",
      "[1] \"815-th simulation finished, 6.80400000000009 sec.\"\n",
      "[1] \"816-th simulation finished, 6.5480000000025 sec.\"\n",
      "[1] \"817-th simulation finished, 4.6929999999993 sec.\"\n"
     ]
    },
    {
     "name": "stderr",
     "output_type": "stream",
     "text": [
      "Warning message:\n",
      "“Pareto k diagnostic value is 0.9. Resampling is unreliable. Increasing the number of draws or decreasing tol_rel_obj may help.”\n"
     ]
    },
    {
     "name": "stdout",
     "output_type": "stream",
     "text": [
      "[1] \"818-th simulation finished, 6.58199999999852 sec.\"\n",
      "[1] \"819-th simulation finished, 2.77500000000146 sec.\"\n"
     ]
    },
    {
     "name": "stderr",
     "output_type": "stream",
     "text": [
      "Warning message:\n",
      "“Pareto k diagnostic value is 0.78. Resampling is unreliable. Increasing the number of draws or decreasing tol_rel_obj may help.”\n"
     ]
    },
    {
     "name": "stdout",
     "output_type": "stream",
     "text": [
      "[1] \"820-th simulation finished, 6.55099999999948 sec.\"\n",
      "[1] \"821-th simulation finished, 6.39500000000044 sec.\"\n",
      "[1] \"822-th simulation finished, 6.48599999999715 sec.\"\n",
      "[1] \"823-th simulation finished, 6.61900000000242 sec.\"\n"
     ]
    },
    {
     "name": "stderr",
     "output_type": "stream",
     "text": [
      "Warning message:\n",
      "“Pareto k diagnostic value is 0.85. Resampling is unreliable. Increasing the number of draws or decreasing tol_rel_obj may help.”\n"
     ]
    },
    {
     "name": "stdout",
     "output_type": "stream",
     "text": [
      "[1] \"824-th simulation finished, 6.52399999999761 sec.\"\n",
      "[1] \"825-th simulation finished, 3.05099999999948 sec.\"\n"
     ]
    },
    {
     "name": "stderr",
     "output_type": "stream",
     "text": [
      "Warning message:\n",
      "“Pareto k diagnostic value is 0.82. Resampling is unreliable. Increasing the number of draws or decreasing tol_rel_obj may help.”\n"
     ]
    },
    {
     "name": "stdout",
     "output_type": "stream",
     "text": [
      "[1] \"826-th simulation finished, 6.57099999999991 sec.\"\n",
      "[1] \"827-th simulation finished, 6.58200000000215 sec.\"\n",
      "[1] \"828-th simulation finished, 2.97799999999916 sec.\"\n",
      "[1] \"829-th simulation finished, 6.54899999999907 sec.\"\n"
     ]
    },
    {
     "name": "stderr",
     "output_type": "stream",
     "text": [
      "Warning message:\n",
      "“Pareto k diagnostic value is 0.87. Resampling is unreliable. Increasing the number of draws or decreasing tol_rel_obj may help.”\n"
     ]
    },
    {
     "name": "stdout",
     "output_type": "stream",
     "text": [
      "[1] \"830-th simulation finished, 6.68900000000212 sec.\"\n",
      "[1] \"831-th simulation finished, 2.95100000000093 sec.\"\n"
     ]
    },
    {
     "name": "stderr",
     "output_type": "stream",
     "text": [
      "Warning message:\n",
      "“Pareto k diagnostic value is 0.78. Resampling is unreliable. Increasing the number of draws or decreasing tol_rel_obj may help.”\n"
     ]
    },
    {
     "name": "stdout",
     "output_type": "stream",
     "text": [
      "[1] \"832-th simulation finished, 7.48800000000119 sec.\"\n"
     ]
    },
    {
     "name": "stderr",
     "output_type": "stream",
     "text": [
      "Warning message:\n",
      "“Pareto k diagnostic value is 0.81. Resampling is unreliable. Increasing the number of draws or decreasing tol_rel_obj may help.”\n"
     ]
    },
    {
     "name": "stdout",
     "output_type": "stream",
     "text": [
      "[1] \"833-th simulation finished, 1028.195 sec.\"\n"
     ]
    },
    {
     "name": "stderr",
     "output_type": "stream",
     "text": [
      "Warning message:\n",
      "“Pareto k diagnostic value is 0.83. Resampling is unreliable. Increasing the number of draws or decreasing tol_rel_obj may help.”\n"
     ]
    },
    {
     "name": "stdout",
     "output_type": "stream",
     "text": [
      "[1] \"834-th simulation finished, 5.78200000000288 sec.\"\n"
     ]
    },
    {
     "name": "stderr",
     "output_type": "stream",
     "text": [
      "Warning message:\n",
      "“Pareto k diagnostic value is 0.82. Resampling is unreliable. Increasing the number of draws or decreasing tol_rel_obj may help.”\n"
     ]
    },
    {
     "name": "stdout",
     "output_type": "stream",
     "text": [
      "[1] \"835-th simulation finished, 5.17499999999927 sec.\"\n",
      "[1] \"836-th simulation finished, 5.26299999999901 sec.\"\n"
     ]
    },
    {
     "name": "stderr",
     "output_type": "stream",
     "text": [
      "Warning message:\n",
      "“Pareto k diagnostic value is 0.87. Resampling is unreliable. Increasing the number of draws or decreasing tol_rel_obj may help.”\n"
     ]
    },
    {
     "name": "stdout",
     "output_type": "stream",
     "text": [
      "[1] \"837-th simulation finished, 5.1939999999995 sec.\"\n",
      "[1] \"838-th simulation finished, 5.32200000000012 sec.\"\n",
      "[1] \"839-th simulation finished, 2.41700000000128 sec.\"\n",
      "[1] \"840-th simulation finished, 2.5 sec.\"\n",
      "[1] \"841-th simulation finished, 2.57200000000012 sec.\"\n"
     ]
    },
    {
     "name": "stderr",
     "output_type": "stream",
     "text": [
      "Warning message:\n",
      "“Pareto k diagnostic value is 0.89. Resampling is unreliable. Increasing the number of draws or decreasing tol_rel_obj may help.”\n"
     ]
    },
    {
     "name": "stdout",
     "output_type": "stream",
     "text": [
      "[1] \"842-th simulation finished, 1027.963 sec.\"\n"
     ]
    },
    {
     "name": "stderr",
     "output_type": "stream",
     "text": [
      "Warning message:\n",
      "“Pareto k diagnostic value is 0.86. Resampling is unreliable. Increasing the number of draws or decreasing tol_rel_obj may help.”\n"
     ]
    },
    {
     "name": "stdout",
     "output_type": "stream",
     "text": [
      "[1] \"843-th simulation finished, 5.75699999999779 sec.\"\n",
      "[1] \"844-th simulation finished, 2.39199999999983 sec.\"\n",
      "[1] \"845-th simulation finished, 2.38699999999881 sec.\"\n"
     ]
    },
    {
     "name": "stderr",
     "output_type": "stream",
     "text": [
      "Warning message:\n",
      "“Pareto k diagnostic value is 0.82. Resampling is unreliable. Increasing the number of draws or decreasing tol_rel_obj may help.”\n"
     ]
    },
    {
     "name": "stdout",
     "output_type": "stream",
     "text": [
      "[1] \"846-th simulation finished, 5.08000000000175 sec.\"\n",
      "[1] \"847-th simulation finished, 2.33199999999852 sec.\"\n"
     ]
    },
    {
     "name": "stderr",
     "output_type": "stream",
     "text": [
      "Warning message:\n",
      "“Pareto k diagnostic value is 0.92. Resampling is unreliable. Increasing the number of draws or decreasing tol_rel_obj may help.”\n"
     ]
    },
    {
     "name": "stdout",
     "output_type": "stream",
     "text": [
      "[1] \"848-th simulation finished, 5.74699999999939 sec.\"\n"
     ]
    },
    {
     "name": "stderr",
     "output_type": "stream",
     "text": [
      "Warning message:\n",
      "“Pareto k diagnostic value is 0.84. Resampling is unreliable. Increasing the number of draws or decreasing tol_rel_obj may help.”\n"
     ]
    },
    {
     "name": "stdout",
     "output_type": "stream",
     "text": [
      "[1] \"849-th simulation finished, 5.09500000000116 sec.\"\n",
      "[1] \"850-th simulation finished, 5.10199999999895 sec.\"\n"
     ]
    },
    {
     "name": "stderr",
     "output_type": "stream",
     "text": [
      "Warning message:\n",
      "“Pareto k diagnostic value is 0.88. Resampling is unreliable. Increasing the number of draws or decreasing tol_rel_obj may help.”\n"
     ]
    },
    {
     "name": "stdout",
     "output_type": "stream",
     "text": [
      "[1] \"851-th simulation finished, 5.15100000000166 sec.\"\n",
      "[1] \"852-th simulation finished, 2.6359999999986 sec.\"\n",
      "[1] \"853-th simulation finished, 974.302 sec.\"\n",
      "[1] \"854-th simulation finished, 5.9310000000005 sec.\"\n",
      "[1] \"855-th simulation finished, 3.61000000000058 sec.\"\n",
      "[1] \"856-th simulation finished, 2.39199999999983 sec.\"\n",
      "[1] \"857-th simulation finished, 5.18000000000029 sec.\"\n",
      "[1] \"858-th simulation finished, 5.12800000000061 sec.\"\n"
     ]
    },
    {
     "name": "stderr",
     "output_type": "stream",
     "text": [
      "Warning message:\n",
      "“Pareto k diagnostic value is 0.91. Resampling is unreliable. Increasing the number of draws or decreasing tol_rel_obj may help.”\n"
     ]
    },
    {
     "name": "stdout",
     "output_type": "stream",
     "text": [
      "[1] \"859-th simulation finished, 5.10299999999916 sec.\"\n"
     ]
    },
    {
     "name": "stderr",
     "output_type": "stream",
     "text": [
      "Warning message:\n",
      "“Pareto k diagnostic value is 0.84. Resampling is unreliable. Increasing the number of draws or decreasing tol_rel_obj may help.”\n"
     ]
    },
    {
     "name": "stdout",
     "output_type": "stream",
     "text": [
      "[1] \"860-th simulation finished, 5.22199999999793 sec.\"\n",
      "[1] \"861-th simulation finished, 2.34300000000076 sec.\"\n",
      "[1] \"862-th simulation finished, 2.33399999999892 sec.\"\n",
      "[1] \"863-th simulation finished, 5.26900000000023 sec.\"\n",
      "[1] \"864-th simulation finished, 983.822 sec.\"\n",
      "[1] \"865-th simulation finished, 3.65699999999924 sec.\"\n",
      "[1] \"866-th simulation finished, 3.81100000000151 sec.\"\n",
      "[1] \"867-th simulation finished, 5.05400000000009 sec.\"\n",
      "[1] \"868-th simulation finished, 2.35699999999997 sec.\"\n",
      "[1] \"869-th simulation finished, 2.54300000000148 sec.\"\n"
     ]
    },
    {
     "name": "stderr",
     "output_type": "stream",
     "text": [
      "Warning message:\n",
      "“Pareto k diagnostic value is 0.82. Resampling is unreliable. Increasing the number of draws or decreasing tol_rel_obj may help.”\n"
     ]
    },
    {
     "name": "stdout",
     "output_type": "stream",
     "text": [
      "[1] \"870-th simulation finished, 5.07300000000032 sec.\"\n"
     ]
    },
    {
     "name": "stderr",
     "output_type": "stream",
     "text": [
      "Warning message:\n",
      "“Pareto k diagnostic value is 0.79. Resampling is unreliable. Increasing the number of draws or decreasing tol_rel_obj may help.”\n"
     ]
    },
    {
     "name": "stdout",
     "output_type": "stream",
     "text": [
      "[1] \"871-th simulation finished, 5.22599999999875 sec.\"\n",
      "[1] \"872-th simulation finished, 3.67299999999886 sec.\"\n"
     ]
    },
    {
     "name": "stderr",
     "output_type": "stream",
     "text": [
      "Warning message:\n",
      "“Pareto k diagnostic value is 0.84. Resampling is unreliable. Increasing the number of draws or decreasing tol_rel_obj may help.”\n"
     ]
    },
    {
     "name": "stdout",
     "output_type": "stream",
     "text": [
      "[1] \"873-th simulation finished, 5.13100000000122 sec.\"\n",
      "[1] \"874-th simulation finished, 5.43600000000151 sec.\"\n",
      "[1] \"875-th simulation finished, 2.4230000000025 sec.\"\n"
     ]
    },
    {
     "name": "stderr",
     "output_type": "stream",
     "text": [
      "Warning message:\n",
      "“Pareto k diagnostic value is 0.89. Resampling is unreliable. Increasing the number of draws or decreasing tol_rel_obj may help.”\n"
     ]
    },
    {
     "name": "stdout",
     "output_type": "stream",
     "text": [
      "[1] \"876-th simulation finished, 5.61799999999857 sec.\"\n"
     ]
    },
    {
     "name": "stderr",
     "output_type": "stream",
     "text": [
      "Warning message:\n",
      "“Pareto k diagnostic value is 0.85. Resampling is unreliable. Increasing the number of draws or decreasing tol_rel_obj may help.”\n"
     ]
    },
    {
     "name": "stdout",
     "output_type": "stream",
     "text": [
      "[1] \"877-th simulation finished, 6.1830000000009 sec.\"\n",
      "[1] \"878-th simulation finished, 4.45599999999831 sec.\"\n"
     ]
    },
    {
     "name": "stderr",
     "output_type": "stream",
     "text": [
      "Warning message:\n",
      "“Pareto k diagnostic value is 0.86. Resampling is unreliable. Increasing the number of draws or decreasing tol_rel_obj may help.”\n"
     ]
    },
    {
     "name": "stdout",
     "output_type": "stream",
     "text": [
      "[1] \"879-th simulation finished, 1059.826 sec.\"\n"
     ]
    },
    {
     "name": "stderr",
     "output_type": "stream",
     "text": [
      "Warning message:\n",
      "“Pareto k diagnostic value is 0.84. Resampling is unreliable. Increasing the number of draws or decreasing tol_rel_obj may help.”\n"
     ]
    },
    {
     "name": "stdout",
     "output_type": "stream",
     "text": [
      "[1] \"880-th simulation finished, 5.1260000000002 sec.\"\n"
     ]
    },
    {
     "name": "stderr",
     "output_type": "stream",
     "text": [
      "Warning message:\n",
      "“Pareto k diagnostic value is 0.85. Resampling is unreliable. Increasing the number of draws or decreasing tol_rel_obj may help.”\n"
     ]
    },
    {
     "name": "stdout",
     "output_type": "stream",
     "text": [
      "[1] \"881-th simulation finished, 5.13699999999881 sec.\"\n",
      "[1] \"882-th simulation finished, 3.62199999999939 sec.\"\n"
     ]
    },
    {
     "name": "stderr",
     "output_type": "stream",
     "text": [
      "Warning message:\n",
      "“Pareto k diagnostic value is 0.85. Resampling is unreliable. Increasing the number of draws or decreasing tol_rel_obj may help.”\n"
     ]
    },
    {
     "name": "stdout",
     "output_type": "stream",
     "text": [
      "[1] \"883-th simulation finished, 5.16600000000108 sec.\"\n",
      "[1] \"884-th simulation finished, 3.65399999999863 sec.\"\n",
      "[1] \"885-th simulation finished, 5.19099999999889 sec.\"\n",
      "[1] \"886-th simulation finished, 3.65500000000247 sec.\"\n",
      "[1] \"887-th simulation finished, 2.15399999999863 sec.\"\n",
      "[1] \"888-th simulation finished, 2.32700000000114 sec.\"\n",
      "[1] \"889-th simulation finished, 942.697 sec.\"\n",
      "[1] \"890-th simulation finished, 2.32700000000114 sec.\"\n"
     ]
    },
    {
     "name": "stderr",
     "output_type": "stream",
     "text": [
      "Warning message:\n",
      "“Pareto k diagnostic value is 0.84. Resampling is unreliable. Increasing the number of draws or decreasing tol_rel_obj may help.”\n"
     ]
    },
    {
     "name": "stdout",
     "output_type": "stream",
     "text": [
      "[1] \"891-th simulation finished, 5.25700000000143 sec.\"\n"
     ]
    },
    {
     "name": "stderr",
     "output_type": "stream",
     "text": [
      "Warning message:\n",
      "“Pareto k diagnostic value is 0.86. Resampling is unreliable. Increasing the number of draws or decreasing tol_rel_obj may help.”\n"
     ]
    },
    {
     "name": "stdout",
     "output_type": "stream",
     "text": [
      "[1] \"892-th simulation finished, 5.18699999999808 sec.\"\n"
     ]
    },
    {
     "name": "stderr",
     "output_type": "stream",
     "text": [
      "Warning message:\n",
      "“Pareto k diagnostic value is 0.89. Resampling is unreliable. Increasing the number of draws or decreasing tol_rel_obj may help.”\n"
     ]
    },
    {
     "name": "stdout",
     "output_type": "stream",
     "text": [
      "[1] \"893-th simulation finished, 5.17499999999927 sec.\"\n",
      "[1] \"894-th simulation finished, 2.43100000000049 sec.\"\n",
      "[1] \"895-th simulation finished, 5.06399999999849 sec.\"\n"
     ]
    },
    {
     "name": "stderr",
     "output_type": "stream",
     "text": [
      "Warning message:\n",
      "“Pareto k diagnostic value is 0.92. Resampling is unreliable. Increasing the number of draws or decreasing tol_rel_obj may help.”\n"
     ]
    },
    {
     "name": "stdout",
     "output_type": "stream",
     "text": [
      "[1] \"896-th simulation finished, 5.15900000000329 sec.\"\n"
     ]
    },
    {
     "name": "stderr",
     "output_type": "stream",
     "text": [
      "Warning message:\n",
      "“Pareto k diagnostic value is 0.85. Resampling is unreliable. Increasing the number of draws or decreasing tol_rel_obj may help.”\n"
     ]
    },
    {
     "name": "stdout",
     "output_type": "stream",
     "text": [
      "[1] \"897-th simulation finished, 5.14300000000003 sec.\"\n"
     ]
    },
    {
     "name": "stderr",
     "output_type": "stream",
     "text": [
      "Warning message:\n",
      "“Pareto k diagnostic value is 0.86. Resampling is unreliable. Increasing the number of draws or decreasing tol_rel_obj may help.”\n"
     ]
    },
    {
     "name": "stdout",
     "output_type": "stream",
     "text": [
      "[1] \"898-th simulation finished, 5.13200000000143 sec.\"\n"
     ]
    },
    {
     "name": "stderr",
     "output_type": "stream",
     "text": [
      "Warning message:\n",
      "“Pareto k diagnostic value is 0.82. Resampling is unreliable. Increasing the number of draws or decreasing tol_rel_obj may help.”\n"
     ]
    },
    {
     "name": "stdout",
     "output_type": "stream",
     "text": [
      "[1] \"899-th simulation finished, 5.29000000000087 sec.\"\n",
      "[1] \"900-th simulation finished, 2.3849999999984 sec.\"\n",
      "[1] \"901-th simulation finished, 975.756000000001 sec.\"\n",
      "[1] \"902-th simulation finished, 2.52100000000064 sec.\"\n",
      "[1] \"903-th simulation finished, 2.3289999999979 sec.\"\n"
     ]
    },
    {
     "name": "stderr",
     "output_type": "stream",
     "text": [
      "Warning message:\n",
      "“Pareto k diagnostic value is 0.91. Resampling is unreliable. Increasing the number of draws or decreasing tol_rel_obj may help.”\n"
     ]
    },
    {
     "name": "stdout",
     "output_type": "stream",
     "text": [
      "[1] \"904-th simulation finished, 5.14600000000064 sec.\"\n"
     ]
    },
    {
     "name": "stderr",
     "output_type": "stream",
     "text": [
      "Warning message:\n",
      "“Pareto k diagnostic value is 0.83. Resampling is unreliable. Increasing the number of draws or decreasing tol_rel_obj may help.”\n"
     ]
    },
    {
     "name": "stdout",
     "output_type": "stream",
     "text": [
      "[1] \"905-th simulation finished, 5.14400000000023 sec.\"\n",
      "[1] \"906-th simulation finished, 3.61999999999898 sec.\"\n",
      "[1] \"907-th simulation finished, 4.97399999999834 sec.\"\n",
      "[1] \"908-th simulation finished, 3.59200000000055 sec.\"\n"
     ]
    },
    {
     "name": "stderr",
     "output_type": "stream",
     "text": [
      "Warning message:\n",
      "“Pareto k diagnostic value is 0.88. Resampling is unreliable. Increasing the number of draws or decreasing tol_rel_obj may help.”\n"
     ]
    },
    {
     "name": "stdout",
     "output_type": "stream",
     "text": [
      "[1] \"909-th simulation finished, 5.17900000000009 sec.\"\n",
      "[1] \"910-th simulation finished, 3.59600000000137 sec.\"\n"
     ]
    },
    {
     "name": "stderr",
     "output_type": "stream",
     "text": [
      "Warning message:\n",
      "“Pareto k diagnostic value is 0.88. Resampling is unreliable. Increasing the number of draws or decreasing tol_rel_obj may help.”\n"
     ]
    },
    {
     "name": "stdout",
     "output_type": "stream",
     "text": [
      "[1] \"911-th simulation finished, 5.23400000000038 sec.\"\n",
      "[1] \"912-th simulation finished, 1036.832 sec.\"\n",
      "[1] \"913-th simulation finished, 2.47300000000178 sec.\"\n"
     ]
    },
    {
     "name": "stderr",
     "output_type": "stream",
     "text": [
      "Warning message:\n",
      "“Pareto k diagnostic value is 0.9. Resampling is unreliable. Increasing the number of draws or decreasing tol_rel_obj may help.”\n"
     ]
    },
    {
     "name": "stdout",
     "output_type": "stream",
     "text": [
      "[1] \"914-th simulation finished, 5.19500000000335 sec.\"\n"
     ]
    },
    {
     "name": "stderr",
     "output_type": "stream",
     "text": [
      "Warning message:\n",
      "“Pareto k diagnostic value is 0.83. Resampling is unreliable. Increasing the number of draws or decreasing tol_rel_obj may help.”\n"
     ]
    },
    {
     "name": "stdout",
     "output_type": "stream",
     "text": [
      "[1] \"915-th simulation finished, 5.19499999999971 sec.\"\n",
      "[1] \"916-th simulation finished, 2.35900000000038 sec.\"\n",
      "[1] \"917-th simulation finished, 2.31300000000192 sec.\"\n"
     ]
    },
    {
     "name": "stderr",
     "output_type": "stream",
     "text": [
      "Warning message:\n",
      "“Pareto k diagnostic value is 0.71. Resampling is unreliable. Increasing the number of draws or decreasing tol_rel_obj may help.”\n"
     ]
    },
    {
     "name": "stdout",
     "output_type": "stream",
     "text": [
      "[1] \"918-th simulation finished, 5.67399999999907 sec.\"\n",
      "[1] \"919-th simulation finished, 5.08799999999974 sec.\"\n",
      "[1] \"920-th simulation finished, 5.07200000000012 sec.\"\n"
     ]
    },
    {
     "name": "stderr",
     "output_type": "stream",
     "text": [
      "Warning message:\n",
      "“Pareto k diagnostic value is 0.85. Resampling is unreliable. Increasing the number of draws or decreasing tol_rel_obj may help.”\n"
     ]
    },
    {
     "name": "stdout",
     "output_type": "stream",
     "text": [
      "[1] \"921-th simulation finished, 5.1929999999993 sec.\"\n"
     ]
    },
    {
     "name": "stderr",
     "output_type": "stream",
     "text": [
      "Warning message:\n",
      "“Pareto k diagnostic value is 0.87. Resampling is unreliable. Increasing the number of draws or decreasing tol_rel_obj may help.”\n"
     ]
    },
    {
     "name": "stdout",
     "output_type": "stream",
     "text": [
      "[1] \"922-th simulation finished, 5.18500000000131 sec.\"\n"
     ]
    },
    {
     "name": "stderr",
     "output_type": "stream",
     "text": [
      "Warning message:\n",
      "“Pareto k diagnostic value is 0.88. Resampling is unreliable. Increasing the number of draws or decreasing tol_rel_obj may help.”\n"
     ]
    },
    {
     "name": "stdout",
     "output_type": "stream",
     "text": [
      "[1] \"923-th simulation finished, 930.702000000001 sec.\"\n",
      "[1] \"924-th simulation finished, 2.38699999999881 sec.\"\n",
      "[1] \"925-th simulation finished, 5.14500000000044 sec.\"\n"
     ]
    },
    {
     "name": "stderr",
     "output_type": "stream",
     "text": [
      "Warning message:\n",
      "“Pareto k diagnostic value is 0.9. Resampling is unreliable. Increasing the number of draws or decreasing tol_rel_obj may help.”\n"
     ]
    },
    {
     "name": "stdout",
     "output_type": "stream",
     "text": [
      "[1] \"926-th simulation finished, 5.22999999999956 sec.\"\n",
      "[1] \"927-th simulation finished, 2.40699999999924 sec.\"\n",
      "[1] \"928-th simulation finished, 5.04699999999866 sec.\"\n"
     ]
    },
    {
     "name": "stderr",
     "output_type": "stream",
     "text": [
      "Warning message:\n",
      "“Pareto k diagnostic value is 0.8. Resampling is unreliable. Increasing the number of draws or decreasing tol_rel_obj may help.”\n"
     ]
    },
    {
     "name": "stdout",
     "output_type": "stream",
     "text": [
      "[1] \"929-th simulation finished, 5.09000000000015 sec.\"\n"
     ]
    },
    {
     "name": "stderr",
     "output_type": "stream",
     "text": [
      "Warning message:\n",
      "“Pareto k diagnostic value is 0.94. Resampling is unreliable. Increasing the number of draws or decreasing tol_rel_obj may help.”\n"
     ]
    },
    {
     "name": "stdout",
     "output_type": "stream",
     "text": [
      "[1] \"930-th simulation finished, 5.26499999999942 sec.\"\n"
     ]
    },
    {
     "name": "stderr",
     "output_type": "stream",
     "text": [
      "Warning message:\n",
      "“Pareto k diagnostic value is 0.89. Resampling is unreliable. Increasing the number of draws or decreasing tol_rel_obj may help.”\n"
     ]
    },
    {
     "name": "stdout",
     "output_type": "stream",
     "text": [
      "[1] \"931-th simulation finished, 5.08899999999994 sec.\"\n",
      "[1] \"932-th simulation finished, 3.60200000000259 sec.\"\n"
     ]
    },
    {
     "name": "stderr",
     "output_type": "stream",
     "text": [
      "Warning message:\n",
      "“Pareto k diagnostic value is 0.9. Resampling is unreliable. Increasing the number of draws or decreasing tol_rel_obj may help.”\n"
     ]
    },
    {
     "name": "stdout",
     "output_type": "stream",
     "text": [
      "[1] \"933-th simulation finished, 989.740000000002 sec.\"\n",
      "[1] \"934-th simulation finished, 5.83899999999994 sec.\"\n"
     ]
    },
    {
     "name": "stderr",
     "output_type": "stream",
     "text": [
      "Warning message:\n",
      "“Pareto k diagnostic value is 0.87. Resampling is unreliable. Increasing the number of draws or decreasing tol_rel_obj may help.”\n"
     ]
    },
    {
     "name": "stdout",
     "output_type": "stream",
     "text": [
      "[1] \"935-th simulation finished, 5.09600000000137 sec.\"\n",
      "[1] \"936-th simulation finished, 2.17899999999645 sec.\"\n",
      "[1] \"937-th simulation finished, 2.35000000000218 sec.\"\n",
      "[1] \"938-th simulation finished, 5.21099999999933 sec.\"\n",
      "[1] \"939-th simulation finished, 5.04000000000087 sec.\"\n",
      "[1] \"940-th simulation finished, 5.71500000000015 sec.\"\n"
     ]
    },
    {
     "name": "stderr",
     "output_type": "stream",
     "text": [
      "Warning message:\n",
      "“Pareto k diagnostic value is 0.86. Resampling is unreliable. Increasing the number of draws or decreasing tol_rel_obj may help.”\n"
     ]
    },
    {
     "name": "stdout",
     "output_type": "stream",
     "text": [
      "[1] \"941-th simulation finished, 5.2489999999998 sec.\"\n"
     ]
    },
    {
     "name": "stderr",
     "output_type": "stream",
     "text": [
      "Warning message:\n",
      "“Pareto k diagnostic value is 0.88. Resampling is unreliable. Increasing the number of draws or decreasing tol_rel_obj may help.”\n"
     ]
    },
    {
     "name": "stdout",
     "output_type": "stream",
     "text": [
      "[1] \"942-th simulation finished, 5.17599999999948 sec.\"\n"
     ]
    },
    {
     "name": "stderr",
     "output_type": "stream",
     "text": [
      "Warning message:\n",
      "“Pareto k diagnostic value is 0.89. Resampling is unreliable. Increasing the number of draws or decreasing tol_rel_obj may help.”\n"
     ]
    },
    {
     "name": "stdout",
     "output_type": "stream",
     "text": [
      "[1] \"943-th simulation finished, 5.08499999999913 sec.\"\n"
     ]
    },
    {
     "name": "stderr",
     "output_type": "stream",
     "text": [
      "Warning message:\n",
      "“Pareto k diagnostic value is 0.81. Resampling is unreliable. Increasing the number of draws or decreasing tol_rel_obj may help.”\n"
     ]
    },
    {
     "name": "stdout",
     "output_type": "stream",
     "text": [
      "[1] \"944-th simulation finished, 5.42299999999886 sec.\"\n"
     ]
    },
    {
     "name": "stderr",
     "output_type": "stream",
     "text": [
      "Warning message:\n",
      "“Pareto k diagnostic value is 0.83. Resampling is unreliable. Increasing the number of draws or decreasing tol_rel_obj may help.”\n"
     ]
    },
    {
     "name": "stdout",
     "output_type": "stream",
     "text": [
      "[1] \"945-th simulation finished, 5.49099999999817 sec.\"\n",
      "[1] \"946-th simulation finished, 930.496000000003 sec.\"\n",
      "[1] \"947-th simulation finished, 4.42000000000553 sec.\"\n"
     ]
    },
    {
     "name": "stderr",
     "output_type": "stream",
     "text": [
      "Warning message:\n",
      "“Pareto k diagnostic value is 0.87. Resampling is unreliable. Increasing the number of draws or decreasing tol_rel_obj may help.”\n"
     ]
    },
    {
     "name": "stdout",
     "output_type": "stream",
     "text": [
      "[1] \"948-th simulation finished, 5.37000000000262 sec.\"\n",
      "[1] \"949-th simulation finished, 5.80900000000111 sec.\"\n",
      "[1] \"950-th simulation finished, 5.7870000000039 sec.\"\n"
     ]
    },
    {
     "name": "stderr",
     "output_type": "stream",
     "text": [
      "Warning message:\n",
      "“Pareto k diagnostic value is 0.86. Resampling is unreliable. Increasing the number of draws or decreasing tol_rel_obj may help.”\n"
     ]
    },
    {
     "name": "stdout",
     "output_type": "stream",
     "text": [
      "[1] \"951-th simulation finished, 5.28500000000349 sec.\"\n",
      "[1] \"952-th simulation finished, 5.67799999999988 sec.\"\n",
      "[1] \"953-th simulation finished, 2.37400000000343 sec.\"\n"
     ]
    },
    {
     "name": "stderr",
     "output_type": "stream",
     "text": [
      "Warning message:\n",
      "“Pareto k diagnostic value is 0.84. Resampling is unreliable. Increasing the number of draws or decreasing tol_rel_obj may help.”\n"
     ]
    },
    {
     "name": "stdout",
     "output_type": "stream",
     "text": [
      "[1] \"954-th simulation finished, 5.37000000000262 sec.\"\n"
     ]
    },
    {
     "name": "stderr",
     "output_type": "stream",
     "text": [
      "Warning message:\n",
      "“Pareto k diagnostic value is 0.87. Resampling is unreliable. Increasing the number of draws or decreasing tol_rel_obj may help.”\n"
     ]
    },
    {
     "name": "stdout",
     "output_type": "stream",
     "text": [
      "[1] \"955-th simulation finished, 5.18299999999726 sec.\"\n",
      "[1] \"956-th simulation finished, 5.01800000000367 sec.\"\n",
      "[1] \"957-th simulation finished, 5.31999999999971 sec.\"\n",
      "[1] \"958-th simulation finished, 5.33600000000297 sec.\"\n",
      "[1] \"959-th simulation finished, 4.1620000000039 sec.\"\n",
      "[1] \"960-th simulation finished, 2.65099999999802 sec.\"\n",
      "[1] \"961-th simulation finished, 6.44199999999546 sec.\"\n",
      "[1] \"962-th simulation finished, 2.69099999999889 sec.\"\n"
     ]
    },
    {
     "name": "stderr",
     "output_type": "stream",
     "text": [
      "Warning message:\n",
      "“Pareto k diagnostic value is 0.89. Resampling is unreliable. Increasing the number of draws or decreasing tol_rel_obj may help.”\n"
     ]
    },
    {
     "name": "stdout",
     "output_type": "stream",
     "text": [
      "[1] \"963-th simulation finished, 948.57 sec.\"\n"
     ]
    },
    {
     "name": "stderr",
     "output_type": "stream",
     "text": [
      "Warning message:\n",
      "“Pareto k diagnostic value is 0.88. Resampling is unreliable. Increasing the number of draws or decreasing tol_rel_obj may help.”\n"
     ]
    },
    {
     "name": "stdout",
     "output_type": "stream",
     "text": [
      "[1] \"964-th simulation finished, 5.25100000000384 sec.\"\n",
      "[1] \"965-th simulation finished, 5.0769999999975 sec.\"\n",
      "[1] \"966-th simulation finished, 2.21700000000419 sec.\"\n"
     ]
    },
    {
     "name": "stderr",
     "output_type": "stream",
     "text": [
      "Warning message:\n",
      "“Pareto k diagnostic value is 0.86. Resampling is unreliable. Increasing the number of draws or decreasing tol_rel_obj may help.”\n"
     ]
    },
    {
     "name": "stdout",
     "output_type": "stream",
     "text": [
      "[1] \"967-th simulation finished, 5.21800000000076 sec.\"\n",
      "[1] \"968-th simulation finished, 5.05200000000332 sec.\"\n",
      "[1] \"969-th simulation finished, 5.083000000006 sec.\"\n"
     ]
    },
    {
     "name": "stderr",
     "output_type": "stream",
     "text": [
      "Warning message:\n",
      "“Pareto k diagnostic value is 0.81. Resampling is unreliable. Increasing the number of draws or decreasing tol_rel_obj may help.”\n"
     ]
    },
    {
     "name": "stdout",
     "output_type": "stream",
     "text": [
      "[1] \"970-th simulation finished, 5.15399999999499 sec.\"\n",
      "[1] \"971-th simulation finished, 5.12199999999575 sec.\"\n",
      "[1] \"972-th simulation finished, 3.69199999999546 sec.\"\n",
      "[1] \"973-th simulation finished, 958.896000000001 sec.\"\n"
     ]
    },
    {
     "name": "stderr",
     "output_type": "stream",
     "text": [
      "Warning message:\n",
      "“Pareto k diagnostic value is 0.85. Resampling is unreliable. Increasing the number of draws or decreasing tol_rel_obj may help.”\n"
     ]
    },
    {
     "name": "stdout",
     "output_type": "stream",
     "text": [
      "[1] \"974-th simulation finished, 5.30900000000111 sec.\"\n"
     ]
    },
    {
     "name": "stderr",
     "output_type": "stream",
     "text": [
      "Warning message:\n",
      "“Pareto k diagnostic value is 0.85. Resampling is unreliable. Increasing the number of draws or decreasing tol_rel_obj may help.”\n"
     ]
    },
    {
     "name": "stdout",
     "output_type": "stream",
     "text": [
      "[1] \"975-th simulation finished, 5.1359999999986 sec.\"\n"
     ]
    },
    {
     "name": "stderr",
     "output_type": "stream",
     "text": [
      "Warning message:\n",
      "“Pareto k diagnostic value is 0.85. Resampling is unreliable. Increasing the number of draws or decreasing tol_rel_obj may help.”\n"
     ]
    },
    {
     "name": "stdout",
     "output_type": "stream",
     "text": [
      "[1] \"976-th simulation finished, 5.31899999999587 sec.\"\n"
     ]
    },
    {
     "name": "stderr",
     "output_type": "stream",
     "text": [
      "Warning message:\n",
      "“Pareto k diagnostic value is 0.87. Resampling is unreliable. Increasing the number of draws or decreasing tol_rel_obj may help.”\n"
     ]
    },
    {
     "name": "stdout",
     "output_type": "stream",
     "text": [
      "[1] \"977-th simulation finished, 5.25800000000163 sec.\"\n"
     ]
    },
    {
     "name": "stderr",
     "output_type": "stream",
     "text": [
      "Warning message:\n",
      "“Pareto k diagnostic value is 0.87. Resampling is unreliable. Increasing the number of draws or decreasing tol_rel_obj may help.”\n"
     ]
    },
    {
     "name": "stdout",
     "output_type": "stream",
     "text": [
      "[1] \"978-th simulation finished, 5.16599999999744 sec.\"\n",
      "[1] \"979-th simulation finished, 3.57299999999668 sec.\"\n",
      "[1] \"980-th simulation finished, 2.34100000000035 sec.\"\n"
     ]
    },
    {
     "name": "stderr",
     "output_type": "stream",
     "text": [
      "Warning message:\n",
      "“Pareto k diagnostic value is 0.84. Resampling is unreliable. Increasing the number of draws or decreasing tol_rel_obj may help.”\n"
     ]
    },
    {
     "name": "stdout",
     "output_type": "stream",
     "text": [
      "[1] \"981-th simulation finished, 5.15099999999802 sec.\"\n",
      "[1] \"982-th simulation finished, 2.51299999999901 sec.\"\n",
      "[1] \"983-th simulation finished, 5.20000000000437 sec.\"\n"
     ]
    },
    {
     "name": "stderr",
     "output_type": "stream",
     "text": [
      "Warning message:\n",
      "“Pareto k diagnostic value is 0.82. Resampling is unreliable. Increasing the number of draws or decreasing tol_rel_obj may help.”\n"
     ]
    },
    {
     "name": "stdout",
     "output_type": "stream",
     "text": [
      "[1] \"984-th simulation finished, 984.703000000001 sec.\"\n"
     ]
    },
    {
     "name": "stderr",
     "output_type": "stream",
     "text": [
      "Warning message:\n",
      "“Pareto k diagnostic value is 0.84. Resampling is unreliable. Increasing the number of draws or decreasing tol_rel_obj may help.”\n"
     ]
    },
    {
     "name": "stdout",
     "output_type": "stream",
     "text": [
      "[1] \"985-th simulation finished, 5.1160000000018 sec.\"\n",
      "[1] \"986-th simulation finished, 2.36500000000524 sec.\"\n"
     ]
    },
    {
     "name": "stderr",
     "output_type": "stream",
     "text": [
      "Warning message:\n",
      "“Pareto k diagnostic value is 0.86. Resampling is unreliable. Increasing the number of draws or decreasing tol_rel_obj may help.”\n"
     ]
    },
    {
     "name": "stdout",
     "output_type": "stream",
     "text": [
      "[1] \"987-th simulation finished, 5.16199999999662 sec.\"\n",
      "[1] \"988-th simulation finished, 5.27399999999761 sec.\"\n",
      "[1] \"989-th simulation finished, 5.30500000000029 sec.\"\n"
     ]
    },
    {
     "name": "stderr",
     "output_type": "stream",
     "text": [
      "Warning message:\n",
      "“Pareto k diagnostic value is 0.88. Resampling is unreliable. Increasing the number of draws or decreasing tol_rel_obj may help.”\n"
     ]
    },
    {
     "name": "stdout",
     "output_type": "stream",
     "text": [
      "[1] \"990-th simulation finished, 5.25200000000041 sec.\"\n"
     ]
    },
    {
     "name": "stderr",
     "output_type": "stream",
     "text": [
      "Warning message:\n",
      "“Pareto k diagnostic value is 0.82. Resampling is unreliable. Increasing the number of draws or decreasing tol_rel_obj may help.”\n"
     ]
    },
    {
     "name": "stdout",
     "output_type": "stream",
     "text": [
      "[1] \"991-th simulation finished, 5.0399999999936 sec.\"\n",
      "[1] \"992-th simulation finished, 5.03699999999662 sec.\"\n",
      "[1] \"993-th simulation finished, 2.18700000000536 sec.\"\n"
     ]
    },
    {
     "name": "stderr",
     "output_type": "stream",
     "text": [
      "Warning message:\n",
      "“Pareto k diagnostic value is 0.8. Resampling is unreliable. Increasing the number of draws or decreasing tol_rel_obj may help.”\n"
     ]
    },
    {
     "name": "stdout",
     "output_type": "stream",
     "text": [
      "[1] \"994-th simulation finished, 951.078999999998 sec.\"\n"
     ]
    },
    {
     "name": "stderr",
     "output_type": "stream",
     "text": [
      "Warning message:\n",
      "“Pareto k diagnostic value is 0.93. Resampling is unreliable. Increasing the number of draws or decreasing tol_rel_obj may help.”\n"
     ]
    },
    {
     "name": "stdout",
     "output_type": "stream",
     "text": [
      "[1] \"995-th simulation finished, 5.18699999999808 sec.\"\n"
     ]
    },
    {
     "name": "stderr",
     "output_type": "stream",
     "text": [
      "Warning message:\n",
      "“Pareto k diagnostic value is 0.86. Resampling is unreliable. Increasing the number of draws or decreasing tol_rel_obj may help.”\n"
     ]
    },
    {
     "name": "stdout",
     "output_type": "stream",
     "text": [
      "[1] \"996-th simulation finished, 5.14400000000023 sec.\"\n",
      "[1] \"997-th simulation finished, 3.60800000000017 sec.\"\n"
     ]
    },
    {
     "name": "stderr",
     "output_type": "stream",
     "text": [
      "Warning message:\n",
      "“Pareto k diagnostic value is 0.93. Resampling is unreliable. Increasing the number of draws or decreasing tol_rel_obj may help.”\n"
     ]
    },
    {
     "name": "stdout",
     "output_type": "stream",
     "text": [
      "[1] \"998-th simulation finished, 5.21399999999994 sec.\"\n",
      "[1] \"999-th simulation finished, 5.15099999999802 sec.\"\n",
      "[1] \"1000-th simulation finished, 5.0940000000046 sec.\"\n"
     ]
    }
   ],
   "source": [
    "for(iter_sim in 1:num_sim){\n",
    "    start_sim = proc.time()[3]\n",
    "    \n",
    "    data_raw = data %>% filter(sim == iter_sim-1)\n",
    "    data_i = data.frame(country = factor(rep(1,T+T0)),\n",
    "                        date = as.Date(\"2022-01-01\")\n",
    "                               + c(-T0:-1, data_raw$date),\n",
    "                        death = c(rep(NA,T0), data_raw$death),\n",
    "                        intervention = c(rep(0,T0), data_raw$intervention))\n",
    "    \n",
    "    args <- list(rt = rt, inf = inf, obs = deaths, data = data_i, \n",
    "                 seed=12345, refresh=0)\n",
    "    args$algorithm <- \"fullrank\"; args$iter <- 5e4; args$tol_rel_obj <- 1e-3\n",
    "    \n",
    "    fm <- do.call(epim, args)\n",
    "    \n",
    "    results[iter_sim,1:2] = colMeans(as.data.frame(fm$stanfit)[1:2])\n",
    "    results[iter_sim,3:6] = cov(as.data.frame(fm$stanfit)[1:2])\n",
    "    \n",
    "    print(paste0(iter_sim,\"-th simulation finished, \",\n",
    "                 proc.time()[3] - start_sim,\" sec.\"))\n",
    "    flush(stdout())\n",
    "}"
   ]
  },
  {
   "cell_type": "code",
   "execution_count": 16,
   "id": "550a0bc1",
   "metadata": {},
   "outputs": [],
   "source": [
    "write_feather(as.data.frame(results), \n",
    "              'coverage_epidemia_nbinom_randinf_3.feather')"
   ]
  },
  {
   "cell_type": "code",
   "execution_count": null,
   "id": "7efef660",
   "metadata": {},
   "outputs": [],
   "source": []
  }
 ],
 "metadata": {
  "kernelspec": {
   "display_name": "R",
   "language": "R",
   "name": "ir"
  },
  "language_info": {
   "codemirror_mode": "r",
   "file_extension": ".r",
   "mimetype": "text/x-r-source",
   "name": "R",
   "pygments_lexer": "r",
   "version": "4.3.0"
  }
 },
 "nbformat": 4,
 "nbformat_minor": 5
}
